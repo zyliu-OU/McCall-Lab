{
 "cells": [
  {
   "cell_type": "code",
   "execution_count": 1,
   "metadata": {},
   "outputs": [],
   "source": [
    "a <- read.csv(\"03172021-PC-time-LVT-M-F.csv\")"
   ]
  },
  {
   "cell_type": "code",
   "execution_count": 2,
   "metadata": {},
   "outputs": [
    {
     "data": {
      "text/html": [
       "<table>\n",
       "<thead><tr><th scope=col>filename</th><th scope=col>MouseID</th><th scope=col>Treatmentgroup</th><th scope=col>status</th><th scope=col>DPI</th><th scope=col>organ</th><th scope=col>well_position</th><th scope=col>plate</th><th scope=col>mass_400</th><th scope=col>mass_500</th><th scope=col>mass_600</th><th scope=col>mass_700</th><th scope=col>mass_800</th></tr></thead>\n",
       "<tbody>\n",
       "\t<tr><td>X501_Group1A_50dpi_LV_top_251_B_A1_P129.mzXML</td><td>501                                          </td><td>Group1A                                      </td><td>naive                                        </td><td>50                                           </td><td>LV_top                                       </td><td>A1                                           </td><td>P129                                         </td><td>0.08520376                                   </td><td>0.1142493                                    </td><td>0.003061546                                  </td><td>0.012707655                                  </td><td>0.003909090                                  </td></tr>\n",
       "\t<tr><td>X502_Group1A_50dpi_LV_top_252_B_A2_P129.mzXML</td><td>502                                          </td><td>Group1A                                      </td><td>naive                                        </td><td>50                                           </td><td>LV_top                                       </td><td>A2                                           </td><td>P129                                         </td><td>0.09628729                                   </td><td>0.1074087                                    </td><td>0.001904863                                  </td><td>0.009860000                                  </td><td>0.009529682                                  </td></tr>\n",
       "\t<tr><td>X503_Group1A_50dpi_LV_top_253_B_A3_P129.mzXML</td><td>503                                          </td><td>Group1A                                      </td><td>naive                                        </td><td>50                                           </td><td>LV_top                                       </td><td>A3                                           </td><td>P129                                         </td><td>0.09002464                                   </td><td>0.1240029                                    </td><td>0.002197743                                  </td><td>0.008374795                                  </td><td>0.009014913                                  </td></tr>\n",
       "\t<tr><td>X504_Group1A_50dpi_LV_top_254_B_A4_P129.mzXML</td><td>504                                          </td><td>Group1A                                      </td><td>naive                                        </td><td>50                                           </td><td>LV_top                                       </td><td>A4                                           </td><td>P129                                         </td><td>0.07956239                                   </td><td>0.1116952                                    </td><td>0.002840599                                  </td><td>0.009764016                                  </td><td>0.003003261                                  </td></tr>\n",
       "\t<tr><td>X505_Group1A_50dpi_LV_top_255_B_A5_P129.mzXML</td><td>505                                          </td><td>Group1A                                      </td><td>naive                                        </td><td>50                                           </td><td>LV_top                                       </td><td>A5                                           </td><td>P129                                         </td><td>0.07822488                                   </td><td>0.1064598                                    </td><td>0.002835057                                  </td><td>0.014087989                                  </td><td>0.006528662                                  </td></tr>\n",
       "\t<tr><td>X521_Group1A_50dpi_LV_top_256_B_A6_P129.mzXML</td><td>521                                          </td><td>Group1A                                      </td><td>naive                                        </td><td>50                                           </td><td>LV_top                                       </td><td>A6                                           </td><td>P129                                         </td><td>0.08037954                                   </td><td>0.1070000                                    </td><td>0.002012212                                  </td><td>0.011846743                                  </td><td>0.010792394                                  </td></tr>\n",
       "</tbody>\n",
       "</table>\n"
      ],
      "text/latex": [
       "\\begin{tabular}{r|lllllllllllll}\n",
       " filename & MouseID & Treatmentgroup & status & DPI & organ & well\\_position & plate & mass\\_400 & mass\\_500 & mass\\_600 & mass\\_700 & mass\\_800\\\\\n",
       "\\hline\n",
       "\t X501\\_Group1A\\_50dpi\\_LV\\_top\\_251\\_B\\_A1\\_P129.mzXML & 501                                                           & Group1A                                                       & naive                                                         & 50                                                            & LV\\_top                                                      & A1                                                            & P129                                                          & 0.08520376                                                    & 0.1142493                                                     & 0.003061546                                                   & 0.012707655                                                   & 0.003909090                                                  \\\\\n",
       "\t X502\\_Group1A\\_50dpi\\_LV\\_top\\_252\\_B\\_A2\\_P129.mzXML & 502                                                           & Group1A                                                       & naive                                                         & 50                                                            & LV\\_top                                                      & A2                                                            & P129                                                          & 0.09628729                                                    & 0.1074087                                                     & 0.001904863                                                   & 0.009860000                                                   & 0.009529682                                                  \\\\\n",
       "\t X503\\_Group1A\\_50dpi\\_LV\\_top\\_253\\_B\\_A3\\_P129.mzXML & 503                                                           & Group1A                                                       & naive                                                         & 50                                                            & LV\\_top                                                      & A3                                                            & P129                                                          & 0.09002464                                                    & 0.1240029                                                     & 0.002197743                                                   & 0.008374795                                                   & 0.009014913                                                  \\\\\n",
       "\t X504\\_Group1A\\_50dpi\\_LV\\_top\\_254\\_B\\_A4\\_P129.mzXML & 504                                                           & Group1A                                                       & naive                                                         & 50                                                            & LV\\_top                                                      & A4                                                            & P129                                                          & 0.07956239                                                    & 0.1116952                                                     & 0.002840599                                                   & 0.009764016                                                   & 0.003003261                                                  \\\\\n",
       "\t X505\\_Group1A\\_50dpi\\_LV\\_top\\_255\\_B\\_A5\\_P129.mzXML & 505                                                           & Group1A                                                       & naive                                                         & 50                                                            & LV\\_top                                                      & A5                                                            & P129                                                          & 0.07822488                                                    & 0.1064598                                                     & 0.002835057                                                   & 0.014087989                                                   & 0.006528662                                                  \\\\\n",
       "\t X521\\_Group1A\\_50dpi\\_LV\\_top\\_256\\_B\\_A6\\_P129.mzXML & 521                                                           & Group1A                                                       & naive                                                         & 50                                                            & LV\\_top                                                      & A6                                                            & P129                                                          & 0.08037954                                                    & 0.1070000                                                     & 0.002012212                                                   & 0.011846743                                                   & 0.010792394                                                  \\\\\n",
       "\\end{tabular}\n"
      ],
      "text/markdown": [
       "\n",
       "| filename | MouseID | Treatmentgroup | status | DPI | organ | well_position | plate | mass_400 | mass_500 | mass_600 | mass_700 | mass_800 |\n",
       "|---|---|---|---|---|---|---|---|---|---|---|---|---|\n",
       "| X501_Group1A_50dpi_LV_top_251_B_A1_P129.mzXML | 501                                           | Group1A                                       | naive                                         | 50                                            | LV_top                                        | A1                                            | P129                                          | 0.08520376                                    | 0.1142493                                     | 0.003061546                                   | 0.012707655                                   | 0.003909090                                   |\n",
       "| X502_Group1A_50dpi_LV_top_252_B_A2_P129.mzXML | 502                                           | Group1A                                       | naive                                         | 50                                            | LV_top                                        | A2                                            | P129                                          | 0.09628729                                    | 0.1074087                                     | 0.001904863                                   | 0.009860000                                   | 0.009529682                                   |\n",
       "| X503_Group1A_50dpi_LV_top_253_B_A3_P129.mzXML | 503                                           | Group1A                                       | naive                                         | 50                                            | LV_top                                        | A3                                            | P129                                          | 0.09002464                                    | 0.1240029                                     | 0.002197743                                   | 0.008374795                                   | 0.009014913                                   |\n",
       "| X504_Group1A_50dpi_LV_top_254_B_A4_P129.mzXML | 504                                           | Group1A                                       | naive                                         | 50                                            | LV_top                                        | A4                                            | P129                                          | 0.07956239                                    | 0.1116952                                     | 0.002840599                                   | 0.009764016                                   | 0.003003261                                   |\n",
       "| X505_Group1A_50dpi_LV_top_255_B_A5_P129.mzXML | 505                                           | Group1A                                       | naive                                         | 50                                            | LV_top                                        | A5                                            | P129                                          | 0.07822488                                    | 0.1064598                                     | 0.002835057                                   | 0.014087989                                   | 0.006528662                                   |\n",
       "| X521_Group1A_50dpi_LV_top_256_B_A6_P129.mzXML | 521                                           | Group1A                                       | naive                                         | 50                                            | LV_top                                        | A6                                            | P129                                          | 0.08037954                                    | 0.1070000                                     | 0.002012212                                   | 0.011846743                                   | 0.010792394                                   |\n",
       "\n"
      ],
      "text/plain": [
       "  filename                                      MouseID Treatmentgroup status\n",
       "1 X501_Group1A_50dpi_LV_top_251_B_A1_P129.mzXML 501     Group1A        naive \n",
       "2 X502_Group1A_50dpi_LV_top_252_B_A2_P129.mzXML 502     Group1A        naive \n",
       "3 X503_Group1A_50dpi_LV_top_253_B_A3_P129.mzXML 503     Group1A        naive \n",
       "4 X504_Group1A_50dpi_LV_top_254_B_A4_P129.mzXML 504     Group1A        naive \n",
       "5 X505_Group1A_50dpi_LV_top_255_B_A5_P129.mzXML 505     Group1A        naive \n",
       "6 X521_Group1A_50dpi_LV_top_256_B_A6_P129.mzXML 521     Group1A        naive \n",
       "  DPI organ  well_position plate mass_400   mass_500  mass_600    mass_700   \n",
       "1 50  LV_top A1            P129  0.08520376 0.1142493 0.003061546 0.012707655\n",
       "2 50  LV_top A2            P129  0.09628729 0.1074087 0.001904863 0.009860000\n",
       "3 50  LV_top A3            P129  0.09002464 0.1240029 0.002197743 0.008374795\n",
       "4 50  LV_top A4            P129  0.07956239 0.1116952 0.002840599 0.009764016\n",
       "5 50  LV_top A5            P129  0.07822488 0.1064598 0.002835057 0.014087989\n",
       "6 50  LV_top A6            P129  0.08037954 0.1070000 0.002012212 0.011846743\n",
       "  mass_800   \n",
       "1 0.003909090\n",
       "2 0.009529682\n",
       "3 0.009014913\n",
       "4 0.003003261\n",
       "5 0.006528662\n",
       "6 0.010792394"
      ]
     },
     "metadata": {},
     "output_type": "display_data"
    },
    {
     "data": {
      "text/html": [
       "<ol class=list-inline>\n",
       "\t<li>90</li>\n",
       "\t<li>13</li>\n",
       "</ol>\n"
      ],
      "text/latex": [
       "\\begin{enumerate*}\n",
       "\\item 90\n",
       "\\item 13\n",
       "\\end{enumerate*}\n"
      ],
      "text/markdown": [
       "1. 90\n",
       "2. 13\n",
       "\n",
       "\n"
      ],
      "text/plain": [
       "[1] 90 13"
      ]
     },
     "metadata": {},
     "output_type": "display_data"
    }
   ],
   "source": [
    "head(a)\n",
    "dim(a)"
   ]
  },
  {
   "cell_type": "code",
   "execution_count": 3,
   "metadata": {},
   "outputs": [
    {
     "data": {
      "text/html": [
       "<table>\n",
       "<thead><tr><th></th><th scope=col>filename</th><th scope=col>MouseID</th><th scope=col>Treatmentgroup</th><th scope=col>status</th><th scope=col>DPI</th><th scope=col>organ</th><th scope=col>well_position</th><th scope=col>plate</th><th scope=col>mass_400</th><th scope=col>mass_500</th><th scope=col>mass_600</th><th scope=col>mass_700</th><th scope=col>mass_800</th></tr></thead>\n",
       "<tbody>\n",
       "\t<tr><th scope=row>16</th><td>X506_Group1B_70dpi_LV_top_281_B_C7_P129.mzXML </td><td>506                                           </td><td>Group1B                                       </td><td>naive                                         </td><td>75                                            </td><td>LV_top                                        </td><td>C7                                            </td><td>P129                                          </td><td>0.06195728                                    </td><td>0.08822081                                    </td><td>0.003303184                                   </td><td>0.01605239                                    </td><td>0.009774094                                   </td></tr>\n",
       "\t<tr><th scope=row>17</th><td>X507_Group1B_70dpi_LV_top_282_B_C8_P129.mzXML </td><td>507                                           </td><td>Group1B                                       </td><td>naive                                         </td><td>75                                            </td><td>LV_top                                        </td><td>C8                                            </td><td>P129                                          </td><td>0.06201625                                    </td><td>0.06419293                                    </td><td>0.001732098                                   </td><td>0.01068626                                    </td><td>0.005741669                                   </td></tr>\n",
       "\t<tr><th scope=row>18</th><td>X508_Group1B_70dpi_LV_top_283_B_C9_P129.mzXML </td><td>508                                           </td><td>Group1B                                       </td><td>naive                                         </td><td>75                                            </td><td>LV_top                                        </td><td>C9                                            </td><td>P129                                          </td><td>0.04054206                                    </td><td>0.04237079                                    </td><td>0.002343598                                   </td><td>0.01132822                                    </td><td>0.014184150                                   </td></tr>\n",
       "\t<tr><th scope=row>19</th><td>X509_Group1B_70dpi_LV_top_284_B_C10_P129.mzXML</td><td>509                                           </td><td>Group1B                                       </td><td>naive                                         </td><td>75                                            </td><td>LV_top                                        </td><td>C10                                           </td><td>P129                                          </td><td>0.05942631                                    </td><td>0.06480000                                    </td><td>0.002205949                                   </td><td>0.01681509                                    </td><td>0.012132695                                   </td></tr>\n",
       "\t<tr><th scope=row>20</th><td>X510_Group1B_70dpi_LV_top_285_B_C11_P129.mzXML</td><td>510                                           </td><td>Group1B                                       </td><td>naive                                         </td><td>75                                            </td><td>LV_top                                        </td><td>C11                                           </td><td>P129                                          </td><td>0.05271891                                    </td><td>0.07096637                                    </td><td>0.003146978                                   </td><td>0.02232014                                    </td><td>0.013799209                                   </td></tr>\n",
       "\t<tr><th scope=row>21</th><td>X526_Group1B_70dpi_LV_top_286_B_C12_P129.mzXML</td><td>526                                           </td><td>Group1B                                       </td><td>naive                                         </td><td>75                                            </td><td>LV_top                                        </td><td>C12                                           </td><td>P129                                          </td><td>0.03361091                                    </td><td>0.04173296                                    </td><td>0.000921003                                   </td><td>0.01084349                                    </td><td>0.004033887                                   </td></tr>\n",
       "</tbody>\n",
       "</table>\n"
      ],
      "text/latex": [
       "\\begin{tabular}{r|lllllllllllll}\n",
       "  & filename & MouseID & Treatmentgroup & status & DPI & organ & well\\_position & plate & mass\\_400 & mass\\_500 & mass\\_600 & mass\\_700 & mass\\_800\\\\\n",
       "\\hline\n",
       "\t16 & X506\\_Group1B\\_70dpi\\_LV\\_top\\_281\\_B\\_C7\\_P129.mzXML  & 506                                                            & Group1B                                                        & naive                                                          & 75                                                             & LV\\_top                                                       & C7                                                             & P129                                                           & 0.06195728                                                     & 0.08822081                                                     & 0.003303184                                                    & 0.01605239                                                     & 0.009774094                                                   \\\\\n",
       "\t17 & X507\\_Group1B\\_70dpi\\_LV\\_top\\_282\\_B\\_C8\\_P129.mzXML  & 507                                                            & Group1B                                                        & naive                                                          & 75                                                             & LV\\_top                                                       & C8                                                             & P129                                                           & 0.06201625                                                     & 0.06419293                                                     & 0.001732098                                                    & 0.01068626                                                     & 0.005741669                                                   \\\\\n",
       "\t18 & X508\\_Group1B\\_70dpi\\_LV\\_top\\_283\\_B\\_C9\\_P129.mzXML  & 508                                                            & Group1B                                                        & naive                                                          & 75                                                             & LV\\_top                                                       & C9                                                             & P129                                                           & 0.04054206                                                     & 0.04237079                                                     & 0.002343598                                                    & 0.01132822                                                     & 0.014184150                                                   \\\\\n",
       "\t19 & X509\\_Group1B\\_70dpi\\_LV\\_top\\_284\\_B\\_C10\\_P129.mzXML & 509                                                            & Group1B                                                        & naive                                                          & 75                                                             & LV\\_top                                                       & C10                                                            & P129                                                           & 0.05942631                                                     & 0.06480000                                                     & 0.002205949                                                    & 0.01681509                                                     & 0.012132695                                                   \\\\\n",
       "\t20 & X510\\_Group1B\\_70dpi\\_LV\\_top\\_285\\_B\\_C11\\_P129.mzXML & 510                                                            & Group1B                                                        & naive                                                          & 75                                                             & LV\\_top                                                       & C11                                                            & P129                                                           & 0.05271891                                                     & 0.07096637                                                     & 0.003146978                                                    & 0.02232014                                                     & 0.013799209                                                   \\\\\n",
       "\t21 & X526\\_Group1B\\_70dpi\\_LV\\_top\\_286\\_B\\_C12\\_P129.mzXML & 526                                                            & Group1B                                                        & naive                                                          & 75                                                             & LV\\_top                                                       & C12                                                            & P129                                                           & 0.03361091                                                     & 0.04173296                                                     & 0.000921003                                                    & 0.01084349                                                     & 0.004033887                                                   \\\\\n",
       "\\end{tabular}\n"
      ],
      "text/markdown": [
       "\n",
       "| <!--/--> | filename | MouseID | Treatmentgroup | status | DPI | organ | well_position | plate | mass_400 | mass_500 | mass_600 | mass_700 | mass_800 |\n",
       "|---|---|---|---|---|---|---|---|---|---|---|---|---|---|\n",
       "| 16 | X506_Group1B_70dpi_LV_top_281_B_C7_P129.mzXML  | 506                                            | Group1B                                        | naive                                          | 75                                             | LV_top                                         | C7                                             | P129                                           | 0.06195728                                     | 0.08822081                                     | 0.003303184                                    | 0.01605239                                     | 0.009774094                                    |\n",
       "| 17 | X507_Group1B_70dpi_LV_top_282_B_C8_P129.mzXML  | 507                                            | Group1B                                        | naive                                          | 75                                             | LV_top                                         | C8                                             | P129                                           | 0.06201625                                     | 0.06419293                                     | 0.001732098                                    | 0.01068626                                     | 0.005741669                                    |\n",
       "| 18 | X508_Group1B_70dpi_LV_top_283_B_C9_P129.mzXML  | 508                                            | Group1B                                        | naive                                          | 75                                             | LV_top                                         | C9                                             | P129                                           | 0.04054206                                     | 0.04237079                                     | 0.002343598                                    | 0.01132822                                     | 0.014184150                                    |\n",
       "| 19 | X509_Group1B_70dpi_LV_top_284_B_C10_P129.mzXML | 509                                            | Group1B                                        | naive                                          | 75                                             | LV_top                                         | C10                                            | P129                                           | 0.05942631                                     | 0.06480000                                     | 0.002205949                                    | 0.01681509                                     | 0.012132695                                    |\n",
       "| 20 | X510_Group1B_70dpi_LV_top_285_B_C11_P129.mzXML | 510                                            | Group1B                                        | naive                                          | 75                                             | LV_top                                         | C11                                            | P129                                           | 0.05271891                                     | 0.07096637                                     | 0.003146978                                    | 0.02232014                                     | 0.013799209                                    |\n",
       "| 21 | X526_Group1B_70dpi_LV_top_286_B_C12_P129.mzXML | 526                                            | Group1B                                        | naive                                          | 75                                             | LV_top                                         | C12                                            | P129                                           | 0.03361091                                     | 0.04173296                                     | 0.000921003                                    | 0.01084349                                     | 0.004033887                                    |\n",
       "\n"
      ],
      "text/plain": [
       "   filename                                       MouseID Treatmentgroup status\n",
       "16 X506_Group1B_70dpi_LV_top_281_B_C7_P129.mzXML  506     Group1B        naive \n",
       "17 X507_Group1B_70dpi_LV_top_282_B_C8_P129.mzXML  507     Group1B        naive \n",
       "18 X508_Group1B_70dpi_LV_top_283_B_C9_P129.mzXML  508     Group1B        naive \n",
       "19 X509_Group1B_70dpi_LV_top_284_B_C10_P129.mzXML 509     Group1B        naive \n",
       "20 X510_Group1B_70dpi_LV_top_285_B_C11_P129.mzXML 510     Group1B        naive \n",
       "21 X526_Group1B_70dpi_LV_top_286_B_C12_P129.mzXML 526     Group1B        naive \n",
       "   DPI organ  well_position plate mass_400   mass_500   mass_600    mass_700  \n",
       "16 75  LV_top C7            P129  0.06195728 0.08822081 0.003303184 0.01605239\n",
       "17 75  LV_top C8            P129  0.06201625 0.06419293 0.001732098 0.01068626\n",
       "18 75  LV_top C9            P129  0.04054206 0.04237079 0.002343598 0.01132822\n",
       "19 75  LV_top C10           P129  0.05942631 0.06480000 0.002205949 0.01681509\n",
       "20 75  LV_top C11           P129  0.05271891 0.07096637 0.003146978 0.02232014\n",
       "21 75  LV_top C12           P129  0.03361091 0.04173296 0.000921003 0.01084349\n",
       "   mass_800   \n",
       "16 0.009774094\n",
       "17 0.005741669\n",
       "18 0.014184150\n",
       "19 0.012132695\n",
       "20 0.013799209\n",
       "21 0.004033887"
      ]
     },
     "metadata": {},
     "output_type": "display_data"
    },
    {
     "data": {
      "text/html": [
       "<ol class=list-inline>\n",
       "\t<li>30</li>\n",
       "\t<li>13</li>\n",
       "</ol>\n"
      ],
      "text/latex": [
       "\\begin{enumerate*}\n",
       "\\item 30\n",
       "\\item 13\n",
       "\\end{enumerate*}\n"
      ],
      "text/markdown": [
       "1. 30\n",
       "2. 13\n",
       "\n",
       "\n"
      ],
      "text/plain": [
       "[1] 30 13"
      ]
     },
     "metadata": {},
     "output_type": "display_data"
    }
   ],
   "source": [
    "features_pos<-droplevels(subset(a, a$Treatmentgroup==c(\"Group1B\")|a$Treatmentgroup==c(\"Group3B\")))\n",
    "head(features_pos)\n",
    "dim(features_pos)"
   ]
  },
  {
   "cell_type": "code",
   "execution_count": 4,
   "metadata": {
    "scrolled": false
   },
   "outputs": [
    {
     "data": {
      "text/html": [
       "<table>\n",
       "<thead><tr><th></th><th scope=col>mass_400</th><th scope=col>mass_500</th><th scope=col>mass_600</th><th scope=col>mass_700</th><th scope=col>mass_800</th></tr></thead>\n",
       "<tbody>\n",
       "\t<tr><th scope=row>16</th><td>0.06195728 </td><td>0.08822081 </td><td>0.003303184</td><td>0.01605239 </td><td>0.009774094</td></tr>\n",
       "\t<tr><th scope=row>17</th><td>0.06201625 </td><td>0.06419293 </td><td>0.001732098</td><td>0.01068626 </td><td>0.005741669</td></tr>\n",
       "\t<tr><th scope=row>18</th><td>0.04054206 </td><td>0.04237079 </td><td>0.002343598</td><td>0.01132822 </td><td>0.014184150</td></tr>\n",
       "\t<tr><th scope=row>19</th><td>0.05942631 </td><td>0.06480000 </td><td>0.002205949</td><td>0.01681509 </td><td>0.012132695</td></tr>\n",
       "\t<tr><th scope=row>20</th><td>0.05271891 </td><td>0.07096637 </td><td>0.003146978</td><td>0.02232014 </td><td>0.013799209</td></tr>\n",
       "\t<tr><th scope=row>21</th><td>0.03361091 </td><td>0.04173296 </td><td>0.000921003</td><td>0.01084349 </td><td>0.004033887</td></tr>\n",
       "</tbody>\n",
       "</table>\n"
      ],
      "text/latex": [
       "\\begin{tabular}{r|lllll}\n",
       "  & mass\\_400 & mass\\_500 & mass\\_600 & mass\\_700 & mass\\_800\\\\\n",
       "\\hline\n",
       "\t16 & 0.06195728  & 0.08822081  & 0.003303184 & 0.01605239  & 0.009774094\\\\\n",
       "\t17 & 0.06201625  & 0.06419293  & 0.001732098 & 0.01068626  & 0.005741669\\\\\n",
       "\t18 & 0.04054206  & 0.04237079  & 0.002343598 & 0.01132822  & 0.014184150\\\\\n",
       "\t19 & 0.05942631  & 0.06480000  & 0.002205949 & 0.01681509  & 0.012132695\\\\\n",
       "\t20 & 0.05271891  & 0.07096637  & 0.003146978 & 0.02232014  & 0.013799209\\\\\n",
       "\t21 & 0.03361091  & 0.04173296  & 0.000921003 & 0.01084349  & 0.004033887\\\\\n",
       "\\end{tabular}\n"
      ],
      "text/markdown": [
       "\n",
       "| <!--/--> | mass_400 | mass_500 | mass_600 | mass_700 | mass_800 |\n",
       "|---|---|---|---|---|---|\n",
       "| 16 | 0.06195728  | 0.08822081  | 0.003303184 | 0.01605239  | 0.009774094 |\n",
       "| 17 | 0.06201625  | 0.06419293  | 0.001732098 | 0.01068626  | 0.005741669 |\n",
       "| 18 | 0.04054206  | 0.04237079  | 0.002343598 | 0.01132822  | 0.014184150 |\n",
       "| 19 | 0.05942631  | 0.06480000  | 0.002205949 | 0.01681509  | 0.012132695 |\n",
       "| 20 | 0.05271891  | 0.07096637  | 0.003146978 | 0.02232014  | 0.013799209 |\n",
       "| 21 | 0.03361091  | 0.04173296  | 0.000921003 | 0.01084349  | 0.004033887 |\n",
       "\n"
      ],
      "text/plain": [
       "   mass_400   mass_500   mass_600    mass_700   mass_800   \n",
       "16 0.06195728 0.08822081 0.003303184 0.01605239 0.009774094\n",
       "17 0.06201625 0.06419293 0.001732098 0.01068626 0.005741669\n",
       "18 0.04054206 0.04237079 0.002343598 0.01132822 0.014184150\n",
       "19 0.05942631 0.06480000 0.002205949 0.01681509 0.012132695\n",
       "20 0.05271891 0.07096637 0.003146978 0.02232014 0.013799209\n",
       "21 0.03361091 0.04173296 0.000921003 0.01084349 0.004033887"
      ]
     },
     "metadata": {},
     "output_type": "display_data"
    },
    {
     "data": {
      "text/html": [
       "<dl class=dl-horizontal>\n",
       "\t<dt>mass_400</dt>\n",
       "\t\t<dd>1</dd>\n",
       "\t<dt>mass_500</dt>\n",
       "\t\t<dd>2</dd>\n",
       "\t<dt>mass_600</dt>\n",
       "\t\t<dd>3</dd>\n",
       "\t<dt>mass_700</dt>\n",
       "\t\t<dd>4</dd>\n",
       "\t<dt>mass_800</dt>\n",
       "\t\t<dd>5</dd>\n",
       "</dl>\n"
      ],
      "text/latex": [
       "\\begin{description*}\n",
       "\\item[mass\\textbackslash{}\\_400] 1\n",
       "\\item[mass\\textbackslash{}\\_500] 2\n",
       "\\item[mass\\textbackslash{}\\_600] 3\n",
       "\\item[mass\\textbackslash{}\\_700] 4\n",
       "\\item[mass\\textbackslash{}\\_800] 5\n",
       "\\end{description*}\n"
      ],
      "text/markdown": [
       "mass_400\n",
       ":   1mass_500\n",
       ":   2mass_600\n",
       ":   3mass_700\n",
       ":   4mass_800\n",
       ":   5\n",
       "\n"
      ],
      "text/plain": [
       "mass_400 mass_500 mass_600 mass_700 mass_800 \n",
       "       1        2        3        4        5 "
      ]
     },
     "metadata": {},
     "output_type": "display_data"
    },
    {
     "data": {
      "text/html": [
       "<table>\n",
       "<thead><tr><th></th><th scope=col>mass_400</th><th scope=col>mass_500</th><th scope=col>mass_600</th><th scope=col>mass_700</th><th scope=col>mass_800</th></tr></thead>\n",
       "<tbody>\n",
       "\t<tr><th scope=row>16</th><td>0.061957279</td><td>0.088220809</td><td>0.003303184</td><td>0.016052386</td><td>0.009774094</td></tr>\n",
       "\t<tr><th scope=row>17</th><td>0.062016253</td><td>0.064192928</td><td>0.001732098</td><td>0.010686263</td><td>0.005741669</td></tr>\n",
       "\t<tr><th scope=row>18</th><td>0.040542057</td><td>0.042370788</td><td>0.002343598</td><td>0.011328216</td><td>0.014184150</td></tr>\n",
       "\t<tr><th scope=row>19</th><td>0.059426311</td><td>0.064800000</td><td>0.002205949</td><td>0.016815087</td><td>0.012132695</td></tr>\n",
       "\t<tr><th scope=row>20</th><td>0.052718907</td><td>0.070966369</td><td>0.003146978</td><td>0.022320136</td><td>0.013799209</td></tr>\n",
       "\t<tr><th scope=row>21</th><td>0.033610915</td><td>0.041732960</td><td>0.000921003</td><td>0.010843489</td><td>0.004033887</td></tr>\n",
       "\t<tr><th scope=row>22</th><td>0.075716138</td><td>0.114980738</td><td>0.001977188</td><td>0.010781613</td><td>0.005028687</td></tr>\n",
       "\t<tr><th scope=row>23</th><td>0.046040403</td><td>0.064813155</td><td>0.001235786</td><td>0.001384796</td><td>0.001074707</td></tr>\n",
       "\t<tr><th scope=row>24</th><td>0.064217191</td><td>0.080100000</td><td>0.001266525</td><td>0.009433325</td><td>0.004423052</td></tr>\n",
       "\t<tr><th scope=row>25</th><td>0.077257725</td><td>0.094601656</td><td>0.002603262</td><td>0.025897749</td><td>0.016263458</td></tr>\n",
       "\t<tr><th scope=row>26</th><td>0.070355504</td><td>0.083329930</td><td>0.004359015</td><td>0.043882178</td><td>0.014909410</td></tr>\n",
       "\t<tr><th scope=row>27</th><td>0.002012335</td><td>0.001486142</td><td>0.000000000</td><td>0.000000000</td><td>0.000000000</td></tr>\n",
       "\t<tr><th scope=row>28</th><td>0.058282182</td><td>0.082945377</td><td>0.002784595</td><td>0.015488878</td><td>0.007343566</td></tr>\n",
       "\t<tr><th scope=row>29</th><td>0.046834185</td><td>0.076235276</td><td>0.002460563</td><td>0.015386250</td><td>0.007957152</td></tr>\n",
       "\t<tr><th scope=row>30</th><td>0.061432638</td><td>0.092259427</td><td>0.003422796</td><td>0.016227489</td><td>0.010431022</td></tr>\n",
       "\t<tr><th scope=row>61</th><td>0.037213811</td><td>0.055537422</td><td>0.000789219</td><td>0.016500000</td><td>0.013179021</td></tr>\n",
       "\t<tr><th scope=row>62</th><td>0.058042119</td><td>0.077856378</td><td>0.002414743</td><td>0.016844179</td><td>0.024879165</td></tr>\n",
       "\t<tr><th scope=row>63</th><td>0.072888565</td><td>0.069900000</td><td>0.001943947</td><td>0.015600385</td><td>0.018036842</td></tr>\n",
       "\t<tr><th scope=row>64</th><td>0.084869077</td><td>0.107673493</td><td>0.000293965</td><td>0.017200000</td><td>0.015270484</td></tr>\n",
       "\t<tr><th scope=row>65</th><td>0.058672047</td><td>0.065800000</td><td>0.002097572</td><td>0.017008982</td><td>0.019467378</td></tr>\n",
       "\t<tr><th scope=row>66</th><td>0.071359093</td><td>0.087618787</td><td>0.002356424</td><td>0.010579548</td><td>0.004328886</td></tr>\n",
       "\t<tr><th scope=row>67</th><td>0.023419366</td><td>0.018319864</td><td>0.000043900</td><td>0.002134915</td><td>0.001514825</td></tr>\n",
       "\t<tr><th scope=row>68</th><td>0.102511214</td><td>0.121486521</td><td>0.002539164</td><td>0.013414004</td><td>0.012155194</td></tr>\n",
       "\t<tr><th scope=row>69</th><td>0.081598978</td><td>0.105314352</td><td>0.002645070</td><td>0.010911523</td><td>0.013901215</td></tr>\n",
       "\t<tr><th scope=row>70</th><td>0.074298881</td><td>0.086200000</td><td>0.002680143</td><td>0.018266026</td><td>0.014816870</td></tr>\n",
       "\t<tr><th scope=row>71</th><td>0.068388247</td><td>0.062070026</td><td>0.002213491</td><td>0.013901393</td><td>0.018676889</td></tr>\n",
       "\t<tr><th scope=row>72</th><td>0.069597254</td><td>0.074030557</td><td>0.002201785</td><td>0.013764323</td><td>0.018938221</td></tr>\n",
       "\t<tr><th scope=row>73</th><td>0.047768591</td><td>0.051400000</td><td>0.002389316</td><td>0.012458245</td><td>0.017430669</td></tr>\n",
       "\t<tr><th scope=row>74</th><td>0.040306234</td><td>0.034874949</td><td>0.000269854</td><td>0.003463588</td><td>0.001322058</td></tr>\n",
       "\t<tr><th scope=row>75</th><td>0.042259938</td><td>0.039065066</td><td>0.000498882</td><td>0.005832530</td><td>0.004088083</td></tr>\n",
       "</tbody>\n",
       "</table>\n"
      ],
      "text/latex": [
       "\\begin{tabular}{r|lllll}\n",
       "  & mass\\_400 & mass\\_500 & mass\\_600 & mass\\_700 & mass\\_800\\\\\n",
       "\\hline\n",
       "\t16 & 0.061957279 & 0.088220809 & 0.003303184 & 0.016052386 & 0.009774094\\\\\n",
       "\t17 & 0.062016253 & 0.064192928 & 0.001732098 & 0.010686263 & 0.005741669\\\\\n",
       "\t18 & 0.040542057 & 0.042370788 & 0.002343598 & 0.011328216 & 0.014184150\\\\\n",
       "\t19 & 0.059426311 & 0.064800000 & 0.002205949 & 0.016815087 & 0.012132695\\\\\n",
       "\t20 & 0.052718907 & 0.070966369 & 0.003146978 & 0.022320136 & 0.013799209\\\\\n",
       "\t21 & 0.033610915 & 0.041732960 & 0.000921003 & 0.010843489 & 0.004033887\\\\\n",
       "\t22 & 0.075716138 & 0.114980738 & 0.001977188 & 0.010781613 & 0.005028687\\\\\n",
       "\t23 & 0.046040403 & 0.064813155 & 0.001235786 & 0.001384796 & 0.001074707\\\\\n",
       "\t24 & 0.064217191 & 0.080100000 & 0.001266525 & 0.009433325 & 0.004423052\\\\\n",
       "\t25 & 0.077257725 & 0.094601656 & 0.002603262 & 0.025897749 & 0.016263458\\\\\n",
       "\t26 & 0.070355504 & 0.083329930 & 0.004359015 & 0.043882178 & 0.014909410\\\\\n",
       "\t27 & 0.002012335 & 0.001486142 & 0.000000000 & 0.000000000 & 0.000000000\\\\\n",
       "\t28 & 0.058282182 & 0.082945377 & 0.002784595 & 0.015488878 & 0.007343566\\\\\n",
       "\t29 & 0.046834185 & 0.076235276 & 0.002460563 & 0.015386250 & 0.007957152\\\\\n",
       "\t30 & 0.061432638 & 0.092259427 & 0.003422796 & 0.016227489 & 0.010431022\\\\\n",
       "\t61 & 0.037213811 & 0.055537422 & 0.000789219 & 0.016500000 & 0.013179021\\\\\n",
       "\t62 & 0.058042119 & 0.077856378 & 0.002414743 & 0.016844179 & 0.024879165\\\\\n",
       "\t63 & 0.072888565 & 0.069900000 & 0.001943947 & 0.015600385 & 0.018036842\\\\\n",
       "\t64 & 0.084869077 & 0.107673493 & 0.000293965 & 0.017200000 & 0.015270484\\\\\n",
       "\t65 & 0.058672047 & 0.065800000 & 0.002097572 & 0.017008982 & 0.019467378\\\\\n",
       "\t66 & 0.071359093 & 0.087618787 & 0.002356424 & 0.010579548 & 0.004328886\\\\\n",
       "\t67 & 0.023419366 & 0.018319864 & 0.000043900 & 0.002134915 & 0.001514825\\\\\n",
       "\t68 & 0.102511214 & 0.121486521 & 0.002539164 & 0.013414004 & 0.012155194\\\\\n",
       "\t69 & 0.081598978 & 0.105314352 & 0.002645070 & 0.010911523 & 0.013901215\\\\\n",
       "\t70 & 0.074298881 & 0.086200000 & 0.002680143 & 0.018266026 & 0.014816870\\\\\n",
       "\t71 & 0.068388247 & 0.062070026 & 0.002213491 & 0.013901393 & 0.018676889\\\\\n",
       "\t72 & 0.069597254 & 0.074030557 & 0.002201785 & 0.013764323 & 0.018938221\\\\\n",
       "\t73 & 0.047768591 & 0.051400000 & 0.002389316 & 0.012458245 & 0.017430669\\\\\n",
       "\t74 & 0.040306234 & 0.034874949 & 0.000269854 & 0.003463588 & 0.001322058\\\\\n",
       "\t75 & 0.042259938 & 0.039065066 & 0.000498882 & 0.005832530 & 0.004088083\\\\\n",
       "\\end{tabular}\n"
      ],
      "text/markdown": [
       "\n",
       "| <!--/--> | mass_400 | mass_500 | mass_600 | mass_700 | mass_800 |\n",
       "|---|---|---|---|---|---|\n",
       "| 16 | 0.061957279 | 0.088220809 | 0.003303184 | 0.016052386 | 0.009774094 |\n",
       "| 17 | 0.062016253 | 0.064192928 | 0.001732098 | 0.010686263 | 0.005741669 |\n",
       "| 18 | 0.040542057 | 0.042370788 | 0.002343598 | 0.011328216 | 0.014184150 |\n",
       "| 19 | 0.059426311 | 0.064800000 | 0.002205949 | 0.016815087 | 0.012132695 |\n",
       "| 20 | 0.052718907 | 0.070966369 | 0.003146978 | 0.022320136 | 0.013799209 |\n",
       "| 21 | 0.033610915 | 0.041732960 | 0.000921003 | 0.010843489 | 0.004033887 |\n",
       "| 22 | 0.075716138 | 0.114980738 | 0.001977188 | 0.010781613 | 0.005028687 |\n",
       "| 23 | 0.046040403 | 0.064813155 | 0.001235786 | 0.001384796 | 0.001074707 |\n",
       "| 24 | 0.064217191 | 0.080100000 | 0.001266525 | 0.009433325 | 0.004423052 |\n",
       "| 25 | 0.077257725 | 0.094601656 | 0.002603262 | 0.025897749 | 0.016263458 |\n",
       "| 26 | 0.070355504 | 0.083329930 | 0.004359015 | 0.043882178 | 0.014909410 |\n",
       "| 27 | 0.002012335 | 0.001486142 | 0.000000000 | 0.000000000 | 0.000000000 |\n",
       "| 28 | 0.058282182 | 0.082945377 | 0.002784595 | 0.015488878 | 0.007343566 |\n",
       "| 29 | 0.046834185 | 0.076235276 | 0.002460563 | 0.015386250 | 0.007957152 |\n",
       "| 30 | 0.061432638 | 0.092259427 | 0.003422796 | 0.016227489 | 0.010431022 |\n",
       "| 61 | 0.037213811 | 0.055537422 | 0.000789219 | 0.016500000 | 0.013179021 |\n",
       "| 62 | 0.058042119 | 0.077856378 | 0.002414743 | 0.016844179 | 0.024879165 |\n",
       "| 63 | 0.072888565 | 0.069900000 | 0.001943947 | 0.015600385 | 0.018036842 |\n",
       "| 64 | 0.084869077 | 0.107673493 | 0.000293965 | 0.017200000 | 0.015270484 |\n",
       "| 65 | 0.058672047 | 0.065800000 | 0.002097572 | 0.017008982 | 0.019467378 |\n",
       "| 66 | 0.071359093 | 0.087618787 | 0.002356424 | 0.010579548 | 0.004328886 |\n",
       "| 67 | 0.023419366 | 0.018319864 | 0.000043900 | 0.002134915 | 0.001514825 |\n",
       "| 68 | 0.102511214 | 0.121486521 | 0.002539164 | 0.013414004 | 0.012155194 |\n",
       "| 69 | 0.081598978 | 0.105314352 | 0.002645070 | 0.010911523 | 0.013901215 |\n",
       "| 70 | 0.074298881 | 0.086200000 | 0.002680143 | 0.018266026 | 0.014816870 |\n",
       "| 71 | 0.068388247 | 0.062070026 | 0.002213491 | 0.013901393 | 0.018676889 |\n",
       "| 72 | 0.069597254 | 0.074030557 | 0.002201785 | 0.013764323 | 0.018938221 |\n",
       "| 73 | 0.047768591 | 0.051400000 | 0.002389316 | 0.012458245 | 0.017430669 |\n",
       "| 74 | 0.040306234 | 0.034874949 | 0.000269854 | 0.003463588 | 0.001322058 |\n",
       "| 75 | 0.042259938 | 0.039065066 | 0.000498882 | 0.005832530 | 0.004088083 |\n",
       "\n"
      ],
      "text/plain": [
       "   mass_400    mass_500    mass_600    mass_700    mass_800   \n",
       "16 0.061957279 0.088220809 0.003303184 0.016052386 0.009774094\n",
       "17 0.062016253 0.064192928 0.001732098 0.010686263 0.005741669\n",
       "18 0.040542057 0.042370788 0.002343598 0.011328216 0.014184150\n",
       "19 0.059426311 0.064800000 0.002205949 0.016815087 0.012132695\n",
       "20 0.052718907 0.070966369 0.003146978 0.022320136 0.013799209\n",
       "21 0.033610915 0.041732960 0.000921003 0.010843489 0.004033887\n",
       "22 0.075716138 0.114980738 0.001977188 0.010781613 0.005028687\n",
       "23 0.046040403 0.064813155 0.001235786 0.001384796 0.001074707\n",
       "24 0.064217191 0.080100000 0.001266525 0.009433325 0.004423052\n",
       "25 0.077257725 0.094601656 0.002603262 0.025897749 0.016263458\n",
       "26 0.070355504 0.083329930 0.004359015 0.043882178 0.014909410\n",
       "27 0.002012335 0.001486142 0.000000000 0.000000000 0.000000000\n",
       "28 0.058282182 0.082945377 0.002784595 0.015488878 0.007343566\n",
       "29 0.046834185 0.076235276 0.002460563 0.015386250 0.007957152\n",
       "30 0.061432638 0.092259427 0.003422796 0.016227489 0.010431022\n",
       "61 0.037213811 0.055537422 0.000789219 0.016500000 0.013179021\n",
       "62 0.058042119 0.077856378 0.002414743 0.016844179 0.024879165\n",
       "63 0.072888565 0.069900000 0.001943947 0.015600385 0.018036842\n",
       "64 0.084869077 0.107673493 0.000293965 0.017200000 0.015270484\n",
       "65 0.058672047 0.065800000 0.002097572 0.017008982 0.019467378\n",
       "66 0.071359093 0.087618787 0.002356424 0.010579548 0.004328886\n",
       "67 0.023419366 0.018319864 0.000043900 0.002134915 0.001514825\n",
       "68 0.102511214 0.121486521 0.002539164 0.013414004 0.012155194\n",
       "69 0.081598978 0.105314352 0.002645070 0.010911523 0.013901215\n",
       "70 0.074298881 0.086200000 0.002680143 0.018266026 0.014816870\n",
       "71 0.068388247 0.062070026 0.002213491 0.013901393 0.018676889\n",
       "72 0.069597254 0.074030557 0.002201785 0.013764323 0.018938221\n",
       "73 0.047768591 0.051400000 0.002389316 0.012458245 0.017430669\n",
       "74 0.040306234 0.034874949 0.000269854 0.003463588 0.001322058\n",
       "75 0.042259938 0.039065066 0.000498882 0.005832530 0.004088083"
      ]
     },
     "metadata": {},
     "output_type": "display_data"
    },
    {
     "data": {
      "text/html": [
       "<table>\n",
       "<thead><tr><th></th><th scope=col>filename</th><th scope=col>MouseID</th><th scope=col>Treatmentgroup</th><th scope=col>status</th><th scope=col>DPI</th><th scope=col>organ</th><th scope=col>well_position</th><th scope=col>plate</th><th scope=col>mass_400</th><th scope=col>mass_500</th><th scope=col>mass_600</th><th scope=col>mass_700</th><th scope=col>mass_800</th></tr></thead>\n",
       "<tbody>\n",
       "\t<tr><th scope=row>16</th><td>X506_Group1B_70dpi_LV_top_281_B_C7_P129.mzXML </td><td>506                                           </td><td>Group1B                                       </td><td>naive                                         </td><td>75                                            </td><td>LV_top                                        </td><td>C7                                            </td><td>P129                                          </td><td>0.06195728                                    </td><td>0.08822081                                    </td><td>0.003303184                                   </td><td>0.01605239                                    </td><td>0.009774094                                   </td></tr>\n",
       "\t<tr><th scope=row>17</th><td>X507_Group1B_70dpi_LV_top_282_B_C8_P129.mzXML </td><td>507                                           </td><td>Group1B                                       </td><td>naive                                         </td><td>75                                            </td><td>LV_top                                        </td><td>C8                                            </td><td>P129                                          </td><td>0.06201625                                    </td><td>0.06419293                                    </td><td>0.001732098                                   </td><td>0.01068626                                    </td><td>0.005741669                                   </td></tr>\n",
       "\t<tr><th scope=row>18</th><td>X508_Group1B_70dpi_LV_top_283_B_C9_P129.mzXML </td><td>508                                           </td><td>Group1B                                       </td><td>naive                                         </td><td>75                                            </td><td>LV_top                                        </td><td>C9                                            </td><td>P129                                          </td><td>0.04054206                                    </td><td>0.04237079                                    </td><td>0.002343598                                   </td><td>0.01132822                                    </td><td>0.014184150                                   </td></tr>\n",
       "\t<tr><th scope=row>19</th><td>X509_Group1B_70dpi_LV_top_284_B_C10_P129.mzXML</td><td>509                                           </td><td>Group1B                                       </td><td>naive                                         </td><td>75                                            </td><td>LV_top                                        </td><td>C10                                           </td><td>P129                                          </td><td>0.05942631                                    </td><td>0.06480000                                    </td><td>0.002205949                                   </td><td>0.01681509                                    </td><td>0.012132695                                   </td></tr>\n",
       "\t<tr><th scope=row>20</th><td>X510_Group1B_70dpi_LV_top_285_B_C11_P129.mzXML</td><td>510                                           </td><td>Group1B                                       </td><td>naive                                         </td><td>75                                            </td><td>LV_top                                        </td><td>C11                                           </td><td>P129                                          </td><td>0.05271891                                    </td><td>0.07096637                                    </td><td>0.003146978                                   </td><td>0.02232014                                    </td><td>0.013799209                                   </td></tr>\n",
       "\t<tr><th scope=row>21</th><td>X526_Group1B_70dpi_LV_top_286_B_C12_P129.mzXML</td><td>526                                           </td><td>Group1B                                       </td><td>naive                                         </td><td>75                                            </td><td>LV_top                                        </td><td>C12                                           </td><td>P129                                          </td><td>0.03361091                                    </td><td>0.04173296                                    </td><td>0.000921003                                   </td><td>0.01084349                                    </td><td>0.004033887                                   </td></tr>\n",
       "</tbody>\n",
       "</table>\n"
      ],
      "text/latex": [
       "\\begin{tabular}{r|lllllllllllll}\n",
       "  & filename & MouseID & Treatmentgroup & status & DPI & organ & well\\_position & plate & mass\\_400 & mass\\_500 & mass\\_600 & mass\\_700 & mass\\_800\\\\\n",
       "\\hline\n",
       "\t16 & X506\\_Group1B\\_70dpi\\_LV\\_top\\_281\\_B\\_C7\\_P129.mzXML  & 506                                                            & Group1B                                                        & naive                                                          & 75                                                             & LV\\_top                                                       & C7                                                             & P129                                                           & 0.06195728                                                     & 0.08822081                                                     & 0.003303184                                                    & 0.01605239                                                     & 0.009774094                                                   \\\\\n",
       "\t17 & X507\\_Group1B\\_70dpi\\_LV\\_top\\_282\\_B\\_C8\\_P129.mzXML  & 507                                                            & Group1B                                                        & naive                                                          & 75                                                             & LV\\_top                                                       & C8                                                             & P129                                                           & 0.06201625                                                     & 0.06419293                                                     & 0.001732098                                                    & 0.01068626                                                     & 0.005741669                                                   \\\\\n",
       "\t18 & X508\\_Group1B\\_70dpi\\_LV\\_top\\_283\\_B\\_C9\\_P129.mzXML  & 508                                                            & Group1B                                                        & naive                                                          & 75                                                             & LV\\_top                                                       & C9                                                             & P129                                                           & 0.04054206                                                     & 0.04237079                                                     & 0.002343598                                                    & 0.01132822                                                     & 0.014184150                                                   \\\\\n",
       "\t19 & X509\\_Group1B\\_70dpi\\_LV\\_top\\_284\\_B\\_C10\\_P129.mzXML & 509                                                            & Group1B                                                        & naive                                                          & 75                                                             & LV\\_top                                                       & C10                                                            & P129                                                           & 0.05942631                                                     & 0.06480000                                                     & 0.002205949                                                    & 0.01681509                                                     & 0.012132695                                                   \\\\\n",
       "\t20 & X510\\_Group1B\\_70dpi\\_LV\\_top\\_285\\_B\\_C11\\_P129.mzXML & 510                                                            & Group1B                                                        & naive                                                          & 75                                                             & LV\\_top                                                       & C11                                                            & P129                                                           & 0.05271891                                                     & 0.07096637                                                     & 0.003146978                                                    & 0.02232014                                                     & 0.013799209                                                   \\\\\n",
       "\t21 & X526\\_Group1B\\_70dpi\\_LV\\_top\\_286\\_B\\_C12\\_P129.mzXML & 526                                                            & Group1B                                                        & naive                                                          & 75                                                             & LV\\_top                                                       & C12                                                            & P129                                                           & 0.03361091                                                     & 0.04173296                                                     & 0.000921003                                                    & 0.01084349                                                     & 0.004033887                                                   \\\\\n",
       "\\end{tabular}\n"
      ],
      "text/markdown": [
       "\n",
       "| <!--/--> | filename | MouseID | Treatmentgroup | status | DPI | organ | well_position | plate | mass_400 | mass_500 | mass_600 | mass_700 | mass_800 |\n",
       "|---|---|---|---|---|---|---|---|---|---|---|---|---|---|\n",
       "| 16 | X506_Group1B_70dpi_LV_top_281_B_C7_P129.mzXML  | 506                                            | Group1B                                        | naive                                          | 75                                             | LV_top                                         | C7                                             | P129                                           | 0.06195728                                     | 0.08822081                                     | 0.003303184                                    | 0.01605239                                     | 0.009774094                                    |\n",
       "| 17 | X507_Group1B_70dpi_LV_top_282_B_C8_P129.mzXML  | 507                                            | Group1B                                        | naive                                          | 75                                             | LV_top                                         | C8                                             | P129                                           | 0.06201625                                     | 0.06419293                                     | 0.001732098                                    | 0.01068626                                     | 0.005741669                                    |\n",
       "| 18 | X508_Group1B_70dpi_LV_top_283_B_C9_P129.mzXML  | 508                                            | Group1B                                        | naive                                          | 75                                             | LV_top                                         | C9                                             | P129                                           | 0.04054206                                     | 0.04237079                                     | 0.002343598                                    | 0.01132822                                     | 0.014184150                                    |\n",
       "| 19 | X509_Group1B_70dpi_LV_top_284_B_C10_P129.mzXML | 509                                            | Group1B                                        | naive                                          | 75                                             | LV_top                                         | C10                                            | P129                                           | 0.05942631                                     | 0.06480000                                     | 0.002205949                                    | 0.01681509                                     | 0.012132695                                    |\n",
       "| 20 | X510_Group1B_70dpi_LV_top_285_B_C11_P129.mzXML | 510                                            | Group1B                                        | naive                                          | 75                                             | LV_top                                         | C11                                            | P129                                           | 0.05271891                                     | 0.07096637                                     | 0.003146978                                    | 0.02232014                                     | 0.013799209                                    |\n",
       "| 21 | X526_Group1B_70dpi_LV_top_286_B_C12_P129.mzXML | 526                                            | Group1B                                        | naive                                          | 75                                             | LV_top                                         | C12                                            | P129                                           | 0.03361091                                     | 0.04173296                                     | 0.000921003                                    | 0.01084349                                     | 0.004033887                                    |\n",
       "\n"
      ],
      "text/plain": [
       "   filename                                       MouseID Treatmentgroup status\n",
       "16 X506_Group1B_70dpi_LV_top_281_B_C7_P129.mzXML  506     Group1B        naive \n",
       "17 X507_Group1B_70dpi_LV_top_282_B_C8_P129.mzXML  507     Group1B        naive \n",
       "18 X508_Group1B_70dpi_LV_top_283_B_C9_P129.mzXML  508     Group1B        naive \n",
       "19 X509_Group1B_70dpi_LV_top_284_B_C10_P129.mzXML 509     Group1B        naive \n",
       "20 X510_Group1B_70dpi_LV_top_285_B_C11_P129.mzXML 510     Group1B        naive \n",
       "21 X526_Group1B_70dpi_LV_top_286_B_C12_P129.mzXML 526     Group1B        naive \n",
       "   DPI organ  well_position plate mass_400   mass_500   mass_600    mass_700  \n",
       "16 75  LV_top C7            P129  0.06195728 0.08822081 0.003303184 0.01605239\n",
       "17 75  LV_top C8            P129  0.06201625 0.06419293 0.001732098 0.01068626\n",
       "18 75  LV_top C9            P129  0.04054206 0.04237079 0.002343598 0.01132822\n",
       "19 75  LV_top C10           P129  0.05942631 0.06480000 0.002205949 0.01681509\n",
       "20 75  LV_top C11           P129  0.05271891 0.07096637 0.003146978 0.02232014\n",
       "21 75  LV_top C12           P129  0.03361091 0.04173296 0.000921003 0.01084349\n",
       "   mass_800   \n",
       "16 0.009774094\n",
       "17 0.005741669\n",
       "18 0.014184150\n",
       "19 0.012132695\n",
       "20 0.013799209\n",
       "21 0.004033887"
      ]
     },
     "metadata": {},
     "output_type": "display_data"
    },
    {
     "data": {
      "text/html": [
       "<ol class=list-inline>\n",
       "\t<li>30</li>\n",
       "\t<li>13</li>\n",
       "</ol>\n"
      ],
      "text/latex": [
       "\\begin{enumerate*}\n",
       "\\item 30\n",
       "\\item 13\n",
       "\\end{enumerate*}\n"
      ],
      "text/markdown": [
       "1. 30\n",
       "2. 13\n",
       "\n",
       "\n"
      ],
      "text/plain": [
       "[1] 30 13"
      ]
     },
     "metadata": {},
     "output_type": "display_data"
    },
    {
     "data": {
      "text/html": [
       "<ol class=list-inline>\n",
       "\t<li>30</li>\n",
       "\t<li>5</li>\n",
       "</ol>\n"
      ],
      "text/latex": [
       "\\begin{enumerate*}\n",
       "\\item 30\n",
       "\\item 5\n",
       "\\end{enumerate*}\n"
      ],
      "text/markdown": [
       "1. 30\n",
       "2. 5\n",
       "\n",
       "\n"
      ],
      "text/plain": [
       "[1] 30  5"
      ]
     },
     "metadata": {},
     "output_type": "display_data"
    },
    {
     "data": {
      "text/html": [
       "<ol class=list-inline>\n",
       "\t<li>30</li>\n",
       "\t<li>5</li>\n",
       "</ol>\n"
      ],
      "text/latex": [
       "\\begin{enumerate*}\n",
       "\\item 30\n",
       "\\item 5\n",
       "\\end{enumerate*}\n"
      ],
      "text/markdown": [
       "1. 30\n",
       "2. 5\n",
       "\n",
       "\n"
      ],
      "text/plain": [
       "[1] 30  5"
      ]
     },
     "metadata": {},
     "output_type": "display_data"
    },
    {
     "data": {
      "text/html": [
       "<ol class=list-inline>\n",
       "\t<li>30</li>\n",
       "\t<li>13</li>\n",
       "</ol>\n"
      ],
      "text/latex": [
       "\\begin{enumerate*}\n",
       "\\item 30\n",
       "\\item 13\n",
       "\\end{enumerate*}\n"
      ],
      "text/markdown": [
       "1. 30\n",
       "2. 13\n",
       "\n",
       "\n"
      ],
      "text/plain": [
       "[1] 30 13"
      ]
     },
     "metadata": {},
     "output_type": "display_data"
    }
   ],
   "source": [
    "noMeta<-features_pos[,9:13]\n",
    "head(noMeta)\n",
    "not_zero<-which(colSums(noMeta) != 0)\n",
    "head(not_zero)\n",
    "nonzero <- noMeta[, not_zero] \n",
    "nonzero\n",
    "nonzero_wMeta<-cbind(features_pos[,1:8], nonzero)\n",
    "head(nonzero_wMeta)\n",
    "dim(features_pos)\n",
    "dim(noMeta)\n",
    "dim(nonzero)\n",
    "dim(nonzero_wMeta)"
   ]
  },
  {
   "cell_type": "code",
   "execution_count": 5,
   "metadata": {
    "scrolled": true
   },
   "outputs": [
    {
     "data": {
      "text/html": [
       "<ol class=list-inline>\n",
       "\t<li>0.389233298727313</li>\n",
       "\t<li>0.743702065375981</li>\n",
       "\t<li>0.216856638760083</li>\n",
       "\t<li>0.967417297543179</li>\n",
       "\t<li>0.0453338990979227</li>\n",
       "</ol>\n"
      ],
      "text/latex": [
       "\\begin{enumerate*}\n",
       "\\item 0.389233298727313\n",
       "\\item 0.743702065375981\n",
       "\\item 0.216856638760083\n",
       "\\item 0.967417297543179\n",
       "\\item 0.0453338990979227\n",
       "\\end{enumerate*}\n"
      ],
      "text/markdown": [
       "1. 0.389233298727313\n",
       "2. 0.743702065375981\n",
       "3. 0.216856638760083\n",
       "4. 0.967417297543179\n",
       "5. 0.0453338990979227\n",
       "\n",
       "\n"
      ],
      "text/plain": [
       "[1] 0.3892333 0.7437021 0.2168566 0.9674173 0.0453339"
      ]
     },
     "metadata": {},
     "output_type": "display_data"
    },
    {
     "data": {
      "text/html": [
       "<ol class=list-inline>\n",
       "\t<li>0.648722164545522</li>\n",
       "\t<li>0.929627581719976</li>\n",
       "\t<li>0.542141596900208</li>\n",
       "\t<li>0.967417297543179</li>\n",
       "\t<li>0.226669495489613</li>\n",
       "</ol>\n"
      ],
      "text/latex": [
       "\\begin{enumerate*}\n",
       "\\item 0.648722164545522\n",
       "\\item 0.929627581719976\n",
       "\\item 0.542141596900208\n",
       "\\item 0.967417297543179\n",
       "\\item 0.226669495489613\n",
       "\\end{enumerate*}\n"
      ],
      "text/markdown": [
       "1. 0.648722164545522\n",
       "2. 0.929627581719976\n",
       "3. 0.542141596900208\n",
       "4. 0.967417297543179\n",
       "5. 0.226669495489613\n",
       "\n",
       "\n"
      ],
      "text/plain": [
       "[1] 0.6487222 0.9296276 0.5421416 0.9674173 0.2266695"
      ]
     },
     "metadata": {},
     "output_type": "display_data"
    }
   ],
   "source": [
    "pval<-c()\n",
    "\n",
    "for (i in 9:ncol(nonzero_wMeta)) \n",
    "pval<-c(pval,wilcox.test(nonzero_wMeta[,i]~nonzero_wMeta$Treatmentgroup)$p.value)\n",
    "head(pval)\n",
    "pAdj <- p.adjust(pval, method = c(\"fdr\"), n=length(pval)) \n",
    "head(pAdj) \n",
    "\n"
   ]
  },
  {
   "cell_type": "code",
   "execution_count": 6,
   "metadata": {
    "scrolled": true
   },
   "outputs": [
    {
     "data": {
      "text/html": [
       "5"
      ],
      "text/latex": [
       "5"
      ],
      "text/markdown": [
       "5"
      ],
      "text/plain": [
       "[1] 5"
      ]
     },
     "metadata": {},
     "output_type": "display_data"
    }
   ],
   "source": [
    "length(pval)"
   ]
  },
  {
   "cell_type": "code",
   "execution_count": 7,
   "metadata": {
    "scrolled": true
   },
   "outputs": [
    {
     "data": {
      "text/html": [
       "5"
      ],
      "text/latex": [
       "5"
      ],
      "text/markdown": [
       "5"
      ],
      "text/plain": [
       "[1] 5"
      ]
     },
     "metadata": {},
     "output_type": "display_data"
    }
   ],
   "source": [
    "length(pAdj)"
   ]
  },
  {
   "cell_type": "code",
   "execution_count": 8,
   "metadata": {},
   "outputs": [
    {
     "data": {
      "text/html": [
       "<ol class=list-inline>\n",
       "\t<li>2</li>\n",
       "\t<li>5</li>\n",
       "</ol>\n"
      ],
      "text/latex": [
       "\\begin{enumerate*}\n",
       "\\item 2\n",
       "\\item 5\n",
       "\\end{enumerate*}\n"
      ],
      "text/markdown": [
       "1. 2\n",
       "2. 5\n",
       "\n",
       "\n"
      ],
      "text/plain": [
       "[1] 2 5"
      ]
     },
     "metadata": {},
     "output_type": "display_data"
    },
    {
     "data": {
      "text/html": [
       "<table>\n",
       "<thead><tr><th></th><th scope=col>mass_400</th><th scope=col>mass_500</th><th scope=col>mass_600</th></tr></thead>\n",
       "<tbody>\n",
       "\t<tr><th scope=row>Group1B</th><td>0.05416133 </td><td>0.07086904 </td><td>0.002250836</td></tr>\n",
       "\t<tr><th scope=row>Group3B</th><td>0.06221289 </td><td>0.07047649 </td><td>0.001691832</td></tr>\n",
       "</tbody>\n",
       "</table>\n"
      ],
      "text/latex": [
       "\\begin{tabular}{r|lll}\n",
       "  & mass\\_400 & mass\\_500 & mass\\_600\\\\\n",
       "\\hline\n",
       "\tGroup1B & 0.05416133  & 0.07086904  & 0.002250836\\\\\n",
       "\tGroup3B & 0.06221289  & 0.07047649  & 0.001691832\\\\\n",
       "\\end{tabular}\n"
      ],
      "text/markdown": [
       "\n",
       "| <!--/--> | mass_400 | mass_500 | mass_600 |\n",
       "|---|---|---|---|\n",
       "| Group1B | 0.05416133  | 0.07086904  | 0.002250836 |\n",
       "| Group3B | 0.06221289  | 0.07047649  | 0.001691832 |\n",
       "\n"
      ],
      "text/plain": [
       "        mass_400   mass_500   mass_600   \n",
       "Group1B 0.05416133 0.07086904 0.002250836\n",
       "Group3B 0.06221289 0.07047649 0.001691832"
      ]
     },
     "metadata": {},
     "output_type": "display_data"
    },
    {
     "data": {
      "text/html": [
       "<dl class=dl-horizontal>\n",
       "\t<dt>mass_400</dt>\n",
       "\t\t<dd>0.870580535547392</dd>\n",
       "\t<dt>mass_500</dt>\n",
       "\t\t<dd>1.00556983814788</dd>\n",
       "\t<dt>mass_600</dt>\n",
       "\t\t<dd>1.33041368378848</dd>\n",
       "\t<dt>mass_700</dt>\n",
       "\t\t<dd>1.20570730172941</dd>\n",
       "\t<dt>mass_800</dt>\n",
       "\t\t<dd>0.641884015518737</dd>\n",
       "</dl>\n"
      ],
      "text/latex": [
       "\\begin{description*}\n",
       "\\item[mass\\textbackslash{}\\_400] 0.870580535547392\n",
       "\\item[mass\\textbackslash{}\\_500] 1.00556983814788\n",
       "\\item[mass\\textbackslash{}\\_600] 1.33041368378848\n",
       "\\item[mass\\textbackslash{}\\_700] 1.20570730172941\n",
       "\\item[mass\\textbackslash{}\\_800] 0.641884015518737\n",
       "\\end{description*}\n"
      ],
      "text/markdown": [
       "mass_400\n",
       ":   0.870580535547392mass_500\n",
       ":   1.00556983814788mass_600\n",
       ":   1.33041368378848mass_700\n",
       ":   1.20570730172941mass_800\n",
       ":   0.641884015518737\n",
       "\n"
      ],
      "text/plain": [
       " mass_400  mass_500  mass_600  mass_700  mass_800 \n",
       "0.8705805 1.0055698 1.3304137 1.2057073 0.6418840 "
      ]
     },
     "metadata": {},
     "output_type": "display_data"
    },
    {
     "data": {
      "text/html": [
       "<ol class=list-inline>\n",
       "\t<li>'numeric'</li>\n",
       "\t<li>'vector'</li>\n",
       "</ol>\n"
      ],
      "text/latex": [
       "\\begin{enumerate*}\n",
       "\\item 'numeric'\n",
       "\\item 'vector'\n",
       "\\end{enumerate*}\n"
      ],
      "text/markdown": [
       "1. 'numeric'\n",
       "2. 'vector'\n",
       "\n",
       "\n"
      ],
      "text/plain": [
       "[1] \"numeric\" \"vector\" "
      ]
     },
     "metadata": {},
     "output_type": "display_data"
    }
   ],
   "source": [
    "avg<- apply(nonzero_wMeta[,9:ncol(nonzero_wMeta)], 2, function(x) tapply(x, nonzero_wMeta$Treatmentgroup, function(x) mean(x))) \n",
    "\n",
    "dim(avg) \n",
    "\n",
    "avg[,1:3]\n",
    "\n",
    "fch <- apply(avg, 2, function(x) x[1]/x[2]) \n",
    "\n",
    "head(fch)\n",
    "is(fch)"
   ]
  },
  {
   "cell_type": "code",
   "execution_count": 9,
   "metadata": {
    "scrolled": true
   },
   "outputs": [
    {
     "data": {
      "text/html": [
       "<dl class=dl-horizontal>\n",
       "\t<dt>mass_400</dt>\n",
       "\t\t<dd>0.870580535547392</dd>\n",
       "\t<dt>mass_500</dt>\n",
       "\t\t<dd>1.00556983814788</dd>\n",
       "\t<dt>mass_600</dt>\n",
       "\t\t<dd>1.33041368378848</dd>\n",
       "\t<dt>mass_700</dt>\n",
       "\t\t<dd>1.20570730172941</dd>\n",
       "\t<dt>mass_800</dt>\n",
       "\t\t<dd>0.641884015518737</dd>\n",
       "</dl>\n"
      ],
      "text/latex": [
       "\\begin{description*}\n",
       "\\item[mass\\textbackslash{}\\_400] 0.870580535547392\n",
       "\\item[mass\\textbackslash{}\\_500] 1.00556983814788\n",
       "\\item[mass\\textbackslash{}\\_600] 1.33041368378848\n",
       "\\item[mass\\textbackslash{}\\_700] 1.20570730172941\n",
       "\\item[mass\\textbackslash{}\\_800] 0.641884015518737\n",
       "\\end{description*}\n"
      ],
      "text/markdown": [
       "mass_400\n",
       ":   0.870580535547392mass_500\n",
       ":   1.00556983814788mass_600\n",
       ":   1.33041368378848mass_700\n",
       ":   1.20570730172941mass_800\n",
       ":   0.641884015518737\n",
       "\n"
      ],
      "text/plain": [
       " mass_400  mass_500  mass_600  mass_700  mass_800 \n",
       "0.8705805 1.0055698 1.3304137 1.2057073 0.6418840 "
      ]
     },
     "metadata": {},
     "output_type": "display_data"
    }
   ],
   "source": [
    "fch"
   ]
  },
  {
   "cell_type": "code",
   "execution_count": 10,
   "metadata": {
    "scrolled": false
   },
   "outputs": [],
   "source": [
    "df <- data.frame(fch,pval, pAdj)\n",
    "write.csv(df, \"PC-time-LVT-wilcox-1B-3B.csv\")"
   ]
  },
  {
   "cell_type": "code",
   "execution_count": null,
   "metadata": {},
   "outputs": [],
   "source": []
  },
  {
   "cell_type": "code",
   "execution_count": null,
   "metadata": {},
   "outputs": [],
   "source": []
  },
  {
   "cell_type": "code",
   "execution_count": null,
   "metadata": {},
   "outputs": [],
   "source": []
  },
  {
   "cell_type": "code",
   "execution_count": null,
   "metadata": {},
   "outputs": [],
   "source": []
  },
  {
   "cell_type": "code",
   "execution_count": null,
   "metadata": {},
   "outputs": [],
   "source": []
  },
  {
   "cell_type": "code",
   "execution_count": null,
   "metadata": {},
   "outputs": [],
   "source": []
  }
 ],
 "metadata": {
  "kernelspec": {
   "display_name": "R",
   "language": "R",
   "name": "ir"
  },
  "language_info": {
   "codemirror_mode": "r",
   "file_extension": ".r",
   "mimetype": "text/x-r-source",
   "name": "R",
   "pygments_lexer": "r",
   "version": "3.6.1"
  }
 },
 "nbformat": 4,
 "nbformat_minor": 2
}
