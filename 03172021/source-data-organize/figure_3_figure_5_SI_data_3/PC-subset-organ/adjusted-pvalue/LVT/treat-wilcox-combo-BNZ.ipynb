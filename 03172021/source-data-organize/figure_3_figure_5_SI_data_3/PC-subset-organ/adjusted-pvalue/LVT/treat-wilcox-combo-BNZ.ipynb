{
 "cells": [
  {
   "cell_type": "code",
   "execution_count": 11,
   "metadata": {},
   "outputs": [],
   "source": [
    "a <- read.csv(\"03172021-PC-treatment-LVT-M-F.csv\")"
   ]
  },
  {
   "cell_type": "code",
   "execution_count": 12,
   "metadata": {},
   "outputs": [
    {
     "data": {
      "text/html": [
       "<table>\n",
       "<thead><tr><th scope=col>filename</th><th scope=col>MouseID</th><th scope=col>Treatmentgroup</th><th scope=col>DPI</th><th scope=col>organ</th><th scope=col>well_position</th><th scope=col>plate</th><th scope=col>mass_400</th><th scope=col>mass_500</th><th scope=col>mass_600</th><th scope=col>mass_700</th><th scope=col>mass_800</th></tr></thead>\n",
       "<tbody>\n",
       "\t<tr><td>X511_Group1C_142dpi_LV_top_161_G_A1_P128.mzXML</td><td>511                                           </td><td>naive                                         </td><td>142dpi                                        </td><td>LV_top                                        </td><td>A1                                            </td><td>P128                                          </td><td>0.06556544                                    </td><td>0.09573166                                    </td><td>0.002550993                                   </td><td>0.005125326                                   </td><td>0.004634527                                   </td></tr>\n",
       "\t<tr><td>X512_Group1C_142dpi_LV_top_162_G_A2_P128.mzXML</td><td>512                                           </td><td>naive                                         </td><td>142dpi                                        </td><td>LV_top                                        </td><td>A2                                            </td><td>P128                                          </td><td>0.06089544                                    </td><td>0.08531598                                    </td><td>0.001798692                                   </td><td>0.002720909                                   </td><td>0.002227292                                   </td></tr>\n",
       "\t<tr><td>X513_Group1C_142dpi_LV_top_163_G_A3_P128.mzXML</td><td>513                                           </td><td>naive                                         </td><td>142dpi                                        </td><td>LV_top                                        </td><td>A3                                            </td><td>P128                                          </td><td>0.06358250                                    </td><td>0.15053308                                    </td><td>0.004499186                                   </td><td>0.015100000                                   </td><td>0.023117551                                   </td></tr>\n",
       "\t<tr><td>X514_Group1C_142dpi_LV_top_164_G_A4_P128.mzXML</td><td>514                                           </td><td>naive                                         </td><td>142dpi                                        </td><td>LV_top                                        </td><td>A4                                            </td><td>P128                                          </td><td>0.06126091                                    </td><td>0.06998223                                    </td><td>0.001322410                                   </td><td>0.001122947                                   </td><td>0.001015702                                   </td></tr>\n",
       "\t<tr><td>X515_Group1C_142dpi_LV_top_165_G_A5_P128.mzXML</td><td>515                                           </td><td>naive                                         </td><td>142dpi                                        </td><td>LV_top                                        </td><td>A5                                            </td><td>P128                                          </td><td>0.09292099                                    </td><td>0.14679559                                    </td><td>0.003463710                                   </td><td>0.015600000                                   </td><td>0.019521396                                   </td></tr>\n",
       "\t<tr><td>X531_Group1C_142dpi_LV_top_166_G_A6_P128.mzXML</td><td>531                                           </td><td>naive                                         </td><td>142dpi                                        </td><td>LV_top                                        </td><td>A6                                            </td><td>P128                                          </td><td>0.08085245                                    </td><td>0.14170698                                    </td><td>0.003290438                                   </td><td>0.013793976                                   </td><td>0.011966565                                   </td></tr>\n",
       "</tbody>\n",
       "</table>\n"
      ],
      "text/latex": [
       "\\begin{tabular}{r|llllllllllll}\n",
       " filename & MouseID & Treatmentgroup & DPI & organ & well\\_position & plate & mass\\_400 & mass\\_500 & mass\\_600 & mass\\_700 & mass\\_800\\\\\n",
       "\\hline\n",
       "\t X511\\_Group1C\\_142dpi\\_LV\\_top\\_161\\_G\\_A1\\_P128.mzXML & 511                                                            & naive                                                          & 142dpi                                                         & LV\\_top                                                       & A1                                                             & P128                                                           & 0.06556544                                                     & 0.09573166                                                     & 0.002550993                                                    & 0.005125326                                                    & 0.004634527                                                   \\\\\n",
       "\t X512\\_Group1C\\_142dpi\\_LV\\_top\\_162\\_G\\_A2\\_P128.mzXML & 512                                                            & naive                                                          & 142dpi                                                         & LV\\_top                                                       & A2                                                             & P128                                                           & 0.06089544                                                     & 0.08531598                                                     & 0.001798692                                                    & 0.002720909                                                    & 0.002227292                                                   \\\\\n",
       "\t X513\\_Group1C\\_142dpi\\_LV\\_top\\_163\\_G\\_A3\\_P128.mzXML & 513                                                            & naive                                                          & 142dpi                                                         & LV\\_top                                                       & A3                                                             & P128                                                           & 0.06358250                                                     & 0.15053308                                                     & 0.004499186                                                    & 0.015100000                                                    & 0.023117551                                                   \\\\\n",
       "\t X514\\_Group1C\\_142dpi\\_LV\\_top\\_164\\_G\\_A4\\_P128.mzXML & 514                                                            & naive                                                          & 142dpi                                                         & LV\\_top                                                       & A4                                                             & P128                                                           & 0.06126091                                                     & 0.06998223                                                     & 0.001322410                                                    & 0.001122947                                                    & 0.001015702                                                   \\\\\n",
       "\t X515\\_Group1C\\_142dpi\\_LV\\_top\\_165\\_G\\_A5\\_P128.mzXML & 515                                                            & naive                                                          & 142dpi                                                         & LV\\_top                                                       & A5                                                             & P128                                                           & 0.09292099                                                     & 0.14679559                                                     & 0.003463710                                                    & 0.015600000                                                    & 0.019521396                                                   \\\\\n",
       "\t X531\\_Group1C\\_142dpi\\_LV\\_top\\_166\\_G\\_A6\\_P128.mzXML & 531                                                            & naive                                                          & 142dpi                                                         & LV\\_top                                                       & A6                                                             & P128                                                           & 0.08085245                                                     & 0.14170698                                                     & 0.003290438                                                    & 0.013793976                                                    & 0.011966565                                                   \\\\\n",
       "\\end{tabular}\n"
      ],
      "text/markdown": [
       "\n",
       "| filename | MouseID | Treatmentgroup | DPI | organ | well_position | plate | mass_400 | mass_500 | mass_600 | mass_700 | mass_800 |\n",
       "|---|---|---|---|---|---|---|---|---|---|---|---|\n",
       "| X511_Group1C_142dpi_LV_top_161_G_A1_P128.mzXML | 511                                            | naive                                          | 142dpi                                         | LV_top                                         | A1                                             | P128                                           | 0.06556544                                     | 0.09573166                                     | 0.002550993                                    | 0.005125326                                    | 0.004634527                                    |\n",
       "| X512_Group1C_142dpi_LV_top_162_G_A2_P128.mzXML | 512                                            | naive                                          | 142dpi                                         | LV_top                                         | A2                                             | P128                                           | 0.06089544                                     | 0.08531598                                     | 0.001798692                                    | 0.002720909                                    | 0.002227292                                    |\n",
       "| X513_Group1C_142dpi_LV_top_163_G_A3_P128.mzXML | 513                                            | naive                                          | 142dpi                                         | LV_top                                         | A3                                             | P128                                           | 0.06358250                                     | 0.15053308                                     | 0.004499186                                    | 0.015100000                                    | 0.023117551                                    |\n",
       "| X514_Group1C_142dpi_LV_top_164_G_A4_P128.mzXML | 514                                            | naive                                          | 142dpi                                         | LV_top                                         | A4                                             | P128                                           | 0.06126091                                     | 0.06998223                                     | 0.001322410                                    | 0.001122947                                    | 0.001015702                                    |\n",
       "| X515_Group1C_142dpi_LV_top_165_G_A5_P128.mzXML | 515                                            | naive                                          | 142dpi                                         | LV_top                                         | A5                                             | P128                                           | 0.09292099                                     | 0.14679559                                     | 0.003463710                                    | 0.015600000                                    | 0.019521396                                    |\n",
       "| X531_Group1C_142dpi_LV_top_166_G_A6_P128.mzXML | 531                                            | naive                                          | 142dpi                                         | LV_top                                         | A6                                             | P128                                           | 0.08085245                                     | 0.14170698                                     | 0.003290438                                    | 0.013793976                                    | 0.011966565                                    |\n",
       "\n"
      ],
      "text/plain": [
       "  filename                                       MouseID Treatmentgroup DPI   \n",
       "1 X511_Group1C_142dpi_LV_top_161_G_A1_P128.mzXML 511     naive          142dpi\n",
       "2 X512_Group1C_142dpi_LV_top_162_G_A2_P128.mzXML 512     naive          142dpi\n",
       "3 X513_Group1C_142dpi_LV_top_163_G_A3_P128.mzXML 513     naive          142dpi\n",
       "4 X514_Group1C_142dpi_LV_top_164_G_A4_P128.mzXML 514     naive          142dpi\n",
       "5 X515_Group1C_142dpi_LV_top_165_G_A5_P128.mzXML 515     naive          142dpi\n",
       "6 X531_Group1C_142dpi_LV_top_166_G_A6_P128.mzXML 531     naive          142dpi\n",
       "  organ  well_position plate mass_400   mass_500   mass_600    mass_700   \n",
       "1 LV_top A1            P128  0.06556544 0.09573166 0.002550993 0.005125326\n",
       "2 LV_top A2            P128  0.06089544 0.08531598 0.001798692 0.002720909\n",
       "3 LV_top A3            P128  0.06358250 0.15053308 0.004499186 0.015100000\n",
       "4 LV_top A4            P128  0.06126091 0.06998223 0.001322410 0.001122947\n",
       "5 LV_top A5            P128  0.09292099 0.14679559 0.003463710 0.015600000\n",
       "6 LV_top A6            P128  0.08085245 0.14170698 0.003290438 0.013793976\n",
       "  mass_800   \n",
       "1 0.004634527\n",
       "2 0.002227292\n",
       "3 0.023117551\n",
       "4 0.001015702\n",
       "5 0.019521396\n",
       "6 0.011966565"
      ]
     },
     "metadata": {},
     "output_type": "display_data"
    },
    {
     "data": {
      "text/html": [
       "<ol class=list-inline>\n",
       "\t<li>60</li>\n",
       "\t<li>12</li>\n",
       "</ol>\n"
      ],
      "text/latex": [
       "\\begin{enumerate*}\n",
       "\\item 60\n",
       "\\item 12\n",
       "\\end{enumerate*}\n"
      ],
      "text/markdown": [
       "1. 60\n",
       "2. 12\n",
       "\n",
       "\n"
      ],
      "text/plain": [
       "[1] 60 12"
      ]
     },
     "metadata": {},
     "output_type": "display_data"
    }
   ],
   "source": [
    "head(a)\n",
    "dim(a)"
   ]
  },
  {
   "cell_type": "code",
   "execution_count": 13,
   "metadata": {},
   "outputs": [
    {
     "data": {
      "text/html": [
       "<table>\n",
       "<thead><tr><th></th><th scope=col>filename</th><th scope=col>MouseID</th><th scope=col>Treatmentgroup</th><th scope=col>DPI</th><th scope=col>organ</th><th scope=col>well_position</th><th scope=col>plate</th><th scope=col>mass_400</th><th scope=col>mass_500</th><th scope=col>mass_600</th><th scope=col>mass_700</th><th scope=col>mass_800</th></tr></thead>\n",
       "<tbody>\n",
       "\t<tr><th scope=row>21</th><td>X611_Group9_142dpi_LV_top_181_G_B9_P128.mzXML </td><td>611                                           </td><td>combo                                         </td><td>142dpi                                        </td><td>LV_top                                        </td><td>B9                                            </td><td>P128                                          </td><td>0.04435074                                    </td><td>0.10357424                                    </td><td>0.002740302                                   </td><td>0.014637169                                   </td><td>0.013619342                                   </td></tr>\n",
       "\t<tr><th scope=row>22</th><td>X612_Group9_142dpi_LV_top_182_G_B10_P128.mzXML</td><td>612                                           </td><td>combo                                         </td><td>142dpi                                        </td><td>LV_top                                        </td><td>B10                                           </td><td>P128                                          </td><td>0.05074441                                    </td><td>0.05399513                                    </td><td>0.000439880                                   </td><td>0.000000000                                   </td><td>0.000000000                                   </td></tr>\n",
       "\t<tr><th scope=row>23</th><td>X613_Group9_142dpi_LV_top_183_G_B11_P128.mzXML</td><td>613                                           </td><td>combo                                         </td><td>142dpi                                        </td><td>LV_top                                        </td><td>B11                                           </td><td>P128                                          </td><td>0.08402096                                    </td><td>0.10322091                                    </td><td>0.001080063                                   </td><td>0.007954710                                   </td><td>0.006277986                                   </td></tr>\n",
       "\t<tr><th scope=row>24</th><td>X614_Group9_142dpi_LV_top_184_G_B12_P128.mzXML</td><td>614                                           </td><td>combo                                         </td><td>142dpi                                        </td><td>LV_top                                        </td><td>B12                                           </td><td>P128                                          </td><td>0.06495959                                    </td><td>0.08120000                                    </td><td>0.002153735                                   </td><td>0.005573463                                   </td><td>0.003175823                                   </td></tr>\n",
       "\t<tr><th scope=row>25</th><td>X615_Group9_142dpi_LV_top_185_G_C1_P128.mzXML </td><td>615                                           </td><td>combo                                         </td><td>142dpi                                        </td><td>LV_top                                        </td><td>C1                                            </td><td>P128                                          </td><td>0.10998592                                    </td><td>0.10900000                                    </td><td>0.002556324                                   </td><td>0.017670957                                   </td><td>0.020444511                                   </td></tr>\n",
       "\t<tr><th scope=row>26</th><td>X631_Group15_142dpi_LV_top_191_G_C7_P128.mzXML</td><td>631                                           </td><td>BNZ                                           </td><td>142dpi                                        </td><td>LV_top                                        </td><td>C7                                            </td><td>P128                                          </td><td>0.04250555                                    </td><td>0.06810000                                    </td><td>0.001996656                                   </td><td>0.005245484                                   </td><td>0.002712673                                   </td></tr>\n",
       "</tbody>\n",
       "</table>\n"
      ],
      "text/latex": [
       "\\begin{tabular}{r|llllllllllll}\n",
       "  & filename & MouseID & Treatmentgroup & DPI & organ & well\\_position & plate & mass\\_400 & mass\\_500 & mass\\_600 & mass\\_700 & mass\\_800\\\\\n",
       "\\hline\n",
       "\t21 & X611\\_Group9\\_142dpi\\_LV\\_top\\_181\\_G\\_B9\\_P128.mzXML  & 611                                                            & combo                                                          & 142dpi                                                         & LV\\_top                                                       & B9                                                             & P128                                                           & 0.04435074                                                     & 0.10357424                                                     & 0.002740302                                                    & 0.014637169                                                    & 0.013619342                                                   \\\\\n",
       "\t22 & X612\\_Group9\\_142dpi\\_LV\\_top\\_182\\_G\\_B10\\_P128.mzXML & 612                                                            & combo                                                          & 142dpi                                                         & LV\\_top                                                       & B10                                                            & P128                                                           & 0.05074441                                                     & 0.05399513                                                     & 0.000439880                                                    & 0.000000000                                                    & 0.000000000                                                   \\\\\n",
       "\t23 & X613\\_Group9\\_142dpi\\_LV\\_top\\_183\\_G\\_B11\\_P128.mzXML & 613                                                            & combo                                                          & 142dpi                                                         & LV\\_top                                                       & B11                                                            & P128                                                           & 0.08402096                                                     & 0.10322091                                                     & 0.001080063                                                    & 0.007954710                                                    & 0.006277986                                                   \\\\\n",
       "\t24 & X614\\_Group9\\_142dpi\\_LV\\_top\\_184\\_G\\_B12\\_P128.mzXML & 614                                                            & combo                                                          & 142dpi                                                         & LV\\_top                                                       & B12                                                            & P128                                                           & 0.06495959                                                     & 0.08120000                                                     & 0.002153735                                                    & 0.005573463                                                    & 0.003175823                                                   \\\\\n",
       "\t25 & X615\\_Group9\\_142dpi\\_LV\\_top\\_185\\_G\\_C1\\_P128.mzXML  & 615                                                            & combo                                                          & 142dpi                                                         & LV\\_top                                                       & C1                                                             & P128                                                           & 0.10998592                                                     & 0.10900000                                                     & 0.002556324                                                    & 0.017670957                                                    & 0.020444511                                                   \\\\\n",
       "\t26 & X631\\_Group15\\_142dpi\\_LV\\_top\\_191\\_G\\_C7\\_P128.mzXML & 631                                                            & BNZ                                                            & 142dpi                                                         & LV\\_top                                                       & C7                                                             & P128                                                           & 0.04250555                                                     & 0.06810000                                                     & 0.001996656                                                    & 0.005245484                                                    & 0.002712673                                                   \\\\\n",
       "\\end{tabular}\n"
      ],
      "text/markdown": [
       "\n",
       "| <!--/--> | filename | MouseID | Treatmentgroup | DPI | organ | well_position | plate | mass_400 | mass_500 | mass_600 | mass_700 | mass_800 |\n",
       "|---|---|---|---|---|---|---|---|---|---|---|---|---|\n",
       "| 21 | X611_Group9_142dpi_LV_top_181_G_B9_P128.mzXML  | 611                                            | combo                                          | 142dpi                                         | LV_top                                         | B9                                             | P128                                           | 0.04435074                                     | 0.10357424                                     | 0.002740302                                    | 0.014637169                                    | 0.013619342                                    |\n",
       "| 22 | X612_Group9_142dpi_LV_top_182_G_B10_P128.mzXML | 612                                            | combo                                          | 142dpi                                         | LV_top                                         | B10                                            | P128                                           | 0.05074441                                     | 0.05399513                                     | 0.000439880                                    | 0.000000000                                    | 0.000000000                                    |\n",
       "| 23 | X613_Group9_142dpi_LV_top_183_G_B11_P128.mzXML | 613                                            | combo                                          | 142dpi                                         | LV_top                                         | B11                                            | P128                                           | 0.08402096                                     | 0.10322091                                     | 0.001080063                                    | 0.007954710                                    | 0.006277986                                    |\n",
       "| 24 | X614_Group9_142dpi_LV_top_184_G_B12_P128.mzXML | 614                                            | combo                                          | 142dpi                                         | LV_top                                         | B12                                            | P128                                           | 0.06495959                                     | 0.08120000                                     | 0.002153735                                    | 0.005573463                                    | 0.003175823                                    |\n",
       "| 25 | X615_Group9_142dpi_LV_top_185_G_C1_P128.mzXML  | 615                                            | combo                                          | 142dpi                                         | LV_top                                         | C1                                             | P128                                           | 0.10998592                                     | 0.10900000                                     | 0.002556324                                    | 0.017670957                                    | 0.020444511                                    |\n",
       "| 26 | X631_Group15_142dpi_LV_top_191_G_C7_P128.mzXML | 631                                            | BNZ                                            | 142dpi                                         | LV_top                                         | C7                                             | P128                                           | 0.04250555                                     | 0.06810000                                     | 0.001996656                                    | 0.005245484                                    | 0.002712673                                    |\n",
       "\n"
      ],
      "text/plain": [
       "   filename                                       MouseID Treatmentgroup DPI   \n",
       "21 X611_Group9_142dpi_LV_top_181_G_B9_P128.mzXML  611     combo          142dpi\n",
       "22 X612_Group9_142dpi_LV_top_182_G_B10_P128.mzXML 612     combo          142dpi\n",
       "23 X613_Group9_142dpi_LV_top_183_G_B11_P128.mzXML 613     combo          142dpi\n",
       "24 X614_Group9_142dpi_LV_top_184_G_B12_P128.mzXML 614     combo          142dpi\n",
       "25 X615_Group9_142dpi_LV_top_185_G_C1_P128.mzXML  615     combo          142dpi\n",
       "26 X631_Group15_142dpi_LV_top_191_G_C7_P128.mzXML 631     BNZ            142dpi\n",
       "   organ  well_position plate mass_400   mass_500   mass_600    mass_700   \n",
       "21 LV_top B9            P128  0.04435074 0.10357424 0.002740302 0.014637169\n",
       "22 LV_top B10           P128  0.05074441 0.05399513 0.000439880 0.000000000\n",
       "23 LV_top B11           P128  0.08402096 0.10322091 0.001080063 0.007954710\n",
       "24 LV_top B12           P128  0.06495959 0.08120000 0.002153735 0.005573463\n",
       "25 LV_top C1            P128  0.10998592 0.10900000 0.002556324 0.017670957\n",
       "26 LV_top C7            P128  0.04250555 0.06810000 0.001996656 0.005245484\n",
       "   mass_800   \n",
       "21 0.013619342\n",
       "22 0.000000000\n",
       "23 0.006277986\n",
       "24 0.003175823\n",
       "25 0.020444511\n",
       "26 0.002712673"
      ]
     },
     "metadata": {},
     "output_type": "display_data"
    },
    {
     "data": {
      "text/html": [
       "<ol class=list-inline>\n",
       "\t<li>30</li>\n",
       "\t<li>12</li>\n",
       "</ol>\n"
      ],
      "text/latex": [
       "\\begin{enumerate*}\n",
       "\\item 30\n",
       "\\item 12\n",
       "\\end{enumerate*}\n"
      ],
      "text/markdown": [
       "1. 30\n",
       "2. 12\n",
       "\n",
       "\n"
      ],
      "text/plain": [
       "[1] 30 12"
      ]
     },
     "metadata": {},
     "output_type": "display_data"
    }
   ],
   "source": [
    "features_pos<-droplevels(subset(a, a$Treatmentgroup==c(\"combo\")|a$Treatmentgroup==c(\"BNZ\")))\n",
    "head(features_pos)\n",
    "dim(features_pos)"
   ]
  },
  {
   "cell_type": "code",
   "execution_count": 14,
   "metadata": {
    "scrolled": false
   },
   "outputs": [
    {
     "data": {
      "text/html": [
       "<table>\n",
       "<thead><tr><th></th><th scope=col>mass_400</th><th scope=col>mass_500</th><th scope=col>mass_600</th><th scope=col>mass_700</th><th scope=col>mass_800</th></tr></thead>\n",
       "<tbody>\n",
       "\t<tr><th scope=row>21</th><td>0.04435074 </td><td>0.10357424 </td><td>0.002740302</td><td>0.014637169</td><td>0.013619342</td></tr>\n",
       "\t<tr><th scope=row>22</th><td>0.05074441 </td><td>0.05399513 </td><td>0.000439880</td><td>0.000000000</td><td>0.000000000</td></tr>\n",
       "\t<tr><th scope=row>23</th><td>0.08402096 </td><td>0.10322091 </td><td>0.001080063</td><td>0.007954710</td><td>0.006277986</td></tr>\n",
       "\t<tr><th scope=row>24</th><td>0.06495959 </td><td>0.08120000 </td><td>0.002153735</td><td>0.005573463</td><td>0.003175823</td></tr>\n",
       "\t<tr><th scope=row>25</th><td>0.10998592 </td><td>0.10900000 </td><td>0.002556324</td><td>0.017670957</td><td>0.020444511</td></tr>\n",
       "\t<tr><th scope=row>26</th><td>0.04250555 </td><td>0.06810000 </td><td>0.001996656</td><td>0.005245484</td><td>0.002712673</td></tr>\n",
       "</tbody>\n",
       "</table>\n"
      ],
      "text/latex": [
       "\\begin{tabular}{r|lllll}\n",
       "  & mass\\_400 & mass\\_500 & mass\\_600 & mass\\_700 & mass\\_800\\\\\n",
       "\\hline\n",
       "\t21 & 0.04435074  & 0.10357424  & 0.002740302 & 0.014637169 & 0.013619342\\\\\n",
       "\t22 & 0.05074441  & 0.05399513  & 0.000439880 & 0.000000000 & 0.000000000\\\\\n",
       "\t23 & 0.08402096  & 0.10322091  & 0.001080063 & 0.007954710 & 0.006277986\\\\\n",
       "\t24 & 0.06495959  & 0.08120000  & 0.002153735 & 0.005573463 & 0.003175823\\\\\n",
       "\t25 & 0.10998592  & 0.10900000  & 0.002556324 & 0.017670957 & 0.020444511\\\\\n",
       "\t26 & 0.04250555  & 0.06810000  & 0.001996656 & 0.005245484 & 0.002712673\\\\\n",
       "\\end{tabular}\n"
      ],
      "text/markdown": [
       "\n",
       "| <!--/--> | mass_400 | mass_500 | mass_600 | mass_700 | mass_800 |\n",
       "|---|---|---|---|---|---|\n",
       "| 21 | 0.04435074  | 0.10357424  | 0.002740302 | 0.014637169 | 0.013619342 |\n",
       "| 22 | 0.05074441  | 0.05399513  | 0.000439880 | 0.000000000 | 0.000000000 |\n",
       "| 23 | 0.08402096  | 0.10322091  | 0.001080063 | 0.007954710 | 0.006277986 |\n",
       "| 24 | 0.06495959  | 0.08120000  | 0.002153735 | 0.005573463 | 0.003175823 |\n",
       "| 25 | 0.10998592  | 0.10900000  | 0.002556324 | 0.017670957 | 0.020444511 |\n",
       "| 26 | 0.04250555  | 0.06810000  | 0.001996656 | 0.005245484 | 0.002712673 |\n",
       "\n"
      ],
      "text/plain": [
       "   mass_400   mass_500   mass_600    mass_700    mass_800   \n",
       "21 0.04435074 0.10357424 0.002740302 0.014637169 0.013619342\n",
       "22 0.05074441 0.05399513 0.000439880 0.000000000 0.000000000\n",
       "23 0.08402096 0.10322091 0.001080063 0.007954710 0.006277986\n",
       "24 0.06495959 0.08120000 0.002153735 0.005573463 0.003175823\n",
       "25 0.10998592 0.10900000 0.002556324 0.017670957 0.020444511\n",
       "26 0.04250555 0.06810000 0.001996656 0.005245484 0.002712673"
      ]
     },
     "metadata": {},
     "output_type": "display_data"
    },
    {
     "data": {
      "text/html": [
       "<dl class=dl-horizontal>\n",
       "\t<dt>mass_400</dt>\n",
       "\t\t<dd>1</dd>\n",
       "\t<dt>mass_500</dt>\n",
       "\t\t<dd>2</dd>\n",
       "\t<dt>mass_600</dt>\n",
       "\t\t<dd>3</dd>\n",
       "\t<dt>mass_700</dt>\n",
       "\t\t<dd>4</dd>\n",
       "\t<dt>mass_800</dt>\n",
       "\t\t<dd>5</dd>\n",
       "</dl>\n"
      ],
      "text/latex": [
       "\\begin{description*}\n",
       "\\item[mass\\textbackslash{}\\_400] 1\n",
       "\\item[mass\\textbackslash{}\\_500] 2\n",
       "\\item[mass\\textbackslash{}\\_600] 3\n",
       "\\item[mass\\textbackslash{}\\_700] 4\n",
       "\\item[mass\\textbackslash{}\\_800] 5\n",
       "\\end{description*}\n"
      ],
      "text/markdown": [
       "mass_400\n",
       ":   1mass_500\n",
       ":   2mass_600\n",
       ":   3mass_700\n",
       ":   4mass_800\n",
       ":   5\n",
       "\n"
      ],
      "text/plain": [
       "mass_400 mass_500 mass_600 mass_700 mass_800 \n",
       "       1        2        3        4        5 "
      ]
     },
     "metadata": {},
     "output_type": "display_data"
    },
    {
     "data": {
      "text/html": [
       "<table>\n",
       "<thead><tr><th></th><th scope=col>mass_400</th><th scope=col>mass_500</th><th scope=col>mass_600</th><th scope=col>mass_700</th><th scope=col>mass_800</th></tr></thead>\n",
       "<tbody>\n",
       "\t<tr><th scope=row>21</th><td>0.04435074 </td><td>0.10357424 </td><td>0.002740302</td><td>0.014637169</td><td>0.013619342</td></tr>\n",
       "\t<tr><th scope=row>22</th><td>0.05074441 </td><td>0.05399513 </td><td>0.000439880</td><td>0.000000000</td><td>0.000000000</td></tr>\n",
       "\t<tr><th scope=row>23</th><td>0.08402096 </td><td>0.10322091 </td><td>0.001080063</td><td>0.007954710</td><td>0.006277986</td></tr>\n",
       "\t<tr><th scope=row>24</th><td>0.06495959 </td><td>0.08120000 </td><td>0.002153735</td><td>0.005573463</td><td>0.003175823</td></tr>\n",
       "\t<tr><th scope=row>25</th><td>0.10998592 </td><td>0.10900000 </td><td>0.002556324</td><td>0.017670957</td><td>0.020444511</td></tr>\n",
       "\t<tr><th scope=row>26</th><td>0.04250555 </td><td>0.06810000 </td><td>0.001996656</td><td>0.005245484</td><td>0.002712673</td></tr>\n",
       "\t<tr><th scope=row>27</th><td>0.06395580 </td><td>0.07920000 </td><td>0.002032787</td><td>0.011451280</td><td>0.002012197</td></tr>\n",
       "\t<tr><th scope=row>28</th><td>0.05782735 </td><td>0.08800000 </td><td>0.002118670</td><td>0.013101616</td><td>0.009078375</td></tr>\n",
       "\t<tr><th scope=row>29</th><td>0.06491834 </td><td>0.08179934 </td><td>0.001220877</td><td>0.002648015</td><td>0.000264120</td></tr>\n",
       "\t<tr><th scope=row>30</th><td>0.04528353 </td><td>0.06423167 </td><td>0.000753063</td><td>0.021040028</td><td>0.009134355</td></tr>\n",
       "\t<tr><th scope=row>36</th><td>0.05022476 </td><td>0.05664108 </td><td>0.001486479</td><td>0.015295160</td><td>0.004006798</td></tr>\n",
       "\t<tr><th scope=row>37</th><td>0.05690180 </td><td>0.04530000 </td><td>0.001737900</td><td>0.011575258</td><td>0.014760988</td></tr>\n",
       "\t<tr><th scope=row>38</th><td>0.04649618 </td><td>0.06371565 </td><td>0.000678053</td><td>0.004187560</td><td>0.001400377</td></tr>\n",
       "\t<tr><th scope=row>39</th><td>0.07672421 </td><td>0.11115446 </td><td>0.000918548</td><td>0.028600000</td><td>0.043169339</td></tr>\n",
       "\t<tr><th scope=row>40</th><td>0.07720944 </td><td>0.14229549 </td><td>0.002831119</td><td>0.032700000</td><td>0.034874906</td></tr>\n",
       "\t<tr><th scope=row>41</th><td>0.06649975 </td><td>0.08884990 </td><td>0.001253512</td><td>0.016848668</td><td>0.015878038</td></tr>\n",
       "\t<tr><th scope=row>42</th><td>0.04075486 </td><td>0.07382861 </td><td>0.001128450</td><td>0.003265113</td><td>0.001132860</td></tr>\n",
       "\t<tr><th scope=row>43</th><td>0.02987019 </td><td>0.05631656 </td><td>0.000541396</td><td>0.005520714</td><td>0.005436186</td></tr>\n",
       "\t<tr><th scope=row>44</th><td>0.07360120 </td><td>0.07130000 </td><td>0.001373945</td><td>0.015500150</td><td>0.020047669</td></tr>\n",
       "\t<tr><th scope=row>45</th><td>0.05077613 </td><td>0.12209721 </td><td>0.003628034</td><td>0.012353845</td><td>0.013721571</td></tr>\n",
       "\t<tr><th scope=row>51</th><td>0.02756127 </td><td>0.03710000 </td><td>0.001257702</td><td>0.008295842</td><td>0.005364175</td></tr>\n",
       "\t<tr><th scope=row>52</th><td>0.03897716 </td><td>0.04290000 </td><td>0.001179494</td><td>0.012858620</td><td>0.007386426</td></tr>\n",
       "\t<tr><th scope=row>53</th><td>0.08449990 </td><td>0.08097787 </td><td>0.002082846</td><td>0.018636034</td><td>0.028211908</td></tr>\n",
       "\t<tr><th scope=row>54</th><td>0.08908705 </td><td>0.11919058 </td><td>0.001717225</td><td>0.016200000</td><td>0.019034462</td></tr>\n",
       "\t<tr><th scope=row>55</th><td>0.07858601 </td><td>0.12188083 </td><td>0.001852634</td><td>0.031864861</td><td>0.047267378</td></tr>\n",
       "\t<tr><th scope=row>56</th><td>0.02641411 </td><td>0.04447990 </td><td>0.001025237</td><td>0.003727513</td><td>0.000805571</td></tr>\n",
       "\t<tr><th scope=row>57</th><td>0.04028362 </td><td>0.07320000 </td><td>0.002537227</td><td>0.018180363</td><td>0.009931820</td></tr>\n",
       "\t<tr><th scope=row>58</th><td>0.03861199 </td><td>0.07720030 </td><td>0.002477906</td><td>0.009926859</td><td>0.007206955</td></tr>\n",
       "\t<tr><th scope=row>59</th><td>0.04610522 </td><td>0.07732263 </td><td>0.001975911</td><td>0.014244255</td><td>0.006854760</td></tr>\n",
       "\t<tr><th scope=row>60</th><td>0.05594702 </td><td>0.16097957 </td><td>0.003559227</td><td>0.028463118</td><td>0.027514436</td></tr>\n",
       "</tbody>\n",
       "</table>\n"
      ],
      "text/latex": [
       "\\begin{tabular}{r|lllll}\n",
       "  & mass\\_400 & mass\\_500 & mass\\_600 & mass\\_700 & mass\\_800\\\\\n",
       "\\hline\n",
       "\t21 & 0.04435074  & 0.10357424  & 0.002740302 & 0.014637169 & 0.013619342\\\\\n",
       "\t22 & 0.05074441  & 0.05399513  & 0.000439880 & 0.000000000 & 0.000000000\\\\\n",
       "\t23 & 0.08402096  & 0.10322091  & 0.001080063 & 0.007954710 & 0.006277986\\\\\n",
       "\t24 & 0.06495959  & 0.08120000  & 0.002153735 & 0.005573463 & 0.003175823\\\\\n",
       "\t25 & 0.10998592  & 0.10900000  & 0.002556324 & 0.017670957 & 0.020444511\\\\\n",
       "\t26 & 0.04250555  & 0.06810000  & 0.001996656 & 0.005245484 & 0.002712673\\\\\n",
       "\t27 & 0.06395580  & 0.07920000  & 0.002032787 & 0.011451280 & 0.002012197\\\\\n",
       "\t28 & 0.05782735  & 0.08800000  & 0.002118670 & 0.013101616 & 0.009078375\\\\\n",
       "\t29 & 0.06491834  & 0.08179934  & 0.001220877 & 0.002648015 & 0.000264120\\\\\n",
       "\t30 & 0.04528353  & 0.06423167  & 0.000753063 & 0.021040028 & 0.009134355\\\\\n",
       "\t36 & 0.05022476  & 0.05664108  & 0.001486479 & 0.015295160 & 0.004006798\\\\\n",
       "\t37 & 0.05690180  & 0.04530000  & 0.001737900 & 0.011575258 & 0.014760988\\\\\n",
       "\t38 & 0.04649618  & 0.06371565  & 0.000678053 & 0.004187560 & 0.001400377\\\\\n",
       "\t39 & 0.07672421  & 0.11115446  & 0.000918548 & 0.028600000 & 0.043169339\\\\\n",
       "\t40 & 0.07720944  & 0.14229549  & 0.002831119 & 0.032700000 & 0.034874906\\\\\n",
       "\t41 & 0.06649975  & 0.08884990  & 0.001253512 & 0.016848668 & 0.015878038\\\\\n",
       "\t42 & 0.04075486  & 0.07382861  & 0.001128450 & 0.003265113 & 0.001132860\\\\\n",
       "\t43 & 0.02987019  & 0.05631656  & 0.000541396 & 0.005520714 & 0.005436186\\\\\n",
       "\t44 & 0.07360120  & 0.07130000  & 0.001373945 & 0.015500150 & 0.020047669\\\\\n",
       "\t45 & 0.05077613  & 0.12209721  & 0.003628034 & 0.012353845 & 0.013721571\\\\\n",
       "\t51 & 0.02756127  & 0.03710000  & 0.001257702 & 0.008295842 & 0.005364175\\\\\n",
       "\t52 & 0.03897716  & 0.04290000  & 0.001179494 & 0.012858620 & 0.007386426\\\\\n",
       "\t53 & 0.08449990  & 0.08097787  & 0.002082846 & 0.018636034 & 0.028211908\\\\\n",
       "\t54 & 0.08908705  & 0.11919058  & 0.001717225 & 0.016200000 & 0.019034462\\\\\n",
       "\t55 & 0.07858601  & 0.12188083  & 0.001852634 & 0.031864861 & 0.047267378\\\\\n",
       "\t56 & 0.02641411  & 0.04447990  & 0.001025237 & 0.003727513 & 0.000805571\\\\\n",
       "\t57 & 0.04028362  & 0.07320000  & 0.002537227 & 0.018180363 & 0.009931820\\\\\n",
       "\t58 & 0.03861199  & 0.07720030  & 0.002477906 & 0.009926859 & 0.007206955\\\\\n",
       "\t59 & 0.04610522  & 0.07732263  & 0.001975911 & 0.014244255 & 0.006854760\\\\\n",
       "\t60 & 0.05594702  & 0.16097957  & 0.003559227 & 0.028463118 & 0.027514436\\\\\n",
       "\\end{tabular}\n"
      ],
      "text/markdown": [
       "\n",
       "| <!--/--> | mass_400 | mass_500 | mass_600 | mass_700 | mass_800 |\n",
       "|---|---|---|---|---|---|\n",
       "| 21 | 0.04435074  | 0.10357424  | 0.002740302 | 0.014637169 | 0.013619342 |\n",
       "| 22 | 0.05074441  | 0.05399513  | 0.000439880 | 0.000000000 | 0.000000000 |\n",
       "| 23 | 0.08402096  | 0.10322091  | 0.001080063 | 0.007954710 | 0.006277986 |\n",
       "| 24 | 0.06495959  | 0.08120000  | 0.002153735 | 0.005573463 | 0.003175823 |\n",
       "| 25 | 0.10998592  | 0.10900000  | 0.002556324 | 0.017670957 | 0.020444511 |\n",
       "| 26 | 0.04250555  | 0.06810000  | 0.001996656 | 0.005245484 | 0.002712673 |\n",
       "| 27 | 0.06395580  | 0.07920000  | 0.002032787 | 0.011451280 | 0.002012197 |\n",
       "| 28 | 0.05782735  | 0.08800000  | 0.002118670 | 0.013101616 | 0.009078375 |\n",
       "| 29 | 0.06491834  | 0.08179934  | 0.001220877 | 0.002648015 | 0.000264120 |\n",
       "| 30 | 0.04528353  | 0.06423167  | 0.000753063 | 0.021040028 | 0.009134355 |\n",
       "| 36 | 0.05022476  | 0.05664108  | 0.001486479 | 0.015295160 | 0.004006798 |\n",
       "| 37 | 0.05690180  | 0.04530000  | 0.001737900 | 0.011575258 | 0.014760988 |\n",
       "| 38 | 0.04649618  | 0.06371565  | 0.000678053 | 0.004187560 | 0.001400377 |\n",
       "| 39 | 0.07672421  | 0.11115446  | 0.000918548 | 0.028600000 | 0.043169339 |\n",
       "| 40 | 0.07720944  | 0.14229549  | 0.002831119 | 0.032700000 | 0.034874906 |\n",
       "| 41 | 0.06649975  | 0.08884990  | 0.001253512 | 0.016848668 | 0.015878038 |\n",
       "| 42 | 0.04075486  | 0.07382861  | 0.001128450 | 0.003265113 | 0.001132860 |\n",
       "| 43 | 0.02987019  | 0.05631656  | 0.000541396 | 0.005520714 | 0.005436186 |\n",
       "| 44 | 0.07360120  | 0.07130000  | 0.001373945 | 0.015500150 | 0.020047669 |\n",
       "| 45 | 0.05077613  | 0.12209721  | 0.003628034 | 0.012353845 | 0.013721571 |\n",
       "| 51 | 0.02756127  | 0.03710000  | 0.001257702 | 0.008295842 | 0.005364175 |\n",
       "| 52 | 0.03897716  | 0.04290000  | 0.001179494 | 0.012858620 | 0.007386426 |\n",
       "| 53 | 0.08449990  | 0.08097787  | 0.002082846 | 0.018636034 | 0.028211908 |\n",
       "| 54 | 0.08908705  | 0.11919058  | 0.001717225 | 0.016200000 | 0.019034462 |\n",
       "| 55 | 0.07858601  | 0.12188083  | 0.001852634 | 0.031864861 | 0.047267378 |\n",
       "| 56 | 0.02641411  | 0.04447990  | 0.001025237 | 0.003727513 | 0.000805571 |\n",
       "| 57 | 0.04028362  | 0.07320000  | 0.002537227 | 0.018180363 | 0.009931820 |\n",
       "| 58 | 0.03861199  | 0.07720030  | 0.002477906 | 0.009926859 | 0.007206955 |\n",
       "| 59 | 0.04610522  | 0.07732263  | 0.001975911 | 0.014244255 | 0.006854760 |\n",
       "| 60 | 0.05594702  | 0.16097957  | 0.003559227 | 0.028463118 | 0.027514436 |\n",
       "\n"
      ],
      "text/plain": [
       "   mass_400   mass_500   mass_600    mass_700    mass_800   \n",
       "21 0.04435074 0.10357424 0.002740302 0.014637169 0.013619342\n",
       "22 0.05074441 0.05399513 0.000439880 0.000000000 0.000000000\n",
       "23 0.08402096 0.10322091 0.001080063 0.007954710 0.006277986\n",
       "24 0.06495959 0.08120000 0.002153735 0.005573463 0.003175823\n",
       "25 0.10998592 0.10900000 0.002556324 0.017670957 0.020444511\n",
       "26 0.04250555 0.06810000 0.001996656 0.005245484 0.002712673\n",
       "27 0.06395580 0.07920000 0.002032787 0.011451280 0.002012197\n",
       "28 0.05782735 0.08800000 0.002118670 0.013101616 0.009078375\n",
       "29 0.06491834 0.08179934 0.001220877 0.002648015 0.000264120\n",
       "30 0.04528353 0.06423167 0.000753063 0.021040028 0.009134355\n",
       "36 0.05022476 0.05664108 0.001486479 0.015295160 0.004006798\n",
       "37 0.05690180 0.04530000 0.001737900 0.011575258 0.014760988\n",
       "38 0.04649618 0.06371565 0.000678053 0.004187560 0.001400377\n",
       "39 0.07672421 0.11115446 0.000918548 0.028600000 0.043169339\n",
       "40 0.07720944 0.14229549 0.002831119 0.032700000 0.034874906\n",
       "41 0.06649975 0.08884990 0.001253512 0.016848668 0.015878038\n",
       "42 0.04075486 0.07382861 0.001128450 0.003265113 0.001132860\n",
       "43 0.02987019 0.05631656 0.000541396 0.005520714 0.005436186\n",
       "44 0.07360120 0.07130000 0.001373945 0.015500150 0.020047669\n",
       "45 0.05077613 0.12209721 0.003628034 0.012353845 0.013721571\n",
       "51 0.02756127 0.03710000 0.001257702 0.008295842 0.005364175\n",
       "52 0.03897716 0.04290000 0.001179494 0.012858620 0.007386426\n",
       "53 0.08449990 0.08097787 0.002082846 0.018636034 0.028211908\n",
       "54 0.08908705 0.11919058 0.001717225 0.016200000 0.019034462\n",
       "55 0.07858601 0.12188083 0.001852634 0.031864861 0.047267378\n",
       "56 0.02641411 0.04447990 0.001025237 0.003727513 0.000805571\n",
       "57 0.04028362 0.07320000 0.002537227 0.018180363 0.009931820\n",
       "58 0.03861199 0.07720030 0.002477906 0.009926859 0.007206955\n",
       "59 0.04610522 0.07732263 0.001975911 0.014244255 0.006854760\n",
       "60 0.05594702 0.16097957 0.003559227 0.028463118 0.027514436"
      ]
     },
     "metadata": {},
     "output_type": "display_data"
    },
    {
     "data": {
      "text/html": [
       "<table>\n",
       "<thead><tr><th></th><th scope=col>filename</th><th scope=col>MouseID</th><th scope=col>Treatmentgroup</th><th scope=col>DPI</th><th scope=col>organ</th><th scope=col>well_position</th><th scope=col>plate</th><th scope=col>mass_400</th><th scope=col>mass_500</th><th scope=col>mass_600</th><th scope=col>mass_700</th><th scope=col>mass_800</th></tr></thead>\n",
       "<tbody>\n",
       "\t<tr><th scope=row>21</th><td>X611_Group9_142dpi_LV_top_181_G_B9_P128.mzXML </td><td>611                                           </td><td>combo                                         </td><td>142dpi                                        </td><td>LV_top                                        </td><td>B9                                            </td><td>P128                                          </td><td>0.04435074                                    </td><td>0.10357424                                    </td><td>0.002740302                                   </td><td>0.014637169                                   </td><td>0.013619342                                   </td></tr>\n",
       "\t<tr><th scope=row>22</th><td>X612_Group9_142dpi_LV_top_182_G_B10_P128.mzXML</td><td>612                                           </td><td>combo                                         </td><td>142dpi                                        </td><td>LV_top                                        </td><td>B10                                           </td><td>P128                                          </td><td>0.05074441                                    </td><td>0.05399513                                    </td><td>0.000439880                                   </td><td>0.000000000                                   </td><td>0.000000000                                   </td></tr>\n",
       "\t<tr><th scope=row>23</th><td>X613_Group9_142dpi_LV_top_183_G_B11_P128.mzXML</td><td>613                                           </td><td>combo                                         </td><td>142dpi                                        </td><td>LV_top                                        </td><td>B11                                           </td><td>P128                                          </td><td>0.08402096                                    </td><td>0.10322091                                    </td><td>0.001080063                                   </td><td>0.007954710                                   </td><td>0.006277986                                   </td></tr>\n",
       "\t<tr><th scope=row>24</th><td>X614_Group9_142dpi_LV_top_184_G_B12_P128.mzXML</td><td>614                                           </td><td>combo                                         </td><td>142dpi                                        </td><td>LV_top                                        </td><td>B12                                           </td><td>P128                                          </td><td>0.06495959                                    </td><td>0.08120000                                    </td><td>0.002153735                                   </td><td>0.005573463                                   </td><td>0.003175823                                   </td></tr>\n",
       "\t<tr><th scope=row>25</th><td>X615_Group9_142dpi_LV_top_185_G_C1_P128.mzXML </td><td>615                                           </td><td>combo                                         </td><td>142dpi                                        </td><td>LV_top                                        </td><td>C1                                            </td><td>P128                                          </td><td>0.10998592                                    </td><td>0.10900000                                    </td><td>0.002556324                                   </td><td>0.017670957                                   </td><td>0.020444511                                   </td></tr>\n",
       "\t<tr><th scope=row>26</th><td>X631_Group15_142dpi_LV_top_191_G_C7_P128.mzXML</td><td>631                                           </td><td>BNZ                                           </td><td>142dpi                                        </td><td>LV_top                                        </td><td>C7                                            </td><td>P128                                          </td><td>0.04250555                                    </td><td>0.06810000                                    </td><td>0.001996656                                   </td><td>0.005245484                                   </td><td>0.002712673                                   </td></tr>\n",
       "</tbody>\n",
       "</table>\n"
      ],
      "text/latex": [
       "\\begin{tabular}{r|llllllllllll}\n",
       "  & filename & MouseID & Treatmentgroup & DPI & organ & well\\_position & plate & mass\\_400 & mass\\_500 & mass\\_600 & mass\\_700 & mass\\_800\\\\\n",
       "\\hline\n",
       "\t21 & X611\\_Group9\\_142dpi\\_LV\\_top\\_181\\_G\\_B9\\_P128.mzXML  & 611                                                            & combo                                                          & 142dpi                                                         & LV\\_top                                                       & B9                                                             & P128                                                           & 0.04435074                                                     & 0.10357424                                                     & 0.002740302                                                    & 0.014637169                                                    & 0.013619342                                                   \\\\\n",
       "\t22 & X612\\_Group9\\_142dpi\\_LV\\_top\\_182\\_G\\_B10\\_P128.mzXML & 612                                                            & combo                                                          & 142dpi                                                         & LV\\_top                                                       & B10                                                            & P128                                                           & 0.05074441                                                     & 0.05399513                                                     & 0.000439880                                                    & 0.000000000                                                    & 0.000000000                                                   \\\\\n",
       "\t23 & X613\\_Group9\\_142dpi\\_LV\\_top\\_183\\_G\\_B11\\_P128.mzXML & 613                                                            & combo                                                          & 142dpi                                                         & LV\\_top                                                       & B11                                                            & P128                                                           & 0.08402096                                                     & 0.10322091                                                     & 0.001080063                                                    & 0.007954710                                                    & 0.006277986                                                   \\\\\n",
       "\t24 & X614\\_Group9\\_142dpi\\_LV\\_top\\_184\\_G\\_B12\\_P128.mzXML & 614                                                            & combo                                                          & 142dpi                                                         & LV\\_top                                                       & B12                                                            & P128                                                           & 0.06495959                                                     & 0.08120000                                                     & 0.002153735                                                    & 0.005573463                                                    & 0.003175823                                                   \\\\\n",
       "\t25 & X615\\_Group9\\_142dpi\\_LV\\_top\\_185\\_G\\_C1\\_P128.mzXML  & 615                                                            & combo                                                          & 142dpi                                                         & LV\\_top                                                       & C1                                                             & P128                                                           & 0.10998592                                                     & 0.10900000                                                     & 0.002556324                                                    & 0.017670957                                                    & 0.020444511                                                   \\\\\n",
       "\t26 & X631\\_Group15\\_142dpi\\_LV\\_top\\_191\\_G\\_C7\\_P128.mzXML & 631                                                            & BNZ                                                            & 142dpi                                                         & LV\\_top                                                       & C7                                                             & P128                                                           & 0.04250555                                                     & 0.06810000                                                     & 0.001996656                                                    & 0.005245484                                                    & 0.002712673                                                   \\\\\n",
       "\\end{tabular}\n"
      ],
      "text/markdown": [
       "\n",
       "| <!--/--> | filename | MouseID | Treatmentgroup | DPI | organ | well_position | plate | mass_400 | mass_500 | mass_600 | mass_700 | mass_800 |\n",
       "|---|---|---|---|---|---|---|---|---|---|---|---|---|\n",
       "| 21 | X611_Group9_142dpi_LV_top_181_G_B9_P128.mzXML  | 611                                            | combo                                          | 142dpi                                         | LV_top                                         | B9                                             | P128                                           | 0.04435074                                     | 0.10357424                                     | 0.002740302                                    | 0.014637169                                    | 0.013619342                                    |\n",
       "| 22 | X612_Group9_142dpi_LV_top_182_G_B10_P128.mzXML | 612                                            | combo                                          | 142dpi                                         | LV_top                                         | B10                                            | P128                                           | 0.05074441                                     | 0.05399513                                     | 0.000439880                                    | 0.000000000                                    | 0.000000000                                    |\n",
       "| 23 | X613_Group9_142dpi_LV_top_183_G_B11_P128.mzXML | 613                                            | combo                                          | 142dpi                                         | LV_top                                         | B11                                            | P128                                           | 0.08402096                                     | 0.10322091                                     | 0.001080063                                    | 0.007954710                                    | 0.006277986                                    |\n",
       "| 24 | X614_Group9_142dpi_LV_top_184_G_B12_P128.mzXML | 614                                            | combo                                          | 142dpi                                         | LV_top                                         | B12                                            | P128                                           | 0.06495959                                     | 0.08120000                                     | 0.002153735                                    | 0.005573463                                    | 0.003175823                                    |\n",
       "| 25 | X615_Group9_142dpi_LV_top_185_G_C1_P128.mzXML  | 615                                            | combo                                          | 142dpi                                         | LV_top                                         | C1                                             | P128                                           | 0.10998592                                     | 0.10900000                                     | 0.002556324                                    | 0.017670957                                    | 0.020444511                                    |\n",
       "| 26 | X631_Group15_142dpi_LV_top_191_G_C7_P128.mzXML | 631                                            | BNZ                                            | 142dpi                                         | LV_top                                         | C7                                             | P128                                           | 0.04250555                                     | 0.06810000                                     | 0.001996656                                    | 0.005245484                                    | 0.002712673                                    |\n",
       "\n"
      ],
      "text/plain": [
       "   filename                                       MouseID Treatmentgroup DPI   \n",
       "21 X611_Group9_142dpi_LV_top_181_G_B9_P128.mzXML  611     combo          142dpi\n",
       "22 X612_Group9_142dpi_LV_top_182_G_B10_P128.mzXML 612     combo          142dpi\n",
       "23 X613_Group9_142dpi_LV_top_183_G_B11_P128.mzXML 613     combo          142dpi\n",
       "24 X614_Group9_142dpi_LV_top_184_G_B12_P128.mzXML 614     combo          142dpi\n",
       "25 X615_Group9_142dpi_LV_top_185_G_C1_P128.mzXML  615     combo          142dpi\n",
       "26 X631_Group15_142dpi_LV_top_191_G_C7_P128.mzXML 631     BNZ            142dpi\n",
       "   organ  well_position plate mass_400   mass_500   mass_600    mass_700   \n",
       "21 LV_top B9            P128  0.04435074 0.10357424 0.002740302 0.014637169\n",
       "22 LV_top B10           P128  0.05074441 0.05399513 0.000439880 0.000000000\n",
       "23 LV_top B11           P128  0.08402096 0.10322091 0.001080063 0.007954710\n",
       "24 LV_top B12           P128  0.06495959 0.08120000 0.002153735 0.005573463\n",
       "25 LV_top C1            P128  0.10998592 0.10900000 0.002556324 0.017670957\n",
       "26 LV_top C7            P128  0.04250555 0.06810000 0.001996656 0.005245484\n",
       "   mass_800   \n",
       "21 0.013619342\n",
       "22 0.000000000\n",
       "23 0.006277986\n",
       "24 0.003175823\n",
       "25 0.020444511\n",
       "26 0.002712673"
      ]
     },
     "metadata": {},
     "output_type": "display_data"
    },
    {
     "data": {
      "text/html": [
       "<ol class=list-inline>\n",
       "\t<li>30</li>\n",
       "\t<li>12</li>\n",
       "</ol>\n"
      ],
      "text/latex": [
       "\\begin{enumerate*}\n",
       "\\item 30\n",
       "\\item 12\n",
       "\\end{enumerate*}\n"
      ],
      "text/markdown": [
       "1. 30\n",
       "2. 12\n",
       "\n",
       "\n"
      ],
      "text/plain": [
       "[1] 30 12"
      ]
     },
     "metadata": {},
     "output_type": "display_data"
    },
    {
     "data": {
      "text/html": [
       "<ol class=list-inline>\n",
       "\t<li>30</li>\n",
       "\t<li>5</li>\n",
       "</ol>\n"
      ],
      "text/latex": [
       "\\begin{enumerate*}\n",
       "\\item 30\n",
       "\\item 5\n",
       "\\end{enumerate*}\n"
      ],
      "text/markdown": [
       "1. 30\n",
       "2. 5\n",
       "\n",
       "\n"
      ],
      "text/plain": [
       "[1] 30  5"
      ]
     },
     "metadata": {},
     "output_type": "display_data"
    },
    {
     "data": {
      "text/html": [
       "<ol class=list-inline>\n",
       "\t<li>30</li>\n",
       "\t<li>5</li>\n",
       "</ol>\n"
      ],
      "text/latex": [
       "\\begin{enumerate*}\n",
       "\\item 30\n",
       "\\item 5\n",
       "\\end{enumerate*}\n"
      ],
      "text/markdown": [
       "1. 30\n",
       "2. 5\n",
       "\n",
       "\n"
      ],
      "text/plain": [
       "[1] 30  5"
      ]
     },
     "metadata": {},
     "output_type": "display_data"
    },
    {
     "data": {
      "text/html": [
       "<ol class=list-inline>\n",
       "\t<li>30</li>\n",
       "\t<li>12</li>\n",
       "</ol>\n"
      ],
      "text/latex": [
       "\\begin{enumerate*}\n",
       "\\item 30\n",
       "\\item 12\n",
       "\\end{enumerate*}\n"
      ],
      "text/markdown": [
       "1. 30\n",
       "2. 12\n",
       "\n",
       "\n"
      ],
      "text/plain": [
       "[1] 30 12"
      ]
     },
     "metadata": {},
     "output_type": "display_data"
    }
   ],
   "source": [
    "noMeta<-features_pos[,8:12]\n",
    "head(noMeta)\n",
    "not_zero<-which(colSums(noMeta) != 0)\n",
    "head(not_zero)\n",
    "nonzero <- noMeta[, not_zero]\n",
    "nonzero\n",
    "nonzero_wMeta<-cbind(features_pos[,1:7], nonzero)\n",
    "head(nonzero_wMeta)\n",
    "dim(features_pos)\n",
    "dim(noMeta)\n",
    "dim(nonzero)\n",
    "dim(nonzero_wMeta)"
   ]
  },
  {
   "cell_type": "code",
   "execution_count": 15,
   "metadata": {
    "scrolled": true
   },
   "outputs": [
    {
     "data": {
      "text/html": [
       "<ol class=list-inline>\n",
       "\t<li>0.040839912860907</li>\n",
       "\t<li>0.838134776780856</li>\n",
       "\t<li>0.743702065375981</li>\n",
       "\t<li>0.389233298727313</li>\n",
       "\t<li>0.232811909318818</li>\n",
       "</ol>\n"
      ],
      "text/latex": [
       "\\begin{enumerate*}\n",
       "\\item 0.040839912860907\n",
       "\\item 0.838134776780856\n",
       "\\item 0.743702065375981\n",
       "\\item 0.389233298727313\n",
       "\\item 0.232811909318818\n",
       "\\end{enumerate*}\n"
      ],
      "text/markdown": [
       "1. 0.040839912860907\n",
       "2. 0.838134776780856\n",
       "3. 0.743702065375981\n",
       "4. 0.389233298727313\n",
       "5. 0.232811909318818\n",
       "\n",
       "\n"
      ],
      "text/plain": [
       "[1] 0.04083991 0.83813478 0.74370207 0.38923330 0.23281191"
      ]
     },
     "metadata": {},
     "output_type": "display_data"
    },
    {
     "data": {
      "text/html": [
       "<ol class=list-inline>\n",
       "\t<li>0.204199564304535</li>\n",
       "\t<li>0.838134776780856</li>\n",
       "\t<li>0.838134776780856</li>\n",
       "\t<li>0.648722164545522</li>\n",
       "\t<li>0.582029773297046</li>\n",
       "</ol>\n"
      ],
      "text/latex": [
       "\\begin{enumerate*}\n",
       "\\item 0.204199564304535\n",
       "\\item 0.838134776780856\n",
       "\\item 0.838134776780856\n",
       "\\item 0.648722164545522\n",
       "\\item 0.582029773297046\n",
       "\\end{enumerate*}\n"
      ],
      "text/markdown": [
       "1. 0.204199564304535\n",
       "2. 0.838134776780856\n",
       "3. 0.838134776780856\n",
       "4. 0.648722164545522\n",
       "5. 0.582029773297046\n",
       "\n",
       "\n"
      ],
      "text/plain": [
       "[1] 0.2041996 0.8381348 0.8381348 0.6487222 0.5820298"
      ]
     },
     "metadata": {},
     "output_type": "display_data"
    }
   ],
   "source": [
    "pval<-c()\n",
    "\n",
    "for (i in 8:ncol(nonzero_wMeta)) \n",
    "pval<-c(pval,wilcox.test(nonzero_wMeta[,i]~nonzero_wMeta$Treatmentgroup)$p.value)\n",
    "head(pval) \n",
    "pAdj <- p.adjust(pval, method = c(\"fdr\"), n=length(pval)) \n",
    "head(pAdj) \n",
    "\n"
   ]
  },
  {
   "cell_type": "code",
   "execution_count": 16,
   "metadata": {
    "scrolled": true
   },
   "outputs": [
    {
     "data": {
      "text/html": [
       "5"
      ],
      "text/latex": [
       "5"
      ],
      "text/markdown": [
       "5"
      ],
      "text/plain": [
       "[1] 5"
      ]
     },
     "metadata": {},
     "output_type": "display_data"
    }
   ],
   "source": [
    "length(pval)"
   ]
  },
  {
   "cell_type": "code",
   "execution_count": 17,
   "metadata": {
    "scrolled": true
   },
   "outputs": [
    {
     "data": {
      "text/html": [
       "5"
      ],
      "text/latex": [
       "5"
      ],
      "text/markdown": [
       "5"
      ],
      "text/plain": [
       "[1] 5"
      ]
     },
     "metadata": {},
     "output_type": "display_data"
    }
   ],
   "source": [
    "length(pAdj)"
   ]
  },
  {
   "cell_type": "code",
   "execution_count": 18,
   "metadata": {},
   "outputs": [
    {
     "data": {
      "text/html": [
       "<ol class=list-inline>\n",
       "\t<li>2</li>\n",
       "\t<li>5</li>\n",
       "</ol>\n"
      ],
      "text/latex": [
       "\\begin{enumerate*}\n",
       "\\item 2\n",
       "\\item 5\n",
       "\\end{enumerate*}\n"
      ],
      "text/markdown": [
       "1. 2\n",
       "2. 5\n",
       "\n",
       "\n"
      ],
      "text/plain": [
       "[1] 2 5"
      ]
     },
     "metadata": {},
     "output_type": "display_data"
    },
    {
     "data": {
      "text/html": [
       "<table>\n",
       "<thead><tr><th></th><th scope=col>mass_400</th><th scope=col>mass_500</th><th scope=col>mass_600</th></tr></thead>\n",
       "<tbody>\n",
       "\t<tr><th scope=row>BNZ</th><td>0.04955698 </td><td>0.08179371 </td><td>0.001841527</td></tr>\n",
       "\t<tr><th scope=row>combo</th><td>0.06535529 </td><td>0.08480975 </td><td>0.001647487</td></tr>\n",
       "</tbody>\n",
       "</table>\n"
      ],
      "text/latex": [
       "\\begin{tabular}{r|lll}\n",
       "  & mass\\_400 & mass\\_500 & mass\\_600\\\\\n",
       "\\hline\n",
       "\tBNZ & 0.04955698  & 0.08179371  & 0.001841527\\\\\n",
       "\tcombo & 0.06535529  & 0.08480975  & 0.001647487\\\\\n",
       "\\end{tabular}\n"
      ],
      "text/markdown": [
       "\n",
       "| <!--/--> | mass_400 | mass_500 | mass_600 |\n",
       "|---|---|---|---|\n",
       "| BNZ | 0.04955698  | 0.08179371  | 0.001841527 |\n",
       "| combo | 0.06535529  | 0.08480975  | 0.001647487 |\n",
       "\n"
      ],
      "text/plain": [
       "      mass_400   mass_500   mass_600   \n",
       "BNZ   0.04955698 0.08179371 0.001841527\n",
       "combo 0.06535529 0.08480975 0.001647487"
      ]
     },
     "metadata": {},
     "output_type": "display_data"
    },
    {
     "data": {
      "text/html": [
       "<dl class=dl-horizontal>\n",
       "\t<dt>mass_400</dt>\n",
       "\t\t<dd>0.758270285264679</dd>\n",
       "\t<dt>mass_500</dt>\n",
       "\t\t<dd>0.96443761618338</dd>\n",
       "\t<dt>mass_600</dt>\n",
       "\t\t<dd>1.11777914353919</dd>\n",
       "\t<dt>mass_700</dt>\n",
       "\t\t<dd>0.802996305669754</dd>\n",
       "\t<dt>mass_800</dt>\n",
       "\t\t<dd>0.529054372098196</dd>\n",
       "</dl>\n"
      ],
      "text/latex": [
       "\\begin{description*}\n",
       "\\item[mass\\textbackslash{}\\_400] 0.758270285264679\n",
       "\\item[mass\\textbackslash{}\\_500] 0.96443761618338\n",
       "\\item[mass\\textbackslash{}\\_600] 1.11777914353919\n",
       "\\item[mass\\textbackslash{}\\_700] 0.802996305669754\n",
       "\\item[mass\\textbackslash{}\\_800] 0.529054372098196\n",
       "\\end{description*}\n"
      ],
      "text/markdown": [
       "mass_400\n",
       ":   0.758270285264679mass_500\n",
       ":   0.96443761618338mass_600\n",
       ":   1.11777914353919mass_700\n",
       ":   0.802996305669754mass_800\n",
       ":   0.529054372098196\n",
       "\n"
      ],
      "text/plain": [
       " mass_400  mass_500  mass_600  mass_700  mass_800 \n",
       "0.7582703 0.9644376 1.1177791 0.8029963 0.5290544 "
      ]
     },
     "metadata": {},
     "output_type": "display_data"
    },
    {
     "data": {
      "text/html": [
       "<ol class=list-inline>\n",
       "\t<li>'numeric'</li>\n",
       "\t<li>'vector'</li>\n",
       "</ol>\n"
      ],
      "text/latex": [
       "\\begin{enumerate*}\n",
       "\\item 'numeric'\n",
       "\\item 'vector'\n",
       "\\end{enumerate*}\n"
      ],
      "text/markdown": [
       "1. 'numeric'\n",
       "2. 'vector'\n",
       "\n",
       "\n"
      ],
      "text/plain": [
       "[1] \"numeric\" \"vector\" "
      ]
     },
     "metadata": {},
     "output_type": "display_data"
    }
   ],
   "source": [
    "avg<- apply(nonzero_wMeta[,8:ncol(nonzero_wMeta)], 2, function(x) tapply(x, nonzero_wMeta$Treatmentgroup, function(x) mean(x))) \n",
    "\n",
    "dim(avg)\n",
    "\n",
    "avg[,1:3]\n",
    "\n",
    "fch <- apply(avg, 2, function(x) x[1]/x[2])\n",
    "\n",
    "head(fch)\n",
    "is(fch)"
   ]
  },
  {
   "cell_type": "code",
   "execution_count": 19,
   "metadata": {
    "scrolled": true
   },
   "outputs": [
    {
     "data": {
      "text/html": [
       "<dl class=dl-horizontal>\n",
       "\t<dt>mass_400</dt>\n",
       "\t\t<dd>0.758270285264679</dd>\n",
       "\t<dt>mass_500</dt>\n",
       "\t\t<dd>0.96443761618338</dd>\n",
       "\t<dt>mass_600</dt>\n",
       "\t\t<dd>1.11777914353919</dd>\n",
       "\t<dt>mass_700</dt>\n",
       "\t\t<dd>0.802996305669754</dd>\n",
       "\t<dt>mass_800</dt>\n",
       "\t\t<dd>0.529054372098196</dd>\n",
       "</dl>\n"
      ],
      "text/latex": [
       "\\begin{description*}\n",
       "\\item[mass\\textbackslash{}\\_400] 0.758270285264679\n",
       "\\item[mass\\textbackslash{}\\_500] 0.96443761618338\n",
       "\\item[mass\\textbackslash{}\\_600] 1.11777914353919\n",
       "\\item[mass\\textbackslash{}\\_700] 0.802996305669754\n",
       "\\item[mass\\textbackslash{}\\_800] 0.529054372098196\n",
       "\\end{description*}\n"
      ],
      "text/markdown": [
       "mass_400\n",
       ":   0.758270285264679mass_500\n",
       ":   0.96443761618338mass_600\n",
       ":   1.11777914353919mass_700\n",
       ":   0.802996305669754mass_800\n",
       ":   0.529054372098196\n",
       "\n"
      ],
      "text/plain": [
       " mass_400  mass_500  mass_600  mass_700  mass_800 \n",
       "0.7582703 0.9644376 1.1177791 0.8029963 0.5290544 "
      ]
     },
     "metadata": {},
     "output_type": "display_data"
    }
   ],
   "source": [
    "fch"
   ]
  },
  {
   "cell_type": "code",
   "execution_count": 20,
   "metadata": {
    "scrolled": false
   },
   "outputs": [],
   "source": [
    "df <- data.frame(fch,pval, pAdj)\n",
    "write.csv(df, \"PC-treat-LVT-wilcox-combo-BNZ.csv\")"
   ]
  },
  {
   "cell_type": "code",
   "execution_count": null,
   "metadata": {},
   "outputs": [],
   "source": []
  },
  {
   "cell_type": "code",
   "execution_count": null,
   "metadata": {},
   "outputs": [],
   "source": []
  },
  {
   "cell_type": "code",
   "execution_count": null,
   "metadata": {},
   "outputs": [],
   "source": []
  },
  {
   "cell_type": "code",
   "execution_count": null,
   "metadata": {},
   "outputs": [],
   "source": []
  },
  {
   "cell_type": "code",
   "execution_count": null,
   "metadata": {},
   "outputs": [],
   "source": []
  },
  {
   "cell_type": "code",
   "execution_count": null,
   "metadata": {},
   "outputs": [],
   "source": []
  }
 ],
 "metadata": {
  "kernelspec": {
   "display_name": "R",
   "language": "R",
   "name": "ir"
  },
  "language_info": {
   "codemirror_mode": "r",
   "file_extension": ".r",
   "mimetype": "text/x-r-source",
   "name": "R",
   "pygments_lexer": "r",
   "version": "3.6.1"
  }
 },
 "nbformat": 4,
 "nbformat_minor": 2
}
