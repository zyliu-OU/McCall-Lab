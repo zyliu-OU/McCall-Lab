{
 "cells": [
  {
   "cell_type": "code",
   "execution_count": 1,
   "metadata": {},
   "outputs": [],
   "source": [
    "a <- read.csv(\"03172021-PC-treatment-LA-M-F.csv\")"
   ]
  },
  {
   "cell_type": "code",
   "execution_count": 2,
   "metadata": {},
   "outputs": [
    {
     "data": {
      "text/html": [
       "<table>\n",
       "<thead><tr><th scope=col>filename</th><th scope=col>MouseID</th><th scope=col>Treatmentgroup</th><th scope=col>DPI</th><th scope=col>organ</th><th scope=col>well_position</th><th scope=col>plate</th><th scope=col>mass_400</th><th scope=col>mass_500</th><th scope=col>mass_600</th><th scope=col>mass_700</th><th scope=col>mass_800</th></tr></thead>\n",
       "<tbody>\n",
       "\t<tr><td>X511_Group1C_142dpi_LA_161_G_A1_P120.mzXML</td><td>511                                       </td><td>naive                                     </td><td>142dpi                                    </td><td>LA                                        </td><td>A1                                        </td><td>P120                                      </td><td>0.05708834                                </td><td>0.05868799                                </td><td>0.001422083                               </td><td>0.024448705                               </td><td>0.002961521                               </td></tr>\n",
       "\t<tr><td>X512_Group1C_142dpi_LA_162_G_A2_P120.mzXML</td><td>512                                       </td><td>naive                                     </td><td>142dpi                                    </td><td>LA                                        </td><td>A2                                        </td><td>P120                                      </td><td>0.04364981                                </td><td>0.03529239                                </td><td>0.001064818                               </td><td>0.015103071                               </td><td>0.001586869                               </td></tr>\n",
       "\t<tr><td>X513_Group1C_142dpi_LA_163_G_A3_P120.mzXML</td><td>513                                       </td><td>naive                                     </td><td>142dpi                                    </td><td>LA                                        </td><td>A3                                        </td><td>P120                                      </td><td>0.02723663                                </td><td>0.02308907                                </td><td>0.000641467                               </td><td>0.004038756                               </td><td>0.001170106                               </td></tr>\n",
       "\t<tr><td>X514_Group1C_142dpi_LA_164_G_A4_P120.mzXML</td><td>514                                       </td><td>naive                                     </td><td>142dpi                                    </td><td>LA                                        </td><td>A4                                        </td><td>P120                                      </td><td>0.04795208                                </td><td>0.05203415                                </td><td>0.002287018                               </td><td>0.027557699                               </td><td>0.002876021                               </td></tr>\n",
       "\t<tr><td>X515_Group1C_142dpi_LA_165_G_A5_P120.mzXML</td><td>515                                       </td><td>naive                                     </td><td>142dpi                                    </td><td>LA                                        </td><td>A5                                        </td><td>P120                                      </td><td>0.06062535                                </td><td>0.05520182                                </td><td>0.001113023                               </td><td>0.016928592                               </td><td>0.002033275                               </td></tr>\n",
       "\t<tr><td>X531_Group1C_142dpi_LA_166_G_A6_P120.mzXML</td><td>531                                       </td><td>naive                                     </td><td>142dpi                                    </td><td>LA                                        </td><td>A6                                        </td><td>P120                                      </td><td>0.05173330                                </td><td>0.04288872                                </td><td>0.001191404                               </td><td>0.006303823                               </td><td>0.001142296                               </td></tr>\n",
       "</tbody>\n",
       "</table>\n"
      ],
      "text/latex": [
       "\\begin{tabular}{r|llllllllllll}\n",
       " filename & MouseID & Treatmentgroup & DPI & organ & well\\_position & plate & mass\\_400 & mass\\_500 & mass\\_600 & mass\\_700 & mass\\_800\\\\\n",
       "\\hline\n",
       "\t X511\\_Group1C\\_142dpi\\_LA\\_161\\_G\\_A1\\_P120.mzXML & 511                                                      & naive                                                    & 142dpi                                                   & LA                                                       & A1                                                       & P120                                                     & 0.05708834                                               & 0.05868799                                               & 0.001422083                                              & 0.024448705                                              & 0.002961521                                             \\\\\n",
       "\t X512\\_Group1C\\_142dpi\\_LA\\_162\\_G\\_A2\\_P120.mzXML & 512                                                      & naive                                                    & 142dpi                                                   & LA                                                       & A2                                                       & P120                                                     & 0.04364981                                               & 0.03529239                                               & 0.001064818                                              & 0.015103071                                              & 0.001586869                                             \\\\\n",
       "\t X513\\_Group1C\\_142dpi\\_LA\\_163\\_G\\_A3\\_P120.mzXML & 513                                                      & naive                                                    & 142dpi                                                   & LA                                                       & A3                                                       & P120                                                     & 0.02723663                                               & 0.02308907                                               & 0.000641467                                              & 0.004038756                                              & 0.001170106                                             \\\\\n",
       "\t X514\\_Group1C\\_142dpi\\_LA\\_164\\_G\\_A4\\_P120.mzXML & 514                                                      & naive                                                    & 142dpi                                                   & LA                                                       & A4                                                       & P120                                                     & 0.04795208                                               & 0.05203415                                               & 0.002287018                                              & 0.027557699                                              & 0.002876021                                             \\\\\n",
       "\t X515\\_Group1C\\_142dpi\\_LA\\_165\\_G\\_A5\\_P120.mzXML & 515                                                      & naive                                                    & 142dpi                                                   & LA                                                       & A5                                                       & P120                                                     & 0.06062535                                               & 0.05520182                                               & 0.001113023                                              & 0.016928592                                              & 0.002033275                                             \\\\\n",
       "\t X531\\_Group1C\\_142dpi\\_LA\\_166\\_G\\_A6\\_P120.mzXML & 531                                                      & naive                                                    & 142dpi                                                   & LA                                                       & A6                                                       & P120                                                     & 0.05173330                                               & 0.04288872                                               & 0.001191404                                              & 0.006303823                                              & 0.001142296                                             \\\\\n",
       "\\end{tabular}\n"
      ],
      "text/markdown": [
       "\n",
       "| filename | MouseID | Treatmentgroup | DPI | organ | well_position | plate | mass_400 | mass_500 | mass_600 | mass_700 | mass_800 |\n",
       "|---|---|---|---|---|---|---|---|---|---|---|---|\n",
       "| X511_Group1C_142dpi_LA_161_G_A1_P120.mzXML | 511                                        | naive                                      | 142dpi                                     | LA                                         | A1                                         | P120                                       | 0.05708834                                 | 0.05868799                                 | 0.001422083                                | 0.024448705                                | 0.002961521                                |\n",
       "| X512_Group1C_142dpi_LA_162_G_A2_P120.mzXML | 512                                        | naive                                      | 142dpi                                     | LA                                         | A2                                         | P120                                       | 0.04364981                                 | 0.03529239                                 | 0.001064818                                | 0.015103071                                | 0.001586869                                |\n",
       "| X513_Group1C_142dpi_LA_163_G_A3_P120.mzXML | 513                                        | naive                                      | 142dpi                                     | LA                                         | A3                                         | P120                                       | 0.02723663                                 | 0.02308907                                 | 0.000641467                                | 0.004038756                                | 0.001170106                                |\n",
       "| X514_Group1C_142dpi_LA_164_G_A4_P120.mzXML | 514                                        | naive                                      | 142dpi                                     | LA                                         | A4                                         | P120                                       | 0.04795208                                 | 0.05203415                                 | 0.002287018                                | 0.027557699                                | 0.002876021                                |\n",
       "| X515_Group1C_142dpi_LA_165_G_A5_P120.mzXML | 515                                        | naive                                      | 142dpi                                     | LA                                         | A5                                         | P120                                       | 0.06062535                                 | 0.05520182                                 | 0.001113023                                | 0.016928592                                | 0.002033275                                |\n",
       "| X531_Group1C_142dpi_LA_166_G_A6_P120.mzXML | 531                                        | naive                                      | 142dpi                                     | LA                                         | A6                                         | P120                                       | 0.05173330                                 | 0.04288872                                 | 0.001191404                                | 0.006303823                                | 0.001142296                                |\n",
       "\n"
      ],
      "text/plain": [
       "  filename                                   MouseID Treatmentgroup DPI   \n",
       "1 X511_Group1C_142dpi_LA_161_G_A1_P120.mzXML 511     naive          142dpi\n",
       "2 X512_Group1C_142dpi_LA_162_G_A2_P120.mzXML 512     naive          142dpi\n",
       "3 X513_Group1C_142dpi_LA_163_G_A3_P120.mzXML 513     naive          142dpi\n",
       "4 X514_Group1C_142dpi_LA_164_G_A4_P120.mzXML 514     naive          142dpi\n",
       "5 X515_Group1C_142dpi_LA_165_G_A5_P120.mzXML 515     naive          142dpi\n",
       "6 X531_Group1C_142dpi_LA_166_G_A6_P120.mzXML 531     naive          142dpi\n",
       "  organ well_position plate mass_400   mass_500   mass_600    mass_700   \n",
       "1 LA    A1            P120  0.05708834 0.05868799 0.001422083 0.024448705\n",
       "2 LA    A2            P120  0.04364981 0.03529239 0.001064818 0.015103071\n",
       "3 LA    A3            P120  0.02723663 0.02308907 0.000641467 0.004038756\n",
       "4 LA    A4            P120  0.04795208 0.05203415 0.002287018 0.027557699\n",
       "5 LA    A5            P120  0.06062535 0.05520182 0.001113023 0.016928592\n",
       "6 LA    A6            P120  0.05173330 0.04288872 0.001191404 0.006303823\n",
       "  mass_800   \n",
       "1 0.002961521\n",
       "2 0.001586869\n",
       "3 0.001170106\n",
       "4 0.002876021\n",
       "5 0.002033275\n",
       "6 0.001142296"
      ]
     },
     "metadata": {},
     "output_type": "display_data"
    },
    {
     "data": {
      "text/html": [
       "<ol class=list-inline>\n",
       "\t<li>60</li>\n",
       "\t<li>12</li>\n",
       "</ol>\n"
      ],
      "text/latex": [
       "\\begin{enumerate*}\n",
       "\\item 60\n",
       "\\item 12\n",
       "\\end{enumerate*}\n"
      ],
      "text/markdown": [
       "1. 60\n",
       "2. 12\n",
       "\n",
       "\n"
      ],
      "text/plain": [
       "[1] 60 12"
      ]
     },
     "metadata": {},
     "output_type": "display_data"
    }
   ],
   "source": [
    "head(a)\n",
    "dim(a)"
   ]
  },
  {
   "cell_type": "code",
   "execution_count": 3,
   "metadata": {},
   "outputs": [
    {
     "data": {
      "text/html": [
       "<table>\n",
       "<thead><tr><th></th><th scope=col>filename</th><th scope=col>MouseID</th><th scope=col>Treatmentgroup</th><th scope=col>DPI</th><th scope=col>organ</th><th scope=col>well_position</th><th scope=col>plate</th><th scope=col>mass_400</th><th scope=col>mass_500</th><th scope=col>mass_600</th><th scope=col>mass_700</th><th scope=col>mass_800</th></tr></thead>\n",
       "<tbody>\n",
       "\t<tr><th scope=row>16</th><td>X581_Group3E_142dpi_LA_176_G_B4_P120.mzXML</td><td>581                                       </td><td>infected                                  </td><td>142dpi                                    </td><td>LA                                        </td><td>B4                                        </td><td>P120                                      </td><td>0.07679123                                </td><td>0.06459760                                </td><td>0.000748383                               </td><td>0.013592907                               </td><td>0.002109551                               </td></tr>\n",
       "\t<tr><th scope=row>17</th><td>X582_Group3E_142dpi_LA_177_G_B5_P120.mzXML</td><td>582                                       </td><td>infected                                  </td><td>142dpi                                    </td><td>LA                                        </td><td>B5                                        </td><td>P120                                      </td><td>0.05637692                                </td><td>0.04122667                                </td><td>0.000886637                               </td><td>0.024421916                               </td><td>0.006401568                               </td></tr>\n",
       "\t<tr><th scope=row>18</th><td>X583_Group3E_142dpi_LA_178_G_B6_P120.mzXML</td><td>583                                       </td><td>infected                                  </td><td>142dpi                                    </td><td>LA                                        </td><td>B6                                        </td><td>P120                                      </td><td>0.06208490                                </td><td>0.05214047                                </td><td>0.001578818                               </td><td>0.013405126                               </td><td>0.002711381                               </td></tr>\n",
       "\t<tr><th scope=row>19</th><td>X584_Group3E_142dpi_LA_179_G_B7_P120.mzXML</td><td>584                                       </td><td>infected                                  </td><td>142dpi                                    </td><td>LA                                        </td><td>B7                                        </td><td>P120                                      </td><td>0.04845728                                </td><td>0.04999808                                </td><td>0.001582853                               </td><td>0.019946098                               </td><td>0.001384420                               </td></tr>\n",
       "\t<tr><th scope=row>20</th><td>X585_Group3E_142dpi_LA_180_G_B8_P120.mzXML</td><td>585                                       </td><td>infected                                  </td><td>142dpi                                    </td><td>LA                                        </td><td>B8                                        </td><td>P120                                      </td><td>0.03304103                                </td><td>0.02966949                                </td><td>0.000760197                               </td><td>0.007445944                               </td><td>0.001272537                               </td></tr>\n",
       "\t<tr><th scope=row>26</th><td>X631_Group15_142dpi_LA_191_G_C7_P120.mzXML</td><td>631                                       </td><td>BNZ                                       </td><td>142dpi                                    </td><td>LA                                        </td><td>C7                                        </td><td>P120                                      </td><td>0.06045042                                </td><td>0.05687426                                </td><td>0.001713204                               </td><td>0.018418201                               </td><td>0.004730012                               </td></tr>\n",
       "</tbody>\n",
       "</table>\n"
      ],
      "text/latex": [
       "\\begin{tabular}{r|llllllllllll}\n",
       "  & filename & MouseID & Treatmentgroup & DPI & organ & well\\_position & plate & mass\\_400 & mass\\_500 & mass\\_600 & mass\\_700 & mass\\_800\\\\\n",
       "\\hline\n",
       "\t16 & X581\\_Group3E\\_142dpi\\_LA\\_176\\_G\\_B4\\_P120.mzXML & 581                                                      & infected                                                 & 142dpi                                                   & LA                                                       & B4                                                       & P120                                                     & 0.07679123                                               & 0.06459760                                               & 0.000748383                                              & 0.013592907                                              & 0.002109551                                             \\\\\n",
       "\t17 & X582\\_Group3E\\_142dpi\\_LA\\_177\\_G\\_B5\\_P120.mzXML & 582                                                      & infected                                                 & 142dpi                                                   & LA                                                       & B5                                                       & P120                                                     & 0.05637692                                               & 0.04122667                                               & 0.000886637                                              & 0.024421916                                              & 0.006401568                                             \\\\\n",
       "\t18 & X583\\_Group3E\\_142dpi\\_LA\\_178\\_G\\_B6\\_P120.mzXML & 583                                                      & infected                                                 & 142dpi                                                   & LA                                                       & B6                                                       & P120                                                     & 0.06208490                                               & 0.05214047                                               & 0.001578818                                              & 0.013405126                                              & 0.002711381                                             \\\\\n",
       "\t19 & X584\\_Group3E\\_142dpi\\_LA\\_179\\_G\\_B7\\_P120.mzXML & 584                                                      & infected                                                 & 142dpi                                                   & LA                                                       & B7                                                       & P120                                                     & 0.04845728                                               & 0.04999808                                               & 0.001582853                                              & 0.019946098                                              & 0.001384420                                             \\\\\n",
       "\t20 & X585\\_Group3E\\_142dpi\\_LA\\_180\\_G\\_B8\\_P120.mzXML & 585                                                      & infected                                                 & 142dpi                                                   & LA                                                       & B8                                                       & P120                                                     & 0.03304103                                               & 0.02966949                                               & 0.000760197                                              & 0.007445944                                              & 0.001272537                                             \\\\\n",
       "\t26 & X631\\_Group15\\_142dpi\\_LA\\_191\\_G\\_C7\\_P120.mzXML & 631                                                      & BNZ                                                      & 142dpi                                                   & LA                                                       & C7                                                       & P120                                                     & 0.06045042                                               & 0.05687426                                               & 0.001713204                                              & 0.018418201                                              & 0.004730012                                             \\\\\n",
       "\\end{tabular}\n"
      ],
      "text/markdown": [
       "\n",
       "| <!--/--> | filename | MouseID | Treatmentgroup | DPI | organ | well_position | plate | mass_400 | mass_500 | mass_600 | mass_700 | mass_800 |\n",
       "|---|---|---|---|---|---|---|---|---|---|---|---|---|\n",
       "| 16 | X581_Group3E_142dpi_LA_176_G_B4_P120.mzXML | 581                                        | infected                                   | 142dpi                                     | LA                                         | B4                                         | P120                                       | 0.07679123                                 | 0.06459760                                 | 0.000748383                                | 0.013592907                                | 0.002109551                                |\n",
       "| 17 | X582_Group3E_142dpi_LA_177_G_B5_P120.mzXML | 582                                        | infected                                   | 142dpi                                     | LA                                         | B5                                         | P120                                       | 0.05637692                                 | 0.04122667                                 | 0.000886637                                | 0.024421916                                | 0.006401568                                |\n",
       "| 18 | X583_Group3E_142dpi_LA_178_G_B6_P120.mzXML | 583                                        | infected                                   | 142dpi                                     | LA                                         | B6                                         | P120                                       | 0.06208490                                 | 0.05214047                                 | 0.001578818                                | 0.013405126                                | 0.002711381                                |\n",
       "| 19 | X584_Group3E_142dpi_LA_179_G_B7_P120.mzXML | 584                                        | infected                                   | 142dpi                                     | LA                                         | B7                                         | P120                                       | 0.04845728                                 | 0.04999808                                 | 0.001582853                                | 0.019946098                                | 0.001384420                                |\n",
       "| 20 | X585_Group3E_142dpi_LA_180_G_B8_P120.mzXML | 585                                        | infected                                   | 142dpi                                     | LA                                         | B8                                         | P120                                       | 0.03304103                                 | 0.02966949                                 | 0.000760197                                | 0.007445944                                | 0.001272537                                |\n",
       "| 26 | X631_Group15_142dpi_LA_191_G_C7_P120.mzXML | 631                                        | BNZ                                        | 142dpi                                     | LA                                         | C7                                         | P120                                       | 0.06045042                                 | 0.05687426                                 | 0.001713204                                | 0.018418201                                | 0.004730012                                |\n",
       "\n"
      ],
      "text/plain": [
       "   filename                                   MouseID Treatmentgroup DPI   \n",
       "16 X581_Group3E_142dpi_LA_176_G_B4_P120.mzXML 581     infected       142dpi\n",
       "17 X582_Group3E_142dpi_LA_177_G_B5_P120.mzXML 582     infected       142dpi\n",
       "18 X583_Group3E_142dpi_LA_178_G_B6_P120.mzXML 583     infected       142dpi\n",
       "19 X584_Group3E_142dpi_LA_179_G_B7_P120.mzXML 584     infected       142dpi\n",
       "20 X585_Group3E_142dpi_LA_180_G_B8_P120.mzXML 585     infected       142dpi\n",
       "26 X631_Group15_142dpi_LA_191_G_C7_P120.mzXML 631     BNZ            142dpi\n",
       "   organ well_position plate mass_400   mass_500   mass_600    mass_700   \n",
       "16 LA    B4            P120  0.07679123 0.06459760 0.000748383 0.013592907\n",
       "17 LA    B5            P120  0.05637692 0.04122667 0.000886637 0.024421916\n",
       "18 LA    B6            P120  0.06208490 0.05214047 0.001578818 0.013405126\n",
       "19 LA    B7            P120  0.04845728 0.04999808 0.001582853 0.019946098\n",
       "20 LA    B8            P120  0.03304103 0.02966949 0.000760197 0.007445944\n",
       "26 LA    C7            P120  0.06045042 0.05687426 0.001713204 0.018418201\n",
       "   mass_800   \n",
       "16 0.002109551\n",
       "17 0.006401568\n",
       "18 0.002711381\n",
       "19 0.001384420\n",
       "20 0.001272537\n",
       "26 0.004730012"
      ]
     },
     "metadata": {},
     "output_type": "display_data"
    },
    {
     "data": {
      "text/html": [
       "<ol class=list-inline>\n",
       "\t<li>30</li>\n",
       "\t<li>12</li>\n",
       "</ol>\n"
      ],
      "text/latex": [
       "\\begin{enumerate*}\n",
       "\\item 30\n",
       "\\item 12\n",
       "\\end{enumerate*}\n"
      ],
      "text/markdown": [
       "1. 30\n",
       "2. 12\n",
       "\n",
       "\n"
      ],
      "text/plain": [
       "[1] 30 12"
      ]
     },
     "metadata": {},
     "output_type": "display_data"
    }
   ],
   "source": [
    "features_pos<-droplevels(subset(a, a$Treatmentgroup==c(\"infected\")|a$Treatmentgroup==c(\"BNZ\")))\n",
    "head(features_pos)\n",
    "dim(features_pos)"
   ]
  },
  {
   "cell_type": "code",
   "execution_count": 4,
   "metadata": {
    "scrolled": false
   },
   "outputs": [
    {
     "data": {
      "text/html": [
       "<table>\n",
       "<thead><tr><th></th><th scope=col>mass_400</th><th scope=col>mass_500</th><th scope=col>mass_600</th><th scope=col>mass_700</th><th scope=col>mass_800</th></tr></thead>\n",
       "<tbody>\n",
       "\t<tr><th scope=row>16</th><td>0.07679123 </td><td>0.06459760 </td><td>0.000748383</td><td>0.013592907</td><td>0.002109551</td></tr>\n",
       "\t<tr><th scope=row>17</th><td>0.05637692 </td><td>0.04122667 </td><td>0.000886637</td><td>0.024421916</td><td>0.006401568</td></tr>\n",
       "\t<tr><th scope=row>18</th><td>0.06208490 </td><td>0.05214047 </td><td>0.001578818</td><td>0.013405126</td><td>0.002711381</td></tr>\n",
       "\t<tr><th scope=row>19</th><td>0.04845728 </td><td>0.04999808 </td><td>0.001582853</td><td>0.019946098</td><td>0.001384420</td></tr>\n",
       "\t<tr><th scope=row>20</th><td>0.03304103 </td><td>0.02966949 </td><td>0.000760197</td><td>0.007445944</td><td>0.001272537</td></tr>\n",
       "\t<tr><th scope=row>26</th><td>0.06045042 </td><td>0.05687426 </td><td>0.001713204</td><td>0.018418201</td><td>0.004730012</td></tr>\n",
       "</tbody>\n",
       "</table>\n"
      ],
      "text/latex": [
       "\\begin{tabular}{r|lllll}\n",
       "  & mass\\_400 & mass\\_500 & mass\\_600 & mass\\_700 & mass\\_800\\\\\n",
       "\\hline\n",
       "\t16 & 0.07679123  & 0.06459760  & 0.000748383 & 0.013592907 & 0.002109551\\\\\n",
       "\t17 & 0.05637692  & 0.04122667  & 0.000886637 & 0.024421916 & 0.006401568\\\\\n",
       "\t18 & 0.06208490  & 0.05214047  & 0.001578818 & 0.013405126 & 0.002711381\\\\\n",
       "\t19 & 0.04845728  & 0.04999808  & 0.001582853 & 0.019946098 & 0.001384420\\\\\n",
       "\t20 & 0.03304103  & 0.02966949  & 0.000760197 & 0.007445944 & 0.001272537\\\\\n",
       "\t26 & 0.06045042  & 0.05687426  & 0.001713204 & 0.018418201 & 0.004730012\\\\\n",
       "\\end{tabular}\n"
      ],
      "text/markdown": [
       "\n",
       "| <!--/--> | mass_400 | mass_500 | mass_600 | mass_700 | mass_800 |\n",
       "|---|---|---|---|---|---|\n",
       "| 16 | 0.07679123  | 0.06459760  | 0.000748383 | 0.013592907 | 0.002109551 |\n",
       "| 17 | 0.05637692  | 0.04122667  | 0.000886637 | 0.024421916 | 0.006401568 |\n",
       "| 18 | 0.06208490  | 0.05214047  | 0.001578818 | 0.013405126 | 0.002711381 |\n",
       "| 19 | 0.04845728  | 0.04999808  | 0.001582853 | 0.019946098 | 0.001384420 |\n",
       "| 20 | 0.03304103  | 0.02966949  | 0.000760197 | 0.007445944 | 0.001272537 |\n",
       "| 26 | 0.06045042  | 0.05687426  | 0.001713204 | 0.018418201 | 0.004730012 |\n",
       "\n"
      ],
      "text/plain": [
       "   mass_400   mass_500   mass_600    mass_700    mass_800   \n",
       "16 0.07679123 0.06459760 0.000748383 0.013592907 0.002109551\n",
       "17 0.05637692 0.04122667 0.000886637 0.024421916 0.006401568\n",
       "18 0.06208490 0.05214047 0.001578818 0.013405126 0.002711381\n",
       "19 0.04845728 0.04999808 0.001582853 0.019946098 0.001384420\n",
       "20 0.03304103 0.02966949 0.000760197 0.007445944 0.001272537\n",
       "26 0.06045042 0.05687426 0.001713204 0.018418201 0.004730012"
      ]
     },
     "metadata": {},
     "output_type": "display_data"
    },
    {
     "data": {
      "text/html": [
       "<dl class=dl-horizontal>\n",
       "\t<dt>mass_400</dt>\n",
       "\t\t<dd>1</dd>\n",
       "\t<dt>mass_500</dt>\n",
       "\t\t<dd>2</dd>\n",
       "\t<dt>mass_600</dt>\n",
       "\t\t<dd>3</dd>\n",
       "\t<dt>mass_700</dt>\n",
       "\t\t<dd>4</dd>\n",
       "\t<dt>mass_800</dt>\n",
       "\t\t<dd>5</dd>\n",
       "</dl>\n"
      ],
      "text/latex": [
       "\\begin{description*}\n",
       "\\item[mass\\textbackslash{}\\_400] 1\n",
       "\\item[mass\\textbackslash{}\\_500] 2\n",
       "\\item[mass\\textbackslash{}\\_600] 3\n",
       "\\item[mass\\textbackslash{}\\_700] 4\n",
       "\\item[mass\\textbackslash{}\\_800] 5\n",
       "\\end{description*}\n"
      ],
      "text/markdown": [
       "mass_400\n",
       ":   1mass_500\n",
       ":   2mass_600\n",
       ":   3mass_700\n",
       ":   4mass_800\n",
       ":   5\n",
       "\n"
      ],
      "text/plain": [
       "mass_400 mass_500 mass_600 mass_700 mass_800 \n",
       "       1        2        3        4        5 "
      ]
     },
     "metadata": {},
     "output_type": "display_data"
    },
    {
     "data": {
      "text/html": [
       "<table>\n",
       "<thead><tr><th></th><th scope=col>mass_400</th><th scope=col>mass_500</th><th scope=col>mass_600</th><th scope=col>mass_700</th><th scope=col>mass_800</th></tr></thead>\n",
       "<tbody>\n",
       "\t<tr><th scope=row>16</th><td>0.07679123 </td><td>0.06459760 </td><td>0.000748383</td><td>0.013592907</td><td>0.002109551</td></tr>\n",
       "\t<tr><th scope=row>17</th><td>0.05637692 </td><td>0.04122667 </td><td>0.000886637</td><td>0.024421916</td><td>0.006401568</td></tr>\n",
       "\t<tr><th scope=row>18</th><td>0.06208490 </td><td>0.05214047 </td><td>0.001578818</td><td>0.013405126</td><td>0.002711381</td></tr>\n",
       "\t<tr><th scope=row>19</th><td>0.04845728 </td><td>0.04999808 </td><td>0.001582853</td><td>0.019946098</td><td>0.001384420</td></tr>\n",
       "\t<tr><th scope=row>20</th><td>0.03304103 </td><td>0.02966949 </td><td>0.000760197</td><td>0.007445944</td><td>0.001272537</td></tr>\n",
       "\t<tr><th scope=row>26</th><td>0.06045042 </td><td>0.05687426 </td><td>0.001713204</td><td>0.018418201</td><td>0.004730012</td></tr>\n",
       "\t<tr><th scope=row>27</th><td>0.03334279 </td><td>0.02621197 </td><td>0.001083115</td><td>0.006115900</td><td>0.000695699</td></tr>\n",
       "\t<tr><th scope=row>28</th><td>0.01431676 </td><td>0.01317918 </td><td>0.000450513</td><td>0.008860814</td><td>0.000682864</td></tr>\n",
       "\t<tr><th scope=row>29</th><td>0.04583309 </td><td>0.04282591 </td><td>0.000869075</td><td>0.008616020</td><td>0.001352411</td></tr>\n",
       "\t<tr><th scope=row>30</th><td>0.02965343 </td><td>0.02455714 </td><td>0.000923565</td><td>0.007428186</td><td>0.001142302</td></tr>\n",
       "\t<tr><th scope=row>31</th><td>0.05644684 </td><td>0.05746368 </td><td>0.001501546</td><td>0.015771917</td><td>0.009721856</td></tr>\n",
       "\t<tr><th scope=row>32</th><td>0.04239897 </td><td>0.04164940 </td><td>0.001721232</td><td>0.036082257</td><td>0.005587892</td></tr>\n",
       "\t<tr><th scope=row>33</th><td>0.06208321 </td><td>0.05663902 </td><td>0.001527127</td><td>0.022350174</td><td>0.006043788</td></tr>\n",
       "\t<tr><th scope=row>34</th><td>0.05436122 </td><td>0.06082714 </td><td>0.002031351</td><td>0.029004928</td><td>0.009562616</td></tr>\n",
       "\t<tr><th scope=row>35</th><td>0.04031664 </td><td>0.03739999 </td><td>0.001366219</td><td>0.027934494</td><td>0.002540332</td></tr>\n",
       "\t<tr><th scope=row>41</th><td>0.02846705 </td><td>0.02468742 </td><td>0.000918728</td><td>0.011261410</td><td>0.001035564</td></tr>\n",
       "\t<tr><th scope=row>42</th><td>0.02286779 </td><td>0.01966851 </td><td>0.001141363</td><td>0.014767608</td><td>0.000361898</td></tr>\n",
       "\t<tr><th scope=row>43</th><td>0.04003010 </td><td>0.03861101 </td><td>0.001218148</td><td>0.017242408</td><td>0.004010192</td></tr>\n",
       "\t<tr><th scope=row>44</th><td>0.04961880 </td><td>0.04271293 </td><td>0.001244806</td><td>0.014419166</td><td>0.001057862</td></tr>\n",
       "\t<tr><th scope=row>45</th><td>0.04139965 </td><td>0.03231646 </td><td>0.000629551</td><td>0.003524001</td><td>0.000122900</td></tr>\n",
       "\t<tr><th scope=row>46</th><td>0.05798096 </td><td>0.04454145 </td><td>0.000977282</td><td>0.011732424</td><td>0.003757619</td></tr>\n",
       "\t<tr><th scope=row>47</th><td>0.04714218 </td><td>0.04733346 </td><td>0.001792991</td><td>0.015201057</td><td>0.006582850</td></tr>\n",
       "\t<tr><th scope=row>48</th><td>0.03256285 </td><td>0.02260000 </td><td>0.000215714</td><td>0.002434439</td><td>0.000216528</td></tr>\n",
       "\t<tr><th scope=row>49</th><td>0.03256062 </td><td>0.02766837 </td><td>0.000645376</td><td>0.006248219</td><td>0.000793925</td></tr>\n",
       "\t<tr><th scope=row>50</th><td>0.02321102 </td><td>0.01935076 </td><td>0.000924843</td><td>0.013502653</td><td>0.000451458</td></tr>\n",
       "\t<tr><th scope=row>56</th><td>0.02781271 </td><td>0.02644608 </td><td>0.001465661</td><td>0.021111896</td><td>0.002105700</td></tr>\n",
       "\t<tr><th scope=row>57</th><td>0.04510770 </td><td>0.04161915 </td><td>0.002068827</td><td>0.024821172</td><td>0.012098957</td></tr>\n",
       "\t<tr><th scope=row>58</th><td>0.03046450 </td><td>0.02950000 </td><td>0.001322793</td><td>0.027423157</td><td>0.019964856</td></tr>\n",
       "\t<tr><th scope=row>59</th><td>0.01115603 </td><td>0.01130000 </td><td>0.000564150</td><td>0.012900000</td><td>0.002077487</td></tr>\n",
       "\t<tr><th scope=row>60</th><td>0.04011867 </td><td>0.03673042 </td><td>0.001234663</td><td>0.012611782</td><td>0.001824215</td></tr>\n",
       "</tbody>\n",
       "</table>\n"
      ],
      "text/latex": [
       "\\begin{tabular}{r|lllll}\n",
       "  & mass\\_400 & mass\\_500 & mass\\_600 & mass\\_700 & mass\\_800\\\\\n",
       "\\hline\n",
       "\t16 & 0.07679123  & 0.06459760  & 0.000748383 & 0.013592907 & 0.002109551\\\\\n",
       "\t17 & 0.05637692  & 0.04122667  & 0.000886637 & 0.024421916 & 0.006401568\\\\\n",
       "\t18 & 0.06208490  & 0.05214047  & 0.001578818 & 0.013405126 & 0.002711381\\\\\n",
       "\t19 & 0.04845728  & 0.04999808  & 0.001582853 & 0.019946098 & 0.001384420\\\\\n",
       "\t20 & 0.03304103  & 0.02966949  & 0.000760197 & 0.007445944 & 0.001272537\\\\\n",
       "\t26 & 0.06045042  & 0.05687426  & 0.001713204 & 0.018418201 & 0.004730012\\\\\n",
       "\t27 & 0.03334279  & 0.02621197  & 0.001083115 & 0.006115900 & 0.000695699\\\\\n",
       "\t28 & 0.01431676  & 0.01317918  & 0.000450513 & 0.008860814 & 0.000682864\\\\\n",
       "\t29 & 0.04583309  & 0.04282591  & 0.000869075 & 0.008616020 & 0.001352411\\\\\n",
       "\t30 & 0.02965343  & 0.02455714  & 0.000923565 & 0.007428186 & 0.001142302\\\\\n",
       "\t31 & 0.05644684  & 0.05746368  & 0.001501546 & 0.015771917 & 0.009721856\\\\\n",
       "\t32 & 0.04239897  & 0.04164940  & 0.001721232 & 0.036082257 & 0.005587892\\\\\n",
       "\t33 & 0.06208321  & 0.05663902  & 0.001527127 & 0.022350174 & 0.006043788\\\\\n",
       "\t34 & 0.05436122  & 0.06082714  & 0.002031351 & 0.029004928 & 0.009562616\\\\\n",
       "\t35 & 0.04031664  & 0.03739999  & 0.001366219 & 0.027934494 & 0.002540332\\\\\n",
       "\t41 & 0.02846705  & 0.02468742  & 0.000918728 & 0.011261410 & 0.001035564\\\\\n",
       "\t42 & 0.02286779  & 0.01966851  & 0.001141363 & 0.014767608 & 0.000361898\\\\\n",
       "\t43 & 0.04003010  & 0.03861101  & 0.001218148 & 0.017242408 & 0.004010192\\\\\n",
       "\t44 & 0.04961880  & 0.04271293  & 0.001244806 & 0.014419166 & 0.001057862\\\\\n",
       "\t45 & 0.04139965  & 0.03231646  & 0.000629551 & 0.003524001 & 0.000122900\\\\\n",
       "\t46 & 0.05798096  & 0.04454145  & 0.000977282 & 0.011732424 & 0.003757619\\\\\n",
       "\t47 & 0.04714218  & 0.04733346  & 0.001792991 & 0.015201057 & 0.006582850\\\\\n",
       "\t48 & 0.03256285  & 0.02260000  & 0.000215714 & 0.002434439 & 0.000216528\\\\\n",
       "\t49 & 0.03256062  & 0.02766837  & 0.000645376 & 0.006248219 & 0.000793925\\\\\n",
       "\t50 & 0.02321102  & 0.01935076  & 0.000924843 & 0.013502653 & 0.000451458\\\\\n",
       "\t56 & 0.02781271  & 0.02644608  & 0.001465661 & 0.021111896 & 0.002105700\\\\\n",
       "\t57 & 0.04510770  & 0.04161915  & 0.002068827 & 0.024821172 & 0.012098957\\\\\n",
       "\t58 & 0.03046450  & 0.02950000  & 0.001322793 & 0.027423157 & 0.019964856\\\\\n",
       "\t59 & 0.01115603  & 0.01130000  & 0.000564150 & 0.012900000 & 0.002077487\\\\\n",
       "\t60 & 0.04011867  & 0.03673042  & 0.001234663 & 0.012611782 & 0.001824215\\\\\n",
       "\\end{tabular}\n"
      ],
      "text/markdown": [
       "\n",
       "| <!--/--> | mass_400 | mass_500 | mass_600 | mass_700 | mass_800 |\n",
       "|---|---|---|---|---|---|\n",
       "| 16 | 0.07679123  | 0.06459760  | 0.000748383 | 0.013592907 | 0.002109551 |\n",
       "| 17 | 0.05637692  | 0.04122667  | 0.000886637 | 0.024421916 | 0.006401568 |\n",
       "| 18 | 0.06208490  | 0.05214047  | 0.001578818 | 0.013405126 | 0.002711381 |\n",
       "| 19 | 0.04845728  | 0.04999808  | 0.001582853 | 0.019946098 | 0.001384420 |\n",
       "| 20 | 0.03304103  | 0.02966949  | 0.000760197 | 0.007445944 | 0.001272537 |\n",
       "| 26 | 0.06045042  | 0.05687426  | 0.001713204 | 0.018418201 | 0.004730012 |\n",
       "| 27 | 0.03334279  | 0.02621197  | 0.001083115 | 0.006115900 | 0.000695699 |\n",
       "| 28 | 0.01431676  | 0.01317918  | 0.000450513 | 0.008860814 | 0.000682864 |\n",
       "| 29 | 0.04583309  | 0.04282591  | 0.000869075 | 0.008616020 | 0.001352411 |\n",
       "| 30 | 0.02965343  | 0.02455714  | 0.000923565 | 0.007428186 | 0.001142302 |\n",
       "| 31 | 0.05644684  | 0.05746368  | 0.001501546 | 0.015771917 | 0.009721856 |\n",
       "| 32 | 0.04239897  | 0.04164940  | 0.001721232 | 0.036082257 | 0.005587892 |\n",
       "| 33 | 0.06208321  | 0.05663902  | 0.001527127 | 0.022350174 | 0.006043788 |\n",
       "| 34 | 0.05436122  | 0.06082714  | 0.002031351 | 0.029004928 | 0.009562616 |\n",
       "| 35 | 0.04031664  | 0.03739999  | 0.001366219 | 0.027934494 | 0.002540332 |\n",
       "| 41 | 0.02846705  | 0.02468742  | 0.000918728 | 0.011261410 | 0.001035564 |\n",
       "| 42 | 0.02286779  | 0.01966851  | 0.001141363 | 0.014767608 | 0.000361898 |\n",
       "| 43 | 0.04003010  | 0.03861101  | 0.001218148 | 0.017242408 | 0.004010192 |\n",
       "| 44 | 0.04961880  | 0.04271293  | 0.001244806 | 0.014419166 | 0.001057862 |\n",
       "| 45 | 0.04139965  | 0.03231646  | 0.000629551 | 0.003524001 | 0.000122900 |\n",
       "| 46 | 0.05798096  | 0.04454145  | 0.000977282 | 0.011732424 | 0.003757619 |\n",
       "| 47 | 0.04714218  | 0.04733346  | 0.001792991 | 0.015201057 | 0.006582850 |\n",
       "| 48 | 0.03256285  | 0.02260000  | 0.000215714 | 0.002434439 | 0.000216528 |\n",
       "| 49 | 0.03256062  | 0.02766837  | 0.000645376 | 0.006248219 | 0.000793925 |\n",
       "| 50 | 0.02321102  | 0.01935076  | 0.000924843 | 0.013502653 | 0.000451458 |\n",
       "| 56 | 0.02781271  | 0.02644608  | 0.001465661 | 0.021111896 | 0.002105700 |\n",
       "| 57 | 0.04510770  | 0.04161915  | 0.002068827 | 0.024821172 | 0.012098957 |\n",
       "| 58 | 0.03046450  | 0.02950000  | 0.001322793 | 0.027423157 | 0.019964856 |\n",
       "| 59 | 0.01115603  | 0.01130000  | 0.000564150 | 0.012900000 | 0.002077487 |\n",
       "| 60 | 0.04011867  | 0.03673042  | 0.001234663 | 0.012611782 | 0.001824215 |\n",
       "\n"
      ],
      "text/plain": [
       "   mass_400   mass_500   mass_600    mass_700    mass_800   \n",
       "16 0.07679123 0.06459760 0.000748383 0.013592907 0.002109551\n",
       "17 0.05637692 0.04122667 0.000886637 0.024421916 0.006401568\n",
       "18 0.06208490 0.05214047 0.001578818 0.013405126 0.002711381\n",
       "19 0.04845728 0.04999808 0.001582853 0.019946098 0.001384420\n",
       "20 0.03304103 0.02966949 0.000760197 0.007445944 0.001272537\n",
       "26 0.06045042 0.05687426 0.001713204 0.018418201 0.004730012\n",
       "27 0.03334279 0.02621197 0.001083115 0.006115900 0.000695699\n",
       "28 0.01431676 0.01317918 0.000450513 0.008860814 0.000682864\n",
       "29 0.04583309 0.04282591 0.000869075 0.008616020 0.001352411\n",
       "30 0.02965343 0.02455714 0.000923565 0.007428186 0.001142302\n",
       "31 0.05644684 0.05746368 0.001501546 0.015771917 0.009721856\n",
       "32 0.04239897 0.04164940 0.001721232 0.036082257 0.005587892\n",
       "33 0.06208321 0.05663902 0.001527127 0.022350174 0.006043788\n",
       "34 0.05436122 0.06082714 0.002031351 0.029004928 0.009562616\n",
       "35 0.04031664 0.03739999 0.001366219 0.027934494 0.002540332\n",
       "41 0.02846705 0.02468742 0.000918728 0.011261410 0.001035564\n",
       "42 0.02286779 0.01966851 0.001141363 0.014767608 0.000361898\n",
       "43 0.04003010 0.03861101 0.001218148 0.017242408 0.004010192\n",
       "44 0.04961880 0.04271293 0.001244806 0.014419166 0.001057862\n",
       "45 0.04139965 0.03231646 0.000629551 0.003524001 0.000122900\n",
       "46 0.05798096 0.04454145 0.000977282 0.011732424 0.003757619\n",
       "47 0.04714218 0.04733346 0.001792991 0.015201057 0.006582850\n",
       "48 0.03256285 0.02260000 0.000215714 0.002434439 0.000216528\n",
       "49 0.03256062 0.02766837 0.000645376 0.006248219 0.000793925\n",
       "50 0.02321102 0.01935076 0.000924843 0.013502653 0.000451458\n",
       "56 0.02781271 0.02644608 0.001465661 0.021111896 0.002105700\n",
       "57 0.04510770 0.04161915 0.002068827 0.024821172 0.012098957\n",
       "58 0.03046450 0.02950000 0.001322793 0.027423157 0.019964856\n",
       "59 0.01115603 0.01130000 0.000564150 0.012900000 0.002077487\n",
       "60 0.04011867 0.03673042 0.001234663 0.012611782 0.001824215"
      ]
     },
     "metadata": {},
     "output_type": "display_data"
    },
    {
     "data": {
      "text/html": [
       "<table>\n",
       "<thead><tr><th></th><th scope=col>filename</th><th scope=col>MouseID</th><th scope=col>Treatmentgroup</th><th scope=col>DPI</th><th scope=col>organ</th><th scope=col>well_position</th><th scope=col>plate</th><th scope=col>mass_400</th><th scope=col>mass_500</th><th scope=col>mass_600</th><th scope=col>mass_700</th><th scope=col>mass_800</th></tr></thead>\n",
       "<tbody>\n",
       "\t<tr><th scope=row>16</th><td>X581_Group3E_142dpi_LA_176_G_B4_P120.mzXML</td><td>581                                       </td><td>infected                                  </td><td>142dpi                                    </td><td>LA                                        </td><td>B4                                        </td><td>P120                                      </td><td>0.07679123                                </td><td>0.06459760                                </td><td>0.000748383                               </td><td>0.013592907                               </td><td>0.002109551                               </td></tr>\n",
       "\t<tr><th scope=row>17</th><td>X582_Group3E_142dpi_LA_177_G_B5_P120.mzXML</td><td>582                                       </td><td>infected                                  </td><td>142dpi                                    </td><td>LA                                        </td><td>B5                                        </td><td>P120                                      </td><td>0.05637692                                </td><td>0.04122667                                </td><td>0.000886637                               </td><td>0.024421916                               </td><td>0.006401568                               </td></tr>\n",
       "\t<tr><th scope=row>18</th><td>X583_Group3E_142dpi_LA_178_G_B6_P120.mzXML</td><td>583                                       </td><td>infected                                  </td><td>142dpi                                    </td><td>LA                                        </td><td>B6                                        </td><td>P120                                      </td><td>0.06208490                                </td><td>0.05214047                                </td><td>0.001578818                               </td><td>0.013405126                               </td><td>0.002711381                               </td></tr>\n",
       "\t<tr><th scope=row>19</th><td>X584_Group3E_142dpi_LA_179_G_B7_P120.mzXML</td><td>584                                       </td><td>infected                                  </td><td>142dpi                                    </td><td>LA                                        </td><td>B7                                        </td><td>P120                                      </td><td>0.04845728                                </td><td>0.04999808                                </td><td>0.001582853                               </td><td>0.019946098                               </td><td>0.001384420                               </td></tr>\n",
       "\t<tr><th scope=row>20</th><td>X585_Group3E_142dpi_LA_180_G_B8_P120.mzXML</td><td>585                                       </td><td>infected                                  </td><td>142dpi                                    </td><td>LA                                        </td><td>B8                                        </td><td>P120                                      </td><td>0.03304103                                </td><td>0.02966949                                </td><td>0.000760197                               </td><td>0.007445944                               </td><td>0.001272537                               </td></tr>\n",
       "\t<tr><th scope=row>26</th><td>X631_Group15_142dpi_LA_191_G_C7_P120.mzXML</td><td>631                                       </td><td>BNZ                                       </td><td>142dpi                                    </td><td>LA                                        </td><td>C7                                        </td><td>P120                                      </td><td>0.06045042                                </td><td>0.05687426                                </td><td>0.001713204                               </td><td>0.018418201                               </td><td>0.004730012                               </td></tr>\n",
       "</tbody>\n",
       "</table>\n"
      ],
      "text/latex": [
       "\\begin{tabular}{r|llllllllllll}\n",
       "  & filename & MouseID & Treatmentgroup & DPI & organ & well\\_position & plate & mass\\_400 & mass\\_500 & mass\\_600 & mass\\_700 & mass\\_800\\\\\n",
       "\\hline\n",
       "\t16 & X581\\_Group3E\\_142dpi\\_LA\\_176\\_G\\_B4\\_P120.mzXML & 581                                                      & infected                                                 & 142dpi                                                   & LA                                                       & B4                                                       & P120                                                     & 0.07679123                                               & 0.06459760                                               & 0.000748383                                              & 0.013592907                                              & 0.002109551                                             \\\\\n",
       "\t17 & X582\\_Group3E\\_142dpi\\_LA\\_177\\_G\\_B5\\_P120.mzXML & 582                                                      & infected                                                 & 142dpi                                                   & LA                                                       & B5                                                       & P120                                                     & 0.05637692                                               & 0.04122667                                               & 0.000886637                                              & 0.024421916                                              & 0.006401568                                             \\\\\n",
       "\t18 & X583\\_Group3E\\_142dpi\\_LA\\_178\\_G\\_B6\\_P120.mzXML & 583                                                      & infected                                                 & 142dpi                                                   & LA                                                       & B6                                                       & P120                                                     & 0.06208490                                               & 0.05214047                                               & 0.001578818                                              & 0.013405126                                              & 0.002711381                                             \\\\\n",
       "\t19 & X584\\_Group3E\\_142dpi\\_LA\\_179\\_G\\_B7\\_P120.mzXML & 584                                                      & infected                                                 & 142dpi                                                   & LA                                                       & B7                                                       & P120                                                     & 0.04845728                                               & 0.04999808                                               & 0.001582853                                              & 0.019946098                                              & 0.001384420                                             \\\\\n",
       "\t20 & X585\\_Group3E\\_142dpi\\_LA\\_180\\_G\\_B8\\_P120.mzXML & 585                                                      & infected                                                 & 142dpi                                                   & LA                                                       & B8                                                       & P120                                                     & 0.03304103                                               & 0.02966949                                               & 0.000760197                                              & 0.007445944                                              & 0.001272537                                             \\\\\n",
       "\t26 & X631\\_Group15\\_142dpi\\_LA\\_191\\_G\\_C7\\_P120.mzXML & 631                                                      & BNZ                                                      & 142dpi                                                   & LA                                                       & C7                                                       & P120                                                     & 0.06045042                                               & 0.05687426                                               & 0.001713204                                              & 0.018418201                                              & 0.004730012                                             \\\\\n",
       "\\end{tabular}\n"
      ],
      "text/markdown": [
       "\n",
       "| <!--/--> | filename | MouseID | Treatmentgroup | DPI | organ | well_position | plate | mass_400 | mass_500 | mass_600 | mass_700 | mass_800 |\n",
       "|---|---|---|---|---|---|---|---|---|---|---|---|---|\n",
       "| 16 | X581_Group3E_142dpi_LA_176_G_B4_P120.mzXML | 581                                        | infected                                   | 142dpi                                     | LA                                         | B4                                         | P120                                       | 0.07679123                                 | 0.06459760                                 | 0.000748383                                | 0.013592907                                | 0.002109551                                |\n",
       "| 17 | X582_Group3E_142dpi_LA_177_G_B5_P120.mzXML | 582                                        | infected                                   | 142dpi                                     | LA                                         | B5                                         | P120                                       | 0.05637692                                 | 0.04122667                                 | 0.000886637                                | 0.024421916                                | 0.006401568                                |\n",
       "| 18 | X583_Group3E_142dpi_LA_178_G_B6_P120.mzXML | 583                                        | infected                                   | 142dpi                                     | LA                                         | B6                                         | P120                                       | 0.06208490                                 | 0.05214047                                 | 0.001578818                                | 0.013405126                                | 0.002711381                                |\n",
       "| 19 | X584_Group3E_142dpi_LA_179_G_B7_P120.mzXML | 584                                        | infected                                   | 142dpi                                     | LA                                         | B7                                         | P120                                       | 0.04845728                                 | 0.04999808                                 | 0.001582853                                | 0.019946098                                | 0.001384420                                |\n",
       "| 20 | X585_Group3E_142dpi_LA_180_G_B8_P120.mzXML | 585                                        | infected                                   | 142dpi                                     | LA                                         | B8                                         | P120                                       | 0.03304103                                 | 0.02966949                                 | 0.000760197                                | 0.007445944                                | 0.001272537                                |\n",
       "| 26 | X631_Group15_142dpi_LA_191_G_C7_P120.mzXML | 631                                        | BNZ                                        | 142dpi                                     | LA                                         | C7                                         | P120                                       | 0.06045042                                 | 0.05687426                                 | 0.001713204                                | 0.018418201                                | 0.004730012                                |\n",
       "\n"
      ],
      "text/plain": [
       "   filename                                   MouseID Treatmentgroup DPI   \n",
       "16 X581_Group3E_142dpi_LA_176_G_B4_P120.mzXML 581     infected       142dpi\n",
       "17 X582_Group3E_142dpi_LA_177_G_B5_P120.mzXML 582     infected       142dpi\n",
       "18 X583_Group3E_142dpi_LA_178_G_B6_P120.mzXML 583     infected       142dpi\n",
       "19 X584_Group3E_142dpi_LA_179_G_B7_P120.mzXML 584     infected       142dpi\n",
       "20 X585_Group3E_142dpi_LA_180_G_B8_P120.mzXML 585     infected       142dpi\n",
       "26 X631_Group15_142dpi_LA_191_G_C7_P120.mzXML 631     BNZ            142dpi\n",
       "   organ well_position plate mass_400   mass_500   mass_600    mass_700   \n",
       "16 LA    B4            P120  0.07679123 0.06459760 0.000748383 0.013592907\n",
       "17 LA    B5            P120  0.05637692 0.04122667 0.000886637 0.024421916\n",
       "18 LA    B6            P120  0.06208490 0.05214047 0.001578818 0.013405126\n",
       "19 LA    B7            P120  0.04845728 0.04999808 0.001582853 0.019946098\n",
       "20 LA    B8            P120  0.03304103 0.02966949 0.000760197 0.007445944\n",
       "26 LA    C7            P120  0.06045042 0.05687426 0.001713204 0.018418201\n",
       "   mass_800   \n",
       "16 0.002109551\n",
       "17 0.006401568\n",
       "18 0.002711381\n",
       "19 0.001384420\n",
       "20 0.001272537\n",
       "26 0.004730012"
      ]
     },
     "metadata": {},
     "output_type": "display_data"
    },
    {
     "data": {
      "text/html": [
       "<ol class=list-inline>\n",
       "\t<li>30</li>\n",
       "\t<li>12</li>\n",
       "</ol>\n"
      ],
      "text/latex": [
       "\\begin{enumerate*}\n",
       "\\item 30\n",
       "\\item 12\n",
       "\\end{enumerate*}\n"
      ],
      "text/markdown": [
       "1. 30\n",
       "2. 12\n",
       "\n",
       "\n"
      ],
      "text/plain": [
       "[1] 30 12"
      ]
     },
     "metadata": {},
     "output_type": "display_data"
    },
    {
     "data": {
      "text/html": [
       "<ol class=list-inline>\n",
       "\t<li>30</li>\n",
       "\t<li>5</li>\n",
       "</ol>\n"
      ],
      "text/latex": [
       "\\begin{enumerate*}\n",
       "\\item 30\n",
       "\\item 5\n",
       "\\end{enumerate*}\n"
      ],
      "text/markdown": [
       "1. 30\n",
       "2. 5\n",
       "\n",
       "\n"
      ],
      "text/plain": [
       "[1] 30  5"
      ]
     },
     "metadata": {},
     "output_type": "display_data"
    },
    {
     "data": {
      "text/html": [
       "<ol class=list-inline>\n",
       "\t<li>30</li>\n",
       "\t<li>5</li>\n",
       "</ol>\n"
      ],
      "text/latex": [
       "\\begin{enumerate*}\n",
       "\\item 30\n",
       "\\item 5\n",
       "\\end{enumerate*}\n"
      ],
      "text/markdown": [
       "1. 30\n",
       "2. 5\n",
       "\n",
       "\n"
      ],
      "text/plain": [
       "[1] 30  5"
      ]
     },
     "metadata": {},
     "output_type": "display_data"
    },
    {
     "data": {
      "text/html": [
       "<ol class=list-inline>\n",
       "\t<li>30</li>\n",
       "\t<li>12</li>\n",
       "</ol>\n"
      ],
      "text/latex": [
       "\\begin{enumerate*}\n",
       "\\item 30\n",
       "\\item 12\n",
       "\\end{enumerate*}\n"
      ],
      "text/markdown": [
       "1. 30\n",
       "2. 12\n",
       "\n",
       "\n"
      ],
      "text/plain": [
       "[1] 30 12"
      ]
     },
     "metadata": {},
     "output_type": "display_data"
    }
   ],
   "source": [
    "noMeta<-features_pos[,8:12]\n",
    "head(noMeta)\n",
    "not_zero<-which(colSums(noMeta) != 0)\n",
    "head(not_zero)\n",
    "nonzero <- noMeta[, not_zero]\n",
    "nonzero\n",
    "nonzero_wMeta<-cbind(features_pos[,1:7], nonzero)\n",
    "head(nonzero_wMeta)\n",
    "dim(features_pos)\n",
    "dim(noMeta)\n",
    "dim(nonzero)\n",
    "dim(nonzero_wMeta)"
   ]
  },
  {
   "cell_type": "code",
   "execution_count": 5,
   "metadata": {
    "scrolled": true
   },
   "outputs": [
    {
     "data": {
      "text/html": [
       "<ol class=list-inline>\n",
       "\t<li>0.0127990313408827</li>\n",
       "\t<li>0.0209023068445138</li>\n",
       "\t<li>0.460958749211566</li>\n",
       "\t<li>0.304590816047085</li>\n",
       "\t<li>0.201679436339622</li>\n",
       "</ol>\n"
      ],
      "text/latex": [
       "\\begin{enumerate*}\n",
       "\\item 0.0127990313408827\n",
       "\\item 0.0209023068445138\n",
       "\\item 0.460958749211566\n",
       "\\item 0.304590816047085\n",
       "\\item 0.201679436339622\n",
       "\\end{enumerate*}\n"
      ],
      "text/markdown": [
       "1. 0.0127990313408827\n",
       "2. 0.0209023068445138\n",
       "3. 0.460958749211566\n",
       "4. 0.304590816047085\n",
       "5. 0.201679436339622\n",
       "\n",
       "\n"
      ],
      "text/plain": [
       "[1] 0.01279903 0.02090231 0.46095875 0.30459082 0.20167944"
      ]
     },
     "metadata": {},
     "output_type": "display_data"
    },
    {
     "data": {
      "text/html": [
       "<ol class=list-inline>\n",
       "\t<li>0.0522557671112844</li>\n",
       "\t<li>0.0522557671112844</li>\n",
       "\t<li>0.460958749211566</li>\n",
       "\t<li>0.380738520058856</li>\n",
       "\t<li>0.33613239389937</li>\n",
       "</ol>\n"
      ],
      "text/latex": [
       "\\begin{enumerate*}\n",
       "\\item 0.0522557671112844\n",
       "\\item 0.0522557671112844\n",
       "\\item 0.460958749211566\n",
       "\\item 0.380738520058856\n",
       "\\item 0.33613239389937\n",
       "\\end{enumerate*}\n"
      ],
      "text/markdown": [
       "1. 0.0522557671112844\n",
       "2. 0.0522557671112844\n",
       "3. 0.460958749211566\n",
       "4. 0.380738520058856\n",
       "5. 0.33613239389937\n",
       "\n",
       "\n"
      ],
      "text/plain": [
       "[1] 0.05225577 0.05225577 0.46095875 0.38073852 0.33613239"
      ]
     },
     "metadata": {},
     "output_type": "display_data"
    }
   ],
   "source": [
    "pval<-c()\n",
    "\n",
    "for (i in 8:ncol(nonzero_wMeta)) \n",
    "pval<-c(pval,wilcox.test(nonzero_wMeta[,i]~nonzero_wMeta$Treatmentgroup)$p.value)\n",
    "head(pval)\n",
    "pAdj <- p.adjust(pval, method = c(\"fdr\"), n=length(pval)) \n",
    "head(pAdj) \n",
    "\n"
   ]
  },
  {
   "cell_type": "code",
   "execution_count": 6,
   "metadata": {
    "scrolled": true
   },
   "outputs": [
    {
     "data": {
      "text/html": [
       "5"
      ],
      "text/latex": [
       "5"
      ],
      "text/markdown": [
       "5"
      ],
      "text/plain": [
       "[1] 5"
      ]
     },
     "metadata": {},
     "output_type": "display_data"
    }
   ],
   "source": [
    "length(pval)"
   ]
  },
  {
   "cell_type": "code",
   "execution_count": 7,
   "metadata": {
    "scrolled": true
   },
   "outputs": [
    {
     "data": {
      "text/html": [
       "5"
      ],
      "text/latex": [
       "5"
      ],
      "text/markdown": [
       "5"
      ],
      "text/plain": [
       "[1] 5"
      ]
     },
     "metadata": {},
     "output_type": "display_data"
    }
   ],
   "source": [
    "length(pAdj)"
   ]
  },
  {
   "cell_type": "code",
   "execution_count": 8,
   "metadata": {},
   "outputs": [
    {
     "data": {
      "text/html": [
       "<ol class=list-inline>\n",
       "\t<li>2</li>\n",
       "\t<li>5</li>\n",
       "</ol>\n"
      ],
      "text/latex": [
       "\\begin{enumerate*}\n",
       "\\item 2\n",
       "\\item 5\n",
       "\\end{enumerate*}\n"
      ],
      "text/markdown": [
       "1. 2\n",
       "2. 5\n",
       "\n",
       "\n"
      ],
      "text/plain": [
       "[1] 2 5"
      ]
     },
     "metadata": {},
     "output_type": "display_data"
    },
    {
     "data": {
      "text/html": [
       "<table>\n",
       "<thead><tr><th></th><th scope=col>mass_400</th><th scope=col>mass_500</th><th scope=col>mass_600</th></tr></thead>\n",
       "<tbody>\n",
       "\t<tr><th scope=row>BNZ</th><td>0.03470930 </td><td>0.03114936 </td><td>0.001123211</td></tr>\n",
       "\t<tr><th scope=row>infected</th><td>0.04838773 </td><td>0.04354037 </td><td>0.001217371</td></tr>\n",
       "</tbody>\n",
       "</table>\n"
      ],
      "text/latex": [
       "\\begin{tabular}{r|lll}\n",
       "  & mass\\_400 & mass\\_500 & mass\\_600\\\\\n",
       "\\hline\n",
       "\tBNZ & 0.03470930  & 0.03114936  & 0.001123211\\\\\n",
       "\tinfected & 0.04838773  & 0.04354037  & 0.001217371\\\\\n",
       "\\end{tabular}\n"
      ],
      "text/markdown": [
       "\n",
       "| <!--/--> | mass_400 | mass_500 | mass_600 |\n",
       "|---|---|---|---|\n",
       "| BNZ | 0.03470930  | 0.03114936  | 0.001123211 |\n",
       "| infected | 0.04838773  | 0.04354037  | 0.001217371 |\n",
       "\n"
      ],
      "text/plain": [
       "         mass_400   mass_500   mass_600   \n",
       "BNZ      0.03470930 0.03114936 0.001123211\n",
       "infected 0.04838773 0.04354037 0.001217371"
      ]
     },
     "metadata": {},
     "output_type": "display_data"
    },
    {
     "data": {
      "text/html": [
       "<dl class=dl-horizontal>\n",
       "\t<dt>mass_400</dt>\n",
       "\t\t<dd>0.717316175641501</dd>\n",
       "\t<dt>mass_500</dt>\n",
       "\t\t<dd>0.715413305103248</dd>\n",
       "\t<dt>mass_600</dt>\n",
       "\t\t<dd>0.922652629280062</dd>\n",
       "\t<dt>mass_700</dt>\n",
       "\t\t<dd>0.808731380885563</dd>\n",
       "\t<dt>mass_800</dt>\n",
       "\t\t<dd>0.90064983414054</dd>\n",
       "</dl>\n"
      ],
      "text/latex": [
       "\\begin{description*}\n",
       "\\item[mass\\textbackslash{}\\_400] 0.717316175641501\n",
       "\\item[mass\\textbackslash{}\\_500] 0.715413305103248\n",
       "\\item[mass\\textbackslash{}\\_600] 0.922652629280062\n",
       "\\item[mass\\textbackslash{}\\_700] 0.808731380885563\n",
       "\\item[mass\\textbackslash{}\\_800] 0.90064983414054\n",
       "\\end{description*}\n"
      ],
      "text/markdown": [
       "mass_400\n",
       ":   0.717316175641501mass_500\n",
       ":   0.715413305103248mass_600\n",
       ":   0.922652629280062mass_700\n",
       ":   0.808731380885563mass_800\n",
       ":   0.90064983414054\n",
       "\n"
      ],
      "text/plain": [
       " mass_400  mass_500  mass_600  mass_700  mass_800 \n",
       "0.7173162 0.7154133 0.9226526 0.8087314 0.9006498 "
      ]
     },
     "metadata": {},
     "output_type": "display_data"
    },
    {
     "data": {
      "text/html": [
       "<ol class=list-inline>\n",
       "\t<li>'numeric'</li>\n",
       "\t<li>'vector'</li>\n",
       "</ol>\n"
      ],
      "text/latex": [
       "\\begin{enumerate*}\n",
       "\\item 'numeric'\n",
       "\\item 'vector'\n",
       "\\end{enumerate*}\n"
      ],
      "text/markdown": [
       "1. 'numeric'\n",
       "2. 'vector'\n",
       "\n",
       "\n"
      ],
      "text/plain": [
       "[1] \"numeric\" \"vector\" "
      ]
     },
     "metadata": {},
     "output_type": "display_data"
    }
   ],
   "source": [
    "avg<- apply(nonzero_wMeta[,8:ncol(nonzero_wMeta)], 2, function(x) tapply(x, nonzero_wMeta$Treatmentgroup, function(x) mean(x))) \n",
    "\n",
    "dim(avg)\n",
    "\n",
    "avg[,1:3]\n",
    "\n",
    "fch <- apply(avg, 2, function(x) x[1]/x[2]) \n",
    "\n",
    "head(fch)\n",
    "is(fch)"
   ]
  },
  {
   "cell_type": "code",
   "execution_count": 9,
   "metadata": {
    "scrolled": true
   },
   "outputs": [
    {
     "data": {
      "text/html": [
       "<dl class=dl-horizontal>\n",
       "\t<dt>mass_400</dt>\n",
       "\t\t<dd>0.717316175641501</dd>\n",
       "\t<dt>mass_500</dt>\n",
       "\t\t<dd>0.715413305103248</dd>\n",
       "\t<dt>mass_600</dt>\n",
       "\t\t<dd>0.922652629280062</dd>\n",
       "\t<dt>mass_700</dt>\n",
       "\t\t<dd>0.808731380885563</dd>\n",
       "\t<dt>mass_800</dt>\n",
       "\t\t<dd>0.90064983414054</dd>\n",
       "</dl>\n"
      ],
      "text/latex": [
       "\\begin{description*}\n",
       "\\item[mass\\textbackslash{}\\_400] 0.717316175641501\n",
       "\\item[mass\\textbackslash{}\\_500] 0.715413305103248\n",
       "\\item[mass\\textbackslash{}\\_600] 0.922652629280062\n",
       "\\item[mass\\textbackslash{}\\_700] 0.808731380885563\n",
       "\\item[mass\\textbackslash{}\\_800] 0.90064983414054\n",
       "\\end{description*}\n"
      ],
      "text/markdown": [
       "mass_400\n",
       ":   0.717316175641501mass_500\n",
       ":   0.715413305103248mass_600\n",
       ":   0.922652629280062mass_700\n",
       ":   0.808731380885563mass_800\n",
       ":   0.90064983414054\n",
       "\n"
      ],
      "text/plain": [
       " mass_400  mass_500  mass_600  mass_700  mass_800 \n",
       "0.7173162 0.7154133 0.9226526 0.8087314 0.9006498 "
      ]
     },
     "metadata": {},
     "output_type": "display_data"
    }
   ],
   "source": [
    "fch"
   ]
  },
  {
   "cell_type": "code",
   "execution_count": 10,
   "metadata": {
    "scrolled": false
   },
   "outputs": [],
   "source": [
    "df <- data.frame(fch,pval, pAdj)\n",
    "write.csv(df, \"PC-treat-LA-wilcox-infected-BNZ.csv\")"
   ]
  },
  {
   "cell_type": "code",
   "execution_count": null,
   "metadata": {},
   "outputs": [],
   "source": []
  },
  {
   "cell_type": "code",
   "execution_count": null,
   "metadata": {},
   "outputs": [],
   "source": []
  },
  {
   "cell_type": "code",
   "execution_count": null,
   "metadata": {},
   "outputs": [],
   "source": []
  },
  {
   "cell_type": "code",
   "execution_count": null,
   "metadata": {},
   "outputs": [],
   "source": []
  },
  {
   "cell_type": "code",
   "execution_count": null,
   "metadata": {},
   "outputs": [],
   "source": []
  },
  {
   "cell_type": "code",
   "execution_count": null,
   "metadata": {},
   "outputs": [],
   "source": []
  }
 ],
 "metadata": {
  "kernelspec": {
   "display_name": "R",
   "language": "R",
   "name": "ir"
  },
  "language_info": {
   "codemirror_mode": "r",
   "file_extension": ".r",
   "mimetype": "text/x-r-source",
   "name": "R",
   "pygments_lexer": "r",
   "version": "3.6.1"
  }
 },
 "nbformat": 4,
 "nbformat_minor": 2
}
