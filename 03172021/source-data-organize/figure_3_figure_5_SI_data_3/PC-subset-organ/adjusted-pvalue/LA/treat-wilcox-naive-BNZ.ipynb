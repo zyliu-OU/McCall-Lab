{
 "cells": [
  {
   "cell_type": "code",
   "execution_count": 11,
   "metadata": {},
   "outputs": [],
   "source": [
    "a <- read.csv(\"03172021-PC-treatment-LA-M-F.csv\")"
   ]
  },
  {
   "cell_type": "code",
   "execution_count": 12,
   "metadata": {},
   "outputs": [
    {
     "data": {
      "text/html": [
       "<table>\n",
       "<thead><tr><th scope=col>filename</th><th scope=col>MouseID</th><th scope=col>Treatmentgroup</th><th scope=col>DPI</th><th scope=col>organ</th><th scope=col>well_position</th><th scope=col>plate</th><th scope=col>mass_400</th><th scope=col>mass_500</th><th scope=col>mass_600</th><th scope=col>mass_700</th><th scope=col>mass_800</th></tr></thead>\n",
       "<tbody>\n",
       "\t<tr><td>X511_Group1C_142dpi_LA_161_G_A1_P120.mzXML</td><td>511                                       </td><td>naive                                     </td><td>142dpi                                    </td><td>LA                                        </td><td>A1                                        </td><td>P120                                      </td><td>0.05708834                                </td><td>0.05868799                                </td><td>0.001422083                               </td><td>0.024448705                               </td><td>0.002961521                               </td></tr>\n",
       "\t<tr><td>X512_Group1C_142dpi_LA_162_G_A2_P120.mzXML</td><td>512                                       </td><td>naive                                     </td><td>142dpi                                    </td><td>LA                                        </td><td>A2                                        </td><td>P120                                      </td><td>0.04364981                                </td><td>0.03529239                                </td><td>0.001064818                               </td><td>0.015103071                               </td><td>0.001586869                               </td></tr>\n",
       "\t<tr><td>X513_Group1C_142dpi_LA_163_G_A3_P120.mzXML</td><td>513                                       </td><td>naive                                     </td><td>142dpi                                    </td><td>LA                                        </td><td>A3                                        </td><td>P120                                      </td><td>0.02723663                                </td><td>0.02308907                                </td><td>0.000641467                               </td><td>0.004038756                               </td><td>0.001170106                               </td></tr>\n",
       "\t<tr><td>X514_Group1C_142dpi_LA_164_G_A4_P120.mzXML</td><td>514                                       </td><td>naive                                     </td><td>142dpi                                    </td><td>LA                                        </td><td>A4                                        </td><td>P120                                      </td><td>0.04795208                                </td><td>0.05203415                                </td><td>0.002287018                               </td><td>0.027557699                               </td><td>0.002876021                               </td></tr>\n",
       "\t<tr><td>X515_Group1C_142dpi_LA_165_G_A5_P120.mzXML</td><td>515                                       </td><td>naive                                     </td><td>142dpi                                    </td><td>LA                                        </td><td>A5                                        </td><td>P120                                      </td><td>0.06062535                                </td><td>0.05520182                                </td><td>0.001113023                               </td><td>0.016928592                               </td><td>0.002033275                               </td></tr>\n",
       "\t<tr><td>X531_Group1C_142dpi_LA_166_G_A6_P120.mzXML</td><td>531                                       </td><td>naive                                     </td><td>142dpi                                    </td><td>LA                                        </td><td>A6                                        </td><td>P120                                      </td><td>0.05173330                                </td><td>0.04288872                                </td><td>0.001191404                               </td><td>0.006303823                               </td><td>0.001142296                               </td></tr>\n",
       "</tbody>\n",
       "</table>\n"
      ],
      "text/latex": [
       "\\begin{tabular}{r|llllllllllll}\n",
       " filename & MouseID & Treatmentgroup & DPI & organ & well\\_position & plate & mass\\_400 & mass\\_500 & mass\\_600 & mass\\_700 & mass\\_800\\\\\n",
       "\\hline\n",
       "\t X511\\_Group1C\\_142dpi\\_LA\\_161\\_G\\_A1\\_P120.mzXML & 511                                                      & naive                                                    & 142dpi                                                   & LA                                                       & A1                                                       & P120                                                     & 0.05708834                                               & 0.05868799                                               & 0.001422083                                              & 0.024448705                                              & 0.002961521                                             \\\\\n",
       "\t X512\\_Group1C\\_142dpi\\_LA\\_162\\_G\\_A2\\_P120.mzXML & 512                                                      & naive                                                    & 142dpi                                                   & LA                                                       & A2                                                       & P120                                                     & 0.04364981                                               & 0.03529239                                               & 0.001064818                                              & 0.015103071                                              & 0.001586869                                             \\\\\n",
       "\t X513\\_Group1C\\_142dpi\\_LA\\_163\\_G\\_A3\\_P120.mzXML & 513                                                      & naive                                                    & 142dpi                                                   & LA                                                       & A3                                                       & P120                                                     & 0.02723663                                               & 0.02308907                                               & 0.000641467                                              & 0.004038756                                              & 0.001170106                                             \\\\\n",
       "\t X514\\_Group1C\\_142dpi\\_LA\\_164\\_G\\_A4\\_P120.mzXML & 514                                                      & naive                                                    & 142dpi                                                   & LA                                                       & A4                                                       & P120                                                     & 0.04795208                                               & 0.05203415                                               & 0.002287018                                              & 0.027557699                                              & 0.002876021                                             \\\\\n",
       "\t X515\\_Group1C\\_142dpi\\_LA\\_165\\_G\\_A5\\_P120.mzXML & 515                                                      & naive                                                    & 142dpi                                                   & LA                                                       & A5                                                       & P120                                                     & 0.06062535                                               & 0.05520182                                               & 0.001113023                                              & 0.016928592                                              & 0.002033275                                             \\\\\n",
       "\t X531\\_Group1C\\_142dpi\\_LA\\_166\\_G\\_A6\\_P120.mzXML & 531                                                      & naive                                                    & 142dpi                                                   & LA                                                       & A6                                                       & P120                                                     & 0.05173330                                               & 0.04288872                                               & 0.001191404                                              & 0.006303823                                              & 0.001142296                                             \\\\\n",
       "\\end{tabular}\n"
      ],
      "text/markdown": [
       "\n",
       "| filename | MouseID | Treatmentgroup | DPI | organ | well_position | plate | mass_400 | mass_500 | mass_600 | mass_700 | mass_800 |\n",
       "|---|---|---|---|---|---|---|---|---|---|---|---|\n",
       "| X511_Group1C_142dpi_LA_161_G_A1_P120.mzXML | 511                                        | naive                                      | 142dpi                                     | LA                                         | A1                                         | P120                                       | 0.05708834                                 | 0.05868799                                 | 0.001422083                                | 0.024448705                                | 0.002961521                                |\n",
       "| X512_Group1C_142dpi_LA_162_G_A2_P120.mzXML | 512                                        | naive                                      | 142dpi                                     | LA                                         | A2                                         | P120                                       | 0.04364981                                 | 0.03529239                                 | 0.001064818                                | 0.015103071                                | 0.001586869                                |\n",
       "| X513_Group1C_142dpi_LA_163_G_A3_P120.mzXML | 513                                        | naive                                      | 142dpi                                     | LA                                         | A3                                         | P120                                       | 0.02723663                                 | 0.02308907                                 | 0.000641467                                | 0.004038756                                | 0.001170106                                |\n",
       "| X514_Group1C_142dpi_LA_164_G_A4_P120.mzXML | 514                                        | naive                                      | 142dpi                                     | LA                                         | A4                                         | P120                                       | 0.04795208                                 | 0.05203415                                 | 0.002287018                                | 0.027557699                                | 0.002876021                                |\n",
       "| X515_Group1C_142dpi_LA_165_G_A5_P120.mzXML | 515                                        | naive                                      | 142dpi                                     | LA                                         | A5                                         | P120                                       | 0.06062535                                 | 0.05520182                                 | 0.001113023                                | 0.016928592                                | 0.002033275                                |\n",
       "| X531_Group1C_142dpi_LA_166_G_A6_P120.mzXML | 531                                        | naive                                      | 142dpi                                     | LA                                         | A6                                         | P120                                       | 0.05173330                                 | 0.04288872                                 | 0.001191404                                | 0.006303823                                | 0.001142296                                |\n",
       "\n"
      ],
      "text/plain": [
       "  filename                                   MouseID Treatmentgroup DPI   \n",
       "1 X511_Group1C_142dpi_LA_161_G_A1_P120.mzXML 511     naive          142dpi\n",
       "2 X512_Group1C_142dpi_LA_162_G_A2_P120.mzXML 512     naive          142dpi\n",
       "3 X513_Group1C_142dpi_LA_163_G_A3_P120.mzXML 513     naive          142dpi\n",
       "4 X514_Group1C_142dpi_LA_164_G_A4_P120.mzXML 514     naive          142dpi\n",
       "5 X515_Group1C_142dpi_LA_165_G_A5_P120.mzXML 515     naive          142dpi\n",
       "6 X531_Group1C_142dpi_LA_166_G_A6_P120.mzXML 531     naive          142dpi\n",
       "  organ well_position plate mass_400   mass_500   mass_600    mass_700   \n",
       "1 LA    A1            P120  0.05708834 0.05868799 0.001422083 0.024448705\n",
       "2 LA    A2            P120  0.04364981 0.03529239 0.001064818 0.015103071\n",
       "3 LA    A3            P120  0.02723663 0.02308907 0.000641467 0.004038756\n",
       "4 LA    A4            P120  0.04795208 0.05203415 0.002287018 0.027557699\n",
       "5 LA    A5            P120  0.06062535 0.05520182 0.001113023 0.016928592\n",
       "6 LA    A6            P120  0.05173330 0.04288872 0.001191404 0.006303823\n",
       "  mass_800   \n",
       "1 0.002961521\n",
       "2 0.001586869\n",
       "3 0.001170106\n",
       "4 0.002876021\n",
       "5 0.002033275\n",
       "6 0.001142296"
      ]
     },
     "metadata": {},
     "output_type": "display_data"
    },
    {
     "data": {
      "text/html": [
       "<ol class=list-inline>\n",
       "\t<li>60</li>\n",
       "\t<li>12</li>\n",
       "</ol>\n"
      ],
      "text/latex": [
       "\\begin{enumerate*}\n",
       "\\item 60\n",
       "\\item 12\n",
       "\\end{enumerate*}\n"
      ],
      "text/markdown": [
       "1. 60\n",
       "2. 12\n",
       "\n",
       "\n"
      ],
      "text/plain": [
       "[1] 60 12"
      ]
     },
     "metadata": {},
     "output_type": "display_data"
    }
   ],
   "source": [
    "head(a)\n",
    "dim(a)"
   ]
  },
  {
   "cell_type": "code",
   "execution_count": 13,
   "metadata": {},
   "outputs": [
    {
     "data": {
      "text/html": [
       "<table>\n",
       "<thead><tr><th scope=col>filename</th><th scope=col>MouseID</th><th scope=col>Treatmentgroup</th><th scope=col>DPI</th><th scope=col>organ</th><th scope=col>well_position</th><th scope=col>plate</th><th scope=col>mass_400</th><th scope=col>mass_500</th><th scope=col>mass_600</th><th scope=col>mass_700</th><th scope=col>mass_800</th></tr></thead>\n",
       "<tbody>\n",
       "\t<tr><td>X511_Group1C_142dpi_LA_161_G_A1_P120.mzXML</td><td>511                                       </td><td>naive                                     </td><td>142dpi                                    </td><td>LA                                        </td><td>A1                                        </td><td>P120                                      </td><td>0.05708834                                </td><td>0.05868799                                </td><td>0.001422083                               </td><td>0.024448705                               </td><td>0.002961521                               </td></tr>\n",
       "\t<tr><td>X512_Group1C_142dpi_LA_162_G_A2_P120.mzXML</td><td>512                                       </td><td>naive                                     </td><td>142dpi                                    </td><td>LA                                        </td><td>A2                                        </td><td>P120                                      </td><td>0.04364981                                </td><td>0.03529239                                </td><td>0.001064818                               </td><td>0.015103071                               </td><td>0.001586869                               </td></tr>\n",
       "\t<tr><td>X513_Group1C_142dpi_LA_163_G_A3_P120.mzXML</td><td>513                                       </td><td>naive                                     </td><td>142dpi                                    </td><td>LA                                        </td><td>A3                                        </td><td>P120                                      </td><td>0.02723663                                </td><td>0.02308907                                </td><td>0.000641467                               </td><td>0.004038756                               </td><td>0.001170106                               </td></tr>\n",
       "\t<tr><td>X514_Group1C_142dpi_LA_164_G_A4_P120.mzXML</td><td>514                                       </td><td>naive                                     </td><td>142dpi                                    </td><td>LA                                        </td><td>A4                                        </td><td>P120                                      </td><td>0.04795208                                </td><td>0.05203415                                </td><td>0.002287018                               </td><td>0.027557699                               </td><td>0.002876021                               </td></tr>\n",
       "\t<tr><td>X515_Group1C_142dpi_LA_165_G_A5_P120.mzXML</td><td>515                                       </td><td>naive                                     </td><td>142dpi                                    </td><td>LA                                        </td><td>A5                                        </td><td>P120                                      </td><td>0.06062535                                </td><td>0.05520182                                </td><td>0.001113023                               </td><td>0.016928592                               </td><td>0.002033275                               </td></tr>\n",
       "\t<tr><td>X531_Group1C_142dpi_LA_166_G_A6_P120.mzXML</td><td>531                                       </td><td>naive                                     </td><td>142dpi                                    </td><td>LA                                        </td><td>A6                                        </td><td>P120                                      </td><td>0.05173330                                </td><td>0.04288872                                </td><td>0.001191404                               </td><td>0.006303823                               </td><td>0.001142296                               </td></tr>\n",
       "</tbody>\n",
       "</table>\n"
      ],
      "text/latex": [
       "\\begin{tabular}{r|llllllllllll}\n",
       " filename & MouseID & Treatmentgroup & DPI & organ & well\\_position & plate & mass\\_400 & mass\\_500 & mass\\_600 & mass\\_700 & mass\\_800\\\\\n",
       "\\hline\n",
       "\t X511\\_Group1C\\_142dpi\\_LA\\_161\\_G\\_A1\\_P120.mzXML & 511                                                      & naive                                                    & 142dpi                                                   & LA                                                       & A1                                                       & P120                                                     & 0.05708834                                               & 0.05868799                                               & 0.001422083                                              & 0.024448705                                              & 0.002961521                                             \\\\\n",
       "\t X512\\_Group1C\\_142dpi\\_LA\\_162\\_G\\_A2\\_P120.mzXML & 512                                                      & naive                                                    & 142dpi                                                   & LA                                                       & A2                                                       & P120                                                     & 0.04364981                                               & 0.03529239                                               & 0.001064818                                              & 0.015103071                                              & 0.001586869                                             \\\\\n",
       "\t X513\\_Group1C\\_142dpi\\_LA\\_163\\_G\\_A3\\_P120.mzXML & 513                                                      & naive                                                    & 142dpi                                                   & LA                                                       & A3                                                       & P120                                                     & 0.02723663                                               & 0.02308907                                               & 0.000641467                                              & 0.004038756                                              & 0.001170106                                             \\\\\n",
       "\t X514\\_Group1C\\_142dpi\\_LA\\_164\\_G\\_A4\\_P120.mzXML & 514                                                      & naive                                                    & 142dpi                                                   & LA                                                       & A4                                                       & P120                                                     & 0.04795208                                               & 0.05203415                                               & 0.002287018                                              & 0.027557699                                              & 0.002876021                                             \\\\\n",
       "\t X515\\_Group1C\\_142dpi\\_LA\\_165\\_G\\_A5\\_P120.mzXML & 515                                                      & naive                                                    & 142dpi                                                   & LA                                                       & A5                                                       & P120                                                     & 0.06062535                                               & 0.05520182                                               & 0.001113023                                              & 0.016928592                                              & 0.002033275                                             \\\\\n",
       "\t X531\\_Group1C\\_142dpi\\_LA\\_166\\_G\\_A6\\_P120.mzXML & 531                                                      & naive                                                    & 142dpi                                                   & LA                                                       & A6                                                       & P120                                                     & 0.05173330                                               & 0.04288872                                               & 0.001191404                                              & 0.006303823                                              & 0.001142296                                             \\\\\n",
       "\\end{tabular}\n"
      ],
      "text/markdown": [
       "\n",
       "| filename | MouseID | Treatmentgroup | DPI | organ | well_position | plate | mass_400 | mass_500 | mass_600 | mass_700 | mass_800 |\n",
       "|---|---|---|---|---|---|---|---|---|---|---|---|\n",
       "| X511_Group1C_142dpi_LA_161_G_A1_P120.mzXML | 511                                        | naive                                      | 142dpi                                     | LA                                         | A1                                         | P120                                       | 0.05708834                                 | 0.05868799                                 | 0.001422083                                | 0.024448705                                | 0.002961521                                |\n",
       "| X512_Group1C_142dpi_LA_162_G_A2_P120.mzXML | 512                                        | naive                                      | 142dpi                                     | LA                                         | A2                                         | P120                                       | 0.04364981                                 | 0.03529239                                 | 0.001064818                                | 0.015103071                                | 0.001586869                                |\n",
       "| X513_Group1C_142dpi_LA_163_G_A3_P120.mzXML | 513                                        | naive                                      | 142dpi                                     | LA                                         | A3                                         | P120                                       | 0.02723663                                 | 0.02308907                                 | 0.000641467                                | 0.004038756                                | 0.001170106                                |\n",
       "| X514_Group1C_142dpi_LA_164_G_A4_P120.mzXML | 514                                        | naive                                      | 142dpi                                     | LA                                         | A4                                         | P120                                       | 0.04795208                                 | 0.05203415                                 | 0.002287018                                | 0.027557699                                | 0.002876021                                |\n",
       "| X515_Group1C_142dpi_LA_165_G_A5_P120.mzXML | 515                                        | naive                                      | 142dpi                                     | LA                                         | A5                                         | P120                                       | 0.06062535                                 | 0.05520182                                 | 0.001113023                                | 0.016928592                                | 0.002033275                                |\n",
       "| X531_Group1C_142dpi_LA_166_G_A6_P120.mzXML | 531                                        | naive                                      | 142dpi                                     | LA                                         | A6                                         | P120                                       | 0.05173330                                 | 0.04288872                                 | 0.001191404                                | 0.006303823                                | 0.001142296                                |\n",
       "\n"
      ],
      "text/plain": [
       "  filename                                   MouseID Treatmentgroup DPI   \n",
       "1 X511_Group1C_142dpi_LA_161_G_A1_P120.mzXML 511     naive          142dpi\n",
       "2 X512_Group1C_142dpi_LA_162_G_A2_P120.mzXML 512     naive          142dpi\n",
       "3 X513_Group1C_142dpi_LA_163_G_A3_P120.mzXML 513     naive          142dpi\n",
       "4 X514_Group1C_142dpi_LA_164_G_A4_P120.mzXML 514     naive          142dpi\n",
       "5 X515_Group1C_142dpi_LA_165_G_A5_P120.mzXML 515     naive          142dpi\n",
       "6 X531_Group1C_142dpi_LA_166_G_A6_P120.mzXML 531     naive          142dpi\n",
       "  organ well_position plate mass_400   mass_500   mass_600    mass_700   \n",
       "1 LA    A1            P120  0.05708834 0.05868799 0.001422083 0.024448705\n",
       "2 LA    A2            P120  0.04364981 0.03529239 0.001064818 0.015103071\n",
       "3 LA    A3            P120  0.02723663 0.02308907 0.000641467 0.004038756\n",
       "4 LA    A4            P120  0.04795208 0.05203415 0.002287018 0.027557699\n",
       "5 LA    A5            P120  0.06062535 0.05520182 0.001113023 0.016928592\n",
       "6 LA    A6            P120  0.05173330 0.04288872 0.001191404 0.006303823\n",
       "  mass_800   \n",
       "1 0.002961521\n",
       "2 0.001586869\n",
       "3 0.001170106\n",
       "4 0.002876021\n",
       "5 0.002033275\n",
       "6 0.001142296"
      ]
     },
     "metadata": {},
     "output_type": "display_data"
    },
    {
     "data": {
      "text/html": [
       "<ol class=list-inline>\n",
       "\t<li>30</li>\n",
       "\t<li>12</li>\n",
       "</ol>\n"
      ],
      "text/latex": [
       "\\begin{enumerate*}\n",
       "\\item 30\n",
       "\\item 12\n",
       "\\end{enumerate*}\n"
      ],
      "text/markdown": [
       "1. 30\n",
       "2. 12\n",
       "\n",
       "\n"
      ],
      "text/plain": [
       "[1] 30 12"
      ]
     },
     "metadata": {},
     "output_type": "display_data"
    }
   ],
   "source": [
    "features_pos<-droplevels(subset(a, a$Treatmentgroup==c(\"naive\")|a$Treatmentgroup==c(\"BNZ\")))\n",
    "head(features_pos)\n",
    "dim(features_pos)"
   ]
  },
  {
   "cell_type": "code",
   "execution_count": 14,
   "metadata": {
    "scrolled": false
   },
   "outputs": [
    {
     "data": {
      "text/html": [
       "<table>\n",
       "<thead><tr><th scope=col>mass_400</th><th scope=col>mass_500</th><th scope=col>mass_600</th><th scope=col>mass_700</th><th scope=col>mass_800</th></tr></thead>\n",
       "<tbody>\n",
       "\t<tr><td>0.05708834 </td><td>0.05868799 </td><td>0.001422083</td><td>0.024448705</td><td>0.002961521</td></tr>\n",
       "\t<tr><td>0.04364981 </td><td>0.03529239 </td><td>0.001064818</td><td>0.015103071</td><td>0.001586869</td></tr>\n",
       "\t<tr><td>0.02723663 </td><td>0.02308907 </td><td>0.000641467</td><td>0.004038756</td><td>0.001170106</td></tr>\n",
       "\t<tr><td>0.04795208 </td><td>0.05203415 </td><td>0.002287018</td><td>0.027557699</td><td>0.002876021</td></tr>\n",
       "\t<tr><td>0.06062535 </td><td>0.05520182 </td><td>0.001113023</td><td>0.016928592</td><td>0.002033275</td></tr>\n",
       "\t<tr><td>0.05173330 </td><td>0.04288872 </td><td>0.001191404</td><td>0.006303823</td><td>0.001142296</td></tr>\n",
       "</tbody>\n",
       "</table>\n"
      ],
      "text/latex": [
       "\\begin{tabular}{r|lllll}\n",
       " mass\\_400 & mass\\_500 & mass\\_600 & mass\\_700 & mass\\_800\\\\\n",
       "\\hline\n",
       "\t 0.05708834  & 0.05868799  & 0.001422083 & 0.024448705 & 0.002961521\\\\\n",
       "\t 0.04364981  & 0.03529239  & 0.001064818 & 0.015103071 & 0.001586869\\\\\n",
       "\t 0.02723663  & 0.02308907  & 0.000641467 & 0.004038756 & 0.001170106\\\\\n",
       "\t 0.04795208  & 0.05203415  & 0.002287018 & 0.027557699 & 0.002876021\\\\\n",
       "\t 0.06062535  & 0.05520182  & 0.001113023 & 0.016928592 & 0.002033275\\\\\n",
       "\t 0.05173330  & 0.04288872  & 0.001191404 & 0.006303823 & 0.001142296\\\\\n",
       "\\end{tabular}\n"
      ],
      "text/markdown": [
       "\n",
       "| mass_400 | mass_500 | mass_600 | mass_700 | mass_800 |\n",
       "|---|---|---|---|---|\n",
       "| 0.05708834  | 0.05868799  | 0.001422083 | 0.024448705 | 0.002961521 |\n",
       "| 0.04364981  | 0.03529239  | 0.001064818 | 0.015103071 | 0.001586869 |\n",
       "| 0.02723663  | 0.02308907  | 0.000641467 | 0.004038756 | 0.001170106 |\n",
       "| 0.04795208  | 0.05203415  | 0.002287018 | 0.027557699 | 0.002876021 |\n",
       "| 0.06062535  | 0.05520182  | 0.001113023 | 0.016928592 | 0.002033275 |\n",
       "| 0.05173330  | 0.04288872  | 0.001191404 | 0.006303823 | 0.001142296 |\n",
       "\n"
      ],
      "text/plain": [
       "  mass_400   mass_500   mass_600    mass_700    mass_800   \n",
       "1 0.05708834 0.05868799 0.001422083 0.024448705 0.002961521\n",
       "2 0.04364981 0.03529239 0.001064818 0.015103071 0.001586869\n",
       "3 0.02723663 0.02308907 0.000641467 0.004038756 0.001170106\n",
       "4 0.04795208 0.05203415 0.002287018 0.027557699 0.002876021\n",
       "5 0.06062535 0.05520182 0.001113023 0.016928592 0.002033275\n",
       "6 0.05173330 0.04288872 0.001191404 0.006303823 0.001142296"
      ]
     },
     "metadata": {},
     "output_type": "display_data"
    },
    {
     "data": {
      "text/html": [
       "<dl class=dl-horizontal>\n",
       "\t<dt>mass_400</dt>\n",
       "\t\t<dd>1</dd>\n",
       "\t<dt>mass_500</dt>\n",
       "\t\t<dd>2</dd>\n",
       "\t<dt>mass_600</dt>\n",
       "\t\t<dd>3</dd>\n",
       "\t<dt>mass_700</dt>\n",
       "\t\t<dd>4</dd>\n",
       "\t<dt>mass_800</dt>\n",
       "\t\t<dd>5</dd>\n",
       "</dl>\n"
      ],
      "text/latex": [
       "\\begin{description*}\n",
       "\\item[mass\\textbackslash{}\\_400] 1\n",
       "\\item[mass\\textbackslash{}\\_500] 2\n",
       "\\item[mass\\textbackslash{}\\_600] 3\n",
       "\\item[mass\\textbackslash{}\\_700] 4\n",
       "\\item[mass\\textbackslash{}\\_800] 5\n",
       "\\end{description*}\n"
      ],
      "text/markdown": [
       "mass_400\n",
       ":   1mass_500\n",
       ":   2mass_600\n",
       ":   3mass_700\n",
       ":   4mass_800\n",
       ":   5\n",
       "\n"
      ],
      "text/plain": [
       "mass_400 mass_500 mass_600 mass_700 mass_800 \n",
       "       1        2        3        4        5 "
      ]
     },
     "metadata": {},
     "output_type": "display_data"
    },
    {
     "data": {
      "text/html": [
       "<table>\n",
       "<thead><tr><th></th><th scope=col>mass_400</th><th scope=col>mass_500</th><th scope=col>mass_600</th><th scope=col>mass_700</th><th scope=col>mass_800</th></tr></thead>\n",
       "<tbody>\n",
       "\t<tr><th scope=row>1</th><td>0.05708834 </td><td>0.05868799 </td><td>0.001422083</td><td>0.024448705</td><td>0.002961521</td></tr>\n",
       "\t<tr><th scope=row>2</th><td>0.04364981 </td><td>0.03529239 </td><td>0.001064818</td><td>0.015103071</td><td>0.001586869</td></tr>\n",
       "\t<tr><th scope=row>3</th><td>0.02723663 </td><td>0.02308907 </td><td>0.000641467</td><td>0.004038756</td><td>0.001170106</td></tr>\n",
       "\t<tr><th scope=row>4</th><td>0.04795208 </td><td>0.05203415 </td><td>0.002287018</td><td>0.027557699</td><td>0.002876021</td></tr>\n",
       "\t<tr><th scope=row>5</th><td>0.06062535 </td><td>0.05520182 </td><td>0.001113023</td><td>0.016928592</td><td>0.002033275</td></tr>\n",
       "\t<tr><th scope=row>6</th><td>0.05173330 </td><td>0.04288872 </td><td>0.001191404</td><td>0.006303823</td><td>0.001142296</td></tr>\n",
       "\t<tr><th scope=row>7</th><td>0.04392575 </td><td>0.04305203 </td><td>0.001768802</td><td>0.012500000</td><td>0.000113900</td></tr>\n",
       "\t<tr><th scope=row>8</th><td>0.02461537 </td><td>0.02000570 </td><td>0.000327913</td><td>0.008255499</td><td>0.000229724</td></tr>\n",
       "\t<tr><th scope=row>9</th><td>0.03696300 </td><td>0.04260624 </td><td>0.001968751</td><td>0.017850814</td><td>0.002617012</td></tr>\n",
       "\t<tr><th scope=row>10</th><td>0.02508449 </td><td>0.02742818 </td><td>0.001361898</td><td>0.010482335</td><td>0.002751920</td></tr>\n",
       "\t<tr><th scope=row>11</th><td>0.04615908 </td><td>0.05130382 </td><td>0.002176780</td><td>0.022613185</td><td>0.004121204</td></tr>\n",
       "\t<tr><th scope=row>12</th><td>0.04492082 </td><td>0.05093403 </td><td>0.001883462</td><td>0.020508285</td><td>0.005726650</td></tr>\n",
       "\t<tr><th scope=row>13</th><td>0.05786115 </td><td>0.06841478 </td><td>0.002191191</td><td>0.023497470</td><td>0.005592272</td></tr>\n",
       "\t<tr><th scope=row>14</th><td>0.01426524 </td><td>0.01854810 </td><td>0.001897406</td><td>0.029586849</td><td>0.007613493</td></tr>\n",
       "\t<tr><th scope=row>15</th><td>0.07306050 </td><td>0.06502908 </td><td>0.001441913</td><td>0.025098160</td><td>0.005432323</td></tr>\n",
       "\t<tr><th scope=row>26</th><td>0.06045042 </td><td>0.05687426 </td><td>0.001713204</td><td>0.018418201</td><td>0.004730012</td></tr>\n",
       "\t<tr><th scope=row>27</th><td>0.03334279 </td><td>0.02621197 </td><td>0.001083115</td><td>0.006115900</td><td>0.000695699</td></tr>\n",
       "\t<tr><th scope=row>28</th><td>0.01431676 </td><td>0.01317918 </td><td>0.000450513</td><td>0.008860814</td><td>0.000682864</td></tr>\n",
       "\t<tr><th scope=row>29</th><td>0.04583309 </td><td>0.04282591 </td><td>0.000869075</td><td>0.008616020</td><td>0.001352411</td></tr>\n",
       "\t<tr><th scope=row>30</th><td>0.02965343 </td><td>0.02455714 </td><td>0.000923565</td><td>0.007428186</td><td>0.001142302</td></tr>\n",
       "\t<tr><th scope=row>41</th><td>0.02846705 </td><td>0.02468742 </td><td>0.000918728</td><td>0.011261410</td><td>0.001035564</td></tr>\n",
       "\t<tr><th scope=row>42</th><td>0.02286779 </td><td>0.01966851 </td><td>0.001141363</td><td>0.014767608</td><td>0.000361898</td></tr>\n",
       "\t<tr><th scope=row>43</th><td>0.04003010 </td><td>0.03861101 </td><td>0.001218148</td><td>0.017242408</td><td>0.004010192</td></tr>\n",
       "\t<tr><th scope=row>44</th><td>0.04961880 </td><td>0.04271293 </td><td>0.001244806</td><td>0.014419166</td><td>0.001057862</td></tr>\n",
       "\t<tr><th scope=row>45</th><td>0.04139965 </td><td>0.03231646 </td><td>0.000629551</td><td>0.003524001</td><td>0.000122900</td></tr>\n",
       "\t<tr><th scope=row>56</th><td>0.02781271 </td><td>0.02644608 </td><td>0.001465661</td><td>0.021111896</td><td>0.002105700</td></tr>\n",
       "\t<tr><th scope=row>57</th><td>0.04510770 </td><td>0.04161915 </td><td>0.002068827</td><td>0.024821172</td><td>0.012098957</td></tr>\n",
       "\t<tr><th scope=row>58</th><td>0.03046450 </td><td>0.02950000 </td><td>0.001322793</td><td>0.027423157</td><td>0.019964856</td></tr>\n",
       "\t<tr><th scope=row>59</th><td>0.01115603 </td><td>0.01130000 </td><td>0.000564150</td><td>0.012900000</td><td>0.002077487</td></tr>\n",
       "\t<tr><th scope=row>60</th><td>0.04011867 </td><td>0.03673042 </td><td>0.001234663</td><td>0.012611782</td><td>0.001824215</td></tr>\n",
       "</tbody>\n",
       "</table>\n"
      ],
      "text/latex": [
       "\\begin{tabular}{r|lllll}\n",
       "  & mass\\_400 & mass\\_500 & mass\\_600 & mass\\_700 & mass\\_800\\\\\n",
       "\\hline\n",
       "\t1 & 0.05708834  & 0.05868799  & 0.001422083 & 0.024448705 & 0.002961521\\\\\n",
       "\t2 & 0.04364981  & 0.03529239  & 0.001064818 & 0.015103071 & 0.001586869\\\\\n",
       "\t3 & 0.02723663  & 0.02308907  & 0.000641467 & 0.004038756 & 0.001170106\\\\\n",
       "\t4 & 0.04795208  & 0.05203415  & 0.002287018 & 0.027557699 & 0.002876021\\\\\n",
       "\t5 & 0.06062535  & 0.05520182  & 0.001113023 & 0.016928592 & 0.002033275\\\\\n",
       "\t6 & 0.05173330  & 0.04288872  & 0.001191404 & 0.006303823 & 0.001142296\\\\\n",
       "\t7 & 0.04392575  & 0.04305203  & 0.001768802 & 0.012500000 & 0.000113900\\\\\n",
       "\t8 & 0.02461537  & 0.02000570  & 0.000327913 & 0.008255499 & 0.000229724\\\\\n",
       "\t9 & 0.03696300  & 0.04260624  & 0.001968751 & 0.017850814 & 0.002617012\\\\\n",
       "\t10 & 0.02508449  & 0.02742818  & 0.001361898 & 0.010482335 & 0.002751920\\\\\n",
       "\t11 & 0.04615908  & 0.05130382  & 0.002176780 & 0.022613185 & 0.004121204\\\\\n",
       "\t12 & 0.04492082  & 0.05093403  & 0.001883462 & 0.020508285 & 0.005726650\\\\\n",
       "\t13 & 0.05786115  & 0.06841478  & 0.002191191 & 0.023497470 & 0.005592272\\\\\n",
       "\t14 & 0.01426524  & 0.01854810  & 0.001897406 & 0.029586849 & 0.007613493\\\\\n",
       "\t15 & 0.07306050  & 0.06502908  & 0.001441913 & 0.025098160 & 0.005432323\\\\\n",
       "\t26 & 0.06045042  & 0.05687426  & 0.001713204 & 0.018418201 & 0.004730012\\\\\n",
       "\t27 & 0.03334279  & 0.02621197  & 0.001083115 & 0.006115900 & 0.000695699\\\\\n",
       "\t28 & 0.01431676  & 0.01317918  & 0.000450513 & 0.008860814 & 0.000682864\\\\\n",
       "\t29 & 0.04583309  & 0.04282591  & 0.000869075 & 0.008616020 & 0.001352411\\\\\n",
       "\t30 & 0.02965343  & 0.02455714  & 0.000923565 & 0.007428186 & 0.001142302\\\\\n",
       "\t41 & 0.02846705  & 0.02468742  & 0.000918728 & 0.011261410 & 0.001035564\\\\\n",
       "\t42 & 0.02286779  & 0.01966851  & 0.001141363 & 0.014767608 & 0.000361898\\\\\n",
       "\t43 & 0.04003010  & 0.03861101  & 0.001218148 & 0.017242408 & 0.004010192\\\\\n",
       "\t44 & 0.04961880  & 0.04271293  & 0.001244806 & 0.014419166 & 0.001057862\\\\\n",
       "\t45 & 0.04139965  & 0.03231646  & 0.000629551 & 0.003524001 & 0.000122900\\\\\n",
       "\t56 & 0.02781271  & 0.02644608  & 0.001465661 & 0.021111896 & 0.002105700\\\\\n",
       "\t57 & 0.04510770  & 0.04161915  & 0.002068827 & 0.024821172 & 0.012098957\\\\\n",
       "\t58 & 0.03046450  & 0.02950000  & 0.001322793 & 0.027423157 & 0.019964856\\\\\n",
       "\t59 & 0.01115603  & 0.01130000  & 0.000564150 & 0.012900000 & 0.002077487\\\\\n",
       "\t60 & 0.04011867  & 0.03673042  & 0.001234663 & 0.012611782 & 0.001824215\\\\\n",
       "\\end{tabular}\n"
      ],
      "text/markdown": [
       "\n",
       "| <!--/--> | mass_400 | mass_500 | mass_600 | mass_700 | mass_800 |\n",
       "|---|---|---|---|---|---|\n",
       "| 1 | 0.05708834  | 0.05868799  | 0.001422083 | 0.024448705 | 0.002961521 |\n",
       "| 2 | 0.04364981  | 0.03529239  | 0.001064818 | 0.015103071 | 0.001586869 |\n",
       "| 3 | 0.02723663  | 0.02308907  | 0.000641467 | 0.004038756 | 0.001170106 |\n",
       "| 4 | 0.04795208  | 0.05203415  | 0.002287018 | 0.027557699 | 0.002876021 |\n",
       "| 5 | 0.06062535  | 0.05520182  | 0.001113023 | 0.016928592 | 0.002033275 |\n",
       "| 6 | 0.05173330  | 0.04288872  | 0.001191404 | 0.006303823 | 0.001142296 |\n",
       "| 7 | 0.04392575  | 0.04305203  | 0.001768802 | 0.012500000 | 0.000113900 |\n",
       "| 8 | 0.02461537  | 0.02000570  | 0.000327913 | 0.008255499 | 0.000229724 |\n",
       "| 9 | 0.03696300  | 0.04260624  | 0.001968751 | 0.017850814 | 0.002617012 |\n",
       "| 10 | 0.02508449  | 0.02742818  | 0.001361898 | 0.010482335 | 0.002751920 |\n",
       "| 11 | 0.04615908  | 0.05130382  | 0.002176780 | 0.022613185 | 0.004121204 |\n",
       "| 12 | 0.04492082  | 0.05093403  | 0.001883462 | 0.020508285 | 0.005726650 |\n",
       "| 13 | 0.05786115  | 0.06841478  | 0.002191191 | 0.023497470 | 0.005592272 |\n",
       "| 14 | 0.01426524  | 0.01854810  | 0.001897406 | 0.029586849 | 0.007613493 |\n",
       "| 15 | 0.07306050  | 0.06502908  | 0.001441913 | 0.025098160 | 0.005432323 |\n",
       "| 26 | 0.06045042  | 0.05687426  | 0.001713204 | 0.018418201 | 0.004730012 |\n",
       "| 27 | 0.03334279  | 0.02621197  | 0.001083115 | 0.006115900 | 0.000695699 |\n",
       "| 28 | 0.01431676  | 0.01317918  | 0.000450513 | 0.008860814 | 0.000682864 |\n",
       "| 29 | 0.04583309  | 0.04282591  | 0.000869075 | 0.008616020 | 0.001352411 |\n",
       "| 30 | 0.02965343  | 0.02455714  | 0.000923565 | 0.007428186 | 0.001142302 |\n",
       "| 41 | 0.02846705  | 0.02468742  | 0.000918728 | 0.011261410 | 0.001035564 |\n",
       "| 42 | 0.02286779  | 0.01966851  | 0.001141363 | 0.014767608 | 0.000361898 |\n",
       "| 43 | 0.04003010  | 0.03861101  | 0.001218148 | 0.017242408 | 0.004010192 |\n",
       "| 44 | 0.04961880  | 0.04271293  | 0.001244806 | 0.014419166 | 0.001057862 |\n",
       "| 45 | 0.04139965  | 0.03231646  | 0.000629551 | 0.003524001 | 0.000122900 |\n",
       "| 56 | 0.02781271  | 0.02644608  | 0.001465661 | 0.021111896 | 0.002105700 |\n",
       "| 57 | 0.04510770  | 0.04161915  | 0.002068827 | 0.024821172 | 0.012098957 |\n",
       "| 58 | 0.03046450  | 0.02950000  | 0.001322793 | 0.027423157 | 0.019964856 |\n",
       "| 59 | 0.01115603  | 0.01130000  | 0.000564150 | 0.012900000 | 0.002077487 |\n",
       "| 60 | 0.04011867  | 0.03673042  | 0.001234663 | 0.012611782 | 0.001824215 |\n",
       "\n"
      ],
      "text/plain": [
       "   mass_400   mass_500   mass_600    mass_700    mass_800   \n",
       "1  0.05708834 0.05868799 0.001422083 0.024448705 0.002961521\n",
       "2  0.04364981 0.03529239 0.001064818 0.015103071 0.001586869\n",
       "3  0.02723663 0.02308907 0.000641467 0.004038756 0.001170106\n",
       "4  0.04795208 0.05203415 0.002287018 0.027557699 0.002876021\n",
       "5  0.06062535 0.05520182 0.001113023 0.016928592 0.002033275\n",
       "6  0.05173330 0.04288872 0.001191404 0.006303823 0.001142296\n",
       "7  0.04392575 0.04305203 0.001768802 0.012500000 0.000113900\n",
       "8  0.02461537 0.02000570 0.000327913 0.008255499 0.000229724\n",
       "9  0.03696300 0.04260624 0.001968751 0.017850814 0.002617012\n",
       "10 0.02508449 0.02742818 0.001361898 0.010482335 0.002751920\n",
       "11 0.04615908 0.05130382 0.002176780 0.022613185 0.004121204\n",
       "12 0.04492082 0.05093403 0.001883462 0.020508285 0.005726650\n",
       "13 0.05786115 0.06841478 0.002191191 0.023497470 0.005592272\n",
       "14 0.01426524 0.01854810 0.001897406 0.029586849 0.007613493\n",
       "15 0.07306050 0.06502908 0.001441913 0.025098160 0.005432323\n",
       "26 0.06045042 0.05687426 0.001713204 0.018418201 0.004730012\n",
       "27 0.03334279 0.02621197 0.001083115 0.006115900 0.000695699\n",
       "28 0.01431676 0.01317918 0.000450513 0.008860814 0.000682864\n",
       "29 0.04583309 0.04282591 0.000869075 0.008616020 0.001352411\n",
       "30 0.02965343 0.02455714 0.000923565 0.007428186 0.001142302\n",
       "41 0.02846705 0.02468742 0.000918728 0.011261410 0.001035564\n",
       "42 0.02286779 0.01966851 0.001141363 0.014767608 0.000361898\n",
       "43 0.04003010 0.03861101 0.001218148 0.017242408 0.004010192\n",
       "44 0.04961880 0.04271293 0.001244806 0.014419166 0.001057862\n",
       "45 0.04139965 0.03231646 0.000629551 0.003524001 0.000122900\n",
       "56 0.02781271 0.02644608 0.001465661 0.021111896 0.002105700\n",
       "57 0.04510770 0.04161915 0.002068827 0.024821172 0.012098957\n",
       "58 0.03046450 0.02950000 0.001322793 0.027423157 0.019964856\n",
       "59 0.01115603 0.01130000 0.000564150 0.012900000 0.002077487\n",
       "60 0.04011867 0.03673042 0.001234663 0.012611782 0.001824215"
      ]
     },
     "metadata": {},
     "output_type": "display_data"
    },
    {
     "data": {
      "text/html": [
       "<table>\n",
       "<thead><tr><th scope=col>filename</th><th scope=col>MouseID</th><th scope=col>Treatmentgroup</th><th scope=col>DPI</th><th scope=col>organ</th><th scope=col>well_position</th><th scope=col>plate</th><th scope=col>mass_400</th><th scope=col>mass_500</th><th scope=col>mass_600</th><th scope=col>mass_700</th><th scope=col>mass_800</th></tr></thead>\n",
       "<tbody>\n",
       "\t<tr><td>X511_Group1C_142dpi_LA_161_G_A1_P120.mzXML</td><td>511                                       </td><td>naive                                     </td><td>142dpi                                    </td><td>LA                                        </td><td>A1                                        </td><td>P120                                      </td><td>0.05708834                                </td><td>0.05868799                                </td><td>0.001422083                               </td><td>0.024448705                               </td><td>0.002961521                               </td></tr>\n",
       "\t<tr><td>X512_Group1C_142dpi_LA_162_G_A2_P120.mzXML</td><td>512                                       </td><td>naive                                     </td><td>142dpi                                    </td><td>LA                                        </td><td>A2                                        </td><td>P120                                      </td><td>0.04364981                                </td><td>0.03529239                                </td><td>0.001064818                               </td><td>0.015103071                               </td><td>0.001586869                               </td></tr>\n",
       "\t<tr><td>X513_Group1C_142dpi_LA_163_G_A3_P120.mzXML</td><td>513                                       </td><td>naive                                     </td><td>142dpi                                    </td><td>LA                                        </td><td>A3                                        </td><td>P120                                      </td><td>0.02723663                                </td><td>0.02308907                                </td><td>0.000641467                               </td><td>0.004038756                               </td><td>0.001170106                               </td></tr>\n",
       "\t<tr><td>X514_Group1C_142dpi_LA_164_G_A4_P120.mzXML</td><td>514                                       </td><td>naive                                     </td><td>142dpi                                    </td><td>LA                                        </td><td>A4                                        </td><td>P120                                      </td><td>0.04795208                                </td><td>0.05203415                                </td><td>0.002287018                               </td><td>0.027557699                               </td><td>0.002876021                               </td></tr>\n",
       "\t<tr><td>X515_Group1C_142dpi_LA_165_G_A5_P120.mzXML</td><td>515                                       </td><td>naive                                     </td><td>142dpi                                    </td><td>LA                                        </td><td>A5                                        </td><td>P120                                      </td><td>0.06062535                                </td><td>0.05520182                                </td><td>0.001113023                               </td><td>0.016928592                               </td><td>0.002033275                               </td></tr>\n",
       "\t<tr><td>X531_Group1C_142dpi_LA_166_G_A6_P120.mzXML</td><td>531                                       </td><td>naive                                     </td><td>142dpi                                    </td><td>LA                                        </td><td>A6                                        </td><td>P120                                      </td><td>0.05173330                                </td><td>0.04288872                                </td><td>0.001191404                               </td><td>0.006303823                               </td><td>0.001142296                               </td></tr>\n",
       "</tbody>\n",
       "</table>\n"
      ],
      "text/latex": [
       "\\begin{tabular}{r|llllllllllll}\n",
       " filename & MouseID & Treatmentgroup & DPI & organ & well\\_position & plate & mass\\_400 & mass\\_500 & mass\\_600 & mass\\_700 & mass\\_800\\\\\n",
       "\\hline\n",
       "\t X511\\_Group1C\\_142dpi\\_LA\\_161\\_G\\_A1\\_P120.mzXML & 511                                                      & naive                                                    & 142dpi                                                   & LA                                                       & A1                                                       & P120                                                     & 0.05708834                                               & 0.05868799                                               & 0.001422083                                              & 0.024448705                                              & 0.002961521                                             \\\\\n",
       "\t X512\\_Group1C\\_142dpi\\_LA\\_162\\_G\\_A2\\_P120.mzXML & 512                                                      & naive                                                    & 142dpi                                                   & LA                                                       & A2                                                       & P120                                                     & 0.04364981                                               & 0.03529239                                               & 0.001064818                                              & 0.015103071                                              & 0.001586869                                             \\\\\n",
       "\t X513\\_Group1C\\_142dpi\\_LA\\_163\\_G\\_A3\\_P120.mzXML & 513                                                      & naive                                                    & 142dpi                                                   & LA                                                       & A3                                                       & P120                                                     & 0.02723663                                               & 0.02308907                                               & 0.000641467                                              & 0.004038756                                              & 0.001170106                                             \\\\\n",
       "\t X514\\_Group1C\\_142dpi\\_LA\\_164\\_G\\_A4\\_P120.mzXML & 514                                                      & naive                                                    & 142dpi                                                   & LA                                                       & A4                                                       & P120                                                     & 0.04795208                                               & 0.05203415                                               & 0.002287018                                              & 0.027557699                                              & 0.002876021                                             \\\\\n",
       "\t X515\\_Group1C\\_142dpi\\_LA\\_165\\_G\\_A5\\_P120.mzXML & 515                                                      & naive                                                    & 142dpi                                                   & LA                                                       & A5                                                       & P120                                                     & 0.06062535                                               & 0.05520182                                               & 0.001113023                                              & 0.016928592                                              & 0.002033275                                             \\\\\n",
       "\t X531\\_Group1C\\_142dpi\\_LA\\_166\\_G\\_A6\\_P120.mzXML & 531                                                      & naive                                                    & 142dpi                                                   & LA                                                       & A6                                                       & P120                                                     & 0.05173330                                               & 0.04288872                                               & 0.001191404                                              & 0.006303823                                              & 0.001142296                                             \\\\\n",
       "\\end{tabular}\n"
      ],
      "text/markdown": [
       "\n",
       "| filename | MouseID | Treatmentgroup | DPI | organ | well_position | plate | mass_400 | mass_500 | mass_600 | mass_700 | mass_800 |\n",
       "|---|---|---|---|---|---|---|---|---|---|---|---|\n",
       "| X511_Group1C_142dpi_LA_161_G_A1_P120.mzXML | 511                                        | naive                                      | 142dpi                                     | LA                                         | A1                                         | P120                                       | 0.05708834                                 | 0.05868799                                 | 0.001422083                                | 0.024448705                                | 0.002961521                                |\n",
       "| X512_Group1C_142dpi_LA_162_G_A2_P120.mzXML | 512                                        | naive                                      | 142dpi                                     | LA                                         | A2                                         | P120                                       | 0.04364981                                 | 0.03529239                                 | 0.001064818                                | 0.015103071                                | 0.001586869                                |\n",
       "| X513_Group1C_142dpi_LA_163_G_A3_P120.mzXML | 513                                        | naive                                      | 142dpi                                     | LA                                         | A3                                         | P120                                       | 0.02723663                                 | 0.02308907                                 | 0.000641467                                | 0.004038756                                | 0.001170106                                |\n",
       "| X514_Group1C_142dpi_LA_164_G_A4_P120.mzXML | 514                                        | naive                                      | 142dpi                                     | LA                                         | A4                                         | P120                                       | 0.04795208                                 | 0.05203415                                 | 0.002287018                                | 0.027557699                                | 0.002876021                                |\n",
       "| X515_Group1C_142dpi_LA_165_G_A5_P120.mzXML | 515                                        | naive                                      | 142dpi                                     | LA                                         | A5                                         | P120                                       | 0.06062535                                 | 0.05520182                                 | 0.001113023                                | 0.016928592                                | 0.002033275                                |\n",
       "| X531_Group1C_142dpi_LA_166_G_A6_P120.mzXML | 531                                        | naive                                      | 142dpi                                     | LA                                         | A6                                         | P120                                       | 0.05173330                                 | 0.04288872                                 | 0.001191404                                | 0.006303823                                | 0.001142296                                |\n",
       "\n"
      ],
      "text/plain": [
       "  filename                                   MouseID Treatmentgroup DPI   \n",
       "1 X511_Group1C_142dpi_LA_161_G_A1_P120.mzXML 511     naive          142dpi\n",
       "2 X512_Group1C_142dpi_LA_162_G_A2_P120.mzXML 512     naive          142dpi\n",
       "3 X513_Group1C_142dpi_LA_163_G_A3_P120.mzXML 513     naive          142dpi\n",
       "4 X514_Group1C_142dpi_LA_164_G_A4_P120.mzXML 514     naive          142dpi\n",
       "5 X515_Group1C_142dpi_LA_165_G_A5_P120.mzXML 515     naive          142dpi\n",
       "6 X531_Group1C_142dpi_LA_166_G_A6_P120.mzXML 531     naive          142dpi\n",
       "  organ well_position plate mass_400   mass_500   mass_600    mass_700   \n",
       "1 LA    A1            P120  0.05708834 0.05868799 0.001422083 0.024448705\n",
       "2 LA    A2            P120  0.04364981 0.03529239 0.001064818 0.015103071\n",
       "3 LA    A3            P120  0.02723663 0.02308907 0.000641467 0.004038756\n",
       "4 LA    A4            P120  0.04795208 0.05203415 0.002287018 0.027557699\n",
       "5 LA    A5            P120  0.06062535 0.05520182 0.001113023 0.016928592\n",
       "6 LA    A6            P120  0.05173330 0.04288872 0.001191404 0.006303823\n",
       "  mass_800   \n",
       "1 0.002961521\n",
       "2 0.001586869\n",
       "3 0.001170106\n",
       "4 0.002876021\n",
       "5 0.002033275\n",
       "6 0.001142296"
      ]
     },
     "metadata": {},
     "output_type": "display_data"
    },
    {
     "data": {
      "text/html": [
       "<ol class=list-inline>\n",
       "\t<li>30</li>\n",
       "\t<li>12</li>\n",
       "</ol>\n"
      ],
      "text/latex": [
       "\\begin{enumerate*}\n",
       "\\item 30\n",
       "\\item 12\n",
       "\\end{enumerate*}\n"
      ],
      "text/markdown": [
       "1. 30\n",
       "2. 12\n",
       "\n",
       "\n"
      ],
      "text/plain": [
       "[1] 30 12"
      ]
     },
     "metadata": {},
     "output_type": "display_data"
    },
    {
     "data": {
      "text/html": [
       "<ol class=list-inline>\n",
       "\t<li>30</li>\n",
       "\t<li>5</li>\n",
       "</ol>\n"
      ],
      "text/latex": [
       "\\begin{enumerate*}\n",
       "\\item 30\n",
       "\\item 5\n",
       "\\end{enumerate*}\n"
      ],
      "text/markdown": [
       "1. 30\n",
       "2. 5\n",
       "\n",
       "\n"
      ],
      "text/plain": [
       "[1] 30  5"
      ]
     },
     "metadata": {},
     "output_type": "display_data"
    },
    {
     "data": {
      "text/html": [
       "<ol class=list-inline>\n",
       "\t<li>30</li>\n",
       "\t<li>5</li>\n",
       "</ol>\n"
      ],
      "text/latex": [
       "\\begin{enumerate*}\n",
       "\\item 30\n",
       "\\item 5\n",
       "\\end{enumerate*}\n"
      ],
      "text/markdown": [
       "1. 30\n",
       "2. 5\n",
       "\n",
       "\n"
      ],
      "text/plain": [
       "[1] 30  5"
      ]
     },
     "metadata": {},
     "output_type": "display_data"
    },
    {
     "data": {
      "text/html": [
       "<ol class=list-inline>\n",
       "\t<li>30</li>\n",
       "\t<li>12</li>\n",
       "</ol>\n"
      ],
      "text/latex": [
       "\\begin{enumerate*}\n",
       "\\item 30\n",
       "\\item 12\n",
       "\\end{enumerate*}\n"
      ],
      "text/markdown": [
       "1. 30\n",
       "2. 12\n",
       "\n",
       "\n"
      ],
      "text/plain": [
       "[1] 30 12"
      ]
     },
     "metadata": {},
     "output_type": "display_data"
    }
   ],
   "source": [
    "noMeta<-features_pos[,8:12]\n",
    "head(noMeta)\n",
    "not_zero<-which(colSums(noMeta) != 0)\n",
    "head(not_zero)\n",
    "nonzero <- noMeta[, not_zero]\n",
    "nonzero\n",
    "nonzero_wMeta<-cbind(features_pos[,1:7], nonzero)\n",
    "head(nonzero_wMeta)\n",
    "dim(features_pos)\n",
    "dim(noMeta)\n",
    "dim(nonzero)\n",
    "dim(nonzero_wMeta)"
   ]
  },
  {
   "cell_type": "code",
   "execution_count": 15,
   "metadata": {
    "scrolled": true
   },
   "outputs": [
    {
     "data": {
      "text/html": [
       "<ol class=list-inline>\n",
       "\t<li>0.136974224446085</li>\n",
       "\t<li>0.0294964746728803</li>\n",
       "\t<li>0.0453338990979227</li>\n",
       "\t<li>0.216856638760083</li>\n",
       "\t<li>0.285440870895821</li>\n",
       "</ol>\n"
      ],
      "text/latex": [
       "\\begin{enumerate*}\n",
       "\\item 0.136974224446085\n",
       "\\item 0.0294964746728803\n",
       "\\item 0.0453338990979227\n",
       "\\item 0.216856638760083\n",
       "\\item 0.285440870895821\n",
       "\\end{enumerate*}\n"
      ],
      "text/markdown": [
       "1. 0.136974224446085\n",
       "2. 0.0294964746728803\n",
       "3. 0.0453338990979227\n",
       "4. 0.216856638760083\n",
       "5. 0.285440870895821\n",
       "\n",
       "\n"
      ],
      "text/plain": [
       "[1] 0.13697422 0.02949647 0.04533390 0.21685664 0.28544087"
      ]
     },
     "metadata": {},
     "output_type": "display_data"
    },
    {
     "data": {
      "text/html": [
       "<ol class=list-inline>\n",
       "\t<li>0.228290374076808</li>\n",
       "\t<li>0.113334747744807</li>\n",
       "\t<li>0.113334747744807</li>\n",
       "\t<li>0.271070798450104</li>\n",
       "\t<li>0.285440870895821</li>\n",
       "</ol>\n"
      ],
      "text/latex": [
       "\\begin{enumerate*}\n",
       "\\item 0.228290374076808\n",
       "\\item 0.113334747744807\n",
       "\\item 0.113334747744807\n",
       "\\item 0.271070798450104\n",
       "\\item 0.285440870895821\n",
       "\\end{enumerate*}\n"
      ],
      "text/markdown": [
       "1. 0.228290374076808\n",
       "2. 0.113334747744807\n",
       "3. 0.113334747744807\n",
       "4. 0.271070798450104\n",
       "5. 0.285440870895821\n",
       "\n",
       "\n"
      ],
      "text/plain": [
       "[1] 0.2282904 0.1133347 0.1133347 0.2710708 0.2854409"
      ]
     },
     "metadata": {},
     "output_type": "display_data"
    }
   ],
   "source": [
    "pval<-c()\n",
    "\n",
    "for (i in 8:ncol(nonzero_wMeta)) \n",
    "pval<-c(pval,wilcox.test(nonzero_wMeta[,i]~nonzero_wMeta$Treatmentgroup)$p.value)\n",
    "head(pval)\n",
    "pAdj <- p.adjust(pval, method = c(\"fdr\"), n=length(pval)) \n",
    "head(pAdj) \n",
    "\n"
   ]
  },
  {
   "cell_type": "code",
   "execution_count": 16,
   "metadata": {
    "scrolled": true
   },
   "outputs": [
    {
     "data": {
      "text/html": [
       "5"
      ],
      "text/latex": [
       "5"
      ],
      "text/markdown": [
       "5"
      ],
      "text/plain": [
       "[1] 5"
      ]
     },
     "metadata": {},
     "output_type": "display_data"
    }
   ],
   "source": [
    "length(pval)"
   ]
  },
  {
   "cell_type": "code",
   "execution_count": 17,
   "metadata": {
    "scrolled": true
   },
   "outputs": [
    {
     "data": {
      "text/html": [
       "5"
      ],
      "text/latex": [
       "5"
      ],
      "text/markdown": [
       "5"
      ],
      "text/plain": [
       "[1] 5"
      ]
     },
     "metadata": {},
     "output_type": "display_data"
    }
   ],
   "source": [
    "length(pAdj)"
   ]
  },
  {
   "cell_type": "code",
   "execution_count": 18,
   "metadata": {},
   "outputs": [
    {
     "data": {
      "text/html": [
       "<ol class=list-inline>\n",
       "\t<li>2</li>\n",
       "\t<li>5</li>\n",
       "</ol>\n"
      ],
      "text/latex": [
       "\\begin{enumerate*}\n",
       "\\item 2\n",
       "\\item 5\n",
       "\\end{enumerate*}\n"
      ],
      "text/markdown": [
       "1. 2\n",
       "2. 5\n",
       "\n",
       "\n"
      ],
      "text/plain": [
       "[1] 2 5"
      ]
     },
     "metadata": {},
     "output_type": "display_data"
    },
    {
     "data": {
      "text/html": [
       "<table>\n",
       "<thead><tr><th></th><th scope=col>mass_400</th><th scope=col>mass_500</th><th scope=col>mass_600</th></tr></thead>\n",
       "<tbody>\n",
       "\t<tr><th scope=row>BNZ</th><td>0.03470930 </td><td>0.03114936 </td><td>0.001123211</td></tr>\n",
       "\t<tr><th scope=row>naive</th><td>0.04367606 </td><td>0.04363440 </td><td>0.001515862</td></tr>\n",
       "</tbody>\n",
       "</table>\n"
      ],
      "text/latex": [
       "\\begin{tabular}{r|lll}\n",
       "  & mass\\_400 & mass\\_500 & mass\\_600\\\\\n",
       "\\hline\n",
       "\tBNZ & 0.03470930  & 0.03114936  & 0.001123211\\\\\n",
       "\tnaive & 0.04367606  & 0.04363440  & 0.001515862\\\\\n",
       "\\end{tabular}\n"
      ],
      "text/markdown": [
       "\n",
       "| <!--/--> | mass_400 | mass_500 | mass_600 |\n",
       "|---|---|---|---|\n",
       "| BNZ | 0.03470930  | 0.03114936  | 0.001123211 |\n",
       "| naive | 0.04367606  | 0.04363440  | 0.001515862 |\n",
       "\n"
      ],
      "text/plain": [
       "      mass_400   mass_500   mass_600   \n",
       "BNZ   0.03470930 0.03114936 0.001123211\n",
       "naive 0.04367606 0.04363440 0.001515862"
      ]
     },
     "metadata": {},
     "output_type": "display_data"
    },
    {
     "data": {
      "text/html": [
       "<dl class=dl-horizontal>\n",
       "\t<dt>mass_400</dt>\n",
       "\t\t<dd>0.794698491495471</dd>\n",
       "\t<dt>mass_500</dt>\n",
       "\t\t<dd>0.71387157865278</dd>\n",
       "\t<dt>mass_600</dt>\n",
       "\t\t<dd>0.740971704151244</dd>\n",
       "\t<dt>mass_700</dt>\n",
       "\t\t<dd>0.791325130236064</dd>\n",
       "\t<dt>mass_800</dt>\n",
       "\t\t<dd>1.15868082172464</dd>\n",
       "</dl>\n"
      ],
      "text/latex": [
       "\\begin{description*}\n",
       "\\item[mass\\textbackslash{}\\_400] 0.794698491495471\n",
       "\\item[mass\\textbackslash{}\\_500] 0.71387157865278\n",
       "\\item[mass\\textbackslash{}\\_600] 0.740971704151244\n",
       "\\item[mass\\textbackslash{}\\_700] 0.791325130236064\n",
       "\\item[mass\\textbackslash{}\\_800] 1.15868082172464\n",
       "\\end{description*}\n"
      ],
      "text/markdown": [
       "mass_400\n",
       ":   0.794698491495471mass_500\n",
       ":   0.71387157865278mass_600\n",
       ":   0.740971704151244mass_700\n",
       ":   0.791325130236064mass_800\n",
       ":   1.15868082172464\n",
       "\n"
      ],
      "text/plain": [
       " mass_400  mass_500  mass_600  mass_700  mass_800 \n",
       "0.7946985 0.7138716 0.7409717 0.7913251 1.1586808 "
      ]
     },
     "metadata": {},
     "output_type": "display_data"
    },
    {
     "data": {
      "text/html": [
       "<ol class=list-inline>\n",
       "\t<li>'numeric'</li>\n",
       "\t<li>'vector'</li>\n",
       "</ol>\n"
      ],
      "text/latex": [
       "\\begin{enumerate*}\n",
       "\\item 'numeric'\n",
       "\\item 'vector'\n",
       "\\end{enumerate*}\n"
      ],
      "text/markdown": [
       "1. 'numeric'\n",
       "2. 'vector'\n",
       "\n",
       "\n"
      ],
      "text/plain": [
       "[1] \"numeric\" \"vector\" "
      ]
     },
     "metadata": {},
     "output_type": "display_data"
    }
   ],
   "source": [
    "avg<- apply(nonzero_wMeta[,8:ncol(nonzero_wMeta)], 2, function(x) tapply(x, nonzero_wMeta$Treatmentgroup, function(x) mean(x))) \n",
    "\n",
    "dim(avg)\n",
    "\n",
    "avg[,1:3]\n",
    "\n",
    "fch <- apply(avg, 2, function(x) x[1]/x[2])\n",
    "\n",
    "head(fch)\n",
    "is(fch)"
   ]
  },
  {
   "cell_type": "code",
   "execution_count": 19,
   "metadata": {
    "scrolled": true
   },
   "outputs": [
    {
     "data": {
      "text/html": [
       "<dl class=dl-horizontal>\n",
       "\t<dt>mass_400</dt>\n",
       "\t\t<dd>0.794698491495471</dd>\n",
       "\t<dt>mass_500</dt>\n",
       "\t\t<dd>0.71387157865278</dd>\n",
       "\t<dt>mass_600</dt>\n",
       "\t\t<dd>0.740971704151244</dd>\n",
       "\t<dt>mass_700</dt>\n",
       "\t\t<dd>0.791325130236064</dd>\n",
       "\t<dt>mass_800</dt>\n",
       "\t\t<dd>1.15868082172464</dd>\n",
       "</dl>\n"
      ],
      "text/latex": [
       "\\begin{description*}\n",
       "\\item[mass\\textbackslash{}\\_400] 0.794698491495471\n",
       "\\item[mass\\textbackslash{}\\_500] 0.71387157865278\n",
       "\\item[mass\\textbackslash{}\\_600] 0.740971704151244\n",
       "\\item[mass\\textbackslash{}\\_700] 0.791325130236064\n",
       "\\item[mass\\textbackslash{}\\_800] 1.15868082172464\n",
       "\\end{description*}\n"
      ],
      "text/markdown": [
       "mass_400\n",
       ":   0.794698491495471mass_500\n",
       ":   0.71387157865278mass_600\n",
       ":   0.740971704151244mass_700\n",
       ":   0.791325130236064mass_800\n",
       ":   1.15868082172464\n",
       "\n"
      ],
      "text/plain": [
       " mass_400  mass_500  mass_600  mass_700  mass_800 \n",
       "0.7946985 0.7138716 0.7409717 0.7913251 1.1586808 "
      ]
     },
     "metadata": {},
     "output_type": "display_data"
    }
   ],
   "source": [
    "fch"
   ]
  },
  {
   "cell_type": "code",
   "execution_count": 20,
   "metadata": {
    "scrolled": false
   },
   "outputs": [],
   "source": [
    "df <- data.frame(fch,pval, pAdj)\n",
    "write.csv(df, \"PC-treat-LA-wilcox-naive-BNZ.csv\")"
   ]
  },
  {
   "cell_type": "code",
   "execution_count": null,
   "metadata": {},
   "outputs": [],
   "source": []
  },
  {
   "cell_type": "code",
   "execution_count": null,
   "metadata": {},
   "outputs": [],
   "source": []
  },
  {
   "cell_type": "code",
   "execution_count": null,
   "metadata": {},
   "outputs": [],
   "source": []
  },
  {
   "cell_type": "code",
   "execution_count": null,
   "metadata": {},
   "outputs": [],
   "source": []
  },
  {
   "cell_type": "code",
   "execution_count": null,
   "metadata": {},
   "outputs": [],
   "source": []
  },
  {
   "cell_type": "code",
   "execution_count": null,
   "metadata": {},
   "outputs": [],
   "source": []
  }
 ],
 "metadata": {
  "kernelspec": {
   "display_name": "R",
   "language": "R",
   "name": "ir"
  },
  "language_info": {
   "codemirror_mode": "r",
   "file_extension": ".r",
   "mimetype": "text/x-r-source",
   "name": "R",
   "pygments_lexer": "r",
   "version": "3.6.1"
  }
 },
 "nbformat": 4,
 "nbformat_minor": 2
}
