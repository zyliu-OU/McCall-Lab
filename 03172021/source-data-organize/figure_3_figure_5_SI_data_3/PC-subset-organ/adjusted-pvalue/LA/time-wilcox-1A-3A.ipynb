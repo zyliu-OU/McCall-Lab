{
 "cells": [
  {
   "cell_type": "code",
   "execution_count": 9,
   "metadata": {},
   "outputs": [],
   "source": [
    "a <- read.csv(\"03172021-PC-time-LA-M-F.csv\")"
   ]
  },
  {
   "cell_type": "code",
   "execution_count": 10,
   "metadata": {},
   "outputs": [
    {
     "data": {
      "text/html": [
       "<table>\n",
       "<thead><tr><th scope=col>filename</th><th scope=col>MouseID</th><th scope=col>Treatmentgroup</th><th scope=col>status</th><th scope=col>DPI</th><th scope=col>organ</th><th scope=col>well_position</th><th scope=col>plate</th><th scope=col>mass_400</th><th scope=col>mass_500</th><th scope=col>mass_600</th><th scope=col>mass_700</th><th scope=col>mass_800</th></tr></thead>\n",
       "<tbody>\n",
       "\t<tr><td>X501_Group1A_50dpi_LA_251_B_A1_P121.mzXML</td><td>501                                      </td><td>Group1A                                  </td><td>naive                                    </td><td>50                                       </td><td>LA                                       </td><td>A1                                       </td><td>P121                                     </td><td>0.03680541                               </td><td>0.05720000                               </td><td>0.000760560                              </td><td>0.03120538                               </td><td>0.002291347                              </td></tr>\n",
       "\t<tr><td>X502_Group1A_50dpi_LA_252_B_A2_P121.mzXML</td><td>502                                      </td><td>Group1A                                  </td><td>naive                                    </td><td>50                                       </td><td>LA                                       </td><td>A2                                       </td><td>P121                                     </td><td>0.05030247                               </td><td>0.05579971                               </td><td>0.001677424                              </td><td>0.04250978                               </td><td>0.015692309                              </td></tr>\n",
       "\t<tr><td>X503_Group1A_50dpi_LA_253_B_A3_P121.mzXML</td><td>503                                      </td><td>Group1A                                  </td><td>naive                                    </td><td>50                                       </td><td>LA                                       </td><td>A3                                       </td><td>P121                                     </td><td>0.04431684                               </td><td>0.05170000                               </td><td>0.000937343                              </td><td>0.04018191                               </td><td>0.012112645                              </td></tr>\n",
       "\t<tr><td>X504_Group1A_50dpi_LA_254_B_A4_P121.mzXML</td><td>504                                      </td><td>Group1A                                  </td><td>naive                                    </td><td>50                                       </td><td>LA                                       </td><td>A4                                       </td><td>P121                                     </td><td>0.01793115                               </td><td>0.03130000                               </td><td>0.001254220                              </td><td>0.04100662                               </td><td>0.011346929                              </td></tr>\n",
       "\t<tr><td>X505_Group1A_50dpi_LA_255_B_A5_P121.mzXML</td><td>505                                      </td><td>Group1A                                  </td><td>naive                                    </td><td>50                                       </td><td>LA                                       </td><td>A5                                       </td><td>P121                                     </td><td>0.06151622                               </td><td>0.08590000                               </td><td>0.001179035                              </td><td>0.01776781                               </td><td>0.013053424                              </td></tr>\n",
       "\t<tr><td>X521_Group1A_50dpi_LA_256_B_A6_P121.mzXML</td><td>521                                      </td><td>Group1A                                  </td><td>naive                                    </td><td>50                                       </td><td>LA                                       </td><td>A6                                       </td><td>P121                                     </td><td>0.05923037                               </td><td>0.07050000                               </td><td>0.001097703                              </td><td>0.02581648                               </td><td>0.011216905                              </td></tr>\n",
       "</tbody>\n",
       "</table>\n"
      ],
      "text/latex": [
       "\\begin{tabular}{r|lllllllllllll}\n",
       " filename & MouseID & Treatmentgroup & status & DPI & organ & well\\_position & plate & mass\\_400 & mass\\_500 & mass\\_600 & mass\\_700 & mass\\_800\\\\\n",
       "\\hline\n",
       "\t X501\\_Group1A\\_50dpi\\_LA\\_251\\_B\\_A1\\_P121.mzXML & 501                                                     & Group1A                                                 & naive                                                   & 50                                                      & LA                                                      & A1                                                      & P121                                                    & 0.03680541                                              & 0.05720000                                              & 0.000760560                                             & 0.03120538                                              & 0.002291347                                            \\\\\n",
       "\t X502\\_Group1A\\_50dpi\\_LA\\_252\\_B\\_A2\\_P121.mzXML & 502                                                     & Group1A                                                 & naive                                                   & 50                                                      & LA                                                      & A2                                                      & P121                                                    & 0.05030247                                              & 0.05579971                                              & 0.001677424                                             & 0.04250978                                              & 0.015692309                                            \\\\\n",
       "\t X503\\_Group1A\\_50dpi\\_LA\\_253\\_B\\_A3\\_P121.mzXML & 503                                                     & Group1A                                                 & naive                                                   & 50                                                      & LA                                                      & A3                                                      & P121                                                    & 0.04431684                                              & 0.05170000                                              & 0.000937343                                             & 0.04018191                                              & 0.012112645                                            \\\\\n",
       "\t X504\\_Group1A\\_50dpi\\_LA\\_254\\_B\\_A4\\_P121.mzXML & 504                                                     & Group1A                                                 & naive                                                   & 50                                                      & LA                                                      & A4                                                      & P121                                                    & 0.01793115                                              & 0.03130000                                              & 0.001254220                                             & 0.04100662                                              & 0.011346929                                            \\\\\n",
       "\t X505\\_Group1A\\_50dpi\\_LA\\_255\\_B\\_A5\\_P121.mzXML & 505                                                     & Group1A                                                 & naive                                                   & 50                                                      & LA                                                      & A5                                                      & P121                                                    & 0.06151622                                              & 0.08590000                                              & 0.001179035                                             & 0.01776781                                              & 0.013053424                                            \\\\\n",
       "\t X521\\_Group1A\\_50dpi\\_LA\\_256\\_B\\_A6\\_P121.mzXML & 521                                                     & Group1A                                                 & naive                                                   & 50                                                      & LA                                                      & A6                                                      & P121                                                    & 0.05923037                                              & 0.07050000                                              & 0.001097703                                             & 0.02581648                                              & 0.011216905                                            \\\\\n",
       "\\end{tabular}\n"
      ],
      "text/markdown": [
       "\n",
       "| filename | MouseID | Treatmentgroup | status | DPI | organ | well_position | plate | mass_400 | mass_500 | mass_600 | mass_700 | mass_800 |\n",
       "|---|---|---|---|---|---|---|---|---|---|---|---|---|\n",
       "| X501_Group1A_50dpi_LA_251_B_A1_P121.mzXML | 501                                       | Group1A                                   | naive                                     | 50                                        | LA                                        | A1                                        | P121                                      | 0.03680541                                | 0.05720000                                | 0.000760560                               | 0.03120538                                | 0.002291347                               |\n",
       "| X502_Group1A_50dpi_LA_252_B_A2_P121.mzXML | 502                                       | Group1A                                   | naive                                     | 50                                        | LA                                        | A2                                        | P121                                      | 0.05030247                                | 0.05579971                                | 0.001677424                               | 0.04250978                                | 0.015692309                               |\n",
       "| X503_Group1A_50dpi_LA_253_B_A3_P121.mzXML | 503                                       | Group1A                                   | naive                                     | 50                                        | LA                                        | A3                                        | P121                                      | 0.04431684                                | 0.05170000                                | 0.000937343                               | 0.04018191                                | 0.012112645                               |\n",
       "| X504_Group1A_50dpi_LA_254_B_A4_P121.mzXML | 504                                       | Group1A                                   | naive                                     | 50                                        | LA                                        | A4                                        | P121                                      | 0.01793115                                | 0.03130000                                | 0.001254220                               | 0.04100662                                | 0.011346929                               |\n",
       "| X505_Group1A_50dpi_LA_255_B_A5_P121.mzXML | 505                                       | Group1A                                   | naive                                     | 50                                        | LA                                        | A5                                        | P121                                      | 0.06151622                                | 0.08590000                                | 0.001179035                               | 0.01776781                                | 0.013053424                               |\n",
       "| X521_Group1A_50dpi_LA_256_B_A6_P121.mzXML | 521                                       | Group1A                                   | naive                                     | 50                                        | LA                                        | A6                                        | P121                                      | 0.05923037                                | 0.07050000                                | 0.001097703                               | 0.02581648                                | 0.011216905                               |\n",
       "\n"
      ],
      "text/plain": [
       "  filename                                  MouseID Treatmentgroup status DPI\n",
       "1 X501_Group1A_50dpi_LA_251_B_A1_P121.mzXML 501     Group1A        naive  50 \n",
       "2 X502_Group1A_50dpi_LA_252_B_A2_P121.mzXML 502     Group1A        naive  50 \n",
       "3 X503_Group1A_50dpi_LA_253_B_A3_P121.mzXML 503     Group1A        naive  50 \n",
       "4 X504_Group1A_50dpi_LA_254_B_A4_P121.mzXML 504     Group1A        naive  50 \n",
       "5 X505_Group1A_50dpi_LA_255_B_A5_P121.mzXML 505     Group1A        naive  50 \n",
       "6 X521_Group1A_50dpi_LA_256_B_A6_P121.mzXML 521     Group1A        naive  50 \n",
       "  organ well_position plate mass_400   mass_500   mass_600    mass_700  \n",
       "1 LA    A1            P121  0.03680541 0.05720000 0.000760560 0.03120538\n",
       "2 LA    A2            P121  0.05030247 0.05579971 0.001677424 0.04250978\n",
       "3 LA    A3            P121  0.04431684 0.05170000 0.000937343 0.04018191\n",
       "4 LA    A4            P121  0.01793115 0.03130000 0.001254220 0.04100662\n",
       "5 LA    A5            P121  0.06151622 0.08590000 0.001179035 0.01776781\n",
       "6 LA    A6            P121  0.05923037 0.07050000 0.001097703 0.02581648\n",
       "  mass_800   \n",
       "1 0.002291347\n",
       "2 0.015692309\n",
       "3 0.012112645\n",
       "4 0.011346929\n",
       "5 0.013053424\n",
       "6 0.011216905"
      ]
     },
     "metadata": {},
     "output_type": "display_data"
    },
    {
     "data": {
      "text/html": [
       "<ol class=list-inline>\n",
       "\t<li>90</li>\n",
       "\t<li>13</li>\n",
       "</ol>\n"
      ],
      "text/latex": [
       "\\begin{enumerate*}\n",
       "\\item 90\n",
       "\\item 13\n",
       "\\end{enumerate*}\n"
      ],
      "text/markdown": [
       "1. 90\n",
       "2. 13\n",
       "\n",
       "\n"
      ],
      "text/plain": [
       "[1] 90 13"
      ]
     },
     "metadata": {},
     "output_type": "display_data"
    }
   ],
   "source": [
    "head(a)\n",
    "dim(a)"
   ]
  },
  {
   "cell_type": "code",
   "execution_count": 11,
   "metadata": {},
   "outputs": [
    {
     "data": {
      "text/html": [
       "<table>\n",
       "<thead><tr><th scope=col>filename</th><th scope=col>MouseID</th><th scope=col>Treatmentgroup</th><th scope=col>status</th><th scope=col>DPI</th><th scope=col>organ</th><th scope=col>well_position</th><th scope=col>plate</th><th scope=col>mass_400</th><th scope=col>mass_500</th><th scope=col>mass_600</th><th scope=col>mass_700</th><th scope=col>mass_800</th></tr></thead>\n",
       "<tbody>\n",
       "\t<tr><td>X501_Group1A_50dpi_LA_251_B_A1_P121.mzXML</td><td>501                                      </td><td>Group1A                                  </td><td>naive                                    </td><td>50                                       </td><td>LA                                       </td><td>A1                                       </td><td>P121                                     </td><td>0.03680541                               </td><td>0.05720000                               </td><td>0.000760560                              </td><td>0.03120538                               </td><td>0.002291347                              </td></tr>\n",
       "\t<tr><td>X502_Group1A_50dpi_LA_252_B_A2_P121.mzXML</td><td>502                                      </td><td>Group1A                                  </td><td>naive                                    </td><td>50                                       </td><td>LA                                       </td><td>A2                                       </td><td>P121                                     </td><td>0.05030247                               </td><td>0.05579971                               </td><td>0.001677424                              </td><td>0.04250978                               </td><td>0.015692309                              </td></tr>\n",
       "\t<tr><td>X503_Group1A_50dpi_LA_253_B_A3_P121.mzXML</td><td>503                                      </td><td>Group1A                                  </td><td>naive                                    </td><td>50                                       </td><td>LA                                       </td><td>A3                                       </td><td>P121                                     </td><td>0.04431684                               </td><td>0.05170000                               </td><td>0.000937343                              </td><td>0.04018191                               </td><td>0.012112645                              </td></tr>\n",
       "\t<tr><td>X504_Group1A_50dpi_LA_254_B_A4_P121.mzXML</td><td>504                                      </td><td>Group1A                                  </td><td>naive                                    </td><td>50                                       </td><td>LA                                       </td><td>A4                                       </td><td>P121                                     </td><td>0.01793115                               </td><td>0.03130000                               </td><td>0.001254220                              </td><td>0.04100662                               </td><td>0.011346929                              </td></tr>\n",
       "\t<tr><td>X505_Group1A_50dpi_LA_255_B_A5_P121.mzXML</td><td>505                                      </td><td>Group1A                                  </td><td>naive                                    </td><td>50                                       </td><td>LA                                       </td><td>A5                                       </td><td>P121                                     </td><td>0.06151622                               </td><td>0.08590000                               </td><td>0.001179035                              </td><td>0.01776781                               </td><td>0.013053424                              </td></tr>\n",
       "\t<tr><td>X521_Group1A_50dpi_LA_256_B_A6_P121.mzXML</td><td>521                                      </td><td>Group1A                                  </td><td>naive                                    </td><td>50                                       </td><td>LA                                       </td><td>A6                                       </td><td>P121                                     </td><td>0.05923037                               </td><td>0.07050000                               </td><td>0.001097703                              </td><td>0.02581648                               </td><td>0.011216905                              </td></tr>\n",
       "</tbody>\n",
       "</table>\n"
      ],
      "text/latex": [
       "\\begin{tabular}{r|lllllllllllll}\n",
       " filename & MouseID & Treatmentgroup & status & DPI & organ & well\\_position & plate & mass\\_400 & mass\\_500 & mass\\_600 & mass\\_700 & mass\\_800\\\\\n",
       "\\hline\n",
       "\t X501\\_Group1A\\_50dpi\\_LA\\_251\\_B\\_A1\\_P121.mzXML & 501                                                     & Group1A                                                 & naive                                                   & 50                                                      & LA                                                      & A1                                                      & P121                                                    & 0.03680541                                              & 0.05720000                                              & 0.000760560                                             & 0.03120538                                              & 0.002291347                                            \\\\\n",
       "\t X502\\_Group1A\\_50dpi\\_LA\\_252\\_B\\_A2\\_P121.mzXML & 502                                                     & Group1A                                                 & naive                                                   & 50                                                      & LA                                                      & A2                                                      & P121                                                    & 0.05030247                                              & 0.05579971                                              & 0.001677424                                             & 0.04250978                                              & 0.015692309                                            \\\\\n",
       "\t X503\\_Group1A\\_50dpi\\_LA\\_253\\_B\\_A3\\_P121.mzXML & 503                                                     & Group1A                                                 & naive                                                   & 50                                                      & LA                                                      & A3                                                      & P121                                                    & 0.04431684                                              & 0.05170000                                              & 0.000937343                                             & 0.04018191                                              & 0.012112645                                            \\\\\n",
       "\t X504\\_Group1A\\_50dpi\\_LA\\_254\\_B\\_A4\\_P121.mzXML & 504                                                     & Group1A                                                 & naive                                                   & 50                                                      & LA                                                      & A4                                                      & P121                                                    & 0.01793115                                              & 0.03130000                                              & 0.001254220                                             & 0.04100662                                              & 0.011346929                                            \\\\\n",
       "\t X505\\_Group1A\\_50dpi\\_LA\\_255\\_B\\_A5\\_P121.mzXML & 505                                                     & Group1A                                                 & naive                                                   & 50                                                      & LA                                                      & A5                                                      & P121                                                    & 0.06151622                                              & 0.08590000                                              & 0.001179035                                             & 0.01776781                                              & 0.013053424                                            \\\\\n",
       "\t X521\\_Group1A\\_50dpi\\_LA\\_256\\_B\\_A6\\_P121.mzXML & 521                                                     & Group1A                                                 & naive                                                   & 50                                                      & LA                                                      & A6                                                      & P121                                                    & 0.05923037                                              & 0.07050000                                              & 0.001097703                                             & 0.02581648                                              & 0.011216905                                            \\\\\n",
       "\\end{tabular}\n"
      ],
      "text/markdown": [
       "\n",
       "| filename | MouseID | Treatmentgroup | status | DPI | organ | well_position | plate | mass_400 | mass_500 | mass_600 | mass_700 | mass_800 |\n",
       "|---|---|---|---|---|---|---|---|---|---|---|---|---|\n",
       "| X501_Group1A_50dpi_LA_251_B_A1_P121.mzXML | 501                                       | Group1A                                   | naive                                     | 50                                        | LA                                        | A1                                        | P121                                      | 0.03680541                                | 0.05720000                                | 0.000760560                               | 0.03120538                                | 0.002291347                               |\n",
       "| X502_Group1A_50dpi_LA_252_B_A2_P121.mzXML | 502                                       | Group1A                                   | naive                                     | 50                                        | LA                                        | A2                                        | P121                                      | 0.05030247                                | 0.05579971                                | 0.001677424                               | 0.04250978                                | 0.015692309                               |\n",
       "| X503_Group1A_50dpi_LA_253_B_A3_P121.mzXML | 503                                       | Group1A                                   | naive                                     | 50                                        | LA                                        | A3                                        | P121                                      | 0.04431684                                | 0.05170000                                | 0.000937343                               | 0.04018191                                | 0.012112645                               |\n",
       "| X504_Group1A_50dpi_LA_254_B_A4_P121.mzXML | 504                                       | Group1A                                   | naive                                     | 50                                        | LA                                        | A4                                        | P121                                      | 0.01793115                                | 0.03130000                                | 0.001254220                               | 0.04100662                                | 0.011346929                               |\n",
       "| X505_Group1A_50dpi_LA_255_B_A5_P121.mzXML | 505                                       | Group1A                                   | naive                                     | 50                                        | LA                                        | A5                                        | P121                                      | 0.06151622                                | 0.08590000                                | 0.001179035                               | 0.01776781                                | 0.013053424                               |\n",
       "| X521_Group1A_50dpi_LA_256_B_A6_P121.mzXML | 521                                       | Group1A                                   | naive                                     | 50                                        | LA                                        | A6                                        | P121                                      | 0.05923037                                | 0.07050000                                | 0.001097703                               | 0.02581648                                | 0.011216905                               |\n",
       "\n"
      ],
      "text/plain": [
       "  filename                                  MouseID Treatmentgroup status DPI\n",
       "1 X501_Group1A_50dpi_LA_251_B_A1_P121.mzXML 501     Group1A        naive  50 \n",
       "2 X502_Group1A_50dpi_LA_252_B_A2_P121.mzXML 502     Group1A        naive  50 \n",
       "3 X503_Group1A_50dpi_LA_253_B_A3_P121.mzXML 503     Group1A        naive  50 \n",
       "4 X504_Group1A_50dpi_LA_254_B_A4_P121.mzXML 504     Group1A        naive  50 \n",
       "5 X505_Group1A_50dpi_LA_255_B_A5_P121.mzXML 505     Group1A        naive  50 \n",
       "6 X521_Group1A_50dpi_LA_256_B_A6_P121.mzXML 521     Group1A        naive  50 \n",
       "  organ well_position plate mass_400   mass_500   mass_600    mass_700  \n",
       "1 LA    A1            P121  0.03680541 0.05720000 0.000760560 0.03120538\n",
       "2 LA    A2            P121  0.05030247 0.05579971 0.001677424 0.04250978\n",
       "3 LA    A3            P121  0.04431684 0.05170000 0.000937343 0.04018191\n",
       "4 LA    A4            P121  0.01793115 0.03130000 0.001254220 0.04100662\n",
       "5 LA    A5            P121  0.06151622 0.08590000 0.001179035 0.01776781\n",
       "6 LA    A6            P121  0.05923037 0.07050000 0.001097703 0.02581648\n",
       "  mass_800   \n",
       "1 0.002291347\n",
       "2 0.015692309\n",
       "3 0.012112645\n",
       "4 0.011346929\n",
       "5 0.013053424\n",
       "6 0.011216905"
      ]
     },
     "metadata": {},
     "output_type": "display_data"
    },
    {
     "data": {
      "text/html": [
       "<ol class=list-inline>\n",
       "\t<li>30</li>\n",
       "\t<li>13</li>\n",
       "</ol>\n"
      ],
      "text/latex": [
       "\\begin{enumerate*}\n",
       "\\item 30\n",
       "\\item 13\n",
       "\\end{enumerate*}\n"
      ],
      "text/markdown": [
       "1. 30\n",
       "2. 13\n",
       "\n",
       "\n"
      ],
      "text/plain": [
       "[1] 30 13"
      ]
     },
     "metadata": {},
     "output_type": "display_data"
    }
   ],
   "source": [
    "features_pos<-droplevels(subset(a, a$Treatmentgroup==c(\"Group1A\")|a$Treatmentgroup==c(\"Group3A\")))\n",
    "head(features_pos)\n",
    "dim(features_pos)"
   ]
  },
  {
   "cell_type": "code",
   "execution_count": 12,
   "metadata": {
    "scrolled": false
   },
   "outputs": [
    {
     "data": {
      "text/html": [
       "<table>\n",
       "<thead><tr><th scope=col>mass_400</th><th scope=col>mass_500</th><th scope=col>mass_600</th><th scope=col>mass_700</th><th scope=col>mass_800</th></tr></thead>\n",
       "<tbody>\n",
       "\t<tr><td>0.03680541 </td><td>0.05720000 </td><td>0.000760560</td><td>0.03120538 </td><td>0.002291347</td></tr>\n",
       "\t<tr><td>0.05030247 </td><td>0.05579971 </td><td>0.001677424</td><td>0.04250978 </td><td>0.015692309</td></tr>\n",
       "\t<tr><td>0.04431684 </td><td>0.05170000 </td><td>0.000937343</td><td>0.04018191 </td><td>0.012112645</td></tr>\n",
       "\t<tr><td>0.01793115 </td><td>0.03130000 </td><td>0.001254220</td><td>0.04100662 </td><td>0.011346929</td></tr>\n",
       "\t<tr><td>0.06151622 </td><td>0.08590000 </td><td>0.001179035</td><td>0.01776781 </td><td>0.013053424</td></tr>\n",
       "\t<tr><td>0.05923037 </td><td>0.07050000 </td><td>0.001097703</td><td>0.02581648 </td><td>0.011216905</td></tr>\n",
       "</tbody>\n",
       "</table>\n"
      ],
      "text/latex": [
       "\\begin{tabular}{r|lllll}\n",
       " mass\\_400 & mass\\_500 & mass\\_600 & mass\\_700 & mass\\_800\\\\\n",
       "\\hline\n",
       "\t 0.03680541  & 0.05720000  & 0.000760560 & 0.03120538  & 0.002291347\\\\\n",
       "\t 0.05030247  & 0.05579971  & 0.001677424 & 0.04250978  & 0.015692309\\\\\n",
       "\t 0.04431684  & 0.05170000  & 0.000937343 & 0.04018191  & 0.012112645\\\\\n",
       "\t 0.01793115  & 0.03130000  & 0.001254220 & 0.04100662  & 0.011346929\\\\\n",
       "\t 0.06151622  & 0.08590000  & 0.001179035 & 0.01776781  & 0.013053424\\\\\n",
       "\t 0.05923037  & 0.07050000  & 0.001097703 & 0.02581648  & 0.011216905\\\\\n",
       "\\end{tabular}\n"
      ],
      "text/markdown": [
       "\n",
       "| mass_400 | mass_500 | mass_600 | mass_700 | mass_800 |\n",
       "|---|---|---|---|---|\n",
       "| 0.03680541  | 0.05720000  | 0.000760560 | 0.03120538  | 0.002291347 |\n",
       "| 0.05030247  | 0.05579971  | 0.001677424 | 0.04250978  | 0.015692309 |\n",
       "| 0.04431684  | 0.05170000  | 0.000937343 | 0.04018191  | 0.012112645 |\n",
       "| 0.01793115  | 0.03130000  | 0.001254220 | 0.04100662  | 0.011346929 |\n",
       "| 0.06151622  | 0.08590000  | 0.001179035 | 0.01776781  | 0.013053424 |\n",
       "| 0.05923037  | 0.07050000  | 0.001097703 | 0.02581648  | 0.011216905 |\n",
       "\n"
      ],
      "text/plain": [
       "  mass_400   mass_500   mass_600    mass_700   mass_800   \n",
       "1 0.03680541 0.05720000 0.000760560 0.03120538 0.002291347\n",
       "2 0.05030247 0.05579971 0.001677424 0.04250978 0.015692309\n",
       "3 0.04431684 0.05170000 0.000937343 0.04018191 0.012112645\n",
       "4 0.01793115 0.03130000 0.001254220 0.04100662 0.011346929\n",
       "5 0.06151622 0.08590000 0.001179035 0.01776781 0.013053424\n",
       "6 0.05923037 0.07050000 0.001097703 0.02581648 0.011216905"
      ]
     },
     "metadata": {},
     "output_type": "display_data"
    },
    {
     "data": {
      "text/html": [
       "<dl class=dl-horizontal>\n",
       "\t<dt>mass_400</dt>\n",
       "\t\t<dd>1</dd>\n",
       "\t<dt>mass_500</dt>\n",
       "\t\t<dd>2</dd>\n",
       "\t<dt>mass_600</dt>\n",
       "\t\t<dd>3</dd>\n",
       "\t<dt>mass_700</dt>\n",
       "\t\t<dd>4</dd>\n",
       "\t<dt>mass_800</dt>\n",
       "\t\t<dd>5</dd>\n",
       "</dl>\n"
      ],
      "text/latex": [
       "\\begin{description*}\n",
       "\\item[mass\\textbackslash{}\\_400] 1\n",
       "\\item[mass\\textbackslash{}\\_500] 2\n",
       "\\item[mass\\textbackslash{}\\_600] 3\n",
       "\\item[mass\\textbackslash{}\\_700] 4\n",
       "\\item[mass\\textbackslash{}\\_800] 5\n",
       "\\end{description*}\n"
      ],
      "text/markdown": [
       "mass_400\n",
       ":   1mass_500\n",
       ":   2mass_600\n",
       ":   3mass_700\n",
       ":   4mass_800\n",
       ":   5\n",
       "\n"
      ],
      "text/plain": [
       "mass_400 mass_500 mass_600 mass_700 mass_800 \n",
       "       1        2        3        4        5 "
      ]
     },
     "metadata": {},
     "output_type": "display_data"
    },
    {
     "data": {
      "text/html": [
       "<table>\n",
       "<thead><tr><th></th><th scope=col>mass_400</th><th scope=col>mass_500</th><th scope=col>mass_600</th><th scope=col>mass_700</th><th scope=col>mass_800</th></tr></thead>\n",
       "<tbody>\n",
       "\t<tr><th scope=row>1</th><td>0.03680541 </td><td>0.05720000 </td><td>0.000760560</td><td>0.031205378</td><td>0.002291347</td></tr>\n",
       "\t<tr><th scope=row>2</th><td>0.05030247 </td><td>0.05579971 </td><td>0.001677424</td><td>0.042509779</td><td>0.015692309</td></tr>\n",
       "\t<tr><th scope=row>3</th><td>0.04431684 </td><td>0.05170000 </td><td>0.000937343</td><td>0.040181915</td><td>0.012112645</td></tr>\n",
       "\t<tr><th scope=row>4</th><td>0.01793115 </td><td>0.03130000 </td><td>0.001254220</td><td>0.041006624</td><td>0.011346929</td></tr>\n",
       "\t<tr><th scope=row>5</th><td>0.06151622 </td><td>0.08590000 </td><td>0.001179035</td><td>0.017767807</td><td>0.013053424</td></tr>\n",
       "\t<tr><th scope=row>6</th><td>0.05923037 </td><td>0.07050000 </td><td>0.001097703</td><td>0.025816479</td><td>0.011216905</td></tr>\n",
       "\t<tr><th scope=row>7</th><td>0.05248860 </td><td>0.08270000 </td><td>0.001938458</td><td>0.032949636</td><td>0.017714658</td></tr>\n",
       "\t<tr><th scope=row>8</th><td>0.04905911 </td><td>0.05440000 </td><td>0.001036401</td><td>0.020194156</td><td>0.010070921</td></tr>\n",
       "\t<tr><th scope=row>9</th><td>0.06336453 </td><td>0.07180000 </td><td>0.001116448</td><td>0.041721035</td><td>0.015549704</td></tr>\n",
       "\t<tr><th scope=row>10</th><td>0.02248542 </td><td>0.04074714 </td><td>0.001470124</td><td>0.031277974</td><td>0.004881561</td></tr>\n",
       "\t<tr><th scope=row>11</th><td>0.03597781 </td><td>0.07010000 </td><td>0.001078151</td><td>0.042704287</td><td>0.016401998</td></tr>\n",
       "\t<tr><th scope=row>12</th><td>0.03441537 </td><td>0.05020000 </td><td>0.001184917</td><td>0.044963837</td><td>0.033149964</td></tr>\n",
       "\t<tr><th scope=row>13</th><td>0.03439113 </td><td>0.03840000 </td><td>0.000533100</td><td>0.014078662</td><td>0.001119007</td></tr>\n",
       "\t<tr><th scope=row>14</th><td>0.03555273 </td><td>0.05510000 </td><td>0.001287547</td><td>0.022306003</td><td>0.010617431</td></tr>\n",
       "\t<tr><th scope=row>15</th><td>0.03014779 </td><td>0.04220000 </td><td>0.001318150</td><td>0.033039556</td><td>0.017076489</td></tr>\n",
       "\t<tr><th scope=row>46</th><td>0.03408937 </td><td>0.05118158 </td><td>0.000279056</td><td>0.038256978</td><td>0.020346260</td></tr>\n",
       "\t<tr><th scope=row>47</th><td>0.04888297 </td><td>0.05890000 </td><td>0.000731078</td><td>0.042560416</td><td>0.024612741</td></tr>\n",
       "\t<tr><th scope=row>48</th><td>0.08335447 </td><td>0.06019176 </td><td>0.000424386</td><td>0.013044369</td><td>0.011668446</td></tr>\n",
       "\t<tr><th scope=row>49</th><td>0.07490167 </td><td>0.07416329 </td><td>0.000388523</td><td>0.027376728</td><td>0.019155434</td></tr>\n",
       "\t<tr><th scope=row>50</th><td>0.03575660 </td><td>0.03357471 </td><td>0.000110500</td><td>0.008520000</td><td>0.001421099</td></tr>\n",
       "\t<tr><th scope=row>51</th><td>0.06509140 </td><td>0.06674631 </td><td>0.000619047</td><td>0.017849371</td><td>0.012300132</td></tr>\n",
       "\t<tr><th scope=row>52</th><td>0.07341059 </td><td>0.07377667 </td><td>0.000402551</td><td>0.022054502</td><td>0.007051549</td></tr>\n",
       "\t<tr><th scope=row>53</th><td>0.00000000 </td><td>0.00238145 </td><td>0.000000000</td><td>0.005912918</td><td>0.000000000</td></tr>\n",
       "\t<tr><th scope=row>54</th><td>0.05020769 </td><td>0.07175441 </td><td>0.000662215</td><td>0.060417664</td><td>0.039985658</td></tr>\n",
       "\t<tr><th scope=row>55</th><td>0.04670753 </td><td>0.03970000 </td><td>0.001747053</td><td>0.037079410</td><td>0.004809128</td></tr>\n",
       "\t<tr><th scope=row>56</th><td>0.04651751 </td><td>0.04690000 </td><td>0.001881775</td><td>0.030769670</td><td>0.006954114</td></tr>\n",
       "\t<tr><th scope=row>57</th><td>0.04193658 </td><td>0.02302227 </td><td>0.000209205</td><td>0.009428390</td><td>0.000357158</td></tr>\n",
       "\t<tr><th scope=row>58</th><td>0.04301815 </td><td>0.02778691 </td><td>0.000164483</td><td>0.006813957</td><td>0.000775002</td></tr>\n",
       "\t<tr><th scope=row>59</th><td>0.04254313 </td><td>0.03796733 </td><td>0.000482013</td><td>0.006670000</td><td>0.000000000</td></tr>\n",
       "\t<tr><th scope=row>60</th><td>0.03586918 </td><td>0.03449308 </td><td>0.000280553</td><td>0.013346078</td><td>0.002050384</td></tr>\n",
       "</tbody>\n",
       "</table>\n"
      ],
      "text/latex": [
       "\\begin{tabular}{r|lllll}\n",
       "  & mass\\_400 & mass\\_500 & mass\\_600 & mass\\_700 & mass\\_800\\\\\n",
       "\\hline\n",
       "\t1 & 0.03680541  & 0.05720000  & 0.000760560 & 0.031205378 & 0.002291347\\\\\n",
       "\t2 & 0.05030247  & 0.05579971  & 0.001677424 & 0.042509779 & 0.015692309\\\\\n",
       "\t3 & 0.04431684  & 0.05170000  & 0.000937343 & 0.040181915 & 0.012112645\\\\\n",
       "\t4 & 0.01793115  & 0.03130000  & 0.001254220 & 0.041006624 & 0.011346929\\\\\n",
       "\t5 & 0.06151622  & 0.08590000  & 0.001179035 & 0.017767807 & 0.013053424\\\\\n",
       "\t6 & 0.05923037  & 0.07050000  & 0.001097703 & 0.025816479 & 0.011216905\\\\\n",
       "\t7 & 0.05248860  & 0.08270000  & 0.001938458 & 0.032949636 & 0.017714658\\\\\n",
       "\t8 & 0.04905911  & 0.05440000  & 0.001036401 & 0.020194156 & 0.010070921\\\\\n",
       "\t9 & 0.06336453  & 0.07180000  & 0.001116448 & 0.041721035 & 0.015549704\\\\\n",
       "\t10 & 0.02248542  & 0.04074714  & 0.001470124 & 0.031277974 & 0.004881561\\\\\n",
       "\t11 & 0.03597781  & 0.07010000  & 0.001078151 & 0.042704287 & 0.016401998\\\\\n",
       "\t12 & 0.03441537  & 0.05020000  & 0.001184917 & 0.044963837 & 0.033149964\\\\\n",
       "\t13 & 0.03439113  & 0.03840000  & 0.000533100 & 0.014078662 & 0.001119007\\\\\n",
       "\t14 & 0.03555273  & 0.05510000  & 0.001287547 & 0.022306003 & 0.010617431\\\\\n",
       "\t15 & 0.03014779  & 0.04220000  & 0.001318150 & 0.033039556 & 0.017076489\\\\\n",
       "\t46 & 0.03408937  & 0.05118158  & 0.000279056 & 0.038256978 & 0.020346260\\\\\n",
       "\t47 & 0.04888297  & 0.05890000  & 0.000731078 & 0.042560416 & 0.024612741\\\\\n",
       "\t48 & 0.08335447  & 0.06019176  & 0.000424386 & 0.013044369 & 0.011668446\\\\\n",
       "\t49 & 0.07490167  & 0.07416329  & 0.000388523 & 0.027376728 & 0.019155434\\\\\n",
       "\t50 & 0.03575660  & 0.03357471  & 0.000110500 & 0.008520000 & 0.001421099\\\\\n",
       "\t51 & 0.06509140  & 0.06674631  & 0.000619047 & 0.017849371 & 0.012300132\\\\\n",
       "\t52 & 0.07341059  & 0.07377667  & 0.000402551 & 0.022054502 & 0.007051549\\\\\n",
       "\t53 & 0.00000000  & 0.00238145  & 0.000000000 & 0.005912918 & 0.000000000\\\\\n",
       "\t54 & 0.05020769  & 0.07175441  & 0.000662215 & 0.060417664 & 0.039985658\\\\\n",
       "\t55 & 0.04670753  & 0.03970000  & 0.001747053 & 0.037079410 & 0.004809128\\\\\n",
       "\t56 & 0.04651751  & 0.04690000  & 0.001881775 & 0.030769670 & 0.006954114\\\\\n",
       "\t57 & 0.04193658  & 0.02302227  & 0.000209205 & 0.009428390 & 0.000357158\\\\\n",
       "\t58 & 0.04301815  & 0.02778691  & 0.000164483 & 0.006813957 & 0.000775002\\\\\n",
       "\t59 & 0.04254313  & 0.03796733  & 0.000482013 & 0.006670000 & 0.000000000\\\\\n",
       "\t60 & 0.03586918  & 0.03449308  & 0.000280553 & 0.013346078 & 0.002050384\\\\\n",
       "\\end{tabular}\n"
      ],
      "text/markdown": [
       "\n",
       "| <!--/--> | mass_400 | mass_500 | mass_600 | mass_700 | mass_800 |\n",
       "|---|---|---|---|---|---|\n",
       "| 1 | 0.03680541  | 0.05720000  | 0.000760560 | 0.031205378 | 0.002291347 |\n",
       "| 2 | 0.05030247  | 0.05579971  | 0.001677424 | 0.042509779 | 0.015692309 |\n",
       "| 3 | 0.04431684  | 0.05170000  | 0.000937343 | 0.040181915 | 0.012112645 |\n",
       "| 4 | 0.01793115  | 0.03130000  | 0.001254220 | 0.041006624 | 0.011346929 |\n",
       "| 5 | 0.06151622  | 0.08590000  | 0.001179035 | 0.017767807 | 0.013053424 |\n",
       "| 6 | 0.05923037  | 0.07050000  | 0.001097703 | 0.025816479 | 0.011216905 |\n",
       "| 7 | 0.05248860  | 0.08270000  | 0.001938458 | 0.032949636 | 0.017714658 |\n",
       "| 8 | 0.04905911  | 0.05440000  | 0.001036401 | 0.020194156 | 0.010070921 |\n",
       "| 9 | 0.06336453  | 0.07180000  | 0.001116448 | 0.041721035 | 0.015549704 |\n",
       "| 10 | 0.02248542  | 0.04074714  | 0.001470124 | 0.031277974 | 0.004881561 |\n",
       "| 11 | 0.03597781  | 0.07010000  | 0.001078151 | 0.042704287 | 0.016401998 |\n",
       "| 12 | 0.03441537  | 0.05020000  | 0.001184917 | 0.044963837 | 0.033149964 |\n",
       "| 13 | 0.03439113  | 0.03840000  | 0.000533100 | 0.014078662 | 0.001119007 |\n",
       "| 14 | 0.03555273  | 0.05510000  | 0.001287547 | 0.022306003 | 0.010617431 |\n",
       "| 15 | 0.03014779  | 0.04220000  | 0.001318150 | 0.033039556 | 0.017076489 |\n",
       "| 46 | 0.03408937  | 0.05118158  | 0.000279056 | 0.038256978 | 0.020346260 |\n",
       "| 47 | 0.04888297  | 0.05890000  | 0.000731078 | 0.042560416 | 0.024612741 |\n",
       "| 48 | 0.08335447  | 0.06019176  | 0.000424386 | 0.013044369 | 0.011668446 |\n",
       "| 49 | 0.07490167  | 0.07416329  | 0.000388523 | 0.027376728 | 0.019155434 |\n",
       "| 50 | 0.03575660  | 0.03357471  | 0.000110500 | 0.008520000 | 0.001421099 |\n",
       "| 51 | 0.06509140  | 0.06674631  | 0.000619047 | 0.017849371 | 0.012300132 |\n",
       "| 52 | 0.07341059  | 0.07377667  | 0.000402551 | 0.022054502 | 0.007051549 |\n",
       "| 53 | 0.00000000  | 0.00238145  | 0.000000000 | 0.005912918 | 0.000000000 |\n",
       "| 54 | 0.05020769  | 0.07175441  | 0.000662215 | 0.060417664 | 0.039985658 |\n",
       "| 55 | 0.04670753  | 0.03970000  | 0.001747053 | 0.037079410 | 0.004809128 |\n",
       "| 56 | 0.04651751  | 0.04690000  | 0.001881775 | 0.030769670 | 0.006954114 |\n",
       "| 57 | 0.04193658  | 0.02302227  | 0.000209205 | 0.009428390 | 0.000357158 |\n",
       "| 58 | 0.04301815  | 0.02778691  | 0.000164483 | 0.006813957 | 0.000775002 |\n",
       "| 59 | 0.04254313  | 0.03796733  | 0.000482013 | 0.006670000 | 0.000000000 |\n",
       "| 60 | 0.03586918  | 0.03449308  | 0.000280553 | 0.013346078 | 0.002050384 |\n",
       "\n"
      ],
      "text/plain": [
       "   mass_400   mass_500   mass_600    mass_700    mass_800   \n",
       "1  0.03680541 0.05720000 0.000760560 0.031205378 0.002291347\n",
       "2  0.05030247 0.05579971 0.001677424 0.042509779 0.015692309\n",
       "3  0.04431684 0.05170000 0.000937343 0.040181915 0.012112645\n",
       "4  0.01793115 0.03130000 0.001254220 0.041006624 0.011346929\n",
       "5  0.06151622 0.08590000 0.001179035 0.017767807 0.013053424\n",
       "6  0.05923037 0.07050000 0.001097703 0.025816479 0.011216905\n",
       "7  0.05248860 0.08270000 0.001938458 0.032949636 0.017714658\n",
       "8  0.04905911 0.05440000 0.001036401 0.020194156 0.010070921\n",
       "9  0.06336453 0.07180000 0.001116448 0.041721035 0.015549704\n",
       "10 0.02248542 0.04074714 0.001470124 0.031277974 0.004881561\n",
       "11 0.03597781 0.07010000 0.001078151 0.042704287 0.016401998\n",
       "12 0.03441537 0.05020000 0.001184917 0.044963837 0.033149964\n",
       "13 0.03439113 0.03840000 0.000533100 0.014078662 0.001119007\n",
       "14 0.03555273 0.05510000 0.001287547 0.022306003 0.010617431\n",
       "15 0.03014779 0.04220000 0.001318150 0.033039556 0.017076489\n",
       "46 0.03408937 0.05118158 0.000279056 0.038256978 0.020346260\n",
       "47 0.04888297 0.05890000 0.000731078 0.042560416 0.024612741\n",
       "48 0.08335447 0.06019176 0.000424386 0.013044369 0.011668446\n",
       "49 0.07490167 0.07416329 0.000388523 0.027376728 0.019155434\n",
       "50 0.03575660 0.03357471 0.000110500 0.008520000 0.001421099\n",
       "51 0.06509140 0.06674631 0.000619047 0.017849371 0.012300132\n",
       "52 0.07341059 0.07377667 0.000402551 0.022054502 0.007051549\n",
       "53 0.00000000 0.00238145 0.000000000 0.005912918 0.000000000\n",
       "54 0.05020769 0.07175441 0.000662215 0.060417664 0.039985658\n",
       "55 0.04670753 0.03970000 0.001747053 0.037079410 0.004809128\n",
       "56 0.04651751 0.04690000 0.001881775 0.030769670 0.006954114\n",
       "57 0.04193658 0.02302227 0.000209205 0.009428390 0.000357158\n",
       "58 0.04301815 0.02778691 0.000164483 0.006813957 0.000775002\n",
       "59 0.04254313 0.03796733 0.000482013 0.006670000 0.000000000\n",
       "60 0.03586918 0.03449308 0.000280553 0.013346078 0.002050384"
      ]
     },
     "metadata": {},
     "output_type": "display_data"
    },
    {
     "data": {
      "text/html": [
       "<table>\n",
       "<thead><tr><th scope=col>filename</th><th scope=col>MouseID</th><th scope=col>Treatmentgroup</th><th scope=col>status</th><th scope=col>DPI</th><th scope=col>organ</th><th scope=col>well_position</th><th scope=col>plate</th><th scope=col>mass_400</th><th scope=col>mass_500</th><th scope=col>mass_600</th><th scope=col>mass_700</th><th scope=col>mass_800</th></tr></thead>\n",
       "<tbody>\n",
       "\t<tr><td>X501_Group1A_50dpi_LA_251_B_A1_P121.mzXML</td><td>501                                      </td><td>Group1A                                  </td><td>naive                                    </td><td>50                                       </td><td>LA                                       </td><td>A1                                       </td><td>P121                                     </td><td>0.03680541                               </td><td>0.05720000                               </td><td>0.000760560                              </td><td>0.03120538                               </td><td>0.002291347                              </td></tr>\n",
       "\t<tr><td>X502_Group1A_50dpi_LA_252_B_A2_P121.mzXML</td><td>502                                      </td><td>Group1A                                  </td><td>naive                                    </td><td>50                                       </td><td>LA                                       </td><td>A2                                       </td><td>P121                                     </td><td>0.05030247                               </td><td>0.05579971                               </td><td>0.001677424                              </td><td>0.04250978                               </td><td>0.015692309                              </td></tr>\n",
       "\t<tr><td>X503_Group1A_50dpi_LA_253_B_A3_P121.mzXML</td><td>503                                      </td><td>Group1A                                  </td><td>naive                                    </td><td>50                                       </td><td>LA                                       </td><td>A3                                       </td><td>P121                                     </td><td>0.04431684                               </td><td>0.05170000                               </td><td>0.000937343                              </td><td>0.04018191                               </td><td>0.012112645                              </td></tr>\n",
       "\t<tr><td>X504_Group1A_50dpi_LA_254_B_A4_P121.mzXML</td><td>504                                      </td><td>Group1A                                  </td><td>naive                                    </td><td>50                                       </td><td>LA                                       </td><td>A4                                       </td><td>P121                                     </td><td>0.01793115                               </td><td>0.03130000                               </td><td>0.001254220                              </td><td>0.04100662                               </td><td>0.011346929                              </td></tr>\n",
       "\t<tr><td>X505_Group1A_50dpi_LA_255_B_A5_P121.mzXML</td><td>505                                      </td><td>Group1A                                  </td><td>naive                                    </td><td>50                                       </td><td>LA                                       </td><td>A5                                       </td><td>P121                                     </td><td>0.06151622                               </td><td>0.08590000                               </td><td>0.001179035                              </td><td>0.01776781                               </td><td>0.013053424                              </td></tr>\n",
       "\t<tr><td>X521_Group1A_50dpi_LA_256_B_A6_P121.mzXML</td><td>521                                      </td><td>Group1A                                  </td><td>naive                                    </td><td>50                                       </td><td>LA                                       </td><td>A6                                       </td><td>P121                                     </td><td>0.05923037                               </td><td>0.07050000                               </td><td>0.001097703                              </td><td>0.02581648                               </td><td>0.011216905                              </td></tr>\n",
       "</tbody>\n",
       "</table>\n"
      ],
      "text/latex": [
       "\\begin{tabular}{r|lllllllllllll}\n",
       " filename & MouseID & Treatmentgroup & status & DPI & organ & well\\_position & plate & mass\\_400 & mass\\_500 & mass\\_600 & mass\\_700 & mass\\_800\\\\\n",
       "\\hline\n",
       "\t X501\\_Group1A\\_50dpi\\_LA\\_251\\_B\\_A1\\_P121.mzXML & 501                                                     & Group1A                                                 & naive                                                   & 50                                                      & LA                                                      & A1                                                      & P121                                                    & 0.03680541                                              & 0.05720000                                              & 0.000760560                                             & 0.03120538                                              & 0.002291347                                            \\\\\n",
       "\t X502\\_Group1A\\_50dpi\\_LA\\_252\\_B\\_A2\\_P121.mzXML & 502                                                     & Group1A                                                 & naive                                                   & 50                                                      & LA                                                      & A2                                                      & P121                                                    & 0.05030247                                              & 0.05579971                                              & 0.001677424                                             & 0.04250978                                              & 0.015692309                                            \\\\\n",
       "\t X503\\_Group1A\\_50dpi\\_LA\\_253\\_B\\_A3\\_P121.mzXML & 503                                                     & Group1A                                                 & naive                                                   & 50                                                      & LA                                                      & A3                                                      & P121                                                    & 0.04431684                                              & 0.05170000                                              & 0.000937343                                             & 0.04018191                                              & 0.012112645                                            \\\\\n",
       "\t X504\\_Group1A\\_50dpi\\_LA\\_254\\_B\\_A4\\_P121.mzXML & 504                                                     & Group1A                                                 & naive                                                   & 50                                                      & LA                                                      & A4                                                      & P121                                                    & 0.01793115                                              & 0.03130000                                              & 0.001254220                                             & 0.04100662                                              & 0.011346929                                            \\\\\n",
       "\t X505\\_Group1A\\_50dpi\\_LA\\_255\\_B\\_A5\\_P121.mzXML & 505                                                     & Group1A                                                 & naive                                                   & 50                                                      & LA                                                      & A5                                                      & P121                                                    & 0.06151622                                              & 0.08590000                                              & 0.001179035                                             & 0.01776781                                              & 0.013053424                                            \\\\\n",
       "\t X521\\_Group1A\\_50dpi\\_LA\\_256\\_B\\_A6\\_P121.mzXML & 521                                                     & Group1A                                                 & naive                                                   & 50                                                      & LA                                                      & A6                                                      & P121                                                    & 0.05923037                                              & 0.07050000                                              & 0.001097703                                             & 0.02581648                                              & 0.011216905                                            \\\\\n",
       "\\end{tabular}\n"
      ],
      "text/markdown": [
       "\n",
       "| filename | MouseID | Treatmentgroup | status | DPI | organ | well_position | plate | mass_400 | mass_500 | mass_600 | mass_700 | mass_800 |\n",
       "|---|---|---|---|---|---|---|---|---|---|---|---|---|\n",
       "| X501_Group1A_50dpi_LA_251_B_A1_P121.mzXML | 501                                       | Group1A                                   | naive                                     | 50                                        | LA                                        | A1                                        | P121                                      | 0.03680541                                | 0.05720000                                | 0.000760560                               | 0.03120538                                | 0.002291347                               |\n",
       "| X502_Group1A_50dpi_LA_252_B_A2_P121.mzXML | 502                                       | Group1A                                   | naive                                     | 50                                        | LA                                        | A2                                        | P121                                      | 0.05030247                                | 0.05579971                                | 0.001677424                               | 0.04250978                                | 0.015692309                               |\n",
       "| X503_Group1A_50dpi_LA_253_B_A3_P121.mzXML | 503                                       | Group1A                                   | naive                                     | 50                                        | LA                                        | A3                                        | P121                                      | 0.04431684                                | 0.05170000                                | 0.000937343                               | 0.04018191                                | 0.012112645                               |\n",
       "| X504_Group1A_50dpi_LA_254_B_A4_P121.mzXML | 504                                       | Group1A                                   | naive                                     | 50                                        | LA                                        | A4                                        | P121                                      | 0.01793115                                | 0.03130000                                | 0.001254220                               | 0.04100662                                | 0.011346929                               |\n",
       "| X505_Group1A_50dpi_LA_255_B_A5_P121.mzXML | 505                                       | Group1A                                   | naive                                     | 50                                        | LA                                        | A5                                        | P121                                      | 0.06151622                                | 0.08590000                                | 0.001179035                               | 0.01776781                                | 0.013053424                               |\n",
       "| X521_Group1A_50dpi_LA_256_B_A6_P121.mzXML | 521                                       | Group1A                                   | naive                                     | 50                                        | LA                                        | A6                                        | P121                                      | 0.05923037                                | 0.07050000                                | 0.001097703                               | 0.02581648                                | 0.011216905                               |\n",
       "\n"
      ],
      "text/plain": [
       "  filename                                  MouseID Treatmentgroup status DPI\n",
       "1 X501_Group1A_50dpi_LA_251_B_A1_P121.mzXML 501     Group1A        naive  50 \n",
       "2 X502_Group1A_50dpi_LA_252_B_A2_P121.mzXML 502     Group1A        naive  50 \n",
       "3 X503_Group1A_50dpi_LA_253_B_A3_P121.mzXML 503     Group1A        naive  50 \n",
       "4 X504_Group1A_50dpi_LA_254_B_A4_P121.mzXML 504     Group1A        naive  50 \n",
       "5 X505_Group1A_50dpi_LA_255_B_A5_P121.mzXML 505     Group1A        naive  50 \n",
       "6 X521_Group1A_50dpi_LA_256_B_A6_P121.mzXML 521     Group1A        naive  50 \n",
       "  organ well_position plate mass_400   mass_500   mass_600    mass_700  \n",
       "1 LA    A1            P121  0.03680541 0.05720000 0.000760560 0.03120538\n",
       "2 LA    A2            P121  0.05030247 0.05579971 0.001677424 0.04250978\n",
       "3 LA    A3            P121  0.04431684 0.05170000 0.000937343 0.04018191\n",
       "4 LA    A4            P121  0.01793115 0.03130000 0.001254220 0.04100662\n",
       "5 LA    A5            P121  0.06151622 0.08590000 0.001179035 0.01776781\n",
       "6 LA    A6            P121  0.05923037 0.07050000 0.001097703 0.02581648\n",
       "  mass_800   \n",
       "1 0.002291347\n",
       "2 0.015692309\n",
       "3 0.012112645\n",
       "4 0.011346929\n",
       "5 0.013053424\n",
       "6 0.011216905"
      ]
     },
     "metadata": {},
     "output_type": "display_data"
    },
    {
     "data": {
      "text/html": [
       "<ol class=list-inline>\n",
       "\t<li>30</li>\n",
       "\t<li>13</li>\n",
       "</ol>\n"
      ],
      "text/latex": [
       "\\begin{enumerate*}\n",
       "\\item 30\n",
       "\\item 13\n",
       "\\end{enumerate*}\n"
      ],
      "text/markdown": [
       "1. 30\n",
       "2. 13\n",
       "\n",
       "\n"
      ],
      "text/plain": [
       "[1] 30 13"
      ]
     },
     "metadata": {},
     "output_type": "display_data"
    },
    {
     "data": {
      "text/html": [
       "<ol class=list-inline>\n",
       "\t<li>30</li>\n",
       "\t<li>5</li>\n",
       "</ol>\n"
      ],
      "text/latex": [
       "\\begin{enumerate*}\n",
       "\\item 30\n",
       "\\item 5\n",
       "\\end{enumerate*}\n"
      ],
      "text/markdown": [
       "1. 30\n",
       "2. 5\n",
       "\n",
       "\n"
      ],
      "text/plain": [
       "[1] 30  5"
      ]
     },
     "metadata": {},
     "output_type": "display_data"
    },
    {
     "data": {
      "text/html": [
       "<ol class=list-inline>\n",
       "\t<li>30</li>\n",
       "\t<li>5</li>\n",
       "</ol>\n"
      ],
      "text/latex": [
       "\\begin{enumerate*}\n",
       "\\item 30\n",
       "\\item 5\n",
       "\\end{enumerate*}\n"
      ],
      "text/markdown": [
       "1. 30\n",
       "2. 5\n",
       "\n",
       "\n"
      ],
      "text/plain": [
       "[1] 30  5"
      ]
     },
     "metadata": {},
     "output_type": "display_data"
    },
    {
     "data": {
      "text/html": [
       "<ol class=list-inline>\n",
       "\t<li>30</li>\n",
       "\t<li>13</li>\n",
       "</ol>\n"
      ],
      "text/latex": [
       "\\begin{enumerate*}\n",
       "\\item 30\n",
       "\\item 13\n",
       "\\end{enumerate*}\n"
      ],
      "text/markdown": [
       "1. 30\n",
       "2. 13\n",
       "\n",
       "\n"
      ],
      "text/plain": [
       "[1] 30 13"
      ]
     },
     "metadata": {},
     "output_type": "display_data"
    }
   ],
   "source": [
    "noMeta<-features_pos[,9:13]\n",
    "head(noMeta)\n",
    "not_zero<-which(colSums(noMeta) != 0)\n",
    "head(not_zero)\n",
    "nonzero <- noMeta[, not_zero]\n",
    "nonzero\n",
    "nonzero_wMeta<-cbind(features_pos[,1:8], nonzero)\n",
    "head(nonzero_wMeta)\n",
    "dim(features_pos)\n",
    "dim(noMeta)\n",
    "dim(nonzero)\n",
    "dim(nonzero_wMeta)"
   ]
  },
  {
   "cell_type": "code",
   "execution_count": 13,
   "metadata": {
    "scrolled": true
   },
   "outputs": [
    {
     "name": "stderr",
     "output_type": "stream",
     "text": [
      "Warning message in wilcox.test.default(x = c(0.002291347, 0.015692309, 0.012112645, :\n",
      "\"cannot compute exact p-value with ties\""
     ]
    },
    {
     "data": {
      "text/html": [
       "<ol class=list-inline>\n",
       "\t<li>0.345310897182987</li>\n",
       "\t<li>0.216856638760083</li>\n",
       "\t<li>0.000394049621216224</li>\n",
       "\t<li>0.0329436416982427</li>\n",
       "\t<li>0.213322782540945</li>\n",
       "</ol>\n"
      ],
      "text/latex": [
       "\\begin{enumerate*}\n",
       "\\item 0.345310897182987\n",
       "\\item 0.216856638760083\n",
       "\\item 0.000394049621216224\n",
       "\\item 0.0329436416982427\n",
       "\\item 0.213322782540945\n",
       "\\end{enumerate*}\n"
      ],
      "text/markdown": [
       "1. 0.345310897182987\n",
       "2. 0.216856638760083\n",
       "3. 0.000394049621216224\n",
       "4. 0.0329436416982427\n",
       "5. 0.213322782540945\n",
       "\n",
       "\n"
      ],
      "text/plain": [
       "[1] 0.3453108972 0.2168566388 0.0003940496 0.0329436417 0.2133227825"
      ]
     },
     "metadata": {},
     "output_type": "display_data"
    },
    {
     "data": {
      "text/html": [
       "<ol class=list-inline>\n",
       "\t<li>0.345310897182987</li>\n",
       "\t<li>0.271070798450104</li>\n",
       "\t<li>0.00197024810608112</li>\n",
       "\t<li>0.0823591042456068</li>\n",
       "\t<li>0.271070798450104</li>\n",
       "</ol>\n"
      ],
      "text/latex": [
       "\\begin{enumerate*}\n",
       "\\item 0.345310897182987\n",
       "\\item 0.271070798450104\n",
       "\\item 0.00197024810608112\n",
       "\\item 0.0823591042456068\n",
       "\\item 0.271070798450104\n",
       "\\end{enumerate*}\n"
      ],
      "text/markdown": [
       "1. 0.345310897182987\n",
       "2. 0.271070798450104\n",
       "3. 0.00197024810608112\n",
       "4. 0.0823591042456068\n",
       "5. 0.271070798450104\n",
       "\n",
       "\n"
      ],
      "text/plain": [
       "[1] 0.345310897 0.271070798 0.001970248 0.082359104 0.271070798"
      ]
     },
     "metadata": {},
     "output_type": "display_data"
    }
   ],
   "source": [
    "pval<-c()\n",
    "\n",
    "for (i in 9:ncol(nonzero_wMeta)) \n",
    "pval<-c(pval,wilcox.test(nonzero_wMeta[,i]~nonzero_wMeta$Treatmentgroup)$p.value)\n",
    "head(pval)\n",
    "pAdj <- p.adjust(pval, method = c(\"fdr\"), n=length(pval)) \n",
    "head(pAdj) \n",
    "\n"
   ]
  },
  {
   "cell_type": "code",
   "execution_count": 14,
   "metadata": {
    "scrolled": true
   },
   "outputs": [
    {
     "data": {
      "text/html": [
       "5"
      ],
      "text/latex": [
       "5"
      ],
      "text/markdown": [
       "5"
      ],
      "text/plain": [
       "[1] 5"
      ]
     },
     "metadata": {},
     "output_type": "display_data"
    }
   ],
   "source": [
    "length(pval)"
   ]
  },
  {
   "cell_type": "code",
   "execution_count": 15,
   "metadata": {
    "scrolled": true
   },
   "outputs": [
    {
     "data": {
      "text/html": [
       "5"
      ],
      "text/latex": [
       "5"
      ],
      "text/markdown": [
       "5"
      ],
      "text/plain": [
       "[1] 5"
      ]
     },
     "metadata": {},
     "output_type": "display_data"
    }
   ],
   "source": [
    "length(pAdj)"
   ]
  },
  {
   "cell_type": "code",
   "execution_count": 16,
   "metadata": {},
   "outputs": [
    {
     "data": {
      "text/html": [
       "<ol class=list-inline>\n",
       "\t<li>2</li>\n",
       "\t<li>5</li>\n",
       "</ol>\n"
      ],
      "text/latex": [
       "\\begin{enumerate*}\n",
       "\\item 2\n",
       "\\item 5\n",
       "\\end{enumerate*}\n"
      ],
      "text/markdown": [
       "1. 2\n",
       "2. 5\n",
       "\n",
       "\n"
      ],
      "text/plain": [
       "[1] 2 5"
      ]
     },
     "metadata": {},
     "output_type": "display_data"
    },
    {
     "data": {
      "text/html": [
       "<table>\n",
       "<thead><tr><th></th><th scope=col>mass_400</th><th scope=col>mass_500</th><th scope=col>mass_600</th></tr></thead>\n",
       "<tbody>\n",
       "\t<tr><th scope=row>Group1A</th><td>0.04186566  </td><td>0.05720312  </td><td>0.0011913054</td></tr>\n",
       "\t<tr><th scope=row>Group3A</th><td>0.04815246  </td><td>0.04683599  </td><td>0.0005588292</td></tr>\n",
       "</tbody>\n",
       "</table>\n"
      ],
      "text/latex": [
       "\\begin{tabular}{r|lll}\n",
       "  & mass\\_400 & mass\\_500 & mass\\_600\\\\\n",
       "\\hline\n",
       "\tGroup1A & 0.04186566   & 0.05720312   & 0.0011913054\\\\\n",
       "\tGroup3A & 0.04815246   & 0.04683599   & 0.0005588292\\\\\n",
       "\\end{tabular}\n"
      ],
      "text/markdown": [
       "\n",
       "| <!--/--> | mass_400 | mass_500 | mass_600 |\n",
       "|---|---|---|---|\n",
       "| Group1A | 0.04186566   | 0.05720312   | 0.0011913054 |\n",
       "| Group3A | 0.04815246   | 0.04683599   | 0.0005588292 |\n",
       "\n"
      ],
      "text/plain": [
       "        mass_400   mass_500   mass_600    \n",
       "Group1A 0.04186566 0.05720312 0.0011913054\n",
       "Group3A 0.04815246 0.04683599 0.0005588292"
      ]
     },
     "metadata": {},
     "output_type": "display_data"
    },
    {
     "data": {
      "text/html": [
       "<dl class=dl-horizontal>\n",
       "\t<dt>mass_400</dt>\n",
       "\t\t<dd>0.869439805032581</dd>\n",
       "\t<dt>mass_500</dt>\n",
       "\t\t<dd>1.22134985880337</dd>\n",
       "\t<dt>mass_600</dt>\n",
       "\t\t<dd>2.13178803111935</dd>\n",
       "\t<dt>mass_700</dt>\n",
       "\t\t<dd>1.41641425815104</dd>\n",
       "\t<dt>mass_800</dt>\n",
       "\t\t<dd>1.2693838990454</dd>\n",
       "</dl>\n"
      ],
      "text/latex": [
       "\\begin{description*}\n",
       "\\item[mass\\textbackslash{}\\_400] 0.869439805032581\n",
       "\\item[mass\\textbackslash{}\\_500] 1.22134985880337\n",
       "\\item[mass\\textbackslash{}\\_600] 2.13178803111935\n",
       "\\item[mass\\textbackslash{}\\_700] 1.41641425815104\n",
       "\\item[mass\\textbackslash{}\\_800] 1.2693838990454\n",
       "\\end{description*}\n"
      ],
      "text/markdown": [
       "mass_400\n",
       ":   0.869439805032581mass_500\n",
       ":   1.22134985880337mass_600\n",
       ":   2.13178803111935mass_700\n",
       ":   1.41641425815104mass_800\n",
       ":   1.2693838990454\n",
       "\n"
      ],
      "text/plain": [
       " mass_400  mass_500  mass_600  mass_700  mass_800 \n",
       "0.8694398 1.2213499 2.1317880 1.4164143 1.2693839 "
      ]
     },
     "metadata": {},
     "output_type": "display_data"
    },
    {
     "data": {
      "text/html": [
       "<ol class=list-inline>\n",
       "\t<li>'numeric'</li>\n",
       "\t<li>'vector'</li>\n",
       "</ol>\n"
      ],
      "text/latex": [
       "\\begin{enumerate*}\n",
       "\\item 'numeric'\n",
       "\\item 'vector'\n",
       "\\end{enumerate*}\n"
      ],
      "text/markdown": [
       "1. 'numeric'\n",
       "2. 'vector'\n",
       "\n",
       "\n"
      ],
      "text/plain": [
       "[1] \"numeric\" \"vector\" "
      ]
     },
     "metadata": {},
     "output_type": "display_data"
    }
   ],
   "source": [
    "avg<- apply(nonzero_wMeta[,9:ncol(nonzero_wMeta)], 2, function(x) tapply(x, nonzero_wMeta$Treatmentgroup, function(x) mean(x))) \n",
    "\n",
    "dim(avg) \n",
    "\n",
    "avg[,1:3]\n",
    "\n",
    "fch <- apply(avg, 2, function(x) x[1]/x[2])\n",
    "\n",
    "head(fch)\n",
    "is(fch)"
   ]
  },
  {
   "cell_type": "code",
   "execution_count": 17,
   "metadata": {
    "scrolled": true
   },
   "outputs": [
    {
     "data": {
      "text/html": [
       "<dl class=dl-horizontal>\n",
       "\t<dt>mass_400</dt>\n",
       "\t\t<dd>0.869439805032581</dd>\n",
       "\t<dt>mass_500</dt>\n",
       "\t\t<dd>1.22134985880337</dd>\n",
       "\t<dt>mass_600</dt>\n",
       "\t\t<dd>2.13178803111935</dd>\n",
       "\t<dt>mass_700</dt>\n",
       "\t\t<dd>1.41641425815104</dd>\n",
       "\t<dt>mass_800</dt>\n",
       "\t\t<dd>1.2693838990454</dd>\n",
       "</dl>\n"
      ],
      "text/latex": [
       "\\begin{description*}\n",
       "\\item[mass\\textbackslash{}\\_400] 0.869439805032581\n",
       "\\item[mass\\textbackslash{}\\_500] 1.22134985880337\n",
       "\\item[mass\\textbackslash{}\\_600] 2.13178803111935\n",
       "\\item[mass\\textbackslash{}\\_700] 1.41641425815104\n",
       "\\item[mass\\textbackslash{}\\_800] 1.2693838990454\n",
       "\\end{description*}\n"
      ],
      "text/markdown": [
       "mass_400\n",
       ":   0.869439805032581mass_500\n",
       ":   1.22134985880337mass_600\n",
       ":   2.13178803111935mass_700\n",
       ":   1.41641425815104mass_800\n",
       ":   1.2693838990454\n",
       "\n"
      ],
      "text/plain": [
       " mass_400  mass_500  mass_600  mass_700  mass_800 \n",
       "0.8694398 1.2213499 2.1317880 1.4164143 1.2693839 "
      ]
     },
     "metadata": {},
     "output_type": "display_data"
    }
   ],
   "source": [
    "fch"
   ]
  },
  {
   "cell_type": "code",
   "execution_count": 18,
   "metadata": {
    "scrolled": false
   },
   "outputs": [],
   "source": [
    "df <- data.frame(fch,pval, pAdj)\n",
    "write.csv(df, \"PC-time-LA-wilcox-1A-3A.csv\")"
   ]
  },
  {
   "cell_type": "code",
   "execution_count": null,
   "metadata": {},
   "outputs": [],
   "source": []
  },
  {
   "cell_type": "code",
   "execution_count": null,
   "metadata": {},
   "outputs": [],
   "source": []
  },
  {
   "cell_type": "code",
   "execution_count": null,
   "metadata": {},
   "outputs": [],
   "source": []
  },
  {
   "cell_type": "code",
   "execution_count": null,
   "metadata": {},
   "outputs": [],
   "source": []
  },
  {
   "cell_type": "code",
   "execution_count": null,
   "metadata": {},
   "outputs": [],
   "source": []
  },
  {
   "cell_type": "code",
   "execution_count": null,
   "metadata": {},
   "outputs": [],
   "source": []
  }
 ],
 "metadata": {
  "kernelspec": {
   "display_name": "R",
   "language": "R",
   "name": "ir"
  },
  "language_info": {
   "codemirror_mode": "r",
   "file_extension": ".r",
   "mimetype": "text/x-r-source",
   "name": "R",
   "pygments_lexer": "r",
   "version": "3.6.1"
  }
 },
 "nbformat": 4,
 "nbformat_minor": 2
}
