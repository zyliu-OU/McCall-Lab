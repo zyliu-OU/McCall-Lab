{
 "cells": [
  {
   "cell_type": "code",
   "execution_count": 1,
   "metadata": {},
   "outputs": [],
   "source": [
    "a <- read.csv(\"03172021-PC-treatment-LA-M-F.csv\")"
   ]
  },
  {
   "cell_type": "code",
   "execution_count": 2,
   "metadata": {},
   "outputs": [
    {
     "data": {
      "text/html": [
       "<table>\n",
       "<thead><tr><th scope=col>filename</th><th scope=col>MouseID</th><th scope=col>Treatmentgroup</th><th scope=col>DPI</th><th scope=col>organ</th><th scope=col>well_position</th><th scope=col>plate</th><th scope=col>mass_400</th><th scope=col>mass_500</th><th scope=col>mass_600</th><th scope=col>mass_700</th><th scope=col>mass_800</th></tr></thead>\n",
       "<tbody>\n",
       "\t<tr><td>X511_Group1C_142dpi_LA_161_G_A1_P120.mzXML</td><td>511                                       </td><td>naive                                     </td><td>142dpi                                    </td><td>LA                                        </td><td>A1                                        </td><td>P120                                      </td><td>0.05708834                                </td><td>0.05868799                                </td><td>0.001422083                               </td><td>0.024448705                               </td><td>0.002961521                               </td></tr>\n",
       "\t<tr><td>X512_Group1C_142dpi_LA_162_G_A2_P120.mzXML</td><td>512                                       </td><td>naive                                     </td><td>142dpi                                    </td><td>LA                                        </td><td>A2                                        </td><td>P120                                      </td><td>0.04364981                                </td><td>0.03529239                                </td><td>0.001064818                               </td><td>0.015103071                               </td><td>0.001586869                               </td></tr>\n",
       "\t<tr><td>X513_Group1C_142dpi_LA_163_G_A3_P120.mzXML</td><td>513                                       </td><td>naive                                     </td><td>142dpi                                    </td><td>LA                                        </td><td>A3                                        </td><td>P120                                      </td><td>0.02723663                                </td><td>0.02308907                                </td><td>0.000641467                               </td><td>0.004038756                               </td><td>0.001170106                               </td></tr>\n",
       "\t<tr><td>X514_Group1C_142dpi_LA_164_G_A4_P120.mzXML</td><td>514                                       </td><td>naive                                     </td><td>142dpi                                    </td><td>LA                                        </td><td>A4                                        </td><td>P120                                      </td><td>0.04795208                                </td><td>0.05203415                                </td><td>0.002287018                               </td><td>0.027557699                               </td><td>0.002876021                               </td></tr>\n",
       "\t<tr><td>X515_Group1C_142dpi_LA_165_G_A5_P120.mzXML</td><td>515                                       </td><td>naive                                     </td><td>142dpi                                    </td><td>LA                                        </td><td>A5                                        </td><td>P120                                      </td><td>0.06062535                                </td><td>0.05520182                                </td><td>0.001113023                               </td><td>0.016928592                               </td><td>0.002033275                               </td></tr>\n",
       "\t<tr><td>X531_Group1C_142dpi_LA_166_G_A6_P120.mzXML</td><td>531                                       </td><td>naive                                     </td><td>142dpi                                    </td><td>LA                                        </td><td>A6                                        </td><td>P120                                      </td><td>0.05173330                                </td><td>0.04288872                                </td><td>0.001191404                               </td><td>0.006303823                               </td><td>0.001142296                               </td></tr>\n",
       "</tbody>\n",
       "</table>\n"
      ],
      "text/latex": [
       "\\begin{tabular}{r|llllllllllll}\n",
       " filename & MouseID & Treatmentgroup & DPI & organ & well\\_position & plate & mass\\_400 & mass\\_500 & mass\\_600 & mass\\_700 & mass\\_800\\\\\n",
       "\\hline\n",
       "\t X511\\_Group1C\\_142dpi\\_LA\\_161\\_G\\_A1\\_P120.mzXML & 511                                                      & naive                                                    & 142dpi                                                   & LA                                                       & A1                                                       & P120                                                     & 0.05708834                                               & 0.05868799                                               & 0.001422083                                              & 0.024448705                                              & 0.002961521                                             \\\\\n",
       "\t X512\\_Group1C\\_142dpi\\_LA\\_162\\_G\\_A2\\_P120.mzXML & 512                                                      & naive                                                    & 142dpi                                                   & LA                                                       & A2                                                       & P120                                                     & 0.04364981                                               & 0.03529239                                               & 0.001064818                                              & 0.015103071                                              & 0.001586869                                             \\\\\n",
       "\t X513\\_Group1C\\_142dpi\\_LA\\_163\\_G\\_A3\\_P120.mzXML & 513                                                      & naive                                                    & 142dpi                                                   & LA                                                       & A3                                                       & P120                                                     & 0.02723663                                               & 0.02308907                                               & 0.000641467                                              & 0.004038756                                              & 0.001170106                                             \\\\\n",
       "\t X514\\_Group1C\\_142dpi\\_LA\\_164\\_G\\_A4\\_P120.mzXML & 514                                                      & naive                                                    & 142dpi                                                   & LA                                                       & A4                                                       & P120                                                     & 0.04795208                                               & 0.05203415                                               & 0.002287018                                              & 0.027557699                                              & 0.002876021                                             \\\\\n",
       "\t X515\\_Group1C\\_142dpi\\_LA\\_165\\_G\\_A5\\_P120.mzXML & 515                                                      & naive                                                    & 142dpi                                                   & LA                                                       & A5                                                       & P120                                                     & 0.06062535                                               & 0.05520182                                               & 0.001113023                                              & 0.016928592                                              & 0.002033275                                             \\\\\n",
       "\t X531\\_Group1C\\_142dpi\\_LA\\_166\\_G\\_A6\\_P120.mzXML & 531                                                      & naive                                                    & 142dpi                                                   & LA                                                       & A6                                                       & P120                                                     & 0.05173330                                               & 0.04288872                                               & 0.001191404                                              & 0.006303823                                              & 0.001142296                                             \\\\\n",
       "\\end{tabular}\n"
      ],
      "text/markdown": [
       "\n",
       "| filename | MouseID | Treatmentgroup | DPI | organ | well_position | plate | mass_400 | mass_500 | mass_600 | mass_700 | mass_800 |\n",
       "|---|---|---|---|---|---|---|---|---|---|---|---|\n",
       "| X511_Group1C_142dpi_LA_161_G_A1_P120.mzXML | 511                                        | naive                                      | 142dpi                                     | LA                                         | A1                                         | P120                                       | 0.05708834                                 | 0.05868799                                 | 0.001422083                                | 0.024448705                                | 0.002961521                                |\n",
       "| X512_Group1C_142dpi_LA_162_G_A2_P120.mzXML | 512                                        | naive                                      | 142dpi                                     | LA                                         | A2                                         | P120                                       | 0.04364981                                 | 0.03529239                                 | 0.001064818                                | 0.015103071                                | 0.001586869                                |\n",
       "| X513_Group1C_142dpi_LA_163_G_A3_P120.mzXML | 513                                        | naive                                      | 142dpi                                     | LA                                         | A3                                         | P120                                       | 0.02723663                                 | 0.02308907                                 | 0.000641467                                | 0.004038756                                | 0.001170106                                |\n",
       "| X514_Group1C_142dpi_LA_164_G_A4_P120.mzXML | 514                                        | naive                                      | 142dpi                                     | LA                                         | A4                                         | P120                                       | 0.04795208                                 | 0.05203415                                 | 0.002287018                                | 0.027557699                                | 0.002876021                                |\n",
       "| X515_Group1C_142dpi_LA_165_G_A5_P120.mzXML | 515                                        | naive                                      | 142dpi                                     | LA                                         | A5                                         | P120                                       | 0.06062535                                 | 0.05520182                                 | 0.001113023                                | 0.016928592                                | 0.002033275                                |\n",
       "| X531_Group1C_142dpi_LA_166_G_A6_P120.mzXML | 531                                        | naive                                      | 142dpi                                     | LA                                         | A6                                         | P120                                       | 0.05173330                                 | 0.04288872                                 | 0.001191404                                | 0.006303823                                | 0.001142296                                |\n",
       "\n"
      ],
      "text/plain": [
       "  filename                                   MouseID Treatmentgroup DPI   \n",
       "1 X511_Group1C_142dpi_LA_161_G_A1_P120.mzXML 511     naive          142dpi\n",
       "2 X512_Group1C_142dpi_LA_162_G_A2_P120.mzXML 512     naive          142dpi\n",
       "3 X513_Group1C_142dpi_LA_163_G_A3_P120.mzXML 513     naive          142dpi\n",
       "4 X514_Group1C_142dpi_LA_164_G_A4_P120.mzXML 514     naive          142dpi\n",
       "5 X515_Group1C_142dpi_LA_165_G_A5_P120.mzXML 515     naive          142dpi\n",
       "6 X531_Group1C_142dpi_LA_166_G_A6_P120.mzXML 531     naive          142dpi\n",
       "  organ well_position plate mass_400   mass_500   mass_600    mass_700   \n",
       "1 LA    A1            P120  0.05708834 0.05868799 0.001422083 0.024448705\n",
       "2 LA    A2            P120  0.04364981 0.03529239 0.001064818 0.015103071\n",
       "3 LA    A3            P120  0.02723663 0.02308907 0.000641467 0.004038756\n",
       "4 LA    A4            P120  0.04795208 0.05203415 0.002287018 0.027557699\n",
       "5 LA    A5            P120  0.06062535 0.05520182 0.001113023 0.016928592\n",
       "6 LA    A6            P120  0.05173330 0.04288872 0.001191404 0.006303823\n",
       "  mass_800   \n",
       "1 0.002961521\n",
       "2 0.001586869\n",
       "3 0.001170106\n",
       "4 0.002876021\n",
       "5 0.002033275\n",
       "6 0.001142296"
      ]
     },
     "metadata": {},
     "output_type": "display_data"
    },
    {
     "data": {
      "text/html": [
       "<ol class=list-inline>\n",
       "\t<li>60</li>\n",
       "\t<li>12</li>\n",
       "</ol>\n"
      ],
      "text/latex": [
       "\\begin{enumerate*}\n",
       "\\item 60\n",
       "\\item 12\n",
       "\\end{enumerate*}\n"
      ],
      "text/markdown": [
       "1. 60\n",
       "2. 12\n",
       "\n",
       "\n"
      ],
      "text/plain": [
       "[1] 60 12"
      ]
     },
     "metadata": {},
     "output_type": "display_data"
    }
   ],
   "source": [
    "head(a)\n",
    "dim(a)"
   ]
  },
  {
   "cell_type": "code",
   "execution_count": 3,
   "metadata": {},
   "outputs": [
    {
     "data": {
      "text/html": [
       "<table>\n",
       "<thead><tr><th></th><th scope=col>filename</th><th scope=col>MouseID</th><th scope=col>Treatmentgroup</th><th scope=col>DPI</th><th scope=col>organ</th><th scope=col>well_position</th><th scope=col>plate</th><th scope=col>mass_400</th><th scope=col>mass_500</th><th scope=col>mass_600</th><th scope=col>mass_700</th><th scope=col>mass_800</th></tr></thead>\n",
       "<tbody>\n",
       "\t<tr><th scope=row>16</th><td>X581_Group3E_142dpi_LA_176_G_B4_P120.mzXML</td><td>581                                       </td><td>infected                                  </td><td>142dpi                                    </td><td>LA                                        </td><td>B4                                        </td><td>P120                                      </td><td>0.07679123                                </td><td>0.06459760                                </td><td>0.000748383                               </td><td>0.013592907                               </td><td>0.002109551                               </td></tr>\n",
       "\t<tr><th scope=row>17</th><td>X582_Group3E_142dpi_LA_177_G_B5_P120.mzXML</td><td>582                                       </td><td>infected                                  </td><td>142dpi                                    </td><td>LA                                        </td><td>B5                                        </td><td>P120                                      </td><td>0.05637692                                </td><td>0.04122667                                </td><td>0.000886637                               </td><td>0.024421916                               </td><td>0.006401568                               </td></tr>\n",
       "\t<tr><th scope=row>18</th><td>X583_Group3E_142dpi_LA_178_G_B6_P120.mzXML</td><td>583                                       </td><td>infected                                  </td><td>142dpi                                    </td><td>LA                                        </td><td>B6                                        </td><td>P120                                      </td><td>0.06208490                                </td><td>0.05214047                                </td><td>0.001578818                               </td><td>0.013405126                               </td><td>0.002711381                               </td></tr>\n",
       "\t<tr><th scope=row>19</th><td>X584_Group3E_142dpi_LA_179_G_B7_P120.mzXML</td><td>584                                       </td><td>infected                                  </td><td>142dpi                                    </td><td>LA                                        </td><td>B7                                        </td><td>P120                                      </td><td>0.04845728                                </td><td>0.04999808                                </td><td>0.001582853                               </td><td>0.019946098                               </td><td>0.001384420                               </td></tr>\n",
       "\t<tr><th scope=row>20</th><td>X585_Group3E_142dpi_LA_180_G_B8_P120.mzXML</td><td>585                                       </td><td>infected                                  </td><td>142dpi                                    </td><td>LA                                        </td><td>B8                                        </td><td>P120                                      </td><td>0.03304103                                </td><td>0.02966949                                </td><td>0.000760197                               </td><td>0.007445944                               </td><td>0.001272537                               </td></tr>\n",
       "\t<tr><th scope=row>21</th><td>X611_Group9_142dpi_LA_181_G_B9_P120.mzXML </td><td>611                                       </td><td>combo                                     </td><td>142dpi                                    </td><td>LA                                        </td><td>B9                                        </td><td>P120                                      </td><td>0.04090417                                </td><td>0.04086484                                </td><td>0.001833863                               </td><td>0.019681270                               </td><td>0.003253505                               </td></tr>\n",
       "</tbody>\n",
       "</table>\n"
      ],
      "text/latex": [
       "\\begin{tabular}{r|llllllllllll}\n",
       "  & filename & MouseID & Treatmentgroup & DPI & organ & well\\_position & plate & mass\\_400 & mass\\_500 & mass\\_600 & mass\\_700 & mass\\_800\\\\\n",
       "\\hline\n",
       "\t16 & X581\\_Group3E\\_142dpi\\_LA\\_176\\_G\\_B4\\_P120.mzXML & 581                                                      & infected                                                 & 142dpi                                                   & LA                                                       & B4                                                       & P120                                                     & 0.07679123                                               & 0.06459760                                               & 0.000748383                                              & 0.013592907                                              & 0.002109551                                             \\\\\n",
       "\t17 & X582\\_Group3E\\_142dpi\\_LA\\_177\\_G\\_B5\\_P120.mzXML & 582                                                      & infected                                                 & 142dpi                                                   & LA                                                       & B5                                                       & P120                                                     & 0.05637692                                               & 0.04122667                                               & 0.000886637                                              & 0.024421916                                              & 0.006401568                                             \\\\\n",
       "\t18 & X583\\_Group3E\\_142dpi\\_LA\\_178\\_G\\_B6\\_P120.mzXML & 583                                                      & infected                                                 & 142dpi                                                   & LA                                                       & B6                                                       & P120                                                     & 0.06208490                                               & 0.05214047                                               & 0.001578818                                              & 0.013405126                                              & 0.002711381                                             \\\\\n",
       "\t19 & X584\\_Group3E\\_142dpi\\_LA\\_179\\_G\\_B7\\_P120.mzXML & 584                                                      & infected                                                 & 142dpi                                                   & LA                                                       & B7                                                       & P120                                                     & 0.04845728                                               & 0.04999808                                               & 0.001582853                                              & 0.019946098                                              & 0.001384420                                             \\\\\n",
       "\t20 & X585\\_Group3E\\_142dpi\\_LA\\_180\\_G\\_B8\\_P120.mzXML & 585                                                      & infected                                                 & 142dpi                                                   & LA                                                       & B8                                                       & P120                                                     & 0.03304103                                               & 0.02966949                                               & 0.000760197                                              & 0.007445944                                              & 0.001272537                                             \\\\\n",
       "\t21 & X611\\_Group9\\_142dpi\\_LA\\_181\\_G\\_B9\\_P120.mzXML  & 611                                                      & combo                                                    & 142dpi                                                   & LA                                                       & B9                                                       & P120                                                     & 0.04090417                                               & 0.04086484                                               & 0.001833863                                              & 0.019681270                                              & 0.003253505                                             \\\\\n",
       "\\end{tabular}\n"
      ],
      "text/markdown": [
       "\n",
       "| <!--/--> | filename | MouseID | Treatmentgroup | DPI | organ | well_position | plate | mass_400 | mass_500 | mass_600 | mass_700 | mass_800 |\n",
       "|---|---|---|---|---|---|---|---|---|---|---|---|---|\n",
       "| 16 | X581_Group3E_142dpi_LA_176_G_B4_P120.mzXML | 581                                        | infected                                   | 142dpi                                     | LA                                         | B4                                         | P120                                       | 0.07679123                                 | 0.06459760                                 | 0.000748383                                | 0.013592907                                | 0.002109551                                |\n",
       "| 17 | X582_Group3E_142dpi_LA_177_G_B5_P120.mzXML | 582                                        | infected                                   | 142dpi                                     | LA                                         | B5                                         | P120                                       | 0.05637692                                 | 0.04122667                                 | 0.000886637                                | 0.024421916                                | 0.006401568                                |\n",
       "| 18 | X583_Group3E_142dpi_LA_178_G_B6_P120.mzXML | 583                                        | infected                                   | 142dpi                                     | LA                                         | B6                                         | P120                                       | 0.06208490                                 | 0.05214047                                 | 0.001578818                                | 0.013405126                                | 0.002711381                                |\n",
       "| 19 | X584_Group3E_142dpi_LA_179_G_B7_P120.mzXML | 584                                        | infected                                   | 142dpi                                     | LA                                         | B7                                         | P120                                       | 0.04845728                                 | 0.04999808                                 | 0.001582853                                | 0.019946098                                | 0.001384420                                |\n",
       "| 20 | X585_Group3E_142dpi_LA_180_G_B8_P120.mzXML | 585                                        | infected                                   | 142dpi                                     | LA                                         | B8                                         | P120                                       | 0.03304103                                 | 0.02966949                                 | 0.000760197                                | 0.007445944                                | 0.001272537                                |\n",
       "| 21 | X611_Group9_142dpi_LA_181_G_B9_P120.mzXML  | 611                                        | combo                                      | 142dpi                                     | LA                                         | B9                                         | P120                                       | 0.04090417                                 | 0.04086484                                 | 0.001833863                                | 0.019681270                                | 0.003253505                                |\n",
       "\n"
      ],
      "text/plain": [
       "   filename                                   MouseID Treatmentgroup DPI   \n",
       "16 X581_Group3E_142dpi_LA_176_G_B4_P120.mzXML 581     infected       142dpi\n",
       "17 X582_Group3E_142dpi_LA_177_G_B5_P120.mzXML 582     infected       142dpi\n",
       "18 X583_Group3E_142dpi_LA_178_G_B6_P120.mzXML 583     infected       142dpi\n",
       "19 X584_Group3E_142dpi_LA_179_G_B7_P120.mzXML 584     infected       142dpi\n",
       "20 X585_Group3E_142dpi_LA_180_G_B8_P120.mzXML 585     infected       142dpi\n",
       "21 X611_Group9_142dpi_LA_181_G_B9_P120.mzXML  611     combo          142dpi\n",
       "   organ well_position plate mass_400   mass_500   mass_600    mass_700   \n",
       "16 LA    B4            P120  0.07679123 0.06459760 0.000748383 0.013592907\n",
       "17 LA    B5            P120  0.05637692 0.04122667 0.000886637 0.024421916\n",
       "18 LA    B6            P120  0.06208490 0.05214047 0.001578818 0.013405126\n",
       "19 LA    B7            P120  0.04845728 0.04999808 0.001582853 0.019946098\n",
       "20 LA    B8            P120  0.03304103 0.02966949 0.000760197 0.007445944\n",
       "21 LA    B9            P120  0.04090417 0.04086484 0.001833863 0.019681270\n",
       "   mass_800   \n",
       "16 0.002109551\n",
       "17 0.006401568\n",
       "18 0.002711381\n",
       "19 0.001384420\n",
       "20 0.001272537\n",
       "21 0.003253505"
      ]
     },
     "metadata": {},
     "output_type": "display_data"
    },
    {
     "data": {
      "text/html": [
       "<ol class=list-inline>\n",
       "\t<li>30</li>\n",
       "\t<li>12</li>\n",
       "</ol>\n"
      ],
      "text/latex": [
       "\\begin{enumerate*}\n",
       "\\item 30\n",
       "\\item 12\n",
       "\\end{enumerate*}\n"
      ],
      "text/markdown": [
       "1. 30\n",
       "2. 12\n",
       "\n",
       "\n"
      ],
      "text/plain": [
       "[1] 30 12"
      ]
     },
     "metadata": {},
     "output_type": "display_data"
    }
   ],
   "source": [
    "features_pos<-droplevels(subset(a, a$Treatmentgroup==c(\"infected\")|a$Treatmentgroup==c(\"combo\")))\n",
    "head(features_pos)\n",
    "dim(features_pos)"
   ]
  },
  {
   "cell_type": "code",
   "execution_count": 4,
   "metadata": {
    "scrolled": false
   },
   "outputs": [
    {
     "data": {
      "text/html": [
       "<table>\n",
       "<thead><tr><th></th><th scope=col>mass_400</th><th scope=col>mass_500</th><th scope=col>mass_600</th><th scope=col>mass_700</th><th scope=col>mass_800</th></tr></thead>\n",
       "<tbody>\n",
       "\t<tr><th scope=row>16</th><td>0.07679123 </td><td>0.06459760 </td><td>0.000748383</td><td>0.013592907</td><td>0.002109551</td></tr>\n",
       "\t<tr><th scope=row>17</th><td>0.05637692 </td><td>0.04122667 </td><td>0.000886637</td><td>0.024421916</td><td>0.006401568</td></tr>\n",
       "\t<tr><th scope=row>18</th><td>0.06208490 </td><td>0.05214047 </td><td>0.001578818</td><td>0.013405126</td><td>0.002711381</td></tr>\n",
       "\t<tr><th scope=row>19</th><td>0.04845728 </td><td>0.04999808 </td><td>0.001582853</td><td>0.019946098</td><td>0.001384420</td></tr>\n",
       "\t<tr><th scope=row>20</th><td>0.03304103 </td><td>0.02966949 </td><td>0.000760197</td><td>0.007445944</td><td>0.001272537</td></tr>\n",
       "\t<tr><th scope=row>21</th><td>0.04090417 </td><td>0.04086484 </td><td>0.001833863</td><td>0.019681270</td><td>0.003253505</td></tr>\n",
       "</tbody>\n",
       "</table>\n"
      ],
      "text/latex": [
       "\\begin{tabular}{r|lllll}\n",
       "  & mass\\_400 & mass\\_500 & mass\\_600 & mass\\_700 & mass\\_800\\\\\n",
       "\\hline\n",
       "\t16 & 0.07679123  & 0.06459760  & 0.000748383 & 0.013592907 & 0.002109551\\\\\n",
       "\t17 & 0.05637692  & 0.04122667  & 0.000886637 & 0.024421916 & 0.006401568\\\\\n",
       "\t18 & 0.06208490  & 0.05214047  & 0.001578818 & 0.013405126 & 0.002711381\\\\\n",
       "\t19 & 0.04845728  & 0.04999808  & 0.001582853 & 0.019946098 & 0.001384420\\\\\n",
       "\t20 & 0.03304103  & 0.02966949  & 0.000760197 & 0.007445944 & 0.001272537\\\\\n",
       "\t21 & 0.04090417  & 0.04086484  & 0.001833863 & 0.019681270 & 0.003253505\\\\\n",
       "\\end{tabular}\n"
      ],
      "text/markdown": [
       "\n",
       "| <!--/--> | mass_400 | mass_500 | mass_600 | mass_700 | mass_800 |\n",
       "|---|---|---|---|---|---|\n",
       "| 16 | 0.07679123  | 0.06459760  | 0.000748383 | 0.013592907 | 0.002109551 |\n",
       "| 17 | 0.05637692  | 0.04122667  | 0.000886637 | 0.024421916 | 0.006401568 |\n",
       "| 18 | 0.06208490  | 0.05214047  | 0.001578818 | 0.013405126 | 0.002711381 |\n",
       "| 19 | 0.04845728  | 0.04999808  | 0.001582853 | 0.019946098 | 0.001384420 |\n",
       "| 20 | 0.03304103  | 0.02966949  | 0.000760197 | 0.007445944 | 0.001272537 |\n",
       "| 21 | 0.04090417  | 0.04086484  | 0.001833863 | 0.019681270 | 0.003253505 |\n",
       "\n"
      ],
      "text/plain": [
       "   mass_400   mass_500   mass_600    mass_700    mass_800   \n",
       "16 0.07679123 0.06459760 0.000748383 0.013592907 0.002109551\n",
       "17 0.05637692 0.04122667 0.000886637 0.024421916 0.006401568\n",
       "18 0.06208490 0.05214047 0.001578818 0.013405126 0.002711381\n",
       "19 0.04845728 0.04999808 0.001582853 0.019946098 0.001384420\n",
       "20 0.03304103 0.02966949 0.000760197 0.007445944 0.001272537\n",
       "21 0.04090417 0.04086484 0.001833863 0.019681270 0.003253505"
      ]
     },
     "metadata": {},
     "output_type": "display_data"
    },
    {
     "data": {
      "text/html": [
       "<dl class=dl-horizontal>\n",
       "\t<dt>mass_400</dt>\n",
       "\t\t<dd>1</dd>\n",
       "\t<dt>mass_500</dt>\n",
       "\t\t<dd>2</dd>\n",
       "\t<dt>mass_600</dt>\n",
       "\t\t<dd>3</dd>\n",
       "\t<dt>mass_700</dt>\n",
       "\t\t<dd>4</dd>\n",
       "\t<dt>mass_800</dt>\n",
       "\t\t<dd>5</dd>\n",
       "</dl>\n"
      ],
      "text/latex": [
       "\\begin{description*}\n",
       "\\item[mass\\textbackslash{}\\_400] 1\n",
       "\\item[mass\\textbackslash{}\\_500] 2\n",
       "\\item[mass\\textbackslash{}\\_600] 3\n",
       "\\item[mass\\textbackslash{}\\_700] 4\n",
       "\\item[mass\\textbackslash{}\\_800] 5\n",
       "\\end{description*}\n"
      ],
      "text/markdown": [
       "mass_400\n",
       ":   1mass_500\n",
       ":   2mass_600\n",
       ":   3mass_700\n",
       ":   4mass_800\n",
       ":   5\n",
       "\n"
      ],
      "text/plain": [
       "mass_400 mass_500 mass_600 mass_700 mass_800 \n",
       "       1        2        3        4        5 "
      ]
     },
     "metadata": {},
     "output_type": "display_data"
    },
    {
     "data": {
      "text/html": [
       "<table>\n",
       "<thead><tr><th></th><th scope=col>mass_400</th><th scope=col>mass_500</th><th scope=col>mass_600</th><th scope=col>mass_700</th><th scope=col>mass_800</th></tr></thead>\n",
       "<tbody>\n",
       "\t<tr><th scope=row>16</th><td>0.07679123 </td><td>0.06459760 </td><td>0.000748383</td><td>0.013592907</td><td>0.002109551</td></tr>\n",
       "\t<tr><th scope=row>17</th><td>0.05637692 </td><td>0.04122667 </td><td>0.000886637</td><td>0.024421916</td><td>0.006401568</td></tr>\n",
       "\t<tr><th scope=row>18</th><td>0.06208490 </td><td>0.05214047 </td><td>0.001578818</td><td>0.013405126</td><td>0.002711381</td></tr>\n",
       "\t<tr><th scope=row>19</th><td>0.04845728 </td><td>0.04999808 </td><td>0.001582853</td><td>0.019946098</td><td>0.001384420</td></tr>\n",
       "\t<tr><th scope=row>20</th><td>0.03304103 </td><td>0.02966949 </td><td>0.000760197</td><td>0.007445944</td><td>0.001272537</td></tr>\n",
       "\t<tr><th scope=row>21</th><td>0.04090417 </td><td>0.04086484 </td><td>0.001833863</td><td>0.019681270</td><td>0.003253505</td></tr>\n",
       "\t<tr><th scope=row>22</th><td>0.03745880 </td><td>0.03019293 </td><td>0.000729655</td><td>0.016872715</td><td>0.001582912</td></tr>\n",
       "\t<tr><th scope=row>23</th><td>0.02436727 </td><td>0.02221326 </td><td>0.000767059</td><td>0.003761233</td><td>0.004761300</td></tr>\n",
       "\t<tr><th scope=row>24</th><td>0.02733701 </td><td>0.04067116 </td><td>0.001824565</td><td>0.043059272</td><td>0.006457442</td></tr>\n",
       "\t<tr><th scope=row>25</th><td>0.05254428 </td><td>0.05292777 </td><td>0.001925590</td><td>0.015958452</td><td>0.004199913</td></tr>\n",
       "\t<tr><th scope=row>31</th><td>0.05644684 </td><td>0.05746368 </td><td>0.001501546</td><td>0.015771917</td><td>0.009721856</td></tr>\n",
       "\t<tr><th scope=row>32</th><td>0.04239897 </td><td>0.04164940 </td><td>0.001721232</td><td>0.036082257</td><td>0.005587892</td></tr>\n",
       "\t<tr><th scope=row>33</th><td>0.06208321 </td><td>0.05663902 </td><td>0.001527127</td><td>0.022350174</td><td>0.006043788</td></tr>\n",
       "\t<tr><th scope=row>34</th><td>0.05436122 </td><td>0.06082714 </td><td>0.002031351</td><td>0.029004928</td><td>0.009562616</td></tr>\n",
       "\t<tr><th scope=row>35</th><td>0.04031664 </td><td>0.03739999 </td><td>0.001366219</td><td>0.027934494</td><td>0.002540332</td></tr>\n",
       "\t<tr><th scope=row>36</th><td>0.02443739 </td><td>0.01810000 </td><td>0.000166151</td><td>0.002717924</td><td>0.000130660</td></tr>\n",
       "\t<tr><th scope=row>37</th><td>0.02263661 </td><td>0.01610000 </td><td>0.000209937</td><td>0.001727406</td><td>0.000309613</td></tr>\n",
       "\t<tr><th scope=row>38</th><td>0.05140107 </td><td>0.04300000 </td><td>0.000740028</td><td>0.018649185</td><td>0.006254547</td></tr>\n",
       "\t<tr><th scope=row>39</th><td>0.08515225 </td><td>0.08102323 </td><td>0.001512400</td><td>0.018566723</td><td>0.009977031</td></tr>\n",
       "\t<tr><th scope=row>40</th><td>0.06436527 </td><td>0.07786635 </td><td>0.001953008</td><td>0.024209967</td><td>0.016252860</td></tr>\n",
       "\t<tr><th scope=row>46</th><td>0.05798096 </td><td>0.04454145 </td><td>0.000977282</td><td>0.011732424</td><td>0.003757619</td></tr>\n",
       "\t<tr><th scope=row>47</th><td>0.04714218 </td><td>0.04733346 </td><td>0.001792991</td><td>0.015201057</td><td>0.006582850</td></tr>\n",
       "\t<tr><th scope=row>48</th><td>0.03256285 </td><td>0.02260000 </td><td>0.000215714</td><td>0.002434439</td><td>0.000216528</td></tr>\n",
       "\t<tr><th scope=row>49</th><td>0.03256062 </td><td>0.02766837 </td><td>0.000645376</td><td>0.006248219</td><td>0.000793925</td></tr>\n",
       "\t<tr><th scope=row>50</th><td>0.02321102 </td><td>0.01935076 </td><td>0.000924843</td><td>0.013502653</td><td>0.000451458</td></tr>\n",
       "\t<tr><th scope=row>51</th><td>0.05398083 </td><td>0.05092429 </td><td>0.001097870</td><td>0.011316390</td><td>0.002592066</td></tr>\n",
       "\t<tr><th scope=row>52</th><td>0.03758543 </td><td>0.02910000 </td><td>0.000534901</td><td>0.004049060</td><td>0.001455022</td></tr>\n",
       "\t<tr><th scope=row>53</th><td>0.05801446 </td><td>0.04132669 </td><td>0.000443594</td><td>0.005711734</td><td>0.000242791</td></tr>\n",
       "\t<tr><th scope=row>54</th><td>0.04413136 </td><td>0.03250000 </td><td>0.000422189</td><td>0.007498225</td><td>0.001662079</td></tr>\n",
       "\t<tr><th scope=row>55</th><td>0.04834261 </td><td>0.04408965 </td><td>0.001632482</td><td>0.032334332</td><td>0.004030879</td></tr>\n",
       "</tbody>\n",
       "</table>\n"
      ],
      "text/latex": [
       "\\begin{tabular}{r|lllll}\n",
       "  & mass\\_400 & mass\\_500 & mass\\_600 & mass\\_700 & mass\\_800\\\\\n",
       "\\hline\n",
       "\t16 & 0.07679123  & 0.06459760  & 0.000748383 & 0.013592907 & 0.002109551\\\\\n",
       "\t17 & 0.05637692  & 0.04122667  & 0.000886637 & 0.024421916 & 0.006401568\\\\\n",
       "\t18 & 0.06208490  & 0.05214047  & 0.001578818 & 0.013405126 & 0.002711381\\\\\n",
       "\t19 & 0.04845728  & 0.04999808  & 0.001582853 & 0.019946098 & 0.001384420\\\\\n",
       "\t20 & 0.03304103  & 0.02966949  & 0.000760197 & 0.007445944 & 0.001272537\\\\\n",
       "\t21 & 0.04090417  & 0.04086484  & 0.001833863 & 0.019681270 & 0.003253505\\\\\n",
       "\t22 & 0.03745880  & 0.03019293  & 0.000729655 & 0.016872715 & 0.001582912\\\\\n",
       "\t23 & 0.02436727  & 0.02221326  & 0.000767059 & 0.003761233 & 0.004761300\\\\\n",
       "\t24 & 0.02733701  & 0.04067116  & 0.001824565 & 0.043059272 & 0.006457442\\\\\n",
       "\t25 & 0.05254428  & 0.05292777  & 0.001925590 & 0.015958452 & 0.004199913\\\\\n",
       "\t31 & 0.05644684  & 0.05746368  & 0.001501546 & 0.015771917 & 0.009721856\\\\\n",
       "\t32 & 0.04239897  & 0.04164940  & 0.001721232 & 0.036082257 & 0.005587892\\\\\n",
       "\t33 & 0.06208321  & 0.05663902  & 0.001527127 & 0.022350174 & 0.006043788\\\\\n",
       "\t34 & 0.05436122  & 0.06082714  & 0.002031351 & 0.029004928 & 0.009562616\\\\\n",
       "\t35 & 0.04031664  & 0.03739999  & 0.001366219 & 0.027934494 & 0.002540332\\\\\n",
       "\t36 & 0.02443739  & 0.01810000  & 0.000166151 & 0.002717924 & 0.000130660\\\\\n",
       "\t37 & 0.02263661  & 0.01610000  & 0.000209937 & 0.001727406 & 0.000309613\\\\\n",
       "\t38 & 0.05140107  & 0.04300000  & 0.000740028 & 0.018649185 & 0.006254547\\\\\n",
       "\t39 & 0.08515225  & 0.08102323  & 0.001512400 & 0.018566723 & 0.009977031\\\\\n",
       "\t40 & 0.06436527  & 0.07786635  & 0.001953008 & 0.024209967 & 0.016252860\\\\\n",
       "\t46 & 0.05798096  & 0.04454145  & 0.000977282 & 0.011732424 & 0.003757619\\\\\n",
       "\t47 & 0.04714218  & 0.04733346  & 0.001792991 & 0.015201057 & 0.006582850\\\\\n",
       "\t48 & 0.03256285  & 0.02260000  & 0.000215714 & 0.002434439 & 0.000216528\\\\\n",
       "\t49 & 0.03256062  & 0.02766837  & 0.000645376 & 0.006248219 & 0.000793925\\\\\n",
       "\t50 & 0.02321102  & 0.01935076  & 0.000924843 & 0.013502653 & 0.000451458\\\\\n",
       "\t51 & 0.05398083  & 0.05092429  & 0.001097870 & 0.011316390 & 0.002592066\\\\\n",
       "\t52 & 0.03758543  & 0.02910000  & 0.000534901 & 0.004049060 & 0.001455022\\\\\n",
       "\t53 & 0.05801446  & 0.04132669  & 0.000443594 & 0.005711734 & 0.000242791\\\\\n",
       "\t54 & 0.04413136  & 0.03250000  & 0.000422189 & 0.007498225 & 0.001662079\\\\\n",
       "\t55 & 0.04834261  & 0.04408965  & 0.001632482 & 0.032334332 & 0.004030879\\\\\n",
       "\\end{tabular}\n"
      ],
      "text/markdown": [
       "\n",
       "| <!--/--> | mass_400 | mass_500 | mass_600 | mass_700 | mass_800 |\n",
       "|---|---|---|---|---|---|\n",
       "| 16 | 0.07679123  | 0.06459760  | 0.000748383 | 0.013592907 | 0.002109551 |\n",
       "| 17 | 0.05637692  | 0.04122667  | 0.000886637 | 0.024421916 | 0.006401568 |\n",
       "| 18 | 0.06208490  | 0.05214047  | 0.001578818 | 0.013405126 | 0.002711381 |\n",
       "| 19 | 0.04845728  | 0.04999808  | 0.001582853 | 0.019946098 | 0.001384420 |\n",
       "| 20 | 0.03304103  | 0.02966949  | 0.000760197 | 0.007445944 | 0.001272537 |\n",
       "| 21 | 0.04090417  | 0.04086484  | 0.001833863 | 0.019681270 | 0.003253505 |\n",
       "| 22 | 0.03745880  | 0.03019293  | 0.000729655 | 0.016872715 | 0.001582912 |\n",
       "| 23 | 0.02436727  | 0.02221326  | 0.000767059 | 0.003761233 | 0.004761300 |\n",
       "| 24 | 0.02733701  | 0.04067116  | 0.001824565 | 0.043059272 | 0.006457442 |\n",
       "| 25 | 0.05254428  | 0.05292777  | 0.001925590 | 0.015958452 | 0.004199913 |\n",
       "| 31 | 0.05644684  | 0.05746368  | 0.001501546 | 0.015771917 | 0.009721856 |\n",
       "| 32 | 0.04239897  | 0.04164940  | 0.001721232 | 0.036082257 | 0.005587892 |\n",
       "| 33 | 0.06208321  | 0.05663902  | 0.001527127 | 0.022350174 | 0.006043788 |\n",
       "| 34 | 0.05436122  | 0.06082714  | 0.002031351 | 0.029004928 | 0.009562616 |\n",
       "| 35 | 0.04031664  | 0.03739999  | 0.001366219 | 0.027934494 | 0.002540332 |\n",
       "| 36 | 0.02443739  | 0.01810000  | 0.000166151 | 0.002717924 | 0.000130660 |\n",
       "| 37 | 0.02263661  | 0.01610000  | 0.000209937 | 0.001727406 | 0.000309613 |\n",
       "| 38 | 0.05140107  | 0.04300000  | 0.000740028 | 0.018649185 | 0.006254547 |\n",
       "| 39 | 0.08515225  | 0.08102323  | 0.001512400 | 0.018566723 | 0.009977031 |\n",
       "| 40 | 0.06436527  | 0.07786635  | 0.001953008 | 0.024209967 | 0.016252860 |\n",
       "| 46 | 0.05798096  | 0.04454145  | 0.000977282 | 0.011732424 | 0.003757619 |\n",
       "| 47 | 0.04714218  | 0.04733346  | 0.001792991 | 0.015201057 | 0.006582850 |\n",
       "| 48 | 0.03256285  | 0.02260000  | 0.000215714 | 0.002434439 | 0.000216528 |\n",
       "| 49 | 0.03256062  | 0.02766837  | 0.000645376 | 0.006248219 | 0.000793925 |\n",
       "| 50 | 0.02321102  | 0.01935076  | 0.000924843 | 0.013502653 | 0.000451458 |\n",
       "| 51 | 0.05398083  | 0.05092429  | 0.001097870 | 0.011316390 | 0.002592066 |\n",
       "| 52 | 0.03758543  | 0.02910000  | 0.000534901 | 0.004049060 | 0.001455022 |\n",
       "| 53 | 0.05801446  | 0.04132669  | 0.000443594 | 0.005711734 | 0.000242791 |\n",
       "| 54 | 0.04413136  | 0.03250000  | 0.000422189 | 0.007498225 | 0.001662079 |\n",
       "| 55 | 0.04834261  | 0.04408965  | 0.001632482 | 0.032334332 | 0.004030879 |\n",
       "\n"
      ],
      "text/plain": [
       "   mass_400   mass_500   mass_600    mass_700    mass_800   \n",
       "16 0.07679123 0.06459760 0.000748383 0.013592907 0.002109551\n",
       "17 0.05637692 0.04122667 0.000886637 0.024421916 0.006401568\n",
       "18 0.06208490 0.05214047 0.001578818 0.013405126 0.002711381\n",
       "19 0.04845728 0.04999808 0.001582853 0.019946098 0.001384420\n",
       "20 0.03304103 0.02966949 0.000760197 0.007445944 0.001272537\n",
       "21 0.04090417 0.04086484 0.001833863 0.019681270 0.003253505\n",
       "22 0.03745880 0.03019293 0.000729655 0.016872715 0.001582912\n",
       "23 0.02436727 0.02221326 0.000767059 0.003761233 0.004761300\n",
       "24 0.02733701 0.04067116 0.001824565 0.043059272 0.006457442\n",
       "25 0.05254428 0.05292777 0.001925590 0.015958452 0.004199913\n",
       "31 0.05644684 0.05746368 0.001501546 0.015771917 0.009721856\n",
       "32 0.04239897 0.04164940 0.001721232 0.036082257 0.005587892\n",
       "33 0.06208321 0.05663902 0.001527127 0.022350174 0.006043788\n",
       "34 0.05436122 0.06082714 0.002031351 0.029004928 0.009562616\n",
       "35 0.04031664 0.03739999 0.001366219 0.027934494 0.002540332\n",
       "36 0.02443739 0.01810000 0.000166151 0.002717924 0.000130660\n",
       "37 0.02263661 0.01610000 0.000209937 0.001727406 0.000309613\n",
       "38 0.05140107 0.04300000 0.000740028 0.018649185 0.006254547\n",
       "39 0.08515225 0.08102323 0.001512400 0.018566723 0.009977031\n",
       "40 0.06436527 0.07786635 0.001953008 0.024209967 0.016252860\n",
       "46 0.05798096 0.04454145 0.000977282 0.011732424 0.003757619\n",
       "47 0.04714218 0.04733346 0.001792991 0.015201057 0.006582850\n",
       "48 0.03256285 0.02260000 0.000215714 0.002434439 0.000216528\n",
       "49 0.03256062 0.02766837 0.000645376 0.006248219 0.000793925\n",
       "50 0.02321102 0.01935076 0.000924843 0.013502653 0.000451458\n",
       "51 0.05398083 0.05092429 0.001097870 0.011316390 0.002592066\n",
       "52 0.03758543 0.02910000 0.000534901 0.004049060 0.001455022\n",
       "53 0.05801446 0.04132669 0.000443594 0.005711734 0.000242791\n",
       "54 0.04413136 0.03250000 0.000422189 0.007498225 0.001662079\n",
       "55 0.04834261 0.04408965 0.001632482 0.032334332 0.004030879"
      ]
     },
     "metadata": {},
     "output_type": "display_data"
    },
    {
     "data": {
      "text/html": [
       "<table>\n",
       "<thead><tr><th></th><th scope=col>filename</th><th scope=col>MouseID</th><th scope=col>Treatmentgroup</th><th scope=col>DPI</th><th scope=col>organ</th><th scope=col>well_position</th><th scope=col>plate</th><th scope=col>mass_400</th><th scope=col>mass_500</th><th scope=col>mass_600</th><th scope=col>mass_700</th><th scope=col>mass_800</th></tr></thead>\n",
       "<tbody>\n",
       "\t<tr><th scope=row>16</th><td>X581_Group3E_142dpi_LA_176_G_B4_P120.mzXML</td><td>581                                       </td><td>infected                                  </td><td>142dpi                                    </td><td>LA                                        </td><td>B4                                        </td><td>P120                                      </td><td>0.07679123                                </td><td>0.06459760                                </td><td>0.000748383                               </td><td>0.013592907                               </td><td>0.002109551                               </td></tr>\n",
       "\t<tr><th scope=row>17</th><td>X582_Group3E_142dpi_LA_177_G_B5_P120.mzXML</td><td>582                                       </td><td>infected                                  </td><td>142dpi                                    </td><td>LA                                        </td><td>B5                                        </td><td>P120                                      </td><td>0.05637692                                </td><td>0.04122667                                </td><td>0.000886637                               </td><td>0.024421916                               </td><td>0.006401568                               </td></tr>\n",
       "\t<tr><th scope=row>18</th><td>X583_Group3E_142dpi_LA_178_G_B6_P120.mzXML</td><td>583                                       </td><td>infected                                  </td><td>142dpi                                    </td><td>LA                                        </td><td>B6                                        </td><td>P120                                      </td><td>0.06208490                                </td><td>0.05214047                                </td><td>0.001578818                               </td><td>0.013405126                               </td><td>0.002711381                               </td></tr>\n",
       "\t<tr><th scope=row>19</th><td>X584_Group3E_142dpi_LA_179_G_B7_P120.mzXML</td><td>584                                       </td><td>infected                                  </td><td>142dpi                                    </td><td>LA                                        </td><td>B7                                        </td><td>P120                                      </td><td>0.04845728                                </td><td>0.04999808                                </td><td>0.001582853                               </td><td>0.019946098                               </td><td>0.001384420                               </td></tr>\n",
       "\t<tr><th scope=row>20</th><td>X585_Group3E_142dpi_LA_180_G_B8_P120.mzXML</td><td>585                                       </td><td>infected                                  </td><td>142dpi                                    </td><td>LA                                        </td><td>B8                                        </td><td>P120                                      </td><td>0.03304103                                </td><td>0.02966949                                </td><td>0.000760197                               </td><td>0.007445944                               </td><td>0.001272537                               </td></tr>\n",
       "\t<tr><th scope=row>21</th><td>X611_Group9_142dpi_LA_181_G_B9_P120.mzXML </td><td>611                                       </td><td>combo                                     </td><td>142dpi                                    </td><td>LA                                        </td><td>B9                                        </td><td>P120                                      </td><td>0.04090417                                </td><td>0.04086484                                </td><td>0.001833863                               </td><td>0.019681270                               </td><td>0.003253505                               </td></tr>\n",
       "</tbody>\n",
       "</table>\n"
      ],
      "text/latex": [
       "\\begin{tabular}{r|llllllllllll}\n",
       "  & filename & MouseID & Treatmentgroup & DPI & organ & well\\_position & plate & mass\\_400 & mass\\_500 & mass\\_600 & mass\\_700 & mass\\_800\\\\\n",
       "\\hline\n",
       "\t16 & X581\\_Group3E\\_142dpi\\_LA\\_176\\_G\\_B4\\_P120.mzXML & 581                                                      & infected                                                 & 142dpi                                                   & LA                                                       & B4                                                       & P120                                                     & 0.07679123                                               & 0.06459760                                               & 0.000748383                                              & 0.013592907                                              & 0.002109551                                             \\\\\n",
       "\t17 & X582\\_Group3E\\_142dpi\\_LA\\_177\\_G\\_B5\\_P120.mzXML & 582                                                      & infected                                                 & 142dpi                                                   & LA                                                       & B5                                                       & P120                                                     & 0.05637692                                               & 0.04122667                                               & 0.000886637                                              & 0.024421916                                              & 0.006401568                                             \\\\\n",
       "\t18 & X583\\_Group3E\\_142dpi\\_LA\\_178\\_G\\_B6\\_P120.mzXML & 583                                                      & infected                                                 & 142dpi                                                   & LA                                                       & B6                                                       & P120                                                     & 0.06208490                                               & 0.05214047                                               & 0.001578818                                              & 0.013405126                                              & 0.002711381                                             \\\\\n",
       "\t19 & X584\\_Group3E\\_142dpi\\_LA\\_179\\_G\\_B7\\_P120.mzXML & 584                                                      & infected                                                 & 142dpi                                                   & LA                                                       & B7                                                       & P120                                                     & 0.04845728                                               & 0.04999808                                               & 0.001582853                                              & 0.019946098                                              & 0.001384420                                             \\\\\n",
       "\t20 & X585\\_Group3E\\_142dpi\\_LA\\_180\\_G\\_B8\\_P120.mzXML & 585                                                      & infected                                                 & 142dpi                                                   & LA                                                       & B8                                                       & P120                                                     & 0.03304103                                               & 0.02966949                                               & 0.000760197                                              & 0.007445944                                              & 0.001272537                                             \\\\\n",
       "\t21 & X611\\_Group9\\_142dpi\\_LA\\_181\\_G\\_B9\\_P120.mzXML  & 611                                                      & combo                                                    & 142dpi                                                   & LA                                                       & B9                                                       & P120                                                     & 0.04090417                                               & 0.04086484                                               & 0.001833863                                              & 0.019681270                                              & 0.003253505                                             \\\\\n",
       "\\end{tabular}\n"
      ],
      "text/markdown": [
       "\n",
       "| <!--/--> | filename | MouseID | Treatmentgroup | DPI | organ | well_position | plate | mass_400 | mass_500 | mass_600 | mass_700 | mass_800 |\n",
       "|---|---|---|---|---|---|---|---|---|---|---|---|---|\n",
       "| 16 | X581_Group3E_142dpi_LA_176_G_B4_P120.mzXML | 581                                        | infected                                   | 142dpi                                     | LA                                         | B4                                         | P120                                       | 0.07679123                                 | 0.06459760                                 | 0.000748383                                | 0.013592907                                | 0.002109551                                |\n",
       "| 17 | X582_Group3E_142dpi_LA_177_G_B5_P120.mzXML | 582                                        | infected                                   | 142dpi                                     | LA                                         | B5                                         | P120                                       | 0.05637692                                 | 0.04122667                                 | 0.000886637                                | 0.024421916                                | 0.006401568                                |\n",
       "| 18 | X583_Group3E_142dpi_LA_178_G_B6_P120.mzXML | 583                                        | infected                                   | 142dpi                                     | LA                                         | B6                                         | P120                                       | 0.06208490                                 | 0.05214047                                 | 0.001578818                                | 0.013405126                                | 0.002711381                                |\n",
       "| 19 | X584_Group3E_142dpi_LA_179_G_B7_P120.mzXML | 584                                        | infected                                   | 142dpi                                     | LA                                         | B7                                         | P120                                       | 0.04845728                                 | 0.04999808                                 | 0.001582853                                | 0.019946098                                | 0.001384420                                |\n",
       "| 20 | X585_Group3E_142dpi_LA_180_G_B8_P120.mzXML | 585                                        | infected                                   | 142dpi                                     | LA                                         | B8                                         | P120                                       | 0.03304103                                 | 0.02966949                                 | 0.000760197                                | 0.007445944                                | 0.001272537                                |\n",
       "| 21 | X611_Group9_142dpi_LA_181_G_B9_P120.mzXML  | 611                                        | combo                                      | 142dpi                                     | LA                                         | B9                                         | P120                                       | 0.04090417                                 | 0.04086484                                 | 0.001833863                                | 0.019681270                                | 0.003253505                                |\n",
       "\n"
      ],
      "text/plain": [
       "   filename                                   MouseID Treatmentgroup DPI   \n",
       "16 X581_Group3E_142dpi_LA_176_G_B4_P120.mzXML 581     infected       142dpi\n",
       "17 X582_Group3E_142dpi_LA_177_G_B5_P120.mzXML 582     infected       142dpi\n",
       "18 X583_Group3E_142dpi_LA_178_G_B6_P120.mzXML 583     infected       142dpi\n",
       "19 X584_Group3E_142dpi_LA_179_G_B7_P120.mzXML 584     infected       142dpi\n",
       "20 X585_Group3E_142dpi_LA_180_G_B8_P120.mzXML 585     infected       142dpi\n",
       "21 X611_Group9_142dpi_LA_181_G_B9_P120.mzXML  611     combo          142dpi\n",
       "   organ well_position plate mass_400   mass_500   mass_600    mass_700   \n",
       "16 LA    B4            P120  0.07679123 0.06459760 0.000748383 0.013592907\n",
       "17 LA    B5            P120  0.05637692 0.04122667 0.000886637 0.024421916\n",
       "18 LA    B6            P120  0.06208490 0.05214047 0.001578818 0.013405126\n",
       "19 LA    B7            P120  0.04845728 0.04999808 0.001582853 0.019946098\n",
       "20 LA    B8            P120  0.03304103 0.02966949 0.000760197 0.007445944\n",
       "21 LA    B9            P120  0.04090417 0.04086484 0.001833863 0.019681270\n",
       "   mass_800   \n",
       "16 0.002109551\n",
       "17 0.006401568\n",
       "18 0.002711381\n",
       "19 0.001384420\n",
       "20 0.001272537\n",
       "21 0.003253505"
      ]
     },
     "metadata": {},
     "output_type": "display_data"
    },
    {
     "data": {
      "text/html": [
       "<ol class=list-inline>\n",
       "\t<li>30</li>\n",
       "\t<li>12</li>\n",
       "</ol>\n"
      ],
      "text/latex": [
       "\\begin{enumerate*}\n",
       "\\item 30\n",
       "\\item 12\n",
       "\\end{enumerate*}\n"
      ],
      "text/markdown": [
       "1. 30\n",
       "2. 12\n",
       "\n",
       "\n"
      ],
      "text/plain": [
       "[1] 30 12"
      ]
     },
     "metadata": {},
     "output_type": "display_data"
    },
    {
     "data": {
      "text/html": [
       "<ol class=list-inline>\n",
       "\t<li>30</li>\n",
       "\t<li>5</li>\n",
       "</ol>\n"
      ],
      "text/latex": [
       "\\begin{enumerate*}\n",
       "\\item 30\n",
       "\\item 5\n",
       "\\end{enumerate*}\n"
      ],
      "text/markdown": [
       "1. 30\n",
       "2. 5\n",
       "\n",
       "\n"
      ],
      "text/plain": [
       "[1] 30  5"
      ]
     },
     "metadata": {},
     "output_type": "display_data"
    },
    {
     "data": {
      "text/html": [
       "<ol class=list-inline>\n",
       "\t<li>30</li>\n",
       "\t<li>5</li>\n",
       "</ol>\n"
      ],
      "text/latex": [
       "\\begin{enumerate*}\n",
       "\\item 30\n",
       "\\item 5\n",
       "\\end{enumerate*}\n"
      ],
      "text/markdown": [
       "1. 30\n",
       "2. 5\n",
       "\n",
       "\n"
      ],
      "text/plain": [
       "[1] 30  5"
      ]
     },
     "metadata": {},
     "output_type": "display_data"
    },
    {
     "data": {
      "text/html": [
       "<ol class=list-inline>\n",
       "\t<li>30</li>\n",
       "\t<li>12</li>\n",
       "</ol>\n"
      ],
      "text/latex": [
       "\\begin{enumerate*}\n",
       "\\item 30\n",
       "\\item 12\n",
       "\\end{enumerate*}\n"
      ],
      "text/markdown": [
       "1. 30\n",
       "2. 12\n",
       "\n",
       "\n"
      ],
      "text/plain": [
       "[1] 30 12"
      ]
     },
     "metadata": {},
     "output_type": "display_data"
    }
   ],
   "source": [
    "noMeta<-features_pos[,8:12]\n",
    "head(noMeta)\n",
    "not_zero<-which(colSums(noMeta) != 0)\n",
    "head(not_zero)\n",
    "nonzero <- noMeta[, not_zero]\n",
    "nonzero\n",
    "nonzero_wMeta<-cbind(features_pos[,1:7], nonzero)\n",
    "head(nonzero_wMeta)\n",
    "dim(features_pos)\n",
    "dim(noMeta)\n",
    "dim(nonzero)\n",
    "dim(nonzero_wMeta)"
   ]
  },
  {
   "cell_type": "code",
   "execution_count": 5,
   "metadata": {
    "scrolled": true
   },
   "outputs": [
    {
     "data": {
      "text/html": [
       "<ol class=list-inline>\n",
       "\t<li>0.460958749211566</li>\n",
       "\t<li>0.436289427525659</li>\n",
       "\t<li>0.486364763954452</li>\n",
       "\t<li>0.486364763954452</li>\n",
       "\t<li>1</li>\n",
       "</ol>\n"
      ],
      "text/latex": [
       "\\begin{enumerate*}\n",
       "\\item 0.460958749211566\n",
       "\\item 0.436289427525659\n",
       "\\item 0.486364763954452\n",
       "\\item 0.486364763954452\n",
       "\\item 1\n",
       "\\end{enumerate*}\n"
      ],
      "text/markdown": [
       "1. 0.460958749211566\n",
       "2. 0.436289427525659\n",
       "3. 0.486364763954452\n",
       "4. 0.486364763954452\n",
       "5. 1\n",
       "\n",
       "\n"
      ],
      "text/plain": [
       "[1] 0.4609587 0.4362894 0.4863648 0.4863648 1.0000000"
      ]
     },
     "metadata": {},
     "output_type": "display_data"
    },
    {
     "data": {
      "text/html": [
       "<ol class=list-inline>\n",
       "\t<li>0.607955954943065</li>\n",
       "\t<li>0.607955954943065</li>\n",
       "\t<li>0.607955954943065</li>\n",
       "\t<li>0.607955954943065</li>\n",
       "\t<li>1</li>\n",
       "</ol>\n"
      ],
      "text/latex": [
       "\\begin{enumerate*}\n",
       "\\item 0.607955954943065\n",
       "\\item 0.607955954943065\n",
       "\\item 0.607955954943065\n",
       "\\item 0.607955954943065\n",
       "\\item 1\n",
       "\\end{enumerate*}\n"
      ],
      "text/markdown": [
       "1. 0.607955954943065\n",
       "2. 0.607955954943065\n",
       "3. 0.607955954943065\n",
       "4. 0.607955954943065\n",
       "5. 1\n",
       "\n",
       "\n"
      ],
      "text/plain": [
       "[1] 0.607956 0.607956 0.607956 0.607956 1.000000"
      ]
     },
     "metadata": {},
     "output_type": "display_data"
    }
   ],
   "source": [
    "pval<-c()\n",
    "\n",
    "for (i in 8:ncol(nonzero_wMeta)) \n",
    "pval<-c(pval,wilcox.test(nonzero_wMeta[,i]~nonzero_wMeta$Treatmentgroup)$p.value)\n",
    "head(pval)\n",
    "pAdj <- p.adjust(pval, method = c(\"fdr\"), n=length(pval)) \n",
    "head(pAdj) \n",
    "\n"
   ]
  },
  {
   "cell_type": "code",
   "execution_count": 6,
   "metadata": {
    "scrolled": true
   },
   "outputs": [
    {
     "data": {
      "text/html": [
       "5"
      ],
      "text/latex": [
       "5"
      ],
      "text/markdown": [
       "5"
      ],
      "text/plain": [
       "[1] 5"
      ]
     },
     "metadata": {},
     "output_type": "display_data"
    }
   ],
   "source": [
    "length(pval)"
   ]
  },
  {
   "cell_type": "code",
   "execution_count": 7,
   "metadata": {
    "scrolled": true
   },
   "outputs": [
    {
     "data": {
      "text/html": [
       "5"
      ],
      "text/latex": [
       "5"
      ],
      "text/markdown": [
       "5"
      ],
      "text/plain": [
       "[1] 5"
      ]
     },
     "metadata": {},
     "output_type": "display_data"
    }
   ],
   "source": [
    "length(pAdj)"
   ]
  },
  {
   "cell_type": "code",
   "execution_count": 8,
   "metadata": {},
   "outputs": [
    {
     "data": {
      "text/html": [
       "<ol class=list-inline>\n",
       "\t<li>2</li>\n",
       "\t<li>5</li>\n",
       "</ol>\n"
      ],
      "text/latex": [
       "\\begin{enumerate*}\n",
       "\\item 2\n",
       "\\item 5\n",
       "\\end{enumerate*}\n"
      ],
      "text/markdown": [
       "1. 2\n",
       "2. 5\n",
       "\n",
       "\n"
      ],
      "text/plain": [
       "[1] 2 5"
      ]
     },
     "metadata": {},
     "output_type": "display_data"
    },
    {
     "data": {
      "text/html": [
       "<table>\n",
       "<thead><tr><th></th><th scope=col>mass_400</th><th scope=col>mass_500</th><th scope=col>mass_600</th></tr></thead>\n",
       "<tbody>\n",
       "\t<tr><th scope=row>combo</th><td>0.04484392 </td><td>0.04139334 </td><td>0.001052886</td></tr>\n",
       "\t<tr><th scope=row>infected</th><td>0.04838773 </td><td>0.04354037 </td><td>0.001217371</td></tr>\n",
       "</tbody>\n",
       "</table>\n"
      ],
      "text/latex": [
       "\\begin{tabular}{r|lll}\n",
       "  & mass\\_400 & mass\\_500 & mass\\_600\\\\\n",
       "\\hline\n",
       "\tcombo & 0.04484392  & 0.04139334  & 0.001052886\\\\\n",
       "\tinfected & 0.04838773  & 0.04354037  & 0.001217371\\\\\n",
       "\\end{tabular}\n"
      ],
      "text/markdown": [
       "\n",
       "| <!--/--> | mass_400 | mass_500 | mass_600 |\n",
       "|---|---|---|---|\n",
       "| combo | 0.04484392  | 0.04139334  | 0.001052886 |\n",
       "| infected | 0.04838773  | 0.04354037  | 0.001217371 |\n",
       "\n"
      ],
      "text/plain": [
       "         mass_400   mass_500   mass_600   \n",
       "combo    0.04484392 0.04139334 0.001052886\n",
       "infected 0.04838773 0.04354037 0.001217371"
      ]
     },
     "metadata": {},
     "output_type": "display_data"
    },
    {
     "data": {
      "text/html": [
       "<dl class=dl-horizontal>\n",
       "\t<dt>mass_400</dt>\n",
       "\t\t<dd>0.926762322403171</dd>\n",
       "\t<dt>mass_500</dt>\n",
       "\t\t<dd>0.950688793837319</dd>\n",
       "\t<dt>mass_600</dt>\n",
       "\t\t<dd>0.864884987976004</dd>\n",
       "\t<dt>mass_700</dt>\n",
       "\t\t<dd>0.872775366710755</dd>\n",
       "\t<dt>mass_800</dt>\n",
       "\t\t<dd>1.06804892211938</dd>\n",
       "</dl>\n"
      ],
      "text/latex": [
       "\\begin{description*}\n",
       "\\item[mass\\textbackslash{}\\_400] 0.926762322403171\n",
       "\\item[mass\\textbackslash{}\\_500] 0.950688793837319\n",
       "\\item[mass\\textbackslash{}\\_600] 0.864884987976004\n",
       "\\item[mass\\textbackslash{}\\_700] 0.872775366710755\n",
       "\\item[mass\\textbackslash{}\\_800] 1.06804892211938\n",
       "\\end{description*}\n"
      ],
      "text/markdown": [
       "mass_400\n",
       ":   0.926762322403171mass_500\n",
       ":   0.950688793837319mass_600\n",
       ":   0.864884987976004mass_700\n",
       ":   0.872775366710755mass_800\n",
       ":   1.06804892211938\n",
       "\n"
      ],
      "text/plain": [
       " mass_400  mass_500  mass_600  mass_700  mass_800 \n",
       "0.9267623 0.9506888 0.8648850 0.8727754 1.0680489 "
      ]
     },
     "metadata": {},
     "output_type": "display_data"
    },
    {
     "data": {
      "text/html": [
       "<ol class=list-inline>\n",
       "\t<li>'numeric'</li>\n",
       "\t<li>'vector'</li>\n",
       "</ol>\n"
      ],
      "text/latex": [
       "\\begin{enumerate*}\n",
       "\\item 'numeric'\n",
       "\\item 'vector'\n",
       "\\end{enumerate*}\n"
      ],
      "text/markdown": [
       "1. 'numeric'\n",
       "2. 'vector'\n",
       "\n",
       "\n"
      ],
      "text/plain": [
       "[1] \"numeric\" \"vector\" "
      ]
     },
     "metadata": {},
     "output_type": "display_data"
    }
   ],
   "source": [
    "avg<- apply(nonzero_wMeta[,8:ncol(nonzero_wMeta)], 2, function(x) tapply(x, nonzero_wMeta$Treatmentgroup, function(x) mean(x))) \n",
    "\n",
    "dim(avg) \n",
    "\n",
    "avg[,1:3]\n",
    "\n",
    "fch <- apply(avg, 2, function(x) x[1]/x[2])\n",
    "\n",
    "head(fch)\n",
    "is(fch)"
   ]
  },
  {
   "cell_type": "code",
   "execution_count": 9,
   "metadata": {
    "scrolled": true
   },
   "outputs": [
    {
     "data": {
      "text/html": [
       "<dl class=dl-horizontal>\n",
       "\t<dt>mass_400</dt>\n",
       "\t\t<dd>0.926762322403171</dd>\n",
       "\t<dt>mass_500</dt>\n",
       "\t\t<dd>0.950688793837319</dd>\n",
       "\t<dt>mass_600</dt>\n",
       "\t\t<dd>0.864884987976004</dd>\n",
       "\t<dt>mass_700</dt>\n",
       "\t\t<dd>0.872775366710755</dd>\n",
       "\t<dt>mass_800</dt>\n",
       "\t\t<dd>1.06804892211938</dd>\n",
       "</dl>\n"
      ],
      "text/latex": [
       "\\begin{description*}\n",
       "\\item[mass\\textbackslash{}\\_400] 0.926762322403171\n",
       "\\item[mass\\textbackslash{}\\_500] 0.950688793837319\n",
       "\\item[mass\\textbackslash{}\\_600] 0.864884987976004\n",
       "\\item[mass\\textbackslash{}\\_700] 0.872775366710755\n",
       "\\item[mass\\textbackslash{}\\_800] 1.06804892211938\n",
       "\\end{description*}\n"
      ],
      "text/markdown": [
       "mass_400\n",
       ":   0.926762322403171mass_500\n",
       ":   0.950688793837319mass_600\n",
       ":   0.864884987976004mass_700\n",
       ":   0.872775366710755mass_800\n",
       ":   1.06804892211938\n",
       "\n"
      ],
      "text/plain": [
       " mass_400  mass_500  mass_600  mass_700  mass_800 \n",
       "0.9267623 0.9506888 0.8648850 0.8727754 1.0680489 "
      ]
     },
     "metadata": {},
     "output_type": "display_data"
    }
   ],
   "source": [
    "fch"
   ]
  },
  {
   "cell_type": "code",
   "execution_count": 10,
   "metadata": {
    "scrolled": false
   },
   "outputs": [],
   "source": [
    "df <- data.frame(fch,pval, pAdj)\n",
    "write.csv(df, \"PC-treat-LA-wilcox-infected-combo.csv\")"
   ]
  },
  {
   "cell_type": "code",
   "execution_count": null,
   "metadata": {},
   "outputs": [],
   "source": []
  },
  {
   "cell_type": "code",
   "execution_count": null,
   "metadata": {},
   "outputs": [],
   "source": []
  },
  {
   "cell_type": "code",
   "execution_count": null,
   "metadata": {},
   "outputs": [],
   "source": []
  },
  {
   "cell_type": "code",
   "execution_count": null,
   "metadata": {},
   "outputs": [],
   "source": []
  },
  {
   "cell_type": "code",
   "execution_count": null,
   "metadata": {},
   "outputs": [],
   "source": []
  },
  {
   "cell_type": "code",
   "execution_count": null,
   "metadata": {},
   "outputs": [],
   "source": []
  }
 ],
 "metadata": {
  "kernelspec": {
   "display_name": "R",
   "language": "R",
   "name": "ir"
  },
  "language_info": {
   "codemirror_mode": "r",
   "file_extension": ".r",
   "mimetype": "text/x-r-source",
   "name": "R",
   "pygments_lexer": "r",
   "version": "3.6.1"
  }
 },
 "nbformat": 4,
 "nbformat_minor": 2
}
