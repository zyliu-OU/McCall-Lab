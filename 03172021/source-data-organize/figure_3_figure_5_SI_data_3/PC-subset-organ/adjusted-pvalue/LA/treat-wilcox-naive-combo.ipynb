{
 "cells": [
  {
   "cell_type": "code",
   "execution_count": 1,
   "metadata": {},
   "outputs": [],
   "source": [
    "a <- read.csv(\"03172021-PC-treatment-LA-M-F.csv\")"
   ]
  },
  {
   "cell_type": "code",
   "execution_count": 2,
   "metadata": {},
   "outputs": [
    {
     "data": {
      "text/html": [
       "<table>\n",
       "<thead><tr><th scope=col>filename</th><th scope=col>MouseID</th><th scope=col>Treatmentgroup</th><th scope=col>DPI</th><th scope=col>organ</th><th scope=col>well_position</th><th scope=col>plate</th><th scope=col>mass_400</th><th scope=col>mass_500</th><th scope=col>mass_600</th><th scope=col>mass_700</th><th scope=col>mass_800</th></tr></thead>\n",
       "<tbody>\n",
       "\t<tr><td>X511_Group1C_142dpi_LA_161_G_A1_P120.mzXML</td><td>511                                       </td><td>naive                                     </td><td>142dpi                                    </td><td>LA                                        </td><td>A1                                        </td><td>P120                                      </td><td>0.05708834                                </td><td>0.05868799                                </td><td>0.001422083                               </td><td>0.024448705                               </td><td>0.002961521                               </td></tr>\n",
       "\t<tr><td>X512_Group1C_142dpi_LA_162_G_A2_P120.mzXML</td><td>512                                       </td><td>naive                                     </td><td>142dpi                                    </td><td>LA                                        </td><td>A2                                        </td><td>P120                                      </td><td>0.04364981                                </td><td>0.03529239                                </td><td>0.001064818                               </td><td>0.015103071                               </td><td>0.001586869                               </td></tr>\n",
       "\t<tr><td>X513_Group1C_142dpi_LA_163_G_A3_P120.mzXML</td><td>513                                       </td><td>naive                                     </td><td>142dpi                                    </td><td>LA                                        </td><td>A3                                        </td><td>P120                                      </td><td>0.02723663                                </td><td>0.02308907                                </td><td>0.000641467                               </td><td>0.004038756                               </td><td>0.001170106                               </td></tr>\n",
       "\t<tr><td>X514_Group1C_142dpi_LA_164_G_A4_P120.mzXML</td><td>514                                       </td><td>naive                                     </td><td>142dpi                                    </td><td>LA                                        </td><td>A4                                        </td><td>P120                                      </td><td>0.04795208                                </td><td>0.05203415                                </td><td>0.002287018                               </td><td>0.027557699                               </td><td>0.002876021                               </td></tr>\n",
       "\t<tr><td>X515_Group1C_142dpi_LA_165_G_A5_P120.mzXML</td><td>515                                       </td><td>naive                                     </td><td>142dpi                                    </td><td>LA                                        </td><td>A5                                        </td><td>P120                                      </td><td>0.06062535                                </td><td>0.05520182                                </td><td>0.001113023                               </td><td>0.016928592                               </td><td>0.002033275                               </td></tr>\n",
       "\t<tr><td>X531_Group1C_142dpi_LA_166_G_A6_P120.mzXML</td><td>531                                       </td><td>naive                                     </td><td>142dpi                                    </td><td>LA                                        </td><td>A6                                        </td><td>P120                                      </td><td>0.05173330                                </td><td>0.04288872                                </td><td>0.001191404                               </td><td>0.006303823                               </td><td>0.001142296                               </td></tr>\n",
       "</tbody>\n",
       "</table>\n"
      ],
      "text/latex": [
       "\\begin{tabular}{r|llllllllllll}\n",
       " filename & MouseID & Treatmentgroup & DPI & organ & well\\_position & plate & mass\\_400 & mass\\_500 & mass\\_600 & mass\\_700 & mass\\_800\\\\\n",
       "\\hline\n",
       "\t X511\\_Group1C\\_142dpi\\_LA\\_161\\_G\\_A1\\_P120.mzXML & 511                                                      & naive                                                    & 142dpi                                                   & LA                                                       & A1                                                       & P120                                                     & 0.05708834                                               & 0.05868799                                               & 0.001422083                                              & 0.024448705                                              & 0.002961521                                             \\\\\n",
       "\t X512\\_Group1C\\_142dpi\\_LA\\_162\\_G\\_A2\\_P120.mzXML & 512                                                      & naive                                                    & 142dpi                                                   & LA                                                       & A2                                                       & P120                                                     & 0.04364981                                               & 0.03529239                                               & 0.001064818                                              & 0.015103071                                              & 0.001586869                                             \\\\\n",
       "\t X513\\_Group1C\\_142dpi\\_LA\\_163\\_G\\_A3\\_P120.mzXML & 513                                                      & naive                                                    & 142dpi                                                   & LA                                                       & A3                                                       & P120                                                     & 0.02723663                                               & 0.02308907                                               & 0.000641467                                              & 0.004038756                                              & 0.001170106                                             \\\\\n",
       "\t X514\\_Group1C\\_142dpi\\_LA\\_164\\_G\\_A4\\_P120.mzXML & 514                                                      & naive                                                    & 142dpi                                                   & LA                                                       & A4                                                       & P120                                                     & 0.04795208                                               & 0.05203415                                               & 0.002287018                                              & 0.027557699                                              & 0.002876021                                             \\\\\n",
       "\t X515\\_Group1C\\_142dpi\\_LA\\_165\\_G\\_A5\\_P120.mzXML & 515                                                      & naive                                                    & 142dpi                                                   & LA                                                       & A5                                                       & P120                                                     & 0.06062535                                               & 0.05520182                                               & 0.001113023                                              & 0.016928592                                              & 0.002033275                                             \\\\\n",
       "\t X531\\_Group1C\\_142dpi\\_LA\\_166\\_G\\_A6\\_P120.mzXML & 531                                                      & naive                                                    & 142dpi                                                   & LA                                                       & A6                                                       & P120                                                     & 0.05173330                                               & 0.04288872                                               & 0.001191404                                              & 0.006303823                                              & 0.001142296                                             \\\\\n",
       "\\end{tabular}\n"
      ],
      "text/markdown": [
       "\n",
       "| filename | MouseID | Treatmentgroup | DPI | organ | well_position | plate | mass_400 | mass_500 | mass_600 | mass_700 | mass_800 |\n",
       "|---|---|---|---|---|---|---|---|---|---|---|---|\n",
       "| X511_Group1C_142dpi_LA_161_G_A1_P120.mzXML | 511                                        | naive                                      | 142dpi                                     | LA                                         | A1                                         | P120                                       | 0.05708834                                 | 0.05868799                                 | 0.001422083                                | 0.024448705                                | 0.002961521                                |\n",
       "| X512_Group1C_142dpi_LA_162_G_A2_P120.mzXML | 512                                        | naive                                      | 142dpi                                     | LA                                         | A2                                         | P120                                       | 0.04364981                                 | 0.03529239                                 | 0.001064818                                | 0.015103071                                | 0.001586869                                |\n",
       "| X513_Group1C_142dpi_LA_163_G_A3_P120.mzXML | 513                                        | naive                                      | 142dpi                                     | LA                                         | A3                                         | P120                                       | 0.02723663                                 | 0.02308907                                 | 0.000641467                                | 0.004038756                                | 0.001170106                                |\n",
       "| X514_Group1C_142dpi_LA_164_G_A4_P120.mzXML | 514                                        | naive                                      | 142dpi                                     | LA                                         | A4                                         | P120                                       | 0.04795208                                 | 0.05203415                                 | 0.002287018                                | 0.027557699                                | 0.002876021                                |\n",
       "| X515_Group1C_142dpi_LA_165_G_A5_P120.mzXML | 515                                        | naive                                      | 142dpi                                     | LA                                         | A5                                         | P120                                       | 0.06062535                                 | 0.05520182                                 | 0.001113023                                | 0.016928592                                | 0.002033275                                |\n",
       "| X531_Group1C_142dpi_LA_166_G_A6_P120.mzXML | 531                                        | naive                                      | 142dpi                                     | LA                                         | A6                                         | P120                                       | 0.05173330                                 | 0.04288872                                 | 0.001191404                                | 0.006303823                                | 0.001142296                                |\n",
       "\n"
      ],
      "text/plain": [
       "  filename                                   MouseID Treatmentgroup DPI   \n",
       "1 X511_Group1C_142dpi_LA_161_G_A1_P120.mzXML 511     naive          142dpi\n",
       "2 X512_Group1C_142dpi_LA_162_G_A2_P120.mzXML 512     naive          142dpi\n",
       "3 X513_Group1C_142dpi_LA_163_G_A3_P120.mzXML 513     naive          142dpi\n",
       "4 X514_Group1C_142dpi_LA_164_G_A4_P120.mzXML 514     naive          142dpi\n",
       "5 X515_Group1C_142dpi_LA_165_G_A5_P120.mzXML 515     naive          142dpi\n",
       "6 X531_Group1C_142dpi_LA_166_G_A6_P120.mzXML 531     naive          142dpi\n",
       "  organ well_position plate mass_400   mass_500   mass_600    mass_700   \n",
       "1 LA    A1            P120  0.05708834 0.05868799 0.001422083 0.024448705\n",
       "2 LA    A2            P120  0.04364981 0.03529239 0.001064818 0.015103071\n",
       "3 LA    A3            P120  0.02723663 0.02308907 0.000641467 0.004038756\n",
       "4 LA    A4            P120  0.04795208 0.05203415 0.002287018 0.027557699\n",
       "5 LA    A5            P120  0.06062535 0.05520182 0.001113023 0.016928592\n",
       "6 LA    A6            P120  0.05173330 0.04288872 0.001191404 0.006303823\n",
       "  mass_800   \n",
       "1 0.002961521\n",
       "2 0.001586869\n",
       "3 0.001170106\n",
       "4 0.002876021\n",
       "5 0.002033275\n",
       "6 0.001142296"
      ]
     },
     "metadata": {},
     "output_type": "display_data"
    },
    {
     "data": {
      "text/html": [
       "<ol class=list-inline>\n",
       "\t<li>60</li>\n",
       "\t<li>12</li>\n",
       "</ol>\n"
      ],
      "text/latex": [
       "\\begin{enumerate*}\n",
       "\\item 60\n",
       "\\item 12\n",
       "\\end{enumerate*}\n"
      ],
      "text/markdown": [
       "1. 60\n",
       "2. 12\n",
       "\n",
       "\n"
      ],
      "text/plain": [
       "[1] 60 12"
      ]
     },
     "metadata": {},
     "output_type": "display_data"
    }
   ],
   "source": [
    "head(a)\n",
    "dim(a)"
   ]
  },
  {
   "cell_type": "code",
   "execution_count": 3,
   "metadata": {},
   "outputs": [
    {
     "data": {
      "text/html": [
       "<table>\n",
       "<thead><tr><th scope=col>filename</th><th scope=col>MouseID</th><th scope=col>Treatmentgroup</th><th scope=col>DPI</th><th scope=col>organ</th><th scope=col>well_position</th><th scope=col>plate</th><th scope=col>mass_400</th><th scope=col>mass_500</th><th scope=col>mass_600</th><th scope=col>mass_700</th><th scope=col>mass_800</th></tr></thead>\n",
       "<tbody>\n",
       "\t<tr><td>X511_Group1C_142dpi_LA_161_G_A1_P120.mzXML</td><td>511                                       </td><td>naive                                     </td><td>142dpi                                    </td><td>LA                                        </td><td>A1                                        </td><td>P120                                      </td><td>0.05708834                                </td><td>0.05868799                                </td><td>0.001422083                               </td><td>0.024448705                               </td><td>0.002961521                               </td></tr>\n",
       "\t<tr><td>X512_Group1C_142dpi_LA_162_G_A2_P120.mzXML</td><td>512                                       </td><td>naive                                     </td><td>142dpi                                    </td><td>LA                                        </td><td>A2                                        </td><td>P120                                      </td><td>0.04364981                                </td><td>0.03529239                                </td><td>0.001064818                               </td><td>0.015103071                               </td><td>0.001586869                               </td></tr>\n",
       "\t<tr><td>X513_Group1C_142dpi_LA_163_G_A3_P120.mzXML</td><td>513                                       </td><td>naive                                     </td><td>142dpi                                    </td><td>LA                                        </td><td>A3                                        </td><td>P120                                      </td><td>0.02723663                                </td><td>0.02308907                                </td><td>0.000641467                               </td><td>0.004038756                               </td><td>0.001170106                               </td></tr>\n",
       "\t<tr><td>X514_Group1C_142dpi_LA_164_G_A4_P120.mzXML</td><td>514                                       </td><td>naive                                     </td><td>142dpi                                    </td><td>LA                                        </td><td>A4                                        </td><td>P120                                      </td><td>0.04795208                                </td><td>0.05203415                                </td><td>0.002287018                               </td><td>0.027557699                               </td><td>0.002876021                               </td></tr>\n",
       "\t<tr><td>X515_Group1C_142dpi_LA_165_G_A5_P120.mzXML</td><td>515                                       </td><td>naive                                     </td><td>142dpi                                    </td><td>LA                                        </td><td>A5                                        </td><td>P120                                      </td><td>0.06062535                                </td><td>0.05520182                                </td><td>0.001113023                               </td><td>0.016928592                               </td><td>0.002033275                               </td></tr>\n",
       "\t<tr><td>X531_Group1C_142dpi_LA_166_G_A6_P120.mzXML</td><td>531                                       </td><td>naive                                     </td><td>142dpi                                    </td><td>LA                                        </td><td>A6                                        </td><td>P120                                      </td><td>0.05173330                                </td><td>0.04288872                                </td><td>0.001191404                               </td><td>0.006303823                               </td><td>0.001142296                               </td></tr>\n",
       "</tbody>\n",
       "</table>\n"
      ],
      "text/latex": [
       "\\begin{tabular}{r|llllllllllll}\n",
       " filename & MouseID & Treatmentgroup & DPI & organ & well\\_position & plate & mass\\_400 & mass\\_500 & mass\\_600 & mass\\_700 & mass\\_800\\\\\n",
       "\\hline\n",
       "\t X511\\_Group1C\\_142dpi\\_LA\\_161\\_G\\_A1\\_P120.mzXML & 511                                                      & naive                                                    & 142dpi                                                   & LA                                                       & A1                                                       & P120                                                     & 0.05708834                                               & 0.05868799                                               & 0.001422083                                              & 0.024448705                                              & 0.002961521                                             \\\\\n",
       "\t X512\\_Group1C\\_142dpi\\_LA\\_162\\_G\\_A2\\_P120.mzXML & 512                                                      & naive                                                    & 142dpi                                                   & LA                                                       & A2                                                       & P120                                                     & 0.04364981                                               & 0.03529239                                               & 0.001064818                                              & 0.015103071                                              & 0.001586869                                             \\\\\n",
       "\t X513\\_Group1C\\_142dpi\\_LA\\_163\\_G\\_A3\\_P120.mzXML & 513                                                      & naive                                                    & 142dpi                                                   & LA                                                       & A3                                                       & P120                                                     & 0.02723663                                               & 0.02308907                                               & 0.000641467                                              & 0.004038756                                              & 0.001170106                                             \\\\\n",
       "\t X514\\_Group1C\\_142dpi\\_LA\\_164\\_G\\_A4\\_P120.mzXML & 514                                                      & naive                                                    & 142dpi                                                   & LA                                                       & A4                                                       & P120                                                     & 0.04795208                                               & 0.05203415                                               & 0.002287018                                              & 0.027557699                                              & 0.002876021                                             \\\\\n",
       "\t X515\\_Group1C\\_142dpi\\_LA\\_165\\_G\\_A5\\_P120.mzXML & 515                                                      & naive                                                    & 142dpi                                                   & LA                                                       & A5                                                       & P120                                                     & 0.06062535                                               & 0.05520182                                               & 0.001113023                                              & 0.016928592                                              & 0.002033275                                             \\\\\n",
       "\t X531\\_Group1C\\_142dpi\\_LA\\_166\\_G\\_A6\\_P120.mzXML & 531                                                      & naive                                                    & 142dpi                                                   & LA                                                       & A6                                                       & P120                                                     & 0.05173330                                               & 0.04288872                                               & 0.001191404                                              & 0.006303823                                              & 0.001142296                                             \\\\\n",
       "\\end{tabular}\n"
      ],
      "text/markdown": [
       "\n",
       "| filename | MouseID | Treatmentgroup | DPI | organ | well_position | plate | mass_400 | mass_500 | mass_600 | mass_700 | mass_800 |\n",
       "|---|---|---|---|---|---|---|---|---|---|---|---|\n",
       "| X511_Group1C_142dpi_LA_161_G_A1_P120.mzXML | 511                                        | naive                                      | 142dpi                                     | LA                                         | A1                                         | P120                                       | 0.05708834                                 | 0.05868799                                 | 0.001422083                                | 0.024448705                                | 0.002961521                                |\n",
       "| X512_Group1C_142dpi_LA_162_G_A2_P120.mzXML | 512                                        | naive                                      | 142dpi                                     | LA                                         | A2                                         | P120                                       | 0.04364981                                 | 0.03529239                                 | 0.001064818                                | 0.015103071                                | 0.001586869                                |\n",
       "| X513_Group1C_142dpi_LA_163_G_A3_P120.mzXML | 513                                        | naive                                      | 142dpi                                     | LA                                         | A3                                         | P120                                       | 0.02723663                                 | 0.02308907                                 | 0.000641467                                | 0.004038756                                | 0.001170106                                |\n",
       "| X514_Group1C_142dpi_LA_164_G_A4_P120.mzXML | 514                                        | naive                                      | 142dpi                                     | LA                                         | A4                                         | P120                                       | 0.04795208                                 | 0.05203415                                 | 0.002287018                                | 0.027557699                                | 0.002876021                                |\n",
       "| X515_Group1C_142dpi_LA_165_G_A5_P120.mzXML | 515                                        | naive                                      | 142dpi                                     | LA                                         | A5                                         | P120                                       | 0.06062535                                 | 0.05520182                                 | 0.001113023                                | 0.016928592                                | 0.002033275                                |\n",
       "| X531_Group1C_142dpi_LA_166_G_A6_P120.mzXML | 531                                        | naive                                      | 142dpi                                     | LA                                         | A6                                         | P120                                       | 0.05173330                                 | 0.04288872                                 | 0.001191404                                | 0.006303823                                | 0.001142296                                |\n",
       "\n"
      ],
      "text/plain": [
       "  filename                                   MouseID Treatmentgroup DPI   \n",
       "1 X511_Group1C_142dpi_LA_161_G_A1_P120.mzXML 511     naive          142dpi\n",
       "2 X512_Group1C_142dpi_LA_162_G_A2_P120.mzXML 512     naive          142dpi\n",
       "3 X513_Group1C_142dpi_LA_163_G_A3_P120.mzXML 513     naive          142dpi\n",
       "4 X514_Group1C_142dpi_LA_164_G_A4_P120.mzXML 514     naive          142dpi\n",
       "5 X515_Group1C_142dpi_LA_165_G_A5_P120.mzXML 515     naive          142dpi\n",
       "6 X531_Group1C_142dpi_LA_166_G_A6_P120.mzXML 531     naive          142dpi\n",
       "  organ well_position plate mass_400   mass_500   mass_600    mass_700   \n",
       "1 LA    A1            P120  0.05708834 0.05868799 0.001422083 0.024448705\n",
       "2 LA    A2            P120  0.04364981 0.03529239 0.001064818 0.015103071\n",
       "3 LA    A3            P120  0.02723663 0.02308907 0.000641467 0.004038756\n",
       "4 LA    A4            P120  0.04795208 0.05203415 0.002287018 0.027557699\n",
       "5 LA    A5            P120  0.06062535 0.05520182 0.001113023 0.016928592\n",
       "6 LA    A6            P120  0.05173330 0.04288872 0.001191404 0.006303823\n",
       "  mass_800   \n",
       "1 0.002961521\n",
       "2 0.001586869\n",
       "3 0.001170106\n",
       "4 0.002876021\n",
       "5 0.002033275\n",
       "6 0.001142296"
      ]
     },
     "metadata": {},
     "output_type": "display_data"
    },
    {
     "data": {
      "text/html": [
       "<ol class=list-inline>\n",
       "\t<li>30</li>\n",
       "\t<li>12</li>\n",
       "</ol>\n"
      ],
      "text/latex": [
       "\\begin{enumerate*}\n",
       "\\item 30\n",
       "\\item 12\n",
       "\\end{enumerate*}\n"
      ],
      "text/markdown": [
       "1. 30\n",
       "2. 12\n",
       "\n",
       "\n"
      ],
      "text/plain": [
       "[1] 30 12"
      ]
     },
     "metadata": {},
     "output_type": "display_data"
    }
   ],
   "source": [
    "features_pos<-droplevels(subset(a, a$Treatmentgroup==c(\"naive\")|a$Treatmentgroup==c(\"combo\")))\n",
    "head(features_pos)\n",
    "dim(features_pos)"
   ]
  },
  {
   "cell_type": "code",
   "execution_count": 4,
   "metadata": {
    "scrolled": false
   },
   "outputs": [
    {
     "data": {
      "text/html": [
       "<table>\n",
       "<thead><tr><th scope=col>mass_400</th><th scope=col>mass_500</th><th scope=col>mass_600</th><th scope=col>mass_700</th><th scope=col>mass_800</th></tr></thead>\n",
       "<tbody>\n",
       "\t<tr><td>0.05708834 </td><td>0.05868799 </td><td>0.001422083</td><td>0.024448705</td><td>0.002961521</td></tr>\n",
       "\t<tr><td>0.04364981 </td><td>0.03529239 </td><td>0.001064818</td><td>0.015103071</td><td>0.001586869</td></tr>\n",
       "\t<tr><td>0.02723663 </td><td>0.02308907 </td><td>0.000641467</td><td>0.004038756</td><td>0.001170106</td></tr>\n",
       "\t<tr><td>0.04795208 </td><td>0.05203415 </td><td>0.002287018</td><td>0.027557699</td><td>0.002876021</td></tr>\n",
       "\t<tr><td>0.06062535 </td><td>0.05520182 </td><td>0.001113023</td><td>0.016928592</td><td>0.002033275</td></tr>\n",
       "\t<tr><td>0.05173330 </td><td>0.04288872 </td><td>0.001191404</td><td>0.006303823</td><td>0.001142296</td></tr>\n",
       "</tbody>\n",
       "</table>\n"
      ],
      "text/latex": [
       "\\begin{tabular}{r|lllll}\n",
       " mass\\_400 & mass\\_500 & mass\\_600 & mass\\_700 & mass\\_800\\\\\n",
       "\\hline\n",
       "\t 0.05708834  & 0.05868799  & 0.001422083 & 0.024448705 & 0.002961521\\\\\n",
       "\t 0.04364981  & 0.03529239  & 0.001064818 & 0.015103071 & 0.001586869\\\\\n",
       "\t 0.02723663  & 0.02308907  & 0.000641467 & 0.004038756 & 0.001170106\\\\\n",
       "\t 0.04795208  & 0.05203415  & 0.002287018 & 0.027557699 & 0.002876021\\\\\n",
       "\t 0.06062535  & 0.05520182  & 0.001113023 & 0.016928592 & 0.002033275\\\\\n",
       "\t 0.05173330  & 0.04288872  & 0.001191404 & 0.006303823 & 0.001142296\\\\\n",
       "\\end{tabular}\n"
      ],
      "text/markdown": [
       "\n",
       "| mass_400 | mass_500 | mass_600 | mass_700 | mass_800 |\n",
       "|---|---|---|---|---|\n",
       "| 0.05708834  | 0.05868799  | 0.001422083 | 0.024448705 | 0.002961521 |\n",
       "| 0.04364981  | 0.03529239  | 0.001064818 | 0.015103071 | 0.001586869 |\n",
       "| 0.02723663  | 0.02308907  | 0.000641467 | 0.004038756 | 0.001170106 |\n",
       "| 0.04795208  | 0.05203415  | 0.002287018 | 0.027557699 | 0.002876021 |\n",
       "| 0.06062535  | 0.05520182  | 0.001113023 | 0.016928592 | 0.002033275 |\n",
       "| 0.05173330  | 0.04288872  | 0.001191404 | 0.006303823 | 0.001142296 |\n",
       "\n"
      ],
      "text/plain": [
       "  mass_400   mass_500   mass_600    mass_700    mass_800   \n",
       "1 0.05708834 0.05868799 0.001422083 0.024448705 0.002961521\n",
       "2 0.04364981 0.03529239 0.001064818 0.015103071 0.001586869\n",
       "3 0.02723663 0.02308907 0.000641467 0.004038756 0.001170106\n",
       "4 0.04795208 0.05203415 0.002287018 0.027557699 0.002876021\n",
       "5 0.06062535 0.05520182 0.001113023 0.016928592 0.002033275\n",
       "6 0.05173330 0.04288872 0.001191404 0.006303823 0.001142296"
      ]
     },
     "metadata": {},
     "output_type": "display_data"
    },
    {
     "data": {
      "text/html": [
       "<dl class=dl-horizontal>\n",
       "\t<dt>mass_400</dt>\n",
       "\t\t<dd>1</dd>\n",
       "\t<dt>mass_500</dt>\n",
       "\t\t<dd>2</dd>\n",
       "\t<dt>mass_600</dt>\n",
       "\t\t<dd>3</dd>\n",
       "\t<dt>mass_700</dt>\n",
       "\t\t<dd>4</dd>\n",
       "\t<dt>mass_800</dt>\n",
       "\t\t<dd>5</dd>\n",
       "</dl>\n"
      ],
      "text/latex": [
       "\\begin{description*}\n",
       "\\item[mass\\textbackslash{}\\_400] 1\n",
       "\\item[mass\\textbackslash{}\\_500] 2\n",
       "\\item[mass\\textbackslash{}\\_600] 3\n",
       "\\item[mass\\textbackslash{}\\_700] 4\n",
       "\\item[mass\\textbackslash{}\\_800] 5\n",
       "\\end{description*}\n"
      ],
      "text/markdown": [
       "mass_400\n",
       ":   1mass_500\n",
       ":   2mass_600\n",
       ":   3mass_700\n",
       ":   4mass_800\n",
       ":   5\n",
       "\n"
      ],
      "text/plain": [
       "mass_400 mass_500 mass_600 mass_700 mass_800 \n",
       "       1        2        3        4        5 "
      ]
     },
     "metadata": {},
     "output_type": "display_data"
    },
    {
     "data": {
      "text/html": [
       "<table>\n",
       "<thead><tr><th></th><th scope=col>mass_400</th><th scope=col>mass_500</th><th scope=col>mass_600</th><th scope=col>mass_700</th><th scope=col>mass_800</th></tr></thead>\n",
       "<tbody>\n",
       "\t<tr><th scope=row>1</th><td>0.05708834 </td><td>0.05868799 </td><td>0.001422083</td><td>0.024448705</td><td>0.002961521</td></tr>\n",
       "\t<tr><th scope=row>2</th><td>0.04364981 </td><td>0.03529239 </td><td>0.001064818</td><td>0.015103071</td><td>0.001586869</td></tr>\n",
       "\t<tr><th scope=row>3</th><td>0.02723663 </td><td>0.02308907 </td><td>0.000641467</td><td>0.004038756</td><td>0.001170106</td></tr>\n",
       "\t<tr><th scope=row>4</th><td>0.04795208 </td><td>0.05203415 </td><td>0.002287018</td><td>0.027557699</td><td>0.002876021</td></tr>\n",
       "\t<tr><th scope=row>5</th><td>0.06062535 </td><td>0.05520182 </td><td>0.001113023</td><td>0.016928592</td><td>0.002033275</td></tr>\n",
       "\t<tr><th scope=row>6</th><td>0.05173330 </td><td>0.04288872 </td><td>0.001191404</td><td>0.006303823</td><td>0.001142296</td></tr>\n",
       "\t<tr><th scope=row>7</th><td>0.04392575 </td><td>0.04305203 </td><td>0.001768802</td><td>0.012500000</td><td>0.000113900</td></tr>\n",
       "\t<tr><th scope=row>8</th><td>0.02461537 </td><td>0.02000570 </td><td>0.000327913</td><td>0.008255499</td><td>0.000229724</td></tr>\n",
       "\t<tr><th scope=row>9</th><td>0.03696300 </td><td>0.04260624 </td><td>0.001968751</td><td>0.017850814</td><td>0.002617012</td></tr>\n",
       "\t<tr><th scope=row>10</th><td>0.02508449 </td><td>0.02742818 </td><td>0.001361898</td><td>0.010482335</td><td>0.002751920</td></tr>\n",
       "\t<tr><th scope=row>11</th><td>0.04615908 </td><td>0.05130382 </td><td>0.002176780</td><td>0.022613185</td><td>0.004121204</td></tr>\n",
       "\t<tr><th scope=row>12</th><td>0.04492082 </td><td>0.05093403 </td><td>0.001883462</td><td>0.020508285</td><td>0.005726650</td></tr>\n",
       "\t<tr><th scope=row>13</th><td>0.05786115 </td><td>0.06841478 </td><td>0.002191191</td><td>0.023497470</td><td>0.005592272</td></tr>\n",
       "\t<tr><th scope=row>14</th><td>0.01426524 </td><td>0.01854810 </td><td>0.001897406</td><td>0.029586849</td><td>0.007613493</td></tr>\n",
       "\t<tr><th scope=row>15</th><td>0.07306050 </td><td>0.06502908 </td><td>0.001441913</td><td>0.025098160</td><td>0.005432323</td></tr>\n",
       "\t<tr><th scope=row>21</th><td>0.04090417 </td><td>0.04086484 </td><td>0.001833863</td><td>0.019681270</td><td>0.003253505</td></tr>\n",
       "\t<tr><th scope=row>22</th><td>0.03745880 </td><td>0.03019293 </td><td>0.000729655</td><td>0.016872715</td><td>0.001582912</td></tr>\n",
       "\t<tr><th scope=row>23</th><td>0.02436727 </td><td>0.02221326 </td><td>0.000767059</td><td>0.003761233</td><td>0.004761300</td></tr>\n",
       "\t<tr><th scope=row>24</th><td>0.02733701 </td><td>0.04067116 </td><td>0.001824565</td><td>0.043059272</td><td>0.006457442</td></tr>\n",
       "\t<tr><th scope=row>25</th><td>0.05254428 </td><td>0.05292777 </td><td>0.001925590</td><td>0.015958452</td><td>0.004199913</td></tr>\n",
       "\t<tr><th scope=row>36</th><td>0.02443739 </td><td>0.01810000 </td><td>0.000166151</td><td>0.002717924</td><td>0.000130660</td></tr>\n",
       "\t<tr><th scope=row>37</th><td>0.02263661 </td><td>0.01610000 </td><td>0.000209937</td><td>0.001727406</td><td>0.000309613</td></tr>\n",
       "\t<tr><th scope=row>38</th><td>0.05140107 </td><td>0.04300000 </td><td>0.000740028</td><td>0.018649185</td><td>0.006254547</td></tr>\n",
       "\t<tr><th scope=row>39</th><td>0.08515225 </td><td>0.08102323 </td><td>0.001512400</td><td>0.018566723</td><td>0.009977031</td></tr>\n",
       "\t<tr><th scope=row>40</th><td>0.06436527 </td><td>0.07786635 </td><td>0.001953008</td><td>0.024209967</td><td>0.016252860</td></tr>\n",
       "\t<tr><th scope=row>51</th><td>0.05398083 </td><td>0.05092429 </td><td>0.001097870</td><td>0.011316390</td><td>0.002592066</td></tr>\n",
       "\t<tr><th scope=row>52</th><td>0.03758543 </td><td>0.02910000 </td><td>0.000534901</td><td>0.004049060</td><td>0.001455022</td></tr>\n",
       "\t<tr><th scope=row>53</th><td>0.05801446 </td><td>0.04132669 </td><td>0.000443594</td><td>0.005711734</td><td>0.000242791</td></tr>\n",
       "\t<tr><th scope=row>54</th><td>0.04413136 </td><td>0.03250000 </td><td>0.000422189</td><td>0.007498225</td><td>0.001662079</td></tr>\n",
       "\t<tr><th scope=row>55</th><td>0.04834261 </td><td>0.04408965 </td><td>0.001632482</td><td>0.032334332</td><td>0.004030879</td></tr>\n",
       "</tbody>\n",
       "</table>\n"
      ],
      "text/latex": [
       "\\begin{tabular}{r|lllll}\n",
       "  & mass\\_400 & mass\\_500 & mass\\_600 & mass\\_700 & mass\\_800\\\\\n",
       "\\hline\n",
       "\t1 & 0.05708834  & 0.05868799  & 0.001422083 & 0.024448705 & 0.002961521\\\\\n",
       "\t2 & 0.04364981  & 0.03529239  & 0.001064818 & 0.015103071 & 0.001586869\\\\\n",
       "\t3 & 0.02723663  & 0.02308907  & 0.000641467 & 0.004038756 & 0.001170106\\\\\n",
       "\t4 & 0.04795208  & 0.05203415  & 0.002287018 & 0.027557699 & 0.002876021\\\\\n",
       "\t5 & 0.06062535  & 0.05520182  & 0.001113023 & 0.016928592 & 0.002033275\\\\\n",
       "\t6 & 0.05173330  & 0.04288872  & 0.001191404 & 0.006303823 & 0.001142296\\\\\n",
       "\t7 & 0.04392575  & 0.04305203  & 0.001768802 & 0.012500000 & 0.000113900\\\\\n",
       "\t8 & 0.02461537  & 0.02000570  & 0.000327913 & 0.008255499 & 0.000229724\\\\\n",
       "\t9 & 0.03696300  & 0.04260624  & 0.001968751 & 0.017850814 & 0.002617012\\\\\n",
       "\t10 & 0.02508449  & 0.02742818  & 0.001361898 & 0.010482335 & 0.002751920\\\\\n",
       "\t11 & 0.04615908  & 0.05130382  & 0.002176780 & 0.022613185 & 0.004121204\\\\\n",
       "\t12 & 0.04492082  & 0.05093403  & 0.001883462 & 0.020508285 & 0.005726650\\\\\n",
       "\t13 & 0.05786115  & 0.06841478  & 0.002191191 & 0.023497470 & 0.005592272\\\\\n",
       "\t14 & 0.01426524  & 0.01854810  & 0.001897406 & 0.029586849 & 0.007613493\\\\\n",
       "\t15 & 0.07306050  & 0.06502908  & 0.001441913 & 0.025098160 & 0.005432323\\\\\n",
       "\t21 & 0.04090417  & 0.04086484  & 0.001833863 & 0.019681270 & 0.003253505\\\\\n",
       "\t22 & 0.03745880  & 0.03019293  & 0.000729655 & 0.016872715 & 0.001582912\\\\\n",
       "\t23 & 0.02436727  & 0.02221326  & 0.000767059 & 0.003761233 & 0.004761300\\\\\n",
       "\t24 & 0.02733701  & 0.04067116  & 0.001824565 & 0.043059272 & 0.006457442\\\\\n",
       "\t25 & 0.05254428  & 0.05292777  & 0.001925590 & 0.015958452 & 0.004199913\\\\\n",
       "\t36 & 0.02443739  & 0.01810000  & 0.000166151 & 0.002717924 & 0.000130660\\\\\n",
       "\t37 & 0.02263661  & 0.01610000  & 0.000209937 & 0.001727406 & 0.000309613\\\\\n",
       "\t38 & 0.05140107  & 0.04300000  & 0.000740028 & 0.018649185 & 0.006254547\\\\\n",
       "\t39 & 0.08515225  & 0.08102323  & 0.001512400 & 0.018566723 & 0.009977031\\\\\n",
       "\t40 & 0.06436527  & 0.07786635  & 0.001953008 & 0.024209967 & 0.016252860\\\\\n",
       "\t51 & 0.05398083  & 0.05092429  & 0.001097870 & 0.011316390 & 0.002592066\\\\\n",
       "\t52 & 0.03758543  & 0.02910000  & 0.000534901 & 0.004049060 & 0.001455022\\\\\n",
       "\t53 & 0.05801446  & 0.04132669  & 0.000443594 & 0.005711734 & 0.000242791\\\\\n",
       "\t54 & 0.04413136  & 0.03250000  & 0.000422189 & 0.007498225 & 0.001662079\\\\\n",
       "\t55 & 0.04834261  & 0.04408965  & 0.001632482 & 0.032334332 & 0.004030879\\\\\n",
       "\\end{tabular}\n"
      ],
      "text/markdown": [
       "\n",
       "| <!--/--> | mass_400 | mass_500 | mass_600 | mass_700 | mass_800 |\n",
       "|---|---|---|---|---|---|\n",
       "| 1 | 0.05708834  | 0.05868799  | 0.001422083 | 0.024448705 | 0.002961521 |\n",
       "| 2 | 0.04364981  | 0.03529239  | 0.001064818 | 0.015103071 | 0.001586869 |\n",
       "| 3 | 0.02723663  | 0.02308907  | 0.000641467 | 0.004038756 | 0.001170106 |\n",
       "| 4 | 0.04795208  | 0.05203415  | 0.002287018 | 0.027557699 | 0.002876021 |\n",
       "| 5 | 0.06062535  | 0.05520182  | 0.001113023 | 0.016928592 | 0.002033275 |\n",
       "| 6 | 0.05173330  | 0.04288872  | 0.001191404 | 0.006303823 | 0.001142296 |\n",
       "| 7 | 0.04392575  | 0.04305203  | 0.001768802 | 0.012500000 | 0.000113900 |\n",
       "| 8 | 0.02461537  | 0.02000570  | 0.000327913 | 0.008255499 | 0.000229724 |\n",
       "| 9 | 0.03696300  | 0.04260624  | 0.001968751 | 0.017850814 | 0.002617012 |\n",
       "| 10 | 0.02508449  | 0.02742818  | 0.001361898 | 0.010482335 | 0.002751920 |\n",
       "| 11 | 0.04615908  | 0.05130382  | 0.002176780 | 0.022613185 | 0.004121204 |\n",
       "| 12 | 0.04492082  | 0.05093403  | 0.001883462 | 0.020508285 | 0.005726650 |\n",
       "| 13 | 0.05786115  | 0.06841478  | 0.002191191 | 0.023497470 | 0.005592272 |\n",
       "| 14 | 0.01426524  | 0.01854810  | 0.001897406 | 0.029586849 | 0.007613493 |\n",
       "| 15 | 0.07306050  | 0.06502908  | 0.001441913 | 0.025098160 | 0.005432323 |\n",
       "| 21 | 0.04090417  | 0.04086484  | 0.001833863 | 0.019681270 | 0.003253505 |\n",
       "| 22 | 0.03745880  | 0.03019293  | 0.000729655 | 0.016872715 | 0.001582912 |\n",
       "| 23 | 0.02436727  | 0.02221326  | 0.000767059 | 0.003761233 | 0.004761300 |\n",
       "| 24 | 0.02733701  | 0.04067116  | 0.001824565 | 0.043059272 | 0.006457442 |\n",
       "| 25 | 0.05254428  | 0.05292777  | 0.001925590 | 0.015958452 | 0.004199913 |\n",
       "| 36 | 0.02443739  | 0.01810000  | 0.000166151 | 0.002717924 | 0.000130660 |\n",
       "| 37 | 0.02263661  | 0.01610000  | 0.000209937 | 0.001727406 | 0.000309613 |\n",
       "| 38 | 0.05140107  | 0.04300000  | 0.000740028 | 0.018649185 | 0.006254547 |\n",
       "| 39 | 0.08515225  | 0.08102323  | 0.001512400 | 0.018566723 | 0.009977031 |\n",
       "| 40 | 0.06436527  | 0.07786635  | 0.001953008 | 0.024209967 | 0.016252860 |\n",
       "| 51 | 0.05398083  | 0.05092429  | 0.001097870 | 0.011316390 | 0.002592066 |\n",
       "| 52 | 0.03758543  | 0.02910000  | 0.000534901 | 0.004049060 | 0.001455022 |\n",
       "| 53 | 0.05801446  | 0.04132669  | 0.000443594 | 0.005711734 | 0.000242791 |\n",
       "| 54 | 0.04413136  | 0.03250000  | 0.000422189 | 0.007498225 | 0.001662079 |\n",
       "| 55 | 0.04834261  | 0.04408965  | 0.001632482 | 0.032334332 | 0.004030879 |\n",
       "\n"
      ],
      "text/plain": [
       "   mass_400   mass_500   mass_600    mass_700    mass_800   \n",
       "1  0.05708834 0.05868799 0.001422083 0.024448705 0.002961521\n",
       "2  0.04364981 0.03529239 0.001064818 0.015103071 0.001586869\n",
       "3  0.02723663 0.02308907 0.000641467 0.004038756 0.001170106\n",
       "4  0.04795208 0.05203415 0.002287018 0.027557699 0.002876021\n",
       "5  0.06062535 0.05520182 0.001113023 0.016928592 0.002033275\n",
       "6  0.05173330 0.04288872 0.001191404 0.006303823 0.001142296\n",
       "7  0.04392575 0.04305203 0.001768802 0.012500000 0.000113900\n",
       "8  0.02461537 0.02000570 0.000327913 0.008255499 0.000229724\n",
       "9  0.03696300 0.04260624 0.001968751 0.017850814 0.002617012\n",
       "10 0.02508449 0.02742818 0.001361898 0.010482335 0.002751920\n",
       "11 0.04615908 0.05130382 0.002176780 0.022613185 0.004121204\n",
       "12 0.04492082 0.05093403 0.001883462 0.020508285 0.005726650\n",
       "13 0.05786115 0.06841478 0.002191191 0.023497470 0.005592272\n",
       "14 0.01426524 0.01854810 0.001897406 0.029586849 0.007613493\n",
       "15 0.07306050 0.06502908 0.001441913 0.025098160 0.005432323\n",
       "21 0.04090417 0.04086484 0.001833863 0.019681270 0.003253505\n",
       "22 0.03745880 0.03019293 0.000729655 0.016872715 0.001582912\n",
       "23 0.02436727 0.02221326 0.000767059 0.003761233 0.004761300\n",
       "24 0.02733701 0.04067116 0.001824565 0.043059272 0.006457442\n",
       "25 0.05254428 0.05292777 0.001925590 0.015958452 0.004199913\n",
       "36 0.02443739 0.01810000 0.000166151 0.002717924 0.000130660\n",
       "37 0.02263661 0.01610000 0.000209937 0.001727406 0.000309613\n",
       "38 0.05140107 0.04300000 0.000740028 0.018649185 0.006254547\n",
       "39 0.08515225 0.08102323 0.001512400 0.018566723 0.009977031\n",
       "40 0.06436527 0.07786635 0.001953008 0.024209967 0.016252860\n",
       "51 0.05398083 0.05092429 0.001097870 0.011316390 0.002592066\n",
       "52 0.03758543 0.02910000 0.000534901 0.004049060 0.001455022\n",
       "53 0.05801446 0.04132669 0.000443594 0.005711734 0.000242791\n",
       "54 0.04413136 0.03250000 0.000422189 0.007498225 0.001662079\n",
       "55 0.04834261 0.04408965 0.001632482 0.032334332 0.004030879"
      ]
     },
     "metadata": {},
     "output_type": "display_data"
    },
    {
     "data": {
      "text/html": [
       "<table>\n",
       "<thead><tr><th scope=col>filename</th><th scope=col>MouseID</th><th scope=col>Treatmentgroup</th><th scope=col>DPI</th><th scope=col>organ</th><th scope=col>well_position</th><th scope=col>plate</th><th scope=col>mass_400</th><th scope=col>mass_500</th><th scope=col>mass_600</th><th scope=col>mass_700</th><th scope=col>mass_800</th></tr></thead>\n",
       "<tbody>\n",
       "\t<tr><td>X511_Group1C_142dpi_LA_161_G_A1_P120.mzXML</td><td>511                                       </td><td>naive                                     </td><td>142dpi                                    </td><td>LA                                        </td><td>A1                                        </td><td>P120                                      </td><td>0.05708834                                </td><td>0.05868799                                </td><td>0.001422083                               </td><td>0.024448705                               </td><td>0.002961521                               </td></tr>\n",
       "\t<tr><td>X512_Group1C_142dpi_LA_162_G_A2_P120.mzXML</td><td>512                                       </td><td>naive                                     </td><td>142dpi                                    </td><td>LA                                        </td><td>A2                                        </td><td>P120                                      </td><td>0.04364981                                </td><td>0.03529239                                </td><td>0.001064818                               </td><td>0.015103071                               </td><td>0.001586869                               </td></tr>\n",
       "\t<tr><td>X513_Group1C_142dpi_LA_163_G_A3_P120.mzXML</td><td>513                                       </td><td>naive                                     </td><td>142dpi                                    </td><td>LA                                        </td><td>A3                                        </td><td>P120                                      </td><td>0.02723663                                </td><td>0.02308907                                </td><td>0.000641467                               </td><td>0.004038756                               </td><td>0.001170106                               </td></tr>\n",
       "\t<tr><td>X514_Group1C_142dpi_LA_164_G_A4_P120.mzXML</td><td>514                                       </td><td>naive                                     </td><td>142dpi                                    </td><td>LA                                        </td><td>A4                                        </td><td>P120                                      </td><td>0.04795208                                </td><td>0.05203415                                </td><td>0.002287018                               </td><td>0.027557699                               </td><td>0.002876021                               </td></tr>\n",
       "\t<tr><td>X515_Group1C_142dpi_LA_165_G_A5_P120.mzXML</td><td>515                                       </td><td>naive                                     </td><td>142dpi                                    </td><td>LA                                        </td><td>A5                                        </td><td>P120                                      </td><td>0.06062535                                </td><td>0.05520182                                </td><td>0.001113023                               </td><td>0.016928592                               </td><td>0.002033275                               </td></tr>\n",
       "\t<tr><td>X531_Group1C_142dpi_LA_166_G_A6_P120.mzXML</td><td>531                                       </td><td>naive                                     </td><td>142dpi                                    </td><td>LA                                        </td><td>A6                                        </td><td>P120                                      </td><td>0.05173330                                </td><td>0.04288872                                </td><td>0.001191404                               </td><td>0.006303823                               </td><td>0.001142296                               </td></tr>\n",
       "</tbody>\n",
       "</table>\n"
      ],
      "text/latex": [
       "\\begin{tabular}{r|llllllllllll}\n",
       " filename & MouseID & Treatmentgroup & DPI & organ & well\\_position & plate & mass\\_400 & mass\\_500 & mass\\_600 & mass\\_700 & mass\\_800\\\\\n",
       "\\hline\n",
       "\t X511\\_Group1C\\_142dpi\\_LA\\_161\\_G\\_A1\\_P120.mzXML & 511                                                      & naive                                                    & 142dpi                                                   & LA                                                       & A1                                                       & P120                                                     & 0.05708834                                               & 0.05868799                                               & 0.001422083                                              & 0.024448705                                              & 0.002961521                                             \\\\\n",
       "\t X512\\_Group1C\\_142dpi\\_LA\\_162\\_G\\_A2\\_P120.mzXML & 512                                                      & naive                                                    & 142dpi                                                   & LA                                                       & A2                                                       & P120                                                     & 0.04364981                                               & 0.03529239                                               & 0.001064818                                              & 0.015103071                                              & 0.001586869                                             \\\\\n",
       "\t X513\\_Group1C\\_142dpi\\_LA\\_163\\_G\\_A3\\_P120.mzXML & 513                                                      & naive                                                    & 142dpi                                                   & LA                                                       & A3                                                       & P120                                                     & 0.02723663                                               & 0.02308907                                               & 0.000641467                                              & 0.004038756                                              & 0.001170106                                             \\\\\n",
       "\t X514\\_Group1C\\_142dpi\\_LA\\_164\\_G\\_A4\\_P120.mzXML & 514                                                      & naive                                                    & 142dpi                                                   & LA                                                       & A4                                                       & P120                                                     & 0.04795208                                               & 0.05203415                                               & 0.002287018                                              & 0.027557699                                              & 0.002876021                                             \\\\\n",
       "\t X515\\_Group1C\\_142dpi\\_LA\\_165\\_G\\_A5\\_P120.mzXML & 515                                                      & naive                                                    & 142dpi                                                   & LA                                                       & A5                                                       & P120                                                     & 0.06062535                                               & 0.05520182                                               & 0.001113023                                              & 0.016928592                                              & 0.002033275                                             \\\\\n",
       "\t X531\\_Group1C\\_142dpi\\_LA\\_166\\_G\\_A6\\_P120.mzXML & 531                                                      & naive                                                    & 142dpi                                                   & LA                                                       & A6                                                       & P120                                                     & 0.05173330                                               & 0.04288872                                               & 0.001191404                                              & 0.006303823                                              & 0.001142296                                             \\\\\n",
       "\\end{tabular}\n"
      ],
      "text/markdown": [
       "\n",
       "| filename | MouseID | Treatmentgroup | DPI | organ | well_position | plate | mass_400 | mass_500 | mass_600 | mass_700 | mass_800 |\n",
       "|---|---|---|---|---|---|---|---|---|---|---|---|\n",
       "| X511_Group1C_142dpi_LA_161_G_A1_P120.mzXML | 511                                        | naive                                      | 142dpi                                     | LA                                         | A1                                         | P120                                       | 0.05708834                                 | 0.05868799                                 | 0.001422083                                | 0.024448705                                | 0.002961521                                |\n",
       "| X512_Group1C_142dpi_LA_162_G_A2_P120.mzXML | 512                                        | naive                                      | 142dpi                                     | LA                                         | A2                                         | P120                                       | 0.04364981                                 | 0.03529239                                 | 0.001064818                                | 0.015103071                                | 0.001586869                                |\n",
       "| X513_Group1C_142dpi_LA_163_G_A3_P120.mzXML | 513                                        | naive                                      | 142dpi                                     | LA                                         | A3                                         | P120                                       | 0.02723663                                 | 0.02308907                                 | 0.000641467                                | 0.004038756                                | 0.001170106                                |\n",
       "| X514_Group1C_142dpi_LA_164_G_A4_P120.mzXML | 514                                        | naive                                      | 142dpi                                     | LA                                         | A4                                         | P120                                       | 0.04795208                                 | 0.05203415                                 | 0.002287018                                | 0.027557699                                | 0.002876021                                |\n",
       "| X515_Group1C_142dpi_LA_165_G_A5_P120.mzXML | 515                                        | naive                                      | 142dpi                                     | LA                                         | A5                                         | P120                                       | 0.06062535                                 | 0.05520182                                 | 0.001113023                                | 0.016928592                                | 0.002033275                                |\n",
       "| X531_Group1C_142dpi_LA_166_G_A6_P120.mzXML | 531                                        | naive                                      | 142dpi                                     | LA                                         | A6                                         | P120                                       | 0.05173330                                 | 0.04288872                                 | 0.001191404                                | 0.006303823                                | 0.001142296                                |\n",
       "\n"
      ],
      "text/plain": [
       "  filename                                   MouseID Treatmentgroup DPI   \n",
       "1 X511_Group1C_142dpi_LA_161_G_A1_P120.mzXML 511     naive          142dpi\n",
       "2 X512_Group1C_142dpi_LA_162_G_A2_P120.mzXML 512     naive          142dpi\n",
       "3 X513_Group1C_142dpi_LA_163_G_A3_P120.mzXML 513     naive          142dpi\n",
       "4 X514_Group1C_142dpi_LA_164_G_A4_P120.mzXML 514     naive          142dpi\n",
       "5 X515_Group1C_142dpi_LA_165_G_A5_P120.mzXML 515     naive          142dpi\n",
       "6 X531_Group1C_142dpi_LA_166_G_A6_P120.mzXML 531     naive          142dpi\n",
       "  organ well_position plate mass_400   mass_500   mass_600    mass_700   \n",
       "1 LA    A1            P120  0.05708834 0.05868799 0.001422083 0.024448705\n",
       "2 LA    A2            P120  0.04364981 0.03529239 0.001064818 0.015103071\n",
       "3 LA    A3            P120  0.02723663 0.02308907 0.000641467 0.004038756\n",
       "4 LA    A4            P120  0.04795208 0.05203415 0.002287018 0.027557699\n",
       "5 LA    A5            P120  0.06062535 0.05520182 0.001113023 0.016928592\n",
       "6 LA    A6            P120  0.05173330 0.04288872 0.001191404 0.006303823\n",
       "  mass_800   \n",
       "1 0.002961521\n",
       "2 0.001586869\n",
       "3 0.001170106\n",
       "4 0.002876021\n",
       "5 0.002033275\n",
       "6 0.001142296"
      ]
     },
     "metadata": {},
     "output_type": "display_data"
    },
    {
     "data": {
      "text/html": [
       "<ol class=list-inline>\n",
       "\t<li>30</li>\n",
       "\t<li>12</li>\n",
       "</ol>\n"
      ],
      "text/latex": [
       "\\begin{enumerate*}\n",
       "\\item 30\n",
       "\\item 12\n",
       "\\end{enumerate*}\n"
      ],
      "text/markdown": [
       "1. 30\n",
       "2. 12\n",
       "\n",
       "\n"
      ],
      "text/plain": [
       "[1] 30 12"
      ]
     },
     "metadata": {},
     "output_type": "display_data"
    },
    {
     "data": {
      "text/html": [
       "<ol class=list-inline>\n",
       "\t<li>30</li>\n",
       "\t<li>5</li>\n",
       "</ol>\n"
      ],
      "text/latex": [
       "\\begin{enumerate*}\n",
       "\\item 30\n",
       "\\item 5\n",
       "\\end{enumerate*}\n"
      ],
      "text/markdown": [
       "1. 30\n",
       "2. 5\n",
       "\n",
       "\n"
      ],
      "text/plain": [
       "[1] 30  5"
      ]
     },
     "metadata": {},
     "output_type": "display_data"
    },
    {
     "data": {
      "text/html": [
       "<ol class=list-inline>\n",
       "\t<li>30</li>\n",
       "\t<li>5</li>\n",
       "</ol>\n"
      ],
      "text/latex": [
       "\\begin{enumerate*}\n",
       "\\item 30\n",
       "\\item 5\n",
       "\\end{enumerate*}\n"
      ],
      "text/markdown": [
       "1. 30\n",
       "2. 5\n",
       "\n",
       "\n"
      ],
      "text/plain": [
       "[1] 30  5"
      ]
     },
     "metadata": {},
     "output_type": "display_data"
    },
    {
     "data": {
      "text/html": [
       "<ol class=list-inline>\n",
       "\t<li>30</li>\n",
       "\t<li>12</li>\n",
       "</ol>\n"
      ],
      "text/latex": [
       "\\begin{enumerate*}\n",
       "\\item 30\n",
       "\\item 12\n",
       "\\end{enumerate*}\n"
      ],
      "text/markdown": [
       "1. 30\n",
       "2. 12\n",
       "\n",
       "\n"
      ],
      "text/plain": [
       "[1] 30 12"
      ]
     },
     "metadata": {},
     "output_type": "display_data"
    }
   ],
   "source": [
    "noMeta<-features_pos[,8:12]\n",
    "head(noMeta)\n",
    "not_zero<-which(colSums(noMeta) != 0)\n",
    "head(not_zero)\n",
    "nonzero <- noMeta[, not_zero]\n",
    "nonzero\n",
    "nonzero_wMeta<-cbind(features_pos[,1:7], nonzero)\n",
    "head(nonzero_wMeta)\n",
    "dim(features_pos)\n",
    "dim(noMeta)\n",
    "dim(nonzero)\n",
    "dim(nonzero_wMeta)"
   ]
  },
  {
   "cell_type": "code",
   "execution_count": 5,
   "metadata": {
    "scrolled": true
   },
   "outputs": [
    {
     "data": {
      "text/html": [
       "<ol class=list-inline>\n",
       "\t<li>1</li>\n",
       "\t<li>0.436289427525659</li>\n",
       "\t<li>0.0674961538838424</li>\n",
       "\t<li>0.267097024243296</li>\n",
       "\t<li>0.65287003041307</li>\n",
       "</ol>\n"
      ],
      "text/latex": [
       "\\begin{enumerate*}\n",
       "\\item 1\n",
       "\\item 0.436289427525659\n",
       "\\item 0.0674961538838424\n",
       "\\item 0.267097024243296\n",
       "\\item 0.65287003041307\n",
       "\\end{enumerate*}\n"
      ],
      "text/markdown": [
       "1. 1\n",
       "2. 0.436289427525659\n",
       "3. 0.0674961538838424\n",
       "4. 0.267097024243296\n",
       "5. 0.65287003041307\n",
       "\n",
       "\n"
      ],
      "text/plain": [
       "[1] 1.00000000 0.43628943 0.06749615 0.26709702 0.65287003"
      ]
     },
     "metadata": {},
     "output_type": "display_data"
    },
    {
     "data": {
      "text/html": [
       "<ol class=list-inline>\n",
       "\t<li>1</li>\n",
       "\t<li>0.727149045876099</li>\n",
       "\t<li>0.337480769419212</li>\n",
       "\t<li>0.667742560608241</li>\n",
       "\t<li>0.816087538016338</li>\n",
       "</ol>\n"
      ],
      "text/latex": [
       "\\begin{enumerate*}\n",
       "\\item 1\n",
       "\\item 0.727149045876099\n",
       "\\item 0.337480769419212\n",
       "\\item 0.667742560608241\n",
       "\\item 0.816087538016338\n",
       "\\end{enumerate*}\n"
      ],
      "text/markdown": [
       "1. 1\n",
       "2. 0.727149045876099\n",
       "3. 0.337480769419212\n",
       "4. 0.667742560608241\n",
       "5. 0.816087538016338\n",
       "\n",
       "\n"
      ],
      "text/plain": [
       "[1] 1.0000000 0.7271490 0.3374808 0.6677426 0.8160875"
      ]
     },
     "metadata": {},
     "output_type": "display_data"
    }
   ],
   "source": [
    "pval<-c()\n",
    "\n",
    "for (i in 8:ncol(nonzero_wMeta)) \n",
    "pval<-c(pval,wilcox.test(nonzero_wMeta[,i]~nonzero_wMeta$Treatmentgroup)$p.value)\n",
    "head(pval)\n",
    "pAdj <- p.adjust(pval, method = c(\"fdr\"), n=length(pval)) \n",
    "head(pAdj) \n",
    "\n"
   ]
  },
  {
   "cell_type": "code",
   "execution_count": 6,
   "metadata": {
    "scrolled": true
   },
   "outputs": [
    {
     "data": {
      "text/html": [
       "5"
      ],
      "text/latex": [
       "5"
      ],
      "text/markdown": [
       "5"
      ],
      "text/plain": [
       "[1] 5"
      ]
     },
     "metadata": {},
     "output_type": "display_data"
    }
   ],
   "source": [
    "length(pval)"
   ]
  },
  {
   "cell_type": "code",
   "execution_count": 7,
   "metadata": {
    "scrolled": true
   },
   "outputs": [
    {
     "data": {
      "text/html": [
       "5"
      ],
      "text/latex": [
       "5"
      ],
      "text/markdown": [
       "5"
      ],
      "text/plain": [
       "[1] 5"
      ]
     },
     "metadata": {},
     "output_type": "display_data"
    }
   ],
   "source": [
    "length(pAdj)"
   ]
  },
  {
   "cell_type": "code",
   "execution_count": 8,
   "metadata": {},
   "outputs": [
    {
     "data": {
      "text/html": [
       "<ol class=list-inline>\n",
       "\t<li>2</li>\n",
       "\t<li>5</li>\n",
       "</ol>\n"
      ],
      "text/latex": [
       "\\begin{enumerate*}\n",
       "\\item 2\n",
       "\\item 5\n",
       "\\end{enumerate*}\n"
      ],
      "text/markdown": [
       "1. 2\n",
       "2. 5\n",
       "\n",
       "\n"
      ],
      "text/plain": [
       "[1] 2 5"
      ]
     },
     "metadata": {},
     "output_type": "display_data"
    },
    {
     "data": {
      "text/html": [
       "<table>\n",
       "<thead><tr><th></th><th scope=col>mass_400</th><th scope=col>mass_500</th><th scope=col>mass_600</th></tr></thead>\n",
       "<tbody>\n",
       "\t<tr><th scope=row>combo</th><td>0.04484392 </td><td>0.04139334 </td><td>0.001052886</td></tr>\n",
       "\t<tr><th scope=row>naive</th><td>0.04367606 </td><td>0.04363440 </td><td>0.001515862</td></tr>\n",
       "</tbody>\n",
       "</table>\n"
      ],
      "text/latex": [
       "\\begin{tabular}{r|lll}\n",
       "  & mass\\_400 & mass\\_500 & mass\\_600\\\\\n",
       "\\hline\n",
       "\tcombo & 0.04484392  & 0.04139334  & 0.001052886\\\\\n",
       "\tnaive & 0.04367606  & 0.04363440  & 0.001515862\\\\\n",
       "\\end{tabular}\n"
      ],
      "text/markdown": [
       "\n",
       "| <!--/--> | mass_400 | mass_500 | mass_600 |\n",
       "|---|---|---|---|\n",
       "| combo | 0.04484392  | 0.04139334  | 0.001052886 |\n",
       "| naive | 0.04367606  | 0.04363440  | 0.001515862 |\n",
       "\n"
      ],
      "text/plain": [
       "      mass_400   mass_500   mass_600   \n",
       "combo 0.04484392 0.04139334 0.001052886\n",
       "naive 0.04367606 0.04363440 0.001515862"
      ]
     },
     "metadata": {},
     "output_type": "display_data"
    },
    {
     "data": {
      "text/html": [
       "<dl class=dl-horizontal>\n",
       "\t<dt>mass_400</dt>\n",
       "\t\t<dd>1.02673917666779</dd>\n",
       "\t<dt>mass_500</dt>\n",
       "\t\t<dd>0.948640045164116</dd>\n",
       "\t<dt>mass_600</dt>\n",
       "\t\t<dd>0.694579176494042</dd>\n",
       "\t<dt>mass_700</dt>\n",
       "\t\t<dd>0.853990703282658</dd>\n",
       "\t<dt>mass_800</dt>\n",
       "\t\t<dd>1.3740387837903</dd>\n",
       "</dl>\n"
      ],
      "text/latex": [
       "\\begin{description*}\n",
       "\\item[mass\\textbackslash{}\\_400] 1.02673917666779\n",
       "\\item[mass\\textbackslash{}\\_500] 0.948640045164116\n",
       "\\item[mass\\textbackslash{}\\_600] 0.694579176494042\n",
       "\\item[mass\\textbackslash{}\\_700] 0.853990703282658\n",
       "\\item[mass\\textbackslash{}\\_800] 1.3740387837903\n",
       "\\end{description*}\n"
      ],
      "text/markdown": [
       "mass_400\n",
       ":   1.02673917666779mass_500\n",
       ":   0.948640045164116mass_600\n",
       ":   0.694579176494042mass_700\n",
       ":   0.853990703282658mass_800\n",
       ":   1.3740387837903\n",
       "\n"
      ],
      "text/plain": [
       " mass_400  mass_500  mass_600  mass_700  mass_800 \n",
       "1.0267392 0.9486400 0.6945792 0.8539907 1.3740388 "
      ]
     },
     "metadata": {},
     "output_type": "display_data"
    },
    {
     "data": {
      "text/html": [
       "<ol class=list-inline>\n",
       "\t<li>'numeric'</li>\n",
       "\t<li>'vector'</li>\n",
       "</ol>\n"
      ],
      "text/latex": [
       "\\begin{enumerate*}\n",
       "\\item 'numeric'\n",
       "\\item 'vector'\n",
       "\\end{enumerate*}\n"
      ],
      "text/markdown": [
       "1. 'numeric'\n",
       "2. 'vector'\n",
       "\n",
       "\n"
      ],
      "text/plain": [
       "[1] \"numeric\" \"vector\" "
      ]
     },
     "metadata": {},
     "output_type": "display_data"
    }
   ],
   "source": [
    "avg<- apply(nonzero_wMeta[,8:ncol(nonzero_wMeta)], 2, function(x) tapply(x, nonzero_wMeta$Treatmentgroup, function(x) mean(x))) \n",
    "\n",
    "dim(avg)\n",
    "\n",
    "avg[,1:3]\n",
    "\n",
    "fch <- apply(avg, 2, function(x) x[1]/x[2])\n",
    "\n",
    "head(fch)\n",
    "is(fch)"
   ]
  },
  {
   "cell_type": "code",
   "execution_count": 9,
   "metadata": {
    "scrolled": true
   },
   "outputs": [
    {
     "data": {
      "text/html": [
       "<dl class=dl-horizontal>\n",
       "\t<dt>mass_400</dt>\n",
       "\t\t<dd>1.02673917666779</dd>\n",
       "\t<dt>mass_500</dt>\n",
       "\t\t<dd>0.948640045164116</dd>\n",
       "\t<dt>mass_600</dt>\n",
       "\t\t<dd>0.694579176494042</dd>\n",
       "\t<dt>mass_700</dt>\n",
       "\t\t<dd>0.853990703282658</dd>\n",
       "\t<dt>mass_800</dt>\n",
       "\t\t<dd>1.3740387837903</dd>\n",
       "</dl>\n"
      ],
      "text/latex": [
       "\\begin{description*}\n",
       "\\item[mass\\textbackslash{}\\_400] 1.02673917666779\n",
       "\\item[mass\\textbackslash{}\\_500] 0.948640045164116\n",
       "\\item[mass\\textbackslash{}\\_600] 0.694579176494042\n",
       "\\item[mass\\textbackslash{}\\_700] 0.853990703282658\n",
       "\\item[mass\\textbackslash{}\\_800] 1.3740387837903\n",
       "\\end{description*}\n"
      ],
      "text/markdown": [
       "mass_400\n",
       ":   1.02673917666779mass_500\n",
       ":   0.948640045164116mass_600\n",
       ":   0.694579176494042mass_700\n",
       ":   0.853990703282658mass_800\n",
       ":   1.3740387837903\n",
       "\n"
      ],
      "text/plain": [
       " mass_400  mass_500  mass_600  mass_700  mass_800 \n",
       "1.0267392 0.9486400 0.6945792 0.8539907 1.3740388 "
      ]
     },
     "metadata": {},
     "output_type": "display_data"
    }
   ],
   "source": [
    "fch"
   ]
  },
  {
   "cell_type": "code",
   "execution_count": 10,
   "metadata": {
    "scrolled": false
   },
   "outputs": [],
   "source": [
    "df <- data.frame(fch,pval, pAdj)\n",
    "write.csv(df, \"PC-treat-LA-wilcox-naive-combo.csv\")"
   ]
  },
  {
   "cell_type": "code",
   "execution_count": null,
   "metadata": {},
   "outputs": [],
   "source": []
  },
  {
   "cell_type": "code",
   "execution_count": null,
   "metadata": {},
   "outputs": [],
   "source": []
  },
  {
   "cell_type": "code",
   "execution_count": null,
   "metadata": {},
   "outputs": [],
   "source": []
  },
  {
   "cell_type": "code",
   "execution_count": null,
   "metadata": {},
   "outputs": [],
   "source": []
  },
  {
   "cell_type": "code",
   "execution_count": null,
   "metadata": {},
   "outputs": [],
   "source": []
  },
  {
   "cell_type": "code",
   "execution_count": null,
   "metadata": {},
   "outputs": [],
   "source": []
  }
 ],
 "metadata": {
  "kernelspec": {
   "display_name": "R",
   "language": "R",
   "name": "ir"
  },
  "language_info": {
   "codemirror_mode": "r",
   "file_extension": ".r",
   "mimetype": "text/x-r-source",
   "name": "R",
   "pygments_lexer": "r",
   "version": "3.6.1"
  }
 },
 "nbformat": 4,
 "nbformat_minor": 2
}
