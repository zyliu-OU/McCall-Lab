{
 "cells": [
  {
   "cell_type": "code",
   "execution_count": 21,
   "metadata": {},
   "outputs": [],
   "source": [
    "a <- read.csv(\"03172021-PC-treatment-LA-M-F.csv\")"
   ]
  },
  {
   "cell_type": "code",
   "execution_count": 22,
   "metadata": {},
   "outputs": [
    {
     "data": {
      "text/html": [
       "<table>\n",
       "<thead><tr><th scope=col>filename</th><th scope=col>MouseID</th><th scope=col>Treatmentgroup</th><th scope=col>DPI</th><th scope=col>organ</th><th scope=col>well_position</th><th scope=col>plate</th><th scope=col>mass_400</th><th scope=col>mass_500</th><th scope=col>mass_600</th><th scope=col>mass_700</th><th scope=col>mass_800</th></tr></thead>\n",
       "<tbody>\n",
       "\t<tr><td>X511_Group1C_142dpi_LA_161_G_A1_P120.mzXML</td><td>511                                       </td><td>naive                                     </td><td>142dpi                                    </td><td>LA                                        </td><td>A1                                        </td><td>P120                                      </td><td>0.05708834                                </td><td>0.05868799                                </td><td>0.001422083                               </td><td>0.024448705                               </td><td>0.002961521                               </td></tr>\n",
       "\t<tr><td>X512_Group1C_142dpi_LA_162_G_A2_P120.mzXML</td><td>512                                       </td><td>naive                                     </td><td>142dpi                                    </td><td>LA                                        </td><td>A2                                        </td><td>P120                                      </td><td>0.04364981                                </td><td>0.03529239                                </td><td>0.001064818                               </td><td>0.015103071                               </td><td>0.001586869                               </td></tr>\n",
       "\t<tr><td>X513_Group1C_142dpi_LA_163_G_A3_P120.mzXML</td><td>513                                       </td><td>naive                                     </td><td>142dpi                                    </td><td>LA                                        </td><td>A3                                        </td><td>P120                                      </td><td>0.02723663                                </td><td>0.02308907                                </td><td>0.000641467                               </td><td>0.004038756                               </td><td>0.001170106                               </td></tr>\n",
       "\t<tr><td>X514_Group1C_142dpi_LA_164_G_A4_P120.mzXML</td><td>514                                       </td><td>naive                                     </td><td>142dpi                                    </td><td>LA                                        </td><td>A4                                        </td><td>P120                                      </td><td>0.04795208                                </td><td>0.05203415                                </td><td>0.002287018                               </td><td>0.027557699                               </td><td>0.002876021                               </td></tr>\n",
       "\t<tr><td>X515_Group1C_142dpi_LA_165_G_A5_P120.mzXML</td><td>515                                       </td><td>naive                                     </td><td>142dpi                                    </td><td>LA                                        </td><td>A5                                        </td><td>P120                                      </td><td>0.06062535                                </td><td>0.05520182                                </td><td>0.001113023                               </td><td>0.016928592                               </td><td>0.002033275                               </td></tr>\n",
       "\t<tr><td>X531_Group1C_142dpi_LA_166_G_A6_P120.mzXML</td><td>531                                       </td><td>naive                                     </td><td>142dpi                                    </td><td>LA                                        </td><td>A6                                        </td><td>P120                                      </td><td>0.05173330                                </td><td>0.04288872                                </td><td>0.001191404                               </td><td>0.006303823                               </td><td>0.001142296                               </td></tr>\n",
       "</tbody>\n",
       "</table>\n"
      ],
      "text/latex": [
       "\\begin{tabular}{r|llllllllllll}\n",
       " filename & MouseID & Treatmentgroup & DPI & organ & well\\_position & plate & mass\\_400 & mass\\_500 & mass\\_600 & mass\\_700 & mass\\_800\\\\\n",
       "\\hline\n",
       "\t X511\\_Group1C\\_142dpi\\_LA\\_161\\_G\\_A1\\_P120.mzXML & 511                                                      & naive                                                    & 142dpi                                                   & LA                                                       & A1                                                       & P120                                                     & 0.05708834                                               & 0.05868799                                               & 0.001422083                                              & 0.024448705                                              & 0.002961521                                             \\\\\n",
       "\t X512\\_Group1C\\_142dpi\\_LA\\_162\\_G\\_A2\\_P120.mzXML & 512                                                      & naive                                                    & 142dpi                                                   & LA                                                       & A2                                                       & P120                                                     & 0.04364981                                               & 0.03529239                                               & 0.001064818                                              & 0.015103071                                              & 0.001586869                                             \\\\\n",
       "\t X513\\_Group1C\\_142dpi\\_LA\\_163\\_G\\_A3\\_P120.mzXML & 513                                                      & naive                                                    & 142dpi                                                   & LA                                                       & A3                                                       & P120                                                     & 0.02723663                                               & 0.02308907                                               & 0.000641467                                              & 0.004038756                                              & 0.001170106                                             \\\\\n",
       "\t X514\\_Group1C\\_142dpi\\_LA\\_164\\_G\\_A4\\_P120.mzXML & 514                                                      & naive                                                    & 142dpi                                                   & LA                                                       & A4                                                       & P120                                                     & 0.04795208                                               & 0.05203415                                               & 0.002287018                                              & 0.027557699                                              & 0.002876021                                             \\\\\n",
       "\t X515\\_Group1C\\_142dpi\\_LA\\_165\\_G\\_A5\\_P120.mzXML & 515                                                      & naive                                                    & 142dpi                                                   & LA                                                       & A5                                                       & P120                                                     & 0.06062535                                               & 0.05520182                                               & 0.001113023                                              & 0.016928592                                              & 0.002033275                                             \\\\\n",
       "\t X531\\_Group1C\\_142dpi\\_LA\\_166\\_G\\_A6\\_P120.mzXML & 531                                                      & naive                                                    & 142dpi                                                   & LA                                                       & A6                                                       & P120                                                     & 0.05173330                                               & 0.04288872                                               & 0.001191404                                              & 0.006303823                                              & 0.001142296                                             \\\\\n",
       "\\end{tabular}\n"
      ],
      "text/markdown": [
       "\n",
       "| filename | MouseID | Treatmentgroup | DPI | organ | well_position | plate | mass_400 | mass_500 | mass_600 | mass_700 | mass_800 |\n",
       "|---|---|---|---|---|---|---|---|---|---|---|---|\n",
       "| X511_Group1C_142dpi_LA_161_G_A1_P120.mzXML | 511                                        | naive                                      | 142dpi                                     | LA                                         | A1                                         | P120                                       | 0.05708834                                 | 0.05868799                                 | 0.001422083                                | 0.024448705                                | 0.002961521                                |\n",
       "| X512_Group1C_142dpi_LA_162_G_A2_P120.mzXML | 512                                        | naive                                      | 142dpi                                     | LA                                         | A2                                         | P120                                       | 0.04364981                                 | 0.03529239                                 | 0.001064818                                | 0.015103071                                | 0.001586869                                |\n",
       "| X513_Group1C_142dpi_LA_163_G_A3_P120.mzXML | 513                                        | naive                                      | 142dpi                                     | LA                                         | A3                                         | P120                                       | 0.02723663                                 | 0.02308907                                 | 0.000641467                                | 0.004038756                                | 0.001170106                                |\n",
       "| X514_Group1C_142dpi_LA_164_G_A4_P120.mzXML | 514                                        | naive                                      | 142dpi                                     | LA                                         | A4                                         | P120                                       | 0.04795208                                 | 0.05203415                                 | 0.002287018                                | 0.027557699                                | 0.002876021                                |\n",
       "| X515_Group1C_142dpi_LA_165_G_A5_P120.mzXML | 515                                        | naive                                      | 142dpi                                     | LA                                         | A5                                         | P120                                       | 0.06062535                                 | 0.05520182                                 | 0.001113023                                | 0.016928592                                | 0.002033275                                |\n",
       "| X531_Group1C_142dpi_LA_166_G_A6_P120.mzXML | 531                                        | naive                                      | 142dpi                                     | LA                                         | A6                                         | P120                                       | 0.05173330                                 | 0.04288872                                 | 0.001191404                                | 0.006303823                                | 0.001142296                                |\n",
       "\n"
      ],
      "text/plain": [
       "  filename                                   MouseID Treatmentgroup DPI   \n",
       "1 X511_Group1C_142dpi_LA_161_G_A1_P120.mzXML 511     naive          142dpi\n",
       "2 X512_Group1C_142dpi_LA_162_G_A2_P120.mzXML 512     naive          142dpi\n",
       "3 X513_Group1C_142dpi_LA_163_G_A3_P120.mzXML 513     naive          142dpi\n",
       "4 X514_Group1C_142dpi_LA_164_G_A4_P120.mzXML 514     naive          142dpi\n",
       "5 X515_Group1C_142dpi_LA_165_G_A5_P120.mzXML 515     naive          142dpi\n",
       "6 X531_Group1C_142dpi_LA_166_G_A6_P120.mzXML 531     naive          142dpi\n",
       "  organ well_position plate mass_400   mass_500   mass_600    mass_700   \n",
       "1 LA    A1            P120  0.05708834 0.05868799 0.001422083 0.024448705\n",
       "2 LA    A2            P120  0.04364981 0.03529239 0.001064818 0.015103071\n",
       "3 LA    A3            P120  0.02723663 0.02308907 0.000641467 0.004038756\n",
       "4 LA    A4            P120  0.04795208 0.05203415 0.002287018 0.027557699\n",
       "5 LA    A5            P120  0.06062535 0.05520182 0.001113023 0.016928592\n",
       "6 LA    A6            P120  0.05173330 0.04288872 0.001191404 0.006303823\n",
       "  mass_800   \n",
       "1 0.002961521\n",
       "2 0.001586869\n",
       "3 0.001170106\n",
       "4 0.002876021\n",
       "5 0.002033275\n",
       "6 0.001142296"
      ]
     },
     "metadata": {},
     "output_type": "display_data"
    },
    {
     "data": {
      "text/html": [
       "<ol class=list-inline>\n",
       "\t<li>60</li>\n",
       "\t<li>12</li>\n",
       "</ol>\n"
      ],
      "text/latex": [
       "\\begin{enumerate*}\n",
       "\\item 60\n",
       "\\item 12\n",
       "\\end{enumerate*}\n"
      ],
      "text/markdown": [
       "1. 60\n",
       "2. 12\n",
       "\n",
       "\n"
      ],
      "text/plain": [
       "[1] 60 12"
      ]
     },
     "metadata": {},
     "output_type": "display_data"
    }
   ],
   "source": [
    "head(a)\n",
    "dim(a)"
   ]
  },
  {
   "cell_type": "code",
   "execution_count": 23,
   "metadata": {},
   "outputs": [
    {
     "data": {
      "text/html": [
       "<table>\n",
       "<thead><tr><th></th><th scope=col>filename</th><th scope=col>MouseID</th><th scope=col>Treatmentgroup</th><th scope=col>DPI</th><th scope=col>organ</th><th scope=col>well_position</th><th scope=col>plate</th><th scope=col>mass_400</th><th scope=col>mass_500</th><th scope=col>mass_600</th><th scope=col>mass_700</th><th scope=col>mass_800</th></tr></thead>\n",
       "<tbody>\n",
       "\t<tr><th scope=row>21</th><td>X611_Group9_142dpi_LA_181_G_B9_P120.mzXML </td><td>611                                       </td><td>combo                                     </td><td>142dpi                                    </td><td>LA                                        </td><td>B9                                        </td><td>P120                                      </td><td>0.04090417                                </td><td>0.04086484                                </td><td>0.001833863                               </td><td>0.019681270                               </td><td>0.003253505                               </td></tr>\n",
       "\t<tr><th scope=row>22</th><td>X612_Group9_142dpi_LA_182_G_B10_P120.mzXML</td><td>612                                       </td><td>combo                                     </td><td>142dpi                                    </td><td>LA                                        </td><td>B10                                       </td><td>P120                                      </td><td>0.03745880                                </td><td>0.03019293                                </td><td>0.000729655                               </td><td>0.016872715                               </td><td>0.001582912                               </td></tr>\n",
       "\t<tr><th scope=row>23</th><td>X613_Group9_142dpi_LA_183_G_B11_P120.mzXML</td><td>613                                       </td><td>combo                                     </td><td>142dpi                                    </td><td>LA                                        </td><td>B11                                       </td><td>P120                                      </td><td>0.02436727                                </td><td>0.02221326                                </td><td>0.000767059                               </td><td>0.003761233                               </td><td>0.004761300                               </td></tr>\n",
       "\t<tr><th scope=row>24</th><td>X614_Group9_142dpi_LA_184_G_B12_P120.mzXML</td><td>614                                       </td><td>combo                                     </td><td>142dpi                                    </td><td>LA                                        </td><td>B12                                       </td><td>P120                                      </td><td>0.02733701                                </td><td>0.04067116                                </td><td>0.001824565                               </td><td>0.043059272                               </td><td>0.006457442                               </td></tr>\n",
       "\t<tr><th scope=row>25</th><td>X615_Group9_142dpi_LA_185_G_C1_P120.mzXML </td><td>615                                       </td><td>combo                                     </td><td>142dpi                                    </td><td>LA                                        </td><td>C1                                        </td><td>P120                                      </td><td>0.05254428                                </td><td>0.05292777                                </td><td>0.001925590                               </td><td>0.015958452                               </td><td>0.004199913                               </td></tr>\n",
       "\t<tr><th scope=row>26</th><td>X631_Group15_142dpi_LA_191_G_C7_P120.mzXML</td><td>631                                       </td><td>BNZ                                       </td><td>142dpi                                    </td><td>LA                                        </td><td>C7                                        </td><td>P120                                      </td><td>0.06045042                                </td><td>0.05687426                                </td><td>0.001713204                               </td><td>0.018418201                               </td><td>0.004730012                               </td></tr>\n",
       "</tbody>\n",
       "</table>\n"
      ],
      "text/latex": [
       "\\begin{tabular}{r|llllllllllll}\n",
       "  & filename & MouseID & Treatmentgroup & DPI & organ & well\\_position & plate & mass\\_400 & mass\\_500 & mass\\_600 & mass\\_700 & mass\\_800\\\\\n",
       "\\hline\n",
       "\t21 & X611\\_Group9\\_142dpi\\_LA\\_181\\_G\\_B9\\_P120.mzXML  & 611                                                      & combo                                                    & 142dpi                                                   & LA                                                       & B9                                                       & P120                                                     & 0.04090417                                               & 0.04086484                                               & 0.001833863                                              & 0.019681270                                              & 0.003253505                                             \\\\\n",
       "\t22 & X612\\_Group9\\_142dpi\\_LA\\_182\\_G\\_B10\\_P120.mzXML & 612                                                      & combo                                                    & 142dpi                                                   & LA                                                       & B10                                                      & P120                                                     & 0.03745880                                               & 0.03019293                                               & 0.000729655                                              & 0.016872715                                              & 0.001582912                                             \\\\\n",
       "\t23 & X613\\_Group9\\_142dpi\\_LA\\_183\\_G\\_B11\\_P120.mzXML & 613                                                      & combo                                                    & 142dpi                                                   & LA                                                       & B11                                                      & P120                                                     & 0.02436727                                               & 0.02221326                                               & 0.000767059                                              & 0.003761233                                              & 0.004761300                                             \\\\\n",
       "\t24 & X614\\_Group9\\_142dpi\\_LA\\_184\\_G\\_B12\\_P120.mzXML & 614                                                      & combo                                                    & 142dpi                                                   & LA                                                       & B12                                                      & P120                                                     & 0.02733701                                               & 0.04067116                                               & 0.001824565                                              & 0.043059272                                              & 0.006457442                                             \\\\\n",
       "\t25 & X615\\_Group9\\_142dpi\\_LA\\_185\\_G\\_C1\\_P120.mzXML  & 615                                                      & combo                                                    & 142dpi                                                   & LA                                                       & C1                                                       & P120                                                     & 0.05254428                                               & 0.05292777                                               & 0.001925590                                              & 0.015958452                                              & 0.004199913                                             \\\\\n",
       "\t26 & X631\\_Group15\\_142dpi\\_LA\\_191\\_G\\_C7\\_P120.mzXML & 631                                                      & BNZ                                                      & 142dpi                                                   & LA                                                       & C7                                                       & P120                                                     & 0.06045042                                               & 0.05687426                                               & 0.001713204                                              & 0.018418201                                              & 0.004730012                                             \\\\\n",
       "\\end{tabular}\n"
      ],
      "text/markdown": [
       "\n",
       "| <!--/--> | filename | MouseID | Treatmentgroup | DPI | organ | well_position | plate | mass_400 | mass_500 | mass_600 | mass_700 | mass_800 |\n",
       "|---|---|---|---|---|---|---|---|---|---|---|---|---|\n",
       "| 21 | X611_Group9_142dpi_LA_181_G_B9_P120.mzXML  | 611                                        | combo                                      | 142dpi                                     | LA                                         | B9                                         | P120                                       | 0.04090417                                 | 0.04086484                                 | 0.001833863                                | 0.019681270                                | 0.003253505                                |\n",
       "| 22 | X612_Group9_142dpi_LA_182_G_B10_P120.mzXML | 612                                        | combo                                      | 142dpi                                     | LA                                         | B10                                        | P120                                       | 0.03745880                                 | 0.03019293                                 | 0.000729655                                | 0.016872715                                | 0.001582912                                |\n",
       "| 23 | X613_Group9_142dpi_LA_183_G_B11_P120.mzXML | 613                                        | combo                                      | 142dpi                                     | LA                                         | B11                                        | P120                                       | 0.02436727                                 | 0.02221326                                 | 0.000767059                                | 0.003761233                                | 0.004761300                                |\n",
       "| 24 | X614_Group9_142dpi_LA_184_G_B12_P120.mzXML | 614                                        | combo                                      | 142dpi                                     | LA                                         | B12                                        | P120                                       | 0.02733701                                 | 0.04067116                                 | 0.001824565                                | 0.043059272                                | 0.006457442                                |\n",
       "| 25 | X615_Group9_142dpi_LA_185_G_C1_P120.mzXML  | 615                                        | combo                                      | 142dpi                                     | LA                                         | C1                                         | P120                                       | 0.05254428                                 | 0.05292777                                 | 0.001925590                                | 0.015958452                                | 0.004199913                                |\n",
       "| 26 | X631_Group15_142dpi_LA_191_G_C7_P120.mzXML | 631                                        | BNZ                                        | 142dpi                                     | LA                                         | C7                                         | P120                                       | 0.06045042                                 | 0.05687426                                 | 0.001713204                                | 0.018418201                                | 0.004730012                                |\n",
       "\n"
      ],
      "text/plain": [
       "   filename                                   MouseID Treatmentgroup DPI   \n",
       "21 X611_Group9_142dpi_LA_181_G_B9_P120.mzXML  611     combo          142dpi\n",
       "22 X612_Group9_142dpi_LA_182_G_B10_P120.mzXML 612     combo          142dpi\n",
       "23 X613_Group9_142dpi_LA_183_G_B11_P120.mzXML 613     combo          142dpi\n",
       "24 X614_Group9_142dpi_LA_184_G_B12_P120.mzXML 614     combo          142dpi\n",
       "25 X615_Group9_142dpi_LA_185_G_C1_P120.mzXML  615     combo          142dpi\n",
       "26 X631_Group15_142dpi_LA_191_G_C7_P120.mzXML 631     BNZ            142dpi\n",
       "   organ well_position plate mass_400   mass_500   mass_600    mass_700   \n",
       "21 LA    B9            P120  0.04090417 0.04086484 0.001833863 0.019681270\n",
       "22 LA    B10           P120  0.03745880 0.03019293 0.000729655 0.016872715\n",
       "23 LA    B11           P120  0.02436727 0.02221326 0.000767059 0.003761233\n",
       "24 LA    B12           P120  0.02733701 0.04067116 0.001824565 0.043059272\n",
       "25 LA    C1            P120  0.05254428 0.05292777 0.001925590 0.015958452\n",
       "26 LA    C7            P120  0.06045042 0.05687426 0.001713204 0.018418201\n",
       "   mass_800   \n",
       "21 0.003253505\n",
       "22 0.001582912\n",
       "23 0.004761300\n",
       "24 0.006457442\n",
       "25 0.004199913\n",
       "26 0.004730012"
      ]
     },
     "metadata": {},
     "output_type": "display_data"
    },
    {
     "data": {
      "text/html": [
       "<ol class=list-inline>\n",
       "\t<li>30</li>\n",
       "\t<li>12</li>\n",
       "</ol>\n"
      ],
      "text/latex": [
       "\\begin{enumerate*}\n",
       "\\item 30\n",
       "\\item 12\n",
       "\\end{enumerate*}\n"
      ],
      "text/markdown": [
       "1. 30\n",
       "2. 12\n",
       "\n",
       "\n"
      ],
      "text/plain": [
       "[1] 30 12"
      ]
     },
     "metadata": {},
     "output_type": "display_data"
    }
   ],
   "source": [
    "features_pos<-droplevels(subset(a, a$Treatmentgroup==c(\"combo\")|a$Treatmentgroup==c(\"BNZ\")))\n",
    "head(features_pos)\n",
    "dim(features_pos)"
   ]
  },
  {
   "cell_type": "code",
   "execution_count": 24,
   "metadata": {
    "scrolled": false
   },
   "outputs": [
    {
     "data": {
      "text/html": [
       "<table>\n",
       "<thead><tr><th></th><th scope=col>mass_400</th><th scope=col>mass_500</th><th scope=col>mass_600</th><th scope=col>mass_700</th><th scope=col>mass_800</th></tr></thead>\n",
       "<tbody>\n",
       "\t<tr><th scope=row>21</th><td>0.04090417 </td><td>0.04086484 </td><td>0.001833863</td><td>0.019681270</td><td>0.003253505</td></tr>\n",
       "\t<tr><th scope=row>22</th><td>0.03745880 </td><td>0.03019293 </td><td>0.000729655</td><td>0.016872715</td><td>0.001582912</td></tr>\n",
       "\t<tr><th scope=row>23</th><td>0.02436727 </td><td>0.02221326 </td><td>0.000767059</td><td>0.003761233</td><td>0.004761300</td></tr>\n",
       "\t<tr><th scope=row>24</th><td>0.02733701 </td><td>0.04067116 </td><td>0.001824565</td><td>0.043059272</td><td>0.006457442</td></tr>\n",
       "\t<tr><th scope=row>25</th><td>0.05254428 </td><td>0.05292777 </td><td>0.001925590</td><td>0.015958452</td><td>0.004199913</td></tr>\n",
       "\t<tr><th scope=row>26</th><td>0.06045042 </td><td>0.05687426 </td><td>0.001713204</td><td>0.018418201</td><td>0.004730012</td></tr>\n",
       "</tbody>\n",
       "</table>\n"
      ],
      "text/latex": [
       "\\begin{tabular}{r|lllll}\n",
       "  & mass\\_400 & mass\\_500 & mass\\_600 & mass\\_700 & mass\\_800\\\\\n",
       "\\hline\n",
       "\t21 & 0.04090417  & 0.04086484  & 0.001833863 & 0.019681270 & 0.003253505\\\\\n",
       "\t22 & 0.03745880  & 0.03019293  & 0.000729655 & 0.016872715 & 0.001582912\\\\\n",
       "\t23 & 0.02436727  & 0.02221326  & 0.000767059 & 0.003761233 & 0.004761300\\\\\n",
       "\t24 & 0.02733701  & 0.04067116  & 0.001824565 & 0.043059272 & 0.006457442\\\\\n",
       "\t25 & 0.05254428  & 0.05292777  & 0.001925590 & 0.015958452 & 0.004199913\\\\\n",
       "\t26 & 0.06045042  & 0.05687426  & 0.001713204 & 0.018418201 & 0.004730012\\\\\n",
       "\\end{tabular}\n"
      ],
      "text/markdown": [
       "\n",
       "| <!--/--> | mass_400 | mass_500 | mass_600 | mass_700 | mass_800 |\n",
       "|---|---|---|---|---|---|\n",
       "| 21 | 0.04090417  | 0.04086484  | 0.001833863 | 0.019681270 | 0.003253505 |\n",
       "| 22 | 0.03745880  | 0.03019293  | 0.000729655 | 0.016872715 | 0.001582912 |\n",
       "| 23 | 0.02436727  | 0.02221326  | 0.000767059 | 0.003761233 | 0.004761300 |\n",
       "| 24 | 0.02733701  | 0.04067116  | 0.001824565 | 0.043059272 | 0.006457442 |\n",
       "| 25 | 0.05254428  | 0.05292777  | 0.001925590 | 0.015958452 | 0.004199913 |\n",
       "| 26 | 0.06045042  | 0.05687426  | 0.001713204 | 0.018418201 | 0.004730012 |\n",
       "\n"
      ],
      "text/plain": [
       "   mass_400   mass_500   mass_600    mass_700    mass_800   \n",
       "21 0.04090417 0.04086484 0.001833863 0.019681270 0.003253505\n",
       "22 0.03745880 0.03019293 0.000729655 0.016872715 0.001582912\n",
       "23 0.02436727 0.02221326 0.000767059 0.003761233 0.004761300\n",
       "24 0.02733701 0.04067116 0.001824565 0.043059272 0.006457442\n",
       "25 0.05254428 0.05292777 0.001925590 0.015958452 0.004199913\n",
       "26 0.06045042 0.05687426 0.001713204 0.018418201 0.004730012"
      ]
     },
     "metadata": {},
     "output_type": "display_data"
    },
    {
     "data": {
      "text/html": [
       "<dl class=dl-horizontal>\n",
       "\t<dt>mass_400</dt>\n",
       "\t\t<dd>1</dd>\n",
       "\t<dt>mass_500</dt>\n",
       "\t\t<dd>2</dd>\n",
       "\t<dt>mass_600</dt>\n",
       "\t\t<dd>3</dd>\n",
       "\t<dt>mass_700</dt>\n",
       "\t\t<dd>4</dd>\n",
       "\t<dt>mass_800</dt>\n",
       "\t\t<dd>5</dd>\n",
       "</dl>\n"
      ],
      "text/latex": [
       "\\begin{description*}\n",
       "\\item[mass\\textbackslash{}\\_400] 1\n",
       "\\item[mass\\textbackslash{}\\_500] 2\n",
       "\\item[mass\\textbackslash{}\\_600] 3\n",
       "\\item[mass\\textbackslash{}\\_700] 4\n",
       "\\item[mass\\textbackslash{}\\_800] 5\n",
       "\\end{description*}\n"
      ],
      "text/markdown": [
       "mass_400\n",
       ":   1mass_500\n",
       ":   2mass_600\n",
       ":   3mass_700\n",
       ":   4mass_800\n",
       ":   5\n",
       "\n"
      ],
      "text/plain": [
       "mass_400 mass_500 mass_600 mass_700 mass_800 \n",
       "       1        2        3        4        5 "
      ]
     },
     "metadata": {},
     "output_type": "display_data"
    },
    {
     "data": {
      "text/html": [
       "<table>\n",
       "<thead><tr><th></th><th scope=col>mass_400</th><th scope=col>mass_500</th><th scope=col>mass_600</th><th scope=col>mass_700</th><th scope=col>mass_800</th></tr></thead>\n",
       "<tbody>\n",
       "\t<tr><th scope=row>21</th><td>0.04090417 </td><td>0.04086484 </td><td>0.001833863</td><td>0.019681270</td><td>0.003253505</td></tr>\n",
       "\t<tr><th scope=row>22</th><td>0.03745880 </td><td>0.03019293 </td><td>0.000729655</td><td>0.016872715</td><td>0.001582912</td></tr>\n",
       "\t<tr><th scope=row>23</th><td>0.02436727 </td><td>0.02221326 </td><td>0.000767059</td><td>0.003761233</td><td>0.004761300</td></tr>\n",
       "\t<tr><th scope=row>24</th><td>0.02733701 </td><td>0.04067116 </td><td>0.001824565</td><td>0.043059272</td><td>0.006457442</td></tr>\n",
       "\t<tr><th scope=row>25</th><td>0.05254428 </td><td>0.05292777 </td><td>0.001925590</td><td>0.015958452</td><td>0.004199913</td></tr>\n",
       "\t<tr><th scope=row>26</th><td>0.06045042 </td><td>0.05687426 </td><td>0.001713204</td><td>0.018418201</td><td>0.004730012</td></tr>\n",
       "\t<tr><th scope=row>27</th><td>0.03334279 </td><td>0.02621197 </td><td>0.001083115</td><td>0.006115900</td><td>0.000695699</td></tr>\n",
       "\t<tr><th scope=row>28</th><td>0.01431676 </td><td>0.01317918 </td><td>0.000450513</td><td>0.008860814</td><td>0.000682864</td></tr>\n",
       "\t<tr><th scope=row>29</th><td>0.04583309 </td><td>0.04282591 </td><td>0.000869075</td><td>0.008616020</td><td>0.001352411</td></tr>\n",
       "\t<tr><th scope=row>30</th><td>0.02965343 </td><td>0.02455714 </td><td>0.000923565</td><td>0.007428186</td><td>0.001142302</td></tr>\n",
       "\t<tr><th scope=row>36</th><td>0.02443739 </td><td>0.01810000 </td><td>0.000166151</td><td>0.002717924</td><td>0.000130660</td></tr>\n",
       "\t<tr><th scope=row>37</th><td>0.02263661 </td><td>0.01610000 </td><td>0.000209937</td><td>0.001727406</td><td>0.000309613</td></tr>\n",
       "\t<tr><th scope=row>38</th><td>0.05140107 </td><td>0.04300000 </td><td>0.000740028</td><td>0.018649185</td><td>0.006254547</td></tr>\n",
       "\t<tr><th scope=row>39</th><td>0.08515225 </td><td>0.08102323 </td><td>0.001512400</td><td>0.018566723</td><td>0.009977031</td></tr>\n",
       "\t<tr><th scope=row>40</th><td>0.06436527 </td><td>0.07786635 </td><td>0.001953008</td><td>0.024209967</td><td>0.016252860</td></tr>\n",
       "\t<tr><th scope=row>41</th><td>0.02846705 </td><td>0.02468742 </td><td>0.000918728</td><td>0.011261410</td><td>0.001035564</td></tr>\n",
       "\t<tr><th scope=row>42</th><td>0.02286779 </td><td>0.01966851 </td><td>0.001141363</td><td>0.014767608</td><td>0.000361898</td></tr>\n",
       "\t<tr><th scope=row>43</th><td>0.04003010 </td><td>0.03861101 </td><td>0.001218148</td><td>0.017242408</td><td>0.004010192</td></tr>\n",
       "\t<tr><th scope=row>44</th><td>0.04961880 </td><td>0.04271293 </td><td>0.001244806</td><td>0.014419166</td><td>0.001057862</td></tr>\n",
       "\t<tr><th scope=row>45</th><td>0.04139965 </td><td>0.03231646 </td><td>0.000629551</td><td>0.003524001</td><td>0.000122900</td></tr>\n",
       "\t<tr><th scope=row>51</th><td>0.05398083 </td><td>0.05092429 </td><td>0.001097870</td><td>0.011316390</td><td>0.002592066</td></tr>\n",
       "\t<tr><th scope=row>52</th><td>0.03758543 </td><td>0.02910000 </td><td>0.000534901</td><td>0.004049060</td><td>0.001455022</td></tr>\n",
       "\t<tr><th scope=row>53</th><td>0.05801446 </td><td>0.04132669 </td><td>0.000443594</td><td>0.005711734</td><td>0.000242791</td></tr>\n",
       "\t<tr><th scope=row>54</th><td>0.04413136 </td><td>0.03250000 </td><td>0.000422189</td><td>0.007498225</td><td>0.001662079</td></tr>\n",
       "\t<tr><th scope=row>55</th><td>0.04834261 </td><td>0.04408965 </td><td>0.001632482</td><td>0.032334332</td><td>0.004030879</td></tr>\n",
       "\t<tr><th scope=row>56</th><td>0.02781271 </td><td>0.02644608 </td><td>0.001465661</td><td>0.021111896</td><td>0.002105700</td></tr>\n",
       "\t<tr><th scope=row>57</th><td>0.04510770 </td><td>0.04161915 </td><td>0.002068827</td><td>0.024821172</td><td>0.012098957</td></tr>\n",
       "\t<tr><th scope=row>58</th><td>0.03046450 </td><td>0.02950000 </td><td>0.001322793</td><td>0.027423157</td><td>0.019964856</td></tr>\n",
       "\t<tr><th scope=row>59</th><td>0.01115603 </td><td>0.01130000 </td><td>0.000564150</td><td>0.012900000</td><td>0.002077487</td></tr>\n",
       "\t<tr><th scope=row>60</th><td>0.04011867 </td><td>0.03673042 </td><td>0.001234663</td><td>0.012611782</td><td>0.001824215</td></tr>\n",
       "</tbody>\n",
       "</table>\n"
      ],
      "text/latex": [
       "\\begin{tabular}{r|lllll}\n",
       "  & mass\\_400 & mass\\_500 & mass\\_600 & mass\\_700 & mass\\_800\\\\\n",
       "\\hline\n",
       "\t21 & 0.04090417  & 0.04086484  & 0.001833863 & 0.019681270 & 0.003253505\\\\\n",
       "\t22 & 0.03745880  & 0.03019293  & 0.000729655 & 0.016872715 & 0.001582912\\\\\n",
       "\t23 & 0.02436727  & 0.02221326  & 0.000767059 & 0.003761233 & 0.004761300\\\\\n",
       "\t24 & 0.02733701  & 0.04067116  & 0.001824565 & 0.043059272 & 0.006457442\\\\\n",
       "\t25 & 0.05254428  & 0.05292777  & 0.001925590 & 0.015958452 & 0.004199913\\\\\n",
       "\t26 & 0.06045042  & 0.05687426  & 0.001713204 & 0.018418201 & 0.004730012\\\\\n",
       "\t27 & 0.03334279  & 0.02621197  & 0.001083115 & 0.006115900 & 0.000695699\\\\\n",
       "\t28 & 0.01431676  & 0.01317918  & 0.000450513 & 0.008860814 & 0.000682864\\\\\n",
       "\t29 & 0.04583309  & 0.04282591  & 0.000869075 & 0.008616020 & 0.001352411\\\\\n",
       "\t30 & 0.02965343  & 0.02455714  & 0.000923565 & 0.007428186 & 0.001142302\\\\\n",
       "\t36 & 0.02443739  & 0.01810000  & 0.000166151 & 0.002717924 & 0.000130660\\\\\n",
       "\t37 & 0.02263661  & 0.01610000  & 0.000209937 & 0.001727406 & 0.000309613\\\\\n",
       "\t38 & 0.05140107  & 0.04300000  & 0.000740028 & 0.018649185 & 0.006254547\\\\\n",
       "\t39 & 0.08515225  & 0.08102323  & 0.001512400 & 0.018566723 & 0.009977031\\\\\n",
       "\t40 & 0.06436527  & 0.07786635  & 0.001953008 & 0.024209967 & 0.016252860\\\\\n",
       "\t41 & 0.02846705  & 0.02468742  & 0.000918728 & 0.011261410 & 0.001035564\\\\\n",
       "\t42 & 0.02286779  & 0.01966851  & 0.001141363 & 0.014767608 & 0.000361898\\\\\n",
       "\t43 & 0.04003010  & 0.03861101  & 0.001218148 & 0.017242408 & 0.004010192\\\\\n",
       "\t44 & 0.04961880  & 0.04271293  & 0.001244806 & 0.014419166 & 0.001057862\\\\\n",
       "\t45 & 0.04139965  & 0.03231646  & 0.000629551 & 0.003524001 & 0.000122900\\\\\n",
       "\t51 & 0.05398083  & 0.05092429  & 0.001097870 & 0.011316390 & 0.002592066\\\\\n",
       "\t52 & 0.03758543  & 0.02910000  & 0.000534901 & 0.004049060 & 0.001455022\\\\\n",
       "\t53 & 0.05801446  & 0.04132669  & 0.000443594 & 0.005711734 & 0.000242791\\\\\n",
       "\t54 & 0.04413136  & 0.03250000  & 0.000422189 & 0.007498225 & 0.001662079\\\\\n",
       "\t55 & 0.04834261  & 0.04408965  & 0.001632482 & 0.032334332 & 0.004030879\\\\\n",
       "\t56 & 0.02781271  & 0.02644608  & 0.001465661 & 0.021111896 & 0.002105700\\\\\n",
       "\t57 & 0.04510770  & 0.04161915  & 0.002068827 & 0.024821172 & 0.012098957\\\\\n",
       "\t58 & 0.03046450  & 0.02950000  & 0.001322793 & 0.027423157 & 0.019964856\\\\\n",
       "\t59 & 0.01115603  & 0.01130000  & 0.000564150 & 0.012900000 & 0.002077487\\\\\n",
       "\t60 & 0.04011867  & 0.03673042  & 0.001234663 & 0.012611782 & 0.001824215\\\\\n",
       "\\end{tabular}\n"
      ],
      "text/markdown": [
       "\n",
       "| <!--/--> | mass_400 | mass_500 | mass_600 | mass_700 | mass_800 |\n",
       "|---|---|---|---|---|---|\n",
       "| 21 | 0.04090417  | 0.04086484  | 0.001833863 | 0.019681270 | 0.003253505 |\n",
       "| 22 | 0.03745880  | 0.03019293  | 0.000729655 | 0.016872715 | 0.001582912 |\n",
       "| 23 | 0.02436727  | 0.02221326  | 0.000767059 | 0.003761233 | 0.004761300 |\n",
       "| 24 | 0.02733701  | 0.04067116  | 0.001824565 | 0.043059272 | 0.006457442 |\n",
       "| 25 | 0.05254428  | 0.05292777  | 0.001925590 | 0.015958452 | 0.004199913 |\n",
       "| 26 | 0.06045042  | 0.05687426  | 0.001713204 | 0.018418201 | 0.004730012 |\n",
       "| 27 | 0.03334279  | 0.02621197  | 0.001083115 | 0.006115900 | 0.000695699 |\n",
       "| 28 | 0.01431676  | 0.01317918  | 0.000450513 | 0.008860814 | 0.000682864 |\n",
       "| 29 | 0.04583309  | 0.04282591  | 0.000869075 | 0.008616020 | 0.001352411 |\n",
       "| 30 | 0.02965343  | 0.02455714  | 0.000923565 | 0.007428186 | 0.001142302 |\n",
       "| 36 | 0.02443739  | 0.01810000  | 0.000166151 | 0.002717924 | 0.000130660 |\n",
       "| 37 | 0.02263661  | 0.01610000  | 0.000209937 | 0.001727406 | 0.000309613 |\n",
       "| 38 | 0.05140107  | 0.04300000  | 0.000740028 | 0.018649185 | 0.006254547 |\n",
       "| 39 | 0.08515225  | 0.08102323  | 0.001512400 | 0.018566723 | 0.009977031 |\n",
       "| 40 | 0.06436527  | 0.07786635  | 0.001953008 | 0.024209967 | 0.016252860 |\n",
       "| 41 | 0.02846705  | 0.02468742  | 0.000918728 | 0.011261410 | 0.001035564 |\n",
       "| 42 | 0.02286779  | 0.01966851  | 0.001141363 | 0.014767608 | 0.000361898 |\n",
       "| 43 | 0.04003010  | 0.03861101  | 0.001218148 | 0.017242408 | 0.004010192 |\n",
       "| 44 | 0.04961880  | 0.04271293  | 0.001244806 | 0.014419166 | 0.001057862 |\n",
       "| 45 | 0.04139965  | 0.03231646  | 0.000629551 | 0.003524001 | 0.000122900 |\n",
       "| 51 | 0.05398083  | 0.05092429  | 0.001097870 | 0.011316390 | 0.002592066 |\n",
       "| 52 | 0.03758543  | 0.02910000  | 0.000534901 | 0.004049060 | 0.001455022 |\n",
       "| 53 | 0.05801446  | 0.04132669  | 0.000443594 | 0.005711734 | 0.000242791 |\n",
       "| 54 | 0.04413136  | 0.03250000  | 0.000422189 | 0.007498225 | 0.001662079 |\n",
       "| 55 | 0.04834261  | 0.04408965  | 0.001632482 | 0.032334332 | 0.004030879 |\n",
       "| 56 | 0.02781271  | 0.02644608  | 0.001465661 | 0.021111896 | 0.002105700 |\n",
       "| 57 | 0.04510770  | 0.04161915  | 0.002068827 | 0.024821172 | 0.012098957 |\n",
       "| 58 | 0.03046450  | 0.02950000  | 0.001322793 | 0.027423157 | 0.019964856 |\n",
       "| 59 | 0.01115603  | 0.01130000  | 0.000564150 | 0.012900000 | 0.002077487 |\n",
       "| 60 | 0.04011867  | 0.03673042  | 0.001234663 | 0.012611782 | 0.001824215 |\n",
       "\n"
      ],
      "text/plain": [
       "   mass_400   mass_500   mass_600    mass_700    mass_800   \n",
       "21 0.04090417 0.04086484 0.001833863 0.019681270 0.003253505\n",
       "22 0.03745880 0.03019293 0.000729655 0.016872715 0.001582912\n",
       "23 0.02436727 0.02221326 0.000767059 0.003761233 0.004761300\n",
       "24 0.02733701 0.04067116 0.001824565 0.043059272 0.006457442\n",
       "25 0.05254428 0.05292777 0.001925590 0.015958452 0.004199913\n",
       "26 0.06045042 0.05687426 0.001713204 0.018418201 0.004730012\n",
       "27 0.03334279 0.02621197 0.001083115 0.006115900 0.000695699\n",
       "28 0.01431676 0.01317918 0.000450513 0.008860814 0.000682864\n",
       "29 0.04583309 0.04282591 0.000869075 0.008616020 0.001352411\n",
       "30 0.02965343 0.02455714 0.000923565 0.007428186 0.001142302\n",
       "36 0.02443739 0.01810000 0.000166151 0.002717924 0.000130660\n",
       "37 0.02263661 0.01610000 0.000209937 0.001727406 0.000309613\n",
       "38 0.05140107 0.04300000 0.000740028 0.018649185 0.006254547\n",
       "39 0.08515225 0.08102323 0.001512400 0.018566723 0.009977031\n",
       "40 0.06436527 0.07786635 0.001953008 0.024209967 0.016252860\n",
       "41 0.02846705 0.02468742 0.000918728 0.011261410 0.001035564\n",
       "42 0.02286779 0.01966851 0.001141363 0.014767608 0.000361898\n",
       "43 0.04003010 0.03861101 0.001218148 0.017242408 0.004010192\n",
       "44 0.04961880 0.04271293 0.001244806 0.014419166 0.001057862\n",
       "45 0.04139965 0.03231646 0.000629551 0.003524001 0.000122900\n",
       "51 0.05398083 0.05092429 0.001097870 0.011316390 0.002592066\n",
       "52 0.03758543 0.02910000 0.000534901 0.004049060 0.001455022\n",
       "53 0.05801446 0.04132669 0.000443594 0.005711734 0.000242791\n",
       "54 0.04413136 0.03250000 0.000422189 0.007498225 0.001662079\n",
       "55 0.04834261 0.04408965 0.001632482 0.032334332 0.004030879\n",
       "56 0.02781271 0.02644608 0.001465661 0.021111896 0.002105700\n",
       "57 0.04510770 0.04161915 0.002068827 0.024821172 0.012098957\n",
       "58 0.03046450 0.02950000 0.001322793 0.027423157 0.019964856\n",
       "59 0.01115603 0.01130000 0.000564150 0.012900000 0.002077487\n",
       "60 0.04011867 0.03673042 0.001234663 0.012611782 0.001824215"
      ]
     },
     "metadata": {},
     "output_type": "display_data"
    },
    {
     "data": {
      "text/html": [
       "<table>\n",
       "<thead><tr><th></th><th scope=col>filename</th><th scope=col>MouseID</th><th scope=col>Treatmentgroup</th><th scope=col>DPI</th><th scope=col>organ</th><th scope=col>well_position</th><th scope=col>plate</th><th scope=col>mass_400</th><th scope=col>mass_500</th><th scope=col>mass_600</th><th scope=col>mass_700</th><th scope=col>mass_800</th></tr></thead>\n",
       "<tbody>\n",
       "\t<tr><th scope=row>21</th><td>X611_Group9_142dpi_LA_181_G_B9_P120.mzXML </td><td>611                                       </td><td>combo                                     </td><td>142dpi                                    </td><td>LA                                        </td><td>B9                                        </td><td>P120                                      </td><td>0.04090417                                </td><td>0.04086484                                </td><td>0.001833863                               </td><td>0.019681270                               </td><td>0.003253505                               </td></tr>\n",
       "\t<tr><th scope=row>22</th><td>X612_Group9_142dpi_LA_182_G_B10_P120.mzXML</td><td>612                                       </td><td>combo                                     </td><td>142dpi                                    </td><td>LA                                        </td><td>B10                                       </td><td>P120                                      </td><td>0.03745880                                </td><td>0.03019293                                </td><td>0.000729655                               </td><td>0.016872715                               </td><td>0.001582912                               </td></tr>\n",
       "\t<tr><th scope=row>23</th><td>X613_Group9_142dpi_LA_183_G_B11_P120.mzXML</td><td>613                                       </td><td>combo                                     </td><td>142dpi                                    </td><td>LA                                        </td><td>B11                                       </td><td>P120                                      </td><td>0.02436727                                </td><td>0.02221326                                </td><td>0.000767059                               </td><td>0.003761233                               </td><td>0.004761300                               </td></tr>\n",
       "\t<tr><th scope=row>24</th><td>X614_Group9_142dpi_LA_184_G_B12_P120.mzXML</td><td>614                                       </td><td>combo                                     </td><td>142dpi                                    </td><td>LA                                        </td><td>B12                                       </td><td>P120                                      </td><td>0.02733701                                </td><td>0.04067116                                </td><td>0.001824565                               </td><td>0.043059272                               </td><td>0.006457442                               </td></tr>\n",
       "\t<tr><th scope=row>25</th><td>X615_Group9_142dpi_LA_185_G_C1_P120.mzXML </td><td>615                                       </td><td>combo                                     </td><td>142dpi                                    </td><td>LA                                        </td><td>C1                                        </td><td>P120                                      </td><td>0.05254428                                </td><td>0.05292777                                </td><td>0.001925590                               </td><td>0.015958452                               </td><td>0.004199913                               </td></tr>\n",
       "\t<tr><th scope=row>26</th><td>X631_Group15_142dpi_LA_191_G_C7_P120.mzXML</td><td>631                                       </td><td>BNZ                                       </td><td>142dpi                                    </td><td>LA                                        </td><td>C7                                        </td><td>P120                                      </td><td>0.06045042                                </td><td>0.05687426                                </td><td>0.001713204                               </td><td>0.018418201                               </td><td>0.004730012                               </td></tr>\n",
       "</tbody>\n",
       "</table>\n"
      ],
      "text/latex": [
       "\\begin{tabular}{r|llllllllllll}\n",
       "  & filename & MouseID & Treatmentgroup & DPI & organ & well\\_position & plate & mass\\_400 & mass\\_500 & mass\\_600 & mass\\_700 & mass\\_800\\\\\n",
       "\\hline\n",
       "\t21 & X611\\_Group9\\_142dpi\\_LA\\_181\\_G\\_B9\\_P120.mzXML  & 611                                                      & combo                                                    & 142dpi                                                   & LA                                                       & B9                                                       & P120                                                     & 0.04090417                                               & 0.04086484                                               & 0.001833863                                              & 0.019681270                                              & 0.003253505                                             \\\\\n",
       "\t22 & X612\\_Group9\\_142dpi\\_LA\\_182\\_G\\_B10\\_P120.mzXML & 612                                                      & combo                                                    & 142dpi                                                   & LA                                                       & B10                                                      & P120                                                     & 0.03745880                                               & 0.03019293                                               & 0.000729655                                              & 0.016872715                                              & 0.001582912                                             \\\\\n",
       "\t23 & X613\\_Group9\\_142dpi\\_LA\\_183\\_G\\_B11\\_P120.mzXML & 613                                                      & combo                                                    & 142dpi                                                   & LA                                                       & B11                                                      & P120                                                     & 0.02436727                                               & 0.02221326                                               & 0.000767059                                              & 0.003761233                                              & 0.004761300                                             \\\\\n",
       "\t24 & X614\\_Group9\\_142dpi\\_LA\\_184\\_G\\_B12\\_P120.mzXML & 614                                                      & combo                                                    & 142dpi                                                   & LA                                                       & B12                                                      & P120                                                     & 0.02733701                                               & 0.04067116                                               & 0.001824565                                              & 0.043059272                                              & 0.006457442                                             \\\\\n",
       "\t25 & X615\\_Group9\\_142dpi\\_LA\\_185\\_G\\_C1\\_P120.mzXML  & 615                                                      & combo                                                    & 142dpi                                                   & LA                                                       & C1                                                       & P120                                                     & 0.05254428                                               & 0.05292777                                               & 0.001925590                                              & 0.015958452                                              & 0.004199913                                             \\\\\n",
       "\t26 & X631\\_Group15\\_142dpi\\_LA\\_191\\_G\\_C7\\_P120.mzXML & 631                                                      & BNZ                                                      & 142dpi                                                   & LA                                                       & C7                                                       & P120                                                     & 0.06045042                                               & 0.05687426                                               & 0.001713204                                              & 0.018418201                                              & 0.004730012                                             \\\\\n",
       "\\end{tabular}\n"
      ],
      "text/markdown": [
       "\n",
       "| <!--/--> | filename | MouseID | Treatmentgroup | DPI | organ | well_position | plate | mass_400 | mass_500 | mass_600 | mass_700 | mass_800 |\n",
       "|---|---|---|---|---|---|---|---|---|---|---|---|---|\n",
       "| 21 | X611_Group9_142dpi_LA_181_G_B9_P120.mzXML  | 611                                        | combo                                      | 142dpi                                     | LA                                         | B9                                         | P120                                       | 0.04090417                                 | 0.04086484                                 | 0.001833863                                | 0.019681270                                | 0.003253505                                |\n",
       "| 22 | X612_Group9_142dpi_LA_182_G_B10_P120.mzXML | 612                                        | combo                                      | 142dpi                                     | LA                                         | B10                                        | P120                                       | 0.03745880                                 | 0.03019293                                 | 0.000729655                                | 0.016872715                                | 0.001582912                                |\n",
       "| 23 | X613_Group9_142dpi_LA_183_G_B11_P120.mzXML | 613                                        | combo                                      | 142dpi                                     | LA                                         | B11                                        | P120                                       | 0.02436727                                 | 0.02221326                                 | 0.000767059                                | 0.003761233                                | 0.004761300                                |\n",
       "| 24 | X614_Group9_142dpi_LA_184_G_B12_P120.mzXML | 614                                        | combo                                      | 142dpi                                     | LA                                         | B12                                        | P120                                       | 0.02733701                                 | 0.04067116                                 | 0.001824565                                | 0.043059272                                | 0.006457442                                |\n",
       "| 25 | X615_Group9_142dpi_LA_185_G_C1_P120.mzXML  | 615                                        | combo                                      | 142dpi                                     | LA                                         | C1                                         | P120                                       | 0.05254428                                 | 0.05292777                                 | 0.001925590                                | 0.015958452                                | 0.004199913                                |\n",
       "| 26 | X631_Group15_142dpi_LA_191_G_C7_P120.mzXML | 631                                        | BNZ                                        | 142dpi                                     | LA                                         | C7                                         | P120                                       | 0.06045042                                 | 0.05687426                                 | 0.001713204                                | 0.018418201                                | 0.004730012                                |\n",
       "\n"
      ],
      "text/plain": [
       "   filename                                   MouseID Treatmentgroup DPI   \n",
       "21 X611_Group9_142dpi_LA_181_G_B9_P120.mzXML  611     combo          142dpi\n",
       "22 X612_Group9_142dpi_LA_182_G_B10_P120.mzXML 612     combo          142dpi\n",
       "23 X613_Group9_142dpi_LA_183_G_B11_P120.mzXML 613     combo          142dpi\n",
       "24 X614_Group9_142dpi_LA_184_G_B12_P120.mzXML 614     combo          142dpi\n",
       "25 X615_Group9_142dpi_LA_185_G_C1_P120.mzXML  615     combo          142dpi\n",
       "26 X631_Group15_142dpi_LA_191_G_C7_P120.mzXML 631     BNZ            142dpi\n",
       "   organ well_position plate mass_400   mass_500   mass_600    mass_700   \n",
       "21 LA    B9            P120  0.04090417 0.04086484 0.001833863 0.019681270\n",
       "22 LA    B10           P120  0.03745880 0.03019293 0.000729655 0.016872715\n",
       "23 LA    B11           P120  0.02436727 0.02221326 0.000767059 0.003761233\n",
       "24 LA    B12           P120  0.02733701 0.04067116 0.001824565 0.043059272\n",
       "25 LA    C1            P120  0.05254428 0.05292777 0.001925590 0.015958452\n",
       "26 LA    C7            P120  0.06045042 0.05687426 0.001713204 0.018418201\n",
       "   mass_800   \n",
       "21 0.003253505\n",
       "22 0.001582912\n",
       "23 0.004761300\n",
       "24 0.006457442\n",
       "25 0.004199913\n",
       "26 0.004730012"
      ]
     },
     "metadata": {},
     "output_type": "display_data"
    },
    {
     "data": {
      "text/html": [
       "<ol class=list-inline>\n",
       "\t<li>30</li>\n",
       "\t<li>12</li>\n",
       "</ol>\n"
      ],
      "text/latex": [
       "\\begin{enumerate*}\n",
       "\\item 30\n",
       "\\item 12\n",
       "\\end{enumerate*}\n"
      ],
      "text/markdown": [
       "1. 30\n",
       "2. 12\n",
       "\n",
       "\n"
      ],
      "text/plain": [
       "[1] 30 12"
      ]
     },
     "metadata": {},
     "output_type": "display_data"
    },
    {
     "data": {
      "text/html": [
       "<ol class=list-inline>\n",
       "\t<li>30</li>\n",
       "\t<li>5</li>\n",
       "</ol>\n"
      ],
      "text/latex": [
       "\\begin{enumerate*}\n",
       "\\item 30\n",
       "\\item 5\n",
       "\\end{enumerate*}\n"
      ],
      "text/markdown": [
       "1. 30\n",
       "2. 5\n",
       "\n",
       "\n"
      ],
      "text/plain": [
       "[1] 30  5"
      ]
     },
     "metadata": {},
     "output_type": "display_data"
    },
    {
     "data": {
      "text/html": [
       "<ol class=list-inline>\n",
       "\t<li>30</li>\n",
       "\t<li>5</li>\n",
       "</ol>\n"
      ],
      "text/latex": [
       "\\begin{enumerate*}\n",
       "\\item 30\n",
       "\\item 5\n",
       "\\end{enumerate*}\n"
      ],
      "text/markdown": [
       "1. 30\n",
       "2. 5\n",
       "\n",
       "\n"
      ],
      "text/plain": [
       "[1] 30  5"
      ]
     },
     "metadata": {},
     "output_type": "display_data"
    },
    {
     "data": {
      "text/html": [
       "<ol class=list-inline>\n",
       "\t<li>30</li>\n",
       "\t<li>12</li>\n",
       "</ol>\n"
      ],
      "text/latex": [
       "\\begin{enumerate*}\n",
       "\\item 30\n",
       "\\item 12\n",
       "\\end{enumerate*}\n"
      ],
      "text/markdown": [
       "1. 30\n",
       "2. 12\n",
       "\n",
       "\n"
      ],
      "text/plain": [
       "[1] 30 12"
      ]
     },
     "metadata": {},
     "output_type": "display_data"
    }
   ],
   "source": [
    "noMeta<-features_pos[,8:12]\n",
    "head(noMeta)\n",
    "not_zero<-which(colSums(noMeta) != 0)\n",
    "head(not_zero)\n",
    "nonzero <- noMeta[, not_zero]\n",
    "nonzero\n",
    "#add back metadata\n",
    "nonzero_wMeta<-cbind(features_pos[,1:7], nonzero)\n",
    "head(nonzero_wMeta)\n",
    "dim(features_pos)\n",
    "dim(noMeta)\n",
    "dim(nonzero)\n",
    "dim(nonzero_wMeta)"
   ]
  },
  {
   "cell_type": "code",
   "execution_count": 25,
   "metadata": {
    "scrolled": true
   },
   "outputs": [
    {
     "data": {
      "text/html": [
       "<ol class=list-inline>\n",
       "\t<li>0.160685472537209</li>\n",
       "\t<li>0.126147401015694</li>\n",
       "\t<li>0.594883930583728</li>\n",
       "\t<li>0.967417297543179</li>\n",
       "\t<li>0.285440870895821</li>\n",
       "</ol>\n"
      ],
      "text/latex": [
       "\\begin{enumerate*}\n",
       "\\item 0.160685472537209\n",
       "\\item 0.126147401015694\n",
       "\\item 0.594883930583728\n",
       "\\item 0.967417297543179\n",
       "\\item 0.285440870895821\n",
       "\\end{enumerate*}\n"
      ],
      "text/markdown": [
       "1. 0.160685472537209\n",
       "2. 0.126147401015694\n",
       "3. 0.594883930583728\n",
       "4. 0.967417297543179\n",
       "5. 0.285440870895821\n",
       "\n",
       "\n"
      ],
      "text/plain": [
       "[1] 0.1606855 0.1261474 0.5948839 0.9674173 0.2854409"
      ]
     },
     "metadata": {},
     "output_type": "display_data"
    },
    {
     "data": {
      "text/html": [
       "<ol class=list-inline>\n",
       "\t<li>0.401713681343023</li>\n",
       "\t<li>0.401713681343023</li>\n",
       "\t<li>0.74360491322966</li>\n",
       "\t<li>0.967417297543179</li>\n",
       "\t<li>0.475734784826369</li>\n",
       "</ol>\n"
      ],
      "text/latex": [
       "\\begin{enumerate*}\n",
       "\\item 0.401713681343023\n",
       "\\item 0.401713681343023\n",
       "\\item 0.74360491322966\n",
       "\\item 0.967417297543179\n",
       "\\item 0.475734784826369\n",
       "\\end{enumerate*}\n"
      ],
      "text/markdown": [
       "1. 0.401713681343023\n",
       "2. 0.401713681343023\n",
       "3. 0.74360491322966\n",
       "4. 0.967417297543179\n",
       "5. 0.475734784826369\n",
       "\n",
       "\n"
      ],
      "text/plain": [
       "[1] 0.4017137 0.4017137 0.7436049 0.9674173 0.4757348"
      ]
     },
     "metadata": {},
     "output_type": "display_data"
    }
   ],
   "source": [
    "pval<-c()\n",
    "\n",
    "for (i in 8:ncol(nonzero_wMeta)) \n",
    "pval<-c(pval,wilcox.test(nonzero_wMeta[,i]~nonzero_wMeta$Treatmentgroup)$p.value)\n",
    "head(pval)\n",
    "pAdj <- p.adjust(pval, method = c(\"fdr\"), n=length(pval)) \n",
    "head(pAdj) \n",
    "\n"
   ]
  },
  {
   "cell_type": "code",
   "execution_count": 26,
   "metadata": {
    "scrolled": true
   },
   "outputs": [
    {
     "data": {
      "text/html": [
       "5"
      ],
      "text/latex": [
       "5"
      ],
      "text/markdown": [
       "5"
      ],
      "text/plain": [
       "[1] 5"
      ]
     },
     "metadata": {},
     "output_type": "display_data"
    }
   ],
   "source": [
    "length(pval)"
   ]
  },
  {
   "cell_type": "code",
   "execution_count": 27,
   "metadata": {
    "scrolled": true
   },
   "outputs": [
    {
     "data": {
      "text/html": [
       "5"
      ],
      "text/latex": [
       "5"
      ],
      "text/markdown": [
       "5"
      ],
      "text/plain": [
       "[1] 5"
      ]
     },
     "metadata": {},
     "output_type": "display_data"
    }
   ],
   "source": [
    "length(pAdj)"
   ]
  },
  {
   "cell_type": "code",
   "execution_count": 28,
   "metadata": {},
   "outputs": [
    {
     "data": {
      "text/html": [
       "<ol class=list-inline>\n",
       "\t<li>2</li>\n",
       "\t<li>5</li>\n",
       "</ol>\n"
      ],
      "text/latex": [
       "\\begin{enumerate*}\n",
       "\\item 2\n",
       "\\item 5\n",
       "\\end{enumerate*}\n"
      ],
      "text/markdown": [
       "1. 2\n",
       "2. 5\n",
       "\n",
       "\n"
      ],
      "text/plain": [
       "[1] 2 5"
      ]
     },
     "metadata": {},
     "output_type": "display_data"
    },
    {
     "data": {
      "text/html": [
       "<table>\n",
       "<thead><tr><th></th><th scope=col>mass_400</th><th scope=col>mass_500</th><th scope=col>mass_600</th></tr></thead>\n",
       "<tbody>\n",
       "\t<tr><th scope=row>BNZ</th><td>0.03470930 </td><td>0.03114936 </td><td>0.001123211</td></tr>\n",
       "\t<tr><th scope=row>combo</th><td>0.04484392 </td><td>0.04139334 </td><td>0.001052886</td></tr>\n",
       "</tbody>\n",
       "</table>\n"
      ],
      "text/latex": [
       "\\begin{tabular}{r|lll}\n",
       "  & mass\\_400 & mass\\_500 & mass\\_600\\\\\n",
       "\\hline\n",
       "\tBNZ & 0.03470930  & 0.03114936  & 0.001123211\\\\\n",
       "\tcombo & 0.04484392  & 0.04139334  & 0.001052886\\\\\n",
       "\\end{tabular}\n"
      ],
      "text/markdown": [
       "\n",
       "| <!--/--> | mass_400 | mass_500 | mass_600 |\n",
       "|---|---|---|---|\n",
       "| BNZ | 0.03470930  | 0.03114936  | 0.001123211 |\n",
       "| combo | 0.04484392  | 0.04139334  | 0.001052886 |\n",
       "\n"
      ],
      "text/plain": [
       "      mass_400   mass_500   mass_600   \n",
       "BNZ   0.03470930 0.03114936 0.001123211\n",
       "combo 0.04484392 0.04139334 0.001052886"
      ]
     },
     "metadata": {},
     "output_type": "display_data"
    },
    {
     "data": {
      "text/html": [
       "<dl class=dl-horizontal>\n",
       "\t<dt>mass_400</dt>\n",
       "\t\t<dd>0.774002307065571</dd>\n",
       "\t<dt>mass_500</dt>\n",
       "\t\t<dd>0.752521024483295</dd>\n",
       "\t<dt>mass_600</dt>\n",
       "\t\t<dd>1.06679228117862</dd>\n",
       "\t<dt>mass_700</dt>\n",
       "\t\t<dd>0.926620310027131</dd>\n",
       "\t<dt>mass_800</dt>\n",
       "\t\t<dd>0.843266460447651</dd>\n",
       "</dl>\n"
      ],
      "text/latex": [
       "\\begin{description*}\n",
       "\\item[mass\\textbackslash{}\\_400] 0.774002307065571\n",
       "\\item[mass\\textbackslash{}\\_500] 0.752521024483295\n",
       "\\item[mass\\textbackslash{}\\_600] 1.06679228117862\n",
       "\\item[mass\\textbackslash{}\\_700] 0.926620310027131\n",
       "\\item[mass\\textbackslash{}\\_800] 0.843266460447651\n",
       "\\end{description*}\n"
      ],
      "text/markdown": [
       "mass_400\n",
       ":   0.774002307065571mass_500\n",
       ":   0.752521024483295mass_600\n",
       ":   1.06679228117862mass_700\n",
       ":   0.926620310027131mass_800\n",
       ":   0.843266460447651\n",
       "\n"
      ],
      "text/plain": [
       " mass_400  mass_500  mass_600  mass_700  mass_800 \n",
       "0.7740023 0.7525210 1.0667923 0.9266203 0.8432665 "
      ]
     },
     "metadata": {},
     "output_type": "display_data"
    },
    {
     "data": {
      "text/html": [
       "<ol class=list-inline>\n",
       "\t<li>'numeric'</li>\n",
       "\t<li>'vector'</li>\n",
       "</ol>\n"
      ],
      "text/latex": [
       "\\begin{enumerate*}\n",
       "\\item 'numeric'\n",
       "\\item 'vector'\n",
       "\\end{enumerate*}\n"
      ],
      "text/markdown": [
       "1. 'numeric'\n",
       "2. 'vector'\n",
       "\n",
       "\n"
      ],
      "text/plain": [
       "[1] \"numeric\" \"vector\" "
      ]
     },
     "metadata": {},
     "output_type": "display_data"
    }
   ],
   "source": [
    "avg<- apply(nonzero_wMeta[,8:ncol(nonzero_wMeta)], 2, function(x) tapply(x, nonzero_wMeta$Treatmentgroup, function(x) mean(x))) \n",
    "\n",
    "dim(avg)\n",
    "\n",
    "avg[,1:3]\n",
    "\n",
    "fch <- apply(avg, 2, function(x) x[1]/x[2])\n",
    "\n",
    "head(fch)\n",
    "is(fch)"
   ]
  },
  {
   "cell_type": "code",
   "execution_count": 29,
   "metadata": {
    "scrolled": true
   },
   "outputs": [
    {
     "data": {
      "text/html": [
       "<dl class=dl-horizontal>\n",
       "\t<dt>mass_400</dt>\n",
       "\t\t<dd>0.774002307065571</dd>\n",
       "\t<dt>mass_500</dt>\n",
       "\t\t<dd>0.752521024483295</dd>\n",
       "\t<dt>mass_600</dt>\n",
       "\t\t<dd>1.06679228117862</dd>\n",
       "\t<dt>mass_700</dt>\n",
       "\t\t<dd>0.926620310027131</dd>\n",
       "\t<dt>mass_800</dt>\n",
       "\t\t<dd>0.843266460447651</dd>\n",
       "</dl>\n"
      ],
      "text/latex": [
       "\\begin{description*}\n",
       "\\item[mass\\textbackslash{}\\_400] 0.774002307065571\n",
       "\\item[mass\\textbackslash{}\\_500] 0.752521024483295\n",
       "\\item[mass\\textbackslash{}\\_600] 1.06679228117862\n",
       "\\item[mass\\textbackslash{}\\_700] 0.926620310027131\n",
       "\\item[mass\\textbackslash{}\\_800] 0.843266460447651\n",
       "\\end{description*}\n"
      ],
      "text/markdown": [
       "mass_400\n",
       ":   0.774002307065571mass_500\n",
       ":   0.752521024483295mass_600\n",
       ":   1.06679228117862mass_700\n",
       ":   0.926620310027131mass_800\n",
       ":   0.843266460447651\n",
       "\n"
      ],
      "text/plain": [
       " mass_400  mass_500  mass_600  mass_700  mass_800 \n",
       "0.7740023 0.7525210 1.0667923 0.9266203 0.8432665 "
      ]
     },
     "metadata": {},
     "output_type": "display_data"
    }
   ],
   "source": [
    "fch"
   ]
  },
  {
   "cell_type": "code",
   "execution_count": 30,
   "metadata": {
    "scrolled": false
   },
   "outputs": [],
   "source": [
    "df <- data.frame(fch,pval, pAdj)\n",
    "write.csv(df, \"PC-treat-LA-wilcox-combo-BNZ.csv\")"
   ]
  },
  {
   "cell_type": "code",
   "execution_count": null,
   "metadata": {},
   "outputs": [],
   "source": []
  },
  {
   "cell_type": "code",
   "execution_count": null,
   "metadata": {},
   "outputs": [],
   "source": []
  },
  {
   "cell_type": "code",
   "execution_count": null,
   "metadata": {},
   "outputs": [],
   "source": []
  },
  {
   "cell_type": "code",
   "execution_count": null,
   "metadata": {},
   "outputs": [],
   "source": []
  },
  {
   "cell_type": "code",
   "execution_count": null,
   "metadata": {},
   "outputs": [],
   "source": []
  },
  {
   "cell_type": "code",
   "execution_count": null,
   "metadata": {},
   "outputs": [],
   "source": []
  }
 ],
 "metadata": {
  "kernelspec": {
   "display_name": "R",
   "language": "R",
   "name": "ir"
  },
  "language_info": {
   "codemirror_mode": "r",
   "file_extension": ".r",
   "mimetype": "text/x-r-source",
   "name": "R",
   "pygments_lexer": "r",
   "version": "3.6.1"
  }
 },
 "nbformat": 4,
 "nbformat_minor": 2
}
