{
 "cells": [
  {
   "cell_type": "code",
   "execution_count": 11,
   "metadata": {},
   "outputs": [],
   "source": [
    "a <- read.csv(\"03172021-PC-time-LA-M-F.csv\")"
   ]
  },
  {
   "cell_type": "code",
   "execution_count": 12,
   "metadata": {},
   "outputs": [
    {
     "data": {
      "text/html": [
       "<table>\n",
       "<thead><tr><th scope=col>filename</th><th scope=col>MouseID</th><th scope=col>Treatmentgroup</th><th scope=col>status</th><th scope=col>DPI</th><th scope=col>organ</th><th scope=col>well_position</th><th scope=col>plate</th><th scope=col>mass_400</th><th scope=col>mass_500</th><th scope=col>mass_600</th><th scope=col>mass_700</th><th scope=col>mass_800</th></tr></thead>\n",
       "<tbody>\n",
       "\t<tr><td>X501_Group1A_50dpi_LA_251_B_A1_P121.mzXML</td><td>501                                      </td><td>Group1A                                  </td><td>naive                                    </td><td>50                                       </td><td>LA                                       </td><td>A1                                       </td><td>P121                                     </td><td>0.03680541                               </td><td>0.05720000                               </td><td>0.000760560                              </td><td>0.03120538                               </td><td>0.002291347                              </td></tr>\n",
       "\t<tr><td>X502_Group1A_50dpi_LA_252_B_A2_P121.mzXML</td><td>502                                      </td><td>Group1A                                  </td><td>naive                                    </td><td>50                                       </td><td>LA                                       </td><td>A2                                       </td><td>P121                                     </td><td>0.05030247                               </td><td>0.05579971                               </td><td>0.001677424                              </td><td>0.04250978                               </td><td>0.015692309                              </td></tr>\n",
       "\t<tr><td>X503_Group1A_50dpi_LA_253_B_A3_P121.mzXML</td><td>503                                      </td><td>Group1A                                  </td><td>naive                                    </td><td>50                                       </td><td>LA                                       </td><td>A3                                       </td><td>P121                                     </td><td>0.04431684                               </td><td>0.05170000                               </td><td>0.000937343                              </td><td>0.04018191                               </td><td>0.012112645                              </td></tr>\n",
       "\t<tr><td>X504_Group1A_50dpi_LA_254_B_A4_P121.mzXML</td><td>504                                      </td><td>Group1A                                  </td><td>naive                                    </td><td>50                                       </td><td>LA                                       </td><td>A4                                       </td><td>P121                                     </td><td>0.01793115                               </td><td>0.03130000                               </td><td>0.001254220                              </td><td>0.04100662                               </td><td>0.011346929                              </td></tr>\n",
       "\t<tr><td>X505_Group1A_50dpi_LA_255_B_A5_P121.mzXML</td><td>505                                      </td><td>Group1A                                  </td><td>naive                                    </td><td>50                                       </td><td>LA                                       </td><td>A5                                       </td><td>P121                                     </td><td>0.06151622                               </td><td>0.08590000                               </td><td>0.001179035                              </td><td>0.01776781                               </td><td>0.013053424                              </td></tr>\n",
       "\t<tr><td>X521_Group1A_50dpi_LA_256_B_A6_P121.mzXML</td><td>521                                      </td><td>Group1A                                  </td><td>naive                                    </td><td>50                                       </td><td>LA                                       </td><td>A6                                       </td><td>P121                                     </td><td>0.05923037                               </td><td>0.07050000                               </td><td>0.001097703                              </td><td>0.02581648                               </td><td>0.011216905                              </td></tr>\n",
       "</tbody>\n",
       "</table>\n"
      ],
      "text/latex": [
       "\\begin{tabular}{r|lllllllllllll}\n",
       " filename & MouseID & Treatmentgroup & status & DPI & organ & well\\_position & plate & mass\\_400 & mass\\_500 & mass\\_600 & mass\\_700 & mass\\_800\\\\\n",
       "\\hline\n",
       "\t X501\\_Group1A\\_50dpi\\_LA\\_251\\_B\\_A1\\_P121.mzXML & 501                                                     & Group1A                                                 & naive                                                   & 50                                                      & LA                                                      & A1                                                      & P121                                                    & 0.03680541                                              & 0.05720000                                              & 0.000760560                                             & 0.03120538                                              & 0.002291347                                            \\\\\n",
       "\t X502\\_Group1A\\_50dpi\\_LA\\_252\\_B\\_A2\\_P121.mzXML & 502                                                     & Group1A                                                 & naive                                                   & 50                                                      & LA                                                      & A2                                                      & P121                                                    & 0.05030247                                              & 0.05579971                                              & 0.001677424                                             & 0.04250978                                              & 0.015692309                                            \\\\\n",
       "\t X503\\_Group1A\\_50dpi\\_LA\\_253\\_B\\_A3\\_P121.mzXML & 503                                                     & Group1A                                                 & naive                                                   & 50                                                      & LA                                                      & A3                                                      & P121                                                    & 0.04431684                                              & 0.05170000                                              & 0.000937343                                             & 0.04018191                                              & 0.012112645                                            \\\\\n",
       "\t X504\\_Group1A\\_50dpi\\_LA\\_254\\_B\\_A4\\_P121.mzXML & 504                                                     & Group1A                                                 & naive                                                   & 50                                                      & LA                                                      & A4                                                      & P121                                                    & 0.01793115                                              & 0.03130000                                              & 0.001254220                                             & 0.04100662                                              & 0.011346929                                            \\\\\n",
       "\t X505\\_Group1A\\_50dpi\\_LA\\_255\\_B\\_A5\\_P121.mzXML & 505                                                     & Group1A                                                 & naive                                                   & 50                                                      & LA                                                      & A5                                                      & P121                                                    & 0.06151622                                              & 0.08590000                                              & 0.001179035                                             & 0.01776781                                              & 0.013053424                                            \\\\\n",
       "\t X521\\_Group1A\\_50dpi\\_LA\\_256\\_B\\_A6\\_P121.mzXML & 521                                                     & Group1A                                                 & naive                                                   & 50                                                      & LA                                                      & A6                                                      & P121                                                    & 0.05923037                                              & 0.07050000                                              & 0.001097703                                             & 0.02581648                                              & 0.011216905                                            \\\\\n",
       "\\end{tabular}\n"
      ],
      "text/markdown": [
       "\n",
       "| filename | MouseID | Treatmentgroup | status | DPI | organ | well_position | plate | mass_400 | mass_500 | mass_600 | mass_700 | mass_800 |\n",
       "|---|---|---|---|---|---|---|---|---|---|---|---|---|\n",
       "| X501_Group1A_50dpi_LA_251_B_A1_P121.mzXML | 501                                       | Group1A                                   | naive                                     | 50                                        | LA                                        | A1                                        | P121                                      | 0.03680541                                | 0.05720000                                | 0.000760560                               | 0.03120538                                | 0.002291347                               |\n",
       "| X502_Group1A_50dpi_LA_252_B_A2_P121.mzXML | 502                                       | Group1A                                   | naive                                     | 50                                        | LA                                        | A2                                        | P121                                      | 0.05030247                                | 0.05579971                                | 0.001677424                               | 0.04250978                                | 0.015692309                               |\n",
       "| X503_Group1A_50dpi_LA_253_B_A3_P121.mzXML | 503                                       | Group1A                                   | naive                                     | 50                                        | LA                                        | A3                                        | P121                                      | 0.04431684                                | 0.05170000                                | 0.000937343                               | 0.04018191                                | 0.012112645                               |\n",
       "| X504_Group1A_50dpi_LA_254_B_A4_P121.mzXML | 504                                       | Group1A                                   | naive                                     | 50                                        | LA                                        | A4                                        | P121                                      | 0.01793115                                | 0.03130000                                | 0.001254220                               | 0.04100662                                | 0.011346929                               |\n",
       "| X505_Group1A_50dpi_LA_255_B_A5_P121.mzXML | 505                                       | Group1A                                   | naive                                     | 50                                        | LA                                        | A5                                        | P121                                      | 0.06151622                                | 0.08590000                                | 0.001179035                               | 0.01776781                                | 0.013053424                               |\n",
       "| X521_Group1A_50dpi_LA_256_B_A6_P121.mzXML | 521                                       | Group1A                                   | naive                                     | 50                                        | LA                                        | A6                                        | P121                                      | 0.05923037                                | 0.07050000                                | 0.001097703                               | 0.02581648                                | 0.011216905                               |\n",
       "\n"
      ],
      "text/plain": [
       "  filename                                  MouseID Treatmentgroup status DPI\n",
       "1 X501_Group1A_50dpi_LA_251_B_A1_P121.mzXML 501     Group1A        naive  50 \n",
       "2 X502_Group1A_50dpi_LA_252_B_A2_P121.mzXML 502     Group1A        naive  50 \n",
       "3 X503_Group1A_50dpi_LA_253_B_A3_P121.mzXML 503     Group1A        naive  50 \n",
       "4 X504_Group1A_50dpi_LA_254_B_A4_P121.mzXML 504     Group1A        naive  50 \n",
       "5 X505_Group1A_50dpi_LA_255_B_A5_P121.mzXML 505     Group1A        naive  50 \n",
       "6 X521_Group1A_50dpi_LA_256_B_A6_P121.mzXML 521     Group1A        naive  50 \n",
       "  organ well_position plate mass_400   mass_500   mass_600    mass_700  \n",
       "1 LA    A1            P121  0.03680541 0.05720000 0.000760560 0.03120538\n",
       "2 LA    A2            P121  0.05030247 0.05579971 0.001677424 0.04250978\n",
       "3 LA    A3            P121  0.04431684 0.05170000 0.000937343 0.04018191\n",
       "4 LA    A4            P121  0.01793115 0.03130000 0.001254220 0.04100662\n",
       "5 LA    A5            P121  0.06151622 0.08590000 0.001179035 0.01776781\n",
       "6 LA    A6            P121  0.05923037 0.07050000 0.001097703 0.02581648\n",
       "  mass_800   \n",
       "1 0.002291347\n",
       "2 0.015692309\n",
       "3 0.012112645\n",
       "4 0.011346929\n",
       "5 0.013053424\n",
       "6 0.011216905"
      ]
     },
     "metadata": {},
     "output_type": "display_data"
    },
    {
     "data": {
      "text/html": [
       "<ol class=list-inline>\n",
       "\t<li>90</li>\n",
       "\t<li>13</li>\n",
       "</ol>\n"
      ],
      "text/latex": [
       "\\begin{enumerate*}\n",
       "\\item 90\n",
       "\\item 13\n",
       "\\end{enumerate*}\n"
      ],
      "text/markdown": [
       "1. 90\n",
       "2. 13\n",
       "\n",
       "\n"
      ],
      "text/plain": [
       "[1] 90 13"
      ]
     },
     "metadata": {},
     "output_type": "display_data"
    }
   ],
   "source": [
    "head(a)\n",
    "dim(a)"
   ]
  },
  {
   "cell_type": "code",
   "execution_count": 13,
   "metadata": {},
   "outputs": [
    {
     "data": {
      "text/html": [
       "<table>\n",
       "<thead><tr><th></th><th scope=col>filename</th><th scope=col>MouseID</th><th scope=col>Treatmentgroup</th><th scope=col>status</th><th scope=col>DPI</th><th scope=col>organ</th><th scope=col>well_position</th><th scope=col>plate</th><th scope=col>mass_400</th><th scope=col>mass_500</th><th scope=col>mass_600</th><th scope=col>mass_700</th><th scope=col>mass_800</th></tr></thead>\n",
       "<tbody>\n",
       "\t<tr><th scope=row>16</th><td>X506_Group1B_70dpi_LA_281_B_C7_P121.mzXML </td><td>506                                       </td><td>Group1B                                   </td><td>naive                                     </td><td>75                                        </td><td>LA                                        </td><td>C7                                        </td><td>P121                                      </td><td>0.03416115                                </td><td>0.06455790                                </td><td>0.000556131                               </td><td>0.043529860                               </td><td>0.017244881                               </td></tr>\n",
       "\t<tr><th scope=row>17</th><td>X507_Group1B_70dpi_LA_282_B_C8_P121.mzXML </td><td>507                                       </td><td>Group1B                                   </td><td>naive                                     </td><td>75                                        </td><td>LA                                        </td><td>C8                                        </td><td>P121                                      </td><td>0.05146546                                </td><td>0.04839855                                </td><td>0.001154099                               </td><td>0.031223514                               </td><td>0.009250843                               </td></tr>\n",
       "\t<tr><th scope=row>18</th><td>X508_Group1B_70dpi_LA_283_B_C9_P121.mzXML </td><td>508                                       </td><td>Group1B                                   </td><td>naive                                     </td><td>75                                        </td><td>LA                                        </td><td>C9                                        </td><td>P121                                      </td><td>0.03413550                                </td><td>0.03480000                                </td><td>0.001034894                               </td><td>0.005573955                               </td><td>0.000000000                               </td></tr>\n",
       "\t<tr><th scope=row>19</th><td>X509_Group1B_70dpi_LA_284_B_C10_P121.mzXML</td><td>509                                       </td><td>Group1B                                   </td><td>naive                                     </td><td>75                                        </td><td>LA                                        </td><td>C10                                       </td><td>P121                                      </td><td>0.04481690                                </td><td>0.07100000                                </td><td>0.001274772                               </td><td>0.057401374                               </td><td>0.023490219                               </td></tr>\n",
       "\t<tr><th scope=row>20</th><td>X510_Group1B_70dpi_LA_285_B_C11_P121.mzXML</td><td>510                                       </td><td>Group1B                                   </td><td>naive                                     </td><td>75                                        </td><td>LA                                        </td><td>C11                                       </td><td>P121                                      </td><td>0.04007528                                </td><td>0.04441967                                </td><td>0.000851339                               </td><td>0.024014018                               </td><td>0.003751892                               </td></tr>\n",
       "\t<tr><th scope=row>21</th><td>X526_Group1B_70dpi_LA_286_B_C12_P121.mzXML</td><td>526                                       </td><td>Group1B                                   </td><td>naive                                     </td><td>75                                        </td><td>LA                                        </td><td>C12                                       </td><td>P121                                      </td><td>0.05630890                                </td><td>0.06030000                                </td><td>0.000635305                               </td><td>0.020958845                               </td><td>0.005377992                               </td></tr>\n",
       "</tbody>\n",
       "</table>\n"
      ],
      "text/latex": [
       "\\begin{tabular}{r|lllllllllllll}\n",
       "  & filename & MouseID & Treatmentgroup & status & DPI & organ & well\\_position & plate & mass\\_400 & mass\\_500 & mass\\_600 & mass\\_700 & mass\\_800\\\\\n",
       "\\hline\n",
       "\t16 & X506\\_Group1B\\_70dpi\\_LA\\_281\\_B\\_C7\\_P121.mzXML  & 506                                                      & Group1B                                                  & naive                                                    & 75                                                       & LA                                                       & C7                                                       & P121                                                     & 0.03416115                                               & 0.06455790                                               & 0.000556131                                              & 0.043529860                                              & 0.017244881                                             \\\\\n",
       "\t17 & X507\\_Group1B\\_70dpi\\_LA\\_282\\_B\\_C8\\_P121.mzXML  & 507                                                      & Group1B                                                  & naive                                                    & 75                                                       & LA                                                       & C8                                                       & P121                                                     & 0.05146546                                               & 0.04839855                                               & 0.001154099                                              & 0.031223514                                              & 0.009250843                                             \\\\\n",
       "\t18 & X508\\_Group1B\\_70dpi\\_LA\\_283\\_B\\_C9\\_P121.mzXML  & 508                                                      & Group1B                                                  & naive                                                    & 75                                                       & LA                                                       & C9                                                       & P121                                                     & 0.03413550                                               & 0.03480000                                               & 0.001034894                                              & 0.005573955                                              & 0.000000000                                             \\\\\n",
       "\t19 & X509\\_Group1B\\_70dpi\\_LA\\_284\\_B\\_C10\\_P121.mzXML & 509                                                      & Group1B                                                  & naive                                                    & 75                                                       & LA                                                       & C10                                                      & P121                                                     & 0.04481690                                               & 0.07100000                                               & 0.001274772                                              & 0.057401374                                              & 0.023490219                                             \\\\\n",
       "\t20 & X510\\_Group1B\\_70dpi\\_LA\\_285\\_B\\_C11\\_P121.mzXML & 510                                                      & Group1B                                                  & naive                                                    & 75                                                       & LA                                                       & C11                                                      & P121                                                     & 0.04007528                                               & 0.04441967                                               & 0.000851339                                              & 0.024014018                                              & 0.003751892                                             \\\\\n",
       "\t21 & X526\\_Group1B\\_70dpi\\_LA\\_286\\_B\\_C12\\_P121.mzXML & 526                                                      & Group1B                                                  & naive                                                    & 75                                                       & LA                                                       & C12                                                      & P121                                                     & 0.05630890                                               & 0.06030000                                               & 0.000635305                                              & 0.020958845                                              & 0.005377992                                             \\\\\n",
       "\\end{tabular}\n"
      ],
      "text/markdown": [
       "\n",
       "| <!--/--> | filename | MouseID | Treatmentgroup | status | DPI | organ | well_position | plate | mass_400 | mass_500 | mass_600 | mass_700 | mass_800 |\n",
       "|---|---|---|---|---|---|---|---|---|---|---|---|---|---|\n",
       "| 16 | X506_Group1B_70dpi_LA_281_B_C7_P121.mzXML  | 506                                        | Group1B                                    | naive                                      | 75                                         | LA                                         | C7                                         | P121                                       | 0.03416115                                 | 0.06455790                                 | 0.000556131                                | 0.043529860                                | 0.017244881                                |\n",
       "| 17 | X507_Group1B_70dpi_LA_282_B_C8_P121.mzXML  | 507                                        | Group1B                                    | naive                                      | 75                                         | LA                                         | C8                                         | P121                                       | 0.05146546                                 | 0.04839855                                 | 0.001154099                                | 0.031223514                                | 0.009250843                                |\n",
       "| 18 | X508_Group1B_70dpi_LA_283_B_C9_P121.mzXML  | 508                                        | Group1B                                    | naive                                      | 75                                         | LA                                         | C9                                         | P121                                       | 0.03413550                                 | 0.03480000                                 | 0.001034894                                | 0.005573955                                | 0.000000000                                |\n",
       "| 19 | X509_Group1B_70dpi_LA_284_B_C10_P121.mzXML | 509                                        | Group1B                                    | naive                                      | 75                                         | LA                                         | C10                                        | P121                                       | 0.04481690                                 | 0.07100000                                 | 0.001274772                                | 0.057401374                                | 0.023490219                                |\n",
       "| 20 | X510_Group1B_70dpi_LA_285_B_C11_P121.mzXML | 510                                        | Group1B                                    | naive                                      | 75                                         | LA                                         | C11                                        | P121                                       | 0.04007528                                 | 0.04441967                                 | 0.000851339                                | 0.024014018                                | 0.003751892                                |\n",
       "| 21 | X526_Group1B_70dpi_LA_286_B_C12_P121.mzXML | 526                                        | Group1B                                    | naive                                      | 75                                         | LA                                         | C12                                        | P121                                       | 0.05630890                                 | 0.06030000                                 | 0.000635305                                | 0.020958845                                | 0.005377992                                |\n",
       "\n"
      ],
      "text/plain": [
       "   filename                                   MouseID Treatmentgroup status DPI\n",
       "16 X506_Group1B_70dpi_LA_281_B_C7_P121.mzXML  506     Group1B        naive  75 \n",
       "17 X507_Group1B_70dpi_LA_282_B_C8_P121.mzXML  507     Group1B        naive  75 \n",
       "18 X508_Group1B_70dpi_LA_283_B_C9_P121.mzXML  508     Group1B        naive  75 \n",
       "19 X509_Group1B_70dpi_LA_284_B_C10_P121.mzXML 509     Group1B        naive  75 \n",
       "20 X510_Group1B_70dpi_LA_285_B_C11_P121.mzXML 510     Group1B        naive  75 \n",
       "21 X526_Group1B_70dpi_LA_286_B_C12_P121.mzXML 526     Group1B        naive  75 \n",
       "   organ well_position plate mass_400   mass_500   mass_600    mass_700   \n",
       "16 LA    C7            P121  0.03416115 0.06455790 0.000556131 0.043529860\n",
       "17 LA    C8            P121  0.05146546 0.04839855 0.001154099 0.031223514\n",
       "18 LA    C9            P121  0.03413550 0.03480000 0.001034894 0.005573955\n",
       "19 LA    C10           P121  0.04481690 0.07100000 0.001274772 0.057401374\n",
       "20 LA    C11           P121  0.04007528 0.04441967 0.000851339 0.024014018\n",
       "21 LA    C12           P121  0.05630890 0.06030000 0.000635305 0.020958845\n",
       "   mass_800   \n",
       "16 0.017244881\n",
       "17 0.009250843\n",
       "18 0.000000000\n",
       "19 0.023490219\n",
       "20 0.003751892\n",
       "21 0.005377992"
      ]
     },
     "metadata": {},
     "output_type": "display_data"
    },
    {
     "data": {
      "text/html": [
       "<ol class=list-inline>\n",
       "\t<li>30</li>\n",
       "\t<li>13</li>\n",
       "</ol>\n"
      ],
      "text/latex": [
       "\\begin{enumerate*}\n",
       "\\item 30\n",
       "\\item 13\n",
       "\\end{enumerate*}\n"
      ],
      "text/markdown": [
       "1. 30\n",
       "2. 13\n",
       "\n",
       "\n"
      ],
      "text/plain": [
       "[1] 30 13"
      ]
     },
     "metadata": {},
     "output_type": "display_data"
    }
   ],
   "source": [
    "features_pos<-droplevels(subset(a, a$Treatmentgroup==c(\"Group1B\")|a$Treatmentgroup==c(\"Group3B\")))\n",
    "head(features_pos)\n",
    "dim(features_pos)"
   ]
  },
  {
   "cell_type": "code",
   "execution_count": 14,
   "metadata": {
    "scrolled": false
   },
   "outputs": [
    {
     "data": {
      "text/html": [
       "<table>\n",
       "<thead><tr><th></th><th scope=col>mass_400</th><th scope=col>mass_500</th><th scope=col>mass_600</th><th scope=col>mass_700</th><th scope=col>mass_800</th></tr></thead>\n",
       "<tbody>\n",
       "\t<tr><th scope=row>16</th><td>0.03416115 </td><td>0.06455790 </td><td>0.000556131</td><td>0.043529860</td><td>0.017244881</td></tr>\n",
       "\t<tr><th scope=row>17</th><td>0.05146546 </td><td>0.04839855 </td><td>0.001154099</td><td>0.031223514</td><td>0.009250843</td></tr>\n",
       "\t<tr><th scope=row>18</th><td>0.03413550 </td><td>0.03480000 </td><td>0.001034894</td><td>0.005573955</td><td>0.000000000</td></tr>\n",
       "\t<tr><th scope=row>19</th><td>0.04481690 </td><td>0.07100000 </td><td>0.001274772</td><td>0.057401374</td><td>0.023490219</td></tr>\n",
       "\t<tr><th scope=row>20</th><td>0.04007528 </td><td>0.04441967 </td><td>0.000851339</td><td>0.024014018</td><td>0.003751892</td></tr>\n",
       "\t<tr><th scope=row>21</th><td>0.05630890 </td><td>0.06030000 </td><td>0.000635305</td><td>0.020958845</td><td>0.005377992</td></tr>\n",
       "</tbody>\n",
       "</table>\n"
      ],
      "text/latex": [
       "\\begin{tabular}{r|lllll}\n",
       "  & mass\\_400 & mass\\_500 & mass\\_600 & mass\\_700 & mass\\_800\\\\\n",
       "\\hline\n",
       "\t16 & 0.03416115  & 0.06455790  & 0.000556131 & 0.043529860 & 0.017244881\\\\\n",
       "\t17 & 0.05146546  & 0.04839855  & 0.001154099 & 0.031223514 & 0.009250843\\\\\n",
       "\t18 & 0.03413550  & 0.03480000  & 0.001034894 & 0.005573955 & 0.000000000\\\\\n",
       "\t19 & 0.04481690  & 0.07100000  & 0.001274772 & 0.057401374 & 0.023490219\\\\\n",
       "\t20 & 0.04007528  & 0.04441967  & 0.000851339 & 0.024014018 & 0.003751892\\\\\n",
       "\t21 & 0.05630890  & 0.06030000  & 0.000635305 & 0.020958845 & 0.005377992\\\\\n",
       "\\end{tabular}\n"
      ],
      "text/markdown": [
       "\n",
       "| <!--/--> | mass_400 | mass_500 | mass_600 | mass_700 | mass_800 |\n",
       "|---|---|---|---|---|---|\n",
       "| 16 | 0.03416115  | 0.06455790  | 0.000556131 | 0.043529860 | 0.017244881 |\n",
       "| 17 | 0.05146546  | 0.04839855  | 0.001154099 | 0.031223514 | 0.009250843 |\n",
       "| 18 | 0.03413550  | 0.03480000  | 0.001034894 | 0.005573955 | 0.000000000 |\n",
       "| 19 | 0.04481690  | 0.07100000  | 0.001274772 | 0.057401374 | 0.023490219 |\n",
       "| 20 | 0.04007528  | 0.04441967  | 0.000851339 | 0.024014018 | 0.003751892 |\n",
       "| 21 | 0.05630890  | 0.06030000  | 0.000635305 | 0.020958845 | 0.005377992 |\n",
       "\n"
      ],
      "text/plain": [
       "   mass_400   mass_500   mass_600    mass_700    mass_800   \n",
       "16 0.03416115 0.06455790 0.000556131 0.043529860 0.017244881\n",
       "17 0.05146546 0.04839855 0.001154099 0.031223514 0.009250843\n",
       "18 0.03413550 0.03480000 0.001034894 0.005573955 0.000000000\n",
       "19 0.04481690 0.07100000 0.001274772 0.057401374 0.023490219\n",
       "20 0.04007528 0.04441967 0.000851339 0.024014018 0.003751892\n",
       "21 0.05630890 0.06030000 0.000635305 0.020958845 0.005377992"
      ]
     },
     "metadata": {},
     "output_type": "display_data"
    },
    {
     "data": {
      "text/html": [
       "<dl class=dl-horizontal>\n",
       "\t<dt>mass_400</dt>\n",
       "\t\t<dd>1</dd>\n",
       "\t<dt>mass_500</dt>\n",
       "\t\t<dd>2</dd>\n",
       "\t<dt>mass_600</dt>\n",
       "\t\t<dd>3</dd>\n",
       "\t<dt>mass_700</dt>\n",
       "\t\t<dd>4</dd>\n",
       "\t<dt>mass_800</dt>\n",
       "\t\t<dd>5</dd>\n",
       "</dl>\n"
      ],
      "text/latex": [
       "\\begin{description*}\n",
       "\\item[mass\\textbackslash{}\\_400] 1\n",
       "\\item[mass\\textbackslash{}\\_500] 2\n",
       "\\item[mass\\textbackslash{}\\_600] 3\n",
       "\\item[mass\\textbackslash{}\\_700] 4\n",
       "\\item[mass\\textbackslash{}\\_800] 5\n",
       "\\end{description*}\n"
      ],
      "text/markdown": [
       "mass_400\n",
       ":   1mass_500\n",
       ":   2mass_600\n",
       ":   3mass_700\n",
       ":   4mass_800\n",
       ":   5\n",
       "\n"
      ],
      "text/plain": [
       "mass_400 mass_500 mass_600 mass_700 mass_800 \n",
       "       1        2        3        4        5 "
      ]
     },
     "metadata": {},
     "output_type": "display_data"
    },
    {
     "data": {
      "text/html": [
       "<table>\n",
       "<thead><tr><th></th><th scope=col>mass_400</th><th scope=col>mass_500</th><th scope=col>mass_600</th><th scope=col>mass_700</th><th scope=col>mass_800</th></tr></thead>\n",
       "<tbody>\n",
       "\t<tr><th scope=row>16</th><td>0.034161154</td><td>0.064557895</td><td>0.000556131</td><td>0.043529860</td><td>0.017244881</td></tr>\n",
       "\t<tr><th scope=row>17</th><td>0.051465458</td><td>0.048398551</td><td>0.001154099</td><td>0.031223514</td><td>0.009250843</td></tr>\n",
       "\t<tr><th scope=row>18</th><td>0.034135498</td><td>0.034800000</td><td>0.001034894</td><td>0.005573955</td><td>0.000000000</td></tr>\n",
       "\t<tr><th scope=row>19</th><td>0.044816897</td><td>0.071000000</td><td>0.001274772</td><td>0.057401374</td><td>0.023490219</td></tr>\n",
       "\t<tr><th scope=row>20</th><td>0.040075280</td><td>0.044419666</td><td>0.000851339</td><td>0.024014018</td><td>0.003751892</td></tr>\n",
       "\t<tr><th scope=row>21</th><td>0.056308904</td><td>0.060300000</td><td>0.000635305</td><td>0.020958845</td><td>0.005377992</td></tr>\n",
       "\t<tr><th scope=row>22</th><td>0.026214604</td><td>0.059393948</td><td>0.000774923</td><td>0.046997165</td><td>0.037741827</td></tr>\n",
       "\t<tr><th scope=row>23</th><td>0.054766824</td><td>0.089000000</td><td>0.001489980</td><td>0.041680187</td><td>0.021509723</td></tr>\n",
       "\t<tr><th scope=row>24</th><td>0.028436977</td><td>0.065164822</td><td>0.000998169</td><td>0.025188381</td><td>0.037177033</td></tr>\n",
       "\t<tr><th scope=row>25</th><td>0.051482547</td><td>0.066400000</td><td>0.001052989</td><td>0.030092402</td><td>0.011695014</td></tr>\n",
       "\t<tr><th scope=row>26</th><td>0.015094816</td><td>0.023398115</td><td>0.000959310</td><td>0.004780191</td><td>0.001357013</td></tr>\n",
       "\t<tr><th scope=row>27</th><td>0.042068901</td><td>0.076026825</td><td>0.000473833</td><td>0.024634481</td><td>0.015618344</td></tr>\n",
       "\t<tr><th scope=row>28</th><td>0.001585566</td><td>0.001969961</td><td>0.000000000</td><td>0.006066250</td><td>0.000969327</td></tr>\n",
       "\t<tr><th scope=row>29</th><td>0.034364761</td><td>0.058600000</td><td>0.001036926</td><td>0.023461576</td><td>0.006858481</td></tr>\n",
       "\t<tr><th scope=row>30</th><td>0.029877694</td><td>0.050100000</td><td>0.001198827</td><td>0.036305908</td><td>0.018938770</td></tr>\n",
       "\t<tr><th scope=row>61</th><td>0.058865279</td><td>0.062539834</td><td>0.000402239</td><td>0.031114133</td><td>0.012249781</td></tr>\n",
       "\t<tr><th scope=row>62</th><td>0.034873789</td><td>0.073824271</td><td>0.001004584</td><td>0.032808551</td><td>0.026453407</td></tr>\n",
       "\t<tr><th scope=row>63</th><td>0.049274043</td><td>0.051600000</td><td>0.000716563</td><td>0.030195079</td><td>0.009908311</td></tr>\n",
       "\t<tr><th scope=row>64</th><td>0.045881417</td><td>0.063300000</td><td>0.001039116</td><td>0.037043764</td><td>0.023854888</td></tr>\n",
       "\t<tr><th scope=row>65</th><td>0.037198314</td><td>0.085951367</td><td>0.000773679</td><td>0.054557089</td><td>0.043186810</td></tr>\n",
       "\t<tr><th scope=row>66</th><td>0.051290080</td><td>0.057300000</td><td>0.000447749</td><td>0.016333235</td><td>0.013947132</td></tr>\n",
       "\t<tr><th scope=row>67</th><td>0.059821527</td><td>0.060923352</td><td>0.000912393</td><td>0.007890372</td><td>0.004084779</td></tr>\n",
       "\t<tr><th scope=row>68</th><td>0.083668570</td><td>0.069700000</td><td>0.000628990</td><td>0.009520000</td><td>0.001765354</td></tr>\n",
       "\t<tr><th scope=row>69</th><td>0.118002877</td><td>0.097619220</td><td>0.000946685</td><td>0.010590864</td><td>0.003670062</td></tr>\n",
       "\t<tr><th scope=row>70</th><td>0.108162718</td><td>0.094890208</td><td>0.001965975</td><td>0.008813822</td><td>0.003715759</td></tr>\n",
       "\t<tr><th scope=row>71</th><td>0.064811670</td><td>0.045100000</td><td>0.000175400</td><td>0.009067691</td><td>0.000455753</td></tr>\n",
       "\t<tr><th scope=row>72</th><td>0.026904589</td><td>0.038900000</td><td>0.000793340</td><td>0.024712347</td><td>0.022225766</td></tr>\n",
       "\t<tr><th scope=row>73</th><td>0.048061056</td><td>0.051900000</td><td>0.001362066</td><td>0.026007325</td><td>0.023620513</td></tr>\n",
       "\t<tr><th scope=row>74</th><td>0.049206227</td><td>0.067500000</td><td>0.000731320</td><td>0.028650673</td><td>0.016149931</td></tr>\n",
       "\t<tr><th scope=row>75</th><td>0.055021019</td><td>0.054400000</td><td>0.000770127</td><td>0.009466723</td><td>0.003405159</td></tr>\n",
       "</tbody>\n",
       "</table>\n"
      ],
      "text/latex": [
       "\\begin{tabular}{r|lllll}\n",
       "  & mass\\_400 & mass\\_500 & mass\\_600 & mass\\_700 & mass\\_800\\\\\n",
       "\\hline\n",
       "\t16 & 0.034161154 & 0.064557895 & 0.000556131 & 0.043529860 & 0.017244881\\\\\n",
       "\t17 & 0.051465458 & 0.048398551 & 0.001154099 & 0.031223514 & 0.009250843\\\\\n",
       "\t18 & 0.034135498 & 0.034800000 & 0.001034894 & 0.005573955 & 0.000000000\\\\\n",
       "\t19 & 0.044816897 & 0.071000000 & 0.001274772 & 0.057401374 & 0.023490219\\\\\n",
       "\t20 & 0.040075280 & 0.044419666 & 0.000851339 & 0.024014018 & 0.003751892\\\\\n",
       "\t21 & 0.056308904 & 0.060300000 & 0.000635305 & 0.020958845 & 0.005377992\\\\\n",
       "\t22 & 0.026214604 & 0.059393948 & 0.000774923 & 0.046997165 & 0.037741827\\\\\n",
       "\t23 & 0.054766824 & 0.089000000 & 0.001489980 & 0.041680187 & 0.021509723\\\\\n",
       "\t24 & 0.028436977 & 0.065164822 & 0.000998169 & 0.025188381 & 0.037177033\\\\\n",
       "\t25 & 0.051482547 & 0.066400000 & 0.001052989 & 0.030092402 & 0.011695014\\\\\n",
       "\t26 & 0.015094816 & 0.023398115 & 0.000959310 & 0.004780191 & 0.001357013\\\\\n",
       "\t27 & 0.042068901 & 0.076026825 & 0.000473833 & 0.024634481 & 0.015618344\\\\\n",
       "\t28 & 0.001585566 & 0.001969961 & 0.000000000 & 0.006066250 & 0.000969327\\\\\n",
       "\t29 & 0.034364761 & 0.058600000 & 0.001036926 & 0.023461576 & 0.006858481\\\\\n",
       "\t30 & 0.029877694 & 0.050100000 & 0.001198827 & 0.036305908 & 0.018938770\\\\\n",
       "\t61 & 0.058865279 & 0.062539834 & 0.000402239 & 0.031114133 & 0.012249781\\\\\n",
       "\t62 & 0.034873789 & 0.073824271 & 0.001004584 & 0.032808551 & 0.026453407\\\\\n",
       "\t63 & 0.049274043 & 0.051600000 & 0.000716563 & 0.030195079 & 0.009908311\\\\\n",
       "\t64 & 0.045881417 & 0.063300000 & 0.001039116 & 0.037043764 & 0.023854888\\\\\n",
       "\t65 & 0.037198314 & 0.085951367 & 0.000773679 & 0.054557089 & 0.043186810\\\\\n",
       "\t66 & 0.051290080 & 0.057300000 & 0.000447749 & 0.016333235 & 0.013947132\\\\\n",
       "\t67 & 0.059821527 & 0.060923352 & 0.000912393 & 0.007890372 & 0.004084779\\\\\n",
       "\t68 & 0.083668570 & 0.069700000 & 0.000628990 & 0.009520000 & 0.001765354\\\\\n",
       "\t69 & 0.118002877 & 0.097619220 & 0.000946685 & 0.010590864 & 0.003670062\\\\\n",
       "\t70 & 0.108162718 & 0.094890208 & 0.001965975 & 0.008813822 & 0.003715759\\\\\n",
       "\t71 & 0.064811670 & 0.045100000 & 0.000175400 & 0.009067691 & 0.000455753\\\\\n",
       "\t72 & 0.026904589 & 0.038900000 & 0.000793340 & 0.024712347 & 0.022225766\\\\\n",
       "\t73 & 0.048061056 & 0.051900000 & 0.001362066 & 0.026007325 & 0.023620513\\\\\n",
       "\t74 & 0.049206227 & 0.067500000 & 0.000731320 & 0.028650673 & 0.016149931\\\\\n",
       "\t75 & 0.055021019 & 0.054400000 & 0.000770127 & 0.009466723 & 0.003405159\\\\\n",
       "\\end{tabular}\n"
      ],
      "text/markdown": [
       "\n",
       "| <!--/--> | mass_400 | mass_500 | mass_600 | mass_700 | mass_800 |\n",
       "|---|---|---|---|---|---|\n",
       "| 16 | 0.034161154 | 0.064557895 | 0.000556131 | 0.043529860 | 0.017244881 |\n",
       "| 17 | 0.051465458 | 0.048398551 | 0.001154099 | 0.031223514 | 0.009250843 |\n",
       "| 18 | 0.034135498 | 0.034800000 | 0.001034894 | 0.005573955 | 0.000000000 |\n",
       "| 19 | 0.044816897 | 0.071000000 | 0.001274772 | 0.057401374 | 0.023490219 |\n",
       "| 20 | 0.040075280 | 0.044419666 | 0.000851339 | 0.024014018 | 0.003751892 |\n",
       "| 21 | 0.056308904 | 0.060300000 | 0.000635305 | 0.020958845 | 0.005377992 |\n",
       "| 22 | 0.026214604 | 0.059393948 | 0.000774923 | 0.046997165 | 0.037741827 |\n",
       "| 23 | 0.054766824 | 0.089000000 | 0.001489980 | 0.041680187 | 0.021509723 |\n",
       "| 24 | 0.028436977 | 0.065164822 | 0.000998169 | 0.025188381 | 0.037177033 |\n",
       "| 25 | 0.051482547 | 0.066400000 | 0.001052989 | 0.030092402 | 0.011695014 |\n",
       "| 26 | 0.015094816 | 0.023398115 | 0.000959310 | 0.004780191 | 0.001357013 |\n",
       "| 27 | 0.042068901 | 0.076026825 | 0.000473833 | 0.024634481 | 0.015618344 |\n",
       "| 28 | 0.001585566 | 0.001969961 | 0.000000000 | 0.006066250 | 0.000969327 |\n",
       "| 29 | 0.034364761 | 0.058600000 | 0.001036926 | 0.023461576 | 0.006858481 |\n",
       "| 30 | 0.029877694 | 0.050100000 | 0.001198827 | 0.036305908 | 0.018938770 |\n",
       "| 61 | 0.058865279 | 0.062539834 | 0.000402239 | 0.031114133 | 0.012249781 |\n",
       "| 62 | 0.034873789 | 0.073824271 | 0.001004584 | 0.032808551 | 0.026453407 |\n",
       "| 63 | 0.049274043 | 0.051600000 | 0.000716563 | 0.030195079 | 0.009908311 |\n",
       "| 64 | 0.045881417 | 0.063300000 | 0.001039116 | 0.037043764 | 0.023854888 |\n",
       "| 65 | 0.037198314 | 0.085951367 | 0.000773679 | 0.054557089 | 0.043186810 |\n",
       "| 66 | 0.051290080 | 0.057300000 | 0.000447749 | 0.016333235 | 0.013947132 |\n",
       "| 67 | 0.059821527 | 0.060923352 | 0.000912393 | 0.007890372 | 0.004084779 |\n",
       "| 68 | 0.083668570 | 0.069700000 | 0.000628990 | 0.009520000 | 0.001765354 |\n",
       "| 69 | 0.118002877 | 0.097619220 | 0.000946685 | 0.010590864 | 0.003670062 |\n",
       "| 70 | 0.108162718 | 0.094890208 | 0.001965975 | 0.008813822 | 0.003715759 |\n",
       "| 71 | 0.064811670 | 0.045100000 | 0.000175400 | 0.009067691 | 0.000455753 |\n",
       "| 72 | 0.026904589 | 0.038900000 | 0.000793340 | 0.024712347 | 0.022225766 |\n",
       "| 73 | 0.048061056 | 0.051900000 | 0.001362066 | 0.026007325 | 0.023620513 |\n",
       "| 74 | 0.049206227 | 0.067500000 | 0.000731320 | 0.028650673 | 0.016149931 |\n",
       "| 75 | 0.055021019 | 0.054400000 | 0.000770127 | 0.009466723 | 0.003405159 |\n",
       "\n"
      ],
      "text/plain": [
       "   mass_400    mass_500    mass_600    mass_700    mass_800   \n",
       "16 0.034161154 0.064557895 0.000556131 0.043529860 0.017244881\n",
       "17 0.051465458 0.048398551 0.001154099 0.031223514 0.009250843\n",
       "18 0.034135498 0.034800000 0.001034894 0.005573955 0.000000000\n",
       "19 0.044816897 0.071000000 0.001274772 0.057401374 0.023490219\n",
       "20 0.040075280 0.044419666 0.000851339 0.024014018 0.003751892\n",
       "21 0.056308904 0.060300000 0.000635305 0.020958845 0.005377992\n",
       "22 0.026214604 0.059393948 0.000774923 0.046997165 0.037741827\n",
       "23 0.054766824 0.089000000 0.001489980 0.041680187 0.021509723\n",
       "24 0.028436977 0.065164822 0.000998169 0.025188381 0.037177033\n",
       "25 0.051482547 0.066400000 0.001052989 0.030092402 0.011695014\n",
       "26 0.015094816 0.023398115 0.000959310 0.004780191 0.001357013\n",
       "27 0.042068901 0.076026825 0.000473833 0.024634481 0.015618344\n",
       "28 0.001585566 0.001969961 0.000000000 0.006066250 0.000969327\n",
       "29 0.034364761 0.058600000 0.001036926 0.023461576 0.006858481\n",
       "30 0.029877694 0.050100000 0.001198827 0.036305908 0.018938770\n",
       "61 0.058865279 0.062539834 0.000402239 0.031114133 0.012249781\n",
       "62 0.034873789 0.073824271 0.001004584 0.032808551 0.026453407\n",
       "63 0.049274043 0.051600000 0.000716563 0.030195079 0.009908311\n",
       "64 0.045881417 0.063300000 0.001039116 0.037043764 0.023854888\n",
       "65 0.037198314 0.085951367 0.000773679 0.054557089 0.043186810\n",
       "66 0.051290080 0.057300000 0.000447749 0.016333235 0.013947132\n",
       "67 0.059821527 0.060923352 0.000912393 0.007890372 0.004084779\n",
       "68 0.083668570 0.069700000 0.000628990 0.009520000 0.001765354\n",
       "69 0.118002877 0.097619220 0.000946685 0.010590864 0.003670062\n",
       "70 0.108162718 0.094890208 0.001965975 0.008813822 0.003715759\n",
       "71 0.064811670 0.045100000 0.000175400 0.009067691 0.000455753\n",
       "72 0.026904589 0.038900000 0.000793340 0.024712347 0.022225766\n",
       "73 0.048061056 0.051900000 0.001362066 0.026007325 0.023620513\n",
       "74 0.049206227 0.067500000 0.000731320 0.028650673 0.016149931\n",
       "75 0.055021019 0.054400000 0.000770127 0.009466723 0.003405159"
      ]
     },
     "metadata": {},
     "output_type": "display_data"
    },
    {
     "data": {
      "text/html": [
       "<table>\n",
       "<thead><tr><th></th><th scope=col>filename</th><th scope=col>MouseID</th><th scope=col>Treatmentgroup</th><th scope=col>status</th><th scope=col>DPI</th><th scope=col>organ</th><th scope=col>well_position</th><th scope=col>plate</th><th scope=col>mass_400</th><th scope=col>mass_500</th><th scope=col>mass_600</th><th scope=col>mass_700</th><th scope=col>mass_800</th></tr></thead>\n",
       "<tbody>\n",
       "\t<tr><th scope=row>16</th><td>X506_Group1B_70dpi_LA_281_B_C7_P121.mzXML </td><td>506                                       </td><td>Group1B                                   </td><td>naive                                     </td><td>75                                        </td><td>LA                                        </td><td>C7                                        </td><td>P121                                      </td><td>0.03416115                                </td><td>0.06455790                                </td><td>0.000556131                               </td><td>0.043529860                               </td><td>0.017244881                               </td></tr>\n",
       "\t<tr><th scope=row>17</th><td>X507_Group1B_70dpi_LA_282_B_C8_P121.mzXML </td><td>507                                       </td><td>Group1B                                   </td><td>naive                                     </td><td>75                                        </td><td>LA                                        </td><td>C8                                        </td><td>P121                                      </td><td>0.05146546                                </td><td>0.04839855                                </td><td>0.001154099                               </td><td>0.031223514                               </td><td>0.009250843                               </td></tr>\n",
       "\t<tr><th scope=row>18</th><td>X508_Group1B_70dpi_LA_283_B_C9_P121.mzXML </td><td>508                                       </td><td>Group1B                                   </td><td>naive                                     </td><td>75                                        </td><td>LA                                        </td><td>C9                                        </td><td>P121                                      </td><td>0.03413550                                </td><td>0.03480000                                </td><td>0.001034894                               </td><td>0.005573955                               </td><td>0.000000000                               </td></tr>\n",
       "\t<tr><th scope=row>19</th><td>X509_Group1B_70dpi_LA_284_B_C10_P121.mzXML</td><td>509                                       </td><td>Group1B                                   </td><td>naive                                     </td><td>75                                        </td><td>LA                                        </td><td>C10                                       </td><td>P121                                      </td><td>0.04481690                                </td><td>0.07100000                                </td><td>0.001274772                               </td><td>0.057401374                               </td><td>0.023490219                               </td></tr>\n",
       "\t<tr><th scope=row>20</th><td>X510_Group1B_70dpi_LA_285_B_C11_P121.mzXML</td><td>510                                       </td><td>Group1B                                   </td><td>naive                                     </td><td>75                                        </td><td>LA                                        </td><td>C11                                       </td><td>P121                                      </td><td>0.04007528                                </td><td>0.04441967                                </td><td>0.000851339                               </td><td>0.024014018                               </td><td>0.003751892                               </td></tr>\n",
       "\t<tr><th scope=row>21</th><td>X526_Group1B_70dpi_LA_286_B_C12_P121.mzXML</td><td>526                                       </td><td>Group1B                                   </td><td>naive                                     </td><td>75                                        </td><td>LA                                        </td><td>C12                                       </td><td>P121                                      </td><td>0.05630890                                </td><td>0.06030000                                </td><td>0.000635305                               </td><td>0.020958845                               </td><td>0.005377992                               </td></tr>\n",
       "</tbody>\n",
       "</table>\n"
      ],
      "text/latex": [
       "\\begin{tabular}{r|lllllllllllll}\n",
       "  & filename & MouseID & Treatmentgroup & status & DPI & organ & well\\_position & plate & mass\\_400 & mass\\_500 & mass\\_600 & mass\\_700 & mass\\_800\\\\\n",
       "\\hline\n",
       "\t16 & X506\\_Group1B\\_70dpi\\_LA\\_281\\_B\\_C7\\_P121.mzXML  & 506                                                      & Group1B                                                  & naive                                                    & 75                                                       & LA                                                       & C7                                                       & P121                                                     & 0.03416115                                               & 0.06455790                                               & 0.000556131                                              & 0.043529860                                              & 0.017244881                                             \\\\\n",
       "\t17 & X507\\_Group1B\\_70dpi\\_LA\\_282\\_B\\_C8\\_P121.mzXML  & 507                                                      & Group1B                                                  & naive                                                    & 75                                                       & LA                                                       & C8                                                       & P121                                                     & 0.05146546                                               & 0.04839855                                               & 0.001154099                                              & 0.031223514                                              & 0.009250843                                             \\\\\n",
       "\t18 & X508\\_Group1B\\_70dpi\\_LA\\_283\\_B\\_C9\\_P121.mzXML  & 508                                                      & Group1B                                                  & naive                                                    & 75                                                       & LA                                                       & C9                                                       & P121                                                     & 0.03413550                                               & 0.03480000                                               & 0.001034894                                              & 0.005573955                                              & 0.000000000                                             \\\\\n",
       "\t19 & X509\\_Group1B\\_70dpi\\_LA\\_284\\_B\\_C10\\_P121.mzXML & 509                                                      & Group1B                                                  & naive                                                    & 75                                                       & LA                                                       & C10                                                      & P121                                                     & 0.04481690                                               & 0.07100000                                               & 0.001274772                                              & 0.057401374                                              & 0.023490219                                             \\\\\n",
       "\t20 & X510\\_Group1B\\_70dpi\\_LA\\_285\\_B\\_C11\\_P121.mzXML & 510                                                      & Group1B                                                  & naive                                                    & 75                                                       & LA                                                       & C11                                                      & P121                                                     & 0.04007528                                               & 0.04441967                                               & 0.000851339                                              & 0.024014018                                              & 0.003751892                                             \\\\\n",
       "\t21 & X526\\_Group1B\\_70dpi\\_LA\\_286\\_B\\_C12\\_P121.mzXML & 526                                                      & Group1B                                                  & naive                                                    & 75                                                       & LA                                                       & C12                                                      & P121                                                     & 0.05630890                                               & 0.06030000                                               & 0.000635305                                              & 0.020958845                                              & 0.005377992                                             \\\\\n",
       "\\end{tabular}\n"
      ],
      "text/markdown": [
       "\n",
       "| <!--/--> | filename | MouseID | Treatmentgroup | status | DPI | organ | well_position | plate | mass_400 | mass_500 | mass_600 | mass_700 | mass_800 |\n",
       "|---|---|---|---|---|---|---|---|---|---|---|---|---|---|\n",
       "| 16 | X506_Group1B_70dpi_LA_281_B_C7_P121.mzXML  | 506                                        | Group1B                                    | naive                                      | 75                                         | LA                                         | C7                                         | P121                                       | 0.03416115                                 | 0.06455790                                 | 0.000556131                                | 0.043529860                                | 0.017244881                                |\n",
       "| 17 | X507_Group1B_70dpi_LA_282_B_C8_P121.mzXML  | 507                                        | Group1B                                    | naive                                      | 75                                         | LA                                         | C8                                         | P121                                       | 0.05146546                                 | 0.04839855                                 | 0.001154099                                | 0.031223514                                | 0.009250843                                |\n",
       "| 18 | X508_Group1B_70dpi_LA_283_B_C9_P121.mzXML  | 508                                        | Group1B                                    | naive                                      | 75                                         | LA                                         | C9                                         | P121                                       | 0.03413550                                 | 0.03480000                                 | 0.001034894                                | 0.005573955                                | 0.000000000                                |\n",
       "| 19 | X509_Group1B_70dpi_LA_284_B_C10_P121.mzXML | 509                                        | Group1B                                    | naive                                      | 75                                         | LA                                         | C10                                        | P121                                       | 0.04481690                                 | 0.07100000                                 | 0.001274772                                | 0.057401374                                | 0.023490219                                |\n",
       "| 20 | X510_Group1B_70dpi_LA_285_B_C11_P121.mzXML | 510                                        | Group1B                                    | naive                                      | 75                                         | LA                                         | C11                                        | P121                                       | 0.04007528                                 | 0.04441967                                 | 0.000851339                                | 0.024014018                                | 0.003751892                                |\n",
       "| 21 | X526_Group1B_70dpi_LA_286_B_C12_P121.mzXML | 526                                        | Group1B                                    | naive                                      | 75                                         | LA                                         | C12                                        | P121                                       | 0.05630890                                 | 0.06030000                                 | 0.000635305                                | 0.020958845                                | 0.005377992                                |\n",
       "\n"
      ],
      "text/plain": [
       "   filename                                   MouseID Treatmentgroup status DPI\n",
       "16 X506_Group1B_70dpi_LA_281_B_C7_P121.mzXML  506     Group1B        naive  75 \n",
       "17 X507_Group1B_70dpi_LA_282_B_C8_P121.mzXML  507     Group1B        naive  75 \n",
       "18 X508_Group1B_70dpi_LA_283_B_C9_P121.mzXML  508     Group1B        naive  75 \n",
       "19 X509_Group1B_70dpi_LA_284_B_C10_P121.mzXML 509     Group1B        naive  75 \n",
       "20 X510_Group1B_70dpi_LA_285_B_C11_P121.mzXML 510     Group1B        naive  75 \n",
       "21 X526_Group1B_70dpi_LA_286_B_C12_P121.mzXML 526     Group1B        naive  75 \n",
       "   organ well_position plate mass_400   mass_500   mass_600    mass_700   \n",
       "16 LA    C7            P121  0.03416115 0.06455790 0.000556131 0.043529860\n",
       "17 LA    C8            P121  0.05146546 0.04839855 0.001154099 0.031223514\n",
       "18 LA    C9            P121  0.03413550 0.03480000 0.001034894 0.005573955\n",
       "19 LA    C10           P121  0.04481690 0.07100000 0.001274772 0.057401374\n",
       "20 LA    C11           P121  0.04007528 0.04441967 0.000851339 0.024014018\n",
       "21 LA    C12           P121  0.05630890 0.06030000 0.000635305 0.020958845\n",
       "   mass_800   \n",
       "16 0.017244881\n",
       "17 0.009250843\n",
       "18 0.000000000\n",
       "19 0.023490219\n",
       "20 0.003751892\n",
       "21 0.005377992"
      ]
     },
     "metadata": {},
     "output_type": "display_data"
    },
    {
     "data": {
      "text/html": [
       "<ol class=list-inline>\n",
       "\t<li>30</li>\n",
       "\t<li>13</li>\n",
       "</ol>\n"
      ],
      "text/latex": [
       "\\begin{enumerate*}\n",
       "\\item 30\n",
       "\\item 13\n",
       "\\end{enumerate*}\n"
      ],
      "text/markdown": [
       "1. 30\n",
       "2. 13\n",
       "\n",
       "\n"
      ],
      "text/plain": [
       "[1] 30 13"
      ]
     },
     "metadata": {},
     "output_type": "display_data"
    },
    {
     "data": {
      "text/html": [
       "<ol class=list-inline>\n",
       "\t<li>30</li>\n",
       "\t<li>5</li>\n",
       "</ol>\n"
      ],
      "text/latex": [
       "\\begin{enumerate*}\n",
       "\\item 30\n",
       "\\item 5\n",
       "\\end{enumerate*}\n"
      ],
      "text/markdown": [
       "1. 30\n",
       "2. 5\n",
       "\n",
       "\n"
      ],
      "text/plain": [
       "[1] 30  5"
      ]
     },
     "metadata": {},
     "output_type": "display_data"
    },
    {
     "data": {
      "text/html": [
       "<ol class=list-inline>\n",
       "\t<li>30</li>\n",
       "\t<li>5</li>\n",
       "</ol>\n"
      ],
      "text/latex": [
       "\\begin{enumerate*}\n",
       "\\item 30\n",
       "\\item 5\n",
       "\\end{enumerate*}\n"
      ],
      "text/markdown": [
       "1. 30\n",
       "2. 5\n",
       "\n",
       "\n"
      ],
      "text/plain": [
       "[1] 30  5"
      ]
     },
     "metadata": {},
     "output_type": "display_data"
    },
    {
     "data": {
      "text/html": [
       "<ol class=list-inline>\n",
       "\t<li>30</li>\n",
       "\t<li>13</li>\n",
       "</ol>\n"
      ],
      "text/latex": [
       "\\begin{enumerate*}\n",
       "\\item 30\n",
       "\\item 13\n",
       "\\end{enumerate*}\n"
      ],
      "text/markdown": [
       "1. 30\n",
       "2. 13\n",
       "\n",
       "\n"
      ],
      "text/plain": [
       "[1] 30 13"
      ]
     },
     "metadata": {},
     "output_type": "display_data"
    }
   ],
   "source": [
    "noMeta<-features_pos[,9:13]\n",
    "head(noMeta)\n",
    "not_zero<-which(colSums(noMeta) != 0)\n",
    "head(not_zero)\n",
    "nonzero <- noMeta[, not_zero]\n",
    "nonzero\n",
    "nonzero_wMeta<-cbind(features_pos[,1:8], nonzero)\n",
    "head(nonzero_wMeta)\n",
    "dim(features_pos)\n",
    "dim(noMeta)\n",
    "dim(nonzero)\n",
    "dim(nonzero_wMeta)"
   ]
  },
  {
   "cell_type": "code",
   "execution_count": 15,
   "metadata": {
    "scrolled": true
   },
   "outputs": [
    {
     "data": {
      "text/html": [
       "<ol class=list-inline>\n",
       "\t<li>0.00570350789517522</li>\n",
       "\t<li>0.285440870895821</li>\n",
       "\t<li>0.285440870895821</li>\n",
       "\t<li>0.539298539584697</li>\n",
       "\t<li>0.934887200362667</li>\n",
       "</ol>\n"
      ],
      "text/latex": [
       "\\begin{enumerate*}\n",
       "\\item 0.00570350789517522\n",
       "\\item 0.285440870895821\n",
       "\\item 0.285440870895821\n",
       "\\item 0.539298539584697\n",
       "\\item 0.934887200362667\n",
       "\\end{enumerate*}\n"
      ],
      "text/markdown": [
       "1. 0.00570350789517522\n",
       "2. 0.285440870895821\n",
       "3. 0.285440870895821\n",
       "4. 0.539298539584697\n",
       "5. 0.934887200362667\n",
       "\n",
       "\n"
      ],
      "text/plain": [
       "[1] 0.005703508 0.285440871 0.285440871 0.539298540 0.934887200"
      ]
     },
     "metadata": {},
     "output_type": "display_data"
    },
    {
     "data": {
      "text/html": [
       "<ol class=list-inline>\n",
       "\t<li>0.0285175394758761</li>\n",
       "\t<li>0.475734784826369</li>\n",
       "\t<li>0.475734784826369</li>\n",
       "\t<li>0.674123174480871</li>\n",
       "\t<li>0.934887200362667</li>\n",
       "</ol>\n"
      ],
      "text/latex": [
       "\\begin{enumerate*}\n",
       "\\item 0.0285175394758761\n",
       "\\item 0.475734784826369\n",
       "\\item 0.475734784826369\n",
       "\\item 0.674123174480871\n",
       "\\item 0.934887200362667\n",
       "\\end{enumerate*}\n"
      ],
      "text/markdown": [
       "1. 0.0285175394758761\n",
       "2. 0.475734784826369\n",
       "3. 0.475734784826369\n",
       "4. 0.674123174480871\n",
       "5. 0.934887200362667\n",
       "\n",
       "\n"
      ],
      "text/plain": [
       "[1] 0.02851754 0.47573478 0.47573478 0.67412317 0.93488720"
      ]
     },
     "metadata": {},
     "output_type": "display_data"
    }
   ],
   "source": [
    "pval<-c()\n",
    "\n",
    "for (i in 9:ncol(nonzero_wMeta)) \n",
    "pval<-c(pval,wilcox.test(nonzero_wMeta[,i]~nonzero_wMeta$Treatmentgroup)$p.value)\n",
    "head(pval)\n",
    "pAdj <- p.adjust(pval, method = c(\"fdr\"), n=length(pval)) \n",
    "head(pAdj) \n",
    "\n"
   ]
  },
  {
   "cell_type": "code",
   "execution_count": 16,
   "metadata": {
    "scrolled": true
   },
   "outputs": [
    {
     "data": {
      "text/html": [
       "5"
      ],
      "text/latex": [
       "5"
      ],
      "text/markdown": [
       "5"
      ],
      "text/plain": [
       "[1] 5"
      ]
     },
     "metadata": {},
     "output_type": "display_data"
    }
   ],
   "source": [
    "length(pval)"
   ]
  },
  {
   "cell_type": "code",
   "execution_count": 17,
   "metadata": {
    "scrolled": true
   },
   "outputs": [
    {
     "data": {
      "text/html": [
       "5"
      ],
      "text/latex": [
       "5"
      ],
      "text/markdown": [
       "5"
      ],
      "text/plain": [
       "[1] 5"
      ]
     },
     "metadata": {},
     "output_type": "display_data"
    }
   ],
   "source": [
    "length(pAdj)"
   ]
  },
  {
   "cell_type": "code",
   "execution_count": 18,
   "metadata": {},
   "outputs": [
    {
     "data": {
      "text/html": [
       "<ol class=list-inline>\n",
       "\t<li>2</li>\n",
       "\t<li>5</li>\n",
       "</ol>\n"
      ],
      "text/latex": [
       "\\begin{enumerate*}\n",
       "\\item 2\n",
       "\\item 5\n",
       "\\end{enumerate*}\n"
      ],
      "text/markdown": [
       "1. 2\n",
       "2. 5\n",
       "\n",
       "\n"
      ],
      "text/plain": [
       "[1] 2 5"
      ]
     },
     "metadata": {},
     "output_type": "display_data"
    },
    {
     "data": {
      "text/html": [
       "<table>\n",
       "<thead><tr><th></th><th scope=col>mass_400</th><th scope=col>mass_500</th><th scope=col>mass_600</th></tr></thead>\n",
       "<tbody>\n",
       "\t<tr><th scope=row>Group1B</th><td>0.03632373  </td><td>0.05423532  </td><td>0.0008994331</td></tr>\n",
       "\t<tr><th scope=row>Group3B</th><td>0.05940288  </td><td>0.06502988  </td><td>0.0008446817</td></tr>\n",
       "</tbody>\n",
       "</table>\n"
      ],
      "text/latex": [
       "\\begin{tabular}{r|lll}\n",
       "  & mass\\_400 & mass\\_500 & mass\\_600\\\\\n",
       "\\hline\n",
       "\tGroup1B & 0.03632373   & 0.05423532   & 0.0008994331\\\\\n",
       "\tGroup3B & 0.05940288   & 0.06502988   & 0.0008446817\\\\\n",
       "\\end{tabular}\n"
      ],
      "text/markdown": [
       "\n",
       "| <!--/--> | mass_400 | mass_500 | mass_600 |\n",
       "|---|---|---|---|\n",
       "| Group1B | 0.03632373   | 0.05423532   | 0.0008994331 |\n",
       "| Group3B | 0.05940288   | 0.06502988   | 0.0008446817 |\n",
       "\n"
      ],
      "text/plain": [
       "        mass_400   mass_500   mass_600    \n",
       "Group1B 0.03632373 0.05423532 0.0008994331\n",
       "Group3B 0.05940288 0.06502988 0.0008446817"
      ]
     },
     "metadata": {},
     "output_type": "display_data"
    },
    {
     "data": {
      "text/html": [
       "<dl class=dl-horizontal>\n",
       "\t<dt>mass_400</dt>\n",
       "\t\t<dd>0.611480898217979</dd>\n",
       "\t<dt>mass_500</dt>\n",
       "\t\t<dd>0.834006090361009</dd>\n",
       "\t<dt>mass_600</dt>\n",
       "\t\t<dd>1.06481897007993</dd>\n",
       "\t<dt>mass_700</dt>\n",
       "\t\t<dd>1.25280166679579</dd>\n",
       "\t<dt>mass_800</dt>\n",
       "\t\t<dd>1.01096323096554</dd>\n",
       "</dl>\n"
      ],
      "text/latex": [
       "\\begin{description*}\n",
       "\\item[mass\\textbackslash{}\\_400] 0.611480898217979\n",
       "\\item[mass\\textbackslash{}\\_500] 0.834006090361009\n",
       "\\item[mass\\textbackslash{}\\_600] 1.06481897007993\n",
       "\\item[mass\\textbackslash{}\\_700] 1.25280166679579\n",
       "\\item[mass\\textbackslash{}\\_800] 1.01096323096554\n",
       "\\end{description*}\n"
      ],
      "text/markdown": [
       "mass_400\n",
       ":   0.611480898217979mass_500\n",
       ":   0.834006090361009mass_600\n",
       ":   1.06481897007993mass_700\n",
       ":   1.25280166679579mass_800\n",
       ":   1.01096323096554\n",
       "\n"
      ],
      "text/plain": [
       " mass_400  mass_500  mass_600  mass_700  mass_800 \n",
       "0.6114809 0.8340061 1.0648190 1.2528017 1.0109632 "
      ]
     },
     "metadata": {},
     "output_type": "display_data"
    },
    {
     "data": {
      "text/html": [
       "<ol class=list-inline>\n",
       "\t<li>'numeric'</li>\n",
       "\t<li>'vector'</li>\n",
       "</ol>\n"
      ],
      "text/latex": [
       "\\begin{enumerate*}\n",
       "\\item 'numeric'\n",
       "\\item 'vector'\n",
       "\\end{enumerate*}\n"
      ],
      "text/markdown": [
       "1. 'numeric'\n",
       "2. 'vector'\n",
       "\n",
       "\n"
      ],
      "text/plain": [
       "[1] \"numeric\" \"vector\" "
      ]
     },
     "metadata": {},
     "output_type": "display_data"
    }
   ],
   "source": [
    "avg<- apply(nonzero_wMeta[,9:ncol(nonzero_wMeta)], 2, function(x) tapply(x, nonzero_wMeta$Treatmentgroup, function(x) mean(x))) \n",
    "\n",
    "dim(avg)\n",
    "\n",
    "avg[,1:3]\n",
    "\n",
    "fch <- apply(avg, 2, function(x) x[1]/x[2])\n",
    "\n",
    "head(fch)\n",
    "is(fch)"
   ]
  },
  {
   "cell_type": "code",
   "execution_count": 19,
   "metadata": {
    "scrolled": true
   },
   "outputs": [
    {
     "data": {
      "text/html": [
       "<dl class=dl-horizontal>\n",
       "\t<dt>mass_400</dt>\n",
       "\t\t<dd>0.611480898217979</dd>\n",
       "\t<dt>mass_500</dt>\n",
       "\t\t<dd>0.834006090361009</dd>\n",
       "\t<dt>mass_600</dt>\n",
       "\t\t<dd>1.06481897007993</dd>\n",
       "\t<dt>mass_700</dt>\n",
       "\t\t<dd>1.25280166679579</dd>\n",
       "\t<dt>mass_800</dt>\n",
       "\t\t<dd>1.01096323096554</dd>\n",
       "</dl>\n"
      ],
      "text/latex": [
       "\\begin{description*}\n",
       "\\item[mass\\textbackslash{}\\_400] 0.611480898217979\n",
       "\\item[mass\\textbackslash{}\\_500] 0.834006090361009\n",
       "\\item[mass\\textbackslash{}\\_600] 1.06481897007993\n",
       "\\item[mass\\textbackslash{}\\_700] 1.25280166679579\n",
       "\\item[mass\\textbackslash{}\\_800] 1.01096323096554\n",
       "\\end{description*}\n"
      ],
      "text/markdown": [
       "mass_400\n",
       ":   0.611480898217979mass_500\n",
       ":   0.834006090361009mass_600\n",
       ":   1.06481897007993mass_700\n",
       ":   1.25280166679579mass_800\n",
       ":   1.01096323096554\n",
       "\n"
      ],
      "text/plain": [
       " mass_400  mass_500  mass_600  mass_700  mass_800 \n",
       "0.6114809 0.8340061 1.0648190 1.2528017 1.0109632 "
      ]
     },
     "metadata": {},
     "output_type": "display_data"
    }
   ],
   "source": [
    "fch"
   ]
  },
  {
   "cell_type": "code",
   "execution_count": 20,
   "metadata": {
    "scrolled": false
   },
   "outputs": [],
   "source": [
    "df <- data.frame(fch,pval, pAdj)\n",
    "write.csv(df, \"PC-time-LA-wilcox-1B-3B.csv\")"
   ]
  },
  {
   "cell_type": "code",
   "execution_count": null,
   "metadata": {},
   "outputs": [],
   "source": []
  },
  {
   "cell_type": "code",
   "execution_count": null,
   "metadata": {},
   "outputs": [],
   "source": []
  },
  {
   "cell_type": "code",
   "execution_count": null,
   "metadata": {},
   "outputs": [],
   "source": []
  },
  {
   "cell_type": "code",
   "execution_count": null,
   "metadata": {},
   "outputs": [],
   "source": []
  },
  {
   "cell_type": "code",
   "execution_count": null,
   "metadata": {},
   "outputs": [],
   "source": []
  },
  {
   "cell_type": "code",
   "execution_count": null,
   "metadata": {},
   "outputs": [],
   "source": []
  }
 ],
 "metadata": {
  "kernelspec": {
   "display_name": "R",
   "language": "R",
   "name": "ir"
  },
  "language_info": {
   "codemirror_mode": "r",
   "file_extension": ".r",
   "mimetype": "text/x-r-source",
   "name": "R",
   "pygments_lexer": "r",
   "version": "3.6.1"
  }
 },
 "nbformat": 4,
 "nbformat_minor": 2
}
