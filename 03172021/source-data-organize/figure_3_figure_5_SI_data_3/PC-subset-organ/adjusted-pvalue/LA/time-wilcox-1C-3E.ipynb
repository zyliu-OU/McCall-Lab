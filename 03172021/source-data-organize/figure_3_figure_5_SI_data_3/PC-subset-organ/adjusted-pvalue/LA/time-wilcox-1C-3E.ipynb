{
 "cells": [
  {
   "cell_type": "code",
   "execution_count": 1,
   "metadata": {},
   "outputs": [],
   "source": [
    "a <- read.csv(\"03172021-PC-time-LA-M-F.csv\")"
   ]
  },
  {
   "cell_type": "code",
   "execution_count": 2,
   "metadata": {},
   "outputs": [
    {
     "data": {
      "text/html": [
       "<table>\n",
       "<thead><tr><th scope=col>filename</th><th scope=col>MouseID</th><th scope=col>Treatmentgroup</th><th scope=col>status</th><th scope=col>DPI</th><th scope=col>organ</th><th scope=col>well_position</th><th scope=col>plate</th><th scope=col>mass_400</th><th scope=col>mass_500</th><th scope=col>mass_600</th><th scope=col>mass_700</th><th scope=col>mass_800</th></tr></thead>\n",
       "<tbody>\n",
       "\t<tr><td>X501_Group1A_50dpi_LA_251_B_A1_P121.mzXML</td><td>501                                      </td><td>Group1A                                  </td><td>naive                                    </td><td>50                                       </td><td>LA                                       </td><td>A1                                       </td><td>P121                                     </td><td>0.03680541                               </td><td>0.05720000                               </td><td>0.000760560                              </td><td>0.03120538                               </td><td>0.002291347                              </td></tr>\n",
       "\t<tr><td>X502_Group1A_50dpi_LA_252_B_A2_P121.mzXML</td><td>502                                      </td><td>Group1A                                  </td><td>naive                                    </td><td>50                                       </td><td>LA                                       </td><td>A2                                       </td><td>P121                                     </td><td>0.05030247                               </td><td>0.05579971                               </td><td>0.001677424                              </td><td>0.04250978                               </td><td>0.015692309                              </td></tr>\n",
       "\t<tr><td>X503_Group1A_50dpi_LA_253_B_A3_P121.mzXML</td><td>503                                      </td><td>Group1A                                  </td><td>naive                                    </td><td>50                                       </td><td>LA                                       </td><td>A3                                       </td><td>P121                                     </td><td>0.04431684                               </td><td>0.05170000                               </td><td>0.000937343                              </td><td>0.04018191                               </td><td>0.012112645                              </td></tr>\n",
       "\t<tr><td>X504_Group1A_50dpi_LA_254_B_A4_P121.mzXML</td><td>504                                      </td><td>Group1A                                  </td><td>naive                                    </td><td>50                                       </td><td>LA                                       </td><td>A4                                       </td><td>P121                                     </td><td>0.01793115                               </td><td>0.03130000                               </td><td>0.001254220                              </td><td>0.04100662                               </td><td>0.011346929                              </td></tr>\n",
       "\t<tr><td>X505_Group1A_50dpi_LA_255_B_A5_P121.mzXML</td><td>505                                      </td><td>Group1A                                  </td><td>naive                                    </td><td>50                                       </td><td>LA                                       </td><td>A5                                       </td><td>P121                                     </td><td>0.06151622                               </td><td>0.08590000                               </td><td>0.001179035                              </td><td>0.01776781                               </td><td>0.013053424                              </td></tr>\n",
       "\t<tr><td>X521_Group1A_50dpi_LA_256_B_A6_P121.mzXML</td><td>521                                      </td><td>Group1A                                  </td><td>naive                                    </td><td>50                                       </td><td>LA                                       </td><td>A6                                       </td><td>P121                                     </td><td>0.05923037                               </td><td>0.07050000                               </td><td>0.001097703                              </td><td>0.02581648                               </td><td>0.011216905                              </td></tr>\n",
       "</tbody>\n",
       "</table>\n"
      ],
      "text/latex": [
       "\\begin{tabular}{r|lllllllllllll}\n",
       " filename & MouseID & Treatmentgroup & status & DPI & organ & well\\_position & plate & mass\\_400 & mass\\_500 & mass\\_600 & mass\\_700 & mass\\_800\\\\\n",
       "\\hline\n",
       "\t X501\\_Group1A\\_50dpi\\_LA\\_251\\_B\\_A1\\_P121.mzXML & 501                                                     & Group1A                                                 & naive                                                   & 50                                                      & LA                                                      & A1                                                      & P121                                                    & 0.03680541                                              & 0.05720000                                              & 0.000760560                                             & 0.03120538                                              & 0.002291347                                            \\\\\n",
       "\t X502\\_Group1A\\_50dpi\\_LA\\_252\\_B\\_A2\\_P121.mzXML & 502                                                     & Group1A                                                 & naive                                                   & 50                                                      & LA                                                      & A2                                                      & P121                                                    & 0.05030247                                              & 0.05579971                                              & 0.001677424                                             & 0.04250978                                              & 0.015692309                                            \\\\\n",
       "\t X503\\_Group1A\\_50dpi\\_LA\\_253\\_B\\_A3\\_P121.mzXML & 503                                                     & Group1A                                                 & naive                                                   & 50                                                      & LA                                                      & A3                                                      & P121                                                    & 0.04431684                                              & 0.05170000                                              & 0.000937343                                             & 0.04018191                                              & 0.012112645                                            \\\\\n",
       "\t X504\\_Group1A\\_50dpi\\_LA\\_254\\_B\\_A4\\_P121.mzXML & 504                                                     & Group1A                                                 & naive                                                   & 50                                                      & LA                                                      & A4                                                      & P121                                                    & 0.01793115                                              & 0.03130000                                              & 0.001254220                                             & 0.04100662                                              & 0.011346929                                            \\\\\n",
       "\t X505\\_Group1A\\_50dpi\\_LA\\_255\\_B\\_A5\\_P121.mzXML & 505                                                     & Group1A                                                 & naive                                                   & 50                                                      & LA                                                      & A5                                                      & P121                                                    & 0.06151622                                              & 0.08590000                                              & 0.001179035                                             & 0.01776781                                              & 0.013053424                                            \\\\\n",
       "\t X521\\_Group1A\\_50dpi\\_LA\\_256\\_B\\_A6\\_P121.mzXML & 521                                                     & Group1A                                                 & naive                                                   & 50                                                      & LA                                                      & A6                                                      & P121                                                    & 0.05923037                                              & 0.07050000                                              & 0.001097703                                             & 0.02581648                                              & 0.011216905                                            \\\\\n",
       "\\end{tabular}\n"
      ],
      "text/markdown": [
       "\n",
       "| filename | MouseID | Treatmentgroup | status | DPI | organ | well_position | plate | mass_400 | mass_500 | mass_600 | mass_700 | mass_800 |\n",
       "|---|---|---|---|---|---|---|---|---|---|---|---|---|\n",
       "| X501_Group1A_50dpi_LA_251_B_A1_P121.mzXML | 501                                       | Group1A                                   | naive                                     | 50                                        | LA                                        | A1                                        | P121                                      | 0.03680541                                | 0.05720000                                | 0.000760560                               | 0.03120538                                | 0.002291347                               |\n",
       "| X502_Group1A_50dpi_LA_252_B_A2_P121.mzXML | 502                                       | Group1A                                   | naive                                     | 50                                        | LA                                        | A2                                        | P121                                      | 0.05030247                                | 0.05579971                                | 0.001677424                               | 0.04250978                                | 0.015692309                               |\n",
       "| X503_Group1A_50dpi_LA_253_B_A3_P121.mzXML | 503                                       | Group1A                                   | naive                                     | 50                                        | LA                                        | A3                                        | P121                                      | 0.04431684                                | 0.05170000                                | 0.000937343                               | 0.04018191                                | 0.012112645                               |\n",
       "| X504_Group1A_50dpi_LA_254_B_A4_P121.mzXML | 504                                       | Group1A                                   | naive                                     | 50                                        | LA                                        | A4                                        | P121                                      | 0.01793115                                | 0.03130000                                | 0.001254220                               | 0.04100662                                | 0.011346929                               |\n",
       "| X505_Group1A_50dpi_LA_255_B_A5_P121.mzXML | 505                                       | Group1A                                   | naive                                     | 50                                        | LA                                        | A5                                        | P121                                      | 0.06151622                                | 0.08590000                                | 0.001179035                               | 0.01776781                                | 0.013053424                               |\n",
       "| X521_Group1A_50dpi_LA_256_B_A6_P121.mzXML | 521                                       | Group1A                                   | naive                                     | 50                                        | LA                                        | A6                                        | P121                                      | 0.05923037                                | 0.07050000                                | 0.001097703                               | 0.02581648                                | 0.011216905                               |\n",
       "\n"
      ],
      "text/plain": [
       "  filename                                  MouseID Treatmentgroup status DPI\n",
       "1 X501_Group1A_50dpi_LA_251_B_A1_P121.mzXML 501     Group1A        naive  50 \n",
       "2 X502_Group1A_50dpi_LA_252_B_A2_P121.mzXML 502     Group1A        naive  50 \n",
       "3 X503_Group1A_50dpi_LA_253_B_A3_P121.mzXML 503     Group1A        naive  50 \n",
       "4 X504_Group1A_50dpi_LA_254_B_A4_P121.mzXML 504     Group1A        naive  50 \n",
       "5 X505_Group1A_50dpi_LA_255_B_A5_P121.mzXML 505     Group1A        naive  50 \n",
       "6 X521_Group1A_50dpi_LA_256_B_A6_P121.mzXML 521     Group1A        naive  50 \n",
       "  organ well_position plate mass_400   mass_500   mass_600    mass_700  \n",
       "1 LA    A1            P121  0.03680541 0.05720000 0.000760560 0.03120538\n",
       "2 LA    A2            P121  0.05030247 0.05579971 0.001677424 0.04250978\n",
       "3 LA    A3            P121  0.04431684 0.05170000 0.000937343 0.04018191\n",
       "4 LA    A4            P121  0.01793115 0.03130000 0.001254220 0.04100662\n",
       "5 LA    A5            P121  0.06151622 0.08590000 0.001179035 0.01776781\n",
       "6 LA    A6            P121  0.05923037 0.07050000 0.001097703 0.02581648\n",
       "  mass_800   \n",
       "1 0.002291347\n",
       "2 0.015692309\n",
       "3 0.012112645\n",
       "4 0.011346929\n",
       "5 0.013053424\n",
       "6 0.011216905"
      ]
     },
     "metadata": {},
     "output_type": "display_data"
    },
    {
     "data": {
      "text/html": [
       "<ol class=list-inline>\n",
       "\t<li>90</li>\n",
       "\t<li>13</li>\n",
       "</ol>\n"
      ],
      "text/latex": [
       "\\begin{enumerate*}\n",
       "\\item 90\n",
       "\\item 13\n",
       "\\end{enumerate*}\n"
      ],
      "text/markdown": [
       "1. 90\n",
       "2. 13\n",
       "\n",
       "\n"
      ],
      "text/plain": [
       "[1] 90 13"
      ]
     },
     "metadata": {},
     "output_type": "display_data"
    }
   ],
   "source": [
    "head(a)\n",
    "dim(a)"
   ]
  },
  {
   "cell_type": "code",
   "execution_count": 3,
   "metadata": {},
   "outputs": [
    {
     "data": {
      "text/html": [
       "<table>\n",
       "<thead><tr><th></th><th scope=col>filename</th><th scope=col>MouseID</th><th scope=col>Treatmentgroup</th><th scope=col>status</th><th scope=col>DPI</th><th scope=col>organ</th><th scope=col>well_position</th><th scope=col>plate</th><th scope=col>mass_400</th><th scope=col>mass_500</th><th scope=col>mass_600</th><th scope=col>mass_700</th><th scope=col>mass_800</th></tr></thead>\n",
       "<tbody>\n",
       "\t<tr><th scope=row>31</th><td>X511_Group1C_142dpi_LA_161_G_A1_P120.mzXML</td><td>511                                       </td><td>Group1C                                   </td><td>naive                                     </td><td>142                                       </td><td>LA                                        </td><td>A1                                        </td><td>P120                                      </td><td>0.05708834                                </td><td>0.05868799                                </td><td>0.001422083                               </td><td>0.024448705                               </td><td>0.002961521                               </td></tr>\n",
       "\t<tr><th scope=row>32</th><td>X512_Group1C_142dpi_LA_162_G_A2_P120.mzXML</td><td>512                                       </td><td>Group1C                                   </td><td>naive                                     </td><td>142                                       </td><td>LA                                        </td><td>A2                                        </td><td>P120                                      </td><td>0.04364981                                </td><td>0.03529239                                </td><td>0.001064818                               </td><td>0.015103071                               </td><td>0.001586869                               </td></tr>\n",
       "\t<tr><th scope=row>33</th><td>X513_Group1C_142dpi_LA_163_G_A3_P120.mzXML</td><td>513                                       </td><td>Group1C                                   </td><td>naive                                     </td><td>142                                       </td><td>LA                                        </td><td>A3                                        </td><td>P120                                      </td><td>0.02723663                                </td><td>0.02308907                                </td><td>0.000641467                               </td><td>0.004038756                               </td><td>0.001170106                               </td></tr>\n",
       "\t<tr><th scope=row>34</th><td>X514_Group1C_142dpi_LA_164_G_A4_P120.mzXML</td><td>514                                       </td><td>Group1C                                   </td><td>naive                                     </td><td>142                                       </td><td>LA                                        </td><td>A4                                        </td><td>P120                                      </td><td>0.04795208                                </td><td>0.05203415                                </td><td>0.002287018                               </td><td>0.027557699                               </td><td>0.002876021                               </td></tr>\n",
       "\t<tr><th scope=row>35</th><td>X515_Group1C_142dpi_LA_165_G_A5_P120.mzXML</td><td>515                                       </td><td>Group1C                                   </td><td>naive                                     </td><td>142                                       </td><td>LA                                        </td><td>A5                                        </td><td>P120                                      </td><td>0.06062535                                </td><td>0.05520182                                </td><td>0.001113023                               </td><td>0.016928592                               </td><td>0.002033275                               </td></tr>\n",
       "\t<tr><th scope=row>36</th><td>X531_Group1C_142dpi_LA_166_G_A6_P120.mzXML</td><td>531                                       </td><td>Group1C                                   </td><td>naive                                     </td><td>142                                       </td><td>LA                                        </td><td>A6                                        </td><td>P120                                      </td><td>0.05173330                                </td><td>0.04288872                                </td><td>0.001191404                               </td><td>0.006303823                               </td><td>0.001142296                               </td></tr>\n",
       "</tbody>\n",
       "</table>\n"
      ],
      "text/latex": [
       "\\begin{tabular}{r|lllllllllllll}\n",
       "  & filename & MouseID & Treatmentgroup & status & DPI & organ & well\\_position & plate & mass\\_400 & mass\\_500 & mass\\_600 & mass\\_700 & mass\\_800\\\\\n",
       "\\hline\n",
       "\t31 & X511\\_Group1C\\_142dpi\\_LA\\_161\\_G\\_A1\\_P120.mzXML & 511                                                      & Group1C                                                  & naive                                                    & 142                                                      & LA                                                       & A1                                                       & P120                                                     & 0.05708834                                               & 0.05868799                                               & 0.001422083                                              & 0.024448705                                              & 0.002961521                                             \\\\\n",
       "\t32 & X512\\_Group1C\\_142dpi\\_LA\\_162\\_G\\_A2\\_P120.mzXML & 512                                                      & Group1C                                                  & naive                                                    & 142                                                      & LA                                                       & A2                                                       & P120                                                     & 0.04364981                                               & 0.03529239                                               & 0.001064818                                              & 0.015103071                                              & 0.001586869                                             \\\\\n",
       "\t33 & X513\\_Group1C\\_142dpi\\_LA\\_163\\_G\\_A3\\_P120.mzXML & 513                                                      & Group1C                                                  & naive                                                    & 142                                                      & LA                                                       & A3                                                       & P120                                                     & 0.02723663                                               & 0.02308907                                               & 0.000641467                                              & 0.004038756                                              & 0.001170106                                             \\\\\n",
       "\t34 & X514\\_Group1C\\_142dpi\\_LA\\_164\\_G\\_A4\\_P120.mzXML & 514                                                      & Group1C                                                  & naive                                                    & 142                                                      & LA                                                       & A4                                                       & P120                                                     & 0.04795208                                               & 0.05203415                                               & 0.002287018                                              & 0.027557699                                              & 0.002876021                                             \\\\\n",
       "\t35 & X515\\_Group1C\\_142dpi\\_LA\\_165\\_G\\_A5\\_P120.mzXML & 515                                                      & Group1C                                                  & naive                                                    & 142                                                      & LA                                                       & A5                                                       & P120                                                     & 0.06062535                                               & 0.05520182                                               & 0.001113023                                              & 0.016928592                                              & 0.002033275                                             \\\\\n",
       "\t36 & X531\\_Group1C\\_142dpi\\_LA\\_166\\_G\\_A6\\_P120.mzXML & 531                                                      & Group1C                                                  & naive                                                    & 142                                                      & LA                                                       & A6                                                       & P120                                                     & 0.05173330                                               & 0.04288872                                               & 0.001191404                                              & 0.006303823                                              & 0.001142296                                             \\\\\n",
       "\\end{tabular}\n"
      ],
      "text/markdown": [
       "\n",
       "| <!--/--> | filename | MouseID | Treatmentgroup | status | DPI | organ | well_position | plate | mass_400 | mass_500 | mass_600 | mass_700 | mass_800 |\n",
       "|---|---|---|---|---|---|---|---|---|---|---|---|---|---|\n",
       "| 31 | X511_Group1C_142dpi_LA_161_G_A1_P120.mzXML | 511                                        | Group1C                                    | naive                                      | 142                                        | LA                                         | A1                                         | P120                                       | 0.05708834                                 | 0.05868799                                 | 0.001422083                                | 0.024448705                                | 0.002961521                                |\n",
       "| 32 | X512_Group1C_142dpi_LA_162_G_A2_P120.mzXML | 512                                        | Group1C                                    | naive                                      | 142                                        | LA                                         | A2                                         | P120                                       | 0.04364981                                 | 0.03529239                                 | 0.001064818                                | 0.015103071                                | 0.001586869                                |\n",
       "| 33 | X513_Group1C_142dpi_LA_163_G_A3_P120.mzXML | 513                                        | Group1C                                    | naive                                      | 142                                        | LA                                         | A3                                         | P120                                       | 0.02723663                                 | 0.02308907                                 | 0.000641467                                | 0.004038756                                | 0.001170106                                |\n",
       "| 34 | X514_Group1C_142dpi_LA_164_G_A4_P120.mzXML | 514                                        | Group1C                                    | naive                                      | 142                                        | LA                                         | A4                                         | P120                                       | 0.04795208                                 | 0.05203415                                 | 0.002287018                                | 0.027557699                                | 0.002876021                                |\n",
       "| 35 | X515_Group1C_142dpi_LA_165_G_A5_P120.mzXML | 515                                        | Group1C                                    | naive                                      | 142                                        | LA                                         | A5                                         | P120                                       | 0.06062535                                 | 0.05520182                                 | 0.001113023                                | 0.016928592                                | 0.002033275                                |\n",
       "| 36 | X531_Group1C_142dpi_LA_166_G_A6_P120.mzXML | 531                                        | Group1C                                    | naive                                      | 142                                        | LA                                         | A6                                         | P120                                       | 0.05173330                                 | 0.04288872                                 | 0.001191404                                | 0.006303823                                | 0.001142296                                |\n",
       "\n"
      ],
      "text/plain": [
       "   filename                                   MouseID Treatmentgroup status DPI\n",
       "31 X511_Group1C_142dpi_LA_161_G_A1_P120.mzXML 511     Group1C        naive  142\n",
       "32 X512_Group1C_142dpi_LA_162_G_A2_P120.mzXML 512     Group1C        naive  142\n",
       "33 X513_Group1C_142dpi_LA_163_G_A3_P120.mzXML 513     Group1C        naive  142\n",
       "34 X514_Group1C_142dpi_LA_164_G_A4_P120.mzXML 514     Group1C        naive  142\n",
       "35 X515_Group1C_142dpi_LA_165_G_A5_P120.mzXML 515     Group1C        naive  142\n",
       "36 X531_Group1C_142dpi_LA_166_G_A6_P120.mzXML 531     Group1C        naive  142\n",
       "   organ well_position plate mass_400   mass_500   mass_600    mass_700   \n",
       "31 LA    A1            P120  0.05708834 0.05868799 0.001422083 0.024448705\n",
       "32 LA    A2            P120  0.04364981 0.03529239 0.001064818 0.015103071\n",
       "33 LA    A3            P120  0.02723663 0.02308907 0.000641467 0.004038756\n",
       "34 LA    A4            P120  0.04795208 0.05203415 0.002287018 0.027557699\n",
       "35 LA    A5            P120  0.06062535 0.05520182 0.001113023 0.016928592\n",
       "36 LA    A6            P120  0.05173330 0.04288872 0.001191404 0.006303823\n",
       "   mass_800   \n",
       "31 0.002961521\n",
       "32 0.001586869\n",
       "33 0.001170106\n",
       "34 0.002876021\n",
       "35 0.002033275\n",
       "36 0.001142296"
      ]
     },
     "metadata": {},
     "output_type": "display_data"
    },
    {
     "data": {
      "text/html": [
       "<ol class=list-inline>\n",
       "\t<li>30</li>\n",
       "\t<li>13</li>\n",
       "</ol>\n"
      ],
      "text/latex": [
       "\\begin{enumerate*}\n",
       "\\item 30\n",
       "\\item 13\n",
       "\\end{enumerate*}\n"
      ],
      "text/markdown": [
       "1. 30\n",
       "2. 13\n",
       "\n",
       "\n"
      ],
      "text/plain": [
       "[1] 30 13"
      ]
     },
     "metadata": {},
     "output_type": "display_data"
    }
   ],
   "source": [
    "features_pos<-droplevels(subset(a, a$Treatmentgroup==c(\"Group1C\")|a$Treatmentgroup==c(\"Group3E\")))\n",
    "head(features_pos)\n",
    "dim(features_pos)"
   ]
  },
  {
   "cell_type": "code",
   "execution_count": 4,
   "metadata": {
    "scrolled": false
   },
   "outputs": [
    {
     "data": {
      "text/html": [
       "<table>\n",
       "<thead><tr><th></th><th scope=col>mass_400</th><th scope=col>mass_500</th><th scope=col>mass_600</th><th scope=col>mass_700</th><th scope=col>mass_800</th></tr></thead>\n",
       "<tbody>\n",
       "\t<tr><th scope=row>31</th><td>0.05708834 </td><td>0.05868799 </td><td>0.001422083</td><td>0.024448705</td><td>0.002961521</td></tr>\n",
       "\t<tr><th scope=row>32</th><td>0.04364981 </td><td>0.03529239 </td><td>0.001064818</td><td>0.015103071</td><td>0.001586869</td></tr>\n",
       "\t<tr><th scope=row>33</th><td>0.02723663 </td><td>0.02308907 </td><td>0.000641467</td><td>0.004038756</td><td>0.001170106</td></tr>\n",
       "\t<tr><th scope=row>34</th><td>0.04795208 </td><td>0.05203415 </td><td>0.002287018</td><td>0.027557699</td><td>0.002876021</td></tr>\n",
       "\t<tr><th scope=row>35</th><td>0.06062535 </td><td>0.05520182 </td><td>0.001113023</td><td>0.016928592</td><td>0.002033275</td></tr>\n",
       "\t<tr><th scope=row>36</th><td>0.05173330 </td><td>0.04288872 </td><td>0.001191404</td><td>0.006303823</td><td>0.001142296</td></tr>\n",
       "</tbody>\n",
       "</table>\n"
      ],
      "text/latex": [
       "\\begin{tabular}{r|lllll}\n",
       "  & mass\\_400 & mass\\_500 & mass\\_600 & mass\\_700 & mass\\_800\\\\\n",
       "\\hline\n",
       "\t31 & 0.05708834  & 0.05868799  & 0.001422083 & 0.024448705 & 0.002961521\\\\\n",
       "\t32 & 0.04364981  & 0.03529239  & 0.001064818 & 0.015103071 & 0.001586869\\\\\n",
       "\t33 & 0.02723663  & 0.02308907  & 0.000641467 & 0.004038756 & 0.001170106\\\\\n",
       "\t34 & 0.04795208  & 0.05203415  & 0.002287018 & 0.027557699 & 0.002876021\\\\\n",
       "\t35 & 0.06062535  & 0.05520182  & 0.001113023 & 0.016928592 & 0.002033275\\\\\n",
       "\t36 & 0.05173330  & 0.04288872  & 0.001191404 & 0.006303823 & 0.001142296\\\\\n",
       "\\end{tabular}\n"
      ],
      "text/markdown": [
       "\n",
       "| <!--/--> | mass_400 | mass_500 | mass_600 | mass_700 | mass_800 |\n",
       "|---|---|---|---|---|---|\n",
       "| 31 | 0.05708834  | 0.05868799  | 0.001422083 | 0.024448705 | 0.002961521 |\n",
       "| 32 | 0.04364981  | 0.03529239  | 0.001064818 | 0.015103071 | 0.001586869 |\n",
       "| 33 | 0.02723663  | 0.02308907  | 0.000641467 | 0.004038756 | 0.001170106 |\n",
       "| 34 | 0.04795208  | 0.05203415  | 0.002287018 | 0.027557699 | 0.002876021 |\n",
       "| 35 | 0.06062535  | 0.05520182  | 0.001113023 | 0.016928592 | 0.002033275 |\n",
       "| 36 | 0.05173330  | 0.04288872  | 0.001191404 | 0.006303823 | 0.001142296 |\n",
       "\n"
      ],
      "text/plain": [
       "   mass_400   mass_500   mass_600    mass_700    mass_800   \n",
       "31 0.05708834 0.05868799 0.001422083 0.024448705 0.002961521\n",
       "32 0.04364981 0.03529239 0.001064818 0.015103071 0.001586869\n",
       "33 0.02723663 0.02308907 0.000641467 0.004038756 0.001170106\n",
       "34 0.04795208 0.05203415 0.002287018 0.027557699 0.002876021\n",
       "35 0.06062535 0.05520182 0.001113023 0.016928592 0.002033275\n",
       "36 0.05173330 0.04288872 0.001191404 0.006303823 0.001142296"
      ]
     },
     "metadata": {},
     "output_type": "display_data"
    },
    {
     "data": {
      "text/html": [
       "<dl class=dl-horizontal>\n",
       "\t<dt>mass_400</dt>\n",
       "\t\t<dd>1</dd>\n",
       "\t<dt>mass_500</dt>\n",
       "\t\t<dd>2</dd>\n",
       "\t<dt>mass_600</dt>\n",
       "\t\t<dd>3</dd>\n",
       "\t<dt>mass_700</dt>\n",
       "\t\t<dd>4</dd>\n",
       "\t<dt>mass_800</dt>\n",
       "\t\t<dd>5</dd>\n",
       "</dl>\n"
      ],
      "text/latex": [
       "\\begin{description*}\n",
       "\\item[mass\\textbackslash{}\\_400] 1\n",
       "\\item[mass\\textbackslash{}\\_500] 2\n",
       "\\item[mass\\textbackslash{}\\_600] 3\n",
       "\\item[mass\\textbackslash{}\\_700] 4\n",
       "\\item[mass\\textbackslash{}\\_800] 5\n",
       "\\end{description*}\n"
      ],
      "text/markdown": [
       "mass_400\n",
       ":   1mass_500\n",
       ":   2mass_600\n",
       ":   3mass_700\n",
       ":   4mass_800\n",
       ":   5\n",
       "\n"
      ],
      "text/plain": [
       "mass_400 mass_500 mass_600 mass_700 mass_800 \n",
       "       1        2        3        4        5 "
      ]
     },
     "metadata": {},
     "output_type": "display_data"
    },
    {
     "data": {
      "text/html": [
       "<table>\n",
       "<thead><tr><th></th><th scope=col>mass_400</th><th scope=col>mass_500</th><th scope=col>mass_600</th><th scope=col>mass_700</th><th scope=col>mass_800</th></tr></thead>\n",
       "<tbody>\n",
       "\t<tr><th scope=row>31</th><td>0.05708834 </td><td>0.05868799 </td><td>0.001422083</td><td>0.024448705</td><td>0.002961521</td></tr>\n",
       "\t<tr><th scope=row>32</th><td>0.04364981 </td><td>0.03529239 </td><td>0.001064818</td><td>0.015103071</td><td>0.001586869</td></tr>\n",
       "\t<tr><th scope=row>33</th><td>0.02723663 </td><td>0.02308907 </td><td>0.000641467</td><td>0.004038756</td><td>0.001170106</td></tr>\n",
       "\t<tr><th scope=row>34</th><td>0.04795208 </td><td>0.05203415 </td><td>0.002287018</td><td>0.027557699</td><td>0.002876021</td></tr>\n",
       "\t<tr><th scope=row>35</th><td>0.06062535 </td><td>0.05520182 </td><td>0.001113023</td><td>0.016928592</td><td>0.002033275</td></tr>\n",
       "\t<tr><th scope=row>36</th><td>0.05173330 </td><td>0.04288872 </td><td>0.001191404</td><td>0.006303823</td><td>0.001142296</td></tr>\n",
       "\t<tr><th scope=row>37</th><td>0.04392575 </td><td>0.04305203 </td><td>0.001768802</td><td>0.012500000</td><td>0.000113900</td></tr>\n",
       "\t<tr><th scope=row>38</th><td>0.02461537 </td><td>0.02000570 </td><td>0.000327913</td><td>0.008255499</td><td>0.000229724</td></tr>\n",
       "\t<tr><th scope=row>39</th><td>0.03696300 </td><td>0.04260624 </td><td>0.001968751</td><td>0.017850814</td><td>0.002617012</td></tr>\n",
       "\t<tr><th scope=row>40</th><td>0.02508449 </td><td>0.02742818 </td><td>0.001361898</td><td>0.010482335</td><td>0.002751920</td></tr>\n",
       "\t<tr><th scope=row>41</th><td>0.04615908 </td><td>0.05130382 </td><td>0.002176780</td><td>0.022613185</td><td>0.004121204</td></tr>\n",
       "\t<tr><th scope=row>42</th><td>0.04492082 </td><td>0.05093403 </td><td>0.001883462</td><td>0.020508285</td><td>0.005726650</td></tr>\n",
       "\t<tr><th scope=row>43</th><td>0.05786115 </td><td>0.06841478 </td><td>0.002191191</td><td>0.023497470</td><td>0.005592272</td></tr>\n",
       "\t<tr><th scope=row>44</th><td>0.01426524 </td><td>0.01854810 </td><td>0.001897406</td><td>0.029586849</td><td>0.007613493</td></tr>\n",
       "\t<tr><th scope=row>45</th><td>0.07306050 </td><td>0.06502908 </td><td>0.001441913</td><td>0.025098160</td><td>0.005432323</td></tr>\n",
       "\t<tr><th scope=row>76</th><td>0.07679123 </td><td>0.06459760 </td><td>0.000748383</td><td>0.013592907</td><td>0.002109551</td></tr>\n",
       "\t<tr><th scope=row>77</th><td>0.05637692 </td><td>0.04122667 </td><td>0.000886637</td><td>0.024421916</td><td>0.006401568</td></tr>\n",
       "\t<tr><th scope=row>78</th><td>0.06208490 </td><td>0.05214047 </td><td>0.001578818</td><td>0.013405126</td><td>0.002711381</td></tr>\n",
       "\t<tr><th scope=row>79</th><td>0.04845728 </td><td>0.04999808 </td><td>0.001582853</td><td>0.019946098</td><td>0.001384420</td></tr>\n",
       "\t<tr><th scope=row>80</th><td>0.03304103 </td><td>0.02966949 </td><td>0.000760197</td><td>0.007445944</td><td>0.001272537</td></tr>\n",
       "\t<tr><th scope=row>81</th><td>0.05644684 </td><td>0.05746368 </td><td>0.001501546</td><td>0.015771917</td><td>0.009721856</td></tr>\n",
       "\t<tr><th scope=row>82</th><td>0.04239897 </td><td>0.04164940 </td><td>0.001721232</td><td>0.036082257</td><td>0.005587892</td></tr>\n",
       "\t<tr><th scope=row>83</th><td>0.06208321 </td><td>0.05663902 </td><td>0.001527127</td><td>0.022350174</td><td>0.006043788</td></tr>\n",
       "\t<tr><th scope=row>84</th><td>0.05436122 </td><td>0.06082714 </td><td>0.002031351</td><td>0.029004928</td><td>0.009562616</td></tr>\n",
       "\t<tr><th scope=row>85</th><td>0.04031664 </td><td>0.03739999 </td><td>0.001366219</td><td>0.027934494</td><td>0.002540332</td></tr>\n",
       "\t<tr><th scope=row>86</th><td>0.05798096 </td><td>0.04454145 </td><td>0.000977282</td><td>0.011732424</td><td>0.003757619</td></tr>\n",
       "\t<tr><th scope=row>87</th><td>0.04714218 </td><td>0.04733346 </td><td>0.001792991</td><td>0.015201057</td><td>0.006582850</td></tr>\n",
       "\t<tr><th scope=row>88</th><td>0.03256285 </td><td>0.02260000 </td><td>0.000215714</td><td>0.002434439</td><td>0.000216528</td></tr>\n",
       "\t<tr><th scope=row>89</th><td>0.03256062 </td><td>0.02766837 </td><td>0.000645376</td><td>0.006248219</td><td>0.000793925</td></tr>\n",
       "\t<tr><th scope=row>90</th><td>0.02321102 </td><td>0.01935076 </td><td>0.000924843</td><td>0.013502653</td><td>0.000451458</td></tr>\n",
       "</tbody>\n",
       "</table>\n"
      ],
      "text/latex": [
       "\\begin{tabular}{r|lllll}\n",
       "  & mass\\_400 & mass\\_500 & mass\\_600 & mass\\_700 & mass\\_800\\\\\n",
       "\\hline\n",
       "\t31 & 0.05708834  & 0.05868799  & 0.001422083 & 0.024448705 & 0.002961521\\\\\n",
       "\t32 & 0.04364981  & 0.03529239  & 0.001064818 & 0.015103071 & 0.001586869\\\\\n",
       "\t33 & 0.02723663  & 0.02308907  & 0.000641467 & 0.004038756 & 0.001170106\\\\\n",
       "\t34 & 0.04795208  & 0.05203415  & 0.002287018 & 0.027557699 & 0.002876021\\\\\n",
       "\t35 & 0.06062535  & 0.05520182  & 0.001113023 & 0.016928592 & 0.002033275\\\\\n",
       "\t36 & 0.05173330  & 0.04288872  & 0.001191404 & 0.006303823 & 0.001142296\\\\\n",
       "\t37 & 0.04392575  & 0.04305203  & 0.001768802 & 0.012500000 & 0.000113900\\\\\n",
       "\t38 & 0.02461537  & 0.02000570  & 0.000327913 & 0.008255499 & 0.000229724\\\\\n",
       "\t39 & 0.03696300  & 0.04260624  & 0.001968751 & 0.017850814 & 0.002617012\\\\\n",
       "\t40 & 0.02508449  & 0.02742818  & 0.001361898 & 0.010482335 & 0.002751920\\\\\n",
       "\t41 & 0.04615908  & 0.05130382  & 0.002176780 & 0.022613185 & 0.004121204\\\\\n",
       "\t42 & 0.04492082  & 0.05093403  & 0.001883462 & 0.020508285 & 0.005726650\\\\\n",
       "\t43 & 0.05786115  & 0.06841478  & 0.002191191 & 0.023497470 & 0.005592272\\\\\n",
       "\t44 & 0.01426524  & 0.01854810  & 0.001897406 & 0.029586849 & 0.007613493\\\\\n",
       "\t45 & 0.07306050  & 0.06502908  & 0.001441913 & 0.025098160 & 0.005432323\\\\\n",
       "\t76 & 0.07679123  & 0.06459760  & 0.000748383 & 0.013592907 & 0.002109551\\\\\n",
       "\t77 & 0.05637692  & 0.04122667  & 0.000886637 & 0.024421916 & 0.006401568\\\\\n",
       "\t78 & 0.06208490  & 0.05214047  & 0.001578818 & 0.013405126 & 0.002711381\\\\\n",
       "\t79 & 0.04845728  & 0.04999808  & 0.001582853 & 0.019946098 & 0.001384420\\\\\n",
       "\t80 & 0.03304103  & 0.02966949  & 0.000760197 & 0.007445944 & 0.001272537\\\\\n",
       "\t81 & 0.05644684  & 0.05746368  & 0.001501546 & 0.015771917 & 0.009721856\\\\\n",
       "\t82 & 0.04239897  & 0.04164940  & 0.001721232 & 0.036082257 & 0.005587892\\\\\n",
       "\t83 & 0.06208321  & 0.05663902  & 0.001527127 & 0.022350174 & 0.006043788\\\\\n",
       "\t84 & 0.05436122  & 0.06082714  & 0.002031351 & 0.029004928 & 0.009562616\\\\\n",
       "\t85 & 0.04031664  & 0.03739999  & 0.001366219 & 0.027934494 & 0.002540332\\\\\n",
       "\t86 & 0.05798096  & 0.04454145  & 0.000977282 & 0.011732424 & 0.003757619\\\\\n",
       "\t87 & 0.04714218  & 0.04733346  & 0.001792991 & 0.015201057 & 0.006582850\\\\\n",
       "\t88 & 0.03256285  & 0.02260000  & 0.000215714 & 0.002434439 & 0.000216528\\\\\n",
       "\t89 & 0.03256062  & 0.02766837  & 0.000645376 & 0.006248219 & 0.000793925\\\\\n",
       "\t90 & 0.02321102  & 0.01935076  & 0.000924843 & 0.013502653 & 0.000451458\\\\\n",
       "\\end{tabular}\n"
      ],
      "text/markdown": [
       "\n",
       "| <!--/--> | mass_400 | mass_500 | mass_600 | mass_700 | mass_800 |\n",
       "|---|---|---|---|---|---|\n",
       "| 31 | 0.05708834  | 0.05868799  | 0.001422083 | 0.024448705 | 0.002961521 |\n",
       "| 32 | 0.04364981  | 0.03529239  | 0.001064818 | 0.015103071 | 0.001586869 |\n",
       "| 33 | 0.02723663  | 0.02308907  | 0.000641467 | 0.004038756 | 0.001170106 |\n",
       "| 34 | 0.04795208  | 0.05203415  | 0.002287018 | 0.027557699 | 0.002876021 |\n",
       "| 35 | 0.06062535  | 0.05520182  | 0.001113023 | 0.016928592 | 0.002033275 |\n",
       "| 36 | 0.05173330  | 0.04288872  | 0.001191404 | 0.006303823 | 0.001142296 |\n",
       "| 37 | 0.04392575  | 0.04305203  | 0.001768802 | 0.012500000 | 0.000113900 |\n",
       "| 38 | 0.02461537  | 0.02000570  | 0.000327913 | 0.008255499 | 0.000229724 |\n",
       "| 39 | 0.03696300  | 0.04260624  | 0.001968751 | 0.017850814 | 0.002617012 |\n",
       "| 40 | 0.02508449  | 0.02742818  | 0.001361898 | 0.010482335 | 0.002751920 |\n",
       "| 41 | 0.04615908  | 0.05130382  | 0.002176780 | 0.022613185 | 0.004121204 |\n",
       "| 42 | 0.04492082  | 0.05093403  | 0.001883462 | 0.020508285 | 0.005726650 |\n",
       "| 43 | 0.05786115  | 0.06841478  | 0.002191191 | 0.023497470 | 0.005592272 |\n",
       "| 44 | 0.01426524  | 0.01854810  | 0.001897406 | 0.029586849 | 0.007613493 |\n",
       "| 45 | 0.07306050  | 0.06502908  | 0.001441913 | 0.025098160 | 0.005432323 |\n",
       "| 76 | 0.07679123  | 0.06459760  | 0.000748383 | 0.013592907 | 0.002109551 |\n",
       "| 77 | 0.05637692  | 0.04122667  | 0.000886637 | 0.024421916 | 0.006401568 |\n",
       "| 78 | 0.06208490  | 0.05214047  | 0.001578818 | 0.013405126 | 0.002711381 |\n",
       "| 79 | 0.04845728  | 0.04999808  | 0.001582853 | 0.019946098 | 0.001384420 |\n",
       "| 80 | 0.03304103  | 0.02966949  | 0.000760197 | 0.007445944 | 0.001272537 |\n",
       "| 81 | 0.05644684  | 0.05746368  | 0.001501546 | 0.015771917 | 0.009721856 |\n",
       "| 82 | 0.04239897  | 0.04164940  | 0.001721232 | 0.036082257 | 0.005587892 |\n",
       "| 83 | 0.06208321  | 0.05663902  | 0.001527127 | 0.022350174 | 0.006043788 |\n",
       "| 84 | 0.05436122  | 0.06082714  | 0.002031351 | 0.029004928 | 0.009562616 |\n",
       "| 85 | 0.04031664  | 0.03739999  | 0.001366219 | 0.027934494 | 0.002540332 |\n",
       "| 86 | 0.05798096  | 0.04454145  | 0.000977282 | 0.011732424 | 0.003757619 |\n",
       "| 87 | 0.04714218  | 0.04733346  | 0.001792991 | 0.015201057 | 0.006582850 |\n",
       "| 88 | 0.03256285  | 0.02260000  | 0.000215714 | 0.002434439 | 0.000216528 |\n",
       "| 89 | 0.03256062  | 0.02766837  | 0.000645376 | 0.006248219 | 0.000793925 |\n",
       "| 90 | 0.02321102  | 0.01935076  | 0.000924843 | 0.013502653 | 0.000451458 |\n",
       "\n"
      ],
      "text/plain": [
       "   mass_400   mass_500   mass_600    mass_700    mass_800   \n",
       "31 0.05708834 0.05868799 0.001422083 0.024448705 0.002961521\n",
       "32 0.04364981 0.03529239 0.001064818 0.015103071 0.001586869\n",
       "33 0.02723663 0.02308907 0.000641467 0.004038756 0.001170106\n",
       "34 0.04795208 0.05203415 0.002287018 0.027557699 0.002876021\n",
       "35 0.06062535 0.05520182 0.001113023 0.016928592 0.002033275\n",
       "36 0.05173330 0.04288872 0.001191404 0.006303823 0.001142296\n",
       "37 0.04392575 0.04305203 0.001768802 0.012500000 0.000113900\n",
       "38 0.02461537 0.02000570 0.000327913 0.008255499 0.000229724\n",
       "39 0.03696300 0.04260624 0.001968751 0.017850814 0.002617012\n",
       "40 0.02508449 0.02742818 0.001361898 0.010482335 0.002751920\n",
       "41 0.04615908 0.05130382 0.002176780 0.022613185 0.004121204\n",
       "42 0.04492082 0.05093403 0.001883462 0.020508285 0.005726650\n",
       "43 0.05786115 0.06841478 0.002191191 0.023497470 0.005592272\n",
       "44 0.01426524 0.01854810 0.001897406 0.029586849 0.007613493\n",
       "45 0.07306050 0.06502908 0.001441913 0.025098160 0.005432323\n",
       "76 0.07679123 0.06459760 0.000748383 0.013592907 0.002109551\n",
       "77 0.05637692 0.04122667 0.000886637 0.024421916 0.006401568\n",
       "78 0.06208490 0.05214047 0.001578818 0.013405126 0.002711381\n",
       "79 0.04845728 0.04999808 0.001582853 0.019946098 0.001384420\n",
       "80 0.03304103 0.02966949 0.000760197 0.007445944 0.001272537\n",
       "81 0.05644684 0.05746368 0.001501546 0.015771917 0.009721856\n",
       "82 0.04239897 0.04164940 0.001721232 0.036082257 0.005587892\n",
       "83 0.06208321 0.05663902 0.001527127 0.022350174 0.006043788\n",
       "84 0.05436122 0.06082714 0.002031351 0.029004928 0.009562616\n",
       "85 0.04031664 0.03739999 0.001366219 0.027934494 0.002540332\n",
       "86 0.05798096 0.04454145 0.000977282 0.011732424 0.003757619\n",
       "87 0.04714218 0.04733346 0.001792991 0.015201057 0.006582850\n",
       "88 0.03256285 0.02260000 0.000215714 0.002434439 0.000216528\n",
       "89 0.03256062 0.02766837 0.000645376 0.006248219 0.000793925\n",
       "90 0.02321102 0.01935076 0.000924843 0.013502653 0.000451458"
      ]
     },
     "metadata": {},
     "output_type": "display_data"
    },
    {
     "data": {
      "text/html": [
       "<table>\n",
       "<thead><tr><th></th><th scope=col>filename</th><th scope=col>MouseID</th><th scope=col>Treatmentgroup</th><th scope=col>status</th><th scope=col>DPI</th><th scope=col>organ</th><th scope=col>well_position</th><th scope=col>plate</th><th scope=col>mass_400</th><th scope=col>mass_500</th><th scope=col>mass_600</th><th scope=col>mass_700</th><th scope=col>mass_800</th></tr></thead>\n",
       "<tbody>\n",
       "\t<tr><th scope=row>31</th><td>X511_Group1C_142dpi_LA_161_G_A1_P120.mzXML</td><td>511                                       </td><td>Group1C                                   </td><td>naive                                     </td><td>142                                       </td><td>LA                                        </td><td>A1                                        </td><td>P120                                      </td><td>0.05708834                                </td><td>0.05868799                                </td><td>0.001422083                               </td><td>0.024448705                               </td><td>0.002961521                               </td></tr>\n",
       "\t<tr><th scope=row>32</th><td>X512_Group1C_142dpi_LA_162_G_A2_P120.mzXML</td><td>512                                       </td><td>Group1C                                   </td><td>naive                                     </td><td>142                                       </td><td>LA                                        </td><td>A2                                        </td><td>P120                                      </td><td>0.04364981                                </td><td>0.03529239                                </td><td>0.001064818                               </td><td>0.015103071                               </td><td>0.001586869                               </td></tr>\n",
       "\t<tr><th scope=row>33</th><td>X513_Group1C_142dpi_LA_163_G_A3_P120.mzXML</td><td>513                                       </td><td>Group1C                                   </td><td>naive                                     </td><td>142                                       </td><td>LA                                        </td><td>A3                                        </td><td>P120                                      </td><td>0.02723663                                </td><td>0.02308907                                </td><td>0.000641467                               </td><td>0.004038756                               </td><td>0.001170106                               </td></tr>\n",
       "\t<tr><th scope=row>34</th><td>X514_Group1C_142dpi_LA_164_G_A4_P120.mzXML</td><td>514                                       </td><td>Group1C                                   </td><td>naive                                     </td><td>142                                       </td><td>LA                                        </td><td>A4                                        </td><td>P120                                      </td><td>0.04795208                                </td><td>0.05203415                                </td><td>0.002287018                               </td><td>0.027557699                               </td><td>0.002876021                               </td></tr>\n",
       "\t<tr><th scope=row>35</th><td>X515_Group1C_142dpi_LA_165_G_A5_P120.mzXML</td><td>515                                       </td><td>Group1C                                   </td><td>naive                                     </td><td>142                                       </td><td>LA                                        </td><td>A5                                        </td><td>P120                                      </td><td>0.06062535                                </td><td>0.05520182                                </td><td>0.001113023                               </td><td>0.016928592                               </td><td>0.002033275                               </td></tr>\n",
       "\t<tr><th scope=row>36</th><td>X531_Group1C_142dpi_LA_166_G_A6_P120.mzXML</td><td>531                                       </td><td>Group1C                                   </td><td>naive                                     </td><td>142                                       </td><td>LA                                        </td><td>A6                                        </td><td>P120                                      </td><td>0.05173330                                </td><td>0.04288872                                </td><td>0.001191404                               </td><td>0.006303823                               </td><td>0.001142296                               </td></tr>\n",
       "</tbody>\n",
       "</table>\n"
      ],
      "text/latex": [
       "\\begin{tabular}{r|lllllllllllll}\n",
       "  & filename & MouseID & Treatmentgroup & status & DPI & organ & well\\_position & plate & mass\\_400 & mass\\_500 & mass\\_600 & mass\\_700 & mass\\_800\\\\\n",
       "\\hline\n",
       "\t31 & X511\\_Group1C\\_142dpi\\_LA\\_161\\_G\\_A1\\_P120.mzXML & 511                                                      & Group1C                                                  & naive                                                    & 142                                                      & LA                                                       & A1                                                       & P120                                                     & 0.05708834                                               & 0.05868799                                               & 0.001422083                                              & 0.024448705                                              & 0.002961521                                             \\\\\n",
       "\t32 & X512\\_Group1C\\_142dpi\\_LA\\_162\\_G\\_A2\\_P120.mzXML & 512                                                      & Group1C                                                  & naive                                                    & 142                                                      & LA                                                       & A2                                                       & P120                                                     & 0.04364981                                               & 0.03529239                                               & 0.001064818                                              & 0.015103071                                              & 0.001586869                                             \\\\\n",
       "\t33 & X513\\_Group1C\\_142dpi\\_LA\\_163\\_G\\_A3\\_P120.mzXML & 513                                                      & Group1C                                                  & naive                                                    & 142                                                      & LA                                                       & A3                                                       & P120                                                     & 0.02723663                                               & 0.02308907                                               & 0.000641467                                              & 0.004038756                                              & 0.001170106                                             \\\\\n",
       "\t34 & X514\\_Group1C\\_142dpi\\_LA\\_164\\_G\\_A4\\_P120.mzXML & 514                                                      & Group1C                                                  & naive                                                    & 142                                                      & LA                                                       & A4                                                       & P120                                                     & 0.04795208                                               & 0.05203415                                               & 0.002287018                                              & 0.027557699                                              & 0.002876021                                             \\\\\n",
       "\t35 & X515\\_Group1C\\_142dpi\\_LA\\_165\\_G\\_A5\\_P120.mzXML & 515                                                      & Group1C                                                  & naive                                                    & 142                                                      & LA                                                       & A5                                                       & P120                                                     & 0.06062535                                               & 0.05520182                                               & 0.001113023                                              & 0.016928592                                              & 0.002033275                                             \\\\\n",
       "\t36 & X531\\_Group1C\\_142dpi\\_LA\\_166\\_G\\_A6\\_P120.mzXML & 531                                                      & Group1C                                                  & naive                                                    & 142                                                      & LA                                                       & A6                                                       & P120                                                     & 0.05173330                                               & 0.04288872                                               & 0.001191404                                              & 0.006303823                                              & 0.001142296                                             \\\\\n",
       "\\end{tabular}\n"
      ],
      "text/markdown": [
       "\n",
       "| <!--/--> | filename | MouseID | Treatmentgroup | status | DPI | organ | well_position | plate | mass_400 | mass_500 | mass_600 | mass_700 | mass_800 |\n",
       "|---|---|---|---|---|---|---|---|---|---|---|---|---|---|\n",
       "| 31 | X511_Group1C_142dpi_LA_161_G_A1_P120.mzXML | 511                                        | Group1C                                    | naive                                      | 142                                        | LA                                         | A1                                         | P120                                       | 0.05708834                                 | 0.05868799                                 | 0.001422083                                | 0.024448705                                | 0.002961521                                |\n",
       "| 32 | X512_Group1C_142dpi_LA_162_G_A2_P120.mzXML | 512                                        | Group1C                                    | naive                                      | 142                                        | LA                                         | A2                                         | P120                                       | 0.04364981                                 | 0.03529239                                 | 0.001064818                                | 0.015103071                                | 0.001586869                                |\n",
       "| 33 | X513_Group1C_142dpi_LA_163_G_A3_P120.mzXML | 513                                        | Group1C                                    | naive                                      | 142                                        | LA                                         | A3                                         | P120                                       | 0.02723663                                 | 0.02308907                                 | 0.000641467                                | 0.004038756                                | 0.001170106                                |\n",
       "| 34 | X514_Group1C_142dpi_LA_164_G_A4_P120.mzXML | 514                                        | Group1C                                    | naive                                      | 142                                        | LA                                         | A4                                         | P120                                       | 0.04795208                                 | 0.05203415                                 | 0.002287018                                | 0.027557699                                | 0.002876021                                |\n",
       "| 35 | X515_Group1C_142dpi_LA_165_G_A5_P120.mzXML | 515                                        | Group1C                                    | naive                                      | 142                                        | LA                                         | A5                                         | P120                                       | 0.06062535                                 | 0.05520182                                 | 0.001113023                                | 0.016928592                                | 0.002033275                                |\n",
       "| 36 | X531_Group1C_142dpi_LA_166_G_A6_P120.mzXML | 531                                        | Group1C                                    | naive                                      | 142                                        | LA                                         | A6                                         | P120                                       | 0.05173330                                 | 0.04288872                                 | 0.001191404                                | 0.006303823                                | 0.001142296                                |\n",
       "\n"
      ],
      "text/plain": [
       "   filename                                   MouseID Treatmentgroup status DPI\n",
       "31 X511_Group1C_142dpi_LA_161_G_A1_P120.mzXML 511     Group1C        naive  142\n",
       "32 X512_Group1C_142dpi_LA_162_G_A2_P120.mzXML 512     Group1C        naive  142\n",
       "33 X513_Group1C_142dpi_LA_163_G_A3_P120.mzXML 513     Group1C        naive  142\n",
       "34 X514_Group1C_142dpi_LA_164_G_A4_P120.mzXML 514     Group1C        naive  142\n",
       "35 X515_Group1C_142dpi_LA_165_G_A5_P120.mzXML 515     Group1C        naive  142\n",
       "36 X531_Group1C_142dpi_LA_166_G_A6_P120.mzXML 531     Group1C        naive  142\n",
       "   organ well_position plate mass_400   mass_500   mass_600    mass_700   \n",
       "31 LA    A1            P120  0.05708834 0.05868799 0.001422083 0.024448705\n",
       "32 LA    A2            P120  0.04364981 0.03529239 0.001064818 0.015103071\n",
       "33 LA    A3            P120  0.02723663 0.02308907 0.000641467 0.004038756\n",
       "34 LA    A4            P120  0.04795208 0.05203415 0.002287018 0.027557699\n",
       "35 LA    A5            P120  0.06062535 0.05520182 0.001113023 0.016928592\n",
       "36 LA    A6            P120  0.05173330 0.04288872 0.001191404 0.006303823\n",
       "   mass_800   \n",
       "31 0.002961521\n",
       "32 0.001586869\n",
       "33 0.001170106\n",
       "34 0.002876021\n",
       "35 0.002033275\n",
       "36 0.001142296"
      ]
     },
     "metadata": {},
     "output_type": "display_data"
    },
    {
     "data": {
      "text/html": [
       "<ol class=list-inline>\n",
       "\t<li>30</li>\n",
       "\t<li>13</li>\n",
       "</ol>\n"
      ],
      "text/latex": [
       "\\begin{enumerate*}\n",
       "\\item 30\n",
       "\\item 13\n",
       "\\end{enumerate*}\n"
      ],
      "text/markdown": [
       "1. 30\n",
       "2. 13\n",
       "\n",
       "\n"
      ],
      "text/plain": [
       "[1] 30 13"
      ]
     },
     "metadata": {},
     "output_type": "display_data"
    },
    {
     "data": {
      "text/html": [
       "<ol class=list-inline>\n",
       "\t<li>30</li>\n",
       "\t<li>5</li>\n",
       "</ol>\n"
      ],
      "text/latex": [
       "\\begin{enumerate*}\n",
       "\\item 30\n",
       "\\item 5\n",
       "\\end{enumerate*}\n"
      ],
      "text/markdown": [
       "1. 30\n",
       "2. 5\n",
       "\n",
       "\n"
      ],
      "text/plain": [
       "[1] 30  5"
      ]
     },
     "metadata": {},
     "output_type": "display_data"
    },
    {
     "data": {
      "text/html": [
       "<ol class=list-inline>\n",
       "\t<li>30</li>\n",
       "\t<li>5</li>\n",
       "</ol>\n"
      ],
      "text/latex": [
       "\\begin{enumerate*}\n",
       "\\item 30\n",
       "\\item 5\n",
       "\\end{enumerate*}\n"
      ],
      "text/markdown": [
       "1. 30\n",
       "2. 5\n",
       "\n",
       "\n"
      ],
      "text/plain": [
       "[1] 30  5"
      ]
     },
     "metadata": {},
     "output_type": "display_data"
    },
    {
     "data": {
      "text/html": [
       "<ol class=list-inline>\n",
       "\t<li>30</li>\n",
       "\t<li>13</li>\n",
       "</ol>\n"
      ],
      "text/latex": [
       "\\begin{enumerate*}\n",
       "\\item 30\n",
       "\\item 13\n",
       "\\end{enumerate*}\n"
      ],
      "text/markdown": [
       "1. 30\n",
       "2. 13\n",
       "\n",
       "\n"
      ],
      "text/plain": [
       "[1] 30 13"
      ]
     },
     "metadata": {},
     "output_type": "display_data"
    }
   ],
   "source": [
    "noMeta<-features_pos[,9:13] # features\n",
    "head(noMeta)\n",
    "not_zero<-which(colSums(noMeta) != 0)\n",
    "head(not_zero)\n",
    "nonzero <- noMeta[, not_zero] # all the non-zero columns\n",
    "nonzero\n",
    "#add back metadata\n",
    "nonzero_wMeta<-cbind(features_pos[,1:8], nonzero)\n",
    "head(nonzero_wMeta)\n",
    "dim(features_pos)\n",
    "dim(noMeta)\n",
    "dim(nonzero)\n",
    "dim(nonzero_wMeta)"
   ]
  },
  {
   "cell_type": "code",
   "execution_count": 5,
   "metadata": {
    "scrolled": true
   },
   "outputs": [
    {
     "data": {
      "text/html": [
       "<ol class=list-inline>\n",
       "\t<li>0.460958749211566</li>\n",
       "\t<li>0.967417297543179</li>\n",
       "\t<li>0.173608899884423</li>\n",
       "\t<li>0.774840301727361</li>\n",
       "\t<li>0.594883930583728</li>\n",
       "</ol>\n"
      ],
      "text/latex": [
       "\\begin{enumerate*}\n",
       "\\item 0.460958749211566\n",
       "\\item 0.967417297543179\n",
       "\\item 0.173608899884423\n",
       "\\item 0.774840301727361\n",
       "\\item 0.594883930583728\n",
       "\\end{enumerate*}\n"
      ],
      "text/markdown": [
       "1. 0.460958749211566\n",
       "2. 0.967417297543179\n",
       "3. 0.173608899884423\n",
       "4. 0.774840301727361\n",
       "5. 0.594883930583728\n",
       "\n",
       "\n"
      ],
      "text/plain": [
       "[1] 0.4609587 0.9674173 0.1736089 0.7748403 0.5948839"
      ]
     },
     "metadata": {},
     "output_type": "display_data"
    },
    {
     "data": {
      "text/html": [
       "<ol class=list-inline>\n",
       "\t<li>0.967417297543179</li>\n",
       "\t<li>0.967417297543179</li>\n",
       "\t<li>0.868044499422116</li>\n",
       "\t<li>0.967417297543179</li>\n",
       "\t<li>0.967417297543179</li>\n",
       "</ol>\n"
      ],
      "text/latex": [
       "\\begin{enumerate*}\n",
       "\\item 0.967417297543179\n",
       "\\item 0.967417297543179\n",
       "\\item 0.868044499422116\n",
       "\\item 0.967417297543179\n",
       "\\item 0.967417297543179\n",
       "\\end{enumerate*}\n"
      ],
      "text/markdown": [
       "1. 0.967417297543179\n",
       "2. 0.967417297543179\n",
       "3. 0.868044499422116\n",
       "4. 0.967417297543179\n",
       "5. 0.967417297543179\n",
       "\n",
       "\n"
      ],
      "text/plain": [
       "[1] 0.9674173 0.9674173 0.8680445 0.9674173 0.9674173"
      ]
     },
     "metadata": {},
     "output_type": "display_data"
    }
   ],
   "source": [
    "pval<-c()\n",
    "\n",
    "for (i in 9:ncol(nonzero_wMeta)) \n",
    "pval<-c(pval,wilcox.test(nonzero_wMeta[,i]~nonzero_wMeta$Treatmentgroup)$p.value)\n",
    "head(pval)\n",
    "pAdj <- p.adjust(pval, method = c(\"fdr\"), n=length(pval)) \n",
    "head(pAdj) \n",
    "\n"
   ]
  },
  {
   "cell_type": "code",
   "execution_count": 6,
   "metadata": {
    "scrolled": true
   },
   "outputs": [
    {
     "data": {
      "text/html": [
       "5"
      ],
      "text/latex": [
       "5"
      ],
      "text/markdown": [
       "5"
      ],
      "text/plain": [
       "[1] 5"
      ]
     },
     "metadata": {},
     "output_type": "display_data"
    }
   ],
   "source": [
    "length(pval)"
   ]
  },
  {
   "cell_type": "code",
   "execution_count": 7,
   "metadata": {
    "scrolled": true
   },
   "outputs": [
    {
     "data": {
      "text/html": [
       "5"
      ],
      "text/latex": [
       "5"
      ],
      "text/markdown": [
       "5"
      ],
      "text/plain": [
       "[1] 5"
      ]
     },
     "metadata": {},
     "output_type": "display_data"
    }
   ],
   "source": [
    "length(pAdj)"
   ]
  },
  {
   "cell_type": "code",
   "execution_count": 8,
   "metadata": {},
   "outputs": [
    {
     "data": {
      "text/html": [
       "<ol class=list-inline>\n",
       "\t<li>2</li>\n",
       "\t<li>5</li>\n",
       "</ol>\n"
      ],
      "text/latex": [
       "\\begin{enumerate*}\n",
       "\\item 2\n",
       "\\item 5\n",
       "\\end{enumerate*}\n"
      ],
      "text/markdown": [
       "1. 2\n",
       "2. 5\n",
       "\n",
       "\n"
      ],
      "text/plain": [
       "[1] 2 5"
      ]
     },
     "metadata": {},
     "output_type": "display_data"
    },
    {
     "data": {
      "text/html": [
       "<table>\n",
       "<thead><tr><th></th><th scope=col>mass_400</th><th scope=col>mass_500</th><th scope=col>mass_600</th></tr></thead>\n",
       "<tbody>\n",
       "\t<tr><th scope=row>Group1C</th><td>0.04367606 </td><td>0.04363440 </td><td>0.001515862</td></tr>\n",
       "\t<tr><th scope=row>Group3E</th><td>0.04838773 </td><td>0.04354037 </td><td>0.001217371</td></tr>\n",
       "</tbody>\n",
       "</table>\n"
      ],
      "text/latex": [
       "\\begin{tabular}{r|lll}\n",
       "  & mass\\_400 & mass\\_500 & mass\\_600\\\\\n",
       "\\hline\n",
       "\tGroup1C & 0.04367606  & 0.04363440  & 0.001515862\\\\\n",
       "\tGroup3E & 0.04838773  & 0.04354037  & 0.001217371\\\\\n",
       "\\end{tabular}\n"
      ],
      "text/markdown": [
       "\n",
       "| <!--/--> | mass_400 | mass_500 | mass_600 |\n",
       "|---|---|---|---|\n",
       "| Group1C | 0.04367606  | 0.04363440  | 0.001515862 |\n",
       "| Group3E | 0.04838773  | 0.04354037  | 0.001217371 |\n",
       "\n"
      ],
      "text/plain": [
       "        mass_400   mass_500   mass_600   \n",
       "Group1C 0.04367606 0.04363440 0.001515862\n",
       "Group3E 0.04838773 0.04354037 0.001217371"
      ]
     },
     "metadata": {},
     "output_type": "display_data"
    },
    {
     "data": {
      "text/html": [
       "<dl class=dl-horizontal>\n",
       "\t<dt>mass_400</dt>\n",
       "\t\t<dd>0.902626824283571</dd>\n",
       "\t<dt>mass_500</dt>\n",
       "\t\t<dd>1.002159669185</dd>\n",
       "\t<dt>mass_600</dt>\n",
       "\t\t<dd>1.24519279766145</dd>\n",
       "\t<dt>mass_700</dt>\n",
       "\t\t<dd>1.0219963324611</dd>\n",
       "\t<dt>mass_800</dt>\n",
       "\t\t<dd>0.777306241075055</dd>\n",
       "</dl>\n"
      ],
      "text/latex": [
       "\\begin{description*}\n",
       "\\item[mass\\textbackslash{}\\_400] 0.902626824283571\n",
       "\\item[mass\\textbackslash{}\\_500] 1.002159669185\n",
       "\\item[mass\\textbackslash{}\\_600] 1.24519279766145\n",
       "\\item[mass\\textbackslash{}\\_700] 1.0219963324611\n",
       "\\item[mass\\textbackslash{}\\_800] 0.777306241075055\n",
       "\\end{description*}\n"
      ],
      "text/markdown": [
       "mass_400\n",
       ":   0.902626824283571mass_500\n",
       ":   1.002159669185mass_600\n",
       ":   1.24519279766145mass_700\n",
       ":   1.0219963324611mass_800\n",
       ":   0.777306241075055\n",
       "\n"
      ],
      "text/plain": [
       " mass_400  mass_500  mass_600  mass_700  mass_800 \n",
       "0.9026268 1.0021597 1.2451928 1.0219963 0.7773062 "
      ]
     },
     "metadata": {},
     "output_type": "display_data"
    },
    {
     "data": {
      "text/html": [
       "<ol class=list-inline>\n",
       "\t<li>'numeric'</li>\n",
       "\t<li>'vector'</li>\n",
       "</ol>\n"
      ],
      "text/latex": [
       "\\begin{enumerate*}\n",
       "\\item 'numeric'\n",
       "\\item 'vector'\n",
       "\\end{enumerate*}\n"
      ],
      "text/markdown": [
       "1. 'numeric'\n",
       "2. 'vector'\n",
       "\n",
       "\n"
      ],
      "text/plain": [
       "[1] \"numeric\" \"vector\" "
      ]
     },
     "metadata": {},
     "output_type": "display_data"
    }
   ],
   "source": [
    "avg<- apply(nonzero_wMeta[,9:ncol(nonzero_wMeta)], 2, function(x) tapply(x, nonzero_wMeta$Treatmentgroup, function(x) mean(x))) \n",
    "\n",
    "dim(avg)\n",
    "\n",
    "avg[,1:3]\n",
    "\n",
    "fch <- apply(avg, 2, function(x) x[1]/x[2])\n",
    "\n",
    "head(fch)\n",
    "is(fch)"
   ]
  },
  {
   "cell_type": "code",
   "execution_count": 9,
   "metadata": {
    "scrolled": true
   },
   "outputs": [
    {
     "data": {
      "text/html": [
       "<dl class=dl-horizontal>\n",
       "\t<dt>mass_400</dt>\n",
       "\t\t<dd>0.902626824283571</dd>\n",
       "\t<dt>mass_500</dt>\n",
       "\t\t<dd>1.002159669185</dd>\n",
       "\t<dt>mass_600</dt>\n",
       "\t\t<dd>1.24519279766145</dd>\n",
       "\t<dt>mass_700</dt>\n",
       "\t\t<dd>1.0219963324611</dd>\n",
       "\t<dt>mass_800</dt>\n",
       "\t\t<dd>0.777306241075055</dd>\n",
       "</dl>\n"
      ],
      "text/latex": [
       "\\begin{description*}\n",
       "\\item[mass\\textbackslash{}\\_400] 0.902626824283571\n",
       "\\item[mass\\textbackslash{}\\_500] 1.002159669185\n",
       "\\item[mass\\textbackslash{}\\_600] 1.24519279766145\n",
       "\\item[mass\\textbackslash{}\\_700] 1.0219963324611\n",
       "\\item[mass\\textbackslash{}\\_800] 0.777306241075055\n",
       "\\end{description*}\n"
      ],
      "text/markdown": [
       "mass_400\n",
       ":   0.902626824283571mass_500\n",
       ":   1.002159669185mass_600\n",
       ":   1.24519279766145mass_700\n",
       ":   1.0219963324611mass_800\n",
       ":   0.777306241075055\n",
       "\n"
      ],
      "text/plain": [
       " mass_400  mass_500  mass_600  mass_700  mass_800 \n",
       "0.9026268 1.0021597 1.2451928 1.0219963 0.7773062 "
      ]
     },
     "metadata": {},
     "output_type": "display_data"
    }
   ],
   "source": [
    "fch"
   ]
  },
  {
   "cell_type": "code",
   "execution_count": 10,
   "metadata": {
    "scrolled": false
   },
   "outputs": [],
   "source": [
    "df <- data.frame(fch,pval, pAdj)\n",
    "write.csv(df, \"PC-time-LA-wilcox-1C-3E.csv\")"
   ]
  },
  {
   "cell_type": "code",
   "execution_count": null,
   "metadata": {},
   "outputs": [],
   "source": []
  },
  {
   "cell_type": "code",
   "execution_count": null,
   "metadata": {},
   "outputs": [],
   "source": []
  },
  {
   "cell_type": "code",
   "execution_count": null,
   "metadata": {},
   "outputs": [],
   "source": []
  },
  {
   "cell_type": "code",
   "execution_count": null,
   "metadata": {},
   "outputs": [],
   "source": []
  },
  {
   "cell_type": "code",
   "execution_count": null,
   "metadata": {},
   "outputs": [],
   "source": []
  },
  {
   "cell_type": "code",
   "execution_count": null,
   "metadata": {},
   "outputs": [],
   "source": []
  }
 ],
 "metadata": {
  "kernelspec": {
   "display_name": "R",
   "language": "R",
   "name": "ir"
  },
  "language_info": {
   "codemirror_mode": "r",
   "file_extension": ".r",
   "mimetype": "text/x-r-source",
   "name": "R",
   "pygments_lexer": "r",
   "version": "3.6.1"
  }
 },
 "nbformat": 4,
 "nbformat_minor": 2
}
