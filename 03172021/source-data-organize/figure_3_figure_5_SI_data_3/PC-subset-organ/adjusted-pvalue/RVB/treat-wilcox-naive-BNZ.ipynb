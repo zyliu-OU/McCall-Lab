{
 "cells": [
  {
   "cell_type": "code",
   "execution_count": 11,
   "metadata": {},
   "outputs": [],
   "source": [
    "a <- read.csv(\"03172021-PC-treatment-RVB-M-F.csv\")"
   ]
  },
  {
   "cell_type": "code",
   "execution_count": 12,
   "metadata": {},
   "outputs": [
    {
     "data": {
      "text/html": [
       "<table>\n",
       "<thead><tr><th scope=col>filename</th><th scope=col>MouseID</th><th scope=col>Treatmentgroup</th><th scope=col>DPI</th><th scope=col>organ</th><th scope=col>well_position</th><th scope=col>plate</th><th scope=col>mass_400</th><th scope=col>mass_500</th><th scope=col>mass_600</th><th scope=col>mass_700</th><th scope=col>mass_800</th></tr></thead>\n",
       "<tbody>\n",
       "\t<tr><td>X511_Group1C_142dpi_RV_bottom_161_G_A1_P140.mzXML</td><td>511                                              </td><td>naive                                            </td><td>142dpi                                           </td><td>RV_bottom                                        </td><td>A1                                               </td><td>P140                                             </td><td>0.01070250                                       </td><td>0.01878444                                       </td><td>0.000000000                                      </td><td>0.000000000                                      </td><td>0.000000000                                      </td></tr>\n",
       "\t<tr><td>X512_Group1C_142dpi_RV_bottom_162_G_A2_P140.mzXML</td><td>512                                              </td><td>naive                                            </td><td>142dpi                                           </td><td>RV_bottom                                        </td><td>A2                                               </td><td>P140                                             </td><td>0.01817401                                       </td><td>0.02520786                                       </td><td>0.000071700                                      </td><td>0.000000000                                      </td><td>0.000000000                                      </td></tr>\n",
       "\t<tr><td>X513_Group1C_142dpi_RV_bottom_163_G_A3_P140.mzXML</td><td>513                                              </td><td>naive                                            </td><td>142dpi                                           </td><td>RV_bottom                                        </td><td>A3                                               </td><td>P140                                             </td><td>0.01246066                                       </td><td>0.01438772                                       </td><td>0.000000000                                      </td><td>0.001022450                                      </td><td>0.000313152                                      </td></tr>\n",
       "\t<tr><td>X514_Group1C_142dpi_RV_bottom_164_G_A4_P140.mzXML</td><td>514                                              </td><td>naive                                            </td><td>142dpi                                           </td><td>RV_bottom                                        </td><td>A4                                               </td><td>P140                                             </td><td>0.01393864                                       </td><td>0.01860049                                       </td><td>0.000228515                                      </td><td>0.000060600                                      </td><td>0.000000000                                      </td></tr>\n",
       "\t<tr><td>X515_Group1C_142dpi_RV_bottom_165_G_A5_P140.mzXML</td><td>515                                              </td><td>naive                                            </td><td>142dpi                                           </td><td>RV_bottom                                        </td><td>A5                                               </td><td>P140                                             </td><td>0.02076094                                       </td><td>0.02255642                                       </td><td>0.000521923                                      </td><td>0.000221919                                      </td><td>0.000000000                                      </td></tr>\n",
       "\t<tr><td>X531_Group1C_142dpi_RV_bottom_166_G_A6_P140.mzXML</td><td>531                                              </td><td>naive                                            </td><td>142dpi                                           </td><td>RV_bottom                                        </td><td>A6                                               </td><td>P140                                             </td><td>0.01498764                                       </td><td>0.01930315                                       </td><td>0.000296114                                      </td><td>0.000000000                                      </td><td>0.000000000                                      </td></tr>\n",
       "</tbody>\n",
       "</table>\n"
      ],
      "text/latex": [
       "\\begin{tabular}{r|llllllllllll}\n",
       " filename & MouseID & Treatmentgroup & DPI & organ & well\\_position & plate & mass\\_400 & mass\\_500 & mass\\_600 & mass\\_700 & mass\\_800\\\\\n",
       "\\hline\n",
       "\t X511\\_Group1C\\_142dpi\\_RV\\_bottom\\_161\\_G\\_A1\\_P140.mzXML & 511                                                               & naive                                                             & 142dpi                                                            & RV\\_bottom                                                       & A1                                                                & P140                                                              & 0.01070250                                                        & 0.01878444                                                        & 0.000000000                                                       & 0.000000000                                                       & 0.000000000                                                      \\\\\n",
       "\t X512\\_Group1C\\_142dpi\\_RV\\_bottom\\_162\\_G\\_A2\\_P140.mzXML & 512                                                               & naive                                                             & 142dpi                                                            & RV\\_bottom                                                       & A2                                                                & P140                                                              & 0.01817401                                                        & 0.02520786                                                        & 0.000071700                                                       & 0.000000000                                                       & 0.000000000                                                      \\\\\n",
       "\t X513\\_Group1C\\_142dpi\\_RV\\_bottom\\_163\\_G\\_A3\\_P140.mzXML & 513                                                               & naive                                                             & 142dpi                                                            & RV\\_bottom                                                       & A3                                                                & P140                                                              & 0.01246066                                                        & 0.01438772                                                        & 0.000000000                                                       & 0.001022450                                                       & 0.000313152                                                      \\\\\n",
       "\t X514\\_Group1C\\_142dpi\\_RV\\_bottom\\_164\\_G\\_A4\\_P140.mzXML & 514                                                               & naive                                                             & 142dpi                                                            & RV\\_bottom                                                       & A4                                                                & P140                                                              & 0.01393864                                                        & 0.01860049                                                        & 0.000228515                                                       & 0.000060600                                                       & 0.000000000                                                      \\\\\n",
       "\t X515\\_Group1C\\_142dpi\\_RV\\_bottom\\_165\\_G\\_A5\\_P140.mzXML & 515                                                               & naive                                                             & 142dpi                                                            & RV\\_bottom                                                       & A5                                                                & P140                                                              & 0.02076094                                                        & 0.02255642                                                        & 0.000521923                                                       & 0.000221919                                                       & 0.000000000                                                      \\\\\n",
       "\t X531\\_Group1C\\_142dpi\\_RV\\_bottom\\_166\\_G\\_A6\\_P140.mzXML & 531                                                               & naive                                                             & 142dpi                                                            & RV\\_bottom                                                       & A6                                                                & P140                                                              & 0.01498764                                                        & 0.01930315                                                        & 0.000296114                                                       & 0.000000000                                                       & 0.000000000                                                      \\\\\n",
       "\\end{tabular}\n"
      ],
      "text/markdown": [
       "\n",
       "| filename | MouseID | Treatmentgroup | DPI | organ | well_position | plate | mass_400 | mass_500 | mass_600 | mass_700 | mass_800 |\n",
       "|---|---|---|---|---|---|---|---|---|---|---|---|\n",
       "| X511_Group1C_142dpi_RV_bottom_161_G_A1_P140.mzXML | 511                                               | naive                                             | 142dpi                                            | RV_bottom                                         | A1                                                | P140                                              | 0.01070250                                        | 0.01878444                                        | 0.000000000                                       | 0.000000000                                       | 0.000000000                                       |\n",
       "| X512_Group1C_142dpi_RV_bottom_162_G_A2_P140.mzXML | 512                                               | naive                                             | 142dpi                                            | RV_bottom                                         | A2                                                | P140                                              | 0.01817401                                        | 0.02520786                                        | 0.000071700                                       | 0.000000000                                       | 0.000000000                                       |\n",
       "| X513_Group1C_142dpi_RV_bottom_163_G_A3_P140.mzXML | 513                                               | naive                                             | 142dpi                                            | RV_bottom                                         | A3                                                | P140                                              | 0.01246066                                        | 0.01438772                                        | 0.000000000                                       | 0.001022450                                       | 0.000313152                                       |\n",
       "| X514_Group1C_142dpi_RV_bottom_164_G_A4_P140.mzXML | 514                                               | naive                                             | 142dpi                                            | RV_bottom                                         | A4                                                | P140                                              | 0.01393864                                        | 0.01860049                                        | 0.000228515                                       | 0.000060600                                       | 0.000000000                                       |\n",
       "| X515_Group1C_142dpi_RV_bottom_165_G_A5_P140.mzXML | 515                                               | naive                                             | 142dpi                                            | RV_bottom                                         | A5                                                | P140                                              | 0.02076094                                        | 0.02255642                                        | 0.000521923                                       | 0.000221919                                       | 0.000000000                                       |\n",
       "| X531_Group1C_142dpi_RV_bottom_166_G_A6_P140.mzXML | 531                                               | naive                                             | 142dpi                                            | RV_bottom                                         | A6                                                | P140                                              | 0.01498764                                        | 0.01930315                                        | 0.000296114                                       | 0.000000000                                       | 0.000000000                                       |\n",
       "\n"
      ],
      "text/plain": [
       "  filename                                          MouseID Treatmentgroup\n",
       "1 X511_Group1C_142dpi_RV_bottom_161_G_A1_P140.mzXML 511     naive         \n",
       "2 X512_Group1C_142dpi_RV_bottom_162_G_A2_P140.mzXML 512     naive         \n",
       "3 X513_Group1C_142dpi_RV_bottom_163_G_A3_P140.mzXML 513     naive         \n",
       "4 X514_Group1C_142dpi_RV_bottom_164_G_A4_P140.mzXML 514     naive         \n",
       "5 X515_Group1C_142dpi_RV_bottom_165_G_A5_P140.mzXML 515     naive         \n",
       "6 X531_Group1C_142dpi_RV_bottom_166_G_A6_P140.mzXML 531     naive         \n",
       "  DPI    organ     well_position plate mass_400   mass_500   mass_600   \n",
       "1 142dpi RV_bottom A1            P140  0.01070250 0.01878444 0.000000000\n",
       "2 142dpi RV_bottom A2            P140  0.01817401 0.02520786 0.000071700\n",
       "3 142dpi RV_bottom A3            P140  0.01246066 0.01438772 0.000000000\n",
       "4 142dpi RV_bottom A4            P140  0.01393864 0.01860049 0.000228515\n",
       "5 142dpi RV_bottom A5            P140  0.02076094 0.02255642 0.000521923\n",
       "6 142dpi RV_bottom A6            P140  0.01498764 0.01930315 0.000296114\n",
       "  mass_700    mass_800   \n",
       "1 0.000000000 0.000000000\n",
       "2 0.000000000 0.000000000\n",
       "3 0.001022450 0.000313152\n",
       "4 0.000060600 0.000000000\n",
       "5 0.000221919 0.000000000\n",
       "6 0.000000000 0.000000000"
      ]
     },
     "metadata": {},
     "output_type": "display_data"
    },
    {
     "data": {
      "text/html": [
       "<ol class=list-inline>\n",
       "\t<li>60</li>\n",
       "\t<li>12</li>\n",
       "</ol>\n"
      ],
      "text/latex": [
       "\\begin{enumerate*}\n",
       "\\item 60\n",
       "\\item 12\n",
       "\\end{enumerate*}\n"
      ],
      "text/markdown": [
       "1. 60\n",
       "2. 12\n",
       "\n",
       "\n"
      ],
      "text/plain": [
       "[1] 60 12"
      ]
     },
     "metadata": {},
     "output_type": "display_data"
    }
   ],
   "source": [
    "head(a)\n",
    "dim(a)"
   ]
  },
  {
   "cell_type": "code",
   "execution_count": 13,
   "metadata": {},
   "outputs": [
    {
     "data": {
      "text/html": [
       "<table>\n",
       "<thead><tr><th scope=col>filename</th><th scope=col>MouseID</th><th scope=col>Treatmentgroup</th><th scope=col>DPI</th><th scope=col>organ</th><th scope=col>well_position</th><th scope=col>plate</th><th scope=col>mass_400</th><th scope=col>mass_500</th><th scope=col>mass_600</th><th scope=col>mass_700</th><th scope=col>mass_800</th></tr></thead>\n",
       "<tbody>\n",
       "\t<tr><td>X511_Group1C_142dpi_RV_bottom_161_G_A1_P140.mzXML</td><td>511                                              </td><td>naive                                            </td><td>142dpi                                           </td><td>RV_bottom                                        </td><td>A1                                               </td><td>P140                                             </td><td>0.01070250                                       </td><td>0.01878444                                       </td><td>0.000000000                                      </td><td>0.000000000                                      </td><td>0.000000000                                      </td></tr>\n",
       "\t<tr><td>X512_Group1C_142dpi_RV_bottom_162_G_A2_P140.mzXML</td><td>512                                              </td><td>naive                                            </td><td>142dpi                                           </td><td>RV_bottom                                        </td><td>A2                                               </td><td>P140                                             </td><td>0.01817401                                       </td><td>0.02520786                                       </td><td>0.000071700                                      </td><td>0.000000000                                      </td><td>0.000000000                                      </td></tr>\n",
       "\t<tr><td>X513_Group1C_142dpi_RV_bottom_163_G_A3_P140.mzXML</td><td>513                                              </td><td>naive                                            </td><td>142dpi                                           </td><td>RV_bottom                                        </td><td>A3                                               </td><td>P140                                             </td><td>0.01246066                                       </td><td>0.01438772                                       </td><td>0.000000000                                      </td><td>0.001022450                                      </td><td>0.000313152                                      </td></tr>\n",
       "\t<tr><td>X514_Group1C_142dpi_RV_bottom_164_G_A4_P140.mzXML</td><td>514                                              </td><td>naive                                            </td><td>142dpi                                           </td><td>RV_bottom                                        </td><td>A4                                               </td><td>P140                                             </td><td>0.01393864                                       </td><td>0.01860049                                       </td><td>0.000228515                                      </td><td>0.000060600                                      </td><td>0.000000000                                      </td></tr>\n",
       "\t<tr><td>X515_Group1C_142dpi_RV_bottom_165_G_A5_P140.mzXML</td><td>515                                              </td><td>naive                                            </td><td>142dpi                                           </td><td>RV_bottom                                        </td><td>A5                                               </td><td>P140                                             </td><td>0.02076094                                       </td><td>0.02255642                                       </td><td>0.000521923                                      </td><td>0.000221919                                      </td><td>0.000000000                                      </td></tr>\n",
       "\t<tr><td>X531_Group1C_142dpi_RV_bottom_166_G_A6_P140.mzXML</td><td>531                                              </td><td>naive                                            </td><td>142dpi                                           </td><td>RV_bottom                                        </td><td>A6                                               </td><td>P140                                             </td><td>0.01498764                                       </td><td>0.01930315                                       </td><td>0.000296114                                      </td><td>0.000000000                                      </td><td>0.000000000                                      </td></tr>\n",
       "</tbody>\n",
       "</table>\n"
      ],
      "text/latex": [
       "\\begin{tabular}{r|llllllllllll}\n",
       " filename & MouseID & Treatmentgroup & DPI & organ & well\\_position & plate & mass\\_400 & mass\\_500 & mass\\_600 & mass\\_700 & mass\\_800\\\\\n",
       "\\hline\n",
       "\t X511\\_Group1C\\_142dpi\\_RV\\_bottom\\_161\\_G\\_A1\\_P140.mzXML & 511                                                               & naive                                                             & 142dpi                                                            & RV\\_bottom                                                       & A1                                                                & P140                                                              & 0.01070250                                                        & 0.01878444                                                        & 0.000000000                                                       & 0.000000000                                                       & 0.000000000                                                      \\\\\n",
       "\t X512\\_Group1C\\_142dpi\\_RV\\_bottom\\_162\\_G\\_A2\\_P140.mzXML & 512                                                               & naive                                                             & 142dpi                                                            & RV\\_bottom                                                       & A2                                                                & P140                                                              & 0.01817401                                                        & 0.02520786                                                        & 0.000071700                                                       & 0.000000000                                                       & 0.000000000                                                      \\\\\n",
       "\t X513\\_Group1C\\_142dpi\\_RV\\_bottom\\_163\\_G\\_A3\\_P140.mzXML & 513                                                               & naive                                                             & 142dpi                                                            & RV\\_bottom                                                       & A3                                                                & P140                                                              & 0.01246066                                                        & 0.01438772                                                        & 0.000000000                                                       & 0.001022450                                                       & 0.000313152                                                      \\\\\n",
       "\t X514\\_Group1C\\_142dpi\\_RV\\_bottom\\_164\\_G\\_A4\\_P140.mzXML & 514                                                               & naive                                                             & 142dpi                                                            & RV\\_bottom                                                       & A4                                                                & P140                                                              & 0.01393864                                                        & 0.01860049                                                        & 0.000228515                                                       & 0.000060600                                                       & 0.000000000                                                      \\\\\n",
       "\t X515\\_Group1C\\_142dpi\\_RV\\_bottom\\_165\\_G\\_A5\\_P140.mzXML & 515                                                               & naive                                                             & 142dpi                                                            & RV\\_bottom                                                       & A5                                                                & P140                                                              & 0.02076094                                                        & 0.02255642                                                        & 0.000521923                                                       & 0.000221919                                                       & 0.000000000                                                      \\\\\n",
       "\t X531\\_Group1C\\_142dpi\\_RV\\_bottom\\_166\\_G\\_A6\\_P140.mzXML & 531                                                               & naive                                                             & 142dpi                                                            & RV\\_bottom                                                       & A6                                                                & P140                                                              & 0.01498764                                                        & 0.01930315                                                        & 0.000296114                                                       & 0.000000000                                                       & 0.000000000                                                      \\\\\n",
       "\\end{tabular}\n"
      ],
      "text/markdown": [
       "\n",
       "| filename | MouseID | Treatmentgroup | DPI | organ | well_position | plate | mass_400 | mass_500 | mass_600 | mass_700 | mass_800 |\n",
       "|---|---|---|---|---|---|---|---|---|---|---|---|\n",
       "| X511_Group1C_142dpi_RV_bottom_161_G_A1_P140.mzXML | 511                                               | naive                                             | 142dpi                                            | RV_bottom                                         | A1                                                | P140                                              | 0.01070250                                        | 0.01878444                                        | 0.000000000                                       | 0.000000000                                       | 0.000000000                                       |\n",
       "| X512_Group1C_142dpi_RV_bottom_162_G_A2_P140.mzXML | 512                                               | naive                                             | 142dpi                                            | RV_bottom                                         | A2                                                | P140                                              | 0.01817401                                        | 0.02520786                                        | 0.000071700                                       | 0.000000000                                       | 0.000000000                                       |\n",
       "| X513_Group1C_142dpi_RV_bottom_163_G_A3_P140.mzXML | 513                                               | naive                                             | 142dpi                                            | RV_bottom                                         | A3                                                | P140                                              | 0.01246066                                        | 0.01438772                                        | 0.000000000                                       | 0.001022450                                       | 0.000313152                                       |\n",
       "| X514_Group1C_142dpi_RV_bottom_164_G_A4_P140.mzXML | 514                                               | naive                                             | 142dpi                                            | RV_bottom                                         | A4                                                | P140                                              | 0.01393864                                        | 0.01860049                                        | 0.000228515                                       | 0.000060600                                       | 0.000000000                                       |\n",
       "| X515_Group1C_142dpi_RV_bottom_165_G_A5_P140.mzXML | 515                                               | naive                                             | 142dpi                                            | RV_bottom                                         | A5                                                | P140                                              | 0.02076094                                        | 0.02255642                                        | 0.000521923                                       | 0.000221919                                       | 0.000000000                                       |\n",
       "| X531_Group1C_142dpi_RV_bottom_166_G_A6_P140.mzXML | 531                                               | naive                                             | 142dpi                                            | RV_bottom                                         | A6                                                | P140                                              | 0.01498764                                        | 0.01930315                                        | 0.000296114                                       | 0.000000000                                       | 0.000000000                                       |\n",
       "\n"
      ],
      "text/plain": [
       "  filename                                          MouseID Treatmentgroup\n",
       "1 X511_Group1C_142dpi_RV_bottom_161_G_A1_P140.mzXML 511     naive         \n",
       "2 X512_Group1C_142dpi_RV_bottom_162_G_A2_P140.mzXML 512     naive         \n",
       "3 X513_Group1C_142dpi_RV_bottom_163_G_A3_P140.mzXML 513     naive         \n",
       "4 X514_Group1C_142dpi_RV_bottom_164_G_A4_P140.mzXML 514     naive         \n",
       "5 X515_Group1C_142dpi_RV_bottom_165_G_A5_P140.mzXML 515     naive         \n",
       "6 X531_Group1C_142dpi_RV_bottom_166_G_A6_P140.mzXML 531     naive         \n",
       "  DPI    organ     well_position plate mass_400   mass_500   mass_600   \n",
       "1 142dpi RV_bottom A1            P140  0.01070250 0.01878444 0.000000000\n",
       "2 142dpi RV_bottom A2            P140  0.01817401 0.02520786 0.000071700\n",
       "3 142dpi RV_bottom A3            P140  0.01246066 0.01438772 0.000000000\n",
       "4 142dpi RV_bottom A4            P140  0.01393864 0.01860049 0.000228515\n",
       "5 142dpi RV_bottom A5            P140  0.02076094 0.02255642 0.000521923\n",
       "6 142dpi RV_bottom A6            P140  0.01498764 0.01930315 0.000296114\n",
       "  mass_700    mass_800   \n",
       "1 0.000000000 0.000000000\n",
       "2 0.000000000 0.000000000\n",
       "3 0.001022450 0.000313152\n",
       "4 0.000060600 0.000000000\n",
       "5 0.000221919 0.000000000\n",
       "6 0.000000000 0.000000000"
      ]
     },
     "metadata": {},
     "output_type": "display_data"
    },
    {
     "data": {
      "text/html": [
       "<ol class=list-inline>\n",
       "\t<li>30</li>\n",
       "\t<li>12</li>\n",
       "</ol>\n"
      ],
      "text/latex": [
       "\\begin{enumerate*}\n",
       "\\item 30\n",
       "\\item 12\n",
       "\\end{enumerate*}\n"
      ],
      "text/markdown": [
       "1. 30\n",
       "2. 12\n",
       "\n",
       "\n"
      ],
      "text/plain": [
       "[1] 30 12"
      ]
     },
     "metadata": {},
     "output_type": "display_data"
    }
   ],
   "source": [
    "features_pos<-droplevels(subset(a, a$Treatmentgroup==c(\"naive\")|a$Treatmentgroup==c(\"BNZ\")))\n",
    "head(features_pos)\n",
    "dim(features_pos)"
   ]
  },
  {
   "cell_type": "code",
   "execution_count": 14,
   "metadata": {
    "scrolled": false
   },
   "outputs": [
    {
     "data": {
      "text/html": [
       "<table>\n",
       "<thead><tr><th scope=col>mass_400</th><th scope=col>mass_500</th><th scope=col>mass_600</th><th scope=col>mass_700</th><th scope=col>mass_800</th></tr></thead>\n",
       "<tbody>\n",
       "\t<tr><td>0.01070250 </td><td>0.01878444 </td><td>0.000000000</td><td>0.000000000</td><td>0.000000000</td></tr>\n",
       "\t<tr><td>0.01817401 </td><td>0.02520786 </td><td>0.000071700</td><td>0.000000000</td><td>0.000000000</td></tr>\n",
       "\t<tr><td>0.01246066 </td><td>0.01438772 </td><td>0.000000000</td><td>0.001022450</td><td>0.000313152</td></tr>\n",
       "\t<tr><td>0.01393864 </td><td>0.01860049 </td><td>0.000228515</td><td>0.000060600</td><td>0.000000000</td></tr>\n",
       "\t<tr><td>0.02076094 </td><td>0.02255642 </td><td>0.000521923</td><td>0.000221919</td><td>0.000000000</td></tr>\n",
       "\t<tr><td>0.01498764 </td><td>0.01930315 </td><td>0.000296114</td><td>0.000000000</td><td>0.000000000</td></tr>\n",
       "</tbody>\n",
       "</table>\n"
      ],
      "text/latex": [
       "\\begin{tabular}{r|lllll}\n",
       " mass\\_400 & mass\\_500 & mass\\_600 & mass\\_700 & mass\\_800\\\\\n",
       "\\hline\n",
       "\t 0.01070250  & 0.01878444  & 0.000000000 & 0.000000000 & 0.000000000\\\\\n",
       "\t 0.01817401  & 0.02520786  & 0.000071700 & 0.000000000 & 0.000000000\\\\\n",
       "\t 0.01246066  & 0.01438772  & 0.000000000 & 0.001022450 & 0.000313152\\\\\n",
       "\t 0.01393864  & 0.01860049  & 0.000228515 & 0.000060600 & 0.000000000\\\\\n",
       "\t 0.02076094  & 0.02255642  & 0.000521923 & 0.000221919 & 0.000000000\\\\\n",
       "\t 0.01498764  & 0.01930315  & 0.000296114 & 0.000000000 & 0.000000000\\\\\n",
       "\\end{tabular}\n"
      ],
      "text/markdown": [
       "\n",
       "| mass_400 | mass_500 | mass_600 | mass_700 | mass_800 |\n",
       "|---|---|---|---|---|\n",
       "| 0.01070250  | 0.01878444  | 0.000000000 | 0.000000000 | 0.000000000 |\n",
       "| 0.01817401  | 0.02520786  | 0.000071700 | 0.000000000 | 0.000000000 |\n",
       "| 0.01246066  | 0.01438772  | 0.000000000 | 0.001022450 | 0.000313152 |\n",
       "| 0.01393864  | 0.01860049  | 0.000228515 | 0.000060600 | 0.000000000 |\n",
       "| 0.02076094  | 0.02255642  | 0.000521923 | 0.000221919 | 0.000000000 |\n",
       "| 0.01498764  | 0.01930315  | 0.000296114 | 0.000000000 | 0.000000000 |\n",
       "\n"
      ],
      "text/plain": [
       "  mass_400   mass_500   mass_600    mass_700    mass_800   \n",
       "1 0.01070250 0.01878444 0.000000000 0.000000000 0.000000000\n",
       "2 0.01817401 0.02520786 0.000071700 0.000000000 0.000000000\n",
       "3 0.01246066 0.01438772 0.000000000 0.001022450 0.000313152\n",
       "4 0.01393864 0.01860049 0.000228515 0.000060600 0.000000000\n",
       "5 0.02076094 0.02255642 0.000521923 0.000221919 0.000000000\n",
       "6 0.01498764 0.01930315 0.000296114 0.000000000 0.000000000"
      ]
     },
     "metadata": {},
     "output_type": "display_data"
    },
    {
     "data": {
      "text/html": [
       "<dl class=dl-horizontal>\n",
       "\t<dt>mass_400</dt>\n",
       "\t\t<dd>1</dd>\n",
       "\t<dt>mass_500</dt>\n",
       "\t\t<dd>2</dd>\n",
       "\t<dt>mass_600</dt>\n",
       "\t\t<dd>3</dd>\n",
       "\t<dt>mass_700</dt>\n",
       "\t\t<dd>4</dd>\n",
       "\t<dt>mass_800</dt>\n",
       "\t\t<dd>5</dd>\n",
       "</dl>\n"
      ],
      "text/latex": [
       "\\begin{description*}\n",
       "\\item[mass\\textbackslash{}\\_400] 1\n",
       "\\item[mass\\textbackslash{}\\_500] 2\n",
       "\\item[mass\\textbackslash{}\\_600] 3\n",
       "\\item[mass\\textbackslash{}\\_700] 4\n",
       "\\item[mass\\textbackslash{}\\_800] 5\n",
       "\\end{description*}\n"
      ],
      "text/markdown": [
       "mass_400\n",
       ":   1mass_500\n",
       ":   2mass_600\n",
       ":   3mass_700\n",
       ":   4mass_800\n",
       ":   5\n",
       "\n"
      ],
      "text/plain": [
       "mass_400 mass_500 mass_600 mass_700 mass_800 \n",
       "       1        2        3        4        5 "
      ]
     },
     "metadata": {},
     "output_type": "display_data"
    },
    {
     "data": {
      "text/html": [
       "<table>\n",
       "<thead><tr><th></th><th scope=col>mass_400</th><th scope=col>mass_500</th><th scope=col>mass_600</th><th scope=col>mass_700</th><th scope=col>mass_800</th></tr></thead>\n",
       "<tbody>\n",
       "\t<tr><th scope=row>1</th><td>0.010702499</td><td>0.018784438</td><td>0.000000000</td><td>0.000000000</td><td>0.000000000</td></tr>\n",
       "\t<tr><th scope=row>2</th><td>0.018174011</td><td>0.025207861</td><td>0.000071700</td><td>0.000000000</td><td>0.000000000</td></tr>\n",
       "\t<tr><th scope=row>3</th><td>0.012460664</td><td>0.014387724</td><td>0.000000000</td><td>0.001022450</td><td>0.000313152</td></tr>\n",
       "\t<tr><th scope=row>4</th><td>0.013938643</td><td>0.018600493</td><td>0.000228515</td><td>0.000060600</td><td>0.000000000</td></tr>\n",
       "\t<tr><th scope=row>5</th><td>0.020760944</td><td>0.022556423</td><td>0.000521923</td><td>0.000221919</td><td>0.000000000</td></tr>\n",
       "\t<tr><th scope=row>6</th><td>0.014987640</td><td>0.019303145</td><td>0.000296114</td><td>0.000000000</td><td>0.000000000</td></tr>\n",
       "\t<tr><th scope=row>7</th><td>0.009144121</td><td>0.010922774</td><td>0.000069900</td><td>0.000535351</td><td>0.000000000</td></tr>\n",
       "\t<tr><th scope=row>8</th><td>0.013248665</td><td>0.016402516</td><td>0.000258726</td><td>0.000000000</td><td>0.000000000</td></tr>\n",
       "\t<tr><th scope=row>9</th><td>0.018191462</td><td>0.025543651</td><td>0.000340055</td><td>0.000000000</td><td>0.000000000</td></tr>\n",
       "\t<tr><th scope=row>10</th><td>0.016060150</td><td>0.018755666</td><td>0.000392582</td><td>0.000000000</td><td>0.000000000</td></tr>\n",
       "\t<tr><th scope=row>11</th><td>0.011397485</td><td>0.014785037</td><td>0.000075700</td><td>0.000000000</td><td>0.000000000</td></tr>\n",
       "\t<tr><th scope=row>12</th><td>0.018691804</td><td>0.026686093</td><td>0.000395796</td><td>0.007106253</td><td>0.000446986</td></tr>\n",
       "\t<tr><th scope=row>13</th><td>0.011098198</td><td>0.013178015</td><td>0.000071300</td><td>0.000000000</td><td>0.000000000</td></tr>\n",
       "\t<tr><th scope=row>14</th><td>0.015217468</td><td>0.018241127</td><td>0.000079600</td><td>0.000000000</td><td>0.000000000</td></tr>\n",
       "\t<tr><th scope=row>15</th><td>0.013284542</td><td>0.016334998</td><td>0.000326134</td><td>0.000000000</td><td>0.000000000</td></tr>\n",
       "\t<tr><th scope=row>26</th><td>0.007016621</td><td>0.006798712</td><td>0.000000000</td><td>0.000000000</td><td>0.000000000</td></tr>\n",
       "\t<tr><th scope=row>27</th><td>0.008655128</td><td>0.012179072</td><td>0.000107000</td><td>0.000000000</td><td>0.000000000</td></tr>\n",
       "\t<tr><th scope=row>28</th><td>0.010200587</td><td>0.012376714</td><td>0.000127000</td><td>0.001075769</td><td>0.000328818</td></tr>\n",
       "\t<tr><th scope=row>29</th><td>0.007281539</td><td>0.008793280</td><td>0.000054400</td><td>0.000000000</td><td>0.000000000</td></tr>\n",
       "\t<tr><th scope=row>30</th><td>0.006160375</td><td>0.007374431</td><td>0.000000000</td><td>0.000000000</td><td>0.000000000</td></tr>\n",
       "\t<tr><th scope=row>41</th><td>0.016965821</td><td>0.020466452</td><td>0.000646380</td><td>0.000000000</td><td>0.000000000</td></tr>\n",
       "\t<tr><th scope=row>42</th><td>0.010733080</td><td>0.012014997</td><td>0.000061600</td><td>0.000000000</td><td>0.000000000</td></tr>\n",
       "\t<tr><th scope=row>43</th><td>0.014516474</td><td>0.019125070</td><td>0.000307490</td><td>0.000769437</td><td>0.000000000</td></tr>\n",
       "\t<tr><th scope=row>44</th><td>0.009278756</td><td>0.011863596</td><td>0.000000000</td><td>0.000000000</td><td>0.000000000</td></tr>\n",
       "\t<tr><th scope=row>45</th><td>0.013203201</td><td>0.017329112</td><td>0.000352713</td><td>0.000000000</td><td>0.000000000</td></tr>\n",
       "\t<tr><th scope=row>56</th><td>0.011769697</td><td>0.015771994</td><td>0.000183612</td><td>0.000000000</td><td>0.000000000</td></tr>\n",
       "\t<tr><th scope=row>57</th><td>0.014225184</td><td>0.018622006</td><td>0.000243862</td><td>0.001152529</td><td>0.000000000</td></tr>\n",
       "\t<tr><th scope=row>58</th><td>0.014001479</td><td>0.017511573</td><td>0.000000000</td><td>0.000000000</td><td>0.000000000</td></tr>\n",
       "\t<tr><th scope=row>59</th><td>0.017526422</td><td>0.019851383</td><td>0.000306624</td><td>0.000000000</td><td>0.000000000</td></tr>\n",
       "\t<tr><th scope=row>60</th><td>0.017541619</td><td>0.024772188</td><td>0.000447064</td><td>0.001088230</td><td>0.000000000</td></tr>\n",
       "</tbody>\n",
       "</table>\n"
      ],
      "text/latex": [
       "\\begin{tabular}{r|lllll}\n",
       "  & mass\\_400 & mass\\_500 & mass\\_600 & mass\\_700 & mass\\_800\\\\\n",
       "\\hline\n",
       "\t1 & 0.010702499 & 0.018784438 & 0.000000000 & 0.000000000 & 0.000000000\\\\\n",
       "\t2 & 0.018174011 & 0.025207861 & 0.000071700 & 0.000000000 & 0.000000000\\\\\n",
       "\t3 & 0.012460664 & 0.014387724 & 0.000000000 & 0.001022450 & 0.000313152\\\\\n",
       "\t4 & 0.013938643 & 0.018600493 & 0.000228515 & 0.000060600 & 0.000000000\\\\\n",
       "\t5 & 0.020760944 & 0.022556423 & 0.000521923 & 0.000221919 & 0.000000000\\\\\n",
       "\t6 & 0.014987640 & 0.019303145 & 0.000296114 & 0.000000000 & 0.000000000\\\\\n",
       "\t7 & 0.009144121 & 0.010922774 & 0.000069900 & 0.000535351 & 0.000000000\\\\\n",
       "\t8 & 0.013248665 & 0.016402516 & 0.000258726 & 0.000000000 & 0.000000000\\\\\n",
       "\t9 & 0.018191462 & 0.025543651 & 0.000340055 & 0.000000000 & 0.000000000\\\\\n",
       "\t10 & 0.016060150 & 0.018755666 & 0.000392582 & 0.000000000 & 0.000000000\\\\\n",
       "\t11 & 0.011397485 & 0.014785037 & 0.000075700 & 0.000000000 & 0.000000000\\\\\n",
       "\t12 & 0.018691804 & 0.026686093 & 0.000395796 & 0.007106253 & 0.000446986\\\\\n",
       "\t13 & 0.011098198 & 0.013178015 & 0.000071300 & 0.000000000 & 0.000000000\\\\\n",
       "\t14 & 0.015217468 & 0.018241127 & 0.000079600 & 0.000000000 & 0.000000000\\\\\n",
       "\t15 & 0.013284542 & 0.016334998 & 0.000326134 & 0.000000000 & 0.000000000\\\\\n",
       "\t26 & 0.007016621 & 0.006798712 & 0.000000000 & 0.000000000 & 0.000000000\\\\\n",
       "\t27 & 0.008655128 & 0.012179072 & 0.000107000 & 0.000000000 & 0.000000000\\\\\n",
       "\t28 & 0.010200587 & 0.012376714 & 0.000127000 & 0.001075769 & 0.000328818\\\\\n",
       "\t29 & 0.007281539 & 0.008793280 & 0.000054400 & 0.000000000 & 0.000000000\\\\\n",
       "\t30 & 0.006160375 & 0.007374431 & 0.000000000 & 0.000000000 & 0.000000000\\\\\n",
       "\t41 & 0.016965821 & 0.020466452 & 0.000646380 & 0.000000000 & 0.000000000\\\\\n",
       "\t42 & 0.010733080 & 0.012014997 & 0.000061600 & 0.000000000 & 0.000000000\\\\\n",
       "\t43 & 0.014516474 & 0.019125070 & 0.000307490 & 0.000769437 & 0.000000000\\\\\n",
       "\t44 & 0.009278756 & 0.011863596 & 0.000000000 & 0.000000000 & 0.000000000\\\\\n",
       "\t45 & 0.013203201 & 0.017329112 & 0.000352713 & 0.000000000 & 0.000000000\\\\\n",
       "\t56 & 0.011769697 & 0.015771994 & 0.000183612 & 0.000000000 & 0.000000000\\\\\n",
       "\t57 & 0.014225184 & 0.018622006 & 0.000243862 & 0.001152529 & 0.000000000\\\\\n",
       "\t58 & 0.014001479 & 0.017511573 & 0.000000000 & 0.000000000 & 0.000000000\\\\\n",
       "\t59 & 0.017526422 & 0.019851383 & 0.000306624 & 0.000000000 & 0.000000000\\\\\n",
       "\t60 & 0.017541619 & 0.024772188 & 0.000447064 & 0.001088230 & 0.000000000\\\\\n",
       "\\end{tabular}\n"
      ],
      "text/markdown": [
       "\n",
       "| <!--/--> | mass_400 | mass_500 | mass_600 | mass_700 | mass_800 |\n",
       "|---|---|---|---|---|---|\n",
       "| 1 | 0.010702499 | 0.018784438 | 0.000000000 | 0.000000000 | 0.000000000 |\n",
       "| 2 | 0.018174011 | 0.025207861 | 0.000071700 | 0.000000000 | 0.000000000 |\n",
       "| 3 | 0.012460664 | 0.014387724 | 0.000000000 | 0.001022450 | 0.000313152 |\n",
       "| 4 | 0.013938643 | 0.018600493 | 0.000228515 | 0.000060600 | 0.000000000 |\n",
       "| 5 | 0.020760944 | 0.022556423 | 0.000521923 | 0.000221919 | 0.000000000 |\n",
       "| 6 | 0.014987640 | 0.019303145 | 0.000296114 | 0.000000000 | 0.000000000 |\n",
       "| 7 | 0.009144121 | 0.010922774 | 0.000069900 | 0.000535351 | 0.000000000 |\n",
       "| 8 | 0.013248665 | 0.016402516 | 0.000258726 | 0.000000000 | 0.000000000 |\n",
       "| 9 | 0.018191462 | 0.025543651 | 0.000340055 | 0.000000000 | 0.000000000 |\n",
       "| 10 | 0.016060150 | 0.018755666 | 0.000392582 | 0.000000000 | 0.000000000 |\n",
       "| 11 | 0.011397485 | 0.014785037 | 0.000075700 | 0.000000000 | 0.000000000 |\n",
       "| 12 | 0.018691804 | 0.026686093 | 0.000395796 | 0.007106253 | 0.000446986 |\n",
       "| 13 | 0.011098198 | 0.013178015 | 0.000071300 | 0.000000000 | 0.000000000 |\n",
       "| 14 | 0.015217468 | 0.018241127 | 0.000079600 | 0.000000000 | 0.000000000 |\n",
       "| 15 | 0.013284542 | 0.016334998 | 0.000326134 | 0.000000000 | 0.000000000 |\n",
       "| 26 | 0.007016621 | 0.006798712 | 0.000000000 | 0.000000000 | 0.000000000 |\n",
       "| 27 | 0.008655128 | 0.012179072 | 0.000107000 | 0.000000000 | 0.000000000 |\n",
       "| 28 | 0.010200587 | 0.012376714 | 0.000127000 | 0.001075769 | 0.000328818 |\n",
       "| 29 | 0.007281539 | 0.008793280 | 0.000054400 | 0.000000000 | 0.000000000 |\n",
       "| 30 | 0.006160375 | 0.007374431 | 0.000000000 | 0.000000000 | 0.000000000 |\n",
       "| 41 | 0.016965821 | 0.020466452 | 0.000646380 | 0.000000000 | 0.000000000 |\n",
       "| 42 | 0.010733080 | 0.012014997 | 0.000061600 | 0.000000000 | 0.000000000 |\n",
       "| 43 | 0.014516474 | 0.019125070 | 0.000307490 | 0.000769437 | 0.000000000 |\n",
       "| 44 | 0.009278756 | 0.011863596 | 0.000000000 | 0.000000000 | 0.000000000 |\n",
       "| 45 | 0.013203201 | 0.017329112 | 0.000352713 | 0.000000000 | 0.000000000 |\n",
       "| 56 | 0.011769697 | 0.015771994 | 0.000183612 | 0.000000000 | 0.000000000 |\n",
       "| 57 | 0.014225184 | 0.018622006 | 0.000243862 | 0.001152529 | 0.000000000 |\n",
       "| 58 | 0.014001479 | 0.017511573 | 0.000000000 | 0.000000000 | 0.000000000 |\n",
       "| 59 | 0.017526422 | 0.019851383 | 0.000306624 | 0.000000000 | 0.000000000 |\n",
       "| 60 | 0.017541619 | 0.024772188 | 0.000447064 | 0.001088230 | 0.000000000 |\n",
       "\n"
      ],
      "text/plain": [
       "   mass_400    mass_500    mass_600    mass_700    mass_800   \n",
       "1  0.010702499 0.018784438 0.000000000 0.000000000 0.000000000\n",
       "2  0.018174011 0.025207861 0.000071700 0.000000000 0.000000000\n",
       "3  0.012460664 0.014387724 0.000000000 0.001022450 0.000313152\n",
       "4  0.013938643 0.018600493 0.000228515 0.000060600 0.000000000\n",
       "5  0.020760944 0.022556423 0.000521923 0.000221919 0.000000000\n",
       "6  0.014987640 0.019303145 0.000296114 0.000000000 0.000000000\n",
       "7  0.009144121 0.010922774 0.000069900 0.000535351 0.000000000\n",
       "8  0.013248665 0.016402516 0.000258726 0.000000000 0.000000000\n",
       "9  0.018191462 0.025543651 0.000340055 0.000000000 0.000000000\n",
       "10 0.016060150 0.018755666 0.000392582 0.000000000 0.000000000\n",
       "11 0.011397485 0.014785037 0.000075700 0.000000000 0.000000000\n",
       "12 0.018691804 0.026686093 0.000395796 0.007106253 0.000446986\n",
       "13 0.011098198 0.013178015 0.000071300 0.000000000 0.000000000\n",
       "14 0.015217468 0.018241127 0.000079600 0.000000000 0.000000000\n",
       "15 0.013284542 0.016334998 0.000326134 0.000000000 0.000000000\n",
       "26 0.007016621 0.006798712 0.000000000 0.000000000 0.000000000\n",
       "27 0.008655128 0.012179072 0.000107000 0.000000000 0.000000000\n",
       "28 0.010200587 0.012376714 0.000127000 0.001075769 0.000328818\n",
       "29 0.007281539 0.008793280 0.000054400 0.000000000 0.000000000\n",
       "30 0.006160375 0.007374431 0.000000000 0.000000000 0.000000000\n",
       "41 0.016965821 0.020466452 0.000646380 0.000000000 0.000000000\n",
       "42 0.010733080 0.012014997 0.000061600 0.000000000 0.000000000\n",
       "43 0.014516474 0.019125070 0.000307490 0.000769437 0.000000000\n",
       "44 0.009278756 0.011863596 0.000000000 0.000000000 0.000000000\n",
       "45 0.013203201 0.017329112 0.000352713 0.000000000 0.000000000\n",
       "56 0.011769697 0.015771994 0.000183612 0.000000000 0.000000000\n",
       "57 0.014225184 0.018622006 0.000243862 0.001152529 0.000000000\n",
       "58 0.014001479 0.017511573 0.000000000 0.000000000 0.000000000\n",
       "59 0.017526422 0.019851383 0.000306624 0.000000000 0.000000000\n",
       "60 0.017541619 0.024772188 0.000447064 0.001088230 0.000000000"
      ]
     },
     "metadata": {},
     "output_type": "display_data"
    },
    {
     "data": {
      "text/html": [
       "<table>\n",
       "<thead><tr><th scope=col>filename</th><th scope=col>MouseID</th><th scope=col>Treatmentgroup</th><th scope=col>DPI</th><th scope=col>organ</th><th scope=col>well_position</th><th scope=col>plate</th><th scope=col>mass_400</th><th scope=col>mass_500</th><th scope=col>mass_600</th><th scope=col>mass_700</th><th scope=col>mass_800</th></tr></thead>\n",
       "<tbody>\n",
       "\t<tr><td>X511_Group1C_142dpi_RV_bottom_161_G_A1_P140.mzXML</td><td>511                                              </td><td>naive                                            </td><td>142dpi                                           </td><td>RV_bottom                                        </td><td>A1                                               </td><td>P140                                             </td><td>0.01070250                                       </td><td>0.01878444                                       </td><td>0.000000000                                      </td><td>0.000000000                                      </td><td>0.000000000                                      </td></tr>\n",
       "\t<tr><td>X512_Group1C_142dpi_RV_bottom_162_G_A2_P140.mzXML</td><td>512                                              </td><td>naive                                            </td><td>142dpi                                           </td><td>RV_bottom                                        </td><td>A2                                               </td><td>P140                                             </td><td>0.01817401                                       </td><td>0.02520786                                       </td><td>0.000071700                                      </td><td>0.000000000                                      </td><td>0.000000000                                      </td></tr>\n",
       "\t<tr><td>X513_Group1C_142dpi_RV_bottom_163_G_A3_P140.mzXML</td><td>513                                              </td><td>naive                                            </td><td>142dpi                                           </td><td>RV_bottom                                        </td><td>A3                                               </td><td>P140                                             </td><td>0.01246066                                       </td><td>0.01438772                                       </td><td>0.000000000                                      </td><td>0.001022450                                      </td><td>0.000313152                                      </td></tr>\n",
       "\t<tr><td>X514_Group1C_142dpi_RV_bottom_164_G_A4_P140.mzXML</td><td>514                                              </td><td>naive                                            </td><td>142dpi                                           </td><td>RV_bottom                                        </td><td>A4                                               </td><td>P140                                             </td><td>0.01393864                                       </td><td>0.01860049                                       </td><td>0.000228515                                      </td><td>0.000060600                                      </td><td>0.000000000                                      </td></tr>\n",
       "\t<tr><td>X515_Group1C_142dpi_RV_bottom_165_G_A5_P140.mzXML</td><td>515                                              </td><td>naive                                            </td><td>142dpi                                           </td><td>RV_bottom                                        </td><td>A5                                               </td><td>P140                                             </td><td>0.02076094                                       </td><td>0.02255642                                       </td><td>0.000521923                                      </td><td>0.000221919                                      </td><td>0.000000000                                      </td></tr>\n",
       "\t<tr><td>X531_Group1C_142dpi_RV_bottom_166_G_A6_P140.mzXML</td><td>531                                              </td><td>naive                                            </td><td>142dpi                                           </td><td>RV_bottom                                        </td><td>A6                                               </td><td>P140                                             </td><td>0.01498764                                       </td><td>0.01930315                                       </td><td>0.000296114                                      </td><td>0.000000000                                      </td><td>0.000000000                                      </td></tr>\n",
       "</tbody>\n",
       "</table>\n"
      ],
      "text/latex": [
       "\\begin{tabular}{r|llllllllllll}\n",
       " filename & MouseID & Treatmentgroup & DPI & organ & well\\_position & plate & mass\\_400 & mass\\_500 & mass\\_600 & mass\\_700 & mass\\_800\\\\\n",
       "\\hline\n",
       "\t X511\\_Group1C\\_142dpi\\_RV\\_bottom\\_161\\_G\\_A1\\_P140.mzXML & 511                                                               & naive                                                             & 142dpi                                                            & RV\\_bottom                                                       & A1                                                                & P140                                                              & 0.01070250                                                        & 0.01878444                                                        & 0.000000000                                                       & 0.000000000                                                       & 0.000000000                                                      \\\\\n",
       "\t X512\\_Group1C\\_142dpi\\_RV\\_bottom\\_162\\_G\\_A2\\_P140.mzXML & 512                                                               & naive                                                             & 142dpi                                                            & RV\\_bottom                                                       & A2                                                                & P140                                                              & 0.01817401                                                        & 0.02520786                                                        & 0.000071700                                                       & 0.000000000                                                       & 0.000000000                                                      \\\\\n",
       "\t X513\\_Group1C\\_142dpi\\_RV\\_bottom\\_163\\_G\\_A3\\_P140.mzXML & 513                                                               & naive                                                             & 142dpi                                                            & RV\\_bottom                                                       & A3                                                                & P140                                                              & 0.01246066                                                        & 0.01438772                                                        & 0.000000000                                                       & 0.001022450                                                       & 0.000313152                                                      \\\\\n",
       "\t X514\\_Group1C\\_142dpi\\_RV\\_bottom\\_164\\_G\\_A4\\_P140.mzXML & 514                                                               & naive                                                             & 142dpi                                                            & RV\\_bottom                                                       & A4                                                                & P140                                                              & 0.01393864                                                        & 0.01860049                                                        & 0.000228515                                                       & 0.000060600                                                       & 0.000000000                                                      \\\\\n",
       "\t X515\\_Group1C\\_142dpi\\_RV\\_bottom\\_165\\_G\\_A5\\_P140.mzXML & 515                                                               & naive                                                             & 142dpi                                                            & RV\\_bottom                                                       & A5                                                                & P140                                                              & 0.02076094                                                        & 0.02255642                                                        & 0.000521923                                                       & 0.000221919                                                       & 0.000000000                                                      \\\\\n",
       "\t X531\\_Group1C\\_142dpi\\_RV\\_bottom\\_166\\_G\\_A6\\_P140.mzXML & 531                                                               & naive                                                             & 142dpi                                                            & RV\\_bottom                                                       & A6                                                                & P140                                                              & 0.01498764                                                        & 0.01930315                                                        & 0.000296114                                                       & 0.000000000                                                       & 0.000000000                                                      \\\\\n",
       "\\end{tabular}\n"
      ],
      "text/markdown": [
       "\n",
       "| filename | MouseID | Treatmentgroup | DPI | organ | well_position | plate | mass_400 | mass_500 | mass_600 | mass_700 | mass_800 |\n",
       "|---|---|---|---|---|---|---|---|---|---|---|---|\n",
       "| X511_Group1C_142dpi_RV_bottom_161_G_A1_P140.mzXML | 511                                               | naive                                             | 142dpi                                            | RV_bottom                                         | A1                                                | P140                                              | 0.01070250                                        | 0.01878444                                        | 0.000000000                                       | 0.000000000                                       | 0.000000000                                       |\n",
       "| X512_Group1C_142dpi_RV_bottom_162_G_A2_P140.mzXML | 512                                               | naive                                             | 142dpi                                            | RV_bottom                                         | A2                                                | P140                                              | 0.01817401                                        | 0.02520786                                        | 0.000071700                                       | 0.000000000                                       | 0.000000000                                       |\n",
       "| X513_Group1C_142dpi_RV_bottom_163_G_A3_P140.mzXML | 513                                               | naive                                             | 142dpi                                            | RV_bottom                                         | A3                                                | P140                                              | 0.01246066                                        | 0.01438772                                        | 0.000000000                                       | 0.001022450                                       | 0.000313152                                       |\n",
       "| X514_Group1C_142dpi_RV_bottom_164_G_A4_P140.mzXML | 514                                               | naive                                             | 142dpi                                            | RV_bottom                                         | A4                                                | P140                                              | 0.01393864                                        | 0.01860049                                        | 0.000228515                                       | 0.000060600                                       | 0.000000000                                       |\n",
       "| X515_Group1C_142dpi_RV_bottom_165_G_A5_P140.mzXML | 515                                               | naive                                             | 142dpi                                            | RV_bottom                                         | A5                                                | P140                                              | 0.02076094                                        | 0.02255642                                        | 0.000521923                                       | 0.000221919                                       | 0.000000000                                       |\n",
       "| X531_Group1C_142dpi_RV_bottom_166_G_A6_P140.mzXML | 531                                               | naive                                             | 142dpi                                            | RV_bottom                                         | A6                                                | P140                                              | 0.01498764                                        | 0.01930315                                        | 0.000296114                                       | 0.000000000                                       | 0.000000000                                       |\n",
       "\n"
      ],
      "text/plain": [
       "  filename                                          MouseID Treatmentgroup\n",
       "1 X511_Group1C_142dpi_RV_bottom_161_G_A1_P140.mzXML 511     naive         \n",
       "2 X512_Group1C_142dpi_RV_bottom_162_G_A2_P140.mzXML 512     naive         \n",
       "3 X513_Group1C_142dpi_RV_bottom_163_G_A3_P140.mzXML 513     naive         \n",
       "4 X514_Group1C_142dpi_RV_bottom_164_G_A4_P140.mzXML 514     naive         \n",
       "5 X515_Group1C_142dpi_RV_bottom_165_G_A5_P140.mzXML 515     naive         \n",
       "6 X531_Group1C_142dpi_RV_bottom_166_G_A6_P140.mzXML 531     naive         \n",
       "  DPI    organ     well_position plate mass_400   mass_500   mass_600   \n",
       "1 142dpi RV_bottom A1            P140  0.01070250 0.01878444 0.000000000\n",
       "2 142dpi RV_bottom A2            P140  0.01817401 0.02520786 0.000071700\n",
       "3 142dpi RV_bottom A3            P140  0.01246066 0.01438772 0.000000000\n",
       "4 142dpi RV_bottom A4            P140  0.01393864 0.01860049 0.000228515\n",
       "5 142dpi RV_bottom A5            P140  0.02076094 0.02255642 0.000521923\n",
       "6 142dpi RV_bottom A6            P140  0.01498764 0.01930315 0.000296114\n",
       "  mass_700    mass_800   \n",
       "1 0.000000000 0.000000000\n",
       "2 0.000000000 0.000000000\n",
       "3 0.001022450 0.000313152\n",
       "4 0.000060600 0.000000000\n",
       "5 0.000221919 0.000000000\n",
       "6 0.000000000 0.000000000"
      ]
     },
     "metadata": {},
     "output_type": "display_data"
    },
    {
     "data": {
      "text/html": [
       "<ol class=list-inline>\n",
       "\t<li>30</li>\n",
       "\t<li>12</li>\n",
       "</ol>\n"
      ],
      "text/latex": [
       "\\begin{enumerate*}\n",
       "\\item 30\n",
       "\\item 12\n",
       "\\end{enumerate*}\n"
      ],
      "text/markdown": [
       "1. 30\n",
       "2. 12\n",
       "\n",
       "\n"
      ],
      "text/plain": [
       "[1] 30 12"
      ]
     },
     "metadata": {},
     "output_type": "display_data"
    },
    {
     "data": {
      "text/html": [
       "<ol class=list-inline>\n",
       "\t<li>30</li>\n",
       "\t<li>5</li>\n",
       "</ol>\n"
      ],
      "text/latex": [
       "\\begin{enumerate*}\n",
       "\\item 30\n",
       "\\item 5\n",
       "\\end{enumerate*}\n"
      ],
      "text/markdown": [
       "1. 30\n",
       "2. 5\n",
       "\n",
       "\n"
      ],
      "text/plain": [
       "[1] 30  5"
      ]
     },
     "metadata": {},
     "output_type": "display_data"
    },
    {
     "data": {
      "text/html": [
       "<ol class=list-inline>\n",
       "\t<li>30</li>\n",
       "\t<li>5</li>\n",
       "</ol>\n"
      ],
      "text/latex": [
       "\\begin{enumerate*}\n",
       "\\item 30\n",
       "\\item 5\n",
       "\\end{enumerate*}\n"
      ],
      "text/markdown": [
       "1. 30\n",
       "2. 5\n",
       "\n",
       "\n"
      ],
      "text/plain": [
       "[1] 30  5"
      ]
     },
     "metadata": {},
     "output_type": "display_data"
    },
    {
     "data": {
      "text/html": [
       "<ol class=list-inline>\n",
       "\t<li>30</li>\n",
       "\t<li>12</li>\n",
       "</ol>\n"
      ],
      "text/latex": [
       "\\begin{enumerate*}\n",
       "\\item 30\n",
       "\\item 12\n",
       "\\end{enumerate*}\n"
      ],
      "text/markdown": [
       "1. 30\n",
       "2. 12\n",
       "\n",
       "\n"
      ],
      "text/plain": [
       "[1] 30 12"
      ]
     },
     "metadata": {},
     "output_type": "display_data"
    }
   ],
   "source": [
    "noMeta<-features_pos[,8:12]\n",
    "head(noMeta)\n",
    "not_zero<-which(colSums(noMeta) != 0)\n",
    "head(not_zero)\n",
    "nonzero <- noMeta[, not_zero]\n",
    "nonzero\n",
    "nonzero_wMeta<-cbind(features_pos[,1:7], nonzero)\n",
    "head(nonzero_wMeta)\n",
    "dim(features_pos)\n",
    "dim(noMeta)\n",
    "dim(nonzero)\n",
    "dim(nonzero_wMeta)"
   ]
  },
  {
   "cell_type": "code",
   "execution_count": 15,
   "metadata": {
    "scrolled": true
   },
   "outputs": [
    {
     "name": "stderr",
     "output_type": "stream",
     "text": [
      "Warning message in wilcox.test.default(x = c(0, 0.000107, 0.000127, 5.44e-05, 0, :\n",
      "\"cannot compute exact p-value with ties\"Warning message in wilcox.test.default(x = c(0, 0, 0.001075769, 0, 0, 0, 0, 0.000769437, :\n",
      "\"cannot compute exact p-value with ties\"Warning message in wilcox.test.default(x = c(0, 0, 0.000328818, 0, 0, 0, 0, 0, 0, :\n",
      "\"cannot compute exact p-value with ties\""
     ]
    },
    {
     "data": {
      "text/html": [
       "<ol class=list-inline>\n",
       "\t<li>0.0814293446671917</li>\n",
       "\t<li>0.0975257598239064</li>\n",
       "\t<li>0.559915515479562</li>\n",
       "\t<li>0.918507526580693</li>\n",
       "\t<li>0.577155449664142</li>\n",
       "</ol>\n"
      ],
      "text/latex": [
       "\\begin{enumerate*}\n",
       "\\item 0.0814293446671917\n",
       "\\item 0.0975257598239064\n",
       "\\item 0.559915515479562\n",
       "\\item 0.918507526580693\n",
       "\\item 0.577155449664142\n",
       "\\end{enumerate*}\n"
      ],
      "text/markdown": [
       "1. 0.0814293446671917\n",
       "2. 0.0975257598239064\n",
       "3. 0.559915515479562\n",
       "4. 0.918507526580693\n",
       "5. 0.577155449664142\n",
       "\n",
       "\n"
      ],
      "text/plain": [
       "[1] 0.08142934 0.09752576 0.55991552 0.91850753 0.57715545"
      ]
     },
     "metadata": {},
     "output_type": "display_data"
    },
    {
     "data": {
      "text/html": [
       "<ol class=list-inline>\n",
       "\t<li>0.243814399559766</li>\n",
       "\t<li>0.243814399559766</li>\n",
       "\t<li>0.721444312080177</li>\n",
       "\t<li>0.918507526580693</li>\n",
       "\t<li>0.721444312080177</li>\n",
       "</ol>\n"
      ],
      "text/latex": [
       "\\begin{enumerate*}\n",
       "\\item 0.243814399559766\n",
       "\\item 0.243814399559766\n",
       "\\item 0.721444312080177\n",
       "\\item 0.918507526580693\n",
       "\\item 0.721444312080177\n",
       "\\end{enumerate*}\n"
      ],
      "text/markdown": [
       "1. 0.243814399559766\n",
       "2. 0.243814399559766\n",
       "3. 0.721444312080177\n",
       "4. 0.918507526580693\n",
       "5. 0.721444312080177\n",
       "\n",
       "\n"
      ],
      "text/plain": [
       "[1] 0.2438144 0.2438144 0.7214443 0.9185075 0.7214443"
      ]
     },
     "metadata": {},
     "output_type": "display_data"
    }
   ],
   "source": [
    "pval<-c()\n",
    "\n",
    "for (i in 8:ncol(nonzero_wMeta)) \n",
    "pval<-c(pval,wilcox.test(nonzero_wMeta[,i]~nonzero_wMeta$Treatmentgroup)$p.value)\n",
    "head(pval)\n",
    "pAdj <- p.adjust(pval, method = c(\"fdr\"), n=length(pval)) \n",
    "head(pAdj) \n",
    "\n"
   ]
  },
  {
   "cell_type": "code",
   "execution_count": 16,
   "metadata": {
    "scrolled": true
   },
   "outputs": [
    {
     "data": {
      "text/html": [
       "5"
      ],
      "text/latex": [
       "5"
      ],
      "text/markdown": [
       "5"
      ],
      "text/plain": [
       "[1] 5"
      ]
     },
     "metadata": {},
     "output_type": "display_data"
    }
   ],
   "source": [
    "length(pval)"
   ]
  },
  {
   "cell_type": "code",
   "execution_count": 17,
   "metadata": {
    "scrolled": true
   },
   "outputs": [
    {
     "data": {
      "text/html": [
       "5"
      ],
      "text/latex": [
       "5"
      ],
      "text/markdown": [
       "5"
      ],
      "text/plain": [
       "[1] 5"
      ]
     },
     "metadata": {},
     "output_type": "display_data"
    }
   ],
   "source": [
    "length(pAdj)"
   ]
  },
  {
   "cell_type": "code",
   "execution_count": 18,
   "metadata": {},
   "outputs": [
    {
     "data": {
      "text/html": [
       "<ol class=list-inline>\n",
       "\t<li>2</li>\n",
       "\t<li>5</li>\n",
       "</ol>\n"
      ],
      "text/latex": [
       "\\begin{enumerate*}\n",
       "\\item 2\n",
       "\\item 5\n",
       "\\end{enumerate*}\n"
      ],
      "text/markdown": [
       "1. 2\n",
       "2. 5\n",
       "\n",
       "\n"
      ],
      "text/plain": [
       "[1] 2 5"
      ]
     },
     "metadata": {},
     "output_type": "display_data"
    },
    {
     "data": {
      "text/html": [
       "<table>\n",
       "<thead><tr><th></th><th scope=col>mass_400</th><th scope=col>mass_500</th><th scope=col>mass_600</th></tr></thead>\n",
       "<tbody>\n",
       "\t<tr><th scope=row>BNZ</th><td>0.01193840  </td><td>0.01499004  </td><td>0.0001891830</td></tr>\n",
       "\t<tr><th scope=row>naive</th><td>0.01449055  </td><td>0.01864600  </td><td>0.0002085363</td></tr>\n",
       "</tbody>\n",
       "</table>\n"
      ],
      "text/latex": [
       "\\begin{tabular}{r|lll}\n",
       "  & mass\\_400 & mass\\_500 & mass\\_600\\\\\n",
       "\\hline\n",
       "\tBNZ & 0.01193840   & 0.01499004   & 0.0001891830\\\\\n",
       "\tnaive & 0.01449055   & 0.01864600   & 0.0002085363\\\\\n",
       "\\end{tabular}\n"
      ],
      "text/markdown": [
       "\n",
       "| <!--/--> | mass_400 | mass_500 | mass_600 |\n",
       "|---|---|---|---|\n",
       "| BNZ | 0.01193840   | 0.01499004   | 0.0001891830 |\n",
       "| naive | 0.01449055   | 0.01864600   | 0.0002085363 |\n",
       "\n"
      ],
      "text/plain": [
       "      mass_400   mass_500   mass_600    \n",
       "BNZ   0.01193840 0.01499004 0.0001891830\n",
       "naive 0.01449055 0.01864600 0.0002085363"
      ]
     },
     "metadata": {},
     "output_type": "display_data"
    },
    {
     "data": {
      "text/html": [
       "<dl class=dl-horizontal>\n",
       "\t<dt>mass_400</dt>\n",
       "\t\t<dd>0.823874617603738</dd>\n",
       "\t<dt>mass_500</dt>\n",
       "\t\t<dd>0.803927960789411</dd>\n",
       "\t<dt>mass_600</dt>\n",
       "\t\t<dd>0.907194429747654</dd>\n",
       "\t<dt>mass_700</dt>\n",
       "\t\t<dd>0.45670727774758</dd>\n",
       "\t<dt>mass_800</dt>\n",
       "\t\t<dd>0.432576716333087</dd>\n",
       "</dl>\n"
      ],
      "text/latex": [
       "\\begin{description*}\n",
       "\\item[mass\\textbackslash{}\\_400] 0.823874617603738\n",
       "\\item[mass\\textbackslash{}\\_500] 0.803927960789411\n",
       "\\item[mass\\textbackslash{}\\_600] 0.907194429747654\n",
       "\\item[mass\\textbackslash{}\\_700] 0.45670727774758\n",
       "\\item[mass\\textbackslash{}\\_800] 0.432576716333087\n",
       "\\end{description*}\n"
      ],
      "text/markdown": [
       "mass_400\n",
       ":   0.823874617603738mass_500\n",
       ":   0.803927960789411mass_600\n",
       ":   0.907194429747654mass_700\n",
       ":   0.45670727774758mass_800\n",
       ":   0.432576716333087\n",
       "\n"
      ],
      "text/plain": [
       " mass_400  mass_500  mass_600  mass_700  mass_800 \n",
       "0.8238746 0.8039280 0.9071944 0.4567073 0.4325767 "
      ]
     },
     "metadata": {},
     "output_type": "display_data"
    },
    {
     "data": {
      "text/html": [
       "<ol class=list-inline>\n",
       "\t<li>'numeric'</li>\n",
       "\t<li>'vector'</li>\n",
       "</ol>\n"
      ],
      "text/latex": [
       "\\begin{enumerate*}\n",
       "\\item 'numeric'\n",
       "\\item 'vector'\n",
       "\\end{enumerate*}\n"
      ],
      "text/markdown": [
       "1. 'numeric'\n",
       "2. 'vector'\n",
       "\n",
       "\n"
      ],
      "text/plain": [
       "[1] \"numeric\" \"vector\" "
      ]
     },
     "metadata": {},
     "output_type": "display_data"
    }
   ],
   "source": [
    "avg<- apply(nonzero_wMeta[,8:ncol(nonzero_wMeta)], 2, function(x) tapply(x, nonzero_wMeta$Treatmentgroup, function(x) mean(x))) \n",
    "\n",
    "dim(avg) \n",
    "\n",
    "avg[,1:3]\n",
    "\n",
    "fch <- apply(avg, 2, function(x) x[1]/x[2])\n",
    "\n",
    "head(fch) \n",
    "is(fch)"
   ]
  },
  {
   "cell_type": "code",
   "execution_count": 19,
   "metadata": {
    "scrolled": true
   },
   "outputs": [
    {
     "data": {
      "text/html": [
       "<dl class=dl-horizontal>\n",
       "\t<dt>mass_400</dt>\n",
       "\t\t<dd>0.823874617603738</dd>\n",
       "\t<dt>mass_500</dt>\n",
       "\t\t<dd>0.803927960789411</dd>\n",
       "\t<dt>mass_600</dt>\n",
       "\t\t<dd>0.907194429747654</dd>\n",
       "\t<dt>mass_700</dt>\n",
       "\t\t<dd>0.45670727774758</dd>\n",
       "\t<dt>mass_800</dt>\n",
       "\t\t<dd>0.432576716333087</dd>\n",
       "</dl>\n"
      ],
      "text/latex": [
       "\\begin{description*}\n",
       "\\item[mass\\textbackslash{}\\_400] 0.823874617603738\n",
       "\\item[mass\\textbackslash{}\\_500] 0.803927960789411\n",
       "\\item[mass\\textbackslash{}\\_600] 0.907194429747654\n",
       "\\item[mass\\textbackslash{}\\_700] 0.45670727774758\n",
       "\\item[mass\\textbackslash{}\\_800] 0.432576716333087\n",
       "\\end{description*}\n"
      ],
      "text/markdown": [
       "mass_400\n",
       ":   0.823874617603738mass_500\n",
       ":   0.803927960789411mass_600\n",
       ":   0.907194429747654mass_700\n",
       ":   0.45670727774758mass_800\n",
       ":   0.432576716333087\n",
       "\n"
      ],
      "text/plain": [
       " mass_400  mass_500  mass_600  mass_700  mass_800 \n",
       "0.8238746 0.8039280 0.9071944 0.4567073 0.4325767 "
      ]
     },
     "metadata": {},
     "output_type": "display_data"
    }
   ],
   "source": [
    "fch"
   ]
  },
  {
   "cell_type": "code",
   "execution_count": 20,
   "metadata": {
    "scrolled": false
   },
   "outputs": [],
   "source": [
    "df <- data.frame(fch,pval, pAdj)\n",
    "write.csv(df, \"PC-treat-RVB-wilcox-naive-BNZ.csv\")"
   ]
  },
  {
   "cell_type": "code",
   "execution_count": null,
   "metadata": {},
   "outputs": [],
   "source": []
  },
  {
   "cell_type": "code",
   "execution_count": null,
   "metadata": {},
   "outputs": [],
   "source": []
  },
  {
   "cell_type": "code",
   "execution_count": null,
   "metadata": {},
   "outputs": [],
   "source": []
  },
  {
   "cell_type": "code",
   "execution_count": null,
   "metadata": {},
   "outputs": [],
   "source": []
  },
  {
   "cell_type": "code",
   "execution_count": null,
   "metadata": {},
   "outputs": [],
   "source": []
  },
  {
   "cell_type": "code",
   "execution_count": null,
   "metadata": {},
   "outputs": [],
   "source": []
  }
 ],
 "metadata": {
  "kernelspec": {
   "display_name": "R",
   "language": "R",
   "name": "ir"
  },
  "language_info": {
   "codemirror_mode": "r",
   "file_extension": ".r",
   "mimetype": "text/x-r-source",
   "name": "R",
   "pygments_lexer": "r",
   "version": "3.6.1"
  }
 },
 "nbformat": 4,
 "nbformat_minor": 2
}
