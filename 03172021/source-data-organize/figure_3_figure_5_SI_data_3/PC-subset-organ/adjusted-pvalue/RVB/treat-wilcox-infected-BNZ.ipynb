{
 "cells": [
  {
   "cell_type": "code",
   "execution_count": 1,
   "metadata": {},
   "outputs": [],
   "source": [
    "a <- read.csv(\"03172021-PC-treatment-RVB-M-F.csv\")"
   ]
  },
  {
   "cell_type": "code",
   "execution_count": 2,
   "metadata": {},
   "outputs": [
    {
     "data": {
      "text/html": [
       "<table>\n",
       "<thead><tr><th scope=col>filename</th><th scope=col>MouseID</th><th scope=col>Treatmentgroup</th><th scope=col>DPI</th><th scope=col>organ</th><th scope=col>well_position</th><th scope=col>plate</th><th scope=col>mass_400</th><th scope=col>mass_500</th><th scope=col>mass_600</th><th scope=col>mass_700</th><th scope=col>mass_800</th></tr></thead>\n",
       "<tbody>\n",
       "\t<tr><td>X511_Group1C_142dpi_RV_bottom_161_G_A1_P140.mzXML</td><td>511                                              </td><td>naive                                            </td><td>142dpi                                           </td><td>RV_bottom                                        </td><td>A1                                               </td><td>P140                                             </td><td>0.01070250                                       </td><td>0.01878444                                       </td><td>0.000000000                                      </td><td>0.000000000                                      </td><td>0.000000000                                      </td></tr>\n",
       "\t<tr><td>X512_Group1C_142dpi_RV_bottom_162_G_A2_P140.mzXML</td><td>512                                              </td><td>naive                                            </td><td>142dpi                                           </td><td>RV_bottom                                        </td><td>A2                                               </td><td>P140                                             </td><td>0.01817401                                       </td><td>0.02520786                                       </td><td>0.000071700                                      </td><td>0.000000000                                      </td><td>0.000000000                                      </td></tr>\n",
       "\t<tr><td>X513_Group1C_142dpi_RV_bottom_163_G_A3_P140.mzXML</td><td>513                                              </td><td>naive                                            </td><td>142dpi                                           </td><td>RV_bottom                                        </td><td>A3                                               </td><td>P140                                             </td><td>0.01246066                                       </td><td>0.01438772                                       </td><td>0.000000000                                      </td><td>0.001022450                                      </td><td>0.000313152                                      </td></tr>\n",
       "\t<tr><td>X514_Group1C_142dpi_RV_bottom_164_G_A4_P140.mzXML</td><td>514                                              </td><td>naive                                            </td><td>142dpi                                           </td><td>RV_bottom                                        </td><td>A4                                               </td><td>P140                                             </td><td>0.01393864                                       </td><td>0.01860049                                       </td><td>0.000228515                                      </td><td>0.000060600                                      </td><td>0.000000000                                      </td></tr>\n",
       "\t<tr><td>X515_Group1C_142dpi_RV_bottom_165_G_A5_P140.mzXML</td><td>515                                              </td><td>naive                                            </td><td>142dpi                                           </td><td>RV_bottom                                        </td><td>A5                                               </td><td>P140                                             </td><td>0.02076094                                       </td><td>0.02255642                                       </td><td>0.000521923                                      </td><td>0.000221919                                      </td><td>0.000000000                                      </td></tr>\n",
       "\t<tr><td>X531_Group1C_142dpi_RV_bottom_166_G_A6_P140.mzXML</td><td>531                                              </td><td>naive                                            </td><td>142dpi                                           </td><td>RV_bottom                                        </td><td>A6                                               </td><td>P140                                             </td><td>0.01498764                                       </td><td>0.01930315                                       </td><td>0.000296114                                      </td><td>0.000000000                                      </td><td>0.000000000                                      </td></tr>\n",
       "</tbody>\n",
       "</table>\n"
      ],
      "text/latex": [
       "\\begin{tabular}{r|llllllllllll}\n",
       " filename & MouseID & Treatmentgroup & DPI & organ & well\\_position & plate & mass\\_400 & mass\\_500 & mass\\_600 & mass\\_700 & mass\\_800\\\\\n",
       "\\hline\n",
       "\t X511\\_Group1C\\_142dpi\\_RV\\_bottom\\_161\\_G\\_A1\\_P140.mzXML & 511                                                               & naive                                                             & 142dpi                                                            & RV\\_bottom                                                       & A1                                                                & P140                                                              & 0.01070250                                                        & 0.01878444                                                        & 0.000000000                                                       & 0.000000000                                                       & 0.000000000                                                      \\\\\n",
       "\t X512\\_Group1C\\_142dpi\\_RV\\_bottom\\_162\\_G\\_A2\\_P140.mzXML & 512                                                               & naive                                                             & 142dpi                                                            & RV\\_bottom                                                       & A2                                                                & P140                                                              & 0.01817401                                                        & 0.02520786                                                        & 0.000071700                                                       & 0.000000000                                                       & 0.000000000                                                      \\\\\n",
       "\t X513\\_Group1C\\_142dpi\\_RV\\_bottom\\_163\\_G\\_A3\\_P140.mzXML & 513                                                               & naive                                                             & 142dpi                                                            & RV\\_bottom                                                       & A3                                                                & P140                                                              & 0.01246066                                                        & 0.01438772                                                        & 0.000000000                                                       & 0.001022450                                                       & 0.000313152                                                      \\\\\n",
       "\t X514\\_Group1C\\_142dpi\\_RV\\_bottom\\_164\\_G\\_A4\\_P140.mzXML & 514                                                               & naive                                                             & 142dpi                                                            & RV\\_bottom                                                       & A4                                                                & P140                                                              & 0.01393864                                                        & 0.01860049                                                        & 0.000228515                                                       & 0.000060600                                                       & 0.000000000                                                      \\\\\n",
       "\t X515\\_Group1C\\_142dpi\\_RV\\_bottom\\_165\\_G\\_A5\\_P140.mzXML & 515                                                               & naive                                                             & 142dpi                                                            & RV\\_bottom                                                       & A5                                                                & P140                                                              & 0.02076094                                                        & 0.02255642                                                        & 0.000521923                                                       & 0.000221919                                                       & 0.000000000                                                      \\\\\n",
       "\t X531\\_Group1C\\_142dpi\\_RV\\_bottom\\_166\\_G\\_A6\\_P140.mzXML & 531                                                               & naive                                                             & 142dpi                                                            & RV\\_bottom                                                       & A6                                                                & P140                                                              & 0.01498764                                                        & 0.01930315                                                        & 0.000296114                                                       & 0.000000000                                                       & 0.000000000                                                      \\\\\n",
       "\\end{tabular}\n"
      ],
      "text/markdown": [
       "\n",
       "| filename | MouseID | Treatmentgroup | DPI | organ | well_position | plate | mass_400 | mass_500 | mass_600 | mass_700 | mass_800 |\n",
       "|---|---|---|---|---|---|---|---|---|---|---|---|\n",
       "| X511_Group1C_142dpi_RV_bottom_161_G_A1_P140.mzXML | 511                                               | naive                                             | 142dpi                                            | RV_bottom                                         | A1                                                | P140                                              | 0.01070250                                        | 0.01878444                                        | 0.000000000                                       | 0.000000000                                       | 0.000000000                                       |\n",
       "| X512_Group1C_142dpi_RV_bottom_162_G_A2_P140.mzXML | 512                                               | naive                                             | 142dpi                                            | RV_bottom                                         | A2                                                | P140                                              | 0.01817401                                        | 0.02520786                                        | 0.000071700                                       | 0.000000000                                       | 0.000000000                                       |\n",
       "| X513_Group1C_142dpi_RV_bottom_163_G_A3_P140.mzXML | 513                                               | naive                                             | 142dpi                                            | RV_bottom                                         | A3                                                | P140                                              | 0.01246066                                        | 0.01438772                                        | 0.000000000                                       | 0.001022450                                       | 0.000313152                                       |\n",
       "| X514_Group1C_142dpi_RV_bottom_164_G_A4_P140.mzXML | 514                                               | naive                                             | 142dpi                                            | RV_bottom                                         | A4                                                | P140                                              | 0.01393864                                        | 0.01860049                                        | 0.000228515                                       | 0.000060600                                       | 0.000000000                                       |\n",
       "| X515_Group1C_142dpi_RV_bottom_165_G_A5_P140.mzXML | 515                                               | naive                                             | 142dpi                                            | RV_bottom                                         | A5                                                | P140                                              | 0.02076094                                        | 0.02255642                                        | 0.000521923                                       | 0.000221919                                       | 0.000000000                                       |\n",
       "| X531_Group1C_142dpi_RV_bottom_166_G_A6_P140.mzXML | 531                                               | naive                                             | 142dpi                                            | RV_bottom                                         | A6                                                | P140                                              | 0.01498764                                        | 0.01930315                                        | 0.000296114                                       | 0.000000000                                       | 0.000000000                                       |\n",
       "\n"
      ],
      "text/plain": [
       "  filename                                          MouseID Treatmentgroup\n",
       "1 X511_Group1C_142dpi_RV_bottom_161_G_A1_P140.mzXML 511     naive         \n",
       "2 X512_Group1C_142dpi_RV_bottom_162_G_A2_P140.mzXML 512     naive         \n",
       "3 X513_Group1C_142dpi_RV_bottom_163_G_A3_P140.mzXML 513     naive         \n",
       "4 X514_Group1C_142dpi_RV_bottom_164_G_A4_P140.mzXML 514     naive         \n",
       "5 X515_Group1C_142dpi_RV_bottom_165_G_A5_P140.mzXML 515     naive         \n",
       "6 X531_Group1C_142dpi_RV_bottom_166_G_A6_P140.mzXML 531     naive         \n",
       "  DPI    organ     well_position plate mass_400   mass_500   mass_600   \n",
       "1 142dpi RV_bottom A1            P140  0.01070250 0.01878444 0.000000000\n",
       "2 142dpi RV_bottom A2            P140  0.01817401 0.02520786 0.000071700\n",
       "3 142dpi RV_bottom A3            P140  0.01246066 0.01438772 0.000000000\n",
       "4 142dpi RV_bottom A4            P140  0.01393864 0.01860049 0.000228515\n",
       "5 142dpi RV_bottom A5            P140  0.02076094 0.02255642 0.000521923\n",
       "6 142dpi RV_bottom A6            P140  0.01498764 0.01930315 0.000296114\n",
       "  mass_700    mass_800   \n",
       "1 0.000000000 0.000000000\n",
       "2 0.000000000 0.000000000\n",
       "3 0.001022450 0.000313152\n",
       "4 0.000060600 0.000000000\n",
       "5 0.000221919 0.000000000\n",
       "6 0.000000000 0.000000000"
      ]
     },
     "metadata": {},
     "output_type": "display_data"
    },
    {
     "data": {
      "text/html": [
       "<ol class=list-inline>\n",
       "\t<li>60</li>\n",
       "\t<li>12</li>\n",
       "</ol>\n"
      ],
      "text/latex": [
       "\\begin{enumerate*}\n",
       "\\item 60\n",
       "\\item 12\n",
       "\\end{enumerate*}\n"
      ],
      "text/markdown": [
       "1. 60\n",
       "2. 12\n",
       "\n",
       "\n"
      ],
      "text/plain": [
       "[1] 60 12"
      ]
     },
     "metadata": {},
     "output_type": "display_data"
    }
   ],
   "source": [
    "head(a)\n",
    "dim(a)"
   ]
  },
  {
   "cell_type": "code",
   "execution_count": 3,
   "metadata": {},
   "outputs": [
    {
     "data": {
      "text/html": [
       "<table>\n",
       "<thead><tr><th></th><th scope=col>filename</th><th scope=col>MouseID</th><th scope=col>Treatmentgroup</th><th scope=col>DPI</th><th scope=col>organ</th><th scope=col>well_position</th><th scope=col>plate</th><th scope=col>mass_400</th><th scope=col>mass_500</th><th scope=col>mass_600</th><th scope=col>mass_700</th><th scope=col>mass_800</th></tr></thead>\n",
       "<tbody>\n",
       "\t<tr><th scope=row>16</th><td>X581_Group3E_142dpi_RV_bottom_176_G_B4_P140.mzXML</td><td>581                                              </td><td>infected                                         </td><td>142dpi                                           </td><td>RV_bottom                                        </td><td>B4                                               </td><td>P140                                             </td><td>0.014116598                                      </td><td>0.011602317                                      </td><td>0.000071100                                      </td><td>0.00000000                                       </td><td>0.000000000                                      </td></tr>\n",
       "\t<tr><th scope=row>17</th><td>X582_Group3E_142dpi_RV_bottom_177_G_B5_P140.mzXML</td><td>582                                              </td><td>infected                                         </td><td>142dpi                                           </td><td>RV_bottom                                        </td><td>B5                                               </td><td>P140                                             </td><td>0.011548522                                      </td><td>0.011997421                                      </td><td>0.000281116                                      </td><td>0.00000000                                       </td><td>0.000000000                                      </td></tr>\n",
       "\t<tr><th scope=row>18</th><td>X583_Group3E_142dpi_RV_bottom_178_G_B6_P140.mzXML</td><td>583                                              </td><td>infected                                         </td><td>142dpi                                           </td><td>RV_bottom                                        </td><td>B6                                               </td><td>P140                                             </td><td>0.009337858                                      </td><td>0.010103911                                      </td><td>0.000090600                                      </td><td>0.00000000                                       </td><td>0.000000000                                      </td></tr>\n",
       "\t<tr><th scope=row>19</th><td>X584_Group3E_142dpi_RV_bottom_179_G_B7_P140.mzXML</td><td>584                                              </td><td>infected                                         </td><td>142dpi                                           </td><td>RV_bottom                                        </td><td>B7                                               </td><td>P140                                             </td><td>0.013359138                                      </td><td>0.014246993                                      </td><td>0.000215100                                      </td><td>0.00000000                                       </td><td>0.000000000                                      </td></tr>\n",
       "\t<tr><th scope=row>20</th><td>X585_Group3E_142dpi_RV_bottom_180_G_B8_P140.mzXML</td><td>585                                              </td><td>infected                                         </td><td>142dpi                                           </td><td>RV_bottom                                        </td><td>B8                                               </td><td>P140                                             </td><td>0.011763544                                      </td><td>0.014142223                                      </td><td>0.000339557                                      </td><td>0.00237373                                       </td><td>0.001749487                                      </td></tr>\n",
       "\t<tr><th scope=row>26</th><td>X631_Group15_142dpi_RV_bottom_191_G_C7_P140.mzXML</td><td>631                                              </td><td>BNZ                                              </td><td>142dpi                                           </td><td>RV_bottom                                        </td><td>C7                                               </td><td>P140                                             </td><td>0.007016621                                      </td><td>0.006798712                                      </td><td>0.000000000                                      </td><td>0.00000000                                       </td><td>0.000000000                                      </td></tr>\n",
       "</tbody>\n",
       "</table>\n"
      ],
      "text/latex": [
       "\\begin{tabular}{r|llllllllllll}\n",
       "  & filename & MouseID & Treatmentgroup & DPI & organ & well\\_position & plate & mass\\_400 & mass\\_500 & mass\\_600 & mass\\_700 & mass\\_800\\\\\n",
       "\\hline\n",
       "\t16 & X581\\_Group3E\\_142dpi\\_RV\\_bottom\\_176\\_G\\_B4\\_P140.mzXML & 581                                                               & infected                                                          & 142dpi                                                            & RV\\_bottom                                                       & B4                                                                & P140                                                              & 0.014116598                                                       & 0.011602317                                                       & 0.000071100                                                       & 0.00000000                                                        & 0.000000000                                                      \\\\\n",
       "\t17 & X582\\_Group3E\\_142dpi\\_RV\\_bottom\\_177\\_G\\_B5\\_P140.mzXML & 582                                                               & infected                                                          & 142dpi                                                            & RV\\_bottom                                                       & B5                                                                & P140                                                              & 0.011548522                                                       & 0.011997421                                                       & 0.000281116                                                       & 0.00000000                                                        & 0.000000000                                                      \\\\\n",
       "\t18 & X583\\_Group3E\\_142dpi\\_RV\\_bottom\\_178\\_G\\_B6\\_P140.mzXML & 583                                                               & infected                                                          & 142dpi                                                            & RV\\_bottom                                                       & B6                                                                & P140                                                              & 0.009337858                                                       & 0.010103911                                                       & 0.000090600                                                       & 0.00000000                                                        & 0.000000000                                                      \\\\\n",
       "\t19 & X584\\_Group3E\\_142dpi\\_RV\\_bottom\\_179\\_G\\_B7\\_P140.mzXML & 584                                                               & infected                                                          & 142dpi                                                            & RV\\_bottom                                                       & B7                                                                & P140                                                              & 0.013359138                                                       & 0.014246993                                                       & 0.000215100                                                       & 0.00000000                                                        & 0.000000000                                                      \\\\\n",
       "\t20 & X585\\_Group3E\\_142dpi\\_RV\\_bottom\\_180\\_G\\_B8\\_P140.mzXML & 585                                                               & infected                                                          & 142dpi                                                            & RV\\_bottom                                                       & B8                                                                & P140                                                              & 0.011763544                                                       & 0.014142223                                                       & 0.000339557                                                       & 0.00237373                                                        & 0.001749487                                                      \\\\\n",
       "\t26 & X631\\_Group15\\_142dpi\\_RV\\_bottom\\_191\\_G\\_C7\\_P140.mzXML & 631                                                               & BNZ                                                               & 142dpi                                                            & RV\\_bottom                                                       & C7                                                                & P140                                                              & 0.007016621                                                       & 0.006798712                                                       & 0.000000000                                                       & 0.00000000                                                        & 0.000000000                                                      \\\\\n",
       "\\end{tabular}\n"
      ],
      "text/markdown": [
       "\n",
       "| <!--/--> | filename | MouseID | Treatmentgroup | DPI | organ | well_position | plate | mass_400 | mass_500 | mass_600 | mass_700 | mass_800 |\n",
       "|---|---|---|---|---|---|---|---|---|---|---|---|---|\n",
       "| 16 | X581_Group3E_142dpi_RV_bottom_176_G_B4_P140.mzXML | 581                                               | infected                                          | 142dpi                                            | RV_bottom                                         | B4                                                | P140                                              | 0.014116598                                       | 0.011602317                                       | 0.000071100                                       | 0.00000000                                        | 0.000000000                                       |\n",
       "| 17 | X582_Group3E_142dpi_RV_bottom_177_G_B5_P140.mzXML | 582                                               | infected                                          | 142dpi                                            | RV_bottom                                         | B5                                                | P140                                              | 0.011548522                                       | 0.011997421                                       | 0.000281116                                       | 0.00000000                                        | 0.000000000                                       |\n",
       "| 18 | X583_Group3E_142dpi_RV_bottom_178_G_B6_P140.mzXML | 583                                               | infected                                          | 142dpi                                            | RV_bottom                                         | B6                                                | P140                                              | 0.009337858                                       | 0.010103911                                       | 0.000090600                                       | 0.00000000                                        | 0.000000000                                       |\n",
       "| 19 | X584_Group3E_142dpi_RV_bottom_179_G_B7_P140.mzXML | 584                                               | infected                                          | 142dpi                                            | RV_bottom                                         | B7                                                | P140                                              | 0.013359138                                       | 0.014246993                                       | 0.000215100                                       | 0.00000000                                        | 0.000000000                                       |\n",
       "| 20 | X585_Group3E_142dpi_RV_bottom_180_G_B8_P140.mzXML | 585                                               | infected                                          | 142dpi                                            | RV_bottom                                         | B8                                                | P140                                              | 0.011763544                                       | 0.014142223                                       | 0.000339557                                       | 0.00237373                                        | 0.001749487                                       |\n",
       "| 26 | X631_Group15_142dpi_RV_bottom_191_G_C7_P140.mzXML | 631                                               | BNZ                                               | 142dpi                                            | RV_bottom                                         | C7                                                | P140                                              | 0.007016621                                       | 0.006798712                                       | 0.000000000                                       | 0.00000000                                        | 0.000000000                                       |\n",
       "\n"
      ],
      "text/plain": [
       "   filename                                          MouseID Treatmentgroup\n",
       "16 X581_Group3E_142dpi_RV_bottom_176_G_B4_P140.mzXML 581     infected      \n",
       "17 X582_Group3E_142dpi_RV_bottom_177_G_B5_P140.mzXML 582     infected      \n",
       "18 X583_Group3E_142dpi_RV_bottom_178_G_B6_P140.mzXML 583     infected      \n",
       "19 X584_Group3E_142dpi_RV_bottom_179_G_B7_P140.mzXML 584     infected      \n",
       "20 X585_Group3E_142dpi_RV_bottom_180_G_B8_P140.mzXML 585     infected      \n",
       "26 X631_Group15_142dpi_RV_bottom_191_G_C7_P140.mzXML 631     BNZ           \n",
       "   DPI    organ     well_position plate mass_400    mass_500    mass_600   \n",
       "16 142dpi RV_bottom B4            P140  0.014116598 0.011602317 0.000071100\n",
       "17 142dpi RV_bottom B5            P140  0.011548522 0.011997421 0.000281116\n",
       "18 142dpi RV_bottom B6            P140  0.009337858 0.010103911 0.000090600\n",
       "19 142dpi RV_bottom B7            P140  0.013359138 0.014246993 0.000215100\n",
       "20 142dpi RV_bottom B8            P140  0.011763544 0.014142223 0.000339557\n",
       "26 142dpi RV_bottom C7            P140  0.007016621 0.006798712 0.000000000\n",
       "   mass_700   mass_800   \n",
       "16 0.00000000 0.000000000\n",
       "17 0.00000000 0.000000000\n",
       "18 0.00000000 0.000000000\n",
       "19 0.00000000 0.000000000\n",
       "20 0.00237373 0.001749487\n",
       "26 0.00000000 0.000000000"
      ]
     },
     "metadata": {},
     "output_type": "display_data"
    },
    {
     "data": {
      "text/html": [
       "<ol class=list-inline>\n",
       "\t<li>30</li>\n",
       "\t<li>12</li>\n",
       "</ol>\n"
      ],
      "text/latex": [
       "\\begin{enumerate*}\n",
       "\\item 30\n",
       "\\item 12\n",
       "\\end{enumerate*}\n"
      ],
      "text/markdown": [
       "1. 30\n",
       "2. 12\n",
       "\n",
       "\n"
      ],
      "text/plain": [
       "[1] 30 12"
      ]
     },
     "metadata": {},
     "output_type": "display_data"
    }
   ],
   "source": [
    "features_pos<-droplevels(subset(a, a$Treatmentgroup==c(\"infected\")|a$Treatmentgroup==c(\"BNZ\")))\n",
    "head(features_pos)\n",
    "dim(features_pos)"
   ]
  },
  {
   "cell_type": "code",
   "execution_count": 4,
   "metadata": {
    "scrolled": false
   },
   "outputs": [
    {
     "data": {
      "text/html": [
       "<table>\n",
       "<thead><tr><th></th><th scope=col>mass_400</th><th scope=col>mass_500</th><th scope=col>mass_600</th><th scope=col>mass_700</th><th scope=col>mass_800</th></tr></thead>\n",
       "<tbody>\n",
       "\t<tr><th scope=row>16</th><td>0.014116598</td><td>0.011602317</td><td>0.000071100</td><td>0.00000000 </td><td>0.000000000</td></tr>\n",
       "\t<tr><th scope=row>17</th><td>0.011548522</td><td>0.011997421</td><td>0.000281116</td><td>0.00000000 </td><td>0.000000000</td></tr>\n",
       "\t<tr><th scope=row>18</th><td>0.009337858</td><td>0.010103911</td><td>0.000090600</td><td>0.00000000 </td><td>0.000000000</td></tr>\n",
       "\t<tr><th scope=row>19</th><td>0.013359138</td><td>0.014246993</td><td>0.000215100</td><td>0.00000000 </td><td>0.000000000</td></tr>\n",
       "\t<tr><th scope=row>20</th><td>0.011763544</td><td>0.014142223</td><td>0.000339557</td><td>0.00237373 </td><td>0.001749487</td></tr>\n",
       "\t<tr><th scope=row>26</th><td>0.007016621</td><td>0.006798712</td><td>0.000000000</td><td>0.00000000 </td><td>0.000000000</td></tr>\n",
       "</tbody>\n",
       "</table>\n"
      ],
      "text/latex": [
       "\\begin{tabular}{r|lllll}\n",
       "  & mass\\_400 & mass\\_500 & mass\\_600 & mass\\_700 & mass\\_800\\\\\n",
       "\\hline\n",
       "\t16 & 0.014116598 & 0.011602317 & 0.000071100 & 0.00000000  & 0.000000000\\\\\n",
       "\t17 & 0.011548522 & 0.011997421 & 0.000281116 & 0.00000000  & 0.000000000\\\\\n",
       "\t18 & 0.009337858 & 0.010103911 & 0.000090600 & 0.00000000  & 0.000000000\\\\\n",
       "\t19 & 0.013359138 & 0.014246993 & 0.000215100 & 0.00000000  & 0.000000000\\\\\n",
       "\t20 & 0.011763544 & 0.014142223 & 0.000339557 & 0.00237373  & 0.001749487\\\\\n",
       "\t26 & 0.007016621 & 0.006798712 & 0.000000000 & 0.00000000  & 0.000000000\\\\\n",
       "\\end{tabular}\n"
      ],
      "text/markdown": [
       "\n",
       "| <!--/--> | mass_400 | mass_500 | mass_600 | mass_700 | mass_800 |\n",
       "|---|---|---|---|---|---|\n",
       "| 16 | 0.014116598 | 0.011602317 | 0.000071100 | 0.00000000  | 0.000000000 |\n",
       "| 17 | 0.011548522 | 0.011997421 | 0.000281116 | 0.00000000  | 0.000000000 |\n",
       "| 18 | 0.009337858 | 0.010103911 | 0.000090600 | 0.00000000  | 0.000000000 |\n",
       "| 19 | 0.013359138 | 0.014246993 | 0.000215100 | 0.00000000  | 0.000000000 |\n",
       "| 20 | 0.011763544 | 0.014142223 | 0.000339557 | 0.00237373  | 0.001749487 |\n",
       "| 26 | 0.007016621 | 0.006798712 | 0.000000000 | 0.00000000  | 0.000000000 |\n",
       "\n"
      ],
      "text/plain": [
       "   mass_400    mass_500    mass_600    mass_700   mass_800   \n",
       "16 0.014116598 0.011602317 0.000071100 0.00000000 0.000000000\n",
       "17 0.011548522 0.011997421 0.000281116 0.00000000 0.000000000\n",
       "18 0.009337858 0.010103911 0.000090600 0.00000000 0.000000000\n",
       "19 0.013359138 0.014246993 0.000215100 0.00000000 0.000000000\n",
       "20 0.011763544 0.014142223 0.000339557 0.00237373 0.001749487\n",
       "26 0.007016621 0.006798712 0.000000000 0.00000000 0.000000000"
      ]
     },
     "metadata": {},
     "output_type": "display_data"
    },
    {
     "data": {
      "text/html": [
       "<dl class=dl-horizontal>\n",
       "\t<dt>mass_400</dt>\n",
       "\t\t<dd>1</dd>\n",
       "\t<dt>mass_500</dt>\n",
       "\t\t<dd>2</dd>\n",
       "\t<dt>mass_600</dt>\n",
       "\t\t<dd>3</dd>\n",
       "\t<dt>mass_700</dt>\n",
       "\t\t<dd>4</dd>\n",
       "\t<dt>mass_800</dt>\n",
       "\t\t<dd>5</dd>\n",
       "</dl>\n"
      ],
      "text/latex": [
       "\\begin{description*}\n",
       "\\item[mass\\textbackslash{}\\_400] 1\n",
       "\\item[mass\\textbackslash{}\\_500] 2\n",
       "\\item[mass\\textbackslash{}\\_600] 3\n",
       "\\item[mass\\textbackslash{}\\_700] 4\n",
       "\\item[mass\\textbackslash{}\\_800] 5\n",
       "\\end{description*}\n"
      ],
      "text/markdown": [
       "mass_400\n",
       ":   1mass_500\n",
       ":   2mass_600\n",
       ":   3mass_700\n",
       ":   4mass_800\n",
       ":   5\n",
       "\n"
      ],
      "text/plain": [
       "mass_400 mass_500 mass_600 mass_700 mass_800 \n",
       "       1        2        3        4        5 "
      ]
     },
     "metadata": {},
     "output_type": "display_data"
    },
    {
     "data": {
      "text/html": [
       "<table>\n",
       "<thead><tr><th></th><th scope=col>mass_400</th><th scope=col>mass_500</th><th scope=col>mass_600</th><th scope=col>mass_700</th><th scope=col>mass_800</th></tr></thead>\n",
       "<tbody>\n",
       "\t<tr><th scope=row>16</th><td>0.014116598</td><td>0.011602317</td><td>0.000071100</td><td>0.000000000</td><td>0.000000000</td></tr>\n",
       "\t<tr><th scope=row>17</th><td>0.011548522</td><td>0.011997421</td><td>0.000281116</td><td>0.000000000</td><td>0.000000000</td></tr>\n",
       "\t<tr><th scope=row>18</th><td>0.009337858</td><td>0.010103911</td><td>0.000090600</td><td>0.000000000</td><td>0.000000000</td></tr>\n",
       "\t<tr><th scope=row>19</th><td>0.013359138</td><td>0.014246993</td><td>0.000215100</td><td>0.000000000</td><td>0.000000000</td></tr>\n",
       "\t<tr><th scope=row>20</th><td>0.011763544</td><td>0.014142223</td><td>0.000339557</td><td>0.002373730</td><td>0.001749487</td></tr>\n",
       "\t<tr><th scope=row>26</th><td>0.007016621</td><td>0.006798712</td><td>0.000000000</td><td>0.000000000</td><td>0.000000000</td></tr>\n",
       "\t<tr><th scope=row>27</th><td>0.008655128</td><td>0.012179072</td><td>0.000107000</td><td>0.000000000</td><td>0.000000000</td></tr>\n",
       "\t<tr><th scope=row>28</th><td>0.010200587</td><td>0.012376714</td><td>0.000127000</td><td>0.001075769</td><td>0.000328818</td></tr>\n",
       "\t<tr><th scope=row>29</th><td>0.007281539</td><td>0.008793280</td><td>0.000054400</td><td>0.000000000</td><td>0.000000000</td></tr>\n",
       "\t<tr><th scope=row>30</th><td>0.006160375</td><td>0.007374431</td><td>0.000000000</td><td>0.000000000</td><td>0.000000000</td></tr>\n",
       "\t<tr><th scope=row>31</th><td>0.009862041</td><td>0.010239950</td><td>0.000000000</td><td>0.000000000</td><td>0.000000000</td></tr>\n",
       "\t<tr><th scope=row>32</th><td>0.008740944</td><td>0.008528251</td><td>0.000000000</td><td>0.000503301</td><td>0.000377911</td></tr>\n",
       "\t<tr><th scope=row>33</th><td>0.008780162</td><td>0.009389767</td><td>0.000056600</td><td>0.003337624</td><td>0.000150200</td></tr>\n",
       "\t<tr><th scope=row>34</th><td>0.006374382</td><td>0.007392699</td><td>0.000000000</td><td>0.002160511</td><td>0.000391130</td></tr>\n",
       "\t<tr><th scope=row>35</th><td>0.009917605</td><td>0.009401780</td><td>0.000000000</td><td>0.000000000</td><td>0.000000000</td></tr>\n",
       "\t<tr><th scope=row>41</th><td>0.016965821</td><td>0.020466452</td><td>0.000646380</td><td>0.000000000</td><td>0.000000000</td></tr>\n",
       "\t<tr><th scope=row>42</th><td>0.010733080</td><td>0.012014997</td><td>0.000061600</td><td>0.000000000</td><td>0.000000000</td></tr>\n",
       "\t<tr><th scope=row>43</th><td>0.014516474</td><td>0.019125070</td><td>0.000307490</td><td>0.000769437</td><td>0.000000000</td></tr>\n",
       "\t<tr><th scope=row>44</th><td>0.009278756</td><td>0.011863596</td><td>0.000000000</td><td>0.000000000</td><td>0.000000000</td></tr>\n",
       "\t<tr><th scope=row>45</th><td>0.013203201</td><td>0.017329112</td><td>0.000352713</td><td>0.000000000</td><td>0.000000000</td></tr>\n",
       "\t<tr><th scope=row>46</th><td>0.016335059</td><td>0.018147510</td><td>0.000332725</td><td>0.000260947</td><td>0.000128100</td></tr>\n",
       "\t<tr><th scope=row>47</th><td>0.006695043</td><td>0.006900587</td><td>0.000000000</td><td>0.000430910</td><td>0.000000000</td></tr>\n",
       "\t<tr><th scope=row>48</th><td>0.015049297</td><td>0.015620380</td><td>0.000250894</td><td>0.023001420</td><td>0.005810353</td></tr>\n",
       "\t<tr><th scope=row>49</th><td>0.011474780</td><td>0.012824873</td><td>0.000294671</td><td>0.000000000</td><td>0.000000000</td></tr>\n",
       "\t<tr><th scope=row>50</th><td>0.009684411</td><td>0.011539150</td><td>0.000000000</td><td>0.000000000</td><td>0.000000000</td></tr>\n",
       "\t<tr><th scope=row>56</th><td>0.011769697</td><td>0.015771994</td><td>0.000183612</td><td>0.000000000</td><td>0.000000000</td></tr>\n",
       "\t<tr><th scope=row>57</th><td>0.014225184</td><td>0.018622006</td><td>0.000243862</td><td>0.001152529</td><td>0.000000000</td></tr>\n",
       "\t<tr><th scope=row>58</th><td>0.014001479</td><td>0.017511573</td><td>0.000000000</td><td>0.000000000</td><td>0.000000000</td></tr>\n",
       "\t<tr><th scope=row>59</th><td>0.017526422</td><td>0.019851383</td><td>0.000306624</td><td>0.000000000</td><td>0.000000000</td></tr>\n",
       "\t<tr><th scope=row>60</th><td>0.017541619</td><td>0.024772188</td><td>0.000447064</td><td>0.001088230</td><td>0.000000000</td></tr>\n",
       "</tbody>\n",
       "</table>\n"
      ],
      "text/latex": [
       "\\begin{tabular}{r|lllll}\n",
       "  & mass\\_400 & mass\\_500 & mass\\_600 & mass\\_700 & mass\\_800\\\\\n",
       "\\hline\n",
       "\t16 & 0.014116598 & 0.011602317 & 0.000071100 & 0.000000000 & 0.000000000\\\\\n",
       "\t17 & 0.011548522 & 0.011997421 & 0.000281116 & 0.000000000 & 0.000000000\\\\\n",
       "\t18 & 0.009337858 & 0.010103911 & 0.000090600 & 0.000000000 & 0.000000000\\\\\n",
       "\t19 & 0.013359138 & 0.014246993 & 0.000215100 & 0.000000000 & 0.000000000\\\\\n",
       "\t20 & 0.011763544 & 0.014142223 & 0.000339557 & 0.002373730 & 0.001749487\\\\\n",
       "\t26 & 0.007016621 & 0.006798712 & 0.000000000 & 0.000000000 & 0.000000000\\\\\n",
       "\t27 & 0.008655128 & 0.012179072 & 0.000107000 & 0.000000000 & 0.000000000\\\\\n",
       "\t28 & 0.010200587 & 0.012376714 & 0.000127000 & 0.001075769 & 0.000328818\\\\\n",
       "\t29 & 0.007281539 & 0.008793280 & 0.000054400 & 0.000000000 & 0.000000000\\\\\n",
       "\t30 & 0.006160375 & 0.007374431 & 0.000000000 & 0.000000000 & 0.000000000\\\\\n",
       "\t31 & 0.009862041 & 0.010239950 & 0.000000000 & 0.000000000 & 0.000000000\\\\\n",
       "\t32 & 0.008740944 & 0.008528251 & 0.000000000 & 0.000503301 & 0.000377911\\\\\n",
       "\t33 & 0.008780162 & 0.009389767 & 0.000056600 & 0.003337624 & 0.000150200\\\\\n",
       "\t34 & 0.006374382 & 0.007392699 & 0.000000000 & 0.002160511 & 0.000391130\\\\\n",
       "\t35 & 0.009917605 & 0.009401780 & 0.000000000 & 0.000000000 & 0.000000000\\\\\n",
       "\t41 & 0.016965821 & 0.020466452 & 0.000646380 & 0.000000000 & 0.000000000\\\\\n",
       "\t42 & 0.010733080 & 0.012014997 & 0.000061600 & 0.000000000 & 0.000000000\\\\\n",
       "\t43 & 0.014516474 & 0.019125070 & 0.000307490 & 0.000769437 & 0.000000000\\\\\n",
       "\t44 & 0.009278756 & 0.011863596 & 0.000000000 & 0.000000000 & 0.000000000\\\\\n",
       "\t45 & 0.013203201 & 0.017329112 & 0.000352713 & 0.000000000 & 0.000000000\\\\\n",
       "\t46 & 0.016335059 & 0.018147510 & 0.000332725 & 0.000260947 & 0.000128100\\\\\n",
       "\t47 & 0.006695043 & 0.006900587 & 0.000000000 & 0.000430910 & 0.000000000\\\\\n",
       "\t48 & 0.015049297 & 0.015620380 & 0.000250894 & 0.023001420 & 0.005810353\\\\\n",
       "\t49 & 0.011474780 & 0.012824873 & 0.000294671 & 0.000000000 & 0.000000000\\\\\n",
       "\t50 & 0.009684411 & 0.011539150 & 0.000000000 & 0.000000000 & 0.000000000\\\\\n",
       "\t56 & 0.011769697 & 0.015771994 & 0.000183612 & 0.000000000 & 0.000000000\\\\\n",
       "\t57 & 0.014225184 & 0.018622006 & 0.000243862 & 0.001152529 & 0.000000000\\\\\n",
       "\t58 & 0.014001479 & 0.017511573 & 0.000000000 & 0.000000000 & 0.000000000\\\\\n",
       "\t59 & 0.017526422 & 0.019851383 & 0.000306624 & 0.000000000 & 0.000000000\\\\\n",
       "\t60 & 0.017541619 & 0.024772188 & 0.000447064 & 0.001088230 & 0.000000000\\\\\n",
       "\\end{tabular}\n"
      ],
      "text/markdown": [
       "\n",
       "| <!--/--> | mass_400 | mass_500 | mass_600 | mass_700 | mass_800 |\n",
       "|---|---|---|---|---|---|\n",
       "| 16 | 0.014116598 | 0.011602317 | 0.000071100 | 0.000000000 | 0.000000000 |\n",
       "| 17 | 0.011548522 | 0.011997421 | 0.000281116 | 0.000000000 | 0.000000000 |\n",
       "| 18 | 0.009337858 | 0.010103911 | 0.000090600 | 0.000000000 | 0.000000000 |\n",
       "| 19 | 0.013359138 | 0.014246993 | 0.000215100 | 0.000000000 | 0.000000000 |\n",
       "| 20 | 0.011763544 | 0.014142223 | 0.000339557 | 0.002373730 | 0.001749487 |\n",
       "| 26 | 0.007016621 | 0.006798712 | 0.000000000 | 0.000000000 | 0.000000000 |\n",
       "| 27 | 0.008655128 | 0.012179072 | 0.000107000 | 0.000000000 | 0.000000000 |\n",
       "| 28 | 0.010200587 | 0.012376714 | 0.000127000 | 0.001075769 | 0.000328818 |\n",
       "| 29 | 0.007281539 | 0.008793280 | 0.000054400 | 0.000000000 | 0.000000000 |\n",
       "| 30 | 0.006160375 | 0.007374431 | 0.000000000 | 0.000000000 | 0.000000000 |\n",
       "| 31 | 0.009862041 | 0.010239950 | 0.000000000 | 0.000000000 | 0.000000000 |\n",
       "| 32 | 0.008740944 | 0.008528251 | 0.000000000 | 0.000503301 | 0.000377911 |\n",
       "| 33 | 0.008780162 | 0.009389767 | 0.000056600 | 0.003337624 | 0.000150200 |\n",
       "| 34 | 0.006374382 | 0.007392699 | 0.000000000 | 0.002160511 | 0.000391130 |\n",
       "| 35 | 0.009917605 | 0.009401780 | 0.000000000 | 0.000000000 | 0.000000000 |\n",
       "| 41 | 0.016965821 | 0.020466452 | 0.000646380 | 0.000000000 | 0.000000000 |\n",
       "| 42 | 0.010733080 | 0.012014997 | 0.000061600 | 0.000000000 | 0.000000000 |\n",
       "| 43 | 0.014516474 | 0.019125070 | 0.000307490 | 0.000769437 | 0.000000000 |\n",
       "| 44 | 0.009278756 | 0.011863596 | 0.000000000 | 0.000000000 | 0.000000000 |\n",
       "| 45 | 0.013203201 | 0.017329112 | 0.000352713 | 0.000000000 | 0.000000000 |\n",
       "| 46 | 0.016335059 | 0.018147510 | 0.000332725 | 0.000260947 | 0.000128100 |\n",
       "| 47 | 0.006695043 | 0.006900587 | 0.000000000 | 0.000430910 | 0.000000000 |\n",
       "| 48 | 0.015049297 | 0.015620380 | 0.000250894 | 0.023001420 | 0.005810353 |\n",
       "| 49 | 0.011474780 | 0.012824873 | 0.000294671 | 0.000000000 | 0.000000000 |\n",
       "| 50 | 0.009684411 | 0.011539150 | 0.000000000 | 0.000000000 | 0.000000000 |\n",
       "| 56 | 0.011769697 | 0.015771994 | 0.000183612 | 0.000000000 | 0.000000000 |\n",
       "| 57 | 0.014225184 | 0.018622006 | 0.000243862 | 0.001152529 | 0.000000000 |\n",
       "| 58 | 0.014001479 | 0.017511573 | 0.000000000 | 0.000000000 | 0.000000000 |\n",
       "| 59 | 0.017526422 | 0.019851383 | 0.000306624 | 0.000000000 | 0.000000000 |\n",
       "| 60 | 0.017541619 | 0.024772188 | 0.000447064 | 0.001088230 | 0.000000000 |\n",
       "\n"
      ],
      "text/plain": [
       "   mass_400    mass_500    mass_600    mass_700    mass_800   \n",
       "16 0.014116598 0.011602317 0.000071100 0.000000000 0.000000000\n",
       "17 0.011548522 0.011997421 0.000281116 0.000000000 0.000000000\n",
       "18 0.009337858 0.010103911 0.000090600 0.000000000 0.000000000\n",
       "19 0.013359138 0.014246993 0.000215100 0.000000000 0.000000000\n",
       "20 0.011763544 0.014142223 0.000339557 0.002373730 0.001749487\n",
       "26 0.007016621 0.006798712 0.000000000 0.000000000 0.000000000\n",
       "27 0.008655128 0.012179072 0.000107000 0.000000000 0.000000000\n",
       "28 0.010200587 0.012376714 0.000127000 0.001075769 0.000328818\n",
       "29 0.007281539 0.008793280 0.000054400 0.000000000 0.000000000\n",
       "30 0.006160375 0.007374431 0.000000000 0.000000000 0.000000000\n",
       "31 0.009862041 0.010239950 0.000000000 0.000000000 0.000000000\n",
       "32 0.008740944 0.008528251 0.000000000 0.000503301 0.000377911\n",
       "33 0.008780162 0.009389767 0.000056600 0.003337624 0.000150200\n",
       "34 0.006374382 0.007392699 0.000000000 0.002160511 0.000391130\n",
       "35 0.009917605 0.009401780 0.000000000 0.000000000 0.000000000\n",
       "41 0.016965821 0.020466452 0.000646380 0.000000000 0.000000000\n",
       "42 0.010733080 0.012014997 0.000061600 0.000000000 0.000000000\n",
       "43 0.014516474 0.019125070 0.000307490 0.000769437 0.000000000\n",
       "44 0.009278756 0.011863596 0.000000000 0.000000000 0.000000000\n",
       "45 0.013203201 0.017329112 0.000352713 0.000000000 0.000000000\n",
       "46 0.016335059 0.018147510 0.000332725 0.000260947 0.000128100\n",
       "47 0.006695043 0.006900587 0.000000000 0.000430910 0.000000000\n",
       "48 0.015049297 0.015620380 0.000250894 0.023001420 0.005810353\n",
       "49 0.011474780 0.012824873 0.000294671 0.000000000 0.000000000\n",
       "50 0.009684411 0.011539150 0.000000000 0.000000000 0.000000000\n",
       "56 0.011769697 0.015771994 0.000183612 0.000000000 0.000000000\n",
       "57 0.014225184 0.018622006 0.000243862 0.001152529 0.000000000\n",
       "58 0.014001479 0.017511573 0.000000000 0.000000000 0.000000000\n",
       "59 0.017526422 0.019851383 0.000306624 0.000000000 0.000000000\n",
       "60 0.017541619 0.024772188 0.000447064 0.001088230 0.000000000"
      ]
     },
     "metadata": {},
     "output_type": "display_data"
    },
    {
     "data": {
      "text/html": [
       "<table>\n",
       "<thead><tr><th></th><th scope=col>filename</th><th scope=col>MouseID</th><th scope=col>Treatmentgroup</th><th scope=col>DPI</th><th scope=col>organ</th><th scope=col>well_position</th><th scope=col>plate</th><th scope=col>mass_400</th><th scope=col>mass_500</th><th scope=col>mass_600</th><th scope=col>mass_700</th><th scope=col>mass_800</th></tr></thead>\n",
       "<tbody>\n",
       "\t<tr><th scope=row>16</th><td>X581_Group3E_142dpi_RV_bottom_176_G_B4_P140.mzXML</td><td>581                                              </td><td>infected                                         </td><td>142dpi                                           </td><td>RV_bottom                                        </td><td>B4                                               </td><td>P140                                             </td><td>0.014116598                                      </td><td>0.011602317                                      </td><td>0.000071100                                      </td><td>0.00000000                                       </td><td>0.000000000                                      </td></tr>\n",
       "\t<tr><th scope=row>17</th><td>X582_Group3E_142dpi_RV_bottom_177_G_B5_P140.mzXML</td><td>582                                              </td><td>infected                                         </td><td>142dpi                                           </td><td>RV_bottom                                        </td><td>B5                                               </td><td>P140                                             </td><td>0.011548522                                      </td><td>0.011997421                                      </td><td>0.000281116                                      </td><td>0.00000000                                       </td><td>0.000000000                                      </td></tr>\n",
       "\t<tr><th scope=row>18</th><td>X583_Group3E_142dpi_RV_bottom_178_G_B6_P140.mzXML</td><td>583                                              </td><td>infected                                         </td><td>142dpi                                           </td><td>RV_bottom                                        </td><td>B6                                               </td><td>P140                                             </td><td>0.009337858                                      </td><td>0.010103911                                      </td><td>0.000090600                                      </td><td>0.00000000                                       </td><td>0.000000000                                      </td></tr>\n",
       "\t<tr><th scope=row>19</th><td>X584_Group3E_142dpi_RV_bottom_179_G_B7_P140.mzXML</td><td>584                                              </td><td>infected                                         </td><td>142dpi                                           </td><td>RV_bottom                                        </td><td>B7                                               </td><td>P140                                             </td><td>0.013359138                                      </td><td>0.014246993                                      </td><td>0.000215100                                      </td><td>0.00000000                                       </td><td>0.000000000                                      </td></tr>\n",
       "\t<tr><th scope=row>20</th><td>X585_Group3E_142dpi_RV_bottom_180_G_B8_P140.mzXML</td><td>585                                              </td><td>infected                                         </td><td>142dpi                                           </td><td>RV_bottom                                        </td><td>B8                                               </td><td>P140                                             </td><td>0.011763544                                      </td><td>0.014142223                                      </td><td>0.000339557                                      </td><td>0.00237373                                       </td><td>0.001749487                                      </td></tr>\n",
       "\t<tr><th scope=row>26</th><td>X631_Group15_142dpi_RV_bottom_191_G_C7_P140.mzXML</td><td>631                                              </td><td>BNZ                                              </td><td>142dpi                                           </td><td>RV_bottom                                        </td><td>C7                                               </td><td>P140                                             </td><td>0.007016621                                      </td><td>0.006798712                                      </td><td>0.000000000                                      </td><td>0.00000000                                       </td><td>0.000000000                                      </td></tr>\n",
       "</tbody>\n",
       "</table>\n"
      ],
      "text/latex": [
       "\\begin{tabular}{r|llllllllllll}\n",
       "  & filename & MouseID & Treatmentgroup & DPI & organ & well\\_position & plate & mass\\_400 & mass\\_500 & mass\\_600 & mass\\_700 & mass\\_800\\\\\n",
       "\\hline\n",
       "\t16 & X581\\_Group3E\\_142dpi\\_RV\\_bottom\\_176\\_G\\_B4\\_P140.mzXML & 581                                                               & infected                                                          & 142dpi                                                            & RV\\_bottom                                                       & B4                                                                & P140                                                              & 0.014116598                                                       & 0.011602317                                                       & 0.000071100                                                       & 0.00000000                                                        & 0.000000000                                                      \\\\\n",
       "\t17 & X582\\_Group3E\\_142dpi\\_RV\\_bottom\\_177\\_G\\_B5\\_P140.mzXML & 582                                                               & infected                                                          & 142dpi                                                            & RV\\_bottom                                                       & B5                                                                & P140                                                              & 0.011548522                                                       & 0.011997421                                                       & 0.000281116                                                       & 0.00000000                                                        & 0.000000000                                                      \\\\\n",
       "\t18 & X583\\_Group3E\\_142dpi\\_RV\\_bottom\\_178\\_G\\_B6\\_P140.mzXML & 583                                                               & infected                                                          & 142dpi                                                            & RV\\_bottom                                                       & B6                                                                & P140                                                              & 0.009337858                                                       & 0.010103911                                                       & 0.000090600                                                       & 0.00000000                                                        & 0.000000000                                                      \\\\\n",
       "\t19 & X584\\_Group3E\\_142dpi\\_RV\\_bottom\\_179\\_G\\_B7\\_P140.mzXML & 584                                                               & infected                                                          & 142dpi                                                            & RV\\_bottom                                                       & B7                                                                & P140                                                              & 0.013359138                                                       & 0.014246993                                                       & 0.000215100                                                       & 0.00000000                                                        & 0.000000000                                                      \\\\\n",
       "\t20 & X585\\_Group3E\\_142dpi\\_RV\\_bottom\\_180\\_G\\_B8\\_P140.mzXML & 585                                                               & infected                                                          & 142dpi                                                            & RV\\_bottom                                                       & B8                                                                & P140                                                              & 0.011763544                                                       & 0.014142223                                                       & 0.000339557                                                       & 0.00237373                                                        & 0.001749487                                                      \\\\\n",
       "\t26 & X631\\_Group15\\_142dpi\\_RV\\_bottom\\_191\\_G\\_C7\\_P140.mzXML & 631                                                               & BNZ                                                               & 142dpi                                                            & RV\\_bottom                                                       & C7                                                                & P140                                                              & 0.007016621                                                       & 0.006798712                                                       & 0.000000000                                                       & 0.00000000                                                        & 0.000000000                                                      \\\\\n",
       "\\end{tabular}\n"
      ],
      "text/markdown": [
       "\n",
       "| <!--/--> | filename | MouseID | Treatmentgroup | DPI | organ | well_position | plate | mass_400 | mass_500 | mass_600 | mass_700 | mass_800 |\n",
       "|---|---|---|---|---|---|---|---|---|---|---|---|---|\n",
       "| 16 | X581_Group3E_142dpi_RV_bottom_176_G_B4_P140.mzXML | 581                                               | infected                                          | 142dpi                                            | RV_bottom                                         | B4                                                | P140                                              | 0.014116598                                       | 0.011602317                                       | 0.000071100                                       | 0.00000000                                        | 0.000000000                                       |\n",
       "| 17 | X582_Group3E_142dpi_RV_bottom_177_G_B5_P140.mzXML | 582                                               | infected                                          | 142dpi                                            | RV_bottom                                         | B5                                                | P140                                              | 0.011548522                                       | 0.011997421                                       | 0.000281116                                       | 0.00000000                                        | 0.000000000                                       |\n",
       "| 18 | X583_Group3E_142dpi_RV_bottom_178_G_B6_P140.mzXML | 583                                               | infected                                          | 142dpi                                            | RV_bottom                                         | B6                                                | P140                                              | 0.009337858                                       | 0.010103911                                       | 0.000090600                                       | 0.00000000                                        | 0.000000000                                       |\n",
       "| 19 | X584_Group3E_142dpi_RV_bottom_179_G_B7_P140.mzXML | 584                                               | infected                                          | 142dpi                                            | RV_bottom                                         | B7                                                | P140                                              | 0.013359138                                       | 0.014246993                                       | 0.000215100                                       | 0.00000000                                        | 0.000000000                                       |\n",
       "| 20 | X585_Group3E_142dpi_RV_bottom_180_G_B8_P140.mzXML | 585                                               | infected                                          | 142dpi                                            | RV_bottom                                         | B8                                                | P140                                              | 0.011763544                                       | 0.014142223                                       | 0.000339557                                       | 0.00237373                                        | 0.001749487                                       |\n",
       "| 26 | X631_Group15_142dpi_RV_bottom_191_G_C7_P140.mzXML | 631                                               | BNZ                                               | 142dpi                                            | RV_bottom                                         | C7                                                | P140                                              | 0.007016621                                       | 0.006798712                                       | 0.000000000                                       | 0.00000000                                        | 0.000000000                                       |\n",
       "\n"
      ],
      "text/plain": [
       "   filename                                          MouseID Treatmentgroup\n",
       "16 X581_Group3E_142dpi_RV_bottom_176_G_B4_P140.mzXML 581     infected      \n",
       "17 X582_Group3E_142dpi_RV_bottom_177_G_B5_P140.mzXML 582     infected      \n",
       "18 X583_Group3E_142dpi_RV_bottom_178_G_B6_P140.mzXML 583     infected      \n",
       "19 X584_Group3E_142dpi_RV_bottom_179_G_B7_P140.mzXML 584     infected      \n",
       "20 X585_Group3E_142dpi_RV_bottom_180_G_B8_P140.mzXML 585     infected      \n",
       "26 X631_Group15_142dpi_RV_bottom_191_G_C7_P140.mzXML 631     BNZ           \n",
       "   DPI    organ     well_position plate mass_400    mass_500    mass_600   \n",
       "16 142dpi RV_bottom B4            P140  0.014116598 0.011602317 0.000071100\n",
       "17 142dpi RV_bottom B5            P140  0.011548522 0.011997421 0.000281116\n",
       "18 142dpi RV_bottom B6            P140  0.009337858 0.010103911 0.000090600\n",
       "19 142dpi RV_bottom B7            P140  0.013359138 0.014246993 0.000215100\n",
       "20 142dpi RV_bottom B8            P140  0.011763544 0.014142223 0.000339557\n",
       "26 142dpi RV_bottom C7            P140  0.007016621 0.006798712 0.000000000\n",
       "   mass_700   mass_800   \n",
       "16 0.00000000 0.000000000\n",
       "17 0.00000000 0.000000000\n",
       "18 0.00000000 0.000000000\n",
       "19 0.00000000 0.000000000\n",
       "20 0.00237373 0.001749487\n",
       "26 0.00000000 0.000000000"
      ]
     },
     "metadata": {},
     "output_type": "display_data"
    },
    {
     "data": {
      "text/html": [
       "<ol class=list-inline>\n",
       "\t<li>30</li>\n",
       "\t<li>12</li>\n",
       "</ol>\n"
      ],
      "text/latex": [
       "\\begin{enumerate*}\n",
       "\\item 30\n",
       "\\item 12\n",
       "\\end{enumerate*}\n"
      ],
      "text/markdown": [
       "1. 30\n",
       "2. 12\n",
       "\n",
       "\n"
      ],
      "text/plain": [
       "[1] 30 12"
      ]
     },
     "metadata": {},
     "output_type": "display_data"
    },
    {
     "data": {
      "text/html": [
       "<ol class=list-inline>\n",
       "\t<li>30</li>\n",
       "\t<li>5</li>\n",
       "</ol>\n"
      ],
      "text/latex": [
       "\\begin{enumerate*}\n",
       "\\item 30\n",
       "\\item 5\n",
       "\\end{enumerate*}\n"
      ],
      "text/markdown": [
       "1. 30\n",
       "2. 5\n",
       "\n",
       "\n"
      ],
      "text/plain": [
       "[1] 30  5"
      ]
     },
     "metadata": {},
     "output_type": "display_data"
    },
    {
     "data": {
      "text/html": [
       "<ol class=list-inline>\n",
       "\t<li>30</li>\n",
       "\t<li>5</li>\n",
       "</ol>\n"
      ],
      "text/latex": [
       "\\begin{enumerate*}\n",
       "\\item 30\n",
       "\\item 5\n",
       "\\end{enumerate*}\n"
      ],
      "text/markdown": [
       "1. 30\n",
       "2. 5\n",
       "\n",
       "\n"
      ],
      "text/plain": [
       "[1] 30  5"
      ]
     },
     "metadata": {},
     "output_type": "display_data"
    },
    {
     "data": {
      "text/html": [
       "<ol class=list-inline>\n",
       "\t<li>30</li>\n",
       "\t<li>12</li>\n",
       "</ol>\n"
      ],
      "text/latex": [
       "\\begin{enumerate*}\n",
       "\\item 30\n",
       "\\item 12\n",
       "\\end{enumerate*}\n"
      ],
      "text/markdown": [
       "1. 30\n",
       "2. 12\n",
       "\n",
       "\n"
      ],
      "text/plain": [
       "[1] 30 12"
      ]
     },
     "metadata": {},
     "output_type": "display_data"
    }
   ],
   "source": [
    "noMeta<-features_pos[,8:12]\n",
    "head(noMeta)\n",
    "not_zero<-which(colSums(noMeta) != 0)\n",
    "head(not_zero)\n",
    "nonzero <- noMeta[, not_zero]\n",
    "nonzero\n",
    "nonzero_wMeta<-cbind(features_pos[,1:7], nonzero)\n",
    "head(nonzero_wMeta)\n",
    "dim(features_pos)\n",
    "dim(noMeta)\n",
    "dim(nonzero)\n",
    "dim(nonzero_wMeta)"
   ]
  },
  {
   "cell_type": "code",
   "execution_count": 5,
   "metadata": {
    "scrolled": true
   },
   "outputs": [
    {
     "name": "stderr",
     "output_type": "stream",
     "text": [
      "Warning message in wilcox.test.default(x = c(0, 0.000107, 0.000127, 5.44e-05, 0, :\n",
      "\"cannot compute exact p-value with ties\"Warning message in wilcox.test.default(x = c(0, 0, 0.001075769, 0, 0, 0, 0, 0.000769437, :\n",
      "\"cannot compute exact p-value with ties\"Warning message in wilcox.test.default(x = c(0, 0, 0.000328818, 0, 0, 0, 0, 0, 0, :\n",
      "\"cannot compute exact p-value with ties\""
     ]
    },
    {
     "data": {
      "text/html": [
       "<ol class=list-inline>\n",
       "\t<li>0.460958749211566</li>\n",
       "\t<li>0.0502223733334571</li>\n",
       "\t<li>0.397988400575299</li>\n",
       "\t<li>0.249216582609451</li>\n",
       "\t<li>0.0335165782642333</li>\n",
       "</ol>\n"
      ],
      "text/latex": [
       "\\begin{enumerate*}\n",
       "\\item 0.460958749211566\n",
       "\\item 0.0502223733334571\n",
       "\\item 0.397988400575299\n",
       "\\item 0.249216582609451\n",
       "\\item 0.0335165782642333\n",
       "\\end{enumerate*}\n"
      ],
      "text/markdown": [
       "1. 0.460958749211566\n",
       "2. 0.0502223733334571\n",
       "3. 0.397988400575299\n",
       "4. 0.249216582609451\n",
       "5. 0.0335165782642333\n",
       "\n",
       "\n"
      ],
      "text/plain": [
       "[1] 0.46095875 0.05022237 0.39798840 0.24921658 0.03351658"
      ]
     },
     "metadata": {},
     "output_type": "display_data"
    },
    {
     "data": {
      "text/html": [
       "<ol class=list-inline>\n",
       "\t<li>0.460958749211566</li>\n",
       "\t<li>0.125555933333643</li>\n",
       "\t<li>0.460958749211566</li>\n",
       "\t<li>0.415360971015752</li>\n",
       "\t<li>0.125555933333643</li>\n",
       "</ol>\n"
      ],
      "text/latex": [
       "\\begin{enumerate*}\n",
       "\\item 0.460958749211566\n",
       "\\item 0.125555933333643\n",
       "\\item 0.460958749211566\n",
       "\\item 0.415360971015752\n",
       "\\item 0.125555933333643\n",
       "\\end{enumerate*}\n"
      ],
      "text/markdown": [
       "1. 0.460958749211566\n",
       "2. 0.125555933333643\n",
       "3. 0.460958749211566\n",
       "4. 0.415360971015752\n",
       "5. 0.125555933333643\n",
       "\n",
       "\n"
      ],
      "text/plain": [
       "[1] 0.4609587 0.1255559 0.4609587 0.4153610 0.1255559"
      ]
     },
     "metadata": {},
     "output_type": "display_data"
    }
   ],
   "source": [
    "pval<-c()\n",
    "\n",
    "for (i in 8:ncol(nonzero_wMeta)) \n",
    "pval<-c(pval,wilcox.test(nonzero_wMeta[,i]~nonzero_wMeta$Treatmentgroup)$p.value)\n",
    "head(pval)\n",
    "pAdj <- p.adjust(pval, method = c(\"fdr\"), n=length(pval)) \n",
    "head(pAdj) \n",
    "\n"
   ]
  },
  {
   "cell_type": "code",
   "execution_count": 6,
   "metadata": {
    "scrolled": true
   },
   "outputs": [
    {
     "data": {
      "text/html": [
       "5"
      ],
      "text/latex": [
       "5"
      ],
      "text/markdown": [
       "5"
      ],
      "text/plain": [
       "[1] 5"
      ]
     },
     "metadata": {},
     "output_type": "display_data"
    }
   ],
   "source": [
    "length(pval)"
   ]
  },
  {
   "cell_type": "code",
   "execution_count": 7,
   "metadata": {
    "scrolled": true
   },
   "outputs": [
    {
     "data": {
      "text/html": [
       "5"
      ],
      "text/latex": [
       "5"
      ],
      "text/markdown": [
       "5"
      ],
      "text/plain": [
       "[1] 5"
      ]
     },
     "metadata": {},
     "output_type": "display_data"
    }
   ],
   "source": [
    "length(pAdj)"
   ]
  },
  {
   "cell_type": "code",
   "execution_count": 8,
   "metadata": {},
   "outputs": [
    {
     "data": {
      "text/html": [
       "<ol class=list-inline>\n",
       "\t<li>2</li>\n",
       "\t<li>5</li>\n",
       "</ol>\n"
      ],
      "text/latex": [
       "\\begin{enumerate*}\n",
       "\\item 2\n",
       "\\item 5\n",
       "\\end{enumerate*}\n"
      ],
      "text/markdown": [
       "1. 2\n",
       "2. 5\n",
       "\n",
       "\n"
      ],
      "text/plain": [
       "[1] 2 5"
      ]
     },
     "metadata": {},
     "output_type": "display_data"
    },
    {
     "data": {
      "text/html": [
       "<table>\n",
       "<thead><tr><th></th><th scope=col>mass_400</th><th scope=col>mass_500</th><th scope=col>mass_600</th></tr></thead>\n",
       "<tbody>\n",
       "\t<tr><th scope=row>BNZ</th><td>0.01193840  </td><td>0.01499004  </td><td>0.0001891830</td></tr>\n",
       "\t<tr><th scope=row>infected</th><td>0.01086929  </td><td>0.01147185  </td><td>0.0001288242</td></tr>\n",
       "</tbody>\n",
       "</table>\n"
      ],
      "text/latex": [
       "\\begin{tabular}{r|lll}\n",
       "  & mass\\_400 & mass\\_500 & mass\\_600\\\\\n",
       "\\hline\n",
       "\tBNZ & 0.01193840   & 0.01499004   & 0.0001891830\\\\\n",
       "\tinfected & 0.01086929   & 0.01147185   & 0.0001288242\\\\\n",
       "\\end{tabular}\n"
      ],
      "text/markdown": [
       "\n",
       "| <!--/--> | mass_400 | mass_500 | mass_600 |\n",
       "|---|---|---|---|\n",
       "| BNZ | 0.01193840   | 0.01499004   | 0.0001891830 |\n",
       "| infected | 0.01086929   | 0.01147185   | 0.0001288242 |\n",
       "\n"
      ],
      "text/plain": [
       "         mass_400   mass_500   mass_600    \n",
       "BNZ      0.01193840 0.01499004 0.0001891830\n",
       "infected 0.01086929 0.01147185 0.0001288242"
      ]
     },
     "metadata": {},
     "output_type": "display_data"
    },
    {
     "data": {
      "text/html": [
       "<dl class=dl-horizontal>\n",
       "\t<dt>mass_400</dt>\n",
       "\t\t<dd>1.09836027717082</dd>\n",
       "\t<dt>mass_500</dt>\n",
       "\t\t<dd>1.30667967814468</dd>\n",
       "\t<dt>mass_600</dt>\n",
       "\t\t<dd>1.46853619118147</dd>\n",
       "\t<dt>mass_700</dt>\n",
       "\t\t<dd>0.127413887852304</dd>\n",
       "\t<dt>mass_800</dt>\n",
       "\t\t<dd>0.0382027518649834</dd>\n",
       "</dl>\n"
      ],
      "text/latex": [
       "\\begin{description*}\n",
       "\\item[mass\\textbackslash{}\\_400] 1.09836027717082\n",
       "\\item[mass\\textbackslash{}\\_500] 1.30667967814468\n",
       "\\item[mass\\textbackslash{}\\_600] 1.46853619118147\n",
       "\\item[mass\\textbackslash{}\\_700] 0.127413887852304\n",
       "\\item[mass\\textbackslash{}\\_800] 0.0382027518649834\n",
       "\\end{description*}\n"
      ],
      "text/markdown": [
       "mass_400\n",
       ":   1.09836027717082mass_500\n",
       ":   1.30667967814468mass_600\n",
       ":   1.46853619118147mass_700\n",
       ":   0.127413887852304mass_800\n",
       ":   0.0382027518649834\n",
       "\n"
      ],
      "text/plain": [
       "  mass_400   mass_500   mass_600   mass_700   mass_800 \n",
       "1.09836028 1.30667968 1.46853619 0.12741389 0.03820275 "
      ]
     },
     "metadata": {},
     "output_type": "display_data"
    },
    {
     "data": {
      "text/html": [
       "<ol class=list-inline>\n",
       "\t<li>'numeric'</li>\n",
       "\t<li>'vector'</li>\n",
       "</ol>\n"
      ],
      "text/latex": [
       "\\begin{enumerate*}\n",
       "\\item 'numeric'\n",
       "\\item 'vector'\n",
       "\\end{enumerate*}\n"
      ],
      "text/markdown": [
       "1. 'numeric'\n",
       "2. 'vector'\n",
       "\n",
       "\n"
      ],
      "text/plain": [
       "[1] \"numeric\" \"vector\" "
      ]
     },
     "metadata": {},
     "output_type": "display_data"
    }
   ],
   "source": [
    "avg<- apply(nonzero_wMeta[,8:ncol(nonzero_wMeta)], 2, function(x) tapply(x, nonzero_wMeta$Treatmentgroup, function(x) mean(x))) \n",
    "\n",
    "dim(avg)\n",
    "\n",
    "avg[,1:3]\n",
    "\n",
    "fch <- apply(avg, 2, function(x) x[1]/x[2])\n",
    "\n",
    "head(fch) \n",
    "is(fch)"
   ]
  },
  {
   "cell_type": "code",
   "execution_count": 9,
   "metadata": {
    "scrolled": true
   },
   "outputs": [
    {
     "data": {
      "text/html": [
       "<dl class=dl-horizontal>\n",
       "\t<dt>mass_400</dt>\n",
       "\t\t<dd>1.09836027717082</dd>\n",
       "\t<dt>mass_500</dt>\n",
       "\t\t<dd>1.30667967814468</dd>\n",
       "\t<dt>mass_600</dt>\n",
       "\t\t<dd>1.46853619118147</dd>\n",
       "\t<dt>mass_700</dt>\n",
       "\t\t<dd>0.127413887852304</dd>\n",
       "\t<dt>mass_800</dt>\n",
       "\t\t<dd>0.0382027518649834</dd>\n",
       "</dl>\n"
      ],
      "text/latex": [
       "\\begin{description*}\n",
       "\\item[mass\\textbackslash{}\\_400] 1.09836027717082\n",
       "\\item[mass\\textbackslash{}\\_500] 1.30667967814468\n",
       "\\item[mass\\textbackslash{}\\_600] 1.46853619118147\n",
       "\\item[mass\\textbackslash{}\\_700] 0.127413887852304\n",
       "\\item[mass\\textbackslash{}\\_800] 0.0382027518649834\n",
       "\\end{description*}\n"
      ],
      "text/markdown": [
       "mass_400\n",
       ":   1.09836027717082mass_500\n",
       ":   1.30667967814468mass_600\n",
       ":   1.46853619118147mass_700\n",
       ":   0.127413887852304mass_800\n",
       ":   0.0382027518649834\n",
       "\n"
      ],
      "text/plain": [
       "  mass_400   mass_500   mass_600   mass_700   mass_800 \n",
       "1.09836028 1.30667968 1.46853619 0.12741389 0.03820275 "
      ]
     },
     "metadata": {},
     "output_type": "display_data"
    }
   ],
   "source": [
    "fch"
   ]
  },
  {
   "cell_type": "code",
   "execution_count": 10,
   "metadata": {
    "scrolled": false
   },
   "outputs": [],
   "source": [
    "df <- data.frame(fch,pval, pAdj)\n",
    "write.csv(df, \"PC-treat-RVB-wilcox-infected-BNZ.csv\")"
   ]
  },
  {
   "cell_type": "code",
   "execution_count": null,
   "metadata": {},
   "outputs": [],
   "source": []
  },
  {
   "cell_type": "code",
   "execution_count": null,
   "metadata": {},
   "outputs": [],
   "source": []
  },
  {
   "cell_type": "code",
   "execution_count": null,
   "metadata": {},
   "outputs": [],
   "source": []
  },
  {
   "cell_type": "code",
   "execution_count": null,
   "metadata": {},
   "outputs": [],
   "source": []
  },
  {
   "cell_type": "code",
   "execution_count": null,
   "metadata": {},
   "outputs": [],
   "source": []
  },
  {
   "cell_type": "code",
   "execution_count": null,
   "metadata": {},
   "outputs": [],
   "source": []
  }
 ],
 "metadata": {
  "kernelspec": {
   "display_name": "R",
   "language": "R",
   "name": "ir"
  },
  "language_info": {
   "codemirror_mode": "r",
   "file_extension": ".r",
   "mimetype": "text/x-r-source",
   "name": "R",
   "pygments_lexer": "r",
   "version": "3.6.1"
  }
 },
 "nbformat": 4,
 "nbformat_minor": 2
}
