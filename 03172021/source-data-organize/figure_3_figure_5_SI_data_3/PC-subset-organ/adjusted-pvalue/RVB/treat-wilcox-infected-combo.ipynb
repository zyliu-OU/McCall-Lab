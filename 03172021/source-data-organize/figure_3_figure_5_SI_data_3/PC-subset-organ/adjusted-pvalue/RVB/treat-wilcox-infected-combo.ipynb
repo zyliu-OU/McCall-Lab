{
 "cells": [
  {
   "cell_type": "code",
   "execution_count": 1,
   "metadata": {},
   "outputs": [],
   "source": [
    "a <- read.csv(\"03172021-PC-treatment-RVB-M-F.csv\")"
   ]
  },
  {
   "cell_type": "code",
   "execution_count": 2,
   "metadata": {},
   "outputs": [
    {
     "data": {
      "text/html": [
       "<table>\n",
       "<thead><tr><th scope=col>filename</th><th scope=col>MouseID</th><th scope=col>Treatmentgroup</th><th scope=col>DPI</th><th scope=col>organ</th><th scope=col>well_position</th><th scope=col>plate</th><th scope=col>mass_400</th><th scope=col>mass_500</th><th scope=col>mass_600</th><th scope=col>mass_700</th><th scope=col>mass_800</th></tr></thead>\n",
       "<tbody>\n",
       "\t<tr><td>X511_Group1C_142dpi_RV_bottom_161_G_A1_P140.mzXML</td><td>511                                              </td><td>naive                                            </td><td>142dpi                                           </td><td>RV_bottom                                        </td><td>A1                                               </td><td>P140                                             </td><td>0.01070250                                       </td><td>0.01878444                                       </td><td>0.000000000                                      </td><td>0.000000000                                      </td><td>0.000000000                                      </td></tr>\n",
       "\t<tr><td>X512_Group1C_142dpi_RV_bottom_162_G_A2_P140.mzXML</td><td>512                                              </td><td>naive                                            </td><td>142dpi                                           </td><td>RV_bottom                                        </td><td>A2                                               </td><td>P140                                             </td><td>0.01817401                                       </td><td>0.02520786                                       </td><td>0.000071700                                      </td><td>0.000000000                                      </td><td>0.000000000                                      </td></tr>\n",
       "\t<tr><td>X513_Group1C_142dpi_RV_bottom_163_G_A3_P140.mzXML</td><td>513                                              </td><td>naive                                            </td><td>142dpi                                           </td><td>RV_bottom                                        </td><td>A3                                               </td><td>P140                                             </td><td>0.01246066                                       </td><td>0.01438772                                       </td><td>0.000000000                                      </td><td>0.001022450                                      </td><td>0.000313152                                      </td></tr>\n",
       "\t<tr><td>X514_Group1C_142dpi_RV_bottom_164_G_A4_P140.mzXML</td><td>514                                              </td><td>naive                                            </td><td>142dpi                                           </td><td>RV_bottom                                        </td><td>A4                                               </td><td>P140                                             </td><td>0.01393864                                       </td><td>0.01860049                                       </td><td>0.000228515                                      </td><td>0.000060600                                      </td><td>0.000000000                                      </td></tr>\n",
       "\t<tr><td>X515_Group1C_142dpi_RV_bottom_165_G_A5_P140.mzXML</td><td>515                                              </td><td>naive                                            </td><td>142dpi                                           </td><td>RV_bottom                                        </td><td>A5                                               </td><td>P140                                             </td><td>0.02076094                                       </td><td>0.02255642                                       </td><td>0.000521923                                      </td><td>0.000221919                                      </td><td>0.000000000                                      </td></tr>\n",
       "\t<tr><td>X531_Group1C_142dpi_RV_bottom_166_G_A6_P140.mzXML</td><td>531                                              </td><td>naive                                            </td><td>142dpi                                           </td><td>RV_bottom                                        </td><td>A6                                               </td><td>P140                                             </td><td>0.01498764                                       </td><td>0.01930315                                       </td><td>0.000296114                                      </td><td>0.000000000                                      </td><td>0.000000000                                      </td></tr>\n",
       "</tbody>\n",
       "</table>\n"
      ],
      "text/latex": [
       "\\begin{tabular}{r|llllllllllll}\n",
       " filename & MouseID & Treatmentgroup & DPI & organ & well\\_position & plate & mass\\_400 & mass\\_500 & mass\\_600 & mass\\_700 & mass\\_800\\\\\n",
       "\\hline\n",
       "\t X511\\_Group1C\\_142dpi\\_RV\\_bottom\\_161\\_G\\_A1\\_P140.mzXML & 511                                                               & naive                                                             & 142dpi                                                            & RV\\_bottom                                                       & A1                                                                & P140                                                              & 0.01070250                                                        & 0.01878444                                                        & 0.000000000                                                       & 0.000000000                                                       & 0.000000000                                                      \\\\\n",
       "\t X512\\_Group1C\\_142dpi\\_RV\\_bottom\\_162\\_G\\_A2\\_P140.mzXML & 512                                                               & naive                                                             & 142dpi                                                            & RV\\_bottom                                                       & A2                                                                & P140                                                              & 0.01817401                                                        & 0.02520786                                                        & 0.000071700                                                       & 0.000000000                                                       & 0.000000000                                                      \\\\\n",
       "\t X513\\_Group1C\\_142dpi\\_RV\\_bottom\\_163\\_G\\_A3\\_P140.mzXML & 513                                                               & naive                                                             & 142dpi                                                            & RV\\_bottom                                                       & A3                                                                & P140                                                              & 0.01246066                                                        & 0.01438772                                                        & 0.000000000                                                       & 0.001022450                                                       & 0.000313152                                                      \\\\\n",
       "\t X514\\_Group1C\\_142dpi\\_RV\\_bottom\\_164\\_G\\_A4\\_P140.mzXML & 514                                                               & naive                                                             & 142dpi                                                            & RV\\_bottom                                                       & A4                                                                & P140                                                              & 0.01393864                                                        & 0.01860049                                                        & 0.000228515                                                       & 0.000060600                                                       & 0.000000000                                                      \\\\\n",
       "\t X515\\_Group1C\\_142dpi\\_RV\\_bottom\\_165\\_G\\_A5\\_P140.mzXML & 515                                                               & naive                                                             & 142dpi                                                            & RV\\_bottom                                                       & A5                                                                & P140                                                              & 0.02076094                                                        & 0.02255642                                                        & 0.000521923                                                       & 0.000221919                                                       & 0.000000000                                                      \\\\\n",
       "\t X531\\_Group1C\\_142dpi\\_RV\\_bottom\\_166\\_G\\_A6\\_P140.mzXML & 531                                                               & naive                                                             & 142dpi                                                            & RV\\_bottom                                                       & A6                                                                & P140                                                              & 0.01498764                                                        & 0.01930315                                                        & 0.000296114                                                       & 0.000000000                                                       & 0.000000000                                                      \\\\\n",
       "\\end{tabular}\n"
      ],
      "text/markdown": [
       "\n",
       "| filename | MouseID | Treatmentgroup | DPI | organ | well_position | plate | mass_400 | mass_500 | mass_600 | mass_700 | mass_800 |\n",
       "|---|---|---|---|---|---|---|---|---|---|---|---|\n",
       "| X511_Group1C_142dpi_RV_bottom_161_G_A1_P140.mzXML | 511                                               | naive                                             | 142dpi                                            | RV_bottom                                         | A1                                                | P140                                              | 0.01070250                                        | 0.01878444                                        | 0.000000000                                       | 0.000000000                                       | 0.000000000                                       |\n",
       "| X512_Group1C_142dpi_RV_bottom_162_G_A2_P140.mzXML | 512                                               | naive                                             | 142dpi                                            | RV_bottom                                         | A2                                                | P140                                              | 0.01817401                                        | 0.02520786                                        | 0.000071700                                       | 0.000000000                                       | 0.000000000                                       |\n",
       "| X513_Group1C_142dpi_RV_bottom_163_G_A3_P140.mzXML | 513                                               | naive                                             | 142dpi                                            | RV_bottom                                         | A3                                                | P140                                              | 0.01246066                                        | 0.01438772                                        | 0.000000000                                       | 0.001022450                                       | 0.000313152                                       |\n",
       "| X514_Group1C_142dpi_RV_bottom_164_G_A4_P140.mzXML | 514                                               | naive                                             | 142dpi                                            | RV_bottom                                         | A4                                                | P140                                              | 0.01393864                                        | 0.01860049                                        | 0.000228515                                       | 0.000060600                                       | 0.000000000                                       |\n",
       "| X515_Group1C_142dpi_RV_bottom_165_G_A5_P140.mzXML | 515                                               | naive                                             | 142dpi                                            | RV_bottom                                         | A5                                                | P140                                              | 0.02076094                                        | 0.02255642                                        | 0.000521923                                       | 0.000221919                                       | 0.000000000                                       |\n",
       "| X531_Group1C_142dpi_RV_bottom_166_G_A6_P140.mzXML | 531                                               | naive                                             | 142dpi                                            | RV_bottom                                         | A6                                                | P140                                              | 0.01498764                                        | 0.01930315                                        | 0.000296114                                       | 0.000000000                                       | 0.000000000                                       |\n",
       "\n"
      ],
      "text/plain": [
       "  filename                                          MouseID Treatmentgroup\n",
       "1 X511_Group1C_142dpi_RV_bottom_161_G_A1_P140.mzXML 511     naive         \n",
       "2 X512_Group1C_142dpi_RV_bottom_162_G_A2_P140.mzXML 512     naive         \n",
       "3 X513_Group1C_142dpi_RV_bottom_163_G_A3_P140.mzXML 513     naive         \n",
       "4 X514_Group1C_142dpi_RV_bottom_164_G_A4_P140.mzXML 514     naive         \n",
       "5 X515_Group1C_142dpi_RV_bottom_165_G_A5_P140.mzXML 515     naive         \n",
       "6 X531_Group1C_142dpi_RV_bottom_166_G_A6_P140.mzXML 531     naive         \n",
       "  DPI    organ     well_position plate mass_400   mass_500   mass_600   \n",
       "1 142dpi RV_bottom A1            P140  0.01070250 0.01878444 0.000000000\n",
       "2 142dpi RV_bottom A2            P140  0.01817401 0.02520786 0.000071700\n",
       "3 142dpi RV_bottom A3            P140  0.01246066 0.01438772 0.000000000\n",
       "4 142dpi RV_bottom A4            P140  0.01393864 0.01860049 0.000228515\n",
       "5 142dpi RV_bottom A5            P140  0.02076094 0.02255642 0.000521923\n",
       "6 142dpi RV_bottom A6            P140  0.01498764 0.01930315 0.000296114\n",
       "  mass_700    mass_800   \n",
       "1 0.000000000 0.000000000\n",
       "2 0.000000000 0.000000000\n",
       "3 0.001022450 0.000313152\n",
       "4 0.000060600 0.000000000\n",
       "5 0.000221919 0.000000000\n",
       "6 0.000000000 0.000000000"
      ]
     },
     "metadata": {},
     "output_type": "display_data"
    },
    {
     "data": {
      "text/html": [
       "<ol class=list-inline>\n",
       "\t<li>60</li>\n",
       "\t<li>12</li>\n",
       "</ol>\n"
      ],
      "text/latex": [
       "\\begin{enumerate*}\n",
       "\\item 60\n",
       "\\item 12\n",
       "\\end{enumerate*}\n"
      ],
      "text/markdown": [
       "1. 60\n",
       "2. 12\n",
       "\n",
       "\n"
      ],
      "text/plain": [
       "[1] 60 12"
      ]
     },
     "metadata": {},
     "output_type": "display_data"
    }
   ],
   "source": [
    "head(a)\n",
    "dim(a)"
   ]
  },
  {
   "cell_type": "code",
   "execution_count": 3,
   "metadata": {},
   "outputs": [
    {
     "data": {
      "text/html": [
       "<table>\n",
       "<thead><tr><th></th><th scope=col>filename</th><th scope=col>MouseID</th><th scope=col>Treatmentgroup</th><th scope=col>DPI</th><th scope=col>organ</th><th scope=col>well_position</th><th scope=col>plate</th><th scope=col>mass_400</th><th scope=col>mass_500</th><th scope=col>mass_600</th><th scope=col>mass_700</th><th scope=col>mass_800</th></tr></thead>\n",
       "<tbody>\n",
       "\t<tr><th scope=row>16</th><td>X581_Group3E_142dpi_RV_bottom_176_G_B4_P140.mzXML</td><td>581                                              </td><td>infected                                         </td><td>142dpi                                           </td><td>RV_bottom                                        </td><td>B4                                               </td><td>P140                                             </td><td>0.014116598                                      </td><td>0.01160232                                       </td><td>0.000071100                                      </td><td>0.00000000                                       </td><td>0.000000000                                      </td></tr>\n",
       "\t<tr><th scope=row>17</th><td>X582_Group3E_142dpi_RV_bottom_177_G_B5_P140.mzXML</td><td>582                                              </td><td>infected                                         </td><td>142dpi                                           </td><td>RV_bottom                                        </td><td>B5                                               </td><td>P140                                             </td><td>0.011548522                                      </td><td>0.01199742                                       </td><td>0.000281116                                      </td><td>0.00000000                                       </td><td>0.000000000                                      </td></tr>\n",
       "\t<tr><th scope=row>18</th><td>X583_Group3E_142dpi_RV_bottom_178_G_B6_P140.mzXML</td><td>583                                              </td><td>infected                                         </td><td>142dpi                                           </td><td>RV_bottom                                        </td><td>B6                                               </td><td>P140                                             </td><td>0.009337858                                      </td><td>0.01010391                                       </td><td>0.000090600                                      </td><td>0.00000000                                       </td><td>0.000000000                                      </td></tr>\n",
       "\t<tr><th scope=row>19</th><td>X584_Group3E_142dpi_RV_bottom_179_G_B7_P140.mzXML</td><td>584                                              </td><td>infected                                         </td><td>142dpi                                           </td><td>RV_bottom                                        </td><td>B7                                               </td><td>P140                                             </td><td>0.013359138                                      </td><td>0.01424699                                       </td><td>0.000215100                                      </td><td>0.00000000                                       </td><td>0.000000000                                      </td></tr>\n",
       "\t<tr><th scope=row>20</th><td>X585_Group3E_142dpi_RV_bottom_180_G_B8_P140.mzXML</td><td>585                                              </td><td>infected                                         </td><td>142dpi                                           </td><td>RV_bottom                                        </td><td>B8                                               </td><td>P140                                             </td><td>0.011763544                                      </td><td>0.01414222                                       </td><td>0.000339557                                      </td><td>0.00237373                                       </td><td>0.001749487                                      </td></tr>\n",
       "\t<tr><th scope=row>21</th><td>X611_Group9_142dpi_RV_bottom_181_G_B9_P140.mzXML </td><td>611                                              </td><td>combo                                            </td><td>142dpi                                           </td><td>RV_bottom                                        </td><td>B9                                               </td><td>P140                                             </td><td>0.012129670                                      </td><td>0.01357397                                       </td><td>0.000245883                                      </td><td>0.00000000                                       </td><td>0.000000000                                      </td></tr>\n",
       "</tbody>\n",
       "</table>\n"
      ],
      "text/latex": [
       "\\begin{tabular}{r|llllllllllll}\n",
       "  & filename & MouseID & Treatmentgroup & DPI & organ & well\\_position & plate & mass\\_400 & mass\\_500 & mass\\_600 & mass\\_700 & mass\\_800\\\\\n",
       "\\hline\n",
       "\t16 & X581\\_Group3E\\_142dpi\\_RV\\_bottom\\_176\\_G\\_B4\\_P140.mzXML & 581                                                               & infected                                                          & 142dpi                                                            & RV\\_bottom                                                       & B4                                                                & P140                                                              & 0.014116598                                                       & 0.01160232                                                        & 0.000071100                                                       & 0.00000000                                                        & 0.000000000                                                      \\\\\n",
       "\t17 & X582\\_Group3E\\_142dpi\\_RV\\_bottom\\_177\\_G\\_B5\\_P140.mzXML & 582                                                               & infected                                                          & 142dpi                                                            & RV\\_bottom                                                       & B5                                                                & P140                                                              & 0.011548522                                                       & 0.01199742                                                        & 0.000281116                                                       & 0.00000000                                                        & 0.000000000                                                      \\\\\n",
       "\t18 & X583\\_Group3E\\_142dpi\\_RV\\_bottom\\_178\\_G\\_B6\\_P140.mzXML & 583                                                               & infected                                                          & 142dpi                                                            & RV\\_bottom                                                       & B6                                                                & P140                                                              & 0.009337858                                                       & 0.01010391                                                        & 0.000090600                                                       & 0.00000000                                                        & 0.000000000                                                      \\\\\n",
       "\t19 & X584\\_Group3E\\_142dpi\\_RV\\_bottom\\_179\\_G\\_B7\\_P140.mzXML & 584                                                               & infected                                                          & 142dpi                                                            & RV\\_bottom                                                       & B7                                                                & P140                                                              & 0.013359138                                                       & 0.01424699                                                        & 0.000215100                                                       & 0.00000000                                                        & 0.000000000                                                      \\\\\n",
       "\t20 & X585\\_Group3E\\_142dpi\\_RV\\_bottom\\_180\\_G\\_B8\\_P140.mzXML & 585                                                               & infected                                                          & 142dpi                                                            & RV\\_bottom                                                       & B8                                                                & P140                                                              & 0.011763544                                                       & 0.01414222                                                        & 0.000339557                                                       & 0.00237373                                                        & 0.001749487                                                      \\\\\n",
       "\t21 & X611\\_Group9\\_142dpi\\_RV\\_bottom\\_181\\_G\\_B9\\_P140.mzXML  & 611                                                               & combo                                                             & 142dpi                                                            & RV\\_bottom                                                       & B9                                                                & P140                                                              & 0.012129670                                                       & 0.01357397                                                        & 0.000245883                                                       & 0.00000000                                                        & 0.000000000                                                      \\\\\n",
       "\\end{tabular}\n"
      ],
      "text/markdown": [
       "\n",
       "| <!--/--> | filename | MouseID | Treatmentgroup | DPI | organ | well_position | plate | mass_400 | mass_500 | mass_600 | mass_700 | mass_800 |\n",
       "|---|---|---|---|---|---|---|---|---|---|---|---|---|\n",
       "| 16 | X581_Group3E_142dpi_RV_bottom_176_G_B4_P140.mzXML | 581                                               | infected                                          | 142dpi                                            | RV_bottom                                         | B4                                                | P140                                              | 0.014116598                                       | 0.01160232                                        | 0.000071100                                       | 0.00000000                                        | 0.000000000                                       |\n",
       "| 17 | X582_Group3E_142dpi_RV_bottom_177_G_B5_P140.mzXML | 582                                               | infected                                          | 142dpi                                            | RV_bottom                                         | B5                                                | P140                                              | 0.011548522                                       | 0.01199742                                        | 0.000281116                                       | 0.00000000                                        | 0.000000000                                       |\n",
       "| 18 | X583_Group3E_142dpi_RV_bottom_178_G_B6_P140.mzXML | 583                                               | infected                                          | 142dpi                                            | RV_bottom                                         | B6                                                | P140                                              | 0.009337858                                       | 0.01010391                                        | 0.000090600                                       | 0.00000000                                        | 0.000000000                                       |\n",
       "| 19 | X584_Group3E_142dpi_RV_bottom_179_G_B7_P140.mzXML | 584                                               | infected                                          | 142dpi                                            | RV_bottom                                         | B7                                                | P140                                              | 0.013359138                                       | 0.01424699                                        | 0.000215100                                       | 0.00000000                                        | 0.000000000                                       |\n",
       "| 20 | X585_Group3E_142dpi_RV_bottom_180_G_B8_P140.mzXML | 585                                               | infected                                          | 142dpi                                            | RV_bottom                                         | B8                                                | P140                                              | 0.011763544                                       | 0.01414222                                        | 0.000339557                                       | 0.00237373                                        | 0.001749487                                       |\n",
       "| 21 | X611_Group9_142dpi_RV_bottom_181_G_B9_P140.mzXML  | 611                                               | combo                                             | 142dpi                                            | RV_bottom                                         | B9                                                | P140                                              | 0.012129670                                       | 0.01357397                                        | 0.000245883                                       | 0.00000000                                        | 0.000000000                                       |\n",
       "\n"
      ],
      "text/plain": [
       "   filename                                          MouseID Treatmentgroup\n",
       "16 X581_Group3E_142dpi_RV_bottom_176_G_B4_P140.mzXML 581     infected      \n",
       "17 X582_Group3E_142dpi_RV_bottom_177_G_B5_P140.mzXML 582     infected      \n",
       "18 X583_Group3E_142dpi_RV_bottom_178_G_B6_P140.mzXML 583     infected      \n",
       "19 X584_Group3E_142dpi_RV_bottom_179_G_B7_P140.mzXML 584     infected      \n",
       "20 X585_Group3E_142dpi_RV_bottom_180_G_B8_P140.mzXML 585     infected      \n",
       "21 X611_Group9_142dpi_RV_bottom_181_G_B9_P140.mzXML  611     combo         \n",
       "   DPI    organ     well_position plate mass_400    mass_500   mass_600   \n",
       "16 142dpi RV_bottom B4            P140  0.014116598 0.01160232 0.000071100\n",
       "17 142dpi RV_bottom B5            P140  0.011548522 0.01199742 0.000281116\n",
       "18 142dpi RV_bottom B6            P140  0.009337858 0.01010391 0.000090600\n",
       "19 142dpi RV_bottom B7            P140  0.013359138 0.01424699 0.000215100\n",
       "20 142dpi RV_bottom B8            P140  0.011763544 0.01414222 0.000339557\n",
       "21 142dpi RV_bottom B9            P140  0.012129670 0.01357397 0.000245883\n",
       "   mass_700   mass_800   \n",
       "16 0.00000000 0.000000000\n",
       "17 0.00000000 0.000000000\n",
       "18 0.00000000 0.000000000\n",
       "19 0.00000000 0.000000000\n",
       "20 0.00237373 0.001749487\n",
       "21 0.00000000 0.000000000"
      ]
     },
     "metadata": {},
     "output_type": "display_data"
    },
    {
     "data": {
      "text/html": [
       "<ol class=list-inline>\n",
       "\t<li>30</li>\n",
       "\t<li>12</li>\n",
       "</ol>\n"
      ],
      "text/latex": [
       "\\begin{enumerate*}\n",
       "\\item 30\n",
       "\\item 12\n",
       "\\end{enumerate*}\n"
      ],
      "text/markdown": [
       "1. 30\n",
       "2. 12\n",
       "\n",
       "\n"
      ],
      "text/plain": [
       "[1] 30 12"
      ]
     },
     "metadata": {},
     "output_type": "display_data"
    }
   ],
   "source": [
    "features_pos<-droplevels(subset(a, a$Treatmentgroup==c(\"infected\")|a$Treatmentgroup==c(\"combo\")))\n",
    "head(features_pos)\n",
    "dim(features_pos)"
   ]
  },
  {
   "cell_type": "code",
   "execution_count": 4,
   "metadata": {
    "scrolled": false
   },
   "outputs": [
    {
     "data": {
      "text/html": [
       "<table>\n",
       "<thead><tr><th></th><th scope=col>mass_400</th><th scope=col>mass_500</th><th scope=col>mass_600</th><th scope=col>mass_700</th><th scope=col>mass_800</th></tr></thead>\n",
       "<tbody>\n",
       "\t<tr><th scope=row>16</th><td>0.014116598</td><td>0.01160232 </td><td>0.000071100</td><td>0.00000000 </td><td>0.000000000</td></tr>\n",
       "\t<tr><th scope=row>17</th><td>0.011548522</td><td>0.01199742 </td><td>0.000281116</td><td>0.00000000 </td><td>0.000000000</td></tr>\n",
       "\t<tr><th scope=row>18</th><td>0.009337858</td><td>0.01010391 </td><td>0.000090600</td><td>0.00000000 </td><td>0.000000000</td></tr>\n",
       "\t<tr><th scope=row>19</th><td>0.013359138</td><td>0.01424699 </td><td>0.000215100</td><td>0.00000000 </td><td>0.000000000</td></tr>\n",
       "\t<tr><th scope=row>20</th><td>0.011763544</td><td>0.01414222 </td><td>0.000339557</td><td>0.00237373 </td><td>0.001749487</td></tr>\n",
       "\t<tr><th scope=row>21</th><td>0.012129670</td><td>0.01357397 </td><td>0.000245883</td><td>0.00000000 </td><td>0.000000000</td></tr>\n",
       "</tbody>\n",
       "</table>\n"
      ],
      "text/latex": [
       "\\begin{tabular}{r|lllll}\n",
       "  & mass\\_400 & mass\\_500 & mass\\_600 & mass\\_700 & mass\\_800\\\\\n",
       "\\hline\n",
       "\t16 & 0.014116598 & 0.01160232  & 0.000071100 & 0.00000000  & 0.000000000\\\\\n",
       "\t17 & 0.011548522 & 0.01199742  & 0.000281116 & 0.00000000  & 0.000000000\\\\\n",
       "\t18 & 0.009337858 & 0.01010391  & 0.000090600 & 0.00000000  & 0.000000000\\\\\n",
       "\t19 & 0.013359138 & 0.01424699  & 0.000215100 & 0.00000000  & 0.000000000\\\\\n",
       "\t20 & 0.011763544 & 0.01414222  & 0.000339557 & 0.00237373  & 0.001749487\\\\\n",
       "\t21 & 0.012129670 & 0.01357397  & 0.000245883 & 0.00000000  & 0.000000000\\\\\n",
       "\\end{tabular}\n"
      ],
      "text/markdown": [
       "\n",
       "| <!--/--> | mass_400 | mass_500 | mass_600 | mass_700 | mass_800 |\n",
       "|---|---|---|---|---|---|\n",
       "| 16 | 0.014116598 | 0.01160232  | 0.000071100 | 0.00000000  | 0.000000000 |\n",
       "| 17 | 0.011548522 | 0.01199742  | 0.000281116 | 0.00000000  | 0.000000000 |\n",
       "| 18 | 0.009337858 | 0.01010391  | 0.000090600 | 0.00000000  | 0.000000000 |\n",
       "| 19 | 0.013359138 | 0.01424699  | 0.000215100 | 0.00000000  | 0.000000000 |\n",
       "| 20 | 0.011763544 | 0.01414222  | 0.000339557 | 0.00237373  | 0.001749487 |\n",
       "| 21 | 0.012129670 | 0.01357397  | 0.000245883 | 0.00000000  | 0.000000000 |\n",
       "\n"
      ],
      "text/plain": [
       "   mass_400    mass_500   mass_600    mass_700   mass_800   \n",
       "16 0.014116598 0.01160232 0.000071100 0.00000000 0.000000000\n",
       "17 0.011548522 0.01199742 0.000281116 0.00000000 0.000000000\n",
       "18 0.009337858 0.01010391 0.000090600 0.00000000 0.000000000\n",
       "19 0.013359138 0.01424699 0.000215100 0.00000000 0.000000000\n",
       "20 0.011763544 0.01414222 0.000339557 0.00237373 0.001749487\n",
       "21 0.012129670 0.01357397 0.000245883 0.00000000 0.000000000"
      ]
     },
     "metadata": {},
     "output_type": "display_data"
    },
    {
     "data": {
      "text/html": [
       "<dl class=dl-horizontal>\n",
       "\t<dt>mass_400</dt>\n",
       "\t\t<dd>1</dd>\n",
       "\t<dt>mass_500</dt>\n",
       "\t\t<dd>2</dd>\n",
       "\t<dt>mass_600</dt>\n",
       "\t\t<dd>3</dd>\n",
       "\t<dt>mass_700</dt>\n",
       "\t\t<dd>4</dd>\n",
       "\t<dt>mass_800</dt>\n",
       "\t\t<dd>5</dd>\n",
       "</dl>\n"
      ],
      "text/latex": [
       "\\begin{description*}\n",
       "\\item[mass\\textbackslash{}\\_400] 1\n",
       "\\item[mass\\textbackslash{}\\_500] 2\n",
       "\\item[mass\\textbackslash{}\\_600] 3\n",
       "\\item[mass\\textbackslash{}\\_700] 4\n",
       "\\item[mass\\textbackslash{}\\_800] 5\n",
       "\\end{description*}\n"
      ],
      "text/markdown": [
       "mass_400\n",
       ":   1mass_500\n",
       ":   2mass_600\n",
       ":   3mass_700\n",
       ":   4mass_800\n",
       ":   5\n",
       "\n"
      ],
      "text/plain": [
       "mass_400 mass_500 mass_600 mass_700 mass_800 \n",
       "       1        2        3        4        5 "
      ]
     },
     "metadata": {},
     "output_type": "display_data"
    },
    {
     "data": {
      "text/html": [
       "<table>\n",
       "<thead><tr><th></th><th scope=col>mass_400</th><th scope=col>mass_500</th><th scope=col>mass_600</th><th scope=col>mass_700</th><th scope=col>mass_800</th></tr></thead>\n",
       "<tbody>\n",
       "\t<tr><th scope=row>16</th><td>0.014116598</td><td>0.011602317</td><td>0.000071100</td><td>0.000000000</td><td>0.000000000</td></tr>\n",
       "\t<tr><th scope=row>17</th><td>0.011548522</td><td>0.011997421</td><td>0.000281116</td><td>0.000000000</td><td>0.000000000</td></tr>\n",
       "\t<tr><th scope=row>18</th><td>0.009337858</td><td>0.010103911</td><td>0.000090600</td><td>0.000000000</td><td>0.000000000</td></tr>\n",
       "\t<tr><th scope=row>19</th><td>0.013359138</td><td>0.014246993</td><td>0.000215100</td><td>0.000000000</td><td>0.000000000</td></tr>\n",
       "\t<tr><th scope=row>20</th><td>0.011763544</td><td>0.014142223</td><td>0.000339557</td><td>0.002373730</td><td>0.001749487</td></tr>\n",
       "\t<tr><th scope=row>21</th><td>0.012129670</td><td>0.013573974</td><td>0.000245883</td><td>0.000000000</td><td>0.000000000</td></tr>\n",
       "\t<tr><th scope=row>22</th><td>0.007099116</td><td>0.008018595</td><td>0.000000000</td><td>0.000000000</td><td>0.000000000</td></tr>\n",
       "\t<tr><th scope=row>23</th><td>0.013326204</td><td>0.013746514</td><td>0.000070300</td><td>0.000000000</td><td>0.000000000</td></tr>\n",
       "\t<tr><th scope=row>24</th><td>0.012390649</td><td>0.013753808</td><td>0.000000000</td><td>0.000196759</td><td>0.000000000</td></tr>\n",
       "\t<tr><th scope=row>25</th><td>0.015575339</td><td>0.017183958</td><td>0.000181716</td><td>0.002146601</td><td>0.000137900</td></tr>\n",
       "\t<tr><th scope=row>31</th><td>0.009862041</td><td>0.010239950</td><td>0.000000000</td><td>0.000000000</td><td>0.000000000</td></tr>\n",
       "\t<tr><th scope=row>32</th><td>0.008740944</td><td>0.008528251</td><td>0.000000000</td><td>0.000503301</td><td>0.000377911</td></tr>\n",
       "\t<tr><th scope=row>33</th><td>0.008780162</td><td>0.009389767</td><td>0.000056600</td><td>0.003337624</td><td>0.000150200</td></tr>\n",
       "\t<tr><th scope=row>34</th><td>0.006374382</td><td>0.007392699</td><td>0.000000000</td><td>0.002160511</td><td>0.000391130</td></tr>\n",
       "\t<tr><th scope=row>35</th><td>0.009917605</td><td>0.009401780</td><td>0.000000000</td><td>0.000000000</td><td>0.000000000</td></tr>\n",
       "\t<tr><th scope=row>36</th><td>0.008621274</td><td>0.008092385</td><td>0.000000000</td><td>0.000000000</td><td>0.000000000</td></tr>\n",
       "\t<tr><th scope=row>37</th><td>0.010180627</td><td>0.009377714</td><td>0.000000000</td><td>0.000287882</td><td>0.000070100</td></tr>\n",
       "\t<tr><th scope=row>38</th><td>0.007911947</td><td>0.006524352</td><td>0.000000000</td><td>0.001248448</td><td>0.000000000</td></tr>\n",
       "\t<tr><th scope=row>39</th><td>0.014161640</td><td>0.012498052</td><td>0.000000000</td><td>0.000000000</td><td>0.000000000</td></tr>\n",
       "\t<tr><th scope=row>40</th><td>0.013532414</td><td>0.014304590</td><td>0.000000000</td><td>0.000000000</td><td>0.000000000</td></tr>\n",
       "\t<tr><th scope=row>46</th><td>0.016335059</td><td>0.018147510</td><td>0.000332725</td><td>0.000260947</td><td>0.000128100</td></tr>\n",
       "\t<tr><th scope=row>47</th><td>0.006695043</td><td>0.006900587</td><td>0.000000000</td><td>0.000430910</td><td>0.000000000</td></tr>\n",
       "\t<tr><th scope=row>48</th><td>0.015049297</td><td>0.015620380</td><td>0.000250894</td><td>0.023001420</td><td>0.005810353</td></tr>\n",
       "\t<tr><th scope=row>49</th><td>0.011474780</td><td>0.012824873</td><td>0.000294671</td><td>0.000000000</td><td>0.000000000</td></tr>\n",
       "\t<tr><th scope=row>50</th><td>0.009684411</td><td>0.011539150</td><td>0.000000000</td><td>0.000000000</td><td>0.000000000</td></tr>\n",
       "\t<tr><th scope=row>51</th><td>0.013530458</td><td>0.016305127</td><td>0.000342764</td><td>0.000000000</td><td>0.000000000</td></tr>\n",
       "\t<tr><th scope=row>52</th><td>0.013709084</td><td>0.014937589</td><td>0.000000000</td><td>0.000000000</td><td>0.000000000</td></tr>\n",
       "\t<tr><th scope=row>53</th><td>0.018472864</td><td>0.018734498</td><td>0.000239839</td><td>0.001198684</td><td>0.000000000</td></tr>\n",
       "\t<tr><th scope=row>54</th><td>0.012474659</td><td>0.014241745</td><td>0.000108800</td><td>0.000000000</td><td>0.000000000</td></tr>\n",
       "\t<tr><th scope=row>55</th><td>0.012858030</td><td>0.013198733</td><td>0.000141538</td><td>0.001638144</td><td>0.000185401</td></tr>\n",
       "</tbody>\n",
       "</table>\n"
      ],
      "text/latex": [
       "\\begin{tabular}{r|lllll}\n",
       "  & mass\\_400 & mass\\_500 & mass\\_600 & mass\\_700 & mass\\_800\\\\\n",
       "\\hline\n",
       "\t16 & 0.014116598 & 0.011602317 & 0.000071100 & 0.000000000 & 0.000000000\\\\\n",
       "\t17 & 0.011548522 & 0.011997421 & 0.000281116 & 0.000000000 & 0.000000000\\\\\n",
       "\t18 & 0.009337858 & 0.010103911 & 0.000090600 & 0.000000000 & 0.000000000\\\\\n",
       "\t19 & 0.013359138 & 0.014246993 & 0.000215100 & 0.000000000 & 0.000000000\\\\\n",
       "\t20 & 0.011763544 & 0.014142223 & 0.000339557 & 0.002373730 & 0.001749487\\\\\n",
       "\t21 & 0.012129670 & 0.013573974 & 0.000245883 & 0.000000000 & 0.000000000\\\\\n",
       "\t22 & 0.007099116 & 0.008018595 & 0.000000000 & 0.000000000 & 0.000000000\\\\\n",
       "\t23 & 0.013326204 & 0.013746514 & 0.000070300 & 0.000000000 & 0.000000000\\\\\n",
       "\t24 & 0.012390649 & 0.013753808 & 0.000000000 & 0.000196759 & 0.000000000\\\\\n",
       "\t25 & 0.015575339 & 0.017183958 & 0.000181716 & 0.002146601 & 0.000137900\\\\\n",
       "\t31 & 0.009862041 & 0.010239950 & 0.000000000 & 0.000000000 & 0.000000000\\\\\n",
       "\t32 & 0.008740944 & 0.008528251 & 0.000000000 & 0.000503301 & 0.000377911\\\\\n",
       "\t33 & 0.008780162 & 0.009389767 & 0.000056600 & 0.003337624 & 0.000150200\\\\\n",
       "\t34 & 0.006374382 & 0.007392699 & 0.000000000 & 0.002160511 & 0.000391130\\\\\n",
       "\t35 & 0.009917605 & 0.009401780 & 0.000000000 & 0.000000000 & 0.000000000\\\\\n",
       "\t36 & 0.008621274 & 0.008092385 & 0.000000000 & 0.000000000 & 0.000000000\\\\\n",
       "\t37 & 0.010180627 & 0.009377714 & 0.000000000 & 0.000287882 & 0.000070100\\\\\n",
       "\t38 & 0.007911947 & 0.006524352 & 0.000000000 & 0.001248448 & 0.000000000\\\\\n",
       "\t39 & 0.014161640 & 0.012498052 & 0.000000000 & 0.000000000 & 0.000000000\\\\\n",
       "\t40 & 0.013532414 & 0.014304590 & 0.000000000 & 0.000000000 & 0.000000000\\\\\n",
       "\t46 & 0.016335059 & 0.018147510 & 0.000332725 & 0.000260947 & 0.000128100\\\\\n",
       "\t47 & 0.006695043 & 0.006900587 & 0.000000000 & 0.000430910 & 0.000000000\\\\\n",
       "\t48 & 0.015049297 & 0.015620380 & 0.000250894 & 0.023001420 & 0.005810353\\\\\n",
       "\t49 & 0.011474780 & 0.012824873 & 0.000294671 & 0.000000000 & 0.000000000\\\\\n",
       "\t50 & 0.009684411 & 0.011539150 & 0.000000000 & 0.000000000 & 0.000000000\\\\\n",
       "\t51 & 0.013530458 & 0.016305127 & 0.000342764 & 0.000000000 & 0.000000000\\\\\n",
       "\t52 & 0.013709084 & 0.014937589 & 0.000000000 & 0.000000000 & 0.000000000\\\\\n",
       "\t53 & 0.018472864 & 0.018734498 & 0.000239839 & 0.001198684 & 0.000000000\\\\\n",
       "\t54 & 0.012474659 & 0.014241745 & 0.000108800 & 0.000000000 & 0.000000000\\\\\n",
       "\t55 & 0.012858030 & 0.013198733 & 0.000141538 & 0.001638144 & 0.000185401\\\\\n",
       "\\end{tabular}\n"
      ],
      "text/markdown": [
       "\n",
       "| <!--/--> | mass_400 | mass_500 | mass_600 | mass_700 | mass_800 |\n",
       "|---|---|---|---|---|---|\n",
       "| 16 | 0.014116598 | 0.011602317 | 0.000071100 | 0.000000000 | 0.000000000 |\n",
       "| 17 | 0.011548522 | 0.011997421 | 0.000281116 | 0.000000000 | 0.000000000 |\n",
       "| 18 | 0.009337858 | 0.010103911 | 0.000090600 | 0.000000000 | 0.000000000 |\n",
       "| 19 | 0.013359138 | 0.014246993 | 0.000215100 | 0.000000000 | 0.000000000 |\n",
       "| 20 | 0.011763544 | 0.014142223 | 0.000339557 | 0.002373730 | 0.001749487 |\n",
       "| 21 | 0.012129670 | 0.013573974 | 0.000245883 | 0.000000000 | 0.000000000 |\n",
       "| 22 | 0.007099116 | 0.008018595 | 0.000000000 | 0.000000000 | 0.000000000 |\n",
       "| 23 | 0.013326204 | 0.013746514 | 0.000070300 | 0.000000000 | 0.000000000 |\n",
       "| 24 | 0.012390649 | 0.013753808 | 0.000000000 | 0.000196759 | 0.000000000 |\n",
       "| 25 | 0.015575339 | 0.017183958 | 0.000181716 | 0.002146601 | 0.000137900 |\n",
       "| 31 | 0.009862041 | 0.010239950 | 0.000000000 | 0.000000000 | 0.000000000 |\n",
       "| 32 | 0.008740944 | 0.008528251 | 0.000000000 | 0.000503301 | 0.000377911 |\n",
       "| 33 | 0.008780162 | 0.009389767 | 0.000056600 | 0.003337624 | 0.000150200 |\n",
       "| 34 | 0.006374382 | 0.007392699 | 0.000000000 | 0.002160511 | 0.000391130 |\n",
       "| 35 | 0.009917605 | 0.009401780 | 0.000000000 | 0.000000000 | 0.000000000 |\n",
       "| 36 | 0.008621274 | 0.008092385 | 0.000000000 | 0.000000000 | 0.000000000 |\n",
       "| 37 | 0.010180627 | 0.009377714 | 0.000000000 | 0.000287882 | 0.000070100 |\n",
       "| 38 | 0.007911947 | 0.006524352 | 0.000000000 | 0.001248448 | 0.000000000 |\n",
       "| 39 | 0.014161640 | 0.012498052 | 0.000000000 | 0.000000000 | 0.000000000 |\n",
       "| 40 | 0.013532414 | 0.014304590 | 0.000000000 | 0.000000000 | 0.000000000 |\n",
       "| 46 | 0.016335059 | 0.018147510 | 0.000332725 | 0.000260947 | 0.000128100 |\n",
       "| 47 | 0.006695043 | 0.006900587 | 0.000000000 | 0.000430910 | 0.000000000 |\n",
       "| 48 | 0.015049297 | 0.015620380 | 0.000250894 | 0.023001420 | 0.005810353 |\n",
       "| 49 | 0.011474780 | 0.012824873 | 0.000294671 | 0.000000000 | 0.000000000 |\n",
       "| 50 | 0.009684411 | 0.011539150 | 0.000000000 | 0.000000000 | 0.000000000 |\n",
       "| 51 | 0.013530458 | 0.016305127 | 0.000342764 | 0.000000000 | 0.000000000 |\n",
       "| 52 | 0.013709084 | 0.014937589 | 0.000000000 | 0.000000000 | 0.000000000 |\n",
       "| 53 | 0.018472864 | 0.018734498 | 0.000239839 | 0.001198684 | 0.000000000 |\n",
       "| 54 | 0.012474659 | 0.014241745 | 0.000108800 | 0.000000000 | 0.000000000 |\n",
       "| 55 | 0.012858030 | 0.013198733 | 0.000141538 | 0.001638144 | 0.000185401 |\n",
       "\n"
      ],
      "text/plain": [
       "   mass_400    mass_500    mass_600    mass_700    mass_800   \n",
       "16 0.014116598 0.011602317 0.000071100 0.000000000 0.000000000\n",
       "17 0.011548522 0.011997421 0.000281116 0.000000000 0.000000000\n",
       "18 0.009337858 0.010103911 0.000090600 0.000000000 0.000000000\n",
       "19 0.013359138 0.014246993 0.000215100 0.000000000 0.000000000\n",
       "20 0.011763544 0.014142223 0.000339557 0.002373730 0.001749487\n",
       "21 0.012129670 0.013573974 0.000245883 0.000000000 0.000000000\n",
       "22 0.007099116 0.008018595 0.000000000 0.000000000 0.000000000\n",
       "23 0.013326204 0.013746514 0.000070300 0.000000000 0.000000000\n",
       "24 0.012390649 0.013753808 0.000000000 0.000196759 0.000000000\n",
       "25 0.015575339 0.017183958 0.000181716 0.002146601 0.000137900\n",
       "31 0.009862041 0.010239950 0.000000000 0.000000000 0.000000000\n",
       "32 0.008740944 0.008528251 0.000000000 0.000503301 0.000377911\n",
       "33 0.008780162 0.009389767 0.000056600 0.003337624 0.000150200\n",
       "34 0.006374382 0.007392699 0.000000000 0.002160511 0.000391130\n",
       "35 0.009917605 0.009401780 0.000000000 0.000000000 0.000000000\n",
       "36 0.008621274 0.008092385 0.000000000 0.000000000 0.000000000\n",
       "37 0.010180627 0.009377714 0.000000000 0.000287882 0.000070100\n",
       "38 0.007911947 0.006524352 0.000000000 0.001248448 0.000000000\n",
       "39 0.014161640 0.012498052 0.000000000 0.000000000 0.000000000\n",
       "40 0.013532414 0.014304590 0.000000000 0.000000000 0.000000000\n",
       "46 0.016335059 0.018147510 0.000332725 0.000260947 0.000128100\n",
       "47 0.006695043 0.006900587 0.000000000 0.000430910 0.000000000\n",
       "48 0.015049297 0.015620380 0.000250894 0.023001420 0.005810353\n",
       "49 0.011474780 0.012824873 0.000294671 0.000000000 0.000000000\n",
       "50 0.009684411 0.011539150 0.000000000 0.000000000 0.000000000\n",
       "51 0.013530458 0.016305127 0.000342764 0.000000000 0.000000000\n",
       "52 0.013709084 0.014937589 0.000000000 0.000000000 0.000000000\n",
       "53 0.018472864 0.018734498 0.000239839 0.001198684 0.000000000\n",
       "54 0.012474659 0.014241745 0.000108800 0.000000000 0.000000000\n",
       "55 0.012858030 0.013198733 0.000141538 0.001638144 0.000185401"
      ]
     },
     "metadata": {},
     "output_type": "display_data"
    },
    {
     "data": {
      "text/html": [
       "<table>\n",
       "<thead><tr><th></th><th scope=col>filename</th><th scope=col>MouseID</th><th scope=col>Treatmentgroup</th><th scope=col>DPI</th><th scope=col>organ</th><th scope=col>well_position</th><th scope=col>plate</th><th scope=col>mass_400</th><th scope=col>mass_500</th><th scope=col>mass_600</th><th scope=col>mass_700</th><th scope=col>mass_800</th></tr></thead>\n",
       "<tbody>\n",
       "\t<tr><th scope=row>16</th><td>X581_Group3E_142dpi_RV_bottom_176_G_B4_P140.mzXML</td><td>581                                              </td><td>infected                                         </td><td>142dpi                                           </td><td>RV_bottom                                        </td><td>B4                                               </td><td>P140                                             </td><td>0.014116598                                      </td><td>0.01160232                                       </td><td>0.000071100                                      </td><td>0.00000000                                       </td><td>0.000000000                                      </td></tr>\n",
       "\t<tr><th scope=row>17</th><td>X582_Group3E_142dpi_RV_bottom_177_G_B5_P140.mzXML</td><td>582                                              </td><td>infected                                         </td><td>142dpi                                           </td><td>RV_bottom                                        </td><td>B5                                               </td><td>P140                                             </td><td>0.011548522                                      </td><td>0.01199742                                       </td><td>0.000281116                                      </td><td>0.00000000                                       </td><td>0.000000000                                      </td></tr>\n",
       "\t<tr><th scope=row>18</th><td>X583_Group3E_142dpi_RV_bottom_178_G_B6_P140.mzXML</td><td>583                                              </td><td>infected                                         </td><td>142dpi                                           </td><td>RV_bottom                                        </td><td>B6                                               </td><td>P140                                             </td><td>0.009337858                                      </td><td>0.01010391                                       </td><td>0.000090600                                      </td><td>0.00000000                                       </td><td>0.000000000                                      </td></tr>\n",
       "\t<tr><th scope=row>19</th><td>X584_Group3E_142dpi_RV_bottom_179_G_B7_P140.mzXML</td><td>584                                              </td><td>infected                                         </td><td>142dpi                                           </td><td>RV_bottom                                        </td><td>B7                                               </td><td>P140                                             </td><td>0.013359138                                      </td><td>0.01424699                                       </td><td>0.000215100                                      </td><td>0.00000000                                       </td><td>0.000000000                                      </td></tr>\n",
       "\t<tr><th scope=row>20</th><td>X585_Group3E_142dpi_RV_bottom_180_G_B8_P140.mzXML</td><td>585                                              </td><td>infected                                         </td><td>142dpi                                           </td><td>RV_bottom                                        </td><td>B8                                               </td><td>P140                                             </td><td>0.011763544                                      </td><td>0.01414222                                       </td><td>0.000339557                                      </td><td>0.00237373                                       </td><td>0.001749487                                      </td></tr>\n",
       "\t<tr><th scope=row>21</th><td>X611_Group9_142dpi_RV_bottom_181_G_B9_P140.mzXML </td><td>611                                              </td><td>combo                                            </td><td>142dpi                                           </td><td>RV_bottom                                        </td><td>B9                                               </td><td>P140                                             </td><td>0.012129670                                      </td><td>0.01357397                                       </td><td>0.000245883                                      </td><td>0.00000000                                       </td><td>0.000000000                                      </td></tr>\n",
       "</tbody>\n",
       "</table>\n"
      ],
      "text/latex": [
       "\\begin{tabular}{r|llllllllllll}\n",
       "  & filename & MouseID & Treatmentgroup & DPI & organ & well\\_position & plate & mass\\_400 & mass\\_500 & mass\\_600 & mass\\_700 & mass\\_800\\\\\n",
       "\\hline\n",
       "\t16 & X581\\_Group3E\\_142dpi\\_RV\\_bottom\\_176\\_G\\_B4\\_P140.mzXML & 581                                                               & infected                                                          & 142dpi                                                            & RV\\_bottom                                                       & B4                                                                & P140                                                              & 0.014116598                                                       & 0.01160232                                                        & 0.000071100                                                       & 0.00000000                                                        & 0.000000000                                                      \\\\\n",
       "\t17 & X582\\_Group3E\\_142dpi\\_RV\\_bottom\\_177\\_G\\_B5\\_P140.mzXML & 582                                                               & infected                                                          & 142dpi                                                            & RV\\_bottom                                                       & B5                                                                & P140                                                              & 0.011548522                                                       & 0.01199742                                                        & 0.000281116                                                       & 0.00000000                                                        & 0.000000000                                                      \\\\\n",
       "\t18 & X583\\_Group3E\\_142dpi\\_RV\\_bottom\\_178\\_G\\_B6\\_P140.mzXML & 583                                                               & infected                                                          & 142dpi                                                            & RV\\_bottom                                                       & B6                                                                & P140                                                              & 0.009337858                                                       & 0.01010391                                                        & 0.000090600                                                       & 0.00000000                                                        & 0.000000000                                                      \\\\\n",
       "\t19 & X584\\_Group3E\\_142dpi\\_RV\\_bottom\\_179\\_G\\_B7\\_P140.mzXML & 584                                                               & infected                                                          & 142dpi                                                            & RV\\_bottom                                                       & B7                                                                & P140                                                              & 0.013359138                                                       & 0.01424699                                                        & 0.000215100                                                       & 0.00000000                                                        & 0.000000000                                                      \\\\\n",
       "\t20 & X585\\_Group3E\\_142dpi\\_RV\\_bottom\\_180\\_G\\_B8\\_P140.mzXML & 585                                                               & infected                                                          & 142dpi                                                            & RV\\_bottom                                                       & B8                                                                & P140                                                              & 0.011763544                                                       & 0.01414222                                                        & 0.000339557                                                       & 0.00237373                                                        & 0.001749487                                                      \\\\\n",
       "\t21 & X611\\_Group9\\_142dpi\\_RV\\_bottom\\_181\\_G\\_B9\\_P140.mzXML  & 611                                                               & combo                                                             & 142dpi                                                            & RV\\_bottom                                                       & B9                                                                & P140                                                              & 0.012129670                                                       & 0.01357397                                                        & 0.000245883                                                       & 0.00000000                                                        & 0.000000000                                                      \\\\\n",
       "\\end{tabular}\n"
      ],
      "text/markdown": [
       "\n",
       "| <!--/--> | filename | MouseID | Treatmentgroup | DPI | organ | well_position | plate | mass_400 | mass_500 | mass_600 | mass_700 | mass_800 |\n",
       "|---|---|---|---|---|---|---|---|---|---|---|---|---|\n",
       "| 16 | X581_Group3E_142dpi_RV_bottom_176_G_B4_P140.mzXML | 581                                               | infected                                          | 142dpi                                            | RV_bottom                                         | B4                                                | P140                                              | 0.014116598                                       | 0.01160232                                        | 0.000071100                                       | 0.00000000                                        | 0.000000000                                       |\n",
       "| 17 | X582_Group3E_142dpi_RV_bottom_177_G_B5_P140.mzXML | 582                                               | infected                                          | 142dpi                                            | RV_bottom                                         | B5                                                | P140                                              | 0.011548522                                       | 0.01199742                                        | 0.000281116                                       | 0.00000000                                        | 0.000000000                                       |\n",
       "| 18 | X583_Group3E_142dpi_RV_bottom_178_G_B6_P140.mzXML | 583                                               | infected                                          | 142dpi                                            | RV_bottom                                         | B6                                                | P140                                              | 0.009337858                                       | 0.01010391                                        | 0.000090600                                       | 0.00000000                                        | 0.000000000                                       |\n",
       "| 19 | X584_Group3E_142dpi_RV_bottom_179_G_B7_P140.mzXML | 584                                               | infected                                          | 142dpi                                            | RV_bottom                                         | B7                                                | P140                                              | 0.013359138                                       | 0.01424699                                        | 0.000215100                                       | 0.00000000                                        | 0.000000000                                       |\n",
       "| 20 | X585_Group3E_142dpi_RV_bottom_180_G_B8_P140.mzXML | 585                                               | infected                                          | 142dpi                                            | RV_bottom                                         | B8                                                | P140                                              | 0.011763544                                       | 0.01414222                                        | 0.000339557                                       | 0.00237373                                        | 0.001749487                                       |\n",
       "| 21 | X611_Group9_142dpi_RV_bottom_181_G_B9_P140.mzXML  | 611                                               | combo                                             | 142dpi                                            | RV_bottom                                         | B9                                                | P140                                              | 0.012129670                                       | 0.01357397                                        | 0.000245883                                       | 0.00000000                                        | 0.000000000                                       |\n",
       "\n"
      ],
      "text/plain": [
       "   filename                                          MouseID Treatmentgroup\n",
       "16 X581_Group3E_142dpi_RV_bottom_176_G_B4_P140.mzXML 581     infected      \n",
       "17 X582_Group3E_142dpi_RV_bottom_177_G_B5_P140.mzXML 582     infected      \n",
       "18 X583_Group3E_142dpi_RV_bottom_178_G_B6_P140.mzXML 583     infected      \n",
       "19 X584_Group3E_142dpi_RV_bottom_179_G_B7_P140.mzXML 584     infected      \n",
       "20 X585_Group3E_142dpi_RV_bottom_180_G_B8_P140.mzXML 585     infected      \n",
       "21 X611_Group9_142dpi_RV_bottom_181_G_B9_P140.mzXML  611     combo         \n",
       "   DPI    organ     well_position plate mass_400    mass_500   mass_600   \n",
       "16 142dpi RV_bottom B4            P140  0.014116598 0.01160232 0.000071100\n",
       "17 142dpi RV_bottom B5            P140  0.011548522 0.01199742 0.000281116\n",
       "18 142dpi RV_bottom B6            P140  0.009337858 0.01010391 0.000090600\n",
       "19 142dpi RV_bottom B7            P140  0.013359138 0.01424699 0.000215100\n",
       "20 142dpi RV_bottom B8            P140  0.011763544 0.01414222 0.000339557\n",
       "21 142dpi RV_bottom B9            P140  0.012129670 0.01357397 0.000245883\n",
       "   mass_700   mass_800   \n",
       "16 0.00000000 0.000000000\n",
       "17 0.00000000 0.000000000\n",
       "18 0.00000000 0.000000000\n",
       "19 0.00000000 0.000000000\n",
       "20 0.00237373 0.001749487\n",
       "21 0.00000000 0.000000000"
      ]
     },
     "metadata": {},
     "output_type": "display_data"
    },
    {
     "data": {
      "text/html": [
       "<ol class=list-inline>\n",
       "\t<li>30</li>\n",
       "\t<li>12</li>\n",
       "</ol>\n"
      ],
      "text/latex": [
       "\\begin{enumerate*}\n",
       "\\item 30\n",
       "\\item 12\n",
       "\\end{enumerate*}\n"
      ],
      "text/markdown": [
       "1. 30\n",
       "2. 12\n",
       "\n",
       "\n"
      ],
      "text/plain": [
       "[1] 30 12"
      ]
     },
     "metadata": {},
     "output_type": "display_data"
    },
    {
     "data": {
      "text/html": [
       "<ol class=list-inline>\n",
       "\t<li>30</li>\n",
       "\t<li>5</li>\n",
       "</ol>\n"
      ],
      "text/latex": [
       "\\begin{enumerate*}\n",
       "\\item 30\n",
       "\\item 5\n",
       "\\end{enumerate*}\n"
      ],
      "text/markdown": [
       "1. 30\n",
       "2. 5\n",
       "\n",
       "\n"
      ],
      "text/plain": [
       "[1] 30  5"
      ]
     },
     "metadata": {},
     "output_type": "display_data"
    },
    {
     "data": {
      "text/html": [
       "<ol class=list-inline>\n",
       "\t<li>30</li>\n",
       "\t<li>5</li>\n",
       "</ol>\n"
      ],
      "text/latex": [
       "\\begin{enumerate*}\n",
       "\\item 30\n",
       "\\item 5\n",
       "\\end{enumerate*}\n"
      ],
      "text/markdown": [
       "1. 30\n",
       "2. 5\n",
       "\n",
       "\n"
      ],
      "text/plain": [
       "[1] 30  5"
      ]
     },
     "metadata": {},
     "output_type": "display_data"
    },
    {
     "data": {
      "text/html": [
       "<ol class=list-inline>\n",
       "\t<li>30</li>\n",
       "\t<li>12</li>\n",
       "</ol>\n"
      ],
      "text/latex": [
       "\\begin{enumerate*}\n",
       "\\item 30\n",
       "\\item 12\n",
       "\\end{enumerate*}\n"
      ],
      "text/markdown": [
       "1. 30\n",
       "2. 12\n",
       "\n",
       "\n"
      ],
      "text/plain": [
       "[1] 30 12"
      ]
     },
     "metadata": {},
     "output_type": "display_data"
    }
   ],
   "source": [
    "noMeta<-features_pos[,8:12]\n",
    "head(noMeta)\n",
    "not_zero<-which(colSums(noMeta) != 0)\n",
    "head(not_zero)\n",
    "nonzero <- noMeta[, not_zero]\n",
    "nonzero\n",
    "nonzero_wMeta<-cbind(features_pos[,1:7], nonzero)\n",
    "head(nonzero_wMeta)\n",
    "dim(features_pos)\n",
    "dim(noMeta)\n",
    "dim(nonzero)\n",
    "dim(nonzero_wMeta)"
   ]
  },
  {
   "cell_type": "code",
   "execution_count": 5,
   "metadata": {
    "scrolled": true
   },
   "outputs": [
    {
     "name": "stderr",
     "output_type": "stream",
     "text": [
      "Warning message in wilcox.test.default(x = c(0.000245883, 0, 7.03e-05, 0, 0.000181716, :\n",
      "\"cannot compute exact p-value with ties\"Warning message in wilcox.test.default(x = c(0, 0, 0, 0.000196759, 0.002146601, :\n",
      "\"cannot compute exact p-value with ties\"Warning message in wilcox.test.default(x = c(0, 0, 0, 0, 0.0001379, 0, 7.01e-05, :\n",
      "\"cannot compute exact p-value with ties\""
     ]
    },
    {
     "data": {
      "text/html": [
       "<ol class=list-inline>\n",
       "\t<li>0.160685472537209</li>\n",
       "\t<li>0.232811909318818</li>\n",
       "\t<li>0.4058166035769</li>\n",
       "\t<li>0.491631042144376</li>\n",
       "\t<li>0.152030943166145</li>\n",
       "</ol>\n"
      ],
      "text/latex": [
       "\\begin{enumerate*}\n",
       "\\item 0.160685472537209\n",
       "\\item 0.232811909318818\n",
       "\\item 0.4058166035769\n",
       "\\item 0.491631042144376\n",
       "\\item 0.152030943166145\n",
       "\\end{enumerate*}\n"
      ],
      "text/markdown": [
       "1. 0.160685472537209\n",
       "2. 0.232811909318818\n",
       "3. 0.4058166035769\n",
       "4. 0.491631042144376\n",
       "5. 0.152030943166145\n",
       "\n",
       "\n"
      ],
      "text/plain": [
       "[1] 0.1606855 0.2328119 0.4058166 0.4916310 0.1520309"
      ]
     },
     "metadata": {},
     "output_type": "display_data"
    },
    {
     "data": {
      "text/html": [
       "<ol class=list-inline>\n",
       "\t<li>0.388019848864697</li>\n",
       "\t<li>0.388019848864697</li>\n",
       "\t<li>0.491631042144376</li>\n",
       "\t<li>0.491631042144376</li>\n",
       "\t<li>0.388019848864697</li>\n",
       "</ol>\n"
      ],
      "text/latex": [
       "\\begin{enumerate*}\n",
       "\\item 0.388019848864697\n",
       "\\item 0.388019848864697\n",
       "\\item 0.491631042144376\n",
       "\\item 0.491631042144376\n",
       "\\item 0.388019848864697\n",
       "\\end{enumerate*}\n"
      ],
      "text/markdown": [
       "1. 0.388019848864697\n",
       "2. 0.388019848864697\n",
       "3. 0.491631042144376\n",
       "4. 0.491631042144376\n",
       "5. 0.388019848864697\n",
       "\n",
       "\n"
      ],
      "text/plain": [
       "[1] 0.3880198 0.3880198 0.4916310 0.4916310 0.3880198"
      ]
     },
     "metadata": {},
     "output_type": "display_data"
    }
   ],
   "source": [
    "pval<-c()\n",
    "\n",
    "for (i in 8:ncol(nonzero_wMeta)) \n",
    "pval<-c(pval,wilcox.test(nonzero_wMeta[,i]~nonzero_wMeta$Treatmentgroup)$p.value)\n",
    "head(pval)\n",
    "pAdj <- p.adjust(pval, method = c(\"fdr\"), n=length(pval)) \n",
    "head(pAdj) \n",
    "\n"
   ]
  },
  {
   "cell_type": "code",
   "execution_count": 6,
   "metadata": {
    "scrolled": true
   },
   "outputs": [
    {
     "data": {
      "text/html": [
       "5"
      ],
      "text/latex": [
       "5"
      ],
      "text/markdown": [
       "5"
      ],
      "text/plain": [
       "[1] 5"
      ]
     },
     "metadata": {},
     "output_type": "display_data"
    }
   ],
   "source": [
    "length(pval)"
   ]
  },
  {
   "cell_type": "code",
   "execution_count": 7,
   "metadata": {
    "scrolled": true
   },
   "outputs": [
    {
     "data": {
      "text/html": [
       "5"
      ],
      "text/latex": [
       "5"
      ],
      "text/markdown": [
       "5"
      ],
      "text/plain": [
       "[1] 5"
      ]
     },
     "metadata": {},
     "output_type": "display_data"
    }
   ],
   "source": [
    "length(pAdj)"
   ]
  },
  {
   "cell_type": "code",
   "execution_count": 8,
   "metadata": {},
   "outputs": [
    {
     "data": {
      "text/html": [
       "<ol class=list-inline>\n",
       "\t<li>2</li>\n",
       "\t<li>5</li>\n",
       "</ol>\n"
      ],
      "text/latex": [
       "\\begin{enumerate*}\n",
       "\\item 2\n",
       "\\item 5\n",
       "\\end{enumerate*}\n"
      ],
      "text/markdown": [
       "1. 2\n",
       "2. 5\n",
       "\n",
       "\n"
      ],
      "text/plain": [
       "[1] 2 5"
      ]
     },
     "metadata": {},
     "output_type": "display_data"
    },
    {
     "data": {
      "text/html": [
       "<table>\n",
       "<thead><tr><th></th><th scope=col>mass_400</th><th scope=col>mass_500</th><th scope=col>mass_600</th></tr></thead>\n",
       "<tbody>\n",
       "\t<tr><th scope=row>combo</th><td>0.01239827  </td><td>0.01296611  </td><td>8.872267e-05</td></tr>\n",
       "\t<tr><th scope=row>infected</th><td>0.01086929  </td><td>0.01147185  </td><td>1.288242e-04</td></tr>\n",
       "</tbody>\n",
       "</table>\n"
      ],
      "text/latex": [
       "\\begin{tabular}{r|lll}\n",
       "  & mass\\_400 & mass\\_500 & mass\\_600\\\\\n",
       "\\hline\n",
       "\tcombo & 0.01239827   & 0.01296611   & 8.872267e-05\\\\\n",
       "\tinfected & 0.01086929   & 0.01147185   & 1.288242e-04\\\\\n",
       "\\end{tabular}\n"
      ],
      "text/markdown": [
       "\n",
       "| <!--/--> | mass_400 | mass_500 | mass_600 |\n",
       "|---|---|---|---|\n",
       "| combo | 0.01239827   | 0.01296611   | 8.872267e-05 |\n",
       "| infected | 0.01086929   | 0.01147185   | 1.288242e-04 |\n",
       "\n"
      ],
      "text/plain": [
       "         mass_400   mass_500   mass_600    \n",
       "combo    0.01239827 0.01296611 8.872267e-05\n",
       "infected 0.01086929 0.01147185 1.288242e-04"
      ]
     },
     "metadata": {},
     "output_type": "display_data"
    },
    {
     "data": {
      "text/html": [
       "<dl class=dl-horizontal>\n",
       "\t<dt>mass_400</dt>\n",
       "\t\t<dd>1.14066902387217</dd>\n",
       "\t<dt>mass_500</dt>\n",
       "\t\t<dd>1.13025399230437</dd>\n",
       "\t<dt>mass_600</dt>\n",
       "\t\t<dd>0.688711179007257</dd>\n",
       "\t<dt>mass_700</dt>\n",
       "\t\t<dd>0.209443221175409</dd>\n",
       "\t<dt>mass_800</dt>\n",
       "\t\t<dd>0.0457061377006014</dd>\n",
       "</dl>\n"
      ],
      "text/latex": [
       "\\begin{description*}\n",
       "\\item[mass\\textbackslash{}\\_400] 1.14066902387217\n",
       "\\item[mass\\textbackslash{}\\_500] 1.13025399230437\n",
       "\\item[mass\\textbackslash{}\\_600] 0.688711179007257\n",
       "\\item[mass\\textbackslash{}\\_700] 0.209443221175409\n",
       "\\item[mass\\textbackslash{}\\_800] 0.0457061377006014\n",
       "\\end{description*}\n"
      ],
      "text/markdown": [
       "mass_400\n",
       ":   1.14066902387217mass_500\n",
       ":   1.13025399230437mass_600\n",
       ":   0.688711179007257mass_700\n",
       ":   0.209443221175409mass_800\n",
       ":   0.0457061377006014\n",
       "\n"
      ],
      "text/plain": [
       "  mass_400   mass_500   mass_600   mass_700   mass_800 \n",
       "1.14066902 1.13025399 0.68871118 0.20944322 0.04570614 "
      ]
     },
     "metadata": {},
     "output_type": "display_data"
    },
    {
     "data": {
      "text/html": [
       "<ol class=list-inline>\n",
       "\t<li>'numeric'</li>\n",
       "\t<li>'vector'</li>\n",
       "</ol>\n"
      ],
      "text/latex": [
       "\\begin{enumerate*}\n",
       "\\item 'numeric'\n",
       "\\item 'vector'\n",
       "\\end{enumerate*}\n"
      ],
      "text/markdown": [
       "1. 'numeric'\n",
       "2. 'vector'\n",
       "\n",
       "\n"
      ],
      "text/plain": [
       "[1] \"numeric\" \"vector\" "
      ]
     },
     "metadata": {},
     "output_type": "display_data"
    }
   ],
   "source": [
    "avg<- apply(nonzero_wMeta[,8:ncol(nonzero_wMeta)], 2, function(x) tapply(x, nonzero_wMeta$Treatmentgroup, function(x) mean(x))) \n",
    "\n",
    "dim(avg)\n",
    "\n",
    "avg[,1:3]\n",
    "\n",
    "fch <- apply(avg, 2, function(x) x[1]/x[2])\n",
    "\n",
    "head(fch)\n",
    "is(fch)"
   ]
  },
  {
   "cell_type": "code",
   "execution_count": 9,
   "metadata": {
    "scrolled": true
   },
   "outputs": [
    {
     "data": {
      "text/html": [
       "<dl class=dl-horizontal>\n",
       "\t<dt>mass_400</dt>\n",
       "\t\t<dd>1.14066902387217</dd>\n",
       "\t<dt>mass_500</dt>\n",
       "\t\t<dd>1.13025399230437</dd>\n",
       "\t<dt>mass_600</dt>\n",
       "\t\t<dd>0.688711179007257</dd>\n",
       "\t<dt>mass_700</dt>\n",
       "\t\t<dd>0.209443221175409</dd>\n",
       "\t<dt>mass_800</dt>\n",
       "\t\t<dd>0.0457061377006014</dd>\n",
       "</dl>\n"
      ],
      "text/latex": [
       "\\begin{description*}\n",
       "\\item[mass\\textbackslash{}\\_400] 1.14066902387217\n",
       "\\item[mass\\textbackslash{}\\_500] 1.13025399230437\n",
       "\\item[mass\\textbackslash{}\\_600] 0.688711179007257\n",
       "\\item[mass\\textbackslash{}\\_700] 0.209443221175409\n",
       "\\item[mass\\textbackslash{}\\_800] 0.0457061377006014\n",
       "\\end{description*}\n"
      ],
      "text/markdown": [
       "mass_400\n",
       ":   1.14066902387217mass_500\n",
       ":   1.13025399230437mass_600\n",
       ":   0.688711179007257mass_700\n",
       ":   0.209443221175409mass_800\n",
       ":   0.0457061377006014\n",
       "\n"
      ],
      "text/plain": [
       "  mass_400   mass_500   mass_600   mass_700   mass_800 \n",
       "1.14066902 1.13025399 0.68871118 0.20944322 0.04570614 "
      ]
     },
     "metadata": {},
     "output_type": "display_data"
    }
   ],
   "source": [
    "fch"
   ]
  },
  {
   "cell_type": "code",
   "execution_count": 10,
   "metadata": {
    "scrolled": false
   },
   "outputs": [],
   "source": [
    "df <- data.frame(fch,pval, pAdj)\n",
    "write.csv(df, \"PC-treat-RVB-wilcox-infected-combo.csv\")"
   ]
  },
  {
   "cell_type": "code",
   "execution_count": null,
   "metadata": {},
   "outputs": [],
   "source": []
  },
  {
   "cell_type": "code",
   "execution_count": null,
   "metadata": {},
   "outputs": [],
   "source": []
  },
  {
   "cell_type": "code",
   "execution_count": null,
   "metadata": {},
   "outputs": [],
   "source": []
  },
  {
   "cell_type": "code",
   "execution_count": null,
   "metadata": {},
   "outputs": [],
   "source": []
  },
  {
   "cell_type": "code",
   "execution_count": null,
   "metadata": {},
   "outputs": [],
   "source": []
  },
  {
   "cell_type": "code",
   "execution_count": null,
   "metadata": {},
   "outputs": [],
   "source": []
  }
 ],
 "metadata": {
  "kernelspec": {
   "display_name": "R",
   "language": "R",
   "name": "ir"
  },
  "language_info": {
   "codemirror_mode": "r",
   "file_extension": ".r",
   "mimetype": "text/x-r-source",
   "name": "R",
   "pygments_lexer": "r",
   "version": "3.6.1"
  }
 },
 "nbformat": 4,
 "nbformat_minor": 2
}
