{
 "cells": [
  {
   "cell_type": "code",
   "execution_count": 1,
   "metadata": {},
   "outputs": [],
   "source": [
    "a <- read.csv(\"03172021-PC-time-RVB-M-F.csv\")"
   ]
  },
  {
   "cell_type": "code",
   "execution_count": 2,
   "metadata": {},
   "outputs": [
    {
     "data": {
      "text/html": [
       "<table>\n",
       "<thead><tr><th scope=col>filename</th><th scope=col>MouseID</th><th scope=col>Treatmentgroup</th><th scope=col>status</th><th scope=col>DPI</th><th scope=col>organ</th><th scope=col>well_position</th><th scope=col>plate</th><th scope=col>mass_400</th><th scope=col>mass_500</th><th scope=col>mass_600</th><th scope=col>mass_700</th><th scope=col>mass_800</th></tr></thead>\n",
       "<tbody>\n",
       "\t<tr><td>X501_Group1A_50dpi_RV_bottom_251_B_A1_P141.mzXML</td><td>501                                             </td><td>Group1A                                         </td><td>naive                                           </td><td>50                                              </td><td>RV_bottom                                       </td><td>A1                                              </td><td>P141                                            </td><td>0.04342834                                      </td><td>0.05497415                                      </td><td>0.000742324                                     </td><td>0.000115581                                     </td><td>0.000597756                                     </td></tr>\n",
       "\t<tr><td>X502_Group1A_50dpi_RV_bottom_252_B_A2_P141.mzXML</td><td>502                                             </td><td>Group1A                                         </td><td>naive                                           </td><td>50                                              </td><td>RV_bottom                                       </td><td>A2                                              </td><td>P141                                            </td><td>0.05003989                                      </td><td>0.10118145                                      </td><td>0.002446450                                     </td><td>0.013312979                                     </td><td>0.022775175                                     </td></tr>\n",
       "\t<tr><td>X503_Group1A_50dpi_RV_bottom_253_B_A3_P141.mzXML</td><td>503                                             </td><td>Group1A                                         </td><td>naive                                           </td><td>50                                              </td><td>RV_bottom                                       </td><td>A3                                              </td><td>P141                                            </td><td>0.04139114                                      </td><td>0.05226797                                      </td><td>0.001007878                                     </td><td>0.031294605                                     </td><td>0.009746465                                     </td></tr>\n",
       "\t<tr><td>X504_Group1A_50dpi_RV_bottom_254_B_A4_P141.mzXML</td><td>504                                             </td><td>Group1A                                         </td><td>naive                                           </td><td>50                                              </td><td>RV_bottom                                       </td><td>A4                                              </td><td>P141                                            </td><td>0.03348274                                      </td><td>0.04018528                                      </td><td>0.001037871                                     </td><td>0.002241342                                     </td><td>0.002011229                                     </td></tr>\n",
       "\t<tr><td>X505_Group1A_50dpi_RV_bottom_255_B_A5_P141.mzXML</td><td>505                                             </td><td>Group1A                                         </td><td>naive                                           </td><td>50                                              </td><td>RV_bottom                                       </td><td>A5                                              </td><td>P141                                            </td><td>0.02243459                                      </td><td>0.02839092                                      </td><td>0.000746064                                     </td><td>0.003137893                                     </td><td>0.001178689                                     </td></tr>\n",
       "\t<tr><td>X521_Group1A_50dpi_RV_bottom_256_B_A6_P141.mzXML</td><td>521                                             </td><td>Group1A                                         </td><td>naive                                           </td><td>50                                              </td><td>RV_bottom                                       </td><td>A6                                              </td><td>P141                                            </td><td>0.02619174                                      </td><td>0.02800588                                      </td><td>0.000681100                                     </td><td>0.000826693                                     </td><td>0.000861809                                     </td></tr>\n",
       "</tbody>\n",
       "</table>\n"
      ],
      "text/latex": [
       "\\begin{tabular}{r|lllllllllllll}\n",
       " filename & MouseID & Treatmentgroup & status & DPI & organ & well\\_position & plate & mass\\_400 & mass\\_500 & mass\\_600 & mass\\_700 & mass\\_800\\\\\n",
       "\\hline\n",
       "\t X501\\_Group1A\\_50dpi\\_RV\\_bottom\\_251\\_B\\_A1\\_P141.mzXML & 501                                                              & Group1A                                                          & naive                                                            & 50                                                               & RV\\_bottom                                                      & A1                                                               & P141                                                             & 0.04342834                                                       & 0.05497415                                                       & 0.000742324                                                      & 0.000115581                                                      & 0.000597756                                                     \\\\\n",
       "\t X502\\_Group1A\\_50dpi\\_RV\\_bottom\\_252\\_B\\_A2\\_P141.mzXML & 502                                                              & Group1A                                                          & naive                                                            & 50                                                               & RV\\_bottom                                                      & A2                                                               & P141                                                             & 0.05003989                                                       & 0.10118145                                                       & 0.002446450                                                      & 0.013312979                                                      & 0.022775175                                                     \\\\\n",
       "\t X503\\_Group1A\\_50dpi\\_RV\\_bottom\\_253\\_B\\_A3\\_P141.mzXML & 503                                                              & Group1A                                                          & naive                                                            & 50                                                               & RV\\_bottom                                                      & A3                                                               & P141                                                             & 0.04139114                                                       & 0.05226797                                                       & 0.001007878                                                      & 0.031294605                                                      & 0.009746465                                                     \\\\\n",
       "\t X504\\_Group1A\\_50dpi\\_RV\\_bottom\\_254\\_B\\_A4\\_P141.mzXML & 504                                                              & Group1A                                                          & naive                                                            & 50                                                               & RV\\_bottom                                                      & A4                                                               & P141                                                             & 0.03348274                                                       & 0.04018528                                                       & 0.001037871                                                      & 0.002241342                                                      & 0.002011229                                                     \\\\\n",
       "\t X505\\_Group1A\\_50dpi\\_RV\\_bottom\\_255\\_B\\_A5\\_P141.mzXML & 505                                                              & Group1A                                                          & naive                                                            & 50                                                               & RV\\_bottom                                                      & A5                                                               & P141                                                             & 0.02243459                                                       & 0.02839092                                                       & 0.000746064                                                      & 0.003137893                                                      & 0.001178689                                                     \\\\\n",
       "\t X521\\_Group1A\\_50dpi\\_RV\\_bottom\\_256\\_B\\_A6\\_P141.mzXML & 521                                                              & Group1A                                                          & naive                                                            & 50                                                               & RV\\_bottom                                                      & A6                                                               & P141                                                             & 0.02619174                                                       & 0.02800588                                                       & 0.000681100                                                      & 0.000826693                                                      & 0.000861809                                                     \\\\\n",
       "\\end{tabular}\n"
      ],
      "text/markdown": [
       "\n",
       "| filename | MouseID | Treatmentgroup | status | DPI | organ | well_position | plate | mass_400 | mass_500 | mass_600 | mass_700 | mass_800 |\n",
       "|---|---|---|---|---|---|---|---|---|---|---|---|---|\n",
       "| X501_Group1A_50dpi_RV_bottom_251_B_A1_P141.mzXML | 501                                              | Group1A                                          | naive                                            | 50                                               | RV_bottom                                        | A1                                               | P141                                             | 0.04342834                                       | 0.05497415                                       | 0.000742324                                      | 0.000115581                                      | 0.000597756                                      |\n",
       "| X502_Group1A_50dpi_RV_bottom_252_B_A2_P141.mzXML | 502                                              | Group1A                                          | naive                                            | 50                                               | RV_bottom                                        | A2                                               | P141                                             | 0.05003989                                       | 0.10118145                                       | 0.002446450                                      | 0.013312979                                      | 0.022775175                                      |\n",
       "| X503_Group1A_50dpi_RV_bottom_253_B_A3_P141.mzXML | 503                                              | Group1A                                          | naive                                            | 50                                               | RV_bottom                                        | A3                                               | P141                                             | 0.04139114                                       | 0.05226797                                       | 0.001007878                                      | 0.031294605                                      | 0.009746465                                      |\n",
       "| X504_Group1A_50dpi_RV_bottom_254_B_A4_P141.mzXML | 504                                              | Group1A                                          | naive                                            | 50                                               | RV_bottom                                        | A4                                               | P141                                             | 0.03348274                                       | 0.04018528                                       | 0.001037871                                      | 0.002241342                                      | 0.002011229                                      |\n",
       "| X505_Group1A_50dpi_RV_bottom_255_B_A5_P141.mzXML | 505                                              | Group1A                                          | naive                                            | 50                                               | RV_bottom                                        | A5                                               | P141                                             | 0.02243459                                       | 0.02839092                                       | 0.000746064                                      | 0.003137893                                      | 0.001178689                                      |\n",
       "| X521_Group1A_50dpi_RV_bottom_256_B_A6_P141.mzXML | 521                                              | Group1A                                          | naive                                            | 50                                               | RV_bottom                                        | A6                                               | P141                                             | 0.02619174                                       | 0.02800588                                       | 0.000681100                                      | 0.000826693                                      | 0.000861809                                      |\n",
       "\n"
      ],
      "text/plain": [
       "  filename                                         MouseID Treatmentgroup\n",
       "1 X501_Group1A_50dpi_RV_bottom_251_B_A1_P141.mzXML 501     Group1A       \n",
       "2 X502_Group1A_50dpi_RV_bottom_252_B_A2_P141.mzXML 502     Group1A       \n",
       "3 X503_Group1A_50dpi_RV_bottom_253_B_A3_P141.mzXML 503     Group1A       \n",
       "4 X504_Group1A_50dpi_RV_bottom_254_B_A4_P141.mzXML 504     Group1A       \n",
       "5 X505_Group1A_50dpi_RV_bottom_255_B_A5_P141.mzXML 505     Group1A       \n",
       "6 X521_Group1A_50dpi_RV_bottom_256_B_A6_P141.mzXML 521     Group1A       \n",
       "  status DPI organ     well_position plate mass_400   mass_500   mass_600   \n",
       "1 naive  50  RV_bottom A1            P141  0.04342834 0.05497415 0.000742324\n",
       "2 naive  50  RV_bottom A2            P141  0.05003989 0.10118145 0.002446450\n",
       "3 naive  50  RV_bottom A3            P141  0.04139114 0.05226797 0.001007878\n",
       "4 naive  50  RV_bottom A4            P141  0.03348274 0.04018528 0.001037871\n",
       "5 naive  50  RV_bottom A5            P141  0.02243459 0.02839092 0.000746064\n",
       "6 naive  50  RV_bottom A6            P141  0.02619174 0.02800588 0.000681100\n",
       "  mass_700    mass_800   \n",
       "1 0.000115581 0.000597756\n",
       "2 0.013312979 0.022775175\n",
       "3 0.031294605 0.009746465\n",
       "4 0.002241342 0.002011229\n",
       "5 0.003137893 0.001178689\n",
       "6 0.000826693 0.000861809"
      ]
     },
     "metadata": {},
     "output_type": "display_data"
    },
    {
     "data": {
      "text/html": [
       "<ol class=list-inline>\n",
       "\t<li>90</li>\n",
       "\t<li>13</li>\n",
       "</ol>\n"
      ],
      "text/latex": [
       "\\begin{enumerate*}\n",
       "\\item 90\n",
       "\\item 13\n",
       "\\end{enumerate*}\n"
      ],
      "text/markdown": [
       "1. 90\n",
       "2. 13\n",
       "\n",
       "\n"
      ],
      "text/plain": [
       "[1] 90 13"
      ]
     },
     "metadata": {},
     "output_type": "display_data"
    }
   ],
   "source": [
    "head(a)\n",
    "dim(a)"
   ]
  },
  {
   "cell_type": "code",
   "execution_count": 3,
   "metadata": {},
   "outputs": [
    {
     "data": {
      "text/html": [
       "<table>\n",
       "<thead><tr><th></th><th scope=col>filename</th><th scope=col>MouseID</th><th scope=col>Treatmentgroup</th><th scope=col>status</th><th scope=col>DPI</th><th scope=col>organ</th><th scope=col>well_position</th><th scope=col>plate</th><th scope=col>mass_400</th><th scope=col>mass_500</th><th scope=col>mass_600</th><th scope=col>mass_700</th><th scope=col>mass_800</th></tr></thead>\n",
       "<tbody>\n",
       "\t<tr><th scope=row>16</th><td>X506_Group1B_70dpi_RV_bottom_281_B_C7_P141.mzXML </td><td>506                                              </td><td>Group1B                                          </td><td>naive                                            </td><td>75                                               </td><td>RV_bottom                                        </td><td>C7                                               </td><td>P141                                             </td><td>0.03256191                                       </td><td>0.03350000                                       </td><td>0.000656095                                      </td><td>0.000433041                                      </td><td>0.000000000                                      </td></tr>\n",
       "\t<tr><th scope=row>17</th><td>X507_Group1B_70dpi_RV_bottom_282_B_C8_P141.mzXML </td><td>507                                              </td><td>Group1B                                          </td><td>naive                                            </td><td>75                                               </td><td>RV_bottom                                        </td><td>C8                                               </td><td>P141                                             </td><td>0.01682020                                       </td><td>0.01651093                                       </td><td>0.000247683                                      </td><td>0.005847646                                      </td><td>0.000860721                                      </td></tr>\n",
       "\t<tr><th scope=row>18</th><td>X508_Group1B_70dpi_RV_bottom_283_B_C9_P141.mzXML </td><td>508                                              </td><td>Group1B                                          </td><td>naive                                            </td><td>75                                               </td><td>RV_bottom                                        </td><td>C9                                               </td><td>P141                                             </td><td>0.01912611                                       </td><td>0.01884841                                       </td><td>0.000448750                                      </td><td>0.000174760                                      </td><td>0.000000000                                      </td></tr>\n",
       "\t<tr><th scope=row>19</th><td>X509_Group1B_70dpi_RV_bottom_284_B_C10_P141.mzXML</td><td>509                                              </td><td>Group1B                                          </td><td>naive                                            </td><td>75                                               </td><td>RV_bottom                                        </td><td>C10                                              </td><td>P141                                             </td><td>0.02292476                                       </td><td>0.02006965                                       </td><td>0.000000000                                      </td><td>0.000000000                                      </td><td>0.000000000                                      </td></tr>\n",
       "\t<tr><th scope=row>20</th><td>X510_Group1B_70dpi_RV_bottom_285_B_C11_P141.mzXML</td><td>510                                              </td><td>Group1B                                          </td><td>naive                                            </td><td>75                                               </td><td>RV_bottom                                        </td><td>C11                                              </td><td>P141                                             </td><td>0.02731703                                       </td><td>0.03177837                                       </td><td>0.000084000                                      </td><td>0.000000000                                      </td><td>0.000000000                                      </td></tr>\n",
       "\t<tr><th scope=row>21</th><td>X526_Group1B_70dpi_RV_bottom_286_B_C12_P141.mzXML</td><td>526                                              </td><td>Group1B                                          </td><td>naive                                            </td><td>75                                               </td><td>RV_bottom                                        </td><td>C12                                              </td><td>P141                                             </td><td>0.04599676                                       </td><td>0.04650159                                       </td><td>0.000285631                                      </td><td>0.000000000                                      </td><td>0.000000000                                      </td></tr>\n",
       "</tbody>\n",
       "</table>\n"
      ],
      "text/latex": [
       "\\begin{tabular}{r|lllllllllllll}\n",
       "  & filename & MouseID & Treatmentgroup & status & DPI & organ & well\\_position & plate & mass\\_400 & mass\\_500 & mass\\_600 & mass\\_700 & mass\\_800\\\\\n",
       "\\hline\n",
       "\t16 & X506\\_Group1B\\_70dpi\\_RV\\_bottom\\_281\\_B\\_C7\\_P141.mzXML  & 506                                                               & Group1B                                                           & naive                                                             & 75                                                                & RV\\_bottom                                                       & C7                                                                & P141                                                              & 0.03256191                                                        & 0.03350000                                                        & 0.000656095                                                       & 0.000433041                                                       & 0.000000000                                                      \\\\\n",
       "\t17 & X507\\_Group1B\\_70dpi\\_RV\\_bottom\\_282\\_B\\_C8\\_P141.mzXML  & 507                                                               & Group1B                                                           & naive                                                             & 75                                                                & RV\\_bottom                                                       & C8                                                                & P141                                                              & 0.01682020                                                        & 0.01651093                                                        & 0.000247683                                                       & 0.005847646                                                       & 0.000860721                                                      \\\\\n",
       "\t18 & X508\\_Group1B\\_70dpi\\_RV\\_bottom\\_283\\_B\\_C9\\_P141.mzXML  & 508                                                               & Group1B                                                           & naive                                                             & 75                                                                & RV\\_bottom                                                       & C9                                                                & P141                                                              & 0.01912611                                                        & 0.01884841                                                        & 0.000448750                                                       & 0.000174760                                                       & 0.000000000                                                      \\\\\n",
       "\t19 & X509\\_Group1B\\_70dpi\\_RV\\_bottom\\_284\\_B\\_C10\\_P141.mzXML & 509                                                               & Group1B                                                           & naive                                                             & 75                                                                & RV\\_bottom                                                       & C10                                                               & P141                                                              & 0.02292476                                                        & 0.02006965                                                        & 0.000000000                                                       & 0.000000000                                                       & 0.000000000                                                      \\\\\n",
       "\t20 & X510\\_Group1B\\_70dpi\\_RV\\_bottom\\_285\\_B\\_C11\\_P141.mzXML & 510                                                               & Group1B                                                           & naive                                                             & 75                                                                & RV\\_bottom                                                       & C11                                                               & P141                                                              & 0.02731703                                                        & 0.03177837                                                        & 0.000084000                                                       & 0.000000000                                                       & 0.000000000                                                      \\\\\n",
       "\t21 & X526\\_Group1B\\_70dpi\\_RV\\_bottom\\_286\\_B\\_C12\\_P141.mzXML & 526                                                               & Group1B                                                           & naive                                                             & 75                                                                & RV\\_bottom                                                       & C12                                                               & P141                                                              & 0.04599676                                                        & 0.04650159                                                        & 0.000285631                                                       & 0.000000000                                                       & 0.000000000                                                      \\\\\n",
       "\\end{tabular}\n"
      ],
      "text/markdown": [
       "\n",
       "| <!--/--> | filename | MouseID | Treatmentgroup | status | DPI | organ | well_position | plate | mass_400 | mass_500 | mass_600 | mass_700 | mass_800 |\n",
       "|---|---|---|---|---|---|---|---|---|---|---|---|---|---|\n",
       "| 16 | X506_Group1B_70dpi_RV_bottom_281_B_C7_P141.mzXML  | 506                                               | Group1B                                           | naive                                             | 75                                                | RV_bottom                                         | C7                                                | P141                                              | 0.03256191                                        | 0.03350000                                        | 0.000656095                                       | 0.000433041                                       | 0.000000000                                       |\n",
       "| 17 | X507_Group1B_70dpi_RV_bottom_282_B_C8_P141.mzXML  | 507                                               | Group1B                                           | naive                                             | 75                                                | RV_bottom                                         | C8                                                | P141                                              | 0.01682020                                        | 0.01651093                                        | 0.000247683                                       | 0.005847646                                       | 0.000860721                                       |\n",
       "| 18 | X508_Group1B_70dpi_RV_bottom_283_B_C9_P141.mzXML  | 508                                               | Group1B                                           | naive                                             | 75                                                | RV_bottom                                         | C9                                                | P141                                              | 0.01912611                                        | 0.01884841                                        | 0.000448750                                       | 0.000174760                                       | 0.000000000                                       |\n",
       "| 19 | X509_Group1B_70dpi_RV_bottom_284_B_C10_P141.mzXML | 509                                               | Group1B                                           | naive                                             | 75                                                | RV_bottom                                         | C10                                               | P141                                              | 0.02292476                                        | 0.02006965                                        | 0.000000000                                       | 0.000000000                                       | 0.000000000                                       |\n",
       "| 20 | X510_Group1B_70dpi_RV_bottom_285_B_C11_P141.mzXML | 510                                               | Group1B                                           | naive                                             | 75                                                | RV_bottom                                         | C11                                               | P141                                              | 0.02731703                                        | 0.03177837                                        | 0.000084000                                       | 0.000000000                                       | 0.000000000                                       |\n",
       "| 21 | X526_Group1B_70dpi_RV_bottom_286_B_C12_P141.mzXML | 526                                               | Group1B                                           | naive                                             | 75                                                | RV_bottom                                         | C12                                               | P141                                              | 0.04599676                                        | 0.04650159                                        | 0.000285631                                       | 0.000000000                                       | 0.000000000                                       |\n",
       "\n"
      ],
      "text/plain": [
       "   filename                                          MouseID Treatmentgroup\n",
       "16 X506_Group1B_70dpi_RV_bottom_281_B_C7_P141.mzXML  506     Group1B       \n",
       "17 X507_Group1B_70dpi_RV_bottom_282_B_C8_P141.mzXML  507     Group1B       \n",
       "18 X508_Group1B_70dpi_RV_bottom_283_B_C9_P141.mzXML  508     Group1B       \n",
       "19 X509_Group1B_70dpi_RV_bottom_284_B_C10_P141.mzXML 509     Group1B       \n",
       "20 X510_Group1B_70dpi_RV_bottom_285_B_C11_P141.mzXML 510     Group1B       \n",
       "21 X526_Group1B_70dpi_RV_bottom_286_B_C12_P141.mzXML 526     Group1B       \n",
       "   status DPI organ     well_position plate mass_400   mass_500   mass_600   \n",
       "16 naive  75  RV_bottom C7            P141  0.03256191 0.03350000 0.000656095\n",
       "17 naive  75  RV_bottom C8            P141  0.01682020 0.01651093 0.000247683\n",
       "18 naive  75  RV_bottom C9            P141  0.01912611 0.01884841 0.000448750\n",
       "19 naive  75  RV_bottom C10           P141  0.02292476 0.02006965 0.000000000\n",
       "20 naive  75  RV_bottom C11           P141  0.02731703 0.03177837 0.000084000\n",
       "21 naive  75  RV_bottom C12           P141  0.04599676 0.04650159 0.000285631\n",
       "   mass_700    mass_800   \n",
       "16 0.000433041 0.000000000\n",
       "17 0.005847646 0.000860721\n",
       "18 0.000174760 0.000000000\n",
       "19 0.000000000 0.000000000\n",
       "20 0.000000000 0.000000000\n",
       "21 0.000000000 0.000000000"
      ]
     },
     "metadata": {},
     "output_type": "display_data"
    },
    {
     "data": {
      "text/html": [
       "<ol class=list-inline>\n",
       "\t<li>30</li>\n",
       "\t<li>13</li>\n",
       "</ol>\n"
      ],
      "text/latex": [
       "\\begin{enumerate*}\n",
       "\\item 30\n",
       "\\item 13\n",
       "\\end{enumerate*}\n"
      ],
      "text/markdown": [
       "1. 30\n",
       "2. 13\n",
       "\n",
       "\n"
      ],
      "text/plain": [
       "[1] 30 13"
      ]
     },
     "metadata": {},
     "output_type": "display_data"
    }
   ],
   "source": [
    "features_pos<-droplevels(subset(a, a$Treatmentgroup==c(\"Group1B\")|a$Treatmentgroup==c(\"Group3B\")))\n",
    "head(features_pos)\n",
    "dim(features_pos)"
   ]
  },
  {
   "cell_type": "code",
   "execution_count": 4,
   "metadata": {
    "scrolled": false
   },
   "outputs": [
    {
     "data": {
      "text/html": [
       "<table>\n",
       "<thead><tr><th></th><th scope=col>mass_400</th><th scope=col>mass_500</th><th scope=col>mass_600</th><th scope=col>mass_700</th><th scope=col>mass_800</th></tr></thead>\n",
       "<tbody>\n",
       "\t<tr><th scope=row>16</th><td>0.03256191 </td><td>0.03350000 </td><td>0.000656095</td><td>0.000433041</td><td>0.000000000</td></tr>\n",
       "\t<tr><th scope=row>17</th><td>0.01682020 </td><td>0.01651093 </td><td>0.000247683</td><td>0.005847646</td><td>0.000860721</td></tr>\n",
       "\t<tr><th scope=row>18</th><td>0.01912611 </td><td>0.01884841 </td><td>0.000448750</td><td>0.000174760</td><td>0.000000000</td></tr>\n",
       "\t<tr><th scope=row>19</th><td>0.02292476 </td><td>0.02006965 </td><td>0.000000000</td><td>0.000000000</td><td>0.000000000</td></tr>\n",
       "\t<tr><th scope=row>20</th><td>0.02731703 </td><td>0.03177837 </td><td>0.000084000</td><td>0.000000000</td><td>0.000000000</td></tr>\n",
       "\t<tr><th scope=row>21</th><td>0.04599676 </td><td>0.04650159 </td><td>0.000285631</td><td>0.000000000</td><td>0.000000000</td></tr>\n",
       "</tbody>\n",
       "</table>\n"
      ],
      "text/latex": [
       "\\begin{tabular}{r|lllll}\n",
       "  & mass\\_400 & mass\\_500 & mass\\_600 & mass\\_700 & mass\\_800\\\\\n",
       "\\hline\n",
       "\t16 & 0.03256191  & 0.03350000  & 0.000656095 & 0.000433041 & 0.000000000\\\\\n",
       "\t17 & 0.01682020  & 0.01651093  & 0.000247683 & 0.005847646 & 0.000860721\\\\\n",
       "\t18 & 0.01912611  & 0.01884841  & 0.000448750 & 0.000174760 & 0.000000000\\\\\n",
       "\t19 & 0.02292476  & 0.02006965  & 0.000000000 & 0.000000000 & 0.000000000\\\\\n",
       "\t20 & 0.02731703  & 0.03177837  & 0.000084000 & 0.000000000 & 0.000000000\\\\\n",
       "\t21 & 0.04599676  & 0.04650159  & 0.000285631 & 0.000000000 & 0.000000000\\\\\n",
       "\\end{tabular}\n"
      ],
      "text/markdown": [
       "\n",
       "| <!--/--> | mass_400 | mass_500 | mass_600 | mass_700 | mass_800 |\n",
       "|---|---|---|---|---|---|\n",
       "| 16 | 0.03256191  | 0.03350000  | 0.000656095 | 0.000433041 | 0.000000000 |\n",
       "| 17 | 0.01682020  | 0.01651093  | 0.000247683 | 0.005847646 | 0.000860721 |\n",
       "| 18 | 0.01912611  | 0.01884841  | 0.000448750 | 0.000174760 | 0.000000000 |\n",
       "| 19 | 0.02292476  | 0.02006965  | 0.000000000 | 0.000000000 | 0.000000000 |\n",
       "| 20 | 0.02731703  | 0.03177837  | 0.000084000 | 0.000000000 | 0.000000000 |\n",
       "| 21 | 0.04599676  | 0.04650159  | 0.000285631 | 0.000000000 | 0.000000000 |\n",
       "\n"
      ],
      "text/plain": [
       "   mass_400   mass_500   mass_600    mass_700    mass_800   \n",
       "16 0.03256191 0.03350000 0.000656095 0.000433041 0.000000000\n",
       "17 0.01682020 0.01651093 0.000247683 0.005847646 0.000860721\n",
       "18 0.01912611 0.01884841 0.000448750 0.000174760 0.000000000\n",
       "19 0.02292476 0.02006965 0.000000000 0.000000000 0.000000000\n",
       "20 0.02731703 0.03177837 0.000084000 0.000000000 0.000000000\n",
       "21 0.04599676 0.04650159 0.000285631 0.000000000 0.000000000"
      ]
     },
     "metadata": {},
     "output_type": "display_data"
    },
    {
     "data": {
      "text/html": [
       "<dl class=dl-horizontal>\n",
       "\t<dt>mass_400</dt>\n",
       "\t\t<dd>1</dd>\n",
       "\t<dt>mass_500</dt>\n",
       "\t\t<dd>2</dd>\n",
       "\t<dt>mass_600</dt>\n",
       "\t\t<dd>3</dd>\n",
       "\t<dt>mass_700</dt>\n",
       "\t\t<dd>4</dd>\n",
       "\t<dt>mass_800</dt>\n",
       "\t\t<dd>5</dd>\n",
       "</dl>\n"
      ],
      "text/latex": [
       "\\begin{description*}\n",
       "\\item[mass\\textbackslash{}\\_400] 1\n",
       "\\item[mass\\textbackslash{}\\_500] 2\n",
       "\\item[mass\\textbackslash{}\\_600] 3\n",
       "\\item[mass\\textbackslash{}\\_700] 4\n",
       "\\item[mass\\textbackslash{}\\_800] 5\n",
       "\\end{description*}\n"
      ],
      "text/markdown": [
       "mass_400\n",
       ":   1mass_500\n",
       ":   2mass_600\n",
       ":   3mass_700\n",
       ":   4mass_800\n",
       ":   5\n",
       "\n"
      ],
      "text/plain": [
       "mass_400 mass_500 mass_600 mass_700 mass_800 \n",
       "       1        2        3        4        5 "
      ]
     },
     "metadata": {},
     "output_type": "display_data"
    },
    {
     "data": {
      "text/html": [
       "<table>\n",
       "<thead><tr><th></th><th scope=col>mass_400</th><th scope=col>mass_500</th><th scope=col>mass_600</th><th scope=col>mass_700</th><th scope=col>mass_800</th></tr></thead>\n",
       "<tbody>\n",
       "\t<tr><th scope=row>16</th><td>0.032561912</td><td>0.033500000</td><td>0.000656095</td><td>0.000433041</td><td>0.000000000</td></tr>\n",
       "\t<tr><th scope=row>17</th><td>0.016820196</td><td>0.016510926</td><td>0.000247683</td><td>0.005847646</td><td>0.000860721</td></tr>\n",
       "\t<tr><th scope=row>18</th><td>0.019126115</td><td>0.018848414</td><td>0.000448750</td><td>0.000174760</td><td>0.000000000</td></tr>\n",
       "\t<tr><th scope=row>19</th><td>0.022924757</td><td>0.020069651</td><td>0.000000000</td><td>0.000000000</td><td>0.000000000</td></tr>\n",
       "\t<tr><th scope=row>20</th><td>0.027317027</td><td>0.031778375</td><td>0.000084000</td><td>0.000000000</td><td>0.000000000</td></tr>\n",
       "\t<tr><th scope=row>21</th><td>0.045996759</td><td>0.046501588</td><td>0.000285631</td><td>0.000000000</td><td>0.000000000</td></tr>\n",
       "\t<tr><th scope=row>22</th><td>0.016809226</td><td>0.013791339</td><td>0.000000000</td><td>0.000000000</td><td>0.000000000</td></tr>\n",
       "\t<tr><th scope=row>23</th><td>0.026887182</td><td>0.031091236</td><td>0.000389387</td><td>0.000477367</td><td>0.000178460</td></tr>\n",
       "\t<tr><th scope=row>24</th><td>0.028669977</td><td>0.028956558</td><td>0.000671257</td><td>0.021187149</td><td>0.004117375</td></tr>\n",
       "\t<tr><th scope=row>25</th><td>0.023704580</td><td>0.027686138</td><td>0.000415546</td><td>0.000762422</td><td>0.000000000</td></tr>\n",
       "\t<tr><th scope=row>26</th><td>0.014902167</td><td>0.011738746</td><td>0.000068300</td><td>0.000000000</td><td>0.000000000</td></tr>\n",
       "\t<tr><th scope=row>27</th><td>0.010461695</td><td>0.013424460</td><td>0.000049000</td><td>0.000109081</td><td>0.000000000</td></tr>\n",
       "\t<tr><th scope=row>28</th><td>0.021932456</td><td>0.026335300</td><td>0.000392579</td><td>0.015627600</td><td>0.004697125</td></tr>\n",
       "\t<tr><th scope=row>29</th><td>0.022077295</td><td>0.020754740</td><td>0.000000000</td><td>0.000000000</td><td>0.000000000</td></tr>\n",
       "\t<tr><th scope=row>30</th><td>0.007283417</td><td>0.008130614</td><td>0.000000000</td><td>0.000242994</td><td>0.000000000</td></tr>\n",
       "\t<tr><th scope=row>61</th><td>0.032519788</td><td>0.025912724</td><td>0.000443544</td><td>0.000000000</td><td>0.000000000</td></tr>\n",
       "\t<tr><th scope=row>62</th><td>0.035379818</td><td>0.019878065</td><td>0.000285391</td><td>0.000000000</td><td>0.000000000</td></tr>\n",
       "\t<tr><th scope=row>63</th><td>0.039595764</td><td>0.037918005</td><td>0.000559504</td><td>0.001671646</td><td>0.001305797</td></tr>\n",
       "\t<tr><th scope=row>64</th><td>0.042400257</td><td>0.030344779</td><td>0.000000000</td><td>0.000000000</td><td>0.000000000</td></tr>\n",
       "\t<tr><th scope=row>65</th><td>0.034163350</td><td>0.024969657</td><td>0.000000000</td><td>0.000000000</td><td>0.000000000</td></tr>\n",
       "\t<tr><th scope=row>66</th><td>0.035810605</td><td>0.042739702</td><td>0.001263792</td><td>0.000659701</td><td>0.000599565</td></tr>\n",
       "\t<tr><th scope=row>67</th><td>0.028365703</td><td>0.027659886</td><td>0.000117700</td><td>0.000177628</td><td>0.000173901</td></tr>\n",
       "\t<tr><th scope=row>68</th><td>0.032993216</td><td>0.037009776</td><td>0.001092523</td><td>0.002737291</td><td>0.001967945</td></tr>\n",
       "\t<tr><th scope=row>69</th><td>0.036450487</td><td>0.042246073</td><td>0.001217676</td><td>0.001570307</td><td>0.001763131</td></tr>\n",
       "\t<tr><th scope=row>70</th><td>0.089544502</td><td>0.077400000</td><td>0.002398353</td><td>0.006780575</td><td>0.007610747</td></tr>\n",
       "\t<tr><th scope=row>71</th><td>0.034907187</td><td>0.041038390</td><td>0.001427804</td><td>0.002579024</td><td>0.002597207</td></tr>\n",
       "\t<tr><th scope=row>72</th><td>0.052021463</td><td>0.042548567</td><td>0.001365532</td><td>0.004127138</td><td>0.005084461</td></tr>\n",
       "\t<tr><th scope=row>73</th><td>0.048091289</td><td>0.051611217</td><td>0.001494927</td><td>0.002022540</td><td>0.002181358</td></tr>\n",
       "\t<tr><th scope=row>74</th><td>0.046229748</td><td>0.052027629</td><td>0.001715805</td><td>0.005894290</td><td>0.005054341</td></tr>\n",
       "\t<tr><th scope=row>75</th><td>0.068246157</td><td>0.068178548</td><td>0.001828694</td><td>0.004442532</td><td>0.004270708</td></tr>\n",
       "</tbody>\n",
       "</table>\n"
      ],
      "text/latex": [
       "\\begin{tabular}{r|lllll}\n",
       "  & mass\\_400 & mass\\_500 & mass\\_600 & mass\\_700 & mass\\_800\\\\\n",
       "\\hline\n",
       "\t16 & 0.032561912 & 0.033500000 & 0.000656095 & 0.000433041 & 0.000000000\\\\\n",
       "\t17 & 0.016820196 & 0.016510926 & 0.000247683 & 0.005847646 & 0.000860721\\\\\n",
       "\t18 & 0.019126115 & 0.018848414 & 0.000448750 & 0.000174760 & 0.000000000\\\\\n",
       "\t19 & 0.022924757 & 0.020069651 & 0.000000000 & 0.000000000 & 0.000000000\\\\\n",
       "\t20 & 0.027317027 & 0.031778375 & 0.000084000 & 0.000000000 & 0.000000000\\\\\n",
       "\t21 & 0.045996759 & 0.046501588 & 0.000285631 & 0.000000000 & 0.000000000\\\\\n",
       "\t22 & 0.016809226 & 0.013791339 & 0.000000000 & 0.000000000 & 0.000000000\\\\\n",
       "\t23 & 0.026887182 & 0.031091236 & 0.000389387 & 0.000477367 & 0.000178460\\\\\n",
       "\t24 & 0.028669977 & 0.028956558 & 0.000671257 & 0.021187149 & 0.004117375\\\\\n",
       "\t25 & 0.023704580 & 0.027686138 & 0.000415546 & 0.000762422 & 0.000000000\\\\\n",
       "\t26 & 0.014902167 & 0.011738746 & 0.000068300 & 0.000000000 & 0.000000000\\\\\n",
       "\t27 & 0.010461695 & 0.013424460 & 0.000049000 & 0.000109081 & 0.000000000\\\\\n",
       "\t28 & 0.021932456 & 0.026335300 & 0.000392579 & 0.015627600 & 0.004697125\\\\\n",
       "\t29 & 0.022077295 & 0.020754740 & 0.000000000 & 0.000000000 & 0.000000000\\\\\n",
       "\t30 & 0.007283417 & 0.008130614 & 0.000000000 & 0.000242994 & 0.000000000\\\\\n",
       "\t61 & 0.032519788 & 0.025912724 & 0.000443544 & 0.000000000 & 0.000000000\\\\\n",
       "\t62 & 0.035379818 & 0.019878065 & 0.000285391 & 0.000000000 & 0.000000000\\\\\n",
       "\t63 & 0.039595764 & 0.037918005 & 0.000559504 & 0.001671646 & 0.001305797\\\\\n",
       "\t64 & 0.042400257 & 0.030344779 & 0.000000000 & 0.000000000 & 0.000000000\\\\\n",
       "\t65 & 0.034163350 & 0.024969657 & 0.000000000 & 0.000000000 & 0.000000000\\\\\n",
       "\t66 & 0.035810605 & 0.042739702 & 0.001263792 & 0.000659701 & 0.000599565\\\\\n",
       "\t67 & 0.028365703 & 0.027659886 & 0.000117700 & 0.000177628 & 0.000173901\\\\\n",
       "\t68 & 0.032993216 & 0.037009776 & 0.001092523 & 0.002737291 & 0.001967945\\\\\n",
       "\t69 & 0.036450487 & 0.042246073 & 0.001217676 & 0.001570307 & 0.001763131\\\\\n",
       "\t70 & 0.089544502 & 0.077400000 & 0.002398353 & 0.006780575 & 0.007610747\\\\\n",
       "\t71 & 0.034907187 & 0.041038390 & 0.001427804 & 0.002579024 & 0.002597207\\\\\n",
       "\t72 & 0.052021463 & 0.042548567 & 0.001365532 & 0.004127138 & 0.005084461\\\\\n",
       "\t73 & 0.048091289 & 0.051611217 & 0.001494927 & 0.002022540 & 0.002181358\\\\\n",
       "\t74 & 0.046229748 & 0.052027629 & 0.001715805 & 0.005894290 & 0.005054341\\\\\n",
       "\t75 & 0.068246157 & 0.068178548 & 0.001828694 & 0.004442532 & 0.004270708\\\\\n",
       "\\end{tabular}\n"
      ],
      "text/markdown": [
       "\n",
       "| <!--/--> | mass_400 | mass_500 | mass_600 | mass_700 | mass_800 |\n",
       "|---|---|---|---|---|---|\n",
       "| 16 | 0.032561912 | 0.033500000 | 0.000656095 | 0.000433041 | 0.000000000 |\n",
       "| 17 | 0.016820196 | 0.016510926 | 0.000247683 | 0.005847646 | 0.000860721 |\n",
       "| 18 | 0.019126115 | 0.018848414 | 0.000448750 | 0.000174760 | 0.000000000 |\n",
       "| 19 | 0.022924757 | 0.020069651 | 0.000000000 | 0.000000000 | 0.000000000 |\n",
       "| 20 | 0.027317027 | 0.031778375 | 0.000084000 | 0.000000000 | 0.000000000 |\n",
       "| 21 | 0.045996759 | 0.046501588 | 0.000285631 | 0.000000000 | 0.000000000 |\n",
       "| 22 | 0.016809226 | 0.013791339 | 0.000000000 | 0.000000000 | 0.000000000 |\n",
       "| 23 | 0.026887182 | 0.031091236 | 0.000389387 | 0.000477367 | 0.000178460 |\n",
       "| 24 | 0.028669977 | 0.028956558 | 0.000671257 | 0.021187149 | 0.004117375 |\n",
       "| 25 | 0.023704580 | 0.027686138 | 0.000415546 | 0.000762422 | 0.000000000 |\n",
       "| 26 | 0.014902167 | 0.011738746 | 0.000068300 | 0.000000000 | 0.000000000 |\n",
       "| 27 | 0.010461695 | 0.013424460 | 0.000049000 | 0.000109081 | 0.000000000 |\n",
       "| 28 | 0.021932456 | 0.026335300 | 0.000392579 | 0.015627600 | 0.004697125 |\n",
       "| 29 | 0.022077295 | 0.020754740 | 0.000000000 | 0.000000000 | 0.000000000 |\n",
       "| 30 | 0.007283417 | 0.008130614 | 0.000000000 | 0.000242994 | 0.000000000 |\n",
       "| 61 | 0.032519788 | 0.025912724 | 0.000443544 | 0.000000000 | 0.000000000 |\n",
       "| 62 | 0.035379818 | 0.019878065 | 0.000285391 | 0.000000000 | 0.000000000 |\n",
       "| 63 | 0.039595764 | 0.037918005 | 0.000559504 | 0.001671646 | 0.001305797 |\n",
       "| 64 | 0.042400257 | 0.030344779 | 0.000000000 | 0.000000000 | 0.000000000 |\n",
       "| 65 | 0.034163350 | 0.024969657 | 0.000000000 | 0.000000000 | 0.000000000 |\n",
       "| 66 | 0.035810605 | 0.042739702 | 0.001263792 | 0.000659701 | 0.000599565 |\n",
       "| 67 | 0.028365703 | 0.027659886 | 0.000117700 | 0.000177628 | 0.000173901 |\n",
       "| 68 | 0.032993216 | 0.037009776 | 0.001092523 | 0.002737291 | 0.001967945 |\n",
       "| 69 | 0.036450487 | 0.042246073 | 0.001217676 | 0.001570307 | 0.001763131 |\n",
       "| 70 | 0.089544502 | 0.077400000 | 0.002398353 | 0.006780575 | 0.007610747 |\n",
       "| 71 | 0.034907187 | 0.041038390 | 0.001427804 | 0.002579024 | 0.002597207 |\n",
       "| 72 | 0.052021463 | 0.042548567 | 0.001365532 | 0.004127138 | 0.005084461 |\n",
       "| 73 | 0.048091289 | 0.051611217 | 0.001494927 | 0.002022540 | 0.002181358 |\n",
       "| 74 | 0.046229748 | 0.052027629 | 0.001715805 | 0.005894290 | 0.005054341 |\n",
       "| 75 | 0.068246157 | 0.068178548 | 0.001828694 | 0.004442532 | 0.004270708 |\n",
       "\n"
      ],
      "text/plain": [
       "   mass_400    mass_500    mass_600    mass_700    mass_800   \n",
       "16 0.032561912 0.033500000 0.000656095 0.000433041 0.000000000\n",
       "17 0.016820196 0.016510926 0.000247683 0.005847646 0.000860721\n",
       "18 0.019126115 0.018848414 0.000448750 0.000174760 0.000000000\n",
       "19 0.022924757 0.020069651 0.000000000 0.000000000 0.000000000\n",
       "20 0.027317027 0.031778375 0.000084000 0.000000000 0.000000000\n",
       "21 0.045996759 0.046501588 0.000285631 0.000000000 0.000000000\n",
       "22 0.016809226 0.013791339 0.000000000 0.000000000 0.000000000\n",
       "23 0.026887182 0.031091236 0.000389387 0.000477367 0.000178460\n",
       "24 0.028669977 0.028956558 0.000671257 0.021187149 0.004117375\n",
       "25 0.023704580 0.027686138 0.000415546 0.000762422 0.000000000\n",
       "26 0.014902167 0.011738746 0.000068300 0.000000000 0.000000000\n",
       "27 0.010461695 0.013424460 0.000049000 0.000109081 0.000000000\n",
       "28 0.021932456 0.026335300 0.000392579 0.015627600 0.004697125\n",
       "29 0.022077295 0.020754740 0.000000000 0.000000000 0.000000000\n",
       "30 0.007283417 0.008130614 0.000000000 0.000242994 0.000000000\n",
       "61 0.032519788 0.025912724 0.000443544 0.000000000 0.000000000\n",
       "62 0.035379818 0.019878065 0.000285391 0.000000000 0.000000000\n",
       "63 0.039595764 0.037918005 0.000559504 0.001671646 0.001305797\n",
       "64 0.042400257 0.030344779 0.000000000 0.000000000 0.000000000\n",
       "65 0.034163350 0.024969657 0.000000000 0.000000000 0.000000000\n",
       "66 0.035810605 0.042739702 0.001263792 0.000659701 0.000599565\n",
       "67 0.028365703 0.027659886 0.000117700 0.000177628 0.000173901\n",
       "68 0.032993216 0.037009776 0.001092523 0.002737291 0.001967945\n",
       "69 0.036450487 0.042246073 0.001217676 0.001570307 0.001763131\n",
       "70 0.089544502 0.077400000 0.002398353 0.006780575 0.007610747\n",
       "71 0.034907187 0.041038390 0.001427804 0.002579024 0.002597207\n",
       "72 0.052021463 0.042548567 0.001365532 0.004127138 0.005084461\n",
       "73 0.048091289 0.051611217 0.001494927 0.002022540 0.002181358\n",
       "74 0.046229748 0.052027629 0.001715805 0.005894290 0.005054341\n",
       "75 0.068246157 0.068178548 0.001828694 0.004442532 0.004270708"
      ]
     },
     "metadata": {},
     "output_type": "display_data"
    },
    {
     "data": {
      "text/html": [
       "<table>\n",
       "<thead><tr><th></th><th scope=col>filename</th><th scope=col>MouseID</th><th scope=col>Treatmentgroup</th><th scope=col>status</th><th scope=col>DPI</th><th scope=col>organ</th><th scope=col>well_position</th><th scope=col>plate</th><th scope=col>mass_400</th><th scope=col>mass_500</th><th scope=col>mass_600</th><th scope=col>mass_700</th><th scope=col>mass_800</th></tr></thead>\n",
       "<tbody>\n",
       "\t<tr><th scope=row>16</th><td>X506_Group1B_70dpi_RV_bottom_281_B_C7_P141.mzXML </td><td>506                                              </td><td>Group1B                                          </td><td>naive                                            </td><td>75                                               </td><td>RV_bottom                                        </td><td>C7                                               </td><td>P141                                             </td><td>0.03256191                                       </td><td>0.03350000                                       </td><td>0.000656095                                      </td><td>0.000433041                                      </td><td>0.000000000                                      </td></tr>\n",
       "\t<tr><th scope=row>17</th><td>X507_Group1B_70dpi_RV_bottom_282_B_C8_P141.mzXML </td><td>507                                              </td><td>Group1B                                          </td><td>naive                                            </td><td>75                                               </td><td>RV_bottom                                        </td><td>C8                                               </td><td>P141                                             </td><td>0.01682020                                       </td><td>0.01651093                                       </td><td>0.000247683                                      </td><td>0.005847646                                      </td><td>0.000860721                                      </td></tr>\n",
       "\t<tr><th scope=row>18</th><td>X508_Group1B_70dpi_RV_bottom_283_B_C9_P141.mzXML </td><td>508                                              </td><td>Group1B                                          </td><td>naive                                            </td><td>75                                               </td><td>RV_bottom                                        </td><td>C9                                               </td><td>P141                                             </td><td>0.01912611                                       </td><td>0.01884841                                       </td><td>0.000448750                                      </td><td>0.000174760                                      </td><td>0.000000000                                      </td></tr>\n",
       "\t<tr><th scope=row>19</th><td>X509_Group1B_70dpi_RV_bottom_284_B_C10_P141.mzXML</td><td>509                                              </td><td>Group1B                                          </td><td>naive                                            </td><td>75                                               </td><td>RV_bottom                                        </td><td>C10                                              </td><td>P141                                             </td><td>0.02292476                                       </td><td>0.02006965                                       </td><td>0.000000000                                      </td><td>0.000000000                                      </td><td>0.000000000                                      </td></tr>\n",
       "\t<tr><th scope=row>20</th><td>X510_Group1B_70dpi_RV_bottom_285_B_C11_P141.mzXML</td><td>510                                              </td><td>Group1B                                          </td><td>naive                                            </td><td>75                                               </td><td>RV_bottom                                        </td><td>C11                                              </td><td>P141                                             </td><td>0.02731703                                       </td><td>0.03177837                                       </td><td>0.000084000                                      </td><td>0.000000000                                      </td><td>0.000000000                                      </td></tr>\n",
       "\t<tr><th scope=row>21</th><td>X526_Group1B_70dpi_RV_bottom_286_B_C12_P141.mzXML</td><td>526                                              </td><td>Group1B                                          </td><td>naive                                            </td><td>75                                               </td><td>RV_bottom                                        </td><td>C12                                              </td><td>P141                                             </td><td>0.04599676                                       </td><td>0.04650159                                       </td><td>0.000285631                                      </td><td>0.000000000                                      </td><td>0.000000000                                      </td></tr>\n",
       "</tbody>\n",
       "</table>\n"
      ],
      "text/latex": [
       "\\begin{tabular}{r|lllllllllllll}\n",
       "  & filename & MouseID & Treatmentgroup & status & DPI & organ & well\\_position & plate & mass\\_400 & mass\\_500 & mass\\_600 & mass\\_700 & mass\\_800\\\\\n",
       "\\hline\n",
       "\t16 & X506\\_Group1B\\_70dpi\\_RV\\_bottom\\_281\\_B\\_C7\\_P141.mzXML  & 506                                                               & Group1B                                                           & naive                                                             & 75                                                                & RV\\_bottom                                                       & C7                                                                & P141                                                              & 0.03256191                                                        & 0.03350000                                                        & 0.000656095                                                       & 0.000433041                                                       & 0.000000000                                                      \\\\\n",
       "\t17 & X507\\_Group1B\\_70dpi\\_RV\\_bottom\\_282\\_B\\_C8\\_P141.mzXML  & 507                                                               & Group1B                                                           & naive                                                             & 75                                                                & RV\\_bottom                                                       & C8                                                                & P141                                                              & 0.01682020                                                        & 0.01651093                                                        & 0.000247683                                                       & 0.005847646                                                       & 0.000860721                                                      \\\\\n",
       "\t18 & X508\\_Group1B\\_70dpi\\_RV\\_bottom\\_283\\_B\\_C9\\_P141.mzXML  & 508                                                               & Group1B                                                           & naive                                                             & 75                                                                & RV\\_bottom                                                       & C9                                                                & P141                                                              & 0.01912611                                                        & 0.01884841                                                        & 0.000448750                                                       & 0.000174760                                                       & 0.000000000                                                      \\\\\n",
       "\t19 & X509\\_Group1B\\_70dpi\\_RV\\_bottom\\_284\\_B\\_C10\\_P141.mzXML & 509                                                               & Group1B                                                           & naive                                                             & 75                                                                & RV\\_bottom                                                       & C10                                                               & P141                                                              & 0.02292476                                                        & 0.02006965                                                        & 0.000000000                                                       & 0.000000000                                                       & 0.000000000                                                      \\\\\n",
       "\t20 & X510\\_Group1B\\_70dpi\\_RV\\_bottom\\_285\\_B\\_C11\\_P141.mzXML & 510                                                               & Group1B                                                           & naive                                                             & 75                                                                & RV\\_bottom                                                       & C11                                                               & P141                                                              & 0.02731703                                                        & 0.03177837                                                        & 0.000084000                                                       & 0.000000000                                                       & 0.000000000                                                      \\\\\n",
       "\t21 & X526\\_Group1B\\_70dpi\\_RV\\_bottom\\_286\\_B\\_C12\\_P141.mzXML & 526                                                               & Group1B                                                           & naive                                                             & 75                                                                & RV\\_bottom                                                       & C12                                                               & P141                                                              & 0.04599676                                                        & 0.04650159                                                        & 0.000285631                                                       & 0.000000000                                                       & 0.000000000                                                      \\\\\n",
       "\\end{tabular}\n"
      ],
      "text/markdown": [
       "\n",
       "| <!--/--> | filename | MouseID | Treatmentgroup | status | DPI | organ | well_position | plate | mass_400 | mass_500 | mass_600 | mass_700 | mass_800 |\n",
       "|---|---|---|---|---|---|---|---|---|---|---|---|---|---|\n",
       "| 16 | X506_Group1B_70dpi_RV_bottom_281_B_C7_P141.mzXML  | 506                                               | Group1B                                           | naive                                             | 75                                                | RV_bottom                                         | C7                                                | P141                                              | 0.03256191                                        | 0.03350000                                        | 0.000656095                                       | 0.000433041                                       | 0.000000000                                       |\n",
       "| 17 | X507_Group1B_70dpi_RV_bottom_282_B_C8_P141.mzXML  | 507                                               | Group1B                                           | naive                                             | 75                                                | RV_bottom                                         | C8                                                | P141                                              | 0.01682020                                        | 0.01651093                                        | 0.000247683                                       | 0.005847646                                       | 0.000860721                                       |\n",
       "| 18 | X508_Group1B_70dpi_RV_bottom_283_B_C9_P141.mzXML  | 508                                               | Group1B                                           | naive                                             | 75                                                | RV_bottom                                         | C9                                                | P141                                              | 0.01912611                                        | 0.01884841                                        | 0.000448750                                       | 0.000174760                                       | 0.000000000                                       |\n",
       "| 19 | X509_Group1B_70dpi_RV_bottom_284_B_C10_P141.mzXML | 509                                               | Group1B                                           | naive                                             | 75                                                | RV_bottom                                         | C10                                               | P141                                              | 0.02292476                                        | 0.02006965                                        | 0.000000000                                       | 0.000000000                                       | 0.000000000                                       |\n",
       "| 20 | X510_Group1B_70dpi_RV_bottom_285_B_C11_P141.mzXML | 510                                               | Group1B                                           | naive                                             | 75                                                | RV_bottom                                         | C11                                               | P141                                              | 0.02731703                                        | 0.03177837                                        | 0.000084000                                       | 0.000000000                                       | 0.000000000                                       |\n",
       "| 21 | X526_Group1B_70dpi_RV_bottom_286_B_C12_P141.mzXML | 526                                               | Group1B                                           | naive                                             | 75                                                | RV_bottom                                         | C12                                               | P141                                              | 0.04599676                                        | 0.04650159                                        | 0.000285631                                       | 0.000000000                                       | 0.000000000                                       |\n",
       "\n"
      ],
      "text/plain": [
       "   filename                                          MouseID Treatmentgroup\n",
       "16 X506_Group1B_70dpi_RV_bottom_281_B_C7_P141.mzXML  506     Group1B       \n",
       "17 X507_Group1B_70dpi_RV_bottom_282_B_C8_P141.mzXML  507     Group1B       \n",
       "18 X508_Group1B_70dpi_RV_bottom_283_B_C9_P141.mzXML  508     Group1B       \n",
       "19 X509_Group1B_70dpi_RV_bottom_284_B_C10_P141.mzXML 509     Group1B       \n",
       "20 X510_Group1B_70dpi_RV_bottom_285_B_C11_P141.mzXML 510     Group1B       \n",
       "21 X526_Group1B_70dpi_RV_bottom_286_B_C12_P141.mzXML 526     Group1B       \n",
       "   status DPI organ     well_position plate mass_400   mass_500   mass_600   \n",
       "16 naive  75  RV_bottom C7            P141  0.03256191 0.03350000 0.000656095\n",
       "17 naive  75  RV_bottom C8            P141  0.01682020 0.01651093 0.000247683\n",
       "18 naive  75  RV_bottom C9            P141  0.01912611 0.01884841 0.000448750\n",
       "19 naive  75  RV_bottom C10           P141  0.02292476 0.02006965 0.000000000\n",
       "20 naive  75  RV_bottom C11           P141  0.02731703 0.03177837 0.000084000\n",
       "21 naive  75  RV_bottom C12           P141  0.04599676 0.04650159 0.000285631\n",
       "   mass_700    mass_800   \n",
       "16 0.000433041 0.000000000\n",
       "17 0.005847646 0.000860721\n",
       "18 0.000174760 0.000000000\n",
       "19 0.000000000 0.000000000\n",
       "20 0.000000000 0.000000000\n",
       "21 0.000000000 0.000000000"
      ]
     },
     "metadata": {},
     "output_type": "display_data"
    },
    {
     "data": {
      "text/html": [
       "<ol class=list-inline>\n",
       "\t<li>30</li>\n",
       "\t<li>13</li>\n",
       "</ol>\n"
      ],
      "text/latex": [
       "\\begin{enumerate*}\n",
       "\\item 30\n",
       "\\item 13\n",
       "\\end{enumerate*}\n"
      ],
      "text/markdown": [
       "1. 30\n",
       "2. 13\n",
       "\n",
       "\n"
      ],
      "text/plain": [
       "[1] 30 13"
      ]
     },
     "metadata": {},
     "output_type": "display_data"
    },
    {
     "data": {
      "text/html": [
       "<ol class=list-inline>\n",
       "\t<li>30</li>\n",
       "\t<li>5</li>\n",
       "</ol>\n"
      ],
      "text/latex": [
       "\\begin{enumerate*}\n",
       "\\item 30\n",
       "\\item 5\n",
       "\\end{enumerate*}\n"
      ],
      "text/markdown": [
       "1. 30\n",
       "2. 5\n",
       "\n",
       "\n"
      ],
      "text/plain": [
       "[1] 30  5"
      ]
     },
     "metadata": {},
     "output_type": "display_data"
    },
    {
     "data": {
      "text/html": [
       "<ol class=list-inline>\n",
       "\t<li>30</li>\n",
       "\t<li>5</li>\n",
       "</ol>\n"
      ],
      "text/latex": [
       "\\begin{enumerate*}\n",
       "\\item 30\n",
       "\\item 5\n",
       "\\end{enumerate*}\n"
      ],
      "text/markdown": [
       "1. 30\n",
       "2. 5\n",
       "\n",
       "\n"
      ],
      "text/plain": [
       "[1] 30  5"
      ]
     },
     "metadata": {},
     "output_type": "display_data"
    },
    {
     "data": {
      "text/html": [
       "<ol class=list-inline>\n",
       "\t<li>30</li>\n",
       "\t<li>13</li>\n",
       "</ol>\n"
      ],
      "text/latex": [
       "\\begin{enumerate*}\n",
       "\\item 30\n",
       "\\item 13\n",
       "\\end{enumerate*}\n"
      ],
      "text/markdown": [
       "1. 30\n",
       "2. 13\n",
       "\n",
       "\n"
      ],
      "text/plain": [
       "[1] 30 13"
      ]
     },
     "metadata": {},
     "output_type": "display_data"
    }
   ],
   "source": [
    "noMeta<-features_pos[,9:13]\n",
    "head(noMeta)\n",
    "not_zero<-which(colSums(noMeta) != 0)\n",
    "head(not_zero)\n",
    "nonzero <- noMeta[, not_zero]\n",
    "nonzero\n",
    "nonzero_wMeta<-cbind(features_pos[,1:8], nonzero)\n",
    "head(nonzero_wMeta)\n",
    "dim(features_pos)\n",
    "dim(noMeta)\n",
    "dim(nonzero)\n",
    "dim(nonzero_wMeta)"
   ]
  },
  {
   "cell_type": "code",
   "execution_count": 5,
   "metadata": {
    "scrolled": true
   },
   "outputs": [
    {
     "name": "stderr",
     "output_type": "stream",
     "text": [
      "Warning message in wilcox.test.default(x = c(0.000656095, 0.000247683, 0.00044875, :\n",
      "\"cannot compute exact p-value with ties\"Warning message in wilcox.test.default(x = c(0.000433041, 0.005847646, 0.00017476, :\n",
      "\"cannot compute exact p-value with ties\"Warning message in wilcox.test.default(x = c(0, 0.000860721, 0, 0, 0, 0, 0, 0.00017846, :\n",
      "\"cannot compute exact p-value with ties\""
     ]
    },
    {
     "data": {
      "text/html": [
       "<ol class=list-inline>\n",
       "\t<li>4.80925687826881e-06</li>\n",
       "\t<li>0.00166521486418813</li>\n",
       "\t<li>0.00599101031661928</li>\n",
       "\t<li>0.236687483812917</li>\n",
       "\t<li>0.013044362574093</li>\n",
       "</ol>\n"
      ],
      "text/latex": [
       "\\begin{enumerate*}\n",
       "\\item 4.80925687826881e-06\n",
       "\\item 0.00166521486418813\n",
       "\\item 0.00599101031661928\n",
       "\\item 0.236687483812917\n",
       "\\item 0.013044362574093\n",
       "\\end{enumerate*}\n"
      ],
      "text/markdown": [
       "1. 4.80925687826881e-06\n",
       "2. 0.00166521486418813\n",
       "3. 0.00599101031661928\n",
       "4. 0.236687483812917\n",
       "5. 0.013044362574093\n",
       "\n",
       "\n"
      ],
      "text/plain": [
       "[1] 4.809257e-06 1.665215e-03 5.991010e-03 2.366875e-01 1.304436e-02"
      ]
     },
     "metadata": {},
     "output_type": "display_data"
    },
    {
     "data": {
      "text/html": [
       "<ol class=list-inline>\n",
       "\t<li>2.40462843913441e-05</li>\n",
       "\t<li>0.00416303716047033</li>\n",
       "\t<li>0.00998501719436546</li>\n",
       "\t<li>0.236687483812917</li>\n",
       "\t<li>0.0163054532176162</li>\n",
       "</ol>\n"
      ],
      "text/latex": [
       "\\begin{enumerate*}\n",
       "\\item 2.40462843913441e-05\n",
       "\\item 0.00416303716047033\n",
       "\\item 0.00998501719436546\n",
       "\\item 0.236687483812917\n",
       "\\item 0.0163054532176162\n",
       "\\end{enumerate*}\n"
      ],
      "text/markdown": [
       "1. 2.40462843913441e-05\n",
       "2. 0.00416303716047033\n",
       "3. 0.00998501719436546\n",
       "4. 0.236687483812917\n",
       "5. 0.0163054532176162\n",
       "\n",
       "\n"
      ],
      "text/plain": [
       "[1] 2.404628e-05 4.163037e-03 9.985017e-03 2.366875e-01 1.630545e-02"
      ]
     },
     "metadata": {},
     "output_type": "display_data"
    }
   ],
   "source": [
    "pval<-c()\n",
    "\n",
    "for (i in 9:ncol(nonzero_wMeta)) \n",
    "pval<-c(pval,wilcox.test(nonzero_wMeta[,i]~nonzero_wMeta$Treatmentgroup)$p.value)\n",
    "head(pval)\n",
    "pAdj <- p.adjust(pval, method = c(\"fdr\"), n=length(pval)) \n",
    "head(pAdj) \n",
    "\n"
   ]
  },
  {
   "cell_type": "code",
   "execution_count": 6,
   "metadata": {
    "scrolled": true
   },
   "outputs": [
    {
     "data": {
      "text/html": [
       "5"
      ],
      "text/latex": [
       "5"
      ],
      "text/markdown": [
       "5"
      ],
      "text/plain": [
       "[1] 5"
      ]
     },
     "metadata": {},
     "output_type": "display_data"
    }
   ],
   "source": [
    "length(pval)"
   ]
  },
  {
   "cell_type": "code",
   "execution_count": 7,
   "metadata": {
    "scrolled": true
   },
   "outputs": [
    {
     "data": {
      "text/html": [
       "5"
      ],
      "text/latex": [
       "5"
      ],
      "text/markdown": [
       "5"
      ],
      "text/plain": [
       "[1] 5"
      ]
     },
     "metadata": {},
     "output_type": "display_data"
    }
   ],
   "source": [
    "length(pAdj)"
   ]
  },
  {
   "cell_type": "code",
   "execution_count": 8,
   "metadata": {},
   "outputs": [
    {
     "data": {
      "text/html": [
       "<ol class=list-inline>\n",
       "\t<li>2</li>\n",
       "\t<li>5</li>\n",
       "</ol>\n"
      ],
      "text/latex": [
       "\\begin{enumerate*}\n",
       "\\item 2\n",
       "\\item 5\n",
       "\\end{enumerate*}\n"
      ],
      "text/markdown": [
       "1. 2\n",
       "2. 5\n",
       "\n",
       "\n"
      ],
      "text/plain": [
       "[1] 2 5"
      ]
     },
     "metadata": {},
     "output_type": "display_data"
    },
    {
     "data": {
      "text/html": [
       "<table>\n",
       "<thead><tr><th></th><th scope=col>mass_400</th><th scope=col>mass_500</th><th scope=col>mass_600</th></tr></thead>\n",
       "<tbody>\n",
       "\t<tr><th scope=row>Group1B</th><td>0.02249832  </td><td>0.02327454  </td><td>0.0002472152</td></tr>\n",
       "\t<tr><th scope=row>Group3B</th><td>0.04378129  </td><td>0.04143220  </td><td>0.0010140830</td></tr>\n",
       "</tbody>\n",
       "</table>\n"
      ],
      "text/latex": [
       "\\begin{tabular}{r|lll}\n",
       "  & mass\\_400 & mass\\_500 & mass\\_600\\\\\n",
       "\\hline\n",
       "\tGroup1B & 0.02249832   & 0.02327454   & 0.0002472152\\\\\n",
       "\tGroup3B & 0.04378129   & 0.04143220   & 0.0010140830\\\\\n",
       "\\end{tabular}\n"
      ],
      "text/markdown": [
       "\n",
       "| <!--/--> | mass_400 | mass_500 | mass_600 |\n",
       "|---|---|---|---|\n",
       "| Group1B | 0.02249832   | 0.02327454   | 0.0002472152 |\n",
       "| Group3B | 0.04378129   | 0.04143220   | 0.0010140830 |\n",
       "\n"
      ],
      "text/plain": [
       "        mass_400   mass_500   mass_600    \n",
       "Group1B 0.02249832 0.02327454 0.0002472152\n",
       "Group3B 0.04378129 0.04143220 0.0010140830"
      ]
     },
     "metadata": {},
     "output_type": "display_data"
    },
    {
     "data": {
      "text/html": [
       "<dl class=dl-horizontal>\n",
       "\t<dt>mass_400</dt>\n",
       "\t\t<dd>0.513879740595546</dd>\n",
       "\t<dt>mass_500</dt>\n",
       "\t\t<dd>0.561749999418327</dd>\n",
       "\t<dt>mass_600</dt>\n",
       "\t\t<dd>0.243782017842721</dd>\n",
       "\t<dt>mass_700</dt>\n",
       "\t\t<dd>1.37349632632627</dd>\n",
       "\t<dt>mass_800</dt>\n",
       "\t\t<dd>0.302175238424564</dd>\n",
       "</dl>\n"
      ],
      "text/latex": [
       "\\begin{description*}\n",
       "\\item[mass\\textbackslash{}\\_400] 0.513879740595546\n",
       "\\item[mass\\textbackslash{}\\_500] 0.561749999418327\n",
       "\\item[mass\\textbackslash{}\\_600] 0.243782017842721\n",
       "\\item[mass\\textbackslash{}\\_700] 1.37349632632627\n",
       "\\item[mass\\textbackslash{}\\_800] 0.302175238424564\n",
       "\\end{description*}\n"
      ],
      "text/markdown": [
       "mass_400\n",
       ":   0.513879740595546mass_500\n",
       ":   0.561749999418327mass_600\n",
       ":   0.243782017842721mass_700\n",
       ":   1.37349632632627mass_800\n",
       ":   0.302175238424564\n",
       "\n"
      ],
      "text/plain": [
       " mass_400  mass_500  mass_600  mass_700  mass_800 \n",
       "0.5138797 0.5617500 0.2437820 1.3734963 0.3021752 "
      ]
     },
     "metadata": {},
     "output_type": "display_data"
    },
    {
     "data": {
      "text/html": [
       "<ol class=list-inline>\n",
       "\t<li>'numeric'</li>\n",
       "\t<li>'vector'</li>\n",
       "</ol>\n"
      ],
      "text/latex": [
       "\\begin{enumerate*}\n",
       "\\item 'numeric'\n",
       "\\item 'vector'\n",
       "\\end{enumerate*}\n"
      ],
      "text/markdown": [
       "1. 'numeric'\n",
       "2. 'vector'\n",
       "\n",
       "\n"
      ],
      "text/plain": [
       "[1] \"numeric\" \"vector\" "
      ]
     },
     "metadata": {},
     "output_type": "display_data"
    }
   ],
   "source": [
    "avg<- apply(nonzero_wMeta[,9:ncol(nonzero_wMeta)], 2, function(x) tapply(x, nonzero_wMeta$Treatmentgroup, function(x) mean(x))) \n",
    "\n",
    "dim(avg)\n",
    "\n",
    "avg[,1:3]\n",
    "\n",
    "fch <- apply(avg, 2, function(x) x[1]/x[2])\n",
    "\n",
    "head(fch)\n",
    "is(fch)"
   ]
  },
  {
   "cell_type": "code",
   "execution_count": 9,
   "metadata": {
    "scrolled": true
   },
   "outputs": [
    {
     "data": {
      "text/html": [
       "<dl class=dl-horizontal>\n",
       "\t<dt>mass_400</dt>\n",
       "\t\t<dd>0.513879740595546</dd>\n",
       "\t<dt>mass_500</dt>\n",
       "\t\t<dd>0.561749999418327</dd>\n",
       "\t<dt>mass_600</dt>\n",
       "\t\t<dd>0.243782017842721</dd>\n",
       "\t<dt>mass_700</dt>\n",
       "\t\t<dd>1.37349632632627</dd>\n",
       "\t<dt>mass_800</dt>\n",
       "\t\t<dd>0.302175238424564</dd>\n",
       "</dl>\n"
      ],
      "text/latex": [
       "\\begin{description*}\n",
       "\\item[mass\\textbackslash{}\\_400] 0.513879740595546\n",
       "\\item[mass\\textbackslash{}\\_500] 0.561749999418327\n",
       "\\item[mass\\textbackslash{}\\_600] 0.243782017842721\n",
       "\\item[mass\\textbackslash{}\\_700] 1.37349632632627\n",
       "\\item[mass\\textbackslash{}\\_800] 0.302175238424564\n",
       "\\end{description*}\n"
      ],
      "text/markdown": [
       "mass_400\n",
       ":   0.513879740595546mass_500\n",
       ":   0.561749999418327mass_600\n",
       ":   0.243782017842721mass_700\n",
       ":   1.37349632632627mass_800\n",
       ":   0.302175238424564\n",
       "\n"
      ],
      "text/plain": [
       " mass_400  mass_500  mass_600  mass_700  mass_800 \n",
       "0.5138797 0.5617500 0.2437820 1.3734963 0.3021752 "
      ]
     },
     "metadata": {},
     "output_type": "display_data"
    }
   ],
   "source": [
    "fch"
   ]
  },
  {
   "cell_type": "code",
   "execution_count": 10,
   "metadata": {
    "scrolled": false
   },
   "outputs": [],
   "source": [
    "df <- data.frame(fch,pval, pAdj)\n",
    "write.csv(df, \"PC-time-RVB-wilcox-1B-3B.csv\")"
   ]
  },
  {
   "cell_type": "code",
   "execution_count": null,
   "metadata": {},
   "outputs": [],
   "source": []
  },
  {
   "cell_type": "code",
   "execution_count": null,
   "metadata": {},
   "outputs": [],
   "source": []
  },
  {
   "cell_type": "code",
   "execution_count": null,
   "metadata": {},
   "outputs": [],
   "source": []
  },
  {
   "cell_type": "code",
   "execution_count": null,
   "metadata": {},
   "outputs": [],
   "source": []
  },
  {
   "cell_type": "code",
   "execution_count": null,
   "metadata": {},
   "outputs": [],
   "source": []
  },
  {
   "cell_type": "code",
   "execution_count": null,
   "metadata": {},
   "outputs": [],
   "source": []
  }
 ],
 "metadata": {
  "kernelspec": {
   "display_name": "R",
   "language": "R",
   "name": "ir"
  },
  "language_info": {
   "codemirror_mode": "r",
   "file_extension": ".r",
   "mimetype": "text/x-r-source",
   "name": "R",
   "pygments_lexer": "r",
   "version": "3.6.1"
  }
 },
 "nbformat": 4,
 "nbformat_minor": 2
}
