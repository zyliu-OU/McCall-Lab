{
 "cells": [
  {
   "cell_type": "code",
   "execution_count": 1,
   "metadata": {},
   "outputs": [],
   "source": [
    "a <- read.csv(\"03172021-PC-time-RVB-M-F.csv\")"
   ]
  },
  {
   "cell_type": "code",
   "execution_count": 2,
   "metadata": {},
   "outputs": [
    {
     "data": {
      "text/html": [
       "<table>\n",
       "<thead><tr><th scope=col>filename</th><th scope=col>MouseID</th><th scope=col>Treatmentgroup</th><th scope=col>status</th><th scope=col>DPI</th><th scope=col>organ</th><th scope=col>well_position</th><th scope=col>plate</th><th scope=col>mass_400</th><th scope=col>mass_500</th><th scope=col>mass_600</th><th scope=col>mass_700</th><th scope=col>mass_800</th></tr></thead>\n",
       "<tbody>\n",
       "\t<tr><td>X501_Group1A_50dpi_RV_bottom_251_B_A1_P141.mzXML</td><td>501                                             </td><td>Group1A                                         </td><td>naive                                           </td><td>50                                              </td><td>RV_bottom                                       </td><td>A1                                              </td><td>P141                                            </td><td>0.04342834                                      </td><td>0.05497415                                      </td><td>0.000742324                                     </td><td>0.000115581                                     </td><td>0.000597756                                     </td></tr>\n",
       "\t<tr><td>X502_Group1A_50dpi_RV_bottom_252_B_A2_P141.mzXML</td><td>502                                             </td><td>Group1A                                         </td><td>naive                                           </td><td>50                                              </td><td>RV_bottom                                       </td><td>A2                                              </td><td>P141                                            </td><td>0.05003989                                      </td><td>0.10118145                                      </td><td>0.002446450                                     </td><td>0.013312979                                     </td><td>0.022775175                                     </td></tr>\n",
       "\t<tr><td>X503_Group1A_50dpi_RV_bottom_253_B_A3_P141.mzXML</td><td>503                                             </td><td>Group1A                                         </td><td>naive                                           </td><td>50                                              </td><td>RV_bottom                                       </td><td>A3                                              </td><td>P141                                            </td><td>0.04139114                                      </td><td>0.05226797                                      </td><td>0.001007878                                     </td><td>0.031294605                                     </td><td>0.009746465                                     </td></tr>\n",
       "\t<tr><td>X504_Group1A_50dpi_RV_bottom_254_B_A4_P141.mzXML</td><td>504                                             </td><td>Group1A                                         </td><td>naive                                           </td><td>50                                              </td><td>RV_bottom                                       </td><td>A4                                              </td><td>P141                                            </td><td>0.03348274                                      </td><td>0.04018528                                      </td><td>0.001037871                                     </td><td>0.002241342                                     </td><td>0.002011229                                     </td></tr>\n",
       "\t<tr><td>X505_Group1A_50dpi_RV_bottom_255_B_A5_P141.mzXML</td><td>505                                             </td><td>Group1A                                         </td><td>naive                                           </td><td>50                                              </td><td>RV_bottom                                       </td><td>A5                                              </td><td>P141                                            </td><td>0.02243459                                      </td><td>0.02839092                                      </td><td>0.000746064                                     </td><td>0.003137893                                     </td><td>0.001178689                                     </td></tr>\n",
       "\t<tr><td>X521_Group1A_50dpi_RV_bottom_256_B_A6_P141.mzXML</td><td>521                                             </td><td>Group1A                                         </td><td>naive                                           </td><td>50                                              </td><td>RV_bottom                                       </td><td>A6                                              </td><td>P141                                            </td><td>0.02619174                                      </td><td>0.02800588                                      </td><td>0.000681100                                     </td><td>0.000826693                                     </td><td>0.000861809                                     </td></tr>\n",
       "</tbody>\n",
       "</table>\n"
      ],
      "text/latex": [
       "\\begin{tabular}{r|lllllllllllll}\n",
       " filename & MouseID & Treatmentgroup & status & DPI & organ & well\\_position & plate & mass\\_400 & mass\\_500 & mass\\_600 & mass\\_700 & mass\\_800\\\\\n",
       "\\hline\n",
       "\t X501\\_Group1A\\_50dpi\\_RV\\_bottom\\_251\\_B\\_A1\\_P141.mzXML & 501                                                              & Group1A                                                          & naive                                                            & 50                                                               & RV\\_bottom                                                      & A1                                                               & P141                                                             & 0.04342834                                                       & 0.05497415                                                       & 0.000742324                                                      & 0.000115581                                                      & 0.000597756                                                     \\\\\n",
       "\t X502\\_Group1A\\_50dpi\\_RV\\_bottom\\_252\\_B\\_A2\\_P141.mzXML & 502                                                              & Group1A                                                          & naive                                                            & 50                                                               & RV\\_bottom                                                      & A2                                                               & P141                                                             & 0.05003989                                                       & 0.10118145                                                       & 0.002446450                                                      & 0.013312979                                                      & 0.022775175                                                     \\\\\n",
       "\t X503\\_Group1A\\_50dpi\\_RV\\_bottom\\_253\\_B\\_A3\\_P141.mzXML & 503                                                              & Group1A                                                          & naive                                                            & 50                                                               & RV\\_bottom                                                      & A3                                                               & P141                                                             & 0.04139114                                                       & 0.05226797                                                       & 0.001007878                                                      & 0.031294605                                                      & 0.009746465                                                     \\\\\n",
       "\t X504\\_Group1A\\_50dpi\\_RV\\_bottom\\_254\\_B\\_A4\\_P141.mzXML & 504                                                              & Group1A                                                          & naive                                                            & 50                                                               & RV\\_bottom                                                      & A4                                                               & P141                                                             & 0.03348274                                                       & 0.04018528                                                       & 0.001037871                                                      & 0.002241342                                                      & 0.002011229                                                     \\\\\n",
       "\t X505\\_Group1A\\_50dpi\\_RV\\_bottom\\_255\\_B\\_A5\\_P141.mzXML & 505                                                              & Group1A                                                          & naive                                                            & 50                                                               & RV\\_bottom                                                      & A5                                                               & P141                                                             & 0.02243459                                                       & 0.02839092                                                       & 0.000746064                                                      & 0.003137893                                                      & 0.001178689                                                     \\\\\n",
       "\t X521\\_Group1A\\_50dpi\\_RV\\_bottom\\_256\\_B\\_A6\\_P141.mzXML & 521                                                              & Group1A                                                          & naive                                                            & 50                                                               & RV\\_bottom                                                      & A6                                                               & P141                                                             & 0.02619174                                                       & 0.02800588                                                       & 0.000681100                                                      & 0.000826693                                                      & 0.000861809                                                     \\\\\n",
       "\\end{tabular}\n"
      ],
      "text/markdown": [
       "\n",
       "| filename | MouseID | Treatmentgroup | status | DPI | organ | well_position | plate | mass_400 | mass_500 | mass_600 | mass_700 | mass_800 |\n",
       "|---|---|---|---|---|---|---|---|---|---|---|---|---|\n",
       "| X501_Group1A_50dpi_RV_bottom_251_B_A1_P141.mzXML | 501                                              | Group1A                                          | naive                                            | 50                                               | RV_bottom                                        | A1                                               | P141                                             | 0.04342834                                       | 0.05497415                                       | 0.000742324                                      | 0.000115581                                      | 0.000597756                                      |\n",
       "| X502_Group1A_50dpi_RV_bottom_252_B_A2_P141.mzXML | 502                                              | Group1A                                          | naive                                            | 50                                               | RV_bottom                                        | A2                                               | P141                                             | 0.05003989                                       | 0.10118145                                       | 0.002446450                                      | 0.013312979                                      | 0.022775175                                      |\n",
       "| X503_Group1A_50dpi_RV_bottom_253_B_A3_P141.mzXML | 503                                              | Group1A                                          | naive                                            | 50                                               | RV_bottom                                        | A3                                               | P141                                             | 0.04139114                                       | 0.05226797                                       | 0.001007878                                      | 0.031294605                                      | 0.009746465                                      |\n",
       "| X504_Group1A_50dpi_RV_bottom_254_B_A4_P141.mzXML | 504                                              | Group1A                                          | naive                                            | 50                                               | RV_bottom                                        | A4                                               | P141                                             | 0.03348274                                       | 0.04018528                                       | 0.001037871                                      | 0.002241342                                      | 0.002011229                                      |\n",
       "| X505_Group1A_50dpi_RV_bottom_255_B_A5_P141.mzXML | 505                                              | Group1A                                          | naive                                            | 50                                               | RV_bottom                                        | A5                                               | P141                                             | 0.02243459                                       | 0.02839092                                       | 0.000746064                                      | 0.003137893                                      | 0.001178689                                      |\n",
       "| X521_Group1A_50dpi_RV_bottom_256_B_A6_P141.mzXML | 521                                              | Group1A                                          | naive                                            | 50                                               | RV_bottom                                        | A6                                               | P141                                             | 0.02619174                                       | 0.02800588                                       | 0.000681100                                      | 0.000826693                                      | 0.000861809                                      |\n",
       "\n"
      ],
      "text/plain": [
       "  filename                                         MouseID Treatmentgroup\n",
       "1 X501_Group1A_50dpi_RV_bottom_251_B_A1_P141.mzXML 501     Group1A       \n",
       "2 X502_Group1A_50dpi_RV_bottom_252_B_A2_P141.mzXML 502     Group1A       \n",
       "3 X503_Group1A_50dpi_RV_bottom_253_B_A3_P141.mzXML 503     Group1A       \n",
       "4 X504_Group1A_50dpi_RV_bottom_254_B_A4_P141.mzXML 504     Group1A       \n",
       "5 X505_Group1A_50dpi_RV_bottom_255_B_A5_P141.mzXML 505     Group1A       \n",
       "6 X521_Group1A_50dpi_RV_bottom_256_B_A6_P141.mzXML 521     Group1A       \n",
       "  status DPI organ     well_position plate mass_400   mass_500   mass_600   \n",
       "1 naive  50  RV_bottom A1            P141  0.04342834 0.05497415 0.000742324\n",
       "2 naive  50  RV_bottom A2            P141  0.05003989 0.10118145 0.002446450\n",
       "3 naive  50  RV_bottom A3            P141  0.04139114 0.05226797 0.001007878\n",
       "4 naive  50  RV_bottom A4            P141  0.03348274 0.04018528 0.001037871\n",
       "5 naive  50  RV_bottom A5            P141  0.02243459 0.02839092 0.000746064\n",
       "6 naive  50  RV_bottom A6            P141  0.02619174 0.02800588 0.000681100\n",
       "  mass_700    mass_800   \n",
       "1 0.000115581 0.000597756\n",
       "2 0.013312979 0.022775175\n",
       "3 0.031294605 0.009746465\n",
       "4 0.002241342 0.002011229\n",
       "5 0.003137893 0.001178689\n",
       "6 0.000826693 0.000861809"
      ]
     },
     "metadata": {},
     "output_type": "display_data"
    },
    {
     "data": {
      "text/html": [
       "<ol class=list-inline>\n",
       "\t<li>90</li>\n",
       "\t<li>13</li>\n",
       "</ol>\n"
      ],
      "text/latex": [
       "\\begin{enumerate*}\n",
       "\\item 90\n",
       "\\item 13\n",
       "\\end{enumerate*}\n"
      ],
      "text/markdown": [
       "1. 90\n",
       "2. 13\n",
       "\n",
       "\n"
      ],
      "text/plain": [
       "[1] 90 13"
      ]
     },
     "metadata": {},
     "output_type": "display_data"
    }
   ],
   "source": [
    "head(a)\n",
    "dim(a)"
   ]
  },
  {
   "cell_type": "code",
   "execution_count": 3,
   "metadata": {},
   "outputs": [
    {
     "data": {
      "text/html": [
       "<table>\n",
       "<thead><tr><th scope=col>filename</th><th scope=col>MouseID</th><th scope=col>Treatmentgroup</th><th scope=col>status</th><th scope=col>DPI</th><th scope=col>organ</th><th scope=col>well_position</th><th scope=col>plate</th><th scope=col>mass_400</th><th scope=col>mass_500</th><th scope=col>mass_600</th><th scope=col>mass_700</th><th scope=col>mass_800</th></tr></thead>\n",
       "<tbody>\n",
       "\t<tr><td>X501_Group1A_50dpi_RV_bottom_251_B_A1_P141.mzXML</td><td>501                                             </td><td>Group1A                                         </td><td>naive                                           </td><td>50                                              </td><td>RV_bottom                                       </td><td>A1                                              </td><td>P141                                            </td><td>0.04342834                                      </td><td>0.05497415                                      </td><td>0.000742324                                     </td><td>0.000115581                                     </td><td>0.000597756                                     </td></tr>\n",
       "\t<tr><td>X502_Group1A_50dpi_RV_bottom_252_B_A2_P141.mzXML</td><td>502                                             </td><td>Group1A                                         </td><td>naive                                           </td><td>50                                              </td><td>RV_bottom                                       </td><td>A2                                              </td><td>P141                                            </td><td>0.05003989                                      </td><td>0.10118145                                      </td><td>0.002446450                                     </td><td>0.013312979                                     </td><td>0.022775175                                     </td></tr>\n",
       "\t<tr><td>X503_Group1A_50dpi_RV_bottom_253_B_A3_P141.mzXML</td><td>503                                             </td><td>Group1A                                         </td><td>naive                                           </td><td>50                                              </td><td>RV_bottom                                       </td><td>A3                                              </td><td>P141                                            </td><td>0.04139114                                      </td><td>0.05226797                                      </td><td>0.001007878                                     </td><td>0.031294605                                     </td><td>0.009746465                                     </td></tr>\n",
       "\t<tr><td>X504_Group1A_50dpi_RV_bottom_254_B_A4_P141.mzXML</td><td>504                                             </td><td>Group1A                                         </td><td>naive                                           </td><td>50                                              </td><td>RV_bottom                                       </td><td>A4                                              </td><td>P141                                            </td><td>0.03348274                                      </td><td>0.04018528                                      </td><td>0.001037871                                     </td><td>0.002241342                                     </td><td>0.002011229                                     </td></tr>\n",
       "\t<tr><td>X505_Group1A_50dpi_RV_bottom_255_B_A5_P141.mzXML</td><td>505                                             </td><td>Group1A                                         </td><td>naive                                           </td><td>50                                              </td><td>RV_bottom                                       </td><td>A5                                              </td><td>P141                                            </td><td>0.02243459                                      </td><td>0.02839092                                      </td><td>0.000746064                                     </td><td>0.003137893                                     </td><td>0.001178689                                     </td></tr>\n",
       "\t<tr><td>X521_Group1A_50dpi_RV_bottom_256_B_A6_P141.mzXML</td><td>521                                             </td><td>Group1A                                         </td><td>naive                                           </td><td>50                                              </td><td>RV_bottom                                       </td><td>A6                                              </td><td>P141                                            </td><td>0.02619174                                      </td><td>0.02800588                                      </td><td>0.000681100                                     </td><td>0.000826693                                     </td><td>0.000861809                                     </td></tr>\n",
       "</tbody>\n",
       "</table>\n"
      ],
      "text/latex": [
       "\\begin{tabular}{r|lllllllllllll}\n",
       " filename & MouseID & Treatmentgroup & status & DPI & organ & well\\_position & plate & mass\\_400 & mass\\_500 & mass\\_600 & mass\\_700 & mass\\_800\\\\\n",
       "\\hline\n",
       "\t X501\\_Group1A\\_50dpi\\_RV\\_bottom\\_251\\_B\\_A1\\_P141.mzXML & 501                                                              & Group1A                                                          & naive                                                            & 50                                                               & RV\\_bottom                                                      & A1                                                               & P141                                                             & 0.04342834                                                       & 0.05497415                                                       & 0.000742324                                                      & 0.000115581                                                      & 0.000597756                                                     \\\\\n",
       "\t X502\\_Group1A\\_50dpi\\_RV\\_bottom\\_252\\_B\\_A2\\_P141.mzXML & 502                                                              & Group1A                                                          & naive                                                            & 50                                                               & RV\\_bottom                                                      & A2                                                               & P141                                                             & 0.05003989                                                       & 0.10118145                                                       & 0.002446450                                                      & 0.013312979                                                      & 0.022775175                                                     \\\\\n",
       "\t X503\\_Group1A\\_50dpi\\_RV\\_bottom\\_253\\_B\\_A3\\_P141.mzXML & 503                                                              & Group1A                                                          & naive                                                            & 50                                                               & RV\\_bottom                                                      & A3                                                               & P141                                                             & 0.04139114                                                       & 0.05226797                                                       & 0.001007878                                                      & 0.031294605                                                      & 0.009746465                                                     \\\\\n",
       "\t X504\\_Group1A\\_50dpi\\_RV\\_bottom\\_254\\_B\\_A4\\_P141.mzXML & 504                                                              & Group1A                                                          & naive                                                            & 50                                                               & RV\\_bottom                                                      & A4                                                               & P141                                                             & 0.03348274                                                       & 0.04018528                                                       & 0.001037871                                                      & 0.002241342                                                      & 0.002011229                                                     \\\\\n",
       "\t X505\\_Group1A\\_50dpi\\_RV\\_bottom\\_255\\_B\\_A5\\_P141.mzXML & 505                                                              & Group1A                                                          & naive                                                            & 50                                                               & RV\\_bottom                                                      & A5                                                               & P141                                                             & 0.02243459                                                       & 0.02839092                                                       & 0.000746064                                                      & 0.003137893                                                      & 0.001178689                                                     \\\\\n",
       "\t X521\\_Group1A\\_50dpi\\_RV\\_bottom\\_256\\_B\\_A6\\_P141.mzXML & 521                                                              & Group1A                                                          & naive                                                            & 50                                                               & RV\\_bottom                                                      & A6                                                               & P141                                                             & 0.02619174                                                       & 0.02800588                                                       & 0.000681100                                                      & 0.000826693                                                      & 0.000861809                                                     \\\\\n",
       "\\end{tabular}\n"
      ],
      "text/markdown": [
       "\n",
       "| filename | MouseID | Treatmentgroup | status | DPI | organ | well_position | plate | mass_400 | mass_500 | mass_600 | mass_700 | mass_800 |\n",
       "|---|---|---|---|---|---|---|---|---|---|---|---|---|\n",
       "| X501_Group1A_50dpi_RV_bottom_251_B_A1_P141.mzXML | 501                                              | Group1A                                          | naive                                            | 50                                               | RV_bottom                                        | A1                                               | P141                                             | 0.04342834                                       | 0.05497415                                       | 0.000742324                                      | 0.000115581                                      | 0.000597756                                      |\n",
       "| X502_Group1A_50dpi_RV_bottom_252_B_A2_P141.mzXML | 502                                              | Group1A                                          | naive                                            | 50                                               | RV_bottom                                        | A2                                               | P141                                             | 0.05003989                                       | 0.10118145                                       | 0.002446450                                      | 0.013312979                                      | 0.022775175                                      |\n",
       "| X503_Group1A_50dpi_RV_bottom_253_B_A3_P141.mzXML | 503                                              | Group1A                                          | naive                                            | 50                                               | RV_bottom                                        | A3                                               | P141                                             | 0.04139114                                       | 0.05226797                                       | 0.001007878                                      | 0.031294605                                      | 0.009746465                                      |\n",
       "| X504_Group1A_50dpi_RV_bottom_254_B_A4_P141.mzXML | 504                                              | Group1A                                          | naive                                            | 50                                               | RV_bottom                                        | A4                                               | P141                                             | 0.03348274                                       | 0.04018528                                       | 0.001037871                                      | 0.002241342                                      | 0.002011229                                      |\n",
       "| X505_Group1A_50dpi_RV_bottom_255_B_A5_P141.mzXML | 505                                              | Group1A                                          | naive                                            | 50                                               | RV_bottom                                        | A5                                               | P141                                             | 0.02243459                                       | 0.02839092                                       | 0.000746064                                      | 0.003137893                                      | 0.001178689                                      |\n",
       "| X521_Group1A_50dpi_RV_bottom_256_B_A6_P141.mzXML | 521                                              | Group1A                                          | naive                                            | 50                                               | RV_bottom                                        | A6                                               | P141                                             | 0.02619174                                       | 0.02800588                                       | 0.000681100                                      | 0.000826693                                      | 0.000861809                                      |\n",
       "\n"
      ],
      "text/plain": [
       "  filename                                         MouseID Treatmentgroup\n",
       "1 X501_Group1A_50dpi_RV_bottom_251_B_A1_P141.mzXML 501     Group1A       \n",
       "2 X502_Group1A_50dpi_RV_bottom_252_B_A2_P141.mzXML 502     Group1A       \n",
       "3 X503_Group1A_50dpi_RV_bottom_253_B_A3_P141.mzXML 503     Group1A       \n",
       "4 X504_Group1A_50dpi_RV_bottom_254_B_A4_P141.mzXML 504     Group1A       \n",
       "5 X505_Group1A_50dpi_RV_bottom_255_B_A5_P141.mzXML 505     Group1A       \n",
       "6 X521_Group1A_50dpi_RV_bottom_256_B_A6_P141.mzXML 521     Group1A       \n",
       "  status DPI organ     well_position plate mass_400   mass_500   mass_600   \n",
       "1 naive  50  RV_bottom A1            P141  0.04342834 0.05497415 0.000742324\n",
       "2 naive  50  RV_bottom A2            P141  0.05003989 0.10118145 0.002446450\n",
       "3 naive  50  RV_bottom A3            P141  0.04139114 0.05226797 0.001007878\n",
       "4 naive  50  RV_bottom A4            P141  0.03348274 0.04018528 0.001037871\n",
       "5 naive  50  RV_bottom A5            P141  0.02243459 0.02839092 0.000746064\n",
       "6 naive  50  RV_bottom A6            P141  0.02619174 0.02800588 0.000681100\n",
       "  mass_700    mass_800   \n",
       "1 0.000115581 0.000597756\n",
       "2 0.013312979 0.022775175\n",
       "3 0.031294605 0.009746465\n",
       "4 0.002241342 0.002011229\n",
       "5 0.003137893 0.001178689\n",
       "6 0.000826693 0.000861809"
      ]
     },
     "metadata": {},
     "output_type": "display_data"
    },
    {
     "data": {
      "text/html": [
       "<ol class=list-inline>\n",
       "\t<li>30</li>\n",
       "\t<li>13</li>\n",
       "</ol>\n"
      ],
      "text/latex": [
       "\\begin{enumerate*}\n",
       "\\item 30\n",
       "\\item 13\n",
       "\\end{enumerate*}\n"
      ],
      "text/markdown": [
       "1. 30\n",
       "2. 13\n",
       "\n",
       "\n"
      ],
      "text/plain": [
       "[1] 30 13"
      ]
     },
     "metadata": {},
     "output_type": "display_data"
    }
   ],
   "source": [
    "features_pos<-droplevels(subset(a, a$Treatmentgroup==c(\"Group1A\")|a$Treatmentgroup==c(\"Group3A\")))\n",
    "head(features_pos)\n",
    "dim(features_pos)"
   ]
  },
  {
   "cell_type": "code",
   "execution_count": 4,
   "metadata": {
    "scrolled": false
   },
   "outputs": [
    {
     "data": {
      "text/html": [
       "<table>\n",
       "<thead><tr><th scope=col>mass_400</th><th scope=col>mass_500</th><th scope=col>mass_600</th><th scope=col>mass_700</th><th scope=col>mass_800</th></tr></thead>\n",
       "<tbody>\n",
       "\t<tr><td>0.04342834 </td><td>0.05497415 </td><td>0.000742324</td><td>0.000115581</td><td>0.000597756</td></tr>\n",
       "\t<tr><td>0.05003989 </td><td>0.10118145 </td><td>0.002446450</td><td>0.013312979</td><td>0.022775175</td></tr>\n",
       "\t<tr><td>0.04139114 </td><td>0.05226797 </td><td>0.001007878</td><td>0.031294605</td><td>0.009746465</td></tr>\n",
       "\t<tr><td>0.03348274 </td><td>0.04018528 </td><td>0.001037871</td><td>0.002241342</td><td>0.002011229</td></tr>\n",
       "\t<tr><td>0.02243459 </td><td>0.02839092 </td><td>0.000746064</td><td>0.003137893</td><td>0.001178689</td></tr>\n",
       "\t<tr><td>0.02619174 </td><td>0.02800588 </td><td>0.000681100</td><td>0.000826693</td><td>0.000861809</td></tr>\n",
       "</tbody>\n",
       "</table>\n"
      ],
      "text/latex": [
       "\\begin{tabular}{r|lllll}\n",
       " mass\\_400 & mass\\_500 & mass\\_600 & mass\\_700 & mass\\_800\\\\\n",
       "\\hline\n",
       "\t 0.04342834  & 0.05497415  & 0.000742324 & 0.000115581 & 0.000597756\\\\\n",
       "\t 0.05003989  & 0.10118145  & 0.002446450 & 0.013312979 & 0.022775175\\\\\n",
       "\t 0.04139114  & 0.05226797  & 0.001007878 & 0.031294605 & 0.009746465\\\\\n",
       "\t 0.03348274  & 0.04018528  & 0.001037871 & 0.002241342 & 0.002011229\\\\\n",
       "\t 0.02243459  & 0.02839092  & 0.000746064 & 0.003137893 & 0.001178689\\\\\n",
       "\t 0.02619174  & 0.02800588  & 0.000681100 & 0.000826693 & 0.000861809\\\\\n",
       "\\end{tabular}\n"
      ],
      "text/markdown": [
       "\n",
       "| mass_400 | mass_500 | mass_600 | mass_700 | mass_800 |\n",
       "|---|---|---|---|---|\n",
       "| 0.04342834  | 0.05497415  | 0.000742324 | 0.000115581 | 0.000597756 |\n",
       "| 0.05003989  | 0.10118145  | 0.002446450 | 0.013312979 | 0.022775175 |\n",
       "| 0.04139114  | 0.05226797  | 0.001007878 | 0.031294605 | 0.009746465 |\n",
       "| 0.03348274  | 0.04018528  | 0.001037871 | 0.002241342 | 0.002011229 |\n",
       "| 0.02243459  | 0.02839092  | 0.000746064 | 0.003137893 | 0.001178689 |\n",
       "| 0.02619174  | 0.02800588  | 0.000681100 | 0.000826693 | 0.000861809 |\n",
       "\n"
      ],
      "text/plain": [
       "  mass_400   mass_500   mass_600    mass_700    mass_800   \n",
       "1 0.04342834 0.05497415 0.000742324 0.000115581 0.000597756\n",
       "2 0.05003989 0.10118145 0.002446450 0.013312979 0.022775175\n",
       "3 0.04139114 0.05226797 0.001007878 0.031294605 0.009746465\n",
       "4 0.03348274 0.04018528 0.001037871 0.002241342 0.002011229\n",
       "5 0.02243459 0.02839092 0.000746064 0.003137893 0.001178689\n",
       "6 0.02619174 0.02800588 0.000681100 0.000826693 0.000861809"
      ]
     },
     "metadata": {},
     "output_type": "display_data"
    },
    {
     "data": {
      "text/html": [
       "<dl class=dl-horizontal>\n",
       "\t<dt>mass_400</dt>\n",
       "\t\t<dd>1</dd>\n",
       "\t<dt>mass_500</dt>\n",
       "\t\t<dd>2</dd>\n",
       "\t<dt>mass_600</dt>\n",
       "\t\t<dd>3</dd>\n",
       "\t<dt>mass_700</dt>\n",
       "\t\t<dd>4</dd>\n",
       "\t<dt>mass_800</dt>\n",
       "\t\t<dd>5</dd>\n",
       "</dl>\n"
      ],
      "text/latex": [
       "\\begin{description*}\n",
       "\\item[mass\\textbackslash{}\\_400] 1\n",
       "\\item[mass\\textbackslash{}\\_500] 2\n",
       "\\item[mass\\textbackslash{}\\_600] 3\n",
       "\\item[mass\\textbackslash{}\\_700] 4\n",
       "\\item[mass\\textbackslash{}\\_800] 5\n",
       "\\end{description*}\n"
      ],
      "text/markdown": [
       "mass_400\n",
       ":   1mass_500\n",
       ":   2mass_600\n",
       ":   3mass_700\n",
       ":   4mass_800\n",
       ":   5\n",
       "\n"
      ],
      "text/plain": [
       "mass_400 mass_500 mass_600 mass_700 mass_800 \n",
       "       1        2        3        4        5 "
      ]
     },
     "metadata": {},
     "output_type": "display_data"
    },
    {
     "data": {
      "text/html": [
       "<table>\n",
       "<thead><tr><th></th><th scope=col>mass_400</th><th scope=col>mass_500</th><th scope=col>mass_600</th><th scope=col>mass_700</th><th scope=col>mass_800</th></tr></thead>\n",
       "<tbody>\n",
       "\t<tr><th scope=row>1</th><td>0.04342834 </td><td>0.05497415 </td><td>0.000742324</td><td>0.000115581</td><td>0.000597756</td></tr>\n",
       "\t<tr><th scope=row>2</th><td>0.05003989 </td><td>0.10118145 </td><td>0.002446450</td><td>0.013312979</td><td>0.022775175</td></tr>\n",
       "\t<tr><th scope=row>3</th><td>0.04139114 </td><td>0.05226797 </td><td>0.001007878</td><td>0.031294605</td><td>0.009746465</td></tr>\n",
       "\t<tr><th scope=row>4</th><td>0.03348274 </td><td>0.04018528 </td><td>0.001037871</td><td>0.002241342</td><td>0.002011229</td></tr>\n",
       "\t<tr><th scope=row>5</th><td>0.02243459 </td><td>0.02839092 </td><td>0.000746064</td><td>0.003137893</td><td>0.001178689</td></tr>\n",
       "\t<tr><th scope=row>6</th><td>0.02619174 </td><td>0.02800588 </td><td>0.000681100</td><td>0.000826693</td><td>0.000861809</td></tr>\n",
       "\t<tr><th scope=row>7</th><td>0.02199058 </td><td>0.02619534 </td><td>0.000240400</td><td>0.000000000</td><td>0.000000000</td></tr>\n",
       "\t<tr><th scope=row>8</th><td>0.05806146 </td><td>0.05398441 </td><td>0.000737746</td><td>0.000000000</td><td>0.000000000</td></tr>\n",
       "\t<tr><th scope=row>9</th><td>0.02453494 </td><td>0.03410704 </td><td>0.000675702</td><td>0.001672321</td><td>0.000681710</td></tr>\n",
       "\t<tr><th scope=row>10</th><td>0.02386281 </td><td>0.02626461 </td><td>0.000591586</td><td>0.000178518</td><td>0.000000000</td></tr>\n",
       "\t<tr><th scope=row>11</th><td>0.03023569 </td><td>0.03130158 </td><td>0.000219632</td><td>0.000000000</td><td>0.000000000</td></tr>\n",
       "\t<tr><th scope=row>12</th><td>0.03926667 </td><td>0.05026640 </td><td>0.000669619</td><td>0.000000000</td><td>0.000000000</td></tr>\n",
       "\t<tr><th scope=row>13</th><td>0.03868423 </td><td>0.04740572 </td><td>0.000810300</td><td>0.001518462</td><td>0.000402203</td></tr>\n",
       "\t<tr><th scope=row>14</th><td>0.04751536 </td><td>0.07517587 </td><td>0.001121079</td><td>0.002617820</td><td>0.001794850</td></tr>\n",
       "\t<tr><th scope=row>15</th><td>0.04342600 </td><td>0.06489343 </td><td>0.001753933</td><td>0.002019543</td><td>0.001176931</td></tr>\n",
       "\t<tr><th scope=row>46</th><td>0.05661041 </td><td>0.06568745 </td><td>0.001979366</td><td>0.006309488</td><td>0.003715427</td></tr>\n",
       "\t<tr><th scope=row>47</th><td>0.03369101 </td><td>0.03646364 </td><td>0.000584443</td><td>0.000731721</td><td>0.000084200</td></tr>\n",
       "\t<tr><th scope=row>48</th><td>0.03131161 </td><td>0.02830972 </td><td>0.000477387</td><td>0.000608914</td><td>0.000565478</td></tr>\n",
       "\t<tr><th scope=row>49</th><td>0.02963551 </td><td>0.02792756 </td><td>0.000372458</td><td>0.000064000</td><td>0.000000000</td></tr>\n",
       "\t<tr><th scope=row>50</th><td>0.03577413 </td><td>0.05282550 </td><td>0.001162464</td><td>0.001166530</td><td>0.000739950</td></tr>\n",
       "\t<tr><th scope=row>51</th><td>0.05966158 </td><td>0.06975307 </td><td>0.001310910</td><td>0.003603349</td><td>0.001535665</td></tr>\n",
       "\t<tr><th scope=row>52</th><td>0.09498598 </td><td>0.09298150 </td><td>0.002271606</td><td>0.008495730</td><td>0.009111084</td></tr>\n",
       "\t<tr><th scope=row>53</th><td>0.03451604 </td><td>0.04969192 </td><td>0.000643641</td><td>0.002104952</td><td>0.002064796</td></tr>\n",
       "\t<tr><th scope=row>54</th><td>0.05931145 </td><td>0.07085896 </td><td>0.000879404</td><td>0.002406489</td><td>0.002747209</td></tr>\n",
       "\t<tr><th scope=row>55</th><td>0.08374311 </td><td>0.08400000 </td><td>0.004529391</td><td>0.014716201</td><td>0.013492254</td></tr>\n",
       "\t<tr><th scope=row>56</th><td>0.07570724 </td><td>0.08156157 </td><td>0.002223984</td><td>0.003348569</td><td>0.001366496</td></tr>\n",
       "\t<tr><th scope=row>57</th><td>0.02243235 </td><td>0.02089468 </td><td>0.000196666</td><td>0.000000000</td><td>0.000000000</td></tr>\n",
       "\t<tr><th scope=row>58</th><td>0.02044835 </td><td>0.02115474 </td><td>0.000162278</td><td>0.000000000</td><td>0.000000000</td></tr>\n",
       "\t<tr><th scope=row>59</th><td>0.02644878 </td><td>0.02524288 </td><td>0.000851141</td><td>0.000186477</td><td>0.000000000</td></tr>\n",
       "\t<tr><th scope=row>60</th><td>0.04055594 </td><td>0.05272001 </td><td>0.001436846</td><td>0.000244851</td><td>0.000480924</td></tr>\n",
       "</tbody>\n",
       "</table>\n"
      ],
      "text/latex": [
       "\\begin{tabular}{r|lllll}\n",
       "  & mass\\_400 & mass\\_500 & mass\\_600 & mass\\_700 & mass\\_800\\\\\n",
       "\\hline\n",
       "\t1 & 0.04342834  & 0.05497415  & 0.000742324 & 0.000115581 & 0.000597756\\\\\n",
       "\t2 & 0.05003989  & 0.10118145  & 0.002446450 & 0.013312979 & 0.022775175\\\\\n",
       "\t3 & 0.04139114  & 0.05226797  & 0.001007878 & 0.031294605 & 0.009746465\\\\\n",
       "\t4 & 0.03348274  & 0.04018528  & 0.001037871 & 0.002241342 & 0.002011229\\\\\n",
       "\t5 & 0.02243459  & 0.02839092  & 0.000746064 & 0.003137893 & 0.001178689\\\\\n",
       "\t6 & 0.02619174  & 0.02800588  & 0.000681100 & 0.000826693 & 0.000861809\\\\\n",
       "\t7 & 0.02199058  & 0.02619534  & 0.000240400 & 0.000000000 & 0.000000000\\\\\n",
       "\t8 & 0.05806146  & 0.05398441  & 0.000737746 & 0.000000000 & 0.000000000\\\\\n",
       "\t9 & 0.02453494  & 0.03410704  & 0.000675702 & 0.001672321 & 0.000681710\\\\\n",
       "\t10 & 0.02386281  & 0.02626461  & 0.000591586 & 0.000178518 & 0.000000000\\\\\n",
       "\t11 & 0.03023569  & 0.03130158  & 0.000219632 & 0.000000000 & 0.000000000\\\\\n",
       "\t12 & 0.03926667  & 0.05026640  & 0.000669619 & 0.000000000 & 0.000000000\\\\\n",
       "\t13 & 0.03868423  & 0.04740572  & 0.000810300 & 0.001518462 & 0.000402203\\\\\n",
       "\t14 & 0.04751536  & 0.07517587  & 0.001121079 & 0.002617820 & 0.001794850\\\\\n",
       "\t15 & 0.04342600  & 0.06489343  & 0.001753933 & 0.002019543 & 0.001176931\\\\\n",
       "\t46 & 0.05661041  & 0.06568745  & 0.001979366 & 0.006309488 & 0.003715427\\\\\n",
       "\t47 & 0.03369101  & 0.03646364  & 0.000584443 & 0.000731721 & 0.000084200\\\\\n",
       "\t48 & 0.03131161  & 0.02830972  & 0.000477387 & 0.000608914 & 0.000565478\\\\\n",
       "\t49 & 0.02963551  & 0.02792756  & 0.000372458 & 0.000064000 & 0.000000000\\\\\n",
       "\t50 & 0.03577413  & 0.05282550  & 0.001162464 & 0.001166530 & 0.000739950\\\\\n",
       "\t51 & 0.05966158  & 0.06975307  & 0.001310910 & 0.003603349 & 0.001535665\\\\\n",
       "\t52 & 0.09498598  & 0.09298150  & 0.002271606 & 0.008495730 & 0.009111084\\\\\n",
       "\t53 & 0.03451604  & 0.04969192  & 0.000643641 & 0.002104952 & 0.002064796\\\\\n",
       "\t54 & 0.05931145  & 0.07085896  & 0.000879404 & 0.002406489 & 0.002747209\\\\\n",
       "\t55 & 0.08374311  & 0.08400000  & 0.004529391 & 0.014716201 & 0.013492254\\\\\n",
       "\t56 & 0.07570724  & 0.08156157  & 0.002223984 & 0.003348569 & 0.001366496\\\\\n",
       "\t57 & 0.02243235  & 0.02089468  & 0.000196666 & 0.000000000 & 0.000000000\\\\\n",
       "\t58 & 0.02044835  & 0.02115474  & 0.000162278 & 0.000000000 & 0.000000000\\\\\n",
       "\t59 & 0.02644878  & 0.02524288  & 0.000851141 & 0.000186477 & 0.000000000\\\\\n",
       "\t60 & 0.04055594  & 0.05272001  & 0.001436846 & 0.000244851 & 0.000480924\\\\\n",
       "\\end{tabular}\n"
      ],
      "text/markdown": [
       "\n",
       "| <!--/--> | mass_400 | mass_500 | mass_600 | mass_700 | mass_800 |\n",
       "|---|---|---|---|---|---|\n",
       "| 1 | 0.04342834  | 0.05497415  | 0.000742324 | 0.000115581 | 0.000597756 |\n",
       "| 2 | 0.05003989  | 0.10118145  | 0.002446450 | 0.013312979 | 0.022775175 |\n",
       "| 3 | 0.04139114  | 0.05226797  | 0.001007878 | 0.031294605 | 0.009746465 |\n",
       "| 4 | 0.03348274  | 0.04018528  | 0.001037871 | 0.002241342 | 0.002011229 |\n",
       "| 5 | 0.02243459  | 0.02839092  | 0.000746064 | 0.003137893 | 0.001178689 |\n",
       "| 6 | 0.02619174  | 0.02800588  | 0.000681100 | 0.000826693 | 0.000861809 |\n",
       "| 7 | 0.02199058  | 0.02619534  | 0.000240400 | 0.000000000 | 0.000000000 |\n",
       "| 8 | 0.05806146  | 0.05398441  | 0.000737746 | 0.000000000 | 0.000000000 |\n",
       "| 9 | 0.02453494  | 0.03410704  | 0.000675702 | 0.001672321 | 0.000681710 |\n",
       "| 10 | 0.02386281  | 0.02626461  | 0.000591586 | 0.000178518 | 0.000000000 |\n",
       "| 11 | 0.03023569  | 0.03130158  | 0.000219632 | 0.000000000 | 0.000000000 |\n",
       "| 12 | 0.03926667  | 0.05026640  | 0.000669619 | 0.000000000 | 0.000000000 |\n",
       "| 13 | 0.03868423  | 0.04740572  | 0.000810300 | 0.001518462 | 0.000402203 |\n",
       "| 14 | 0.04751536  | 0.07517587  | 0.001121079 | 0.002617820 | 0.001794850 |\n",
       "| 15 | 0.04342600  | 0.06489343  | 0.001753933 | 0.002019543 | 0.001176931 |\n",
       "| 46 | 0.05661041  | 0.06568745  | 0.001979366 | 0.006309488 | 0.003715427 |\n",
       "| 47 | 0.03369101  | 0.03646364  | 0.000584443 | 0.000731721 | 0.000084200 |\n",
       "| 48 | 0.03131161  | 0.02830972  | 0.000477387 | 0.000608914 | 0.000565478 |\n",
       "| 49 | 0.02963551  | 0.02792756  | 0.000372458 | 0.000064000 | 0.000000000 |\n",
       "| 50 | 0.03577413  | 0.05282550  | 0.001162464 | 0.001166530 | 0.000739950 |\n",
       "| 51 | 0.05966158  | 0.06975307  | 0.001310910 | 0.003603349 | 0.001535665 |\n",
       "| 52 | 0.09498598  | 0.09298150  | 0.002271606 | 0.008495730 | 0.009111084 |\n",
       "| 53 | 0.03451604  | 0.04969192  | 0.000643641 | 0.002104952 | 0.002064796 |\n",
       "| 54 | 0.05931145  | 0.07085896  | 0.000879404 | 0.002406489 | 0.002747209 |\n",
       "| 55 | 0.08374311  | 0.08400000  | 0.004529391 | 0.014716201 | 0.013492254 |\n",
       "| 56 | 0.07570724  | 0.08156157  | 0.002223984 | 0.003348569 | 0.001366496 |\n",
       "| 57 | 0.02243235  | 0.02089468  | 0.000196666 | 0.000000000 | 0.000000000 |\n",
       "| 58 | 0.02044835  | 0.02115474  | 0.000162278 | 0.000000000 | 0.000000000 |\n",
       "| 59 | 0.02644878  | 0.02524288  | 0.000851141 | 0.000186477 | 0.000000000 |\n",
       "| 60 | 0.04055594  | 0.05272001  | 0.001436846 | 0.000244851 | 0.000480924 |\n",
       "\n"
      ],
      "text/plain": [
       "   mass_400   mass_500   mass_600    mass_700    mass_800   \n",
       "1  0.04342834 0.05497415 0.000742324 0.000115581 0.000597756\n",
       "2  0.05003989 0.10118145 0.002446450 0.013312979 0.022775175\n",
       "3  0.04139114 0.05226797 0.001007878 0.031294605 0.009746465\n",
       "4  0.03348274 0.04018528 0.001037871 0.002241342 0.002011229\n",
       "5  0.02243459 0.02839092 0.000746064 0.003137893 0.001178689\n",
       "6  0.02619174 0.02800588 0.000681100 0.000826693 0.000861809\n",
       "7  0.02199058 0.02619534 0.000240400 0.000000000 0.000000000\n",
       "8  0.05806146 0.05398441 0.000737746 0.000000000 0.000000000\n",
       "9  0.02453494 0.03410704 0.000675702 0.001672321 0.000681710\n",
       "10 0.02386281 0.02626461 0.000591586 0.000178518 0.000000000\n",
       "11 0.03023569 0.03130158 0.000219632 0.000000000 0.000000000\n",
       "12 0.03926667 0.05026640 0.000669619 0.000000000 0.000000000\n",
       "13 0.03868423 0.04740572 0.000810300 0.001518462 0.000402203\n",
       "14 0.04751536 0.07517587 0.001121079 0.002617820 0.001794850\n",
       "15 0.04342600 0.06489343 0.001753933 0.002019543 0.001176931\n",
       "46 0.05661041 0.06568745 0.001979366 0.006309488 0.003715427\n",
       "47 0.03369101 0.03646364 0.000584443 0.000731721 0.000084200\n",
       "48 0.03131161 0.02830972 0.000477387 0.000608914 0.000565478\n",
       "49 0.02963551 0.02792756 0.000372458 0.000064000 0.000000000\n",
       "50 0.03577413 0.05282550 0.001162464 0.001166530 0.000739950\n",
       "51 0.05966158 0.06975307 0.001310910 0.003603349 0.001535665\n",
       "52 0.09498598 0.09298150 0.002271606 0.008495730 0.009111084\n",
       "53 0.03451604 0.04969192 0.000643641 0.002104952 0.002064796\n",
       "54 0.05931145 0.07085896 0.000879404 0.002406489 0.002747209\n",
       "55 0.08374311 0.08400000 0.004529391 0.014716201 0.013492254\n",
       "56 0.07570724 0.08156157 0.002223984 0.003348569 0.001366496\n",
       "57 0.02243235 0.02089468 0.000196666 0.000000000 0.000000000\n",
       "58 0.02044835 0.02115474 0.000162278 0.000000000 0.000000000\n",
       "59 0.02644878 0.02524288 0.000851141 0.000186477 0.000000000\n",
       "60 0.04055594 0.05272001 0.001436846 0.000244851 0.000480924"
      ]
     },
     "metadata": {},
     "output_type": "display_data"
    },
    {
     "data": {
      "text/html": [
       "<table>\n",
       "<thead><tr><th scope=col>filename</th><th scope=col>MouseID</th><th scope=col>Treatmentgroup</th><th scope=col>status</th><th scope=col>DPI</th><th scope=col>organ</th><th scope=col>well_position</th><th scope=col>plate</th><th scope=col>mass_400</th><th scope=col>mass_500</th><th scope=col>mass_600</th><th scope=col>mass_700</th><th scope=col>mass_800</th></tr></thead>\n",
       "<tbody>\n",
       "\t<tr><td>X501_Group1A_50dpi_RV_bottom_251_B_A1_P141.mzXML</td><td>501                                             </td><td>Group1A                                         </td><td>naive                                           </td><td>50                                              </td><td>RV_bottom                                       </td><td>A1                                              </td><td>P141                                            </td><td>0.04342834                                      </td><td>0.05497415                                      </td><td>0.000742324                                     </td><td>0.000115581                                     </td><td>0.000597756                                     </td></tr>\n",
       "\t<tr><td>X502_Group1A_50dpi_RV_bottom_252_B_A2_P141.mzXML</td><td>502                                             </td><td>Group1A                                         </td><td>naive                                           </td><td>50                                              </td><td>RV_bottom                                       </td><td>A2                                              </td><td>P141                                            </td><td>0.05003989                                      </td><td>0.10118145                                      </td><td>0.002446450                                     </td><td>0.013312979                                     </td><td>0.022775175                                     </td></tr>\n",
       "\t<tr><td>X503_Group1A_50dpi_RV_bottom_253_B_A3_P141.mzXML</td><td>503                                             </td><td>Group1A                                         </td><td>naive                                           </td><td>50                                              </td><td>RV_bottom                                       </td><td>A3                                              </td><td>P141                                            </td><td>0.04139114                                      </td><td>0.05226797                                      </td><td>0.001007878                                     </td><td>0.031294605                                     </td><td>0.009746465                                     </td></tr>\n",
       "\t<tr><td>X504_Group1A_50dpi_RV_bottom_254_B_A4_P141.mzXML</td><td>504                                             </td><td>Group1A                                         </td><td>naive                                           </td><td>50                                              </td><td>RV_bottom                                       </td><td>A4                                              </td><td>P141                                            </td><td>0.03348274                                      </td><td>0.04018528                                      </td><td>0.001037871                                     </td><td>0.002241342                                     </td><td>0.002011229                                     </td></tr>\n",
       "\t<tr><td>X505_Group1A_50dpi_RV_bottom_255_B_A5_P141.mzXML</td><td>505                                             </td><td>Group1A                                         </td><td>naive                                           </td><td>50                                              </td><td>RV_bottom                                       </td><td>A5                                              </td><td>P141                                            </td><td>0.02243459                                      </td><td>0.02839092                                      </td><td>0.000746064                                     </td><td>0.003137893                                     </td><td>0.001178689                                     </td></tr>\n",
       "\t<tr><td>X521_Group1A_50dpi_RV_bottom_256_B_A6_P141.mzXML</td><td>521                                             </td><td>Group1A                                         </td><td>naive                                           </td><td>50                                              </td><td>RV_bottom                                       </td><td>A6                                              </td><td>P141                                            </td><td>0.02619174                                      </td><td>0.02800588                                      </td><td>0.000681100                                     </td><td>0.000826693                                     </td><td>0.000861809                                     </td></tr>\n",
       "</tbody>\n",
       "</table>\n"
      ],
      "text/latex": [
       "\\begin{tabular}{r|lllllllllllll}\n",
       " filename & MouseID & Treatmentgroup & status & DPI & organ & well\\_position & plate & mass\\_400 & mass\\_500 & mass\\_600 & mass\\_700 & mass\\_800\\\\\n",
       "\\hline\n",
       "\t X501\\_Group1A\\_50dpi\\_RV\\_bottom\\_251\\_B\\_A1\\_P141.mzXML & 501                                                              & Group1A                                                          & naive                                                            & 50                                                               & RV\\_bottom                                                      & A1                                                               & P141                                                             & 0.04342834                                                       & 0.05497415                                                       & 0.000742324                                                      & 0.000115581                                                      & 0.000597756                                                     \\\\\n",
       "\t X502\\_Group1A\\_50dpi\\_RV\\_bottom\\_252\\_B\\_A2\\_P141.mzXML & 502                                                              & Group1A                                                          & naive                                                            & 50                                                               & RV\\_bottom                                                      & A2                                                               & P141                                                             & 0.05003989                                                       & 0.10118145                                                       & 0.002446450                                                      & 0.013312979                                                      & 0.022775175                                                     \\\\\n",
       "\t X503\\_Group1A\\_50dpi\\_RV\\_bottom\\_253\\_B\\_A3\\_P141.mzXML & 503                                                              & Group1A                                                          & naive                                                            & 50                                                               & RV\\_bottom                                                      & A3                                                               & P141                                                             & 0.04139114                                                       & 0.05226797                                                       & 0.001007878                                                      & 0.031294605                                                      & 0.009746465                                                     \\\\\n",
       "\t X504\\_Group1A\\_50dpi\\_RV\\_bottom\\_254\\_B\\_A4\\_P141.mzXML & 504                                                              & Group1A                                                          & naive                                                            & 50                                                               & RV\\_bottom                                                      & A4                                                               & P141                                                             & 0.03348274                                                       & 0.04018528                                                       & 0.001037871                                                      & 0.002241342                                                      & 0.002011229                                                     \\\\\n",
       "\t X505\\_Group1A\\_50dpi\\_RV\\_bottom\\_255\\_B\\_A5\\_P141.mzXML & 505                                                              & Group1A                                                          & naive                                                            & 50                                                               & RV\\_bottom                                                      & A5                                                               & P141                                                             & 0.02243459                                                       & 0.02839092                                                       & 0.000746064                                                      & 0.003137893                                                      & 0.001178689                                                     \\\\\n",
       "\t X521\\_Group1A\\_50dpi\\_RV\\_bottom\\_256\\_B\\_A6\\_P141.mzXML & 521                                                              & Group1A                                                          & naive                                                            & 50                                                               & RV\\_bottom                                                      & A6                                                               & P141                                                             & 0.02619174                                                       & 0.02800588                                                       & 0.000681100                                                      & 0.000826693                                                      & 0.000861809                                                     \\\\\n",
       "\\end{tabular}\n"
      ],
      "text/markdown": [
       "\n",
       "| filename | MouseID | Treatmentgroup | status | DPI | organ | well_position | plate | mass_400 | mass_500 | mass_600 | mass_700 | mass_800 |\n",
       "|---|---|---|---|---|---|---|---|---|---|---|---|---|\n",
       "| X501_Group1A_50dpi_RV_bottom_251_B_A1_P141.mzXML | 501                                              | Group1A                                          | naive                                            | 50                                               | RV_bottom                                        | A1                                               | P141                                             | 0.04342834                                       | 0.05497415                                       | 0.000742324                                      | 0.000115581                                      | 0.000597756                                      |\n",
       "| X502_Group1A_50dpi_RV_bottom_252_B_A2_P141.mzXML | 502                                              | Group1A                                          | naive                                            | 50                                               | RV_bottom                                        | A2                                               | P141                                             | 0.05003989                                       | 0.10118145                                       | 0.002446450                                      | 0.013312979                                      | 0.022775175                                      |\n",
       "| X503_Group1A_50dpi_RV_bottom_253_B_A3_P141.mzXML | 503                                              | Group1A                                          | naive                                            | 50                                               | RV_bottom                                        | A3                                               | P141                                             | 0.04139114                                       | 0.05226797                                       | 0.001007878                                      | 0.031294605                                      | 0.009746465                                      |\n",
       "| X504_Group1A_50dpi_RV_bottom_254_B_A4_P141.mzXML | 504                                              | Group1A                                          | naive                                            | 50                                               | RV_bottom                                        | A4                                               | P141                                             | 0.03348274                                       | 0.04018528                                       | 0.001037871                                      | 0.002241342                                      | 0.002011229                                      |\n",
       "| X505_Group1A_50dpi_RV_bottom_255_B_A5_P141.mzXML | 505                                              | Group1A                                          | naive                                            | 50                                               | RV_bottom                                        | A5                                               | P141                                             | 0.02243459                                       | 0.02839092                                       | 0.000746064                                      | 0.003137893                                      | 0.001178689                                      |\n",
       "| X521_Group1A_50dpi_RV_bottom_256_B_A6_P141.mzXML | 521                                              | Group1A                                          | naive                                            | 50                                               | RV_bottom                                        | A6                                               | P141                                             | 0.02619174                                       | 0.02800588                                       | 0.000681100                                      | 0.000826693                                      | 0.000861809                                      |\n",
       "\n"
      ],
      "text/plain": [
       "  filename                                         MouseID Treatmentgroup\n",
       "1 X501_Group1A_50dpi_RV_bottom_251_B_A1_P141.mzXML 501     Group1A       \n",
       "2 X502_Group1A_50dpi_RV_bottom_252_B_A2_P141.mzXML 502     Group1A       \n",
       "3 X503_Group1A_50dpi_RV_bottom_253_B_A3_P141.mzXML 503     Group1A       \n",
       "4 X504_Group1A_50dpi_RV_bottom_254_B_A4_P141.mzXML 504     Group1A       \n",
       "5 X505_Group1A_50dpi_RV_bottom_255_B_A5_P141.mzXML 505     Group1A       \n",
       "6 X521_Group1A_50dpi_RV_bottom_256_B_A6_P141.mzXML 521     Group1A       \n",
       "  status DPI organ     well_position plate mass_400   mass_500   mass_600   \n",
       "1 naive  50  RV_bottom A1            P141  0.04342834 0.05497415 0.000742324\n",
       "2 naive  50  RV_bottom A2            P141  0.05003989 0.10118145 0.002446450\n",
       "3 naive  50  RV_bottom A3            P141  0.04139114 0.05226797 0.001007878\n",
       "4 naive  50  RV_bottom A4            P141  0.03348274 0.04018528 0.001037871\n",
       "5 naive  50  RV_bottom A5            P141  0.02243459 0.02839092 0.000746064\n",
       "6 naive  50  RV_bottom A6            P141  0.02619174 0.02800588 0.000681100\n",
       "  mass_700    mass_800   \n",
       "1 0.000115581 0.000597756\n",
       "2 0.013312979 0.022775175\n",
       "3 0.031294605 0.009746465\n",
       "4 0.002241342 0.002011229\n",
       "5 0.003137893 0.001178689\n",
       "6 0.000826693 0.000861809"
      ]
     },
     "metadata": {},
     "output_type": "display_data"
    },
    {
     "data": {
      "text/html": [
       "<ol class=list-inline>\n",
       "\t<li>30</li>\n",
       "\t<li>13</li>\n",
       "</ol>\n"
      ],
      "text/latex": [
       "\\begin{enumerate*}\n",
       "\\item 30\n",
       "\\item 13\n",
       "\\end{enumerate*}\n"
      ],
      "text/markdown": [
       "1. 30\n",
       "2. 13\n",
       "\n",
       "\n"
      ],
      "text/plain": [
       "[1] 30 13"
      ]
     },
     "metadata": {},
     "output_type": "display_data"
    },
    {
     "data": {
      "text/html": [
       "<ol class=list-inline>\n",
       "\t<li>30</li>\n",
       "\t<li>5</li>\n",
       "</ol>\n"
      ],
      "text/latex": [
       "\\begin{enumerate*}\n",
       "\\item 30\n",
       "\\item 5\n",
       "\\end{enumerate*}\n"
      ],
      "text/markdown": [
       "1. 30\n",
       "2. 5\n",
       "\n",
       "\n"
      ],
      "text/plain": [
       "[1] 30  5"
      ]
     },
     "metadata": {},
     "output_type": "display_data"
    },
    {
     "data": {
      "text/html": [
       "<ol class=list-inline>\n",
       "\t<li>30</li>\n",
       "\t<li>5</li>\n",
       "</ol>\n"
      ],
      "text/latex": [
       "\\begin{enumerate*}\n",
       "\\item 30\n",
       "\\item 5\n",
       "\\end{enumerate*}\n"
      ],
      "text/markdown": [
       "1. 30\n",
       "2. 5\n",
       "\n",
       "\n"
      ],
      "text/plain": [
       "[1] 30  5"
      ]
     },
     "metadata": {},
     "output_type": "display_data"
    },
    {
     "data": {
      "text/html": [
       "<ol class=list-inline>\n",
       "\t<li>30</li>\n",
       "\t<li>13</li>\n",
       "</ol>\n"
      ],
      "text/latex": [
       "\\begin{enumerate*}\n",
       "\\item 30\n",
       "\\item 13\n",
       "\\end{enumerate*}\n"
      ],
      "text/markdown": [
       "1. 30\n",
       "2. 13\n",
       "\n",
       "\n"
      ],
      "text/plain": [
       "[1] 30 13"
      ]
     },
     "metadata": {},
     "output_type": "display_data"
    }
   ],
   "source": [
    "noMeta<-features_pos[,9:13]\n",
    "head(noMeta)\n",
    "not_zero<-which(colSums(noMeta) != 0)\n",
    "head(not_zero)\n",
    "nonzero <- noMeta[, not_zero]\n",
    "nonzero\n",
    "nonzero_wMeta<-cbind(features_pos[,1:8], nonzero)\n",
    "head(nonzero_wMeta)\n",
    "dim(features_pos)\n",
    "dim(noMeta)\n",
    "dim(nonzero)\n",
    "dim(nonzero_wMeta)"
   ]
  },
  {
   "cell_type": "code",
   "execution_count": 5,
   "metadata": {
    "scrolled": true
   },
   "outputs": [
    {
     "name": "stderr",
     "output_type": "stream",
     "text": [
      "Warning message in wilcox.test.default(x = c(0.000115581, 0.013312979, 0.031294605, :\n",
      "\"cannot compute exact p-value with ties\"Warning message in wilcox.test.default(x = c(0.000597756, 0.022775175, 0.009746465, :\n",
      "\"cannot compute exact p-value with ties\""
     ]
    },
    {
     "data": {
      "text/html": [
       "<ol class=list-inline>\n",
       "\t<li>0.345310897182987</li>\n",
       "\t<li>0.774840301727361</li>\n",
       "\t<li>0.623594278712037</li>\n",
       "\t<li>0.588282558060607</li>\n",
       "\t<li>0.6741709046061</li>\n",
       "</ol>\n"
      ],
      "text/latex": [
       "\\begin{enumerate*}\n",
       "\\item 0.345310897182987\n",
       "\\item 0.774840301727361\n",
       "\\item 0.623594278712037\n",
       "\\item 0.588282558060607\n",
       "\\item 0.6741709046061\n",
       "\\end{enumerate*}\n"
      ],
      "text/markdown": [
       "1. 0.345310897182987\n",
       "2. 0.774840301727361\n",
       "3. 0.623594278712037\n",
       "4. 0.588282558060607\n",
       "5. 0.6741709046061\n",
       "\n",
       "\n"
      ],
      "text/plain": [
       "[1] 0.3453109 0.7748403 0.6235943 0.5882826 0.6741709"
      ]
     },
     "metadata": {},
     "output_type": "display_data"
    },
    {
     "data": {
      "text/html": [
       "<ol class=list-inline>\n",
       "\t<li>0.774840301727361</li>\n",
       "\t<li>0.774840301727361</li>\n",
       "\t<li>0.774840301727361</li>\n",
       "\t<li>0.774840301727361</li>\n",
       "\t<li>0.774840301727361</li>\n",
       "</ol>\n"
      ],
      "text/latex": [
       "\\begin{enumerate*}\n",
       "\\item 0.774840301727361\n",
       "\\item 0.774840301727361\n",
       "\\item 0.774840301727361\n",
       "\\item 0.774840301727361\n",
       "\\item 0.774840301727361\n",
       "\\end{enumerate*}\n"
      ],
      "text/markdown": [
       "1. 0.774840301727361\n",
       "2. 0.774840301727361\n",
       "3. 0.774840301727361\n",
       "4. 0.774840301727361\n",
       "5. 0.774840301727361\n",
       "\n",
       "\n"
      ],
      "text/plain": [
       "[1] 0.7748403 0.7748403 0.7748403 0.7748403 0.7748403"
      ]
     },
     "metadata": {},
     "output_type": "display_data"
    }
   ],
   "source": [
    "pval<-c()\n",
    "\n",
    "for (i in 9:ncol(nonzero_wMeta)) \n",
    "pval<-c(pval,wilcox.test(nonzero_wMeta[,i]~nonzero_wMeta$Treatmentgroup)$p.value)\n",
    "head(pval)\n",
    "pAdj <- p.adjust(pval, method = c(\"fdr\"), n=length(pval)) \n",
    "head(pAdj) \n",
    "\n"
   ]
  },
  {
   "cell_type": "code",
   "execution_count": 6,
   "metadata": {
    "scrolled": true
   },
   "outputs": [
    {
     "data": {
      "text/html": [
       "5"
      ],
      "text/latex": [
       "5"
      ],
      "text/markdown": [
       "5"
      ],
      "text/plain": [
       "[1] 5"
      ]
     },
     "metadata": {},
     "output_type": "display_data"
    }
   ],
   "source": [
    "length(pval)"
   ]
  },
  {
   "cell_type": "code",
   "execution_count": 7,
   "metadata": {
    "scrolled": true
   },
   "outputs": [
    {
     "data": {
      "text/html": [
       "5"
      ],
      "text/latex": [
       "5"
      ],
      "text/markdown": [
       "5"
      ],
      "text/plain": [
       "[1] 5"
      ]
     },
     "metadata": {},
     "output_type": "display_data"
    }
   ],
   "source": [
    "length(pAdj)"
   ]
  },
  {
   "cell_type": "code",
   "execution_count": 8,
   "metadata": {},
   "outputs": [
    {
     "data": {
      "text/html": [
       "<ol class=list-inline>\n",
       "\t<li>2</li>\n",
       "\t<li>5</li>\n",
       "</ol>\n"
      ],
      "text/latex": [
       "\\begin{enumerate*}\n",
       "\\item 2\n",
       "\\item 5\n",
       "\\end{enumerate*}\n"
      ],
      "text/markdown": [
       "1. 2\n",
       "2. 5\n",
       "\n",
       "\n"
      ],
      "text/plain": [
       "[1] 2 5"
      ]
     },
     "metadata": {},
     "output_type": "display_data"
    },
    {
     "data": {
      "text/html": [
       "<table>\n",
       "<thead><tr><th></th><th scope=col>mass_400</th><th scope=col>mass_500</th><th scope=col>mass_600</th></tr></thead>\n",
       "<tbody>\n",
       "\t<tr><th scope=row>Group1A</th><td>0.03630308  </td><td>0.04764000  </td><td>0.0008987789</td></tr>\n",
       "\t<tr><th scope=row>Group3A</th><td>0.04698890  </td><td>0.05200488  </td><td>0.0012721323</td></tr>\n",
       "</tbody>\n",
       "</table>\n"
      ],
      "text/latex": [
       "\\begin{tabular}{r|lll}\n",
       "  & mass\\_400 & mass\\_500 & mass\\_600\\\\\n",
       "\\hline\n",
       "\tGroup1A & 0.03630308   & 0.04764000   & 0.0008987789\\\\\n",
       "\tGroup3A & 0.04698890   & 0.05200488   & 0.0012721323\\\\\n",
       "\\end{tabular}\n"
      ],
      "text/markdown": [
       "\n",
       "| <!--/--> | mass_400 | mass_500 | mass_600 |\n",
       "|---|---|---|---|\n",
       "| Group1A | 0.03630308   | 0.04764000   | 0.0008987789 |\n",
       "| Group3A | 0.04698890   | 0.05200488   | 0.0012721323 |\n",
       "\n"
      ],
      "text/plain": [
       "        mass_400   mass_500   mass_600    \n",
       "Group1A 0.03630308 0.04764000 0.0008987789\n",
       "Group3A 0.04698890 0.05200488 0.0012721323"
      ]
     },
     "metadata": {},
     "output_type": "display_data"
    },
    {
     "data": {
      "text/html": [
       "<dl class=dl-horizontal>\n",
       "\t<dt>mass_400</dt>\n",
       "\t\t<dd>0.772588403115646</dd>\n",
       "\t<dt>mass_500</dt>\n",
       "\t\t<dd>0.916067949552621</dd>\n",
       "\t<dt>mass_600</dt>\n",
       "\t\t<dd>0.706513709134558</dd>\n",
       "\t<dt>mass_700</dt>\n",
       "\t\t<dd>1.33983663137456</dd>\n",
       "\t<dt>mass_800</dt>\n",
       "\t\t<dd>1.14826789924532</dd>\n",
       "</dl>\n"
      ],
      "text/latex": [
       "\\begin{description*}\n",
       "\\item[mass\\textbackslash{}\\_400] 0.772588403115646\n",
       "\\item[mass\\textbackslash{}\\_500] 0.916067949552621\n",
       "\\item[mass\\textbackslash{}\\_600] 0.706513709134558\n",
       "\\item[mass\\textbackslash{}\\_700] 1.33983663137456\n",
       "\\item[mass\\textbackslash{}\\_800] 1.14826789924532\n",
       "\\end{description*}\n"
      ],
      "text/markdown": [
       "mass_400\n",
       ":   0.772588403115646mass_500\n",
       ":   0.916067949552621mass_600\n",
       ":   0.706513709134558mass_700\n",
       ":   1.33983663137456mass_800\n",
       ":   1.14826789924532\n",
       "\n"
      ],
      "text/plain": [
       " mass_400  mass_500  mass_600  mass_700  mass_800 \n",
       "0.7725884 0.9160679 0.7065137 1.3398366 1.1482679 "
      ]
     },
     "metadata": {},
     "output_type": "display_data"
    },
    {
     "data": {
      "text/html": [
       "<ol class=list-inline>\n",
       "\t<li>'numeric'</li>\n",
       "\t<li>'vector'</li>\n",
       "</ol>\n"
      ],
      "text/latex": [
       "\\begin{enumerate*}\n",
       "\\item 'numeric'\n",
       "\\item 'vector'\n",
       "\\end{enumerate*}\n"
      ],
      "text/markdown": [
       "1. 'numeric'\n",
       "2. 'vector'\n",
       "\n",
       "\n"
      ],
      "text/plain": [
       "[1] \"numeric\" \"vector\" "
      ]
     },
     "metadata": {},
     "output_type": "display_data"
    }
   ],
   "source": [
    "avg<- apply(nonzero_wMeta[,9:ncol(nonzero_wMeta)], 2, function(x) tapply(x, nonzero_wMeta$Treatmentgroup, function(x) mean(x))) \n",
    "\n",
    "dim(avg)\n",
    "\n",
    "avg[,1:3]\n",
    "\n",
    "fch <- apply(avg, 2, function(x) x[1]/x[2])\n",
    "\n",
    "head(fch)\n",
    "is(fch)"
   ]
  },
  {
   "cell_type": "code",
   "execution_count": 9,
   "metadata": {
    "scrolled": true
   },
   "outputs": [
    {
     "data": {
      "text/html": [
       "<dl class=dl-horizontal>\n",
       "\t<dt>mass_400</dt>\n",
       "\t\t<dd>0.772588403115646</dd>\n",
       "\t<dt>mass_500</dt>\n",
       "\t\t<dd>0.916067949552621</dd>\n",
       "\t<dt>mass_600</dt>\n",
       "\t\t<dd>0.706513709134558</dd>\n",
       "\t<dt>mass_700</dt>\n",
       "\t\t<dd>1.33983663137456</dd>\n",
       "\t<dt>mass_800</dt>\n",
       "\t\t<dd>1.14826789924532</dd>\n",
       "</dl>\n"
      ],
      "text/latex": [
       "\\begin{description*}\n",
       "\\item[mass\\textbackslash{}\\_400] 0.772588403115646\n",
       "\\item[mass\\textbackslash{}\\_500] 0.916067949552621\n",
       "\\item[mass\\textbackslash{}\\_600] 0.706513709134558\n",
       "\\item[mass\\textbackslash{}\\_700] 1.33983663137456\n",
       "\\item[mass\\textbackslash{}\\_800] 1.14826789924532\n",
       "\\end{description*}\n"
      ],
      "text/markdown": [
       "mass_400\n",
       ":   0.772588403115646mass_500\n",
       ":   0.916067949552621mass_600\n",
       ":   0.706513709134558mass_700\n",
       ":   1.33983663137456mass_800\n",
       ":   1.14826789924532\n",
       "\n"
      ],
      "text/plain": [
       " mass_400  mass_500  mass_600  mass_700  mass_800 \n",
       "0.7725884 0.9160679 0.7065137 1.3398366 1.1482679 "
      ]
     },
     "metadata": {},
     "output_type": "display_data"
    }
   ],
   "source": [
    "fch"
   ]
  },
  {
   "cell_type": "code",
   "execution_count": 10,
   "metadata": {
    "scrolled": false
   },
   "outputs": [],
   "source": [
    "df <- data.frame(fch,pval, pAdj)\n",
    "write.csv(df, \"PC-time-RVB-wilcox-1A-3A.csv\")"
   ]
  },
  {
   "cell_type": "code",
   "execution_count": null,
   "metadata": {},
   "outputs": [],
   "source": []
  },
  {
   "cell_type": "code",
   "execution_count": null,
   "metadata": {},
   "outputs": [],
   "source": []
  },
  {
   "cell_type": "code",
   "execution_count": null,
   "metadata": {},
   "outputs": [],
   "source": []
  },
  {
   "cell_type": "code",
   "execution_count": null,
   "metadata": {},
   "outputs": [],
   "source": []
  },
  {
   "cell_type": "code",
   "execution_count": null,
   "metadata": {},
   "outputs": [],
   "source": []
  },
  {
   "cell_type": "code",
   "execution_count": null,
   "metadata": {},
   "outputs": [],
   "source": []
  }
 ],
 "metadata": {
  "kernelspec": {
   "display_name": "R",
   "language": "R",
   "name": "ir"
  },
  "language_info": {
   "codemirror_mode": "r",
   "file_extension": ".r",
   "mimetype": "text/x-r-source",
   "name": "R",
   "pygments_lexer": "r",
   "version": "3.6.1"
  }
 },
 "nbformat": 4,
 "nbformat_minor": 2
}
