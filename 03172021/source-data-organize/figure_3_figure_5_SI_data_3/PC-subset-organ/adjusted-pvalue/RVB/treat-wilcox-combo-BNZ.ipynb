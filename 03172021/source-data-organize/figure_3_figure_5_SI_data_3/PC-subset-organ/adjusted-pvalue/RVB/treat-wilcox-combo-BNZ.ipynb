{
 "cells": [
  {
   "cell_type": "code",
   "execution_count": 1,
   "metadata": {},
   "outputs": [],
   "source": [
    "a <- read.csv(\"03172021-PC-treatment-RVB-M-F.csv\")"
   ]
  },
  {
   "cell_type": "code",
   "execution_count": 2,
   "metadata": {},
   "outputs": [
    {
     "data": {
      "text/html": [
       "<table>\n",
       "<thead><tr><th scope=col>filename</th><th scope=col>MouseID</th><th scope=col>Treatmentgroup</th><th scope=col>DPI</th><th scope=col>organ</th><th scope=col>well_position</th><th scope=col>plate</th><th scope=col>mass_400</th><th scope=col>mass_500</th><th scope=col>mass_600</th><th scope=col>mass_700</th><th scope=col>mass_800</th></tr></thead>\n",
       "<tbody>\n",
       "\t<tr><td>X511_Group1C_142dpi_RV_bottom_161_G_A1_P140.mzXML</td><td>511                                              </td><td>naive                                            </td><td>142dpi                                           </td><td>RV_bottom                                        </td><td>A1                                               </td><td>P140                                             </td><td>0.01070250                                       </td><td>0.01878444                                       </td><td>0.000000000                                      </td><td>0.000000000                                      </td><td>0.000000000                                      </td></tr>\n",
       "\t<tr><td>X512_Group1C_142dpi_RV_bottom_162_G_A2_P140.mzXML</td><td>512                                              </td><td>naive                                            </td><td>142dpi                                           </td><td>RV_bottom                                        </td><td>A2                                               </td><td>P140                                             </td><td>0.01817401                                       </td><td>0.02520786                                       </td><td>0.000071700                                      </td><td>0.000000000                                      </td><td>0.000000000                                      </td></tr>\n",
       "\t<tr><td>X513_Group1C_142dpi_RV_bottom_163_G_A3_P140.mzXML</td><td>513                                              </td><td>naive                                            </td><td>142dpi                                           </td><td>RV_bottom                                        </td><td>A3                                               </td><td>P140                                             </td><td>0.01246066                                       </td><td>0.01438772                                       </td><td>0.000000000                                      </td><td>0.001022450                                      </td><td>0.000313152                                      </td></tr>\n",
       "\t<tr><td>X514_Group1C_142dpi_RV_bottom_164_G_A4_P140.mzXML</td><td>514                                              </td><td>naive                                            </td><td>142dpi                                           </td><td>RV_bottom                                        </td><td>A4                                               </td><td>P140                                             </td><td>0.01393864                                       </td><td>0.01860049                                       </td><td>0.000228515                                      </td><td>0.000060600                                      </td><td>0.000000000                                      </td></tr>\n",
       "\t<tr><td>X515_Group1C_142dpi_RV_bottom_165_G_A5_P140.mzXML</td><td>515                                              </td><td>naive                                            </td><td>142dpi                                           </td><td>RV_bottom                                        </td><td>A5                                               </td><td>P140                                             </td><td>0.02076094                                       </td><td>0.02255642                                       </td><td>0.000521923                                      </td><td>0.000221919                                      </td><td>0.000000000                                      </td></tr>\n",
       "\t<tr><td>X531_Group1C_142dpi_RV_bottom_166_G_A6_P140.mzXML</td><td>531                                              </td><td>naive                                            </td><td>142dpi                                           </td><td>RV_bottom                                        </td><td>A6                                               </td><td>P140                                             </td><td>0.01498764                                       </td><td>0.01930315                                       </td><td>0.000296114                                      </td><td>0.000000000                                      </td><td>0.000000000                                      </td></tr>\n",
       "</tbody>\n",
       "</table>\n"
      ],
      "text/latex": [
       "\\begin{tabular}{r|llllllllllll}\n",
       " filename & MouseID & Treatmentgroup & DPI & organ & well\\_position & plate & mass\\_400 & mass\\_500 & mass\\_600 & mass\\_700 & mass\\_800\\\\\n",
       "\\hline\n",
       "\t X511\\_Group1C\\_142dpi\\_RV\\_bottom\\_161\\_G\\_A1\\_P140.mzXML & 511                                                               & naive                                                             & 142dpi                                                            & RV\\_bottom                                                       & A1                                                                & P140                                                              & 0.01070250                                                        & 0.01878444                                                        & 0.000000000                                                       & 0.000000000                                                       & 0.000000000                                                      \\\\\n",
       "\t X512\\_Group1C\\_142dpi\\_RV\\_bottom\\_162\\_G\\_A2\\_P140.mzXML & 512                                                               & naive                                                             & 142dpi                                                            & RV\\_bottom                                                       & A2                                                                & P140                                                              & 0.01817401                                                        & 0.02520786                                                        & 0.000071700                                                       & 0.000000000                                                       & 0.000000000                                                      \\\\\n",
       "\t X513\\_Group1C\\_142dpi\\_RV\\_bottom\\_163\\_G\\_A3\\_P140.mzXML & 513                                                               & naive                                                             & 142dpi                                                            & RV\\_bottom                                                       & A3                                                                & P140                                                              & 0.01246066                                                        & 0.01438772                                                        & 0.000000000                                                       & 0.001022450                                                       & 0.000313152                                                      \\\\\n",
       "\t X514\\_Group1C\\_142dpi\\_RV\\_bottom\\_164\\_G\\_A4\\_P140.mzXML & 514                                                               & naive                                                             & 142dpi                                                            & RV\\_bottom                                                       & A4                                                                & P140                                                              & 0.01393864                                                        & 0.01860049                                                        & 0.000228515                                                       & 0.000060600                                                       & 0.000000000                                                      \\\\\n",
       "\t X515\\_Group1C\\_142dpi\\_RV\\_bottom\\_165\\_G\\_A5\\_P140.mzXML & 515                                                               & naive                                                             & 142dpi                                                            & RV\\_bottom                                                       & A5                                                                & P140                                                              & 0.02076094                                                        & 0.02255642                                                        & 0.000521923                                                       & 0.000221919                                                       & 0.000000000                                                      \\\\\n",
       "\t X531\\_Group1C\\_142dpi\\_RV\\_bottom\\_166\\_G\\_A6\\_P140.mzXML & 531                                                               & naive                                                             & 142dpi                                                            & RV\\_bottom                                                       & A6                                                                & P140                                                              & 0.01498764                                                        & 0.01930315                                                        & 0.000296114                                                       & 0.000000000                                                       & 0.000000000                                                      \\\\\n",
       "\\end{tabular}\n"
      ],
      "text/markdown": [
       "\n",
       "| filename | MouseID | Treatmentgroup | DPI | organ | well_position | plate | mass_400 | mass_500 | mass_600 | mass_700 | mass_800 |\n",
       "|---|---|---|---|---|---|---|---|---|---|---|---|\n",
       "| X511_Group1C_142dpi_RV_bottom_161_G_A1_P140.mzXML | 511                                               | naive                                             | 142dpi                                            | RV_bottom                                         | A1                                                | P140                                              | 0.01070250                                        | 0.01878444                                        | 0.000000000                                       | 0.000000000                                       | 0.000000000                                       |\n",
       "| X512_Group1C_142dpi_RV_bottom_162_G_A2_P140.mzXML | 512                                               | naive                                             | 142dpi                                            | RV_bottom                                         | A2                                                | P140                                              | 0.01817401                                        | 0.02520786                                        | 0.000071700                                       | 0.000000000                                       | 0.000000000                                       |\n",
       "| X513_Group1C_142dpi_RV_bottom_163_G_A3_P140.mzXML | 513                                               | naive                                             | 142dpi                                            | RV_bottom                                         | A3                                                | P140                                              | 0.01246066                                        | 0.01438772                                        | 0.000000000                                       | 0.001022450                                       | 0.000313152                                       |\n",
       "| X514_Group1C_142dpi_RV_bottom_164_G_A4_P140.mzXML | 514                                               | naive                                             | 142dpi                                            | RV_bottom                                         | A4                                                | P140                                              | 0.01393864                                        | 0.01860049                                        | 0.000228515                                       | 0.000060600                                       | 0.000000000                                       |\n",
       "| X515_Group1C_142dpi_RV_bottom_165_G_A5_P140.mzXML | 515                                               | naive                                             | 142dpi                                            | RV_bottom                                         | A5                                                | P140                                              | 0.02076094                                        | 0.02255642                                        | 0.000521923                                       | 0.000221919                                       | 0.000000000                                       |\n",
       "| X531_Group1C_142dpi_RV_bottom_166_G_A6_P140.mzXML | 531                                               | naive                                             | 142dpi                                            | RV_bottom                                         | A6                                                | P140                                              | 0.01498764                                        | 0.01930315                                        | 0.000296114                                       | 0.000000000                                       | 0.000000000                                       |\n",
       "\n"
      ],
      "text/plain": [
       "  filename                                          MouseID Treatmentgroup\n",
       "1 X511_Group1C_142dpi_RV_bottom_161_G_A1_P140.mzXML 511     naive         \n",
       "2 X512_Group1C_142dpi_RV_bottom_162_G_A2_P140.mzXML 512     naive         \n",
       "3 X513_Group1C_142dpi_RV_bottom_163_G_A3_P140.mzXML 513     naive         \n",
       "4 X514_Group1C_142dpi_RV_bottom_164_G_A4_P140.mzXML 514     naive         \n",
       "5 X515_Group1C_142dpi_RV_bottom_165_G_A5_P140.mzXML 515     naive         \n",
       "6 X531_Group1C_142dpi_RV_bottom_166_G_A6_P140.mzXML 531     naive         \n",
       "  DPI    organ     well_position plate mass_400   mass_500   mass_600   \n",
       "1 142dpi RV_bottom A1            P140  0.01070250 0.01878444 0.000000000\n",
       "2 142dpi RV_bottom A2            P140  0.01817401 0.02520786 0.000071700\n",
       "3 142dpi RV_bottom A3            P140  0.01246066 0.01438772 0.000000000\n",
       "4 142dpi RV_bottom A4            P140  0.01393864 0.01860049 0.000228515\n",
       "5 142dpi RV_bottom A5            P140  0.02076094 0.02255642 0.000521923\n",
       "6 142dpi RV_bottom A6            P140  0.01498764 0.01930315 0.000296114\n",
       "  mass_700    mass_800   \n",
       "1 0.000000000 0.000000000\n",
       "2 0.000000000 0.000000000\n",
       "3 0.001022450 0.000313152\n",
       "4 0.000060600 0.000000000\n",
       "5 0.000221919 0.000000000\n",
       "6 0.000000000 0.000000000"
      ]
     },
     "metadata": {},
     "output_type": "display_data"
    },
    {
     "data": {
      "text/html": [
       "<ol class=list-inline>\n",
       "\t<li>60</li>\n",
       "\t<li>12</li>\n",
       "</ol>\n"
      ],
      "text/latex": [
       "\\begin{enumerate*}\n",
       "\\item 60\n",
       "\\item 12\n",
       "\\end{enumerate*}\n"
      ],
      "text/markdown": [
       "1. 60\n",
       "2. 12\n",
       "\n",
       "\n"
      ],
      "text/plain": [
       "[1] 60 12"
      ]
     },
     "metadata": {},
     "output_type": "display_data"
    }
   ],
   "source": [
    "head(a)\n",
    "dim(a)"
   ]
  },
  {
   "cell_type": "code",
   "execution_count": 3,
   "metadata": {},
   "outputs": [
    {
     "data": {
      "text/html": [
       "<table>\n",
       "<thead><tr><th></th><th scope=col>filename</th><th scope=col>MouseID</th><th scope=col>Treatmentgroup</th><th scope=col>DPI</th><th scope=col>organ</th><th scope=col>well_position</th><th scope=col>plate</th><th scope=col>mass_400</th><th scope=col>mass_500</th><th scope=col>mass_600</th><th scope=col>mass_700</th><th scope=col>mass_800</th></tr></thead>\n",
       "<tbody>\n",
       "\t<tr><th scope=row>21</th><td>X611_Group9_142dpi_RV_bottom_181_G_B9_P140.mzXML </td><td>611                                              </td><td>combo                                            </td><td>142dpi                                           </td><td>RV_bottom                                        </td><td>B9                                               </td><td>P140                                             </td><td>0.012129670                                      </td><td>0.013573974                                      </td><td>0.000245883                                      </td><td>0.000000000                                      </td><td>0.0000000                                        </td></tr>\n",
       "\t<tr><th scope=row>22</th><td>X612_Group9_142dpi_RV_bottom_182_G_B10_P140.mzXML</td><td>612                                              </td><td>combo                                            </td><td>142dpi                                           </td><td>RV_bottom                                        </td><td>B10                                              </td><td>P140                                             </td><td>0.007099116                                      </td><td>0.008018595                                      </td><td>0.000000000                                      </td><td>0.000000000                                      </td><td>0.0000000                                        </td></tr>\n",
       "\t<tr><th scope=row>23</th><td>X613_Group9_142dpi_RV_bottom_183_G_B11_P140.mzXML</td><td>613                                              </td><td>combo                                            </td><td>142dpi                                           </td><td>RV_bottom                                        </td><td>B11                                              </td><td>P140                                             </td><td>0.013326204                                      </td><td>0.013746514                                      </td><td>0.000070300                                      </td><td>0.000000000                                      </td><td>0.0000000                                        </td></tr>\n",
       "\t<tr><th scope=row>24</th><td>X614_Group9_142dpi_RV_bottom_184_G_B12_P140.mzXML</td><td>614                                              </td><td>combo                                            </td><td>142dpi                                           </td><td>RV_bottom                                        </td><td>B12                                              </td><td>P140                                             </td><td>0.012390649                                      </td><td>0.013753808                                      </td><td>0.000000000                                      </td><td>0.000196759                                      </td><td>0.0000000                                        </td></tr>\n",
       "\t<tr><th scope=row>25</th><td>X615_Group9_142dpi_RV_bottom_185_G_C1_P140.mzXML </td><td>615                                              </td><td>combo                                            </td><td>142dpi                                           </td><td>RV_bottom                                        </td><td>C1                                               </td><td>P140                                             </td><td>0.015575339                                      </td><td>0.017183958                                      </td><td>0.000181716                                      </td><td>0.002146601                                      </td><td>0.0001379                                        </td></tr>\n",
       "\t<tr><th scope=row>26</th><td>X631_Group15_142dpi_RV_bottom_191_G_C7_P140.mzXML</td><td>631                                              </td><td>BNZ                                              </td><td>142dpi                                           </td><td>RV_bottom                                        </td><td>C7                                               </td><td>P140                                             </td><td>0.007016621                                      </td><td>0.006798712                                      </td><td>0.000000000                                      </td><td>0.000000000                                      </td><td>0.0000000                                        </td></tr>\n",
       "</tbody>\n",
       "</table>\n"
      ],
      "text/latex": [
       "\\begin{tabular}{r|llllllllllll}\n",
       "  & filename & MouseID & Treatmentgroup & DPI & organ & well\\_position & plate & mass\\_400 & mass\\_500 & mass\\_600 & mass\\_700 & mass\\_800\\\\\n",
       "\\hline\n",
       "\t21 & X611\\_Group9\\_142dpi\\_RV\\_bottom\\_181\\_G\\_B9\\_P140.mzXML  & 611                                                               & combo                                                             & 142dpi                                                            & RV\\_bottom                                                       & B9                                                                & P140                                                              & 0.012129670                                                       & 0.013573974                                                       & 0.000245883                                                       & 0.000000000                                                       & 0.0000000                                                        \\\\\n",
       "\t22 & X612\\_Group9\\_142dpi\\_RV\\_bottom\\_182\\_G\\_B10\\_P140.mzXML & 612                                                               & combo                                                             & 142dpi                                                            & RV\\_bottom                                                       & B10                                                               & P140                                                              & 0.007099116                                                       & 0.008018595                                                       & 0.000000000                                                       & 0.000000000                                                       & 0.0000000                                                        \\\\\n",
       "\t23 & X613\\_Group9\\_142dpi\\_RV\\_bottom\\_183\\_G\\_B11\\_P140.mzXML & 613                                                               & combo                                                             & 142dpi                                                            & RV\\_bottom                                                       & B11                                                               & P140                                                              & 0.013326204                                                       & 0.013746514                                                       & 0.000070300                                                       & 0.000000000                                                       & 0.0000000                                                        \\\\\n",
       "\t24 & X614\\_Group9\\_142dpi\\_RV\\_bottom\\_184\\_G\\_B12\\_P140.mzXML & 614                                                               & combo                                                             & 142dpi                                                            & RV\\_bottom                                                       & B12                                                               & P140                                                              & 0.012390649                                                       & 0.013753808                                                       & 0.000000000                                                       & 0.000196759                                                       & 0.0000000                                                        \\\\\n",
       "\t25 & X615\\_Group9\\_142dpi\\_RV\\_bottom\\_185\\_G\\_C1\\_P140.mzXML  & 615                                                               & combo                                                             & 142dpi                                                            & RV\\_bottom                                                       & C1                                                                & P140                                                              & 0.015575339                                                       & 0.017183958                                                       & 0.000181716                                                       & 0.002146601                                                       & 0.0001379                                                        \\\\\n",
       "\t26 & X631\\_Group15\\_142dpi\\_RV\\_bottom\\_191\\_G\\_C7\\_P140.mzXML & 631                                                               & BNZ                                                               & 142dpi                                                            & RV\\_bottom                                                       & C7                                                                & P140                                                              & 0.007016621                                                       & 0.006798712                                                       & 0.000000000                                                       & 0.000000000                                                       & 0.0000000                                                        \\\\\n",
       "\\end{tabular}\n"
      ],
      "text/markdown": [
       "\n",
       "| <!--/--> | filename | MouseID | Treatmentgroup | DPI | organ | well_position | plate | mass_400 | mass_500 | mass_600 | mass_700 | mass_800 |\n",
       "|---|---|---|---|---|---|---|---|---|---|---|---|---|\n",
       "| 21 | X611_Group9_142dpi_RV_bottom_181_G_B9_P140.mzXML  | 611                                               | combo                                             | 142dpi                                            | RV_bottom                                         | B9                                                | P140                                              | 0.012129670                                       | 0.013573974                                       | 0.000245883                                       | 0.000000000                                       | 0.0000000                                         |\n",
       "| 22 | X612_Group9_142dpi_RV_bottom_182_G_B10_P140.mzXML | 612                                               | combo                                             | 142dpi                                            | RV_bottom                                         | B10                                               | P140                                              | 0.007099116                                       | 0.008018595                                       | 0.000000000                                       | 0.000000000                                       | 0.0000000                                         |\n",
       "| 23 | X613_Group9_142dpi_RV_bottom_183_G_B11_P140.mzXML | 613                                               | combo                                             | 142dpi                                            | RV_bottom                                         | B11                                               | P140                                              | 0.013326204                                       | 0.013746514                                       | 0.000070300                                       | 0.000000000                                       | 0.0000000                                         |\n",
       "| 24 | X614_Group9_142dpi_RV_bottom_184_G_B12_P140.mzXML | 614                                               | combo                                             | 142dpi                                            | RV_bottom                                         | B12                                               | P140                                              | 0.012390649                                       | 0.013753808                                       | 0.000000000                                       | 0.000196759                                       | 0.0000000                                         |\n",
       "| 25 | X615_Group9_142dpi_RV_bottom_185_G_C1_P140.mzXML  | 615                                               | combo                                             | 142dpi                                            | RV_bottom                                         | C1                                                | P140                                              | 0.015575339                                       | 0.017183958                                       | 0.000181716                                       | 0.002146601                                       | 0.0001379                                         |\n",
       "| 26 | X631_Group15_142dpi_RV_bottom_191_G_C7_P140.mzXML | 631                                               | BNZ                                               | 142dpi                                            | RV_bottom                                         | C7                                                | P140                                              | 0.007016621                                       | 0.006798712                                       | 0.000000000                                       | 0.000000000                                       | 0.0000000                                         |\n",
       "\n"
      ],
      "text/plain": [
       "   filename                                          MouseID Treatmentgroup\n",
       "21 X611_Group9_142dpi_RV_bottom_181_G_B9_P140.mzXML  611     combo         \n",
       "22 X612_Group9_142dpi_RV_bottom_182_G_B10_P140.mzXML 612     combo         \n",
       "23 X613_Group9_142dpi_RV_bottom_183_G_B11_P140.mzXML 613     combo         \n",
       "24 X614_Group9_142dpi_RV_bottom_184_G_B12_P140.mzXML 614     combo         \n",
       "25 X615_Group9_142dpi_RV_bottom_185_G_C1_P140.mzXML  615     combo         \n",
       "26 X631_Group15_142dpi_RV_bottom_191_G_C7_P140.mzXML 631     BNZ           \n",
       "   DPI    organ     well_position plate mass_400    mass_500    mass_600   \n",
       "21 142dpi RV_bottom B9            P140  0.012129670 0.013573974 0.000245883\n",
       "22 142dpi RV_bottom B10           P140  0.007099116 0.008018595 0.000000000\n",
       "23 142dpi RV_bottom B11           P140  0.013326204 0.013746514 0.000070300\n",
       "24 142dpi RV_bottom B12           P140  0.012390649 0.013753808 0.000000000\n",
       "25 142dpi RV_bottom C1            P140  0.015575339 0.017183958 0.000181716\n",
       "26 142dpi RV_bottom C7            P140  0.007016621 0.006798712 0.000000000\n",
       "   mass_700    mass_800 \n",
       "21 0.000000000 0.0000000\n",
       "22 0.000000000 0.0000000\n",
       "23 0.000000000 0.0000000\n",
       "24 0.000196759 0.0000000\n",
       "25 0.002146601 0.0001379\n",
       "26 0.000000000 0.0000000"
      ]
     },
     "metadata": {},
     "output_type": "display_data"
    },
    {
     "data": {
      "text/html": [
       "<ol class=list-inline>\n",
       "\t<li>30</li>\n",
       "\t<li>12</li>\n",
       "</ol>\n"
      ],
      "text/latex": [
       "\\begin{enumerate*}\n",
       "\\item 30\n",
       "\\item 12\n",
       "\\end{enumerate*}\n"
      ],
      "text/markdown": [
       "1. 30\n",
       "2. 12\n",
       "\n",
       "\n"
      ],
      "text/plain": [
       "[1] 30 12"
      ]
     },
     "metadata": {},
     "output_type": "display_data"
    }
   ],
   "source": [
    "features_pos<-droplevels(subset(a, a$Treatmentgroup==c(\"combo\")|a$Treatmentgroup==c(\"BNZ\")))\n",
    "head(features_pos)\n",
    "dim(features_pos)"
   ]
  },
  {
   "cell_type": "code",
   "execution_count": 4,
   "metadata": {
    "scrolled": false
   },
   "outputs": [
    {
     "data": {
      "text/html": [
       "<table>\n",
       "<thead><tr><th></th><th scope=col>mass_400</th><th scope=col>mass_500</th><th scope=col>mass_600</th><th scope=col>mass_700</th><th scope=col>mass_800</th></tr></thead>\n",
       "<tbody>\n",
       "\t<tr><th scope=row>21</th><td>0.012129670</td><td>0.013573974</td><td>0.000245883</td><td>0.000000000</td><td>0.0000000  </td></tr>\n",
       "\t<tr><th scope=row>22</th><td>0.007099116</td><td>0.008018595</td><td>0.000000000</td><td>0.000000000</td><td>0.0000000  </td></tr>\n",
       "\t<tr><th scope=row>23</th><td>0.013326204</td><td>0.013746514</td><td>0.000070300</td><td>0.000000000</td><td>0.0000000  </td></tr>\n",
       "\t<tr><th scope=row>24</th><td>0.012390649</td><td>0.013753808</td><td>0.000000000</td><td>0.000196759</td><td>0.0000000  </td></tr>\n",
       "\t<tr><th scope=row>25</th><td>0.015575339</td><td>0.017183958</td><td>0.000181716</td><td>0.002146601</td><td>0.0001379  </td></tr>\n",
       "\t<tr><th scope=row>26</th><td>0.007016621</td><td>0.006798712</td><td>0.000000000</td><td>0.000000000</td><td>0.0000000  </td></tr>\n",
       "</tbody>\n",
       "</table>\n"
      ],
      "text/latex": [
       "\\begin{tabular}{r|lllll}\n",
       "  & mass\\_400 & mass\\_500 & mass\\_600 & mass\\_700 & mass\\_800\\\\\n",
       "\\hline\n",
       "\t21 & 0.012129670 & 0.013573974 & 0.000245883 & 0.000000000 & 0.0000000  \\\\\n",
       "\t22 & 0.007099116 & 0.008018595 & 0.000000000 & 0.000000000 & 0.0000000  \\\\\n",
       "\t23 & 0.013326204 & 0.013746514 & 0.000070300 & 0.000000000 & 0.0000000  \\\\\n",
       "\t24 & 0.012390649 & 0.013753808 & 0.000000000 & 0.000196759 & 0.0000000  \\\\\n",
       "\t25 & 0.015575339 & 0.017183958 & 0.000181716 & 0.002146601 & 0.0001379  \\\\\n",
       "\t26 & 0.007016621 & 0.006798712 & 0.000000000 & 0.000000000 & 0.0000000  \\\\\n",
       "\\end{tabular}\n"
      ],
      "text/markdown": [
       "\n",
       "| <!--/--> | mass_400 | mass_500 | mass_600 | mass_700 | mass_800 |\n",
       "|---|---|---|---|---|---|\n",
       "| 21 | 0.012129670 | 0.013573974 | 0.000245883 | 0.000000000 | 0.0000000   |\n",
       "| 22 | 0.007099116 | 0.008018595 | 0.000000000 | 0.000000000 | 0.0000000   |\n",
       "| 23 | 0.013326204 | 0.013746514 | 0.000070300 | 0.000000000 | 0.0000000   |\n",
       "| 24 | 0.012390649 | 0.013753808 | 0.000000000 | 0.000196759 | 0.0000000   |\n",
       "| 25 | 0.015575339 | 0.017183958 | 0.000181716 | 0.002146601 | 0.0001379   |\n",
       "| 26 | 0.007016621 | 0.006798712 | 0.000000000 | 0.000000000 | 0.0000000   |\n",
       "\n"
      ],
      "text/plain": [
       "   mass_400    mass_500    mass_600    mass_700    mass_800 \n",
       "21 0.012129670 0.013573974 0.000245883 0.000000000 0.0000000\n",
       "22 0.007099116 0.008018595 0.000000000 0.000000000 0.0000000\n",
       "23 0.013326204 0.013746514 0.000070300 0.000000000 0.0000000\n",
       "24 0.012390649 0.013753808 0.000000000 0.000196759 0.0000000\n",
       "25 0.015575339 0.017183958 0.000181716 0.002146601 0.0001379\n",
       "26 0.007016621 0.006798712 0.000000000 0.000000000 0.0000000"
      ]
     },
     "metadata": {},
     "output_type": "display_data"
    },
    {
     "data": {
      "text/html": [
       "<dl class=dl-horizontal>\n",
       "\t<dt>mass_400</dt>\n",
       "\t\t<dd>1</dd>\n",
       "\t<dt>mass_500</dt>\n",
       "\t\t<dd>2</dd>\n",
       "\t<dt>mass_600</dt>\n",
       "\t\t<dd>3</dd>\n",
       "\t<dt>mass_700</dt>\n",
       "\t\t<dd>4</dd>\n",
       "\t<dt>mass_800</dt>\n",
       "\t\t<dd>5</dd>\n",
       "</dl>\n"
      ],
      "text/latex": [
       "\\begin{description*}\n",
       "\\item[mass\\textbackslash{}\\_400] 1\n",
       "\\item[mass\\textbackslash{}\\_500] 2\n",
       "\\item[mass\\textbackslash{}\\_600] 3\n",
       "\\item[mass\\textbackslash{}\\_700] 4\n",
       "\\item[mass\\textbackslash{}\\_800] 5\n",
       "\\end{description*}\n"
      ],
      "text/markdown": [
       "mass_400\n",
       ":   1mass_500\n",
       ":   2mass_600\n",
       ":   3mass_700\n",
       ":   4mass_800\n",
       ":   5\n",
       "\n"
      ],
      "text/plain": [
       "mass_400 mass_500 mass_600 mass_700 mass_800 \n",
       "       1        2        3        4        5 "
      ]
     },
     "metadata": {},
     "output_type": "display_data"
    },
    {
     "data": {
      "text/html": [
       "<table>\n",
       "<thead><tr><th></th><th scope=col>mass_400</th><th scope=col>mass_500</th><th scope=col>mass_600</th><th scope=col>mass_700</th><th scope=col>mass_800</th></tr></thead>\n",
       "<tbody>\n",
       "\t<tr><th scope=row>21</th><td>0.012129670</td><td>0.013573974</td><td>0.000245883</td><td>0.000000000</td><td>0.000000000</td></tr>\n",
       "\t<tr><th scope=row>22</th><td>0.007099116</td><td>0.008018595</td><td>0.000000000</td><td>0.000000000</td><td>0.000000000</td></tr>\n",
       "\t<tr><th scope=row>23</th><td>0.013326204</td><td>0.013746514</td><td>0.000070300</td><td>0.000000000</td><td>0.000000000</td></tr>\n",
       "\t<tr><th scope=row>24</th><td>0.012390649</td><td>0.013753808</td><td>0.000000000</td><td>0.000196759</td><td>0.000000000</td></tr>\n",
       "\t<tr><th scope=row>25</th><td>0.015575339</td><td>0.017183958</td><td>0.000181716</td><td>0.002146601</td><td>0.000137900</td></tr>\n",
       "\t<tr><th scope=row>26</th><td>0.007016621</td><td>0.006798712</td><td>0.000000000</td><td>0.000000000</td><td>0.000000000</td></tr>\n",
       "\t<tr><th scope=row>27</th><td>0.008655128</td><td>0.012179072</td><td>0.000107000</td><td>0.000000000</td><td>0.000000000</td></tr>\n",
       "\t<tr><th scope=row>28</th><td>0.010200587</td><td>0.012376714</td><td>0.000127000</td><td>0.001075769</td><td>0.000328818</td></tr>\n",
       "\t<tr><th scope=row>29</th><td>0.007281539</td><td>0.008793280</td><td>0.000054400</td><td>0.000000000</td><td>0.000000000</td></tr>\n",
       "\t<tr><th scope=row>30</th><td>0.006160375</td><td>0.007374431</td><td>0.000000000</td><td>0.000000000</td><td>0.000000000</td></tr>\n",
       "\t<tr><th scope=row>36</th><td>0.008621274</td><td>0.008092385</td><td>0.000000000</td><td>0.000000000</td><td>0.000000000</td></tr>\n",
       "\t<tr><th scope=row>37</th><td>0.010180627</td><td>0.009377714</td><td>0.000000000</td><td>0.000287882</td><td>0.000070100</td></tr>\n",
       "\t<tr><th scope=row>38</th><td>0.007911947</td><td>0.006524352</td><td>0.000000000</td><td>0.001248448</td><td>0.000000000</td></tr>\n",
       "\t<tr><th scope=row>39</th><td>0.014161640</td><td>0.012498052</td><td>0.000000000</td><td>0.000000000</td><td>0.000000000</td></tr>\n",
       "\t<tr><th scope=row>40</th><td>0.013532414</td><td>0.014304590</td><td>0.000000000</td><td>0.000000000</td><td>0.000000000</td></tr>\n",
       "\t<tr><th scope=row>41</th><td>0.016965821</td><td>0.020466452</td><td>0.000646380</td><td>0.000000000</td><td>0.000000000</td></tr>\n",
       "\t<tr><th scope=row>42</th><td>0.010733080</td><td>0.012014997</td><td>0.000061600</td><td>0.000000000</td><td>0.000000000</td></tr>\n",
       "\t<tr><th scope=row>43</th><td>0.014516474</td><td>0.019125070</td><td>0.000307490</td><td>0.000769437</td><td>0.000000000</td></tr>\n",
       "\t<tr><th scope=row>44</th><td>0.009278756</td><td>0.011863596</td><td>0.000000000</td><td>0.000000000</td><td>0.000000000</td></tr>\n",
       "\t<tr><th scope=row>45</th><td>0.013203201</td><td>0.017329112</td><td>0.000352713</td><td>0.000000000</td><td>0.000000000</td></tr>\n",
       "\t<tr><th scope=row>51</th><td>0.013530458</td><td>0.016305127</td><td>0.000342764</td><td>0.000000000</td><td>0.000000000</td></tr>\n",
       "\t<tr><th scope=row>52</th><td>0.013709084</td><td>0.014937589</td><td>0.000000000</td><td>0.000000000</td><td>0.000000000</td></tr>\n",
       "\t<tr><th scope=row>53</th><td>0.018472864</td><td>0.018734498</td><td>0.000239839</td><td>0.001198684</td><td>0.000000000</td></tr>\n",
       "\t<tr><th scope=row>54</th><td>0.012474659</td><td>0.014241745</td><td>0.000108800</td><td>0.000000000</td><td>0.000000000</td></tr>\n",
       "\t<tr><th scope=row>55</th><td>0.012858030</td><td>0.013198733</td><td>0.000141538</td><td>0.001638144</td><td>0.000185401</td></tr>\n",
       "\t<tr><th scope=row>56</th><td>0.011769697</td><td>0.015771994</td><td>0.000183612</td><td>0.000000000</td><td>0.000000000</td></tr>\n",
       "\t<tr><th scope=row>57</th><td>0.014225184</td><td>0.018622006</td><td>0.000243862</td><td>0.001152529</td><td>0.000000000</td></tr>\n",
       "\t<tr><th scope=row>58</th><td>0.014001479</td><td>0.017511573</td><td>0.000000000</td><td>0.000000000</td><td>0.000000000</td></tr>\n",
       "\t<tr><th scope=row>59</th><td>0.017526422</td><td>0.019851383</td><td>0.000306624</td><td>0.000000000</td><td>0.000000000</td></tr>\n",
       "\t<tr><th scope=row>60</th><td>0.017541619</td><td>0.024772188</td><td>0.000447064</td><td>0.001088230</td><td>0.000000000</td></tr>\n",
       "</tbody>\n",
       "</table>\n"
      ],
      "text/latex": [
       "\\begin{tabular}{r|lllll}\n",
       "  & mass\\_400 & mass\\_500 & mass\\_600 & mass\\_700 & mass\\_800\\\\\n",
       "\\hline\n",
       "\t21 & 0.012129670 & 0.013573974 & 0.000245883 & 0.000000000 & 0.000000000\\\\\n",
       "\t22 & 0.007099116 & 0.008018595 & 0.000000000 & 0.000000000 & 0.000000000\\\\\n",
       "\t23 & 0.013326204 & 0.013746514 & 0.000070300 & 0.000000000 & 0.000000000\\\\\n",
       "\t24 & 0.012390649 & 0.013753808 & 0.000000000 & 0.000196759 & 0.000000000\\\\\n",
       "\t25 & 0.015575339 & 0.017183958 & 0.000181716 & 0.002146601 & 0.000137900\\\\\n",
       "\t26 & 0.007016621 & 0.006798712 & 0.000000000 & 0.000000000 & 0.000000000\\\\\n",
       "\t27 & 0.008655128 & 0.012179072 & 0.000107000 & 0.000000000 & 0.000000000\\\\\n",
       "\t28 & 0.010200587 & 0.012376714 & 0.000127000 & 0.001075769 & 0.000328818\\\\\n",
       "\t29 & 0.007281539 & 0.008793280 & 0.000054400 & 0.000000000 & 0.000000000\\\\\n",
       "\t30 & 0.006160375 & 0.007374431 & 0.000000000 & 0.000000000 & 0.000000000\\\\\n",
       "\t36 & 0.008621274 & 0.008092385 & 0.000000000 & 0.000000000 & 0.000000000\\\\\n",
       "\t37 & 0.010180627 & 0.009377714 & 0.000000000 & 0.000287882 & 0.000070100\\\\\n",
       "\t38 & 0.007911947 & 0.006524352 & 0.000000000 & 0.001248448 & 0.000000000\\\\\n",
       "\t39 & 0.014161640 & 0.012498052 & 0.000000000 & 0.000000000 & 0.000000000\\\\\n",
       "\t40 & 0.013532414 & 0.014304590 & 0.000000000 & 0.000000000 & 0.000000000\\\\\n",
       "\t41 & 0.016965821 & 0.020466452 & 0.000646380 & 0.000000000 & 0.000000000\\\\\n",
       "\t42 & 0.010733080 & 0.012014997 & 0.000061600 & 0.000000000 & 0.000000000\\\\\n",
       "\t43 & 0.014516474 & 0.019125070 & 0.000307490 & 0.000769437 & 0.000000000\\\\\n",
       "\t44 & 0.009278756 & 0.011863596 & 0.000000000 & 0.000000000 & 0.000000000\\\\\n",
       "\t45 & 0.013203201 & 0.017329112 & 0.000352713 & 0.000000000 & 0.000000000\\\\\n",
       "\t51 & 0.013530458 & 0.016305127 & 0.000342764 & 0.000000000 & 0.000000000\\\\\n",
       "\t52 & 0.013709084 & 0.014937589 & 0.000000000 & 0.000000000 & 0.000000000\\\\\n",
       "\t53 & 0.018472864 & 0.018734498 & 0.000239839 & 0.001198684 & 0.000000000\\\\\n",
       "\t54 & 0.012474659 & 0.014241745 & 0.000108800 & 0.000000000 & 0.000000000\\\\\n",
       "\t55 & 0.012858030 & 0.013198733 & 0.000141538 & 0.001638144 & 0.000185401\\\\\n",
       "\t56 & 0.011769697 & 0.015771994 & 0.000183612 & 0.000000000 & 0.000000000\\\\\n",
       "\t57 & 0.014225184 & 0.018622006 & 0.000243862 & 0.001152529 & 0.000000000\\\\\n",
       "\t58 & 0.014001479 & 0.017511573 & 0.000000000 & 0.000000000 & 0.000000000\\\\\n",
       "\t59 & 0.017526422 & 0.019851383 & 0.000306624 & 0.000000000 & 0.000000000\\\\\n",
       "\t60 & 0.017541619 & 0.024772188 & 0.000447064 & 0.001088230 & 0.000000000\\\\\n",
       "\\end{tabular}\n"
      ],
      "text/markdown": [
       "\n",
       "| <!--/--> | mass_400 | mass_500 | mass_600 | mass_700 | mass_800 |\n",
       "|---|---|---|---|---|---|\n",
       "| 21 | 0.012129670 | 0.013573974 | 0.000245883 | 0.000000000 | 0.000000000 |\n",
       "| 22 | 0.007099116 | 0.008018595 | 0.000000000 | 0.000000000 | 0.000000000 |\n",
       "| 23 | 0.013326204 | 0.013746514 | 0.000070300 | 0.000000000 | 0.000000000 |\n",
       "| 24 | 0.012390649 | 0.013753808 | 0.000000000 | 0.000196759 | 0.000000000 |\n",
       "| 25 | 0.015575339 | 0.017183958 | 0.000181716 | 0.002146601 | 0.000137900 |\n",
       "| 26 | 0.007016621 | 0.006798712 | 0.000000000 | 0.000000000 | 0.000000000 |\n",
       "| 27 | 0.008655128 | 0.012179072 | 0.000107000 | 0.000000000 | 0.000000000 |\n",
       "| 28 | 0.010200587 | 0.012376714 | 0.000127000 | 0.001075769 | 0.000328818 |\n",
       "| 29 | 0.007281539 | 0.008793280 | 0.000054400 | 0.000000000 | 0.000000000 |\n",
       "| 30 | 0.006160375 | 0.007374431 | 0.000000000 | 0.000000000 | 0.000000000 |\n",
       "| 36 | 0.008621274 | 0.008092385 | 0.000000000 | 0.000000000 | 0.000000000 |\n",
       "| 37 | 0.010180627 | 0.009377714 | 0.000000000 | 0.000287882 | 0.000070100 |\n",
       "| 38 | 0.007911947 | 0.006524352 | 0.000000000 | 0.001248448 | 0.000000000 |\n",
       "| 39 | 0.014161640 | 0.012498052 | 0.000000000 | 0.000000000 | 0.000000000 |\n",
       "| 40 | 0.013532414 | 0.014304590 | 0.000000000 | 0.000000000 | 0.000000000 |\n",
       "| 41 | 0.016965821 | 0.020466452 | 0.000646380 | 0.000000000 | 0.000000000 |\n",
       "| 42 | 0.010733080 | 0.012014997 | 0.000061600 | 0.000000000 | 0.000000000 |\n",
       "| 43 | 0.014516474 | 0.019125070 | 0.000307490 | 0.000769437 | 0.000000000 |\n",
       "| 44 | 0.009278756 | 0.011863596 | 0.000000000 | 0.000000000 | 0.000000000 |\n",
       "| 45 | 0.013203201 | 0.017329112 | 0.000352713 | 0.000000000 | 0.000000000 |\n",
       "| 51 | 0.013530458 | 0.016305127 | 0.000342764 | 0.000000000 | 0.000000000 |\n",
       "| 52 | 0.013709084 | 0.014937589 | 0.000000000 | 0.000000000 | 0.000000000 |\n",
       "| 53 | 0.018472864 | 0.018734498 | 0.000239839 | 0.001198684 | 0.000000000 |\n",
       "| 54 | 0.012474659 | 0.014241745 | 0.000108800 | 0.000000000 | 0.000000000 |\n",
       "| 55 | 0.012858030 | 0.013198733 | 0.000141538 | 0.001638144 | 0.000185401 |\n",
       "| 56 | 0.011769697 | 0.015771994 | 0.000183612 | 0.000000000 | 0.000000000 |\n",
       "| 57 | 0.014225184 | 0.018622006 | 0.000243862 | 0.001152529 | 0.000000000 |\n",
       "| 58 | 0.014001479 | 0.017511573 | 0.000000000 | 0.000000000 | 0.000000000 |\n",
       "| 59 | 0.017526422 | 0.019851383 | 0.000306624 | 0.000000000 | 0.000000000 |\n",
       "| 60 | 0.017541619 | 0.024772188 | 0.000447064 | 0.001088230 | 0.000000000 |\n",
       "\n"
      ],
      "text/plain": [
       "   mass_400    mass_500    mass_600    mass_700    mass_800   \n",
       "21 0.012129670 0.013573974 0.000245883 0.000000000 0.000000000\n",
       "22 0.007099116 0.008018595 0.000000000 0.000000000 0.000000000\n",
       "23 0.013326204 0.013746514 0.000070300 0.000000000 0.000000000\n",
       "24 0.012390649 0.013753808 0.000000000 0.000196759 0.000000000\n",
       "25 0.015575339 0.017183958 0.000181716 0.002146601 0.000137900\n",
       "26 0.007016621 0.006798712 0.000000000 0.000000000 0.000000000\n",
       "27 0.008655128 0.012179072 0.000107000 0.000000000 0.000000000\n",
       "28 0.010200587 0.012376714 0.000127000 0.001075769 0.000328818\n",
       "29 0.007281539 0.008793280 0.000054400 0.000000000 0.000000000\n",
       "30 0.006160375 0.007374431 0.000000000 0.000000000 0.000000000\n",
       "36 0.008621274 0.008092385 0.000000000 0.000000000 0.000000000\n",
       "37 0.010180627 0.009377714 0.000000000 0.000287882 0.000070100\n",
       "38 0.007911947 0.006524352 0.000000000 0.001248448 0.000000000\n",
       "39 0.014161640 0.012498052 0.000000000 0.000000000 0.000000000\n",
       "40 0.013532414 0.014304590 0.000000000 0.000000000 0.000000000\n",
       "41 0.016965821 0.020466452 0.000646380 0.000000000 0.000000000\n",
       "42 0.010733080 0.012014997 0.000061600 0.000000000 0.000000000\n",
       "43 0.014516474 0.019125070 0.000307490 0.000769437 0.000000000\n",
       "44 0.009278756 0.011863596 0.000000000 0.000000000 0.000000000\n",
       "45 0.013203201 0.017329112 0.000352713 0.000000000 0.000000000\n",
       "51 0.013530458 0.016305127 0.000342764 0.000000000 0.000000000\n",
       "52 0.013709084 0.014937589 0.000000000 0.000000000 0.000000000\n",
       "53 0.018472864 0.018734498 0.000239839 0.001198684 0.000000000\n",
       "54 0.012474659 0.014241745 0.000108800 0.000000000 0.000000000\n",
       "55 0.012858030 0.013198733 0.000141538 0.001638144 0.000185401\n",
       "56 0.011769697 0.015771994 0.000183612 0.000000000 0.000000000\n",
       "57 0.014225184 0.018622006 0.000243862 0.001152529 0.000000000\n",
       "58 0.014001479 0.017511573 0.000000000 0.000000000 0.000000000\n",
       "59 0.017526422 0.019851383 0.000306624 0.000000000 0.000000000\n",
       "60 0.017541619 0.024772188 0.000447064 0.001088230 0.000000000"
      ]
     },
     "metadata": {},
     "output_type": "display_data"
    },
    {
     "data": {
      "text/html": [
       "<table>\n",
       "<thead><tr><th></th><th scope=col>filename</th><th scope=col>MouseID</th><th scope=col>Treatmentgroup</th><th scope=col>DPI</th><th scope=col>organ</th><th scope=col>well_position</th><th scope=col>plate</th><th scope=col>mass_400</th><th scope=col>mass_500</th><th scope=col>mass_600</th><th scope=col>mass_700</th><th scope=col>mass_800</th></tr></thead>\n",
       "<tbody>\n",
       "\t<tr><th scope=row>21</th><td>X611_Group9_142dpi_RV_bottom_181_G_B9_P140.mzXML </td><td>611                                              </td><td>combo                                            </td><td>142dpi                                           </td><td>RV_bottom                                        </td><td>B9                                               </td><td>P140                                             </td><td>0.012129670                                      </td><td>0.013573974                                      </td><td>0.000245883                                      </td><td>0.000000000                                      </td><td>0.0000000                                        </td></tr>\n",
       "\t<tr><th scope=row>22</th><td>X612_Group9_142dpi_RV_bottom_182_G_B10_P140.mzXML</td><td>612                                              </td><td>combo                                            </td><td>142dpi                                           </td><td>RV_bottom                                        </td><td>B10                                              </td><td>P140                                             </td><td>0.007099116                                      </td><td>0.008018595                                      </td><td>0.000000000                                      </td><td>0.000000000                                      </td><td>0.0000000                                        </td></tr>\n",
       "\t<tr><th scope=row>23</th><td>X613_Group9_142dpi_RV_bottom_183_G_B11_P140.mzXML</td><td>613                                              </td><td>combo                                            </td><td>142dpi                                           </td><td>RV_bottom                                        </td><td>B11                                              </td><td>P140                                             </td><td>0.013326204                                      </td><td>0.013746514                                      </td><td>0.000070300                                      </td><td>0.000000000                                      </td><td>0.0000000                                        </td></tr>\n",
       "\t<tr><th scope=row>24</th><td>X614_Group9_142dpi_RV_bottom_184_G_B12_P140.mzXML</td><td>614                                              </td><td>combo                                            </td><td>142dpi                                           </td><td>RV_bottom                                        </td><td>B12                                              </td><td>P140                                             </td><td>0.012390649                                      </td><td>0.013753808                                      </td><td>0.000000000                                      </td><td>0.000196759                                      </td><td>0.0000000                                        </td></tr>\n",
       "\t<tr><th scope=row>25</th><td>X615_Group9_142dpi_RV_bottom_185_G_C1_P140.mzXML </td><td>615                                              </td><td>combo                                            </td><td>142dpi                                           </td><td>RV_bottom                                        </td><td>C1                                               </td><td>P140                                             </td><td>0.015575339                                      </td><td>0.017183958                                      </td><td>0.000181716                                      </td><td>0.002146601                                      </td><td>0.0001379                                        </td></tr>\n",
       "\t<tr><th scope=row>26</th><td>X631_Group15_142dpi_RV_bottom_191_G_C7_P140.mzXML</td><td>631                                              </td><td>BNZ                                              </td><td>142dpi                                           </td><td>RV_bottom                                        </td><td>C7                                               </td><td>P140                                             </td><td>0.007016621                                      </td><td>0.006798712                                      </td><td>0.000000000                                      </td><td>0.000000000                                      </td><td>0.0000000                                        </td></tr>\n",
       "</tbody>\n",
       "</table>\n"
      ],
      "text/latex": [
       "\\begin{tabular}{r|llllllllllll}\n",
       "  & filename & MouseID & Treatmentgroup & DPI & organ & well\\_position & plate & mass\\_400 & mass\\_500 & mass\\_600 & mass\\_700 & mass\\_800\\\\\n",
       "\\hline\n",
       "\t21 & X611\\_Group9\\_142dpi\\_RV\\_bottom\\_181\\_G\\_B9\\_P140.mzXML  & 611                                                               & combo                                                             & 142dpi                                                            & RV\\_bottom                                                       & B9                                                                & P140                                                              & 0.012129670                                                       & 0.013573974                                                       & 0.000245883                                                       & 0.000000000                                                       & 0.0000000                                                        \\\\\n",
       "\t22 & X612\\_Group9\\_142dpi\\_RV\\_bottom\\_182\\_G\\_B10\\_P140.mzXML & 612                                                               & combo                                                             & 142dpi                                                            & RV\\_bottom                                                       & B10                                                               & P140                                                              & 0.007099116                                                       & 0.008018595                                                       & 0.000000000                                                       & 0.000000000                                                       & 0.0000000                                                        \\\\\n",
       "\t23 & X613\\_Group9\\_142dpi\\_RV\\_bottom\\_183\\_G\\_B11\\_P140.mzXML & 613                                                               & combo                                                             & 142dpi                                                            & RV\\_bottom                                                       & B11                                                               & P140                                                              & 0.013326204                                                       & 0.013746514                                                       & 0.000070300                                                       & 0.000000000                                                       & 0.0000000                                                        \\\\\n",
       "\t24 & X614\\_Group9\\_142dpi\\_RV\\_bottom\\_184\\_G\\_B12\\_P140.mzXML & 614                                                               & combo                                                             & 142dpi                                                            & RV\\_bottom                                                       & B12                                                               & P140                                                              & 0.012390649                                                       & 0.013753808                                                       & 0.000000000                                                       & 0.000196759                                                       & 0.0000000                                                        \\\\\n",
       "\t25 & X615\\_Group9\\_142dpi\\_RV\\_bottom\\_185\\_G\\_C1\\_P140.mzXML  & 615                                                               & combo                                                             & 142dpi                                                            & RV\\_bottom                                                       & C1                                                                & P140                                                              & 0.015575339                                                       & 0.017183958                                                       & 0.000181716                                                       & 0.002146601                                                       & 0.0001379                                                        \\\\\n",
       "\t26 & X631\\_Group15\\_142dpi\\_RV\\_bottom\\_191\\_G\\_C7\\_P140.mzXML & 631                                                               & BNZ                                                               & 142dpi                                                            & RV\\_bottom                                                       & C7                                                                & P140                                                              & 0.007016621                                                       & 0.006798712                                                       & 0.000000000                                                       & 0.000000000                                                       & 0.0000000                                                        \\\\\n",
       "\\end{tabular}\n"
      ],
      "text/markdown": [
       "\n",
       "| <!--/--> | filename | MouseID | Treatmentgroup | DPI | organ | well_position | plate | mass_400 | mass_500 | mass_600 | mass_700 | mass_800 |\n",
       "|---|---|---|---|---|---|---|---|---|---|---|---|---|\n",
       "| 21 | X611_Group9_142dpi_RV_bottom_181_G_B9_P140.mzXML  | 611                                               | combo                                             | 142dpi                                            | RV_bottom                                         | B9                                                | P140                                              | 0.012129670                                       | 0.013573974                                       | 0.000245883                                       | 0.000000000                                       | 0.0000000                                         |\n",
       "| 22 | X612_Group9_142dpi_RV_bottom_182_G_B10_P140.mzXML | 612                                               | combo                                             | 142dpi                                            | RV_bottom                                         | B10                                               | P140                                              | 0.007099116                                       | 0.008018595                                       | 0.000000000                                       | 0.000000000                                       | 0.0000000                                         |\n",
       "| 23 | X613_Group9_142dpi_RV_bottom_183_G_B11_P140.mzXML | 613                                               | combo                                             | 142dpi                                            | RV_bottom                                         | B11                                               | P140                                              | 0.013326204                                       | 0.013746514                                       | 0.000070300                                       | 0.000000000                                       | 0.0000000                                         |\n",
       "| 24 | X614_Group9_142dpi_RV_bottom_184_G_B12_P140.mzXML | 614                                               | combo                                             | 142dpi                                            | RV_bottom                                         | B12                                               | P140                                              | 0.012390649                                       | 0.013753808                                       | 0.000000000                                       | 0.000196759                                       | 0.0000000                                         |\n",
       "| 25 | X615_Group9_142dpi_RV_bottom_185_G_C1_P140.mzXML  | 615                                               | combo                                             | 142dpi                                            | RV_bottom                                         | C1                                                | P140                                              | 0.015575339                                       | 0.017183958                                       | 0.000181716                                       | 0.002146601                                       | 0.0001379                                         |\n",
       "| 26 | X631_Group15_142dpi_RV_bottom_191_G_C7_P140.mzXML | 631                                               | BNZ                                               | 142dpi                                            | RV_bottom                                         | C7                                                | P140                                              | 0.007016621                                       | 0.006798712                                       | 0.000000000                                       | 0.000000000                                       | 0.0000000                                         |\n",
       "\n"
      ],
      "text/plain": [
       "   filename                                          MouseID Treatmentgroup\n",
       "21 X611_Group9_142dpi_RV_bottom_181_G_B9_P140.mzXML  611     combo         \n",
       "22 X612_Group9_142dpi_RV_bottom_182_G_B10_P140.mzXML 612     combo         \n",
       "23 X613_Group9_142dpi_RV_bottom_183_G_B11_P140.mzXML 613     combo         \n",
       "24 X614_Group9_142dpi_RV_bottom_184_G_B12_P140.mzXML 614     combo         \n",
       "25 X615_Group9_142dpi_RV_bottom_185_G_C1_P140.mzXML  615     combo         \n",
       "26 X631_Group15_142dpi_RV_bottom_191_G_C7_P140.mzXML 631     BNZ           \n",
       "   DPI    organ     well_position plate mass_400    mass_500    mass_600   \n",
       "21 142dpi RV_bottom B9            P140  0.012129670 0.013573974 0.000245883\n",
       "22 142dpi RV_bottom B10           P140  0.007099116 0.008018595 0.000000000\n",
       "23 142dpi RV_bottom B11           P140  0.013326204 0.013746514 0.000070300\n",
       "24 142dpi RV_bottom B12           P140  0.012390649 0.013753808 0.000000000\n",
       "25 142dpi RV_bottom C1            P140  0.015575339 0.017183958 0.000181716\n",
       "26 142dpi RV_bottom C7            P140  0.007016621 0.006798712 0.000000000\n",
       "   mass_700    mass_800 \n",
       "21 0.000000000 0.0000000\n",
       "22 0.000000000 0.0000000\n",
       "23 0.000000000 0.0000000\n",
       "24 0.000196759 0.0000000\n",
       "25 0.002146601 0.0001379\n",
       "26 0.000000000 0.0000000"
      ]
     },
     "metadata": {},
     "output_type": "display_data"
    },
    {
     "data": {
      "text/html": [
       "<ol class=list-inline>\n",
       "\t<li>30</li>\n",
       "\t<li>12</li>\n",
       "</ol>\n"
      ],
      "text/latex": [
       "\\begin{enumerate*}\n",
       "\\item 30\n",
       "\\item 12\n",
       "\\end{enumerate*}\n"
      ],
      "text/markdown": [
       "1. 30\n",
       "2. 12\n",
       "\n",
       "\n"
      ],
      "text/plain": [
       "[1] 30 12"
      ]
     },
     "metadata": {},
     "output_type": "display_data"
    },
    {
     "data": {
      "text/html": [
       "<ol class=list-inline>\n",
       "\t<li>30</li>\n",
       "\t<li>5</li>\n",
       "</ol>\n"
      ],
      "text/latex": [
       "\\begin{enumerate*}\n",
       "\\item 30\n",
       "\\item 5\n",
       "\\end{enumerate*}\n"
      ],
      "text/markdown": [
       "1. 30\n",
       "2. 5\n",
       "\n",
       "\n"
      ],
      "text/plain": [
       "[1] 30  5"
      ]
     },
     "metadata": {},
     "output_type": "display_data"
    },
    {
     "data": {
      "text/html": [
       "<ol class=list-inline>\n",
       "\t<li>30</li>\n",
       "\t<li>5</li>\n",
       "</ol>\n"
      ],
      "text/latex": [
       "\\begin{enumerate*}\n",
       "\\item 30\n",
       "\\item 5\n",
       "\\end{enumerate*}\n"
      ],
      "text/markdown": [
       "1. 30\n",
       "2. 5\n",
       "\n",
       "\n"
      ],
      "text/plain": [
       "[1] 30  5"
      ]
     },
     "metadata": {},
     "output_type": "display_data"
    },
    {
     "data": {
      "text/html": [
       "<ol class=list-inline>\n",
       "\t<li>30</li>\n",
       "\t<li>12</li>\n",
       "</ol>\n"
      ],
      "text/latex": [
       "\\begin{enumerate*}\n",
       "\\item 30\n",
       "\\item 12\n",
       "\\end{enumerate*}\n"
      ],
      "text/markdown": [
       "1. 30\n",
       "2. 12\n",
       "\n",
       "\n"
      ],
      "text/plain": [
       "[1] 30 12"
      ]
     },
     "metadata": {},
     "output_type": "display_data"
    }
   ],
   "source": [
    "noMeta<-features_pos[,8:12]\n",
    "head(noMeta)\n",
    "not_zero<-which(colSums(noMeta) != 0)\n",
    "head(not_zero)\n",
    "nonzero <- noMeta[, not_zero]\n",
    "nonzero\n",
    "nonzero_wMeta<-cbind(features_pos[,1:7], nonzero)\n",
    "head(nonzero_wMeta)\n",
    "dim(features_pos)\n",
    "dim(noMeta)\n",
    "dim(nonzero)\n",
    "dim(nonzero_wMeta)"
   ]
  },
  {
   "cell_type": "code",
   "execution_count": 5,
   "metadata": {
    "scrolled": true
   },
   "outputs": [
    {
     "name": "stderr",
     "output_type": "stream",
     "text": [
      "Warning message in wilcox.test.default(x = c(0, 0.000107, 0.000127, 5.44e-05, 0, :\n",
      "\"cannot compute exact p-value with ties\"Warning message in wilcox.test.default(x = c(0, 0, 0.001075769, 0, 0, 0, 0, 0.000769437, :\n",
      "\"cannot compute exact p-value with ties\"Warning message in wilcox.test.default(x = c(0, 0, 0.000328818, 0, 0, 0, 0, 0, 0, :\n",
      "\"cannot compute exact p-value with ties\""
     ]
    },
    {
     "data": {
      "text/html": [
       "<ol class=list-inline>\n",
       "\t<li>0.838134776780856</li>\n",
       "\t<li>0.366875192434742</li>\n",
       "\t<li>0.122804504903596</li>\n",
       "\t<li>0.360471290802214</li>\n",
       "\t<li>0.361567459874719</li>\n",
       "</ol>\n"
      ],
      "text/latex": [
       "\\begin{enumerate*}\n",
       "\\item 0.838134776780856\n",
       "\\item 0.366875192434742\n",
       "\\item 0.122804504903596\n",
       "\\item 0.360471290802214\n",
       "\\item 0.361567459874719\n",
       "\\end{enumerate*}\n"
      ],
      "text/markdown": [
       "1. 0.838134776780856\n",
       "2. 0.366875192434742\n",
       "3. 0.122804504903596\n",
       "4. 0.360471290802214\n",
       "5. 0.361567459874719\n",
       "\n",
       "\n"
      ],
      "text/plain": [
       "[1] 0.8381348 0.3668752 0.1228045 0.3604713 0.3615675"
      ]
     },
     "metadata": {},
     "output_type": "display_data"
    },
    {
     "data": {
      "text/html": [
       "<ol class=list-inline>\n",
       "\t<li>0.838134776780856</li>\n",
       "\t<li>0.458593990543428</li>\n",
       "\t<li>0.458593990543428</li>\n",
       "\t<li>0.458593990543428</li>\n",
       "\t<li>0.458593990543428</li>\n",
       "</ol>\n"
      ],
      "text/latex": [
       "\\begin{enumerate*}\n",
       "\\item 0.838134776780856\n",
       "\\item 0.458593990543428\n",
       "\\item 0.458593990543428\n",
       "\\item 0.458593990543428\n",
       "\\item 0.458593990543428\n",
       "\\end{enumerate*}\n"
      ],
      "text/markdown": [
       "1. 0.838134776780856\n",
       "2. 0.458593990543428\n",
       "3. 0.458593990543428\n",
       "4. 0.458593990543428\n",
       "5. 0.458593990543428\n",
       "\n",
       "\n"
      ],
      "text/plain": [
       "[1] 0.8381348 0.4585940 0.4585940 0.4585940 0.4585940"
      ]
     },
     "metadata": {},
     "output_type": "display_data"
    }
   ],
   "source": [
    "pval<-c()\n",
    "\n",
    "for (i in 8:ncol(nonzero_wMeta)) \n",
    "pval<-c(pval,wilcox.test(nonzero_wMeta[,i]~nonzero_wMeta$Treatmentgroup)$p.value)\n",
    "head(pval)\n",
    "pAdj <- p.adjust(pval, method = c(\"fdr\"), n=length(pval)) \n",
    "head(pAdj) \n",
    "\n"
   ]
  },
  {
   "cell_type": "code",
   "execution_count": 6,
   "metadata": {
    "scrolled": true
   },
   "outputs": [
    {
     "data": {
      "text/html": [
       "5"
      ],
      "text/latex": [
       "5"
      ],
      "text/markdown": [
       "5"
      ],
      "text/plain": [
       "[1] 5"
      ]
     },
     "metadata": {},
     "output_type": "display_data"
    }
   ],
   "source": [
    "length(pval)"
   ]
  },
  {
   "cell_type": "code",
   "execution_count": 7,
   "metadata": {
    "scrolled": true
   },
   "outputs": [
    {
     "data": {
      "text/html": [
       "5"
      ],
      "text/latex": [
       "5"
      ],
      "text/markdown": [
       "5"
      ],
      "text/plain": [
       "[1] 5"
      ]
     },
     "metadata": {},
     "output_type": "display_data"
    }
   ],
   "source": [
    "length(pAdj)"
   ]
  },
  {
   "cell_type": "code",
   "execution_count": 8,
   "metadata": {},
   "outputs": [
    {
     "data": {
      "text/html": [
       "<ol class=list-inline>\n",
       "\t<li>2</li>\n",
       "\t<li>5</li>\n",
       "</ol>\n"
      ],
      "text/latex": [
       "\\begin{enumerate*}\n",
       "\\item 2\n",
       "\\item 5\n",
       "\\end{enumerate*}\n"
      ],
      "text/markdown": [
       "1. 2\n",
       "2. 5\n",
       "\n",
       "\n"
      ],
      "text/plain": [
       "[1] 2 5"
      ]
     },
     "metadata": {},
     "output_type": "display_data"
    },
    {
     "data": {
      "text/html": [
       "<table>\n",
       "<thead><tr><th></th><th scope=col>mass_400</th><th scope=col>mass_500</th><th scope=col>mass_600</th></tr></thead>\n",
       "<tbody>\n",
       "\t<tr><th scope=row>BNZ</th><td>0.01193840  </td><td>0.01499004  </td><td>1.891830e-04</td></tr>\n",
       "\t<tr><th scope=row>combo</th><td>0.01239827  </td><td>0.01296611  </td><td>8.872267e-05</td></tr>\n",
       "</tbody>\n",
       "</table>\n"
      ],
      "text/latex": [
       "\\begin{tabular}{r|lll}\n",
       "  & mass\\_400 & mass\\_500 & mass\\_600\\\\\n",
       "\\hline\n",
       "\tBNZ & 0.01193840   & 0.01499004   & 1.891830e-04\\\\\n",
       "\tcombo & 0.01239827   & 0.01296611   & 8.872267e-05\\\\\n",
       "\\end{tabular}\n"
      ],
      "text/markdown": [
       "\n",
       "| <!--/--> | mass_400 | mass_500 | mass_600 |\n",
       "|---|---|---|---|\n",
       "| BNZ | 0.01193840   | 0.01499004   | 1.891830e-04 |\n",
       "| combo | 0.01239827   | 0.01296611   | 8.872267e-05 |\n",
       "\n"
      ],
      "text/plain": [
       "      mass_400   mass_500   mass_600    \n",
       "BNZ   0.01193840 0.01499004 1.891830e-04\n",
       "combo 0.01239827 0.01296611 8.872267e-05"
      ]
     },
     "metadata": {},
     "output_type": "display_data"
    },
    {
     "data": {
      "text/html": [
       "<dl class=dl-horizontal>\n",
       "\t<dt>mass_400</dt>\n",
       "\t\t<dd>0.962908831733042</dd>\n",
       "\t<dt>mass_500</dt>\n",
       "\t\t<dd>1.15609384000548</dd>\n",
       "\t<dt>mass_600</dt>\n",
       "\t\t<dd>2.13229614378889</dd>\n",
       "\t<dt>mass_700</dt>\n",
       "\t\t<dd>0.608345723185734</dd>\n",
       "\t<dt>mass_800</dt>\n",
       "\t\t<dd>0.835834174290355</dd>\n",
       "</dl>\n"
      ],
      "text/latex": [
       "\\begin{description*}\n",
       "\\item[mass\\textbackslash{}\\_400] 0.962908831733042\n",
       "\\item[mass\\textbackslash{}\\_500] 1.15609384000548\n",
       "\\item[mass\\textbackslash{}\\_600] 2.13229614378889\n",
       "\\item[mass\\textbackslash{}\\_700] 0.608345723185734\n",
       "\\item[mass\\textbackslash{}\\_800] 0.835834174290355\n",
       "\\end{description*}\n"
      ],
      "text/markdown": [
       "mass_400\n",
       ":   0.962908831733042mass_500\n",
       ":   1.15609384000548mass_600\n",
       ":   2.13229614378889mass_700\n",
       ":   0.608345723185734mass_800\n",
       ":   0.835834174290355\n",
       "\n"
      ],
      "text/plain": [
       " mass_400  mass_500  mass_600  mass_700  mass_800 \n",
       "0.9629088 1.1560938 2.1322961 0.6083457 0.8358342 "
      ]
     },
     "metadata": {},
     "output_type": "display_data"
    },
    {
     "data": {
      "text/html": [
       "<ol class=list-inline>\n",
       "\t<li>'numeric'</li>\n",
       "\t<li>'vector'</li>\n",
       "</ol>\n"
      ],
      "text/latex": [
       "\\begin{enumerate*}\n",
       "\\item 'numeric'\n",
       "\\item 'vector'\n",
       "\\end{enumerate*}\n"
      ],
      "text/markdown": [
       "1. 'numeric'\n",
       "2. 'vector'\n",
       "\n",
       "\n"
      ],
      "text/plain": [
       "[1] \"numeric\" \"vector\" "
      ]
     },
     "metadata": {},
     "output_type": "display_data"
    }
   ],
   "source": [
    "avg<- apply(nonzero_wMeta[,8:ncol(nonzero_wMeta)], 2, function(x) tapply(x, nonzero_wMeta$Treatmentgroup, function(x) mean(x))) \n",
    "\n",
    "dim(avg)\n",
    "\n",
    "avg[,1:3]\n",
    "\n",
    "fch <- apply(avg, 2, function(x) x[1]/x[2])\n",
    "\n",
    "head(fch)\n",
    "is(fch)"
   ]
  },
  {
   "cell_type": "code",
   "execution_count": 9,
   "metadata": {
    "scrolled": true
   },
   "outputs": [
    {
     "data": {
      "text/html": [
       "<dl class=dl-horizontal>\n",
       "\t<dt>mass_400</dt>\n",
       "\t\t<dd>0.962908831733042</dd>\n",
       "\t<dt>mass_500</dt>\n",
       "\t\t<dd>1.15609384000548</dd>\n",
       "\t<dt>mass_600</dt>\n",
       "\t\t<dd>2.13229614378889</dd>\n",
       "\t<dt>mass_700</dt>\n",
       "\t\t<dd>0.608345723185734</dd>\n",
       "\t<dt>mass_800</dt>\n",
       "\t\t<dd>0.835834174290355</dd>\n",
       "</dl>\n"
      ],
      "text/latex": [
       "\\begin{description*}\n",
       "\\item[mass\\textbackslash{}\\_400] 0.962908831733042\n",
       "\\item[mass\\textbackslash{}\\_500] 1.15609384000548\n",
       "\\item[mass\\textbackslash{}\\_600] 2.13229614378889\n",
       "\\item[mass\\textbackslash{}\\_700] 0.608345723185734\n",
       "\\item[mass\\textbackslash{}\\_800] 0.835834174290355\n",
       "\\end{description*}\n"
      ],
      "text/markdown": [
       "mass_400\n",
       ":   0.962908831733042mass_500\n",
       ":   1.15609384000548mass_600\n",
       ":   2.13229614378889mass_700\n",
       ":   0.608345723185734mass_800\n",
       ":   0.835834174290355\n",
       "\n"
      ],
      "text/plain": [
       " mass_400  mass_500  mass_600  mass_700  mass_800 \n",
       "0.9629088 1.1560938 2.1322961 0.6083457 0.8358342 "
      ]
     },
     "metadata": {},
     "output_type": "display_data"
    }
   ],
   "source": [
    "fch"
   ]
  },
  {
   "cell_type": "code",
   "execution_count": 10,
   "metadata": {
    "scrolled": false
   },
   "outputs": [],
   "source": [
    "df <- data.frame(fch,pval, pAdj)\n",
    "write.csv(df, \"PC-treat-RVB-wilcox-combo-BNZ.csv\")"
   ]
  },
  {
   "cell_type": "code",
   "execution_count": null,
   "metadata": {},
   "outputs": [],
   "source": []
  },
  {
   "cell_type": "code",
   "execution_count": null,
   "metadata": {},
   "outputs": [],
   "source": []
  },
  {
   "cell_type": "code",
   "execution_count": null,
   "metadata": {},
   "outputs": [],
   "source": []
  },
  {
   "cell_type": "code",
   "execution_count": null,
   "metadata": {},
   "outputs": [],
   "source": []
  },
  {
   "cell_type": "code",
   "execution_count": null,
   "metadata": {},
   "outputs": [],
   "source": []
  },
  {
   "cell_type": "code",
   "execution_count": null,
   "metadata": {},
   "outputs": [],
   "source": []
  }
 ],
 "metadata": {
  "kernelspec": {
   "display_name": "R",
   "language": "R",
   "name": "ir"
  },
  "language_info": {
   "codemirror_mode": "r",
   "file_extension": ".r",
   "mimetype": "text/x-r-source",
   "name": "R",
   "pygments_lexer": "r",
   "version": "3.6.1"
  }
 },
 "nbformat": 4,
 "nbformat_minor": 2
}
