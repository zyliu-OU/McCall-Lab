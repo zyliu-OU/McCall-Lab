{
 "cells": [
  {
   "cell_type": "code",
   "execution_count": 1,
   "metadata": {},
   "outputs": [],
   "source": [
    "a <- read.csv(\"03172021-PC-time-RVB-M-F.csv\")"
   ]
  },
  {
   "cell_type": "code",
   "execution_count": 2,
   "metadata": {},
   "outputs": [
    {
     "data": {
      "text/html": [
       "<table>\n",
       "<thead><tr><th scope=col>filename</th><th scope=col>MouseID</th><th scope=col>Treatmentgroup</th><th scope=col>status</th><th scope=col>DPI</th><th scope=col>organ</th><th scope=col>well_position</th><th scope=col>plate</th><th scope=col>mass_400</th><th scope=col>mass_500</th><th scope=col>mass_600</th><th scope=col>mass_700</th><th scope=col>mass_800</th></tr></thead>\n",
       "<tbody>\n",
       "\t<tr><td>X501_Group1A_50dpi_RV_bottom_251_B_A1_P141.mzXML</td><td>501                                             </td><td>Group1A                                         </td><td>naive                                           </td><td>50                                              </td><td>RV_bottom                                       </td><td>A1                                              </td><td>P141                                            </td><td>0.04342834                                      </td><td>0.05497415                                      </td><td>0.000742324                                     </td><td>0.000115581                                     </td><td>0.000597756                                     </td></tr>\n",
       "\t<tr><td>X502_Group1A_50dpi_RV_bottom_252_B_A2_P141.mzXML</td><td>502                                             </td><td>Group1A                                         </td><td>naive                                           </td><td>50                                              </td><td>RV_bottom                                       </td><td>A2                                              </td><td>P141                                            </td><td>0.05003989                                      </td><td>0.10118145                                      </td><td>0.002446450                                     </td><td>0.013312979                                     </td><td>0.022775175                                     </td></tr>\n",
       "\t<tr><td>X503_Group1A_50dpi_RV_bottom_253_B_A3_P141.mzXML</td><td>503                                             </td><td>Group1A                                         </td><td>naive                                           </td><td>50                                              </td><td>RV_bottom                                       </td><td>A3                                              </td><td>P141                                            </td><td>0.04139114                                      </td><td>0.05226797                                      </td><td>0.001007878                                     </td><td>0.031294605                                     </td><td>0.009746465                                     </td></tr>\n",
       "\t<tr><td>X504_Group1A_50dpi_RV_bottom_254_B_A4_P141.mzXML</td><td>504                                             </td><td>Group1A                                         </td><td>naive                                           </td><td>50                                              </td><td>RV_bottom                                       </td><td>A4                                              </td><td>P141                                            </td><td>0.03348274                                      </td><td>0.04018528                                      </td><td>0.001037871                                     </td><td>0.002241342                                     </td><td>0.002011229                                     </td></tr>\n",
       "\t<tr><td>X505_Group1A_50dpi_RV_bottom_255_B_A5_P141.mzXML</td><td>505                                             </td><td>Group1A                                         </td><td>naive                                           </td><td>50                                              </td><td>RV_bottom                                       </td><td>A5                                              </td><td>P141                                            </td><td>0.02243459                                      </td><td>0.02839092                                      </td><td>0.000746064                                     </td><td>0.003137893                                     </td><td>0.001178689                                     </td></tr>\n",
       "\t<tr><td>X521_Group1A_50dpi_RV_bottom_256_B_A6_P141.mzXML</td><td>521                                             </td><td>Group1A                                         </td><td>naive                                           </td><td>50                                              </td><td>RV_bottom                                       </td><td>A6                                              </td><td>P141                                            </td><td>0.02619174                                      </td><td>0.02800588                                      </td><td>0.000681100                                     </td><td>0.000826693                                     </td><td>0.000861809                                     </td></tr>\n",
       "</tbody>\n",
       "</table>\n"
      ],
      "text/latex": [
       "\\begin{tabular}{r|lllllllllllll}\n",
       " filename & MouseID & Treatmentgroup & status & DPI & organ & well\\_position & plate & mass\\_400 & mass\\_500 & mass\\_600 & mass\\_700 & mass\\_800\\\\\n",
       "\\hline\n",
       "\t X501\\_Group1A\\_50dpi\\_RV\\_bottom\\_251\\_B\\_A1\\_P141.mzXML & 501                                                              & Group1A                                                          & naive                                                            & 50                                                               & RV\\_bottom                                                      & A1                                                               & P141                                                             & 0.04342834                                                       & 0.05497415                                                       & 0.000742324                                                      & 0.000115581                                                      & 0.000597756                                                     \\\\\n",
       "\t X502\\_Group1A\\_50dpi\\_RV\\_bottom\\_252\\_B\\_A2\\_P141.mzXML & 502                                                              & Group1A                                                          & naive                                                            & 50                                                               & RV\\_bottom                                                      & A2                                                               & P141                                                             & 0.05003989                                                       & 0.10118145                                                       & 0.002446450                                                      & 0.013312979                                                      & 0.022775175                                                     \\\\\n",
       "\t X503\\_Group1A\\_50dpi\\_RV\\_bottom\\_253\\_B\\_A3\\_P141.mzXML & 503                                                              & Group1A                                                          & naive                                                            & 50                                                               & RV\\_bottom                                                      & A3                                                               & P141                                                             & 0.04139114                                                       & 0.05226797                                                       & 0.001007878                                                      & 0.031294605                                                      & 0.009746465                                                     \\\\\n",
       "\t X504\\_Group1A\\_50dpi\\_RV\\_bottom\\_254\\_B\\_A4\\_P141.mzXML & 504                                                              & Group1A                                                          & naive                                                            & 50                                                               & RV\\_bottom                                                      & A4                                                               & P141                                                             & 0.03348274                                                       & 0.04018528                                                       & 0.001037871                                                      & 0.002241342                                                      & 0.002011229                                                     \\\\\n",
       "\t X505\\_Group1A\\_50dpi\\_RV\\_bottom\\_255\\_B\\_A5\\_P141.mzXML & 505                                                              & Group1A                                                          & naive                                                            & 50                                                               & RV\\_bottom                                                      & A5                                                               & P141                                                             & 0.02243459                                                       & 0.02839092                                                       & 0.000746064                                                      & 0.003137893                                                      & 0.001178689                                                     \\\\\n",
       "\t X521\\_Group1A\\_50dpi\\_RV\\_bottom\\_256\\_B\\_A6\\_P141.mzXML & 521                                                              & Group1A                                                          & naive                                                            & 50                                                               & RV\\_bottom                                                      & A6                                                               & P141                                                             & 0.02619174                                                       & 0.02800588                                                       & 0.000681100                                                      & 0.000826693                                                      & 0.000861809                                                     \\\\\n",
       "\\end{tabular}\n"
      ],
      "text/markdown": [
       "\n",
       "| filename | MouseID | Treatmentgroup | status | DPI | organ | well_position | plate | mass_400 | mass_500 | mass_600 | mass_700 | mass_800 |\n",
       "|---|---|---|---|---|---|---|---|---|---|---|---|---|\n",
       "| X501_Group1A_50dpi_RV_bottom_251_B_A1_P141.mzXML | 501                                              | Group1A                                          | naive                                            | 50                                               | RV_bottom                                        | A1                                               | P141                                             | 0.04342834                                       | 0.05497415                                       | 0.000742324                                      | 0.000115581                                      | 0.000597756                                      |\n",
       "| X502_Group1A_50dpi_RV_bottom_252_B_A2_P141.mzXML | 502                                              | Group1A                                          | naive                                            | 50                                               | RV_bottom                                        | A2                                               | P141                                             | 0.05003989                                       | 0.10118145                                       | 0.002446450                                      | 0.013312979                                      | 0.022775175                                      |\n",
       "| X503_Group1A_50dpi_RV_bottom_253_B_A3_P141.mzXML | 503                                              | Group1A                                          | naive                                            | 50                                               | RV_bottom                                        | A3                                               | P141                                             | 0.04139114                                       | 0.05226797                                       | 0.001007878                                      | 0.031294605                                      | 0.009746465                                      |\n",
       "| X504_Group1A_50dpi_RV_bottom_254_B_A4_P141.mzXML | 504                                              | Group1A                                          | naive                                            | 50                                               | RV_bottom                                        | A4                                               | P141                                             | 0.03348274                                       | 0.04018528                                       | 0.001037871                                      | 0.002241342                                      | 0.002011229                                      |\n",
       "| X505_Group1A_50dpi_RV_bottom_255_B_A5_P141.mzXML | 505                                              | Group1A                                          | naive                                            | 50                                               | RV_bottom                                        | A5                                               | P141                                             | 0.02243459                                       | 0.02839092                                       | 0.000746064                                      | 0.003137893                                      | 0.001178689                                      |\n",
       "| X521_Group1A_50dpi_RV_bottom_256_B_A6_P141.mzXML | 521                                              | Group1A                                          | naive                                            | 50                                               | RV_bottom                                        | A6                                               | P141                                             | 0.02619174                                       | 0.02800588                                       | 0.000681100                                      | 0.000826693                                      | 0.000861809                                      |\n",
       "\n"
      ],
      "text/plain": [
       "  filename                                         MouseID Treatmentgroup\n",
       "1 X501_Group1A_50dpi_RV_bottom_251_B_A1_P141.mzXML 501     Group1A       \n",
       "2 X502_Group1A_50dpi_RV_bottom_252_B_A2_P141.mzXML 502     Group1A       \n",
       "3 X503_Group1A_50dpi_RV_bottom_253_B_A3_P141.mzXML 503     Group1A       \n",
       "4 X504_Group1A_50dpi_RV_bottom_254_B_A4_P141.mzXML 504     Group1A       \n",
       "5 X505_Group1A_50dpi_RV_bottom_255_B_A5_P141.mzXML 505     Group1A       \n",
       "6 X521_Group1A_50dpi_RV_bottom_256_B_A6_P141.mzXML 521     Group1A       \n",
       "  status DPI organ     well_position plate mass_400   mass_500   mass_600   \n",
       "1 naive  50  RV_bottom A1            P141  0.04342834 0.05497415 0.000742324\n",
       "2 naive  50  RV_bottom A2            P141  0.05003989 0.10118145 0.002446450\n",
       "3 naive  50  RV_bottom A3            P141  0.04139114 0.05226797 0.001007878\n",
       "4 naive  50  RV_bottom A4            P141  0.03348274 0.04018528 0.001037871\n",
       "5 naive  50  RV_bottom A5            P141  0.02243459 0.02839092 0.000746064\n",
       "6 naive  50  RV_bottom A6            P141  0.02619174 0.02800588 0.000681100\n",
       "  mass_700    mass_800   \n",
       "1 0.000115581 0.000597756\n",
       "2 0.013312979 0.022775175\n",
       "3 0.031294605 0.009746465\n",
       "4 0.002241342 0.002011229\n",
       "5 0.003137893 0.001178689\n",
       "6 0.000826693 0.000861809"
      ]
     },
     "metadata": {},
     "output_type": "display_data"
    },
    {
     "data": {
      "text/html": [
       "<ol class=list-inline>\n",
       "\t<li>90</li>\n",
       "\t<li>13</li>\n",
       "</ol>\n"
      ],
      "text/latex": [
       "\\begin{enumerate*}\n",
       "\\item 90\n",
       "\\item 13\n",
       "\\end{enumerate*}\n"
      ],
      "text/markdown": [
       "1. 90\n",
       "2. 13\n",
       "\n",
       "\n"
      ],
      "text/plain": [
       "[1] 90 13"
      ]
     },
     "metadata": {},
     "output_type": "display_data"
    }
   ],
   "source": [
    "head(a)\n",
    "dim(a)"
   ]
  },
  {
   "cell_type": "code",
   "execution_count": 3,
   "metadata": {},
   "outputs": [
    {
     "data": {
      "text/html": [
       "<table>\n",
       "<thead><tr><th></th><th scope=col>filename</th><th scope=col>MouseID</th><th scope=col>Treatmentgroup</th><th scope=col>status</th><th scope=col>DPI</th><th scope=col>organ</th><th scope=col>well_position</th><th scope=col>plate</th><th scope=col>mass_400</th><th scope=col>mass_500</th><th scope=col>mass_600</th><th scope=col>mass_700</th><th scope=col>mass_800</th></tr></thead>\n",
       "<tbody>\n",
       "\t<tr><th scope=row>31</th><td>X511_Group1C_142dpi_RV_bottom_161_G_A1_P140.mzXML</td><td>511                                              </td><td>Group1C                                          </td><td>naive                                            </td><td>142                                              </td><td>RV_bottom                                        </td><td>A1                                               </td><td>P140                                             </td><td>0.01070250                                       </td><td>0.01878444                                       </td><td>0.000000000                                      </td><td>0.000000000                                      </td><td>0.000000000                                      </td></tr>\n",
       "\t<tr><th scope=row>32</th><td>X512_Group1C_142dpi_RV_bottom_162_G_A2_P140.mzXML</td><td>512                                              </td><td>Group1C                                          </td><td>naive                                            </td><td>142                                              </td><td>RV_bottom                                        </td><td>A2                                               </td><td>P140                                             </td><td>0.01817401                                       </td><td>0.02520786                                       </td><td>0.000071700                                      </td><td>0.000000000                                      </td><td>0.000000000                                      </td></tr>\n",
       "\t<tr><th scope=row>33</th><td>X513_Group1C_142dpi_RV_bottom_163_G_A3_P140.mzXML</td><td>513                                              </td><td>Group1C                                          </td><td>naive                                            </td><td>142                                              </td><td>RV_bottom                                        </td><td>A3                                               </td><td>P140                                             </td><td>0.01246066                                       </td><td>0.01438772                                       </td><td>0.000000000                                      </td><td>0.001022450                                      </td><td>0.000313152                                      </td></tr>\n",
       "\t<tr><th scope=row>34</th><td>X514_Group1C_142dpi_RV_bottom_164_G_A4_P140.mzXML</td><td>514                                              </td><td>Group1C                                          </td><td>naive                                            </td><td>142                                              </td><td>RV_bottom                                        </td><td>A4                                               </td><td>P140                                             </td><td>0.01393864                                       </td><td>0.01860049                                       </td><td>0.000228515                                      </td><td>0.000060600                                      </td><td>0.000000000                                      </td></tr>\n",
       "\t<tr><th scope=row>35</th><td>X515_Group1C_142dpi_RV_bottom_165_G_A5_P140.mzXML</td><td>515                                              </td><td>Group1C                                          </td><td>naive                                            </td><td>142                                              </td><td>RV_bottom                                        </td><td>A5                                               </td><td>P140                                             </td><td>0.02076094                                       </td><td>0.02255642                                       </td><td>0.000521923                                      </td><td>0.000221919                                      </td><td>0.000000000                                      </td></tr>\n",
       "\t<tr><th scope=row>36</th><td>X531_Group1C_142dpi_RV_bottom_166_G_A6_P140.mzXML</td><td>531                                              </td><td>Group1C                                          </td><td>naive                                            </td><td>142                                              </td><td>RV_bottom                                        </td><td>A6                                               </td><td>P140                                             </td><td>0.01498764                                       </td><td>0.01930315                                       </td><td>0.000296114                                      </td><td>0.000000000                                      </td><td>0.000000000                                      </td></tr>\n",
       "</tbody>\n",
       "</table>\n"
      ],
      "text/latex": [
       "\\begin{tabular}{r|lllllllllllll}\n",
       "  & filename & MouseID & Treatmentgroup & status & DPI & organ & well\\_position & plate & mass\\_400 & mass\\_500 & mass\\_600 & mass\\_700 & mass\\_800\\\\\n",
       "\\hline\n",
       "\t31 & X511\\_Group1C\\_142dpi\\_RV\\_bottom\\_161\\_G\\_A1\\_P140.mzXML & 511                                                               & Group1C                                                           & naive                                                             & 142                                                               & RV\\_bottom                                                       & A1                                                                & P140                                                              & 0.01070250                                                        & 0.01878444                                                        & 0.000000000                                                       & 0.000000000                                                       & 0.000000000                                                      \\\\\n",
       "\t32 & X512\\_Group1C\\_142dpi\\_RV\\_bottom\\_162\\_G\\_A2\\_P140.mzXML & 512                                                               & Group1C                                                           & naive                                                             & 142                                                               & RV\\_bottom                                                       & A2                                                                & P140                                                              & 0.01817401                                                        & 0.02520786                                                        & 0.000071700                                                       & 0.000000000                                                       & 0.000000000                                                      \\\\\n",
       "\t33 & X513\\_Group1C\\_142dpi\\_RV\\_bottom\\_163\\_G\\_A3\\_P140.mzXML & 513                                                               & Group1C                                                           & naive                                                             & 142                                                               & RV\\_bottom                                                       & A3                                                                & P140                                                              & 0.01246066                                                        & 0.01438772                                                        & 0.000000000                                                       & 0.001022450                                                       & 0.000313152                                                      \\\\\n",
       "\t34 & X514\\_Group1C\\_142dpi\\_RV\\_bottom\\_164\\_G\\_A4\\_P140.mzXML & 514                                                               & Group1C                                                           & naive                                                             & 142                                                               & RV\\_bottom                                                       & A4                                                                & P140                                                              & 0.01393864                                                        & 0.01860049                                                        & 0.000228515                                                       & 0.000060600                                                       & 0.000000000                                                      \\\\\n",
       "\t35 & X515\\_Group1C\\_142dpi\\_RV\\_bottom\\_165\\_G\\_A5\\_P140.mzXML & 515                                                               & Group1C                                                           & naive                                                             & 142                                                               & RV\\_bottom                                                       & A5                                                                & P140                                                              & 0.02076094                                                        & 0.02255642                                                        & 0.000521923                                                       & 0.000221919                                                       & 0.000000000                                                      \\\\\n",
       "\t36 & X531\\_Group1C\\_142dpi\\_RV\\_bottom\\_166\\_G\\_A6\\_P140.mzXML & 531                                                               & Group1C                                                           & naive                                                             & 142                                                               & RV\\_bottom                                                       & A6                                                                & P140                                                              & 0.01498764                                                        & 0.01930315                                                        & 0.000296114                                                       & 0.000000000                                                       & 0.000000000                                                      \\\\\n",
       "\\end{tabular}\n"
      ],
      "text/markdown": [
       "\n",
       "| <!--/--> | filename | MouseID | Treatmentgroup | status | DPI | organ | well_position | plate | mass_400 | mass_500 | mass_600 | mass_700 | mass_800 |\n",
       "|---|---|---|---|---|---|---|---|---|---|---|---|---|---|\n",
       "| 31 | X511_Group1C_142dpi_RV_bottom_161_G_A1_P140.mzXML | 511                                               | Group1C                                           | naive                                             | 142                                               | RV_bottom                                         | A1                                                | P140                                              | 0.01070250                                        | 0.01878444                                        | 0.000000000                                       | 0.000000000                                       | 0.000000000                                       |\n",
       "| 32 | X512_Group1C_142dpi_RV_bottom_162_G_A2_P140.mzXML | 512                                               | Group1C                                           | naive                                             | 142                                               | RV_bottom                                         | A2                                                | P140                                              | 0.01817401                                        | 0.02520786                                        | 0.000071700                                       | 0.000000000                                       | 0.000000000                                       |\n",
       "| 33 | X513_Group1C_142dpi_RV_bottom_163_G_A3_P140.mzXML | 513                                               | Group1C                                           | naive                                             | 142                                               | RV_bottom                                         | A3                                                | P140                                              | 0.01246066                                        | 0.01438772                                        | 0.000000000                                       | 0.001022450                                       | 0.000313152                                       |\n",
       "| 34 | X514_Group1C_142dpi_RV_bottom_164_G_A4_P140.mzXML | 514                                               | Group1C                                           | naive                                             | 142                                               | RV_bottom                                         | A4                                                | P140                                              | 0.01393864                                        | 0.01860049                                        | 0.000228515                                       | 0.000060600                                       | 0.000000000                                       |\n",
       "| 35 | X515_Group1C_142dpi_RV_bottom_165_G_A5_P140.mzXML | 515                                               | Group1C                                           | naive                                             | 142                                               | RV_bottom                                         | A5                                                | P140                                              | 0.02076094                                        | 0.02255642                                        | 0.000521923                                       | 0.000221919                                       | 0.000000000                                       |\n",
       "| 36 | X531_Group1C_142dpi_RV_bottom_166_G_A6_P140.mzXML | 531                                               | Group1C                                           | naive                                             | 142                                               | RV_bottom                                         | A6                                                | P140                                              | 0.01498764                                        | 0.01930315                                        | 0.000296114                                       | 0.000000000                                       | 0.000000000                                       |\n",
       "\n"
      ],
      "text/plain": [
       "   filename                                          MouseID Treatmentgroup\n",
       "31 X511_Group1C_142dpi_RV_bottom_161_G_A1_P140.mzXML 511     Group1C       \n",
       "32 X512_Group1C_142dpi_RV_bottom_162_G_A2_P140.mzXML 512     Group1C       \n",
       "33 X513_Group1C_142dpi_RV_bottom_163_G_A3_P140.mzXML 513     Group1C       \n",
       "34 X514_Group1C_142dpi_RV_bottom_164_G_A4_P140.mzXML 514     Group1C       \n",
       "35 X515_Group1C_142dpi_RV_bottom_165_G_A5_P140.mzXML 515     Group1C       \n",
       "36 X531_Group1C_142dpi_RV_bottom_166_G_A6_P140.mzXML 531     Group1C       \n",
       "   status DPI organ     well_position plate mass_400   mass_500   mass_600   \n",
       "31 naive  142 RV_bottom A1            P140  0.01070250 0.01878444 0.000000000\n",
       "32 naive  142 RV_bottom A2            P140  0.01817401 0.02520786 0.000071700\n",
       "33 naive  142 RV_bottom A3            P140  0.01246066 0.01438772 0.000000000\n",
       "34 naive  142 RV_bottom A4            P140  0.01393864 0.01860049 0.000228515\n",
       "35 naive  142 RV_bottom A5            P140  0.02076094 0.02255642 0.000521923\n",
       "36 naive  142 RV_bottom A6            P140  0.01498764 0.01930315 0.000296114\n",
       "   mass_700    mass_800   \n",
       "31 0.000000000 0.000000000\n",
       "32 0.000000000 0.000000000\n",
       "33 0.001022450 0.000313152\n",
       "34 0.000060600 0.000000000\n",
       "35 0.000221919 0.000000000\n",
       "36 0.000000000 0.000000000"
      ]
     },
     "metadata": {},
     "output_type": "display_data"
    },
    {
     "data": {
      "text/html": [
       "<ol class=list-inline>\n",
       "\t<li>30</li>\n",
       "\t<li>13</li>\n",
       "</ol>\n"
      ],
      "text/latex": [
       "\\begin{enumerate*}\n",
       "\\item 30\n",
       "\\item 13\n",
       "\\end{enumerate*}\n"
      ],
      "text/markdown": [
       "1. 30\n",
       "2. 13\n",
       "\n",
       "\n"
      ],
      "text/plain": [
       "[1] 30 13"
      ]
     },
     "metadata": {},
     "output_type": "display_data"
    }
   ],
   "source": [
    "features_pos<-droplevels(subset(a, a$Treatmentgroup==c(\"Group1C\")|a$Treatmentgroup==c(\"Group3E\")))\n",
    "head(features_pos)\n",
    "dim(features_pos)"
   ]
  },
  {
   "cell_type": "code",
   "execution_count": 4,
   "metadata": {
    "scrolled": false
   },
   "outputs": [
    {
     "data": {
      "text/html": [
       "<table>\n",
       "<thead><tr><th></th><th scope=col>mass_400</th><th scope=col>mass_500</th><th scope=col>mass_600</th><th scope=col>mass_700</th><th scope=col>mass_800</th></tr></thead>\n",
       "<tbody>\n",
       "\t<tr><th scope=row>31</th><td>0.01070250 </td><td>0.01878444 </td><td>0.000000000</td><td>0.000000000</td><td>0.000000000</td></tr>\n",
       "\t<tr><th scope=row>32</th><td>0.01817401 </td><td>0.02520786 </td><td>0.000071700</td><td>0.000000000</td><td>0.000000000</td></tr>\n",
       "\t<tr><th scope=row>33</th><td>0.01246066 </td><td>0.01438772 </td><td>0.000000000</td><td>0.001022450</td><td>0.000313152</td></tr>\n",
       "\t<tr><th scope=row>34</th><td>0.01393864 </td><td>0.01860049 </td><td>0.000228515</td><td>0.000060600</td><td>0.000000000</td></tr>\n",
       "\t<tr><th scope=row>35</th><td>0.02076094 </td><td>0.02255642 </td><td>0.000521923</td><td>0.000221919</td><td>0.000000000</td></tr>\n",
       "\t<tr><th scope=row>36</th><td>0.01498764 </td><td>0.01930315 </td><td>0.000296114</td><td>0.000000000</td><td>0.000000000</td></tr>\n",
       "</tbody>\n",
       "</table>\n"
      ],
      "text/latex": [
       "\\begin{tabular}{r|lllll}\n",
       "  & mass\\_400 & mass\\_500 & mass\\_600 & mass\\_700 & mass\\_800\\\\\n",
       "\\hline\n",
       "\t31 & 0.01070250  & 0.01878444  & 0.000000000 & 0.000000000 & 0.000000000\\\\\n",
       "\t32 & 0.01817401  & 0.02520786  & 0.000071700 & 0.000000000 & 0.000000000\\\\\n",
       "\t33 & 0.01246066  & 0.01438772  & 0.000000000 & 0.001022450 & 0.000313152\\\\\n",
       "\t34 & 0.01393864  & 0.01860049  & 0.000228515 & 0.000060600 & 0.000000000\\\\\n",
       "\t35 & 0.02076094  & 0.02255642  & 0.000521923 & 0.000221919 & 0.000000000\\\\\n",
       "\t36 & 0.01498764  & 0.01930315  & 0.000296114 & 0.000000000 & 0.000000000\\\\\n",
       "\\end{tabular}\n"
      ],
      "text/markdown": [
       "\n",
       "| <!--/--> | mass_400 | mass_500 | mass_600 | mass_700 | mass_800 |\n",
       "|---|---|---|---|---|---|\n",
       "| 31 | 0.01070250  | 0.01878444  | 0.000000000 | 0.000000000 | 0.000000000 |\n",
       "| 32 | 0.01817401  | 0.02520786  | 0.000071700 | 0.000000000 | 0.000000000 |\n",
       "| 33 | 0.01246066  | 0.01438772  | 0.000000000 | 0.001022450 | 0.000313152 |\n",
       "| 34 | 0.01393864  | 0.01860049  | 0.000228515 | 0.000060600 | 0.000000000 |\n",
       "| 35 | 0.02076094  | 0.02255642  | 0.000521923 | 0.000221919 | 0.000000000 |\n",
       "| 36 | 0.01498764  | 0.01930315  | 0.000296114 | 0.000000000 | 0.000000000 |\n",
       "\n"
      ],
      "text/plain": [
       "   mass_400   mass_500   mass_600    mass_700    mass_800   \n",
       "31 0.01070250 0.01878444 0.000000000 0.000000000 0.000000000\n",
       "32 0.01817401 0.02520786 0.000071700 0.000000000 0.000000000\n",
       "33 0.01246066 0.01438772 0.000000000 0.001022450 0.000313152\n",
       "34 0.01393864 0.01860049 0.000228515 0.000060600 0.000000000\n",
       "35 0.02076094 0.02255642 0.000521923 0.000221919 0.000000000\n",
       "36 0.01498764 0.01930315 0.000296114 0.000000000 0.000000000"
      ]
     },
     "metadata": {},
     "output_type": "display_data"
    },
    {
     "data": {
      "text/html": [
       "<dl class=dl-horizontal>\n",
       "\t<dt>mass_400</dt>\n",
       "\t\t<dd>1</dd>\n",
       "\t<dt>mass_500</dt>\n",
       "\t\t<dd>2</dd>\n",
       "\t<dt>mass_600</dt>\n",
       "\t\t<dd>3</dd>\n",
       "\t<dt>mass_700</dt>\n",
       "\t\t<dd>4</dd>\n",
       "\t<dt>mass_800</dt>\n",
       "\t\t<dd>5</dd>\n",
       "</dl>\n"
      ],
      "text/latex": [
       "\\begin{description*}\n",
       "\\item[mass\\textbackslash{}\\_400] 1\n",
       "\\item[mass\\textbackslash{}\\_500] 2\n",
       "\\item[mass\\textbackslash{}\\_600] 3\n",
       "\\item[mass\\textbackslash{}\\_700] 4\n",
       "\\item[mass\\textbackslash{}\\_800] 5\n",
       "\\end{description*}\n"
      ],
      "text/markdown": [
       "mass_400\n",
       ":   1mass_500\n",
       ":   2mass_600\n",
       ":   3mass_700\n",
       ":   4mass_800\n",
       ":   5\n",
       "\n"
      ],
      "text/plain": [
       "mass_400 mass_500 mass_600 mass_700 mass_800 \n",
       "       1        2        3        4        5 "
      ]
     },
     "metadata": {},
     "output_type": "display_data"
    },
    {
     "data": {
      "text/html": [
       "<table>\n",
       "<thead><tr><th></th><th scope=col>mass_400</th><th scope=col>mass_500</th><th scope=col>mass_600</th><th scope=col>mass_700</th><th scope=col>mass_800</th></tr></thead>\n",
       "<tbody>\n",
       "\t<tr><th scope=row>31</th><td>0.010702499</td><td>0.018784438</td><td>0.000000000</td><td>0.000000000</td><td>0.000000000</td></tr>\n",
       "\t<tr><th scope=row>32</th><td>0.018174011</td><td>0.025207861</td><td>0.000071700</td><td>0.000000000</td><td>0.000000000</td></tr>\n",
       "\t<tr><th scope=row>33</th><td>0.012460664</td><td>0.014387724</td><td>0.000000000</td><td>0.001022450</td><td>0.000313152</td></tr>\n",
       "\t<tr><th scope=row>34</th><td>0.013938643</td><td>0.018600493</td><td>0.000228515</td><td>0.000060600</td><td>0.000000000</td></tr>\n",
       "\t<tr><th scope=row>35</th><td>0.020760944</td><td>0.022556423</td><td>0.000521923</td><td>0.000221919</td><td>0.000000000</td></tr>\n",
       "\t<tr><th scope=row>36</th><td>0.014987640</td><td>0.019303145</td><td>0.000296114</td><td>0.000000000</td><td>0.000000000</td></tr>\n",
       "\t<tr><th scope=row>37</th><td>0.009144121</td><td>0.010922774</td><td>0.000069900</td><td>0.000535351</td><td>0.000000000</td></tr>\n",
       "\t<tr><th scope=row>38</th><td>0.013248665</td><td>0.016402516</td><td>0.000258726</td><td>0.000000000</td><td>0.000000000</td></tr>\n",
       "\t<tr><th scope=row>39</th><td>0.018191462</td><td>0.025543651</td><td>0.000340055</td><td>0.000000000</td><td>0.000000000</td></tr>\n",
       "\t<tr><th scope=row>40</th><td>0.016060150</td><td>0.018755666</td><td>0.000392582</td><td>0.000000000</td><td>0.000000000</td></tr>\n",
       "\t<tr><th scope=row>41</th><td>0.011397485</td><td>0.014785037</td><td>0.000075700</td><td>0.000000000</td><td>0.000000000</td></tr>\n",
       "\t<tr><th scope=row>42</th><td>0.018691804</td><td>0.026686093</td><td>0.000395796</td><td>0.007106253</td><td>0.000446986</td></tr>\n",
       "\t<tr><th scope=row>43</th><td>0.011098198</td><td>0.013178015</td><td>0.000071300</td><td>0.000000000</td><td>0.000000000</td></tr>\n",
       "\t<tr><th scope=row>44</th><td>0.015217468</td><td>0.018241127</td><td>0.000079600</td><td>0.000000000</td><td>0.000000000</td></tr>\n",
       "\t<tr><th scope=row>45</th><td>0.013284542</td><td>0.016334998</td><td>0.000326134</td><td>0.000000000</td><td>0.000000000</td></tr>\n",
       "\t<tr><th scope=row>76</th><td>0.014116598</td><td>0.011602317</td><td>0.000071100</td><td>0.000000000</td><td>0.000000000</td></tr>\n",
       "\t<tr><th scope=row>77</th><td>0.011548522</td><td>0.011997421</td><td>0.000281116</td><td>0.000000000</td><td>0.000000000</td></tr>\n",
       "\t<tr><th scope=row>78</th><td>0.009337858</td><td>0.010103911</td><td>0.000090600</td><td>0.000000000</td><td>0.000000000</td></tr>\n",
       "\t<tr><th scope=row>79</th><td>0.013359138</td><td>0.014246993</td><td>0.000215100</td><td>0.000000000</td><td>0.000000000</td></tr>\n",
       "\t<tr><th scope=row>80</th><td>0.011763544</td><td>0.014142223</td><td>0.000339557</td><td>0.002373730</td><td>0.001749487</td></tr>\n",
       "\t<tr><th scope=row>81</th><td>0.009862041</td><td>0.010239950</td><td>0.000000000</td><td>0.000000000</td><td>0.000000000</td></tr>\n",
       "\t<tr><th scope=row>82</th><td>0.008740944</td><td>0.008528251</td><td>0.000000000</td><td>0.000503301</td><td>0.000377911</td></tr>\n",
       "\t<tr><th scope=row>83</th><td>0.008780162</td><td>0.009389767</td><td>0.000056600</td><td>0.003337624</td><td>0.000150200</td></tr>\n",
       "\t<tr><th scope=row>84</th><td>0.006374382</td><td>0.007392699</td><td>0.000000000</td><td>0.002160511</td><td>0.000391130</td></tr>\n",
       "\t<tr><th scope=row>85</th><td>0.009917605</td><td>0.009401780</td><td>0.000000000</td><td>0.000000000</td><td>0.000000000</td></tr>\n",
       "\t<tr><th scope=row>86</th><td>0.016335059</td><td>0.018147510</td><td>0.000332725</td><td>0.000260947</td><td>0.000128100</td></tr>\n",
       "\t<tr><th scope=row>87</th><td>0.006695043</td><td>0.006900587</td><td>0.000000000</td><td>0.000430910</td><td>0.000000000</td></tr>\n",
       "\t<tr><th scope=row>88</th><td>0.015049297</td><td>0.015620380</td><td>0.000250894</td><td>0.023001420</td><td>0.005810353</td></tr>\n",
       "\t<tr><th scope=row>89</th><td>0.011474780</td><td>0.012824873</td><td>0.000294671</td><td>0.000000000</td><td>0.000000000</td></tr>\n",
       "\t<tr><th scope=row>90</th><td>0.009684411</td><td>0.011539150</td><td>0.000000000</td><td>0.000000000</td><td>0.000000000</td></tr>\n",
       "</tbody>\n",
       "</table>\n"
      ],
      "text/latex": [
       "\\begin{tabular}{r|lllll}\n",
       "  & mass\\_400 & mass\\_500 & mass\\_600 & mass\\_700 & mass\\_800\\\\\n",
       "\\hline\n",
       "\t31 & 0.010702499 & 0.018784438 & 0.000000000 & 0.000000000 & 0.000000000\\\\\n",
       "\t32 & 0.018174011 & 0.025207861 & 0.000071700 & 0.000000000 & 0.000000000\\\\\n",
       "\t33 & 0.012460664 & 0.014387724 & 0.000000000 & 0.001022450 & 0.000313152\\\\\n",
       "\t34 & 0.013938643 & 0.018600493 & 0.000228515 & 0.000060600 & 0.000000000\\\\\n",
       "\t35 & 0.020760944 & 0.022556423 & 0.000521923 & 0.000221919 & 0.000000000\\\\\n",
       "\t36 & 0.014987640 & 0.019303145 & 0.000296114 & 0.000000000 & 0.000000000\\\\\n",
       "\t37 & 0.009144121 & 0.010922774 & 0.000069900 & 0.000535351 & 0.000000000\\\\\n",
       "\t38 & 0.013248665 & 0.016402516 & 0.000258726 & 0.000000000 & 0.000000000\\\\\n",
       "\t39 & 0.018191462 & 0.025543651 & 0.000340055 & 0.000000000 & 0.000000000\\\\\n",
       "\t40 & 0.016060150 & 0.018755666 & 0.000392582 & 0.000000000 & 0.000000000\\\\\n",
       "\t41 & 0.011397485 & 0.014785037 & 0.000075700 & 0.000000000 & 0.000000000\\\\\n",
       "\t42 & 0.018691804 & 0.026686093 & 0.000395796 & 0.007106253 & 0.000446986\\\\\n",
       "\t43 & 0.011098198 & 0.013178015 & 0.000071300 & 0.000000000 & 0.000000000\\\\\n",
       "\t44 & 0.015217468 & 0.018241127 & 0.000079600 & 0.000000000 & 0.000000000\\\\\n",
       "\t45 & 0.013284542 & 0.016334998 & 0.000326134 & 0.000000000 & 0.000000000\\\\\n",
       "\t76 & 0.014116598 & 0.011602317 & 0.000071100 & 0.000000000 & 0.000000000\\\\\n",
       "\t77 & 0.011548522 & 0.011997421 & 0.000281116 & 0.000000000 & 0.000000000\\\\\n",
       "\t78 & 0.009337858 & 0.010103911 & 0.000090600 & 0.000000000 & 0.000000000\\\\\n",
       "\t79 & 0.013359138 & 0.014246993 & 0.000215100 & 0.000000000 & 0.000000000\\\\\n",
       "\t80 & 0.011763544 & 0.014142223 & 0.000339557 & 0.002373730 & 0.001749487\\\\\n",
       "\t81 & 0.009862041 & 0.010239950 & 0.000000000 & 0.000000000 & 0.000000000\\\\\n",
       "\t82 & 0.008740944 & 0.008528251 & 0.000000000 & 0.000503301 & 0.000377911\\\\\n",
       "\t83 & 0.008780162 & 0.009389767 & 0.000056600 & 0.003337624 & 0.000150200\\\\\n",
       "\t84 & 0.006374382 & 0.007392699 & 0.000000000 & 0.002160511 & 0.000391130\\\\\n",
       "\t85 & 0.009917605 & 0.009401780 & 0.000000000 & 0.000000000 & 0.000000000\\\\\n",
       "\t86 & 0.016335059 & 0.018147510 & 0.000332725 & 0.000260947 & 0.000128100\\\\\n",
       "\t87 & 0.006695043 & 0.006900587 & 0.000000000 & 0.000430910 & 0.000000000\\\\\n",
       "\t88 & 0.015049297 & 0.015620380 & 0.000250894 & 0.023001420 & 0.005810353\\\\\n",
       "\t89 & 0.011474780 & 0.012824873 & 0.000294671 & 0.000000000 & 0.000000000\\\\\n",
       "\t90 & 0.009684411 & 0.011539150 & 0.000000000 & 0.000000000 & 0.000000000\\\\\n",
       "\\end{tabular}\n"
      ],
      "text/markdown": [
       "\n",
       "| <!--/--> | mass_400 | mass_500 | mass_600 | mass_700 | mass_800 |\n",
       "|---|---|---|---|---|---|\n",
       "| 31 | 0.010702499 | 0.018784438 | 0.000000000 | 0.000000000 | 0.000000000 |\n",
       "| 32 | 0.018174011 | 0.025207861 | 0.000071700 | 0.000000000 | 0.000000000 |\n",
       "| 33 | 0.012460664 | 0.014387724 | 0.000000000 | 0.001022450 | 0.000313152 |\n",
       "| 34 | 0.013938643 | 0.018600493 | 0.000228515 | 0.000060600 | 0.000000000 |\n",
       "| 35 | 0.020760944 | 0.022556423 | 0.000521923 | 0.000221919 | 0.000000000 |\n",
       "| 36 | 0.014987640 | 0.019303145 | 0.000296114 | 0.000000000 | 0.000000000 |\n",
       "| 37 | 0.009144121 | 0.010922774 | 0.000069900 | 0.000535351 | 0.000000000 |\n",
       "| 38 | 0.013248665 | 0.016402516 | 0.000258726 | 0.000000000 | 0.000000000 |\n",
       "| 39 | 0.018191462 | 0.025543651 | 0.000340055 | 0.000000000 | 0.000000000 |\n",
       "| 40 | 0.016060150 | 0.018755666 | 0.000392582 | 0.000000000 | 0.000000000 |\n",
       "| 41 | 0.011397485 | 0.014785037 | 0.000075700 | 0.000000000 | 0.000000000 |\n",
       "| 42 | 0.018691804 | 0.026686093 | 0.000395796 | 0.007106253 | 0.000446986 |\n",
       "| 43 | 0.011098198 | 0.013178015 | 0.000071300 | 0.000000000 | 0.000000000 |\n",
       "| 44 | 0.015217468 | 0.018241127 | 0.000079600 | 0.000000000 | 0.000000000 |\n",
       "| 45 | 0.013284542 | 0.016334998 | 0.000326134 | 0.000000000 | 0.000000000 |\n",
       "| 76 | 0.014116598 | 0.011602317 | 0.000071100 | 0.000000000 | 0.000000000 |\n",
       "| 77 | 0.011548522 | 0.011997421 | 0.000281116 | 0.000000000 | 0.000000000 |\n",
       "| 78 | 0.009337858 | 0.010103911 | 0.000090600 | 0.000000000 | 0.000000000 |\n",
       "| 79 | 0.013359138 | 0.014246993 | 0.000215100 | 0.000000000 | 0.000000000 |\n",
       "| 80 | 0.011763544 | 0.014142223 | 0.000339557 | 0.002373730 | 0.001749487 |\n",
       "| 81 | 0.009862041 | 0.010239950 | 0.000000000 | 0.000000000 | 0.000000000 |\n",
       "| 82 | 0.008740944 | 0.008528251 | 0.000000000 | 0.000503301 | 0.000377911 |\n",
       "| 83 | 0.008780162 | 0.009389767 | 0.000056600 | 0.003337624 | 0.000150200 |\n",
       "| 84 | 0.006374382 | 0.007392699 | 0.000000000 | 0.002160511 | 0.000391130 |\n",
       "| 85 | 0.009917605 | 0.009401780 | 0.000000000 | 0.000000000 | 0.000000000 |\n",
       "| 86 | 0.016335059 | 0.018147510 | 0.000332725 | 0.000260947 | 0.000128100 |\n",
       "| 87 | 0.006695043 | 0.006900587 | 0.000000000 | 0.000430910 | 0.000000000 |\n",
       "| 88 | 0.015049297 | 0.015620380 | 0.000250894 | 0.023001420 | 0.005810353 |\n",
       "| 89 | 0.011474780 | 0.012824873 | 0.000294671 | 0.000000000 | 0.000000000 |\n",
       "| 90 | 0.009684411 | 0.011539150 | 0.000000000 | 0.000000000 | 0.000000000 |\n",
       "\n"
      ],
      "text/plain": [
       "   mass_400    mass_500    mass_600    mass_700    mass_800   \n",
       "31 0.010702499 0.018784438 0.000000000 0.000000000 0.000000000\n",
       "32 0.018174011 0.025207861 0.000071700 0.000000000 0.000000000\n",
       "33 0.012460664 0.014387724 0.000000000 0.001022450 0.000313152\n",
       "34 0.013938643 0.018600493 0.000228515 0.000060600 0.000000000\n",
       "35 0.020760944 0.022556423 0.000521923 0.000221919 0.000000000\n",
       "36 0.014987640 0.019303145 0.000296114 0.000000000 0.000000000\n",
       "37 0.009144121 0.010922774 0.000069900 0.000535351 0.000000000\n",
       "38 0.013248665 0.016402516 0.000258726 0.000000000 0.000000000\n",
       "39 0.018191462 0.025543651 0.000340055 0.000000000 0.000000000\n",
       "40 0.016060150 0.018755666 0.000392582 0.000000000 0.000000000\n",
       "41 0.011397485 0.014785037 0.000075700 0.000000000 0.000000000\n",
       "42 0.018691804 0.026686093 0.000395796 0.007106253 0.000446986\n",
       "43 0.011098198 0.013178015 0.000071300 0.000000000 0.000000000\n",
       "44 0.015217468 0.018241127 0.000079600 0.000000000 0.000000000\n",
       "45 0.013284542 0.016334998 0.000326134 0.000000000 0.000000000\n",
       "76 0.014116598 0.011602317 0.000071100 0.000000000 0.000000000\n",
       "77 0.011548522 0.011997421 0.000281116 0.000000000 0.000000000\n",
       "78 0.009337858 0.010103911 0.000090600 0.000000000 0.000000000\n",
       "79 0.013359138 0.014246993 0.000215100 0.000000000 0.000000000\n",
       "80 0.011763544 0.014142223 0.000339557 0.002373730 0.001749487\n",
       "81 0.009862041 0.010239950 0.000000000 0.000000000 0.000000000\n",
       "82 0.008740944 0.008528251 0.000000000 0.000503301 0.000377911\n",
       "83 0.008780162 0.009389767 0.000056600 0.003337624 0.000150200\n",
       "84 0.006374382 0.007392699 0.000000000 0.002160511 0.000391130\n",
       "85 0.009917605 0.009401780 0.000000000 0.000000000 0.000000000\n",
       "86 0.016335059 0.018147510 0.000332725 0.000260947 0.000128100\n",
       "87 0.006695043 0.006900587 0.000000000 0.000430910 0.000000000\n",
       "88 0.015049297 0.015620380 0.000250894 0.023001420 0.005810353\n",
       "89 0.011474780 0.012824873 0.000294671 0.000000000 0.000000000\n",
       "90 0.009684411 0.011539150 0.000000000 0.000000000 0.000000000"
      ]
     },
     "metadata": {},
     "output_type": "display_data"
    },
    {
     "data": {
      "text/html": [
       "<table>\n",
       "<thead><tr><th></th><th scope=col>filename</th><th scope=col>MouseID</th><th scope=col>Treatmentgroup</th><th scope=col>status</th><th scope=col>DPI</th><th scope=col>organ</th><th scope=col>well_position</th><th scope=col>plate</th><th scope=col>mass_400</th><th scope=col>mass_500</th><th scope=col>mass_600</th><th scope=col>mass_700</th><th scope=col>mass_800</th></tr></thead>\n",
       "<tbody>\n",
       "\t<tr><th scope=row>31</th><td>X511_Group1C_142dpi_RV_bottom_161_G_A1_P140.mzXML</td><td>511                                              </td><td>Group1C                                          </td><td>naive                                            </td><td>142                                              </td><td>RV_bottom                                        </td><td>A1                                               </td><td>P140                                             </td><td>0.01070250                                       </td><td>0.01878444                                       </td><td>0.000000000                                      </td><td>0.000000000                                      </td><td>0.000000000                                      </td></tr>\n",
       "\t<tr><th scope=row>32</th><td>X512_Group1C_142dpi_RV_bottom_162_G_A2_P140.mzXML</td><td>512                                              </td><td>Group1C                                          </td><td>naive                                            </td><td>142                                              </td><td>RV_bottom                                        </td><td>A2                                               </td><td>P140                                             </td><td>0.01817401                                       </td><td>0.02520786                                       </td><td>0.000071700                                      </td><td>0.000000000                                      </td><td>0.000000000                                      </td></tr>\n",
       "\t<tr><th scope=row>33</th><td>X513_Group1C_142dpi_RV_bottom_163_G_A3_P140.mzXML</td><td>513                                              </td><td>Group1C                                          </td><td>naive                                            </td><td>142                                              </td><td>RV_bottom                                        </td><td>A3                                               </td><td>P140                                             </td><td>0.01246066                                       </td><td>0.01438772                                       </td><td>0.000000000                                      </td><td>0.001022450                                      </td><td>0.000313152                                      </td></tr>\n",
       "\t<tr><th scope=row>34</th><td>X514_Group1C_142dpi_RV_bottom_164_G_A4_P140.mzXML</td><td>514                                              </td><td>Group1C                                          </td><td>naive                                            </td><td>142                                              </td><td>RV_bottom                                        </td><td>A4                                               </td><td>P140                                             </td><td>0.01393864                                       </td><td>0.01860049                                       </td><td>0.000228515                                      </td><td>0.000060600                                      </td><td>0.000000000                                      </td></tr>\n",
       "\t<tr><th scope=row>35</th><td>X515_Group1C_142dpi_RV_bottom_165_G_A5_P140.mzXML</td><td>515                                              </td><td>Group1C                                          </td><td>naive                                            </td><td>142                                              </td><td>RV_bottom                                        </td><td>A5                                               </td><td>P140                                             </td><td>0.02076094                                       </td><td>0.02255642                                       </td><td>0.000521923                                      </td><td>0.000221919                                      </td><td>0.000000000                                      </td></tr>\n",
       "\t<tr><th scope=row>36</th><td>X531_Group1C_142dpi_RV_bottom_166_G_A6_P140.mzXML</td><td>531                                              </td><td>Group1C                                          </td><td>naive                                            </td><td>142                                              </td><td>RV_bottom                                        </td><td>A6                                               </td><td>P140                                             </td><td>0.01498764                                       </td><td>0.01930315                                       </td><td>0.000296114                                      </td><td>0.000000000                                      </td><td>0.000000000                                      </td></tr>\n",
       "</tbody>\n",
       "</table>\n"
      ],
      "text/latex": [
       "\\begin{tabular}{r|lllllllllllll}\n",
       "  & filename & MouseID & Treatmentgroup & status & DPI & organ & well\\_position & plate & mass\\_400 & mass\\_500 & mass\\_600 & mass\\_700 & mass\\_800\\\\\n",
       "\\hline\n",
       "\t31 & X511\\_Group1C\\_142dpi\\_RV\\_bottom\\_161\\_G\\_A1\\_P140.mzXML & 511                                                               & Group1C                                                           & naive                                                             & 142                                                               & RV\\_bottom                                                       & A1                                                                & P140                                                              & 0.01070250                                                        & 0.01878444                                                        & 0.000000000                                                       & 0.000000000                                                       & 0.000000000                                                      \\\\\n",
       "\t32 & X512\\_Group1C\\_142dpi\\_RV\\_bottom\\_162\\_G\\_A2\\_P140.mzXML & 512                                                               & Group1C                                                           & naive                                                             & 142                                                               & RV\\_bottom                                                       & A2                                                                & P140                                                              & 0.01817401                                                        & 0.02520786                                                        & 0.000071700                                                       & 0.000000000                                                       & 0.000000000                                                      \\\\\n",
       "\t33 & X513\\_Group1C\\_142dpi\\_RV\\_bottom\\_163\\_G\\_A3\\_P140.mzXML & 513                                                               & Group1C                                                           & naive                                                             & 142                                                               & RV\\_bottom                                                       & A3                                                                & P140                                                              & 0.01246066                                                        & 0.01438772                                                        & 0.000000000                                                       & 0.001022450                                                       & 0.000313152                                                      \\\\\n",
       "\t34 & X514\\_Group1C\\_142dpi\\_RV\\_bottom\\_164\\_G\\_A4\\_P140.mzXML & 514                                                               & Group1C                                                           & naive                                                             & 142                                                               & RV\\_bottom                                                       & A4                                                                & P140                                                              & 0.01393864                                                        & 0.01860049                                                        & 0.000228515                                                       & 0.000060600                                                       & 0.000000000                                                      \\\\\n",
       "\t35 & X515\\_Group1C\\_142dpi\\_RV\\_bottom\\_165\\_G\\_A5\\_P140.mzXML & 515                                                               & Group1C                                                           & naive                                                             & 142                                                               & RV\\_bottom                                                       & A5                                                                & P140                                                              & 0.02076094                                                        & 0.02255642                                                        & 0.000521923                                                       & 0.000221919                                                       & 0.000000000                                                      \\\\\n",
       "\t36 & X531\\_Group1C\\_142dpi\\_RV\\_bottom\\_166\\_G\\_A6\\_P140.mzXML & 531                                                               & Group1C                                                           & naive                                                             & 142                                                               & RV\\_bottom                                                       & A6                                                                & P140                                                              & 0.01498764                                                        & 0.01930315                                                        & 0.000296114                                                       & 0.000000000                                                       & 0.000000000                                                      \\\\\n",
       "\\end{tabular}\n"
      ],
      "text/markdown": [
       "\n",
       "| <!--/--> | filename | MouseID | Treatmentgroup | status | DPI | organ | well_position | plate | mass_400 | mass_500 | mass_600 | mass_700 | mass_800 |\n",
       "|---|---|---|---|---|---|---|---|---|---|---|---|---|---|\n",
       "| 31 | X511_Group1C_142dpi_RV_bottom_161_G_A1_P140.mzXML | 511                                               | Group1C                                           | naive                                             | 142                                               | RV_bottom                                         | A1                                                | P140                                              | 0.01070250                                        | 0.01878444                                        | 0.000000000                                       | 0.000000000                                       | 0.000000000                                       |\n",
       "| 32 | X512_Group1C_142dpi_RV_bottom_162_G_A2_P140.mzXML | 512                                               | Group1C                                           | naive                                             | 142                                               | RV_bottom                                         | A2                                                | P140                                              | 0.01817401                                        | 0.02520786                                        | 0.000071700                                       | 0.000000000                                       | 0.000000000                                       |\n",
       "| 33 | X513_Group1C_142dpi_RV_bottom_163_G_A3_P140.mzXML | 513                                               | Group1C                                           | naive                                             | 142                                               | RV_bottom                                         | A3                                                | P140                                              | 0.01246066                                        | 0.01438772                                        | 0.000000000                                       | 0.001022450                                       | 0.000313152                                       |\n",
       "| 34 | X514_Group1C_142dpi_RV_bottom_164_G_A4_P140.mzXML | 514                                               | Group1C                                           | naive                                             | 142                                               | RV_bottom                                         | A4                                                | P140                                              | 0.01393864                                        | 0.01860049                                        | 0.000228515                                       | 0.000060600                                       | 0.000000000                                       |\n",
       "| 35 | X515_Group1C_142dpi_RV_bottom_165_G_A5_P140.mzXML | 515                                               | Group1C                                           | naive                                             | 142                                               | RV_bottom                                         | A5                                                | P140                                              | 0.02076094                                        | 0.02255642                                        | 0.000521923                                       | 0.000221919                                       | 0.000000000                                       |\n",
       "| 36 | X531_Group1C_142dpi_RV_bottom_166_G_A6_P140.mzXML | 531                                               | Group1C                                           | naive                                             | 142                                               | RV_bottom                                         | A6                                                | P140                                              | 0.01498764                                        | 0.01930315                                        | 0.000296114                                       | 0.000000000                                       | 0.000000000                                       |\n",
       "\n"
      ],
      "text/plain": [
       "   filename                                          MouseID Treatmentgroup\n",
       "31 X511_Group1C_142dpi_RV_bottom_161_G_A1_P140.mzXML 511     Group1C       \n",
       "32 X512_Group1C_142dpi_RV_bottom_162_G_A2_P140.mzXML 512     Group1C       \n",
       "33 X513_Group1C_142dpi_RV_bottom_163_G_A3_P140.mzXML 513     Group1C       \n",
       "34 X514_Group1C_142dpi_RV_bottom_164_G_A4_P140.mzXML 514     Group1C       \n",
       "35 X515_Group1C_142dpi_RV_bottom_165_G_A5_P140.mzXML 515     Group1C       \n",
       "36 X531_Group1C_142dpi_RV_bottom_166_G_A6_P140.mzXML 531     Group1C       \n",
       "   status DPI organ     well_position plate mass_400   mass_500   mass_600   \n",
       "31 naive  142 RV_bottom A1            P140  0.01070250 0.01878444 0.000000000\n",
       "32 naive  142 RV_bottom A2            P140  0.01817401 0.02520786 0.000071700\n",
       "33 naive  142 RV_bottom A3            P140  0.01246066 0.01438772 0.000000000\n",
       "34 naive  142 RV_bottom A4            P140  0.01393864 0.01860049 0.000228515\n",
       "35 naive  142 RV_bottom A5            P140  0.02076094 0.02255642 0.000521923\n",
       "36 naive  142 RV_bottom A6            P140  0.01498764 0.01930315 0.000296114\n",
       "   mass_700    mass_800   \n",
       "31 0.000000000 0.000000000\n",
       "32 0.000000000 0.000000000\n",
       "33 0.001022450 0.000313152\n",
       "34 0.000060600 0.000000000\n",
       "35 0.000221919 0.000000000\n",
       "36 0.000000000 0.000000000"
      ]
     },
     "metadata": {},
     "output_type": "display_data"
    },
    {
     "data": {
      "text/html": [
       "<ol class=list-inline>\n",
       "\t<li>30</li>\n",
       "\t<li>13</li>\n",
       "</ol>\n"
      ],
      "text/latex": [
       "\\begin{enumerate*}\n",
       "\\item 30\n",
       "\\item 13\n",
       "\\end{enumerate*}\n"
      ],
      "text/markdown": [
       "1. 30\n",
       "2. 13\n",
       "\n",
       "\n"
      ],
      "text/plain": [
       "[1] 30 13"
      ]
     },
     "metadata": {},
     "output_type": "display_data"
    },
    {
     "data": {
      "text/html": [
       "<ol class=list-inline>\n",
       "\t<li>30</li>\n",
       "\t<li>5</li>\n",
       "</ol>\n"
      ],
      "text/latex": [
       "\\begin{enumerate*}\n",
       "\\item 30\n",
       "\\item 5\n",
       "\\end{enumerate*}\n"
      ],
      "text/markdown": [
       "1. 30\n",
       "2. 5\n",
       "\n",
       "\n"
      ],
      "text/plain": [
       "[1] 30  5"
      ]
     },
     "metadata": {},
     "output_type": "display_data"
    },
    {
     "data": {
      "text/html": [
       "<ol class=list-inline>\n",
       "\t<li>30</li>\n",
       "\t<li>5</li>\n",
       "</ol>\n"
      ],
      "text/latex": [
       "\\begin{enumerate*}\n",
       "\\item 30\n",
       "\\item 5\n",
       "\\end{enumerate*}\n"
      ],
      "text/markdown": [
       "1. 30\n",
       "2. 5\n",
       "\n",
       "\n"
      ],
      "text/plain": [
       "[1] 30  5"
      ]
     },
     "metadata": {},
     "output_type": "display_data"
    },
    {
     "data": {
      "text/html": [
       "<ol class=list-inline>\n",
       "\t<li>30</li>\n",
       "\t<li>13</li>\n",
       "</ol>\n"
      ],
      "text/latex": [
       "\\begin{enumerate*}\n",
       "\\item 30\n",
       "\\item 13\n",
       "\\end{enumerate*}\n"
      ],
      "text/markdown": [
       "1. 30\n",
       "2. 13\n",
       "\n",
       "\n"
      ],
      "text/plain": [
       "[1] 30 13"
      ]
     },
     "metadata": {},
     "output_type": "display_data"
    }
   ],
   "source": [
    "noMeta<-features_pos[,9:13]\n",
    "head(noMeta)\n",
    "not_zero<-which(colSums(noMeta) != 0)\n",
    "head(not_zero)\n",
    "nonzero <- noMeta[, not_zero]\n",
    "nonzero\n",
    "nonzero_wMeta<-cbind(features_pos[,1:8], nonzero)\n",
    "head(nonzero_wMeta)\n",
    "dim(features_pos)\n",
    "dim(noMeta)\n",
    "dim(nonzero)\n",
    "dim(nonzero_wMeta)"
   ]
  },
  {
   "cell_type": "code",
   "execution_count": 5,
   "metadata": {
    "scrolled": true
   },
   "outputs": [
    {
     "name": "stderr",
     "output_type": "stream",
     "text": [
      "Warning message in wilcox.test.default(x = c(0, 7.17e-05, 0, 0.000228515, 0.000521923, :\n",
      "\"cannot compute exact p-value with ties\"Warning message in wilcox.test.default(x = c(0, 0, 0.00102245, 6.06e-05, 0.000221919, :\n",
      "\"cannot compute exact p-value with ties\"Warning message in wilcox.test.default(x = c(0, 0, 0.000313152, 0, 0, 0, 0, 0, 0, :\n",
      "\"cannot compute exact p-value with ties\""
     ]
    },
    {
     "data": {
      "text/html": [
       "<ol class=list-inline>\n",
       "\t<li>0.00987482265059421</li>\n",
       "\t<li>2.04103314699719e-05</li>\n",
       "\t<li>0.102474328063116</li>\n",
       "\t<li>0.348944317325905</li>\n",
       "\t<li>0.115993125541252</li>\n",
       "</ol>\n"
      ],
      "text/latex": [
       "\\begin{enumerate*}\n",
       "\\item 0.00987482265059421\n",
       "\\item 2.04103314699719e-05\n",
       "\\item 0.102474328063116\n",
       "\\item 0.348944317325905\n",
       "\\item 0.115993125541252\n",
       "\\end{enumerate*}\n"
      ],
      "text/markdown": [
       "1. 0.00987482265059421\n",
       "2. 2.04103314699719e-05\n",
       "3. 0.102474328063116\n",
       "4. 0.348944317325905\n",
       "5. 0.115993125541252\n",
       "\n",
       "\n"
      ],
      "text/plain": [
       "[1] 9.874823e-03 2.041033e-05 1.024743e-01 3.489443e-01 1.159931e-01"
      ]
     },
     "metadata": {},
     "output_type": "display_data"
    },
    {
     "data": {
      "text/html": [
       "<ol class=list-inline>\n",
       "\t<li>0.0246870566264855</li>\n",
       "\t<li>0.00010205165734986</li>\n",
       "\t<li>0.144991406926566</li>\n",
       "\t<li>0.348944317325905</li>\n",
       "\t<li>0.144991406926566</li>\n",
       "</ol>\n"
      ],
      "text/latex": [
       "\\begin{enumerate*}\n",
       "\\item 0.0246870566264855\n",
       "\\item 0.00010205165734986\n",
       "\\item 0.144991406926566\n",
       "\\item 0.348944317325905\n",
       "\\item 0.144991406926566\n",
       "\\end{enumerate*}\n"
      ],
      "text/markdown": [
       "1. 0.0246870566264855\n",
       "2. 0.00010205165734986\n",
       "3. 0.144991406926566\n",
       "4. 0.348944317325905\n",
       "5. 0.144991406926566\n",
       "\n",
       "\n"
      ],
      "text/plain": [
       "[1] 0.0246870566 0.0001020517 0.1449914069 0.3489443173 0.1449914069"
      ]
     },
     "metadata": {},
     "output_type": "display_data"
    }
   ],
   "source": [
    "pval<-c()\n",
    "\n",
    "for (i in 9:ncol(nonzero_wMeta)) \n",
    "pval<-c(pval,wilcox.test(nonzero_wMeta[,i]~nonzero_wMeta$Treatmentgroup)$p.value)\n",
    "head(pval)\n",
    "pAdj <- p.adjust(pval, method = c(\"fdr\"), n=length(pval)) \n",
    "head(pAdj) \n",
    "\n"
   ]
  },
  {
   "cell_type": "code",
   "execution_count": 6,
   "metadata": {
    "scrolled": true
   },
   "outputs": [
    {
     "data": {
      "text/html": [
       "5"
      ],
      "text/latex": [
       "5"
      ],
      "text/markdown": [
       "5"
      ],
      "text/plain": [
       "[1] 5"
      ]
     },
     "metadata": {},
     "output_type": "display_data"
    }
   ],
   "source": [
    "length(pval)"
   ]
  },
  {
   "cell_type": "code",
   "execution_count": 7,
   "metadata": {
    "scrolled": true
   },
   "outputs": [
    {
     "data": {
      "text/html": [
       "5"
      ],
      "text/latex": [
       "5"
      ],
      "text/markdown": [
       "5"
      ],
      "text/plain": [
       "[1] 5"
      ]
     },
     "metadata": {},
     "output_type": "display_data"
    }
   ],
   "source": [
    "length(pAdj)"
   ]
  },
  {
   "cell_type": "code",
   "execution_count": 8,
   "metadata": {},
   "outputs": [
    {
     "data": {
      "text/html": [
       "<ol class=list-inline>\n",
       "\t<li>2</li>\n",
       "\t<li>5</li>\n",
       "</ol>\n"
      ],
      "text/latex": [
       "\\begin{enumerate*}\n",
       "\\item 2\n",
       "\\item 5\n",
       "\\end{enumerate*}\n"
      ],
      "text/markdown": [
       "1. 2\n",
       "2. 5\n",
       "\n",
       "\n"
      ],
      "text/plain": [
       "[1] 2 5"
      ]
     },
     "metadata": {},
     "output_type": "display_data"
    },
    {
     "data": {
      "text/html": [
       "<table>\n",
       "<thead><tr><th></th><th scope=col>mass_400</th><th scope=col>mass_500</th><th scope=col>mass_600</th></tr></thead>\n",
       "<tbody>\n",
       "\t<tr><th scope=row>Group1C</th><td>0.01449055  </td><td>0.01864600  </td><td>0.0002085363</td></tr>\n",
       "\t<tr><th scope=row>Group3E</th><td>0.01086929  </td><td>0.01147185  </td><td>0.0001288242</td></tr>\n",
       "</tbody>\n",
       "</table>\n"
      ],
      "text/latex": [
       "\\begin{tabular}{r|lll}\n",
       "  & mass\\_400 & mass\\_500 & mass\\_600\\\\\n",
       "\\hline\n",
       "\tGroup1C & 0.01449055   & 0.01864600   & 0.0002085363\\\\\n",
       "\tGroup3E & 0.01086929   & 0.01147185   & 0.0001288242\\\\\n",
       "\\end{tabular}\n"
      ],
      "text/markdown": [
       "\n",
       "| <!--/--> | mass_400 | mass_500 | mass_600 |\n",
       "|---|---|---|---|\n",
       "| Group1C | 0.01449055   | 0.01864600   | 0.0002085363 |\n",
       "| Group3E | 0.01086929   | 0.01147185   | 0.0001288242 |\n",
       "\n"
      ],
      "text/plain": [
       "        mass_400   mass_500   mass_600    \n",
       "Group1C 0.01449055 0.01864600 0.0002085363\n",
       "Group3E 0.01086929 0.01147185 0.0001288242"
      ]
     },
     "metadata": {},
     "output_type": "display_data"
    },
    {
     "data": {
      "text/html": [
       "<dl class=dl-horizontal>\n",
       "\t<dt>mass_400</dt>\n",
       "\t\t<dd>1.33316435984572</dd>\n",
       "\t<dt>mass_500</dt>\n",
       "\t\t<dd>1.62536911499084</dd>\n",
       "\t<dt>mass_600</dt>\n",
       "\t\t<dd>1.61876676380163</dd>\n",
       "\t<dt>mass_700</dt>\n",
       "\t\t<dd>0.278983703698992</dd>\n",
       "\t<dt>mass_800</dt>\n",
       "\t\t<dd>0.0883143970133776</dd>\n",
       "</dl>\n"
      ],
      "text/latex": [
       "\\begin{description*}\n",
       "\\item[mass\\textbackslash{}\\_400] 1.33316435984572\n",
       "\\item[mass\\textbackslash{}\\_500] 1.62536911499084\n",
       "\\item[mass\\textbackslash{}\\_600] 1.61876676380163\n",
       "\\item[mass\\textbackslash{}\\_700] 0.278983703698992\n",
       "\\item[mass\\textbackslash{}\\_800] 0.0883143970133776\n",
       "\\end{description*}\n"
      ],
      "text/markdown": [
       "mass_400\n",
       ":   1.33316435984572mass_500\n",
       ":   1.62536911499084mass_600\n",
       ":   1.61876676380163mass_700\n",
       ":   0.278983703698992mass_800\n",
       ":   0.0883143970133776\n",
       "\n"
      ],
      "text/plain": [
       " mass_400  mass_500  mass_600  mass_700  mass_800 \n",
       "1.3331644 1.6253691 1.6187668 0.2789837 0.0883144 "
      ]
     },
     "metadata": {},
     "output_type": "display_data"
    },
    {
     "data": {
      "text/html": [
       "<ol class=list-inline>\n",
       "\t<li>'numeric'</li>\n",
       "\t<li>'vector'</li>\n",
       "</ol>\n"
      ],
      "text/latex": [
       "\\begin{enumerate*}\n",
       "\\item 'numeric'\n",
       "\\item 'vector'\n",
       "\\end{enumerate*}\n"
      ],
      "text/markdown": [
       "1. 'numeric'\n",
       "2. 'vector'\n",
       "\n",
       "\n"
      ],
      "text/plain": [
       "[1] \"numeric\" \"vector\" "
      ]
     },
     "metadata": {},
     "output_type": "display_data"
    }
   ],
   "source": [
    "avg<- apply(nonzero_wMeta[,9:ncol(nonzero_wMeta)], 2, function(x) tapply(x, nonzero_wMeta$Treatmentgroup, function(x) mean(x))) \n",
    "\n",
    "dim(avg)\n",
    "\n",
    "avg[,1:3]\n",
    "\n",
    "fch <- apply(avg, 2, function(x) x[1]/x[2])\n",
    "\n",
    "head(fch)\n",
    "is(fch)"
   ]
  },
  {
   "cell_type": "code",
   "execution_count": 9,
   "metadata": {
    "scrolled": true
   },
   "outputs": [
    {
     "data": {
      "text/html": [
       "<dl class=dl-horizontal>\n",
       "\t<dt>mass_400</dt>\n",
       "\t\t<dd>1.33316435984572</dd>\n",
       "\t<dt>mass_500</dt>\n",
       "\t\t<dd>1.62536911499084</dd>\n",
       "\t<dt>mass_600</dt>\n",
       "\t\t<dd>1.61876676380163</dd>\n",
       "\t<dt>mass_700</dt>\n",
       "\t\t<dd>0.278983703698992</dd>\n",
       "\t<dt>mass_800</dt>\n",
       "\t\t<dd>0.0883143970133776</dd>\n",
       "</dl>\n"
      ],
      "text/latex": [
       "\\begin{description*}\n",
       "\\item[mass\\textbackslash{}\\_400] 1.33316435984572\n",
       "\\item[mass\\textbackslash{}\\_500] 1.62536911499084\n",
       "\\item[mass\\textbackslash{}\\_600] 1.61876676380163\n",
       "\\item[mass\\textbackslash{}\\_700] 0.278983703698992\n",
       "\\item[mass\\textbackslash{}\\_800] 0.0883143970133776\n",
       "\\end{description*}\n"
      ],
      "text/markdown": [
       "mass_400\n",
       ":   1.33316435984572mass_500\n",
       ":   1.62536911499084mass_600\n",
       ":   1.61876676380163mass_700\n",
       ":   0.278983703698992mass_800\n",
       ":   0.0883143970133776\n",
       "\n"
      ],
      "text/plain": [
       " mass_400  mass_500  mass_600  mass_700  mass_800 \n",
       "1.3331644 1.6253691 1.6187668 0.2789837 0.0883144 "
      ]
     },
     "metadata": {},
     "output_type": "display_data"
    }
   ],
   "source": [
    "fch"
   ]
  },
  {
   "cell_type": "code",
   "execution_count": 10,
   "metadata": {
    "scrolled": false
   },
   "outputs": [],
   "source": [
    "df <- data.frame(fch,pval, pAdj)\n",
    "write.csv(df, \"PC-time-RVB-wilcox-1C-3E.csv\")"
   ]
  },
  {
   "cell_type": "code",
   "execution_count": null,
   "metadata": {},
   "outputs": [],
   "source": []
  },
  {
   "cell_type": "code",
   "execution_count": null,
   "metadata": {},
   "outputs": [],
   "source": []
  },
  {
   "cell_type": "code",
   "execution_count": null,
   "metadata": {},
   "outputs": [],
   "source": []
  },
  {
   "cell_type": "code",
   "execution_count": null,
   "metadata": {},
   "outputs": [],
   "source": []
  },
  {
   "cell_type": "code",
   "execution_count": null,
   "metadata": {},
   "outputs": [],
   "source": []
  },
  {
   "cell_type": "code",
   "execution_count": null,
   "metadata": {},
   "outputs": [],
   "source": []
  }
 ],
 "metadata": {
  "kernelspec": {
   "display_name": "R",
   "language": "R",
   "name": "ir"
  },
  "language_info": {
   "codemirror_mode": "r",
   "file_extension": ".r",
   "mimetype": "text/x-r-source",
   "name": "R",
   "pygments_lexer": "r",
   "version": "3.6.1"
  }
 },
 "nbformat": 4,
 "nbformat_minor": 2
}
