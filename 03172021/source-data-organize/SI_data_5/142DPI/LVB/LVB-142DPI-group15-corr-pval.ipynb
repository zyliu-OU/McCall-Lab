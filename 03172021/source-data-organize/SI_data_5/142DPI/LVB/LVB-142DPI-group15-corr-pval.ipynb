{
 "cells": [
  {
   "cell_type": "code",
   "execution_count": 1,
   "id": "d4c1e65e",
   "metadata": {
    "scrolled": true
   },
   "outputs": [
    {
     "name": "stdout",
     "output_type": "stream",
     "text": [
      "Empty DataFrame\n",
      "Columns: [Heart.Weight..Body.Weight, Liver.Weight..Body.Weight, Ejection.Fraction, PR.Interval..s., QTc..s., P.Amplitude..V., CD3.CD8.IFNg.]\n",
      "Index: []\n",
      "Empty DataFrame\n",
      "Columns: [X119.049_2.765, X251.037_0.323, X291.146_2.39, X386.717_2.856, X494.325_2.865, X620.356_2.913]\n",
      "Index: []\n",
      "['Heart.Weight..Body.Weight-X119.049_2.765', 'Heart.Weight..Body.Weight-X251.037_0.323', 'Heart.Weight..Body.Weight-X291.146_2.39', 'Heart.Weight..Body.Weight-X386.717_2.856', 'Heart.Weight..Body.Weight-X494.325_2.865', 'Heart.Weight..Body.Weight-X620.356_2.913', 'Liver.Weight..Body.Weight-X119.049_2.765', 'Liver.Weight..Body.Weight-X251.037_0.323', 'Liver.Weight..Body.Weight-X291.146_2.39', 'Liver.Weight..Body.Weight-X386.717_2.856', 'Liver.Weight..Body.Weight-X494.325_2.865', 'Liver.Weight..Body.Weight-X620.356_2.913', 'Ejection.Fraction-X119.049_2.765', 'Ejection.Fraction-X251.037_0.323', 'Ejection.Fraction-X291.146_2.39', 'Ejection.Fraction-X386.717_2.856', 'Ejection.Fraction-X494.325_2.865', 'Ejection.Fraction-X620.356_2.913', 'PR.Interval..s.-X119.049_2.765', 'PR.Interval..s.-X251.037_0.323', 'PR.Interval..s.-X291.146_2.39', 'PR.Interval..s.-X386.717_2.856', 'PR.Interval..s.-X494.325_2.865', 'PR.Interval..s.-X620.356_2.913', 'QTc..s.-X119.049_2.765', 'QTc..s.-X251.037_0.323', 'QTc..s.-X291.146_2.39', 'QTc..s.-X386.717_2.856', 'QTc..s.-X494.325_2.865', 'QTc..s.-X620.356_2.913', 'P.Amplitude..V.-X119.049_2.765', 'P.Amplitude..V.-X251.037_0.323', 'P.Amplitude..V.-X291.146_2.39', 'P.Amplitude..V.-X386.717_2.856', 'P.Amplitude..V.-X494.325_2.865', 'P.Amplitude..V.-X620.356_2.913', 'CD3.CD8.IFNg.-X119.049_2.765', 'CD3.CD8.IFNg.-X251.037_0.323', 'CD3.CD8.IFNg.-X291.146_2.39', 'CD3.CD8.IFNg.-X386.717_2.856', 'CD3.CD8.IFNg.-X494.325_2.865', 'CD3.CD8.IFNg.-X620.356_2.913']\n",
      "[0.06892256412637604, -0.11254591067586209, -0.2852771471379221, -0.1972941908743269, 0.04205636725474591, -0.2650200332634592, 0.5234389750742146, -0.4835670092651892, -0.39707360589197993, -0.3869045139761322, 0.5276337426890609, -0.3945699563336334, 0.45265702904158606, -0.21049263873069846, -0.09701756491625055, -0.22377350593422698, 0.17204140462822426, -0.10923248053392658, 0.25174339261770257, -0.42384838176685435, -0.2372927330767499, -0.385015661904347, 0.4133760256086273, -0.0841027928221265, 0.2930823928646824, -0.29426730096799986, -0.112064270586132, -0.1995678562704556, 0.34498948332563545, -0.07363737486095662, -0.2803889558960651, 0.3071737615367718, 0.5746943255108452, 0.32523122899301343, -0.004080033311341287, 0.4353726362625139, -0.3987296676058074, 0.277346806527583, 0.21971031771561886, 0.34182575901885975, -0.3677790849341027, 0.2748414529453115]\n",
      "[0.7174308692902063, 0.5537620553152132, 0.12649075917121536, 0.2960121977048089, 0.8253559470281315, 0.1569660997885144, 0.0029943286074894378, 0.0067848072581080466, 0.02980567816140518, 0.03467234018741832, 0.002731559093399933, 0.03094898649167012, 0.012015531227206493, 0.2642113315865118, 0.6100420152385223, 0.23454777960612228, 0.3633113217269044, 0.5655669637063159, 0.17959695281678772, 0.019589495378615186, 0.20673094275168127, 0.03564321168772296, 0.023172339211186003, 0.6585901365821218, 0.11599488855506843, 0.11445986395749, 0.555470906828883, 0.2903684181452346, 0.061890582810560674, 0.6989663216022932, 0.13341032796800328, 0.09870477462535795, 0.0008951082171902907, 0.0794811271526644, 0.9829283832499436, 0.01618811814026275, 0.029068458420763416, 0.1378541268017826, 0.24337556327070092, 0.06448118114168966, 0.04555263117420301, 0.14159400064249394]\n"
     ]
    }
   ],
   "source": [
    "import seaborn as sns\n",
    "import numpy as np\n",
    "import pandas as pd\n",
    "import matplotlib.pyplot as plt\n",
    "from scipy.stats import kendalltau, pearsonr, spearmanr\n",
    "\n",
    "def spearsonr_pval(x,y):\n",
    "    return spearmanr(x,y)[1]\n",
    "\n",
    "data_full = pd.read_csv(\"LVB-142DPI-metadata-feature-table.csv\")\n",
    "data_a = data_full[data_full[\"Treatmentgroup\"].isin([\"Group1C\",\"Group3E\"])]\n",
    "\n",
    "data_restore = pd.read_csv(\"LVB-mass-restored-15.csv\")\n",
    "data_restore_list = data_restore.filename.to_list()\n",
    "data_restore_list.insert(0, \"MouseID\")\n",
    "\n",
    "# this is metadata info, which is extra baylor information.\n",
    "# careful for the range, [a,b] mean a <= X < b. Also python is 0 based index.\n",
    "data_M = data_a.iloc[:, np.r_[0, 2:9]]\n",
    "data_M = data_M.set_index('MouseID')\n",
    "# this is metabolites, which is features.\n",
    "data_F = data_a[data_restore_list]\n",
    "data_F = data_F.set_index('MouseID')\n",
    "\n",
    "# get the two part of column names: metadata colum name and features column name.\n",
    "M_column_list = data_M.head(0)\n",
    "print(M_column_list)\n",
    "F_column_list = data_F.head(0)\n",
    "print(F_column_list)\n",
    "\n",
    "df_col_list = []\n",
    "df_corr_list = []\n",
    "df_pval_list = []\n",
    "\n",
    "for m_col in M_column_list:\n",
    "    for f_col in F_column_list:\n",
    "        col_1 = data_M[m_col]\n",
    "        col_2 = data_F[f_col]\n",
    "        corr_col_1_2 = col_1.corr(col_2, method='spearman')\n",
    "        corr_pval_col_1_2 = col_1.corr(col_2, method=spearsonr_pval)\n",
    "        df_col_list.append(m_col + \"-\" + f_col)\n",
    "        df_corr_list.append(corr_col_1_2)\n",
    "        df_pval_list.append(corr_pval_col_1_2)\n",
    "\n",
    "print(df_col_list)\n",
    "print(df_corr_list)\n",
    "print(df_pval_list)\n",
    "\n",
    "import statsmodels.api\n",
    "\n",
    "df_final = pd.DataFrame(list(zip(df_col_list, df_corr_list, df_pval_list)), columns=['col_name','corr', 'corr_pval'])\n",
    "\n",
    "df_final['corr'].replace('', float(\"NaN\"), inplace=True)\n",
    "df_final.dropna(subset=['corr'], inplace=True)\n",
    "\n",
    "dr_fdr_pval = statsmodels.stats.multitest.fdrcorrection(list(df_final[\"corr_pval\"]), method='indep')\n",
    "df_final['FDR_rejected'] = dr_fdr_pval[0]\n",
    "df_final['FDR_pval'] = dr_fdr_pval[1]\n",
    "\n",
    "df_final.to_csv('LVB-142DPI-group15-corr-pval.csv', index=False)"
   ]
  },
  {
   "cell_type": "code",
   "execution_count": null,
   "id": "d27fc6c8",
   "metadata": {},
   "outputs": [],
   "source": []
  }
 ],
 "metadata": {
  "kernelspec": {
   "display_name": "Python 3",
   "language": "python",
   "name": "python3"
  },
  "language_info": {
   "codemirror_mode": {
    "name": "ipython",
    "version": 3
   },
   "file_extension": ".py",
   "mimetype": "text/x-python",
   "name": "python",
   "nbconvert_exporter": "python",
   "pygments_lexer": "ipython3",
   "version": "3.8.13"
  }
 },
 "nbformat": 4,
 "nbformat_minor": 5
}
