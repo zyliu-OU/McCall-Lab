{
 "cells": [
  {
   "cell_type": "code",
   "execution_count": 1,
   "id": "d4c1e65e",
   "metadata": {
    "scrolled": true
   },
   "outputs": [
    {
     "name": "stdout",
     "output_type": "stream",
     "text": [
      "Empty DataFrame\n",
      "Columns: [Heart.Weight..Body.Weight, Liver.Weight..Body.Weight, Ejection.Fraction, PR.Interval..s., QTc..s., P.Amplitude..V., CD3.CD8.IFNg.]\n",
      "Index: []\n",
      "Empty DataFrame\n",
      "Columns: [X249.112_2.768, X272.222_2.957, X345.243_3.095, X546.029_2.319, X607.227_2.771, X690.434_3.14, X692.414_2.985, X720.445_3.09, X737.391_2.399, X776.095_2.398, X776.148_2.398, X776.359_2.398, X819.433_2.399, X867.281_2.399]\n",
      "Index: []\n",
      "['Heart.Weight..Body.Weight-X249.112_2.768', 'Heart.Weight..Body.Weight-X272.222_2.957', 'Heart.Weight..Body.Weight-X345.243_3.095', 'Heart.Weight..Body.Weight-X546.029_2.319', 'Heart.Weight..Body.Weight-X607.227_2.771', 'Heart.Weight..Body.Weight-X690.434_3.14', 'Heart.Weight..Body.Weight-X692.414_2.985', 'Heart.Weight..Body.Weight-X720.445_3.09', 'Heart.Weight..Body.Weight-X737.391_2.399', 'Heart.Weight..Body.Weight-X776.095_2.398', 'Heart.Weight..Body.Weight-X776.148_2.398', 'Heart.Weight..Body.Weight-X776.359_2.398', 'Heart.Weight..Body.Weight-X819.433_2.399', 'Heart.Weight..Body.Weight-X867.281_2.399', 'Liver.Weight..Body.Weight-X249.112_2.768', 'Liver.Weight..Body.Weight-X272.222_2.957', 'Liver.Weight..Body.Weight-X345.243_3.095', 'Liver.Weight..Body.Weight-X546.029_2.319', 'Liver.Weight..Body.Weight-X607.227_2.771', 'Liver.Weight..Body.Weight-X690.434_3.14', 'Liver.Weight..Body.Weight-X692.414_2.985', 'Liver.Weight..Body.Weight-X720.445_3.09', 'Liver.Weight..Body.Weight-X737.391_2.399', 'Liver.Weight..Body.Weight-X776.095_2.398', 'Liver.Weight..Body.Weight-X776.148_2.398', 'Liver.Weight..Body.Weight-X776.359_2.398', 'Liver.Weight..Body.Weight-X819.433_2.399', 'Liver.Weight..Body.Weight-X867.281_2.399', 'Ejection.Fraction-X249.112_2.768', 'Ejection.Fraction-X272.222_2.957', 'Ejection.Fraction-X345.243_3.095', 'Ejection.Fraction-X546.029_2.319', 'Ejection.Fraction-X607.227_2.771', 'Ejection.Fraction-X690.434_3.14', 'Ejection.Fraction-X692.414_2.985', 'Ejection.Fraction-X720.445_3.09', 'Ejection.Fraction-X737.391_2.399', 'Ejection.Fraction-X776.095_2.398', 'Ejection.Fraction-X776.148_2.398', 'Ejection.Fraction-X776.359_2.398', 'Ejection.Fraction-X819.433_2.399', 'Ejection.Fraction-X867.281_2.399', 'PR.Interval..s.-X249.112_2.768', 'PR.Interval..s.-X272.222_2.957', 'PR.Interval..s.-X345.243_3.095', 'PR.Interval..s.-X546.029_2.319', 'PR.Interval..s.-X607.227_2.771', 'PR.Interval..s.-X690.434_3.14', 'PR.Interval..s.-X692.414_2.985', 'PR.Interval..s.-X720.445_3.09', 'PR.Interval..s.-X737.391_2.399', 'PR.Interval..s.-X776.095_2.398', 'PR.Interval..s.-X776.148_2.398', 'PR.Interval..s.-X776.359_2.398', 'PR.Interval..s.-X819.433_2.399', 'PR.Interval..s.-X867.281_2.399', 'QTc..s.-X249.112_2.768', 'QTc..s.-X272.222_2.957', 'QTc..s.-X345.243_3.095', 'QTc..s.-X546.029_2.319', 'QTc..s.-X607.227_2.771', 'QTc..s.-X690.434_3.14', 'QTc..s.-X692.414_2.985', 'QTc..s.-X720.445_3.09', 'QTc..s.-X737.391_2.399', 'QTc..s.-X776.095_2.398', 'QTc..s.-X776.148_2.398', 'QTc..s.-X776.359_2.398', 'QTc..s.-X819.433_2.399', 'QTc..s.-X867.281_2.399', 'P.Amplitude..V.-X249.112_2.768', 'P.Amplitude..V.-X272.222_2.957', 'P.Amplitude..V.-X345.243_3.095', 'P.Amplitude..V.-X546.029_2.319', 'P.Amplitude..V.-X607.227_2.771', 'P.Amplitude..V.-X690.434_3.14', 'P.Amplitude..V.-X692.414_2.985', 'P.Amplitude..V.-X720.445_3.09', 'P.Amplitude..V.-X737.391_2.399', 'P.Amplitude..V.-X776.095_2.398', 'P.Amplitude..V.-X776.148_2.398', 'P.Amplitude..V.-X776.359_2.398', 'P.Amplitude..V.-X819.433_2.399', 'P.Amplitude..V.-X867.281_2.399', 'CD3.CD8.IFNg.-X249.112_2.768', 'CD3.CD8.IFNg.-X272.222_2.957', 'CD3.CD8.IFNg.-X345.243_3.095', 'CD3.CD8.IFNg.-X546.029_2.319', 'CD3.CD8.IFNg.-X607.227_2.771', 'CD3.CD8.IFNg.-X690.434_3.14', 'CD3.CD8.IFNg.-X692.414_2.985', 'CD3.CD8.IFNg.-X720.445_3.09', 'CD3.CD8.IFNg.-X737.391_2.399', 'CD3.CD8.IFNg.-X776.095_2.398', 'CD3.CD8.IFNg.-X776.148_2.398', 'CD3.CD8.IFNg.-X776.359_2.398', 'CD3.CD8.IFNg.-X819.433_2.399', 'CD3.CD8.IFNg.-X867.281_2.399']\n",
      "[-0.017071703293292977, -0.41677793644203115, -0.3056961493032951, -0.4361450755815425, 0.12439179894487525, 0.31289640785671297, 0.3450578892270808, 0.22004544579482938, -0.30159477174804433, -0.27389184408823647, -0.24668966437351805, -0.21527159927908848, -0.2555914113964686, -0.19469263124171438, 0.3881998251662468, -0.41682432499317285, -0.44710426377728546, -0.1692310531119632, 0.42527405133720336, 0.22768751954997296, 0.27629967887999907, 0.30293360459064406, -0.3946886918386747, -0.4108277956143579, -0.43066994167076994, -0.411443840910748, -0.4751836307323482, -0.45121080306762046, 0.4235535357223345, -0.1568409343715239, -0.0925934892514522, -0.11765638859770994, 0.21467903863833646, 0.26054066241986806, 0.22012020876555258, 0.29520595264572874, -0.22800633734281747, -0.22694891577235862, -0.24785849524827758, -0.21655911337601882, -0.2701079113387872, -0.2530664038476288, 0.1911368820144952, 0.1557459126335676, 0.021352252464507178, 0.12022246496320346, 0.2396992693646469, -0.012016021361815756, 0.23305510481047217, 0.028397372200326346, -0.1214590232369589, -0.17707994194494125, -0.10658655985758793, -0.10795771330762083, -0.12194036493101916, -0.18619731822966645, 0.0943226325574658, -0.035817575083426034, -0.38917113151550203, -0.028079729823122093, 0.12508857369477872, -0.08054288624764495, 0.0460716716020924, 0.0713375275073939, -0.3193441876136791, -0.32271734931712226, -0.2936922923947275, -0.30825731965651193, -0.2701079113387872, -0.35696855732163313, -0.30362904575641375, 0.6796440489432702, 0.3413659716513438, 0.33486818293194365, -0.3931355173264474, -0.2140393827907029, -0.2539506149661228, -0.1187394372327017, 0.28551535418002666, 0.3387529940036874, 0.25698075584538654, 0.22412644107877797, 0.28857492669391027, 0.274471139327252, -0.3381022782842601, 0.14865918264572311, 0.41924730030206525, 0.2379448963508399, -0.3698350312963694, -0.13621188852842955, -0.12044973914107934, -0.1610325089106407, 0.19615994144254223, 0.1589618395720414, 0.13643445697373746, 0.11911388251474576, 0.031270866565758754, 0.1837853196874539]\n",
      "[0.9286537953895869, 0.021953867051162784, 0.10042062450595715, 0.015978895073690606, 0.5125175549216086, 0.09226760755709489, 0.06183548203658447, 0.24263922151609496, 0.10530100131288785, 0.1430306099898999, 0.18878542338711135, 0.25326833866803233, 0.1728146687687241, 0.30255441633486985, 0.03401897065764676, 0.021937623332118072, 0.013244394170217078, 0.3713202261959446, 0.019139187718335064, 0.2262492787801312, 0.13940837568235911, 0.1036887178717053, 0.03089397351491054, 0.024120933365956845, 0.017511543021746956, 0.023888741417416415, 0.007962864348327008, 0.012326002853844532, 0.01968370701739952, 0.40784532058409895, 0.6265040274518534, 0.5357817122001634, 0.25460874067537276, 0.16436025458870226, 0.24247515491217178, 0.11325462476668373, 0.22558215864729103, 0.22779990090338562, 0.18663175754078615, 0.25037195428422654, 0.14886013457252478, 0.17724433154379565, 0.31164198236077967, 0.41116761525658707, 0.9108279985217302, 0.5268595469683075, 0.20202762480266467, 0.9497505520328863, 0.2151944267459217, 0.8815855888041061, 0.5225858335037926, 0.34921091374125, 0.5750749443087977, 0.5701388586729136, 0.5209268160955041, 0.324545282366129, 0.6200483392963159, 0.8509511779244581, 0.03353558685479795, 0.8829010462195507, 0.5101396518415262, 0.6722260285190367, 0.8089734278548502, 0.7079529187487792, 0.08540218060930291, 0.08196969066451977, 0.11520287783601749, 0.09746063913417038, 0.14886013457252478, 0.05281146797508552, 0.10285858782566093, 3.6186545176733614e-05, 0.0648646101257547, 0.0704755248166872, 0.031619895758555235, 0.2560608997907987, 0.17568414538354693, 0.5320072310809654, 0.12616044511816565, 0.06707750626421903, 0.17041096574102318, 0.2337912408110612, 0.1219741086546451, 0.14215297547673217, 0.0676376162273111, 0.4330326380100513, 0.021102809008267692, 0.2054490058495234, 0.044266701395157794, 0.47293145654399626, 0.5260727935376952, 0.3952686582120769, 0.29885343844895146, 0.4014536920043068, 0.47220166882731773, 0.5307052386613209, 0.8696999817205655, 0.3309636580311912]\n"
     ]
    }
   ],
   "source": [
    "import seaborn as sns\n",
    "import numpy as np\n",
    "import pandas as pd\n",
    "import matplotlib.pyplot as plt\n",
    "from scipy.stats import kendalltau, pearsonr, spearmanr\n",
    "\n",
    "def spearsonr_pval(x,y):\n",
    "    return spearmanr(x,y)[1]\n",
    "\n",
    "data_full = pd.read_csv(\"LVT-142DPI-metadata-feature-table.csv\")\n",
    "data_a = data_full[data_full[\"Treatmentgroup\"].isin([\"Group1C\",\"Group3E\"])]\n",
    "\n",
    "data_restore = pd.read_csv(\"LVT-mass-restored-9.csv\")\n",
    "data_restore_list = data_restore.filename.to_list()\n",
    "data_restore_list.insert(0, \"MouseID\")\n",
    "\n",
    "# this is metadata info, which is extra baylor information.\n",
    "# careful for the range, [a,b] mean a <= X < b. Also python is 0 based index.\n",
    "data_M = data_a.iloc[:, np.r_[0, 2:9]]\n",
    "data_M = data_M.set_index('MouseID')\n",
    "# this is metabolites, which is features.\n",
    "data_F = data_a[data_restore_list]\n",
    "data_F = data_F.set_index('MouseID')\n",
    "\n",
    "# get the two part of column names: metadata colum name and features column name.\n",
    "M_column_list = data_M.head(0)\n",
    "print(M_column_list)\n",
    "F_column_list = data_F.head(0)\n",
    "print(F_column_list)\n",
    "\n",
    "df_col_list = []\n",
    "df_corr_list = []\n",
    "df_pval_list = []\n",
    "\n",
    "for m_col in M_column_list:\n",
    "    for f_col in F_column_list:\n",
    "        col_1 = data_M[m_col]\n",
    "        col_2 = data_F[f_col]\n",
    "        corr_col_1_2 = col_1.corr(col_2, method='spearman')\n",
    "        corr_pval_col_1_2 = col_1.corr(col_2, method=spearsonr_pval)\n",
    "        df_col_list.append(m_col + \"-\" + f_col)\n",
    "        df_corr_list.append(corr_col_1_2)\n",
    "        df_pval_list.append(corr_pval_col_1_2)\n",
    "\n",
    "print(df_col_list)\n",
    "print(df_corr_list)\n",
    "print(df_pval_list)\n",
    "\n",
    "import statsmodels.api\n",
    "dr_fdr_pval = statsmodels.stats.multitest.fdrcorrection(df_pval_list, method='indep')\n",
    "df_final = pd.DataFrame(list(zip(df_col_list, df_corr_list, df_pval_list, dr_fdr_pval[0], dr_fdr_pval[1])), columns=['col_name','corr', 'corr_pval', 'FDR_rejected', 'FDR_pval'])\n",
    "\n",
    "df_final.to_csv('LVT-142DPI-group9-corr-pval.csv', index=False)"
   ]
  },
  {
   "cell_type": "code",
   "execution_count": null,
   "id": "d27fc6c8",
   "metadata": {},
   "outputs": [],
   "source": []
  }
 ],
 "metadata": {
  "kernelspec": {
   "display_name": "Python 3",
   "language": "python",
   "name": "python3"
  },
  "language_info": {
   "codemirror_mode": {
    "name": "ipython",
    "version": 3
   },
   "file_extension": ".py",
   "mimetype": "text/x-python",
   "name": "python",
   "nbconvert_exporter": "python",
   "pygments_lexer": "ipython3",
   "version": "3.8.13"
  }
 },
 "nbformat": 4,
 "nbformat_minor": 5
}
