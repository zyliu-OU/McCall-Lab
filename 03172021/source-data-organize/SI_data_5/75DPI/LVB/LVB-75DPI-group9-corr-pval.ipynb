{
 "cells": [
  {
   "cell_type": "code",
   "execution_count": 1,
   "id": "d4c1e65e",
   "metadata": {
    "scrolled": true
   },
   "outputs": [
    {
     "name": "stdout",
     "output_type": "stream",
     "text": [
      "Empty DataFrame\n",
      "Columns: [Heart.weight..Body.weight.ratio, Liver.weight..Body.weight.ratio, Ejection.Fraction, PR.Interval..s., QTc..s., P.Amplitude..V., CD3.CD8.IFNg.]\n",
      "Index: []\n",
      "Empty DataFrame\n",
      "Columns: [X105.07_2.767, X249.112_2.768, X258.207_2.775, X267.123_2.767, X352.306_2.997, X369.17_2.767, X396.332_2.991, X430.223_2.769, X440.359_2.985, X484.385_2.982, X489.228_2.768, X599.241_2.765, X604.362_2.948, X790.38_2.768, X795.335_2.768]\n",
      "Index: []\n",
      "['Heart.weight..Body.weight.ratio-X105.07_2.767', 'Heart.weight..Body.weight.ratio-X249.112_2.768', 'Heart.weight..Body.weight.ratio-X258.207_2.775', 'Heart.weight..Body.weight.ratio-X267.123_2.767', 'Heart.weight..Body.weight.ratio-X352.306_2.997', 'Heart.weight..Body.weight.ratio-X369.17_2.767', 'Heart.weight..Body.weight.ratio-X396.332_2.991', 'Heart.weight..Body.weight.ratio-X430.223_2.769', 'Heart.weight..Body.weight.ratio-X440.359_2.985', 'Heart.weight..Body.weight.ratio-X484.385_2.982', 'Heart.weight..Body.weight.ratio-X489.228_2.768', 'Heart.weight..Body.weight.ratio-X599.241_2.765', 'Heart.weight..Body.weight.ratio-X604.362_2.948', 'Heart.weight..Body.weight.ratio-X790.38_2.768', 'Heart.weight..Body.weight.ratio-X795.335_2.768', 'Liver.weight..Body.weight.ratio-X105.07_2.767', 'Liver.weight..Body.weight.ratio-X249.112_2.768', 'Liver.weight..Body.weight.ratio-X258.207_2.775', 'Liver.weight..Body.weight.ratio-X267.123_2.767', 'Liver.weight..Body.weight.ratio-X352.306_2.997', 'Liver.weight..Body.weight.ratio-X369.17_2.767', 'Liver.weight..Body.weight.ratio-X396.332_2.991', 'Liver.weight..Body.weight.ratio-X430.223_2.769', 'Liver.weight..Body.weight.ratio-X440.359_2.985', 'Liver.weight..Body.weight.ratio-X484.385_2.982', 'Liver.weight..Body.weight.ratio-X489.228_2.768', 'Liver.weight..Body.weight.ratio-X599.241_2.765', 'Liver.weight..Body.weight.ratio-X604.362_2.948', 'Liver.weight..Body.weight.ratio-X790.38_2.768', 'Liver.weight..Body.weight.ratio-X795.335_2.768', 'Ejection.Fraction-X105.07_2.767', 'Ejection.Fraction-X249.112_2.768', 'Ejection.Fraction-X258.207_2.775', 'Ejection.Fraction-X267.123_2.767', 'Ejection.Fraction-X352.306_2.997', 'Ejection.Fraction-X369.17_2.767', 'Ejection.Fraction-X396.332_2.991', 'Ejection.Fraction-X430.223_2.769', 'Ejection.Fraction-X440.359_2.985', 'Ejection.Fraction-X484.385_2.982', 'Ejection.Fraction-X489.228_2.768', 'Ejection.Fraction-X599.241_2.765', 'Ejection.Fraction-X604.362_2.948', 'Ejection.Fraction-X790.38_2.768', 'Ejection.Fraction-X795.335_2.768', 'PR.Interval..s.-X105.07_2.767', 'PR.Interval..s.-X249.112_2.768', 'PR.Interval..s.-X258.207_2.775', 'PR.Interval..s.-X267.123_2.767', 'PR.Interval..s.-X352.306_2.997', 'PR.Interval..s.-X369.17_2.767', 'PR.Interval..s.-X396.332_2.991', 'PR.Interval..s.-X430.223_2.769', 'PR.Interval..s.-X440.359_2.985', 'PR.Interval..s.-X484.385_2.982', 'PR.Interval..s.-X489.228_2.768', 'PR.Interval..s.-X599.241_2.765', 'PR.Interval..s.-X604.362_2.948', 'PR.Interval..s.-X790.38_2.768', 'PR.Interval..s.-X795.335_2.768', 'QTc..s.-X105.07_2.767', 'QTc..s.-X249.112_2.768', 'QTc..s.-X258.207_2.775', 'QTc..s.-X267.123_2.767', 'QTc..s.-X352.306_2.997', 'QTc..s.-X369.17_2.767', 'QTc..s.-X396.332_2.991', 'QTc..s.-X430.223_2.769', 'QTc..s.-X440.359_2.985', 'QTc..s.-X484.385_2.982', 'QTc..s.-X489.228_2.768', 'QTc..s.-X599.241_2.765', 'QTc..s.-X604.362_2.948', 'QTc..s.-X790.38_2.768', 'QTc..s.-X795.335_2.768', 'P.Amplitude..V.-X105.07_2.767', 'P.Amplitude..V.-X249.112_2.768', 'P.Amplitude..V.-X258.207_2.775', 'P.Amplitude..V.-X267.123_2.767', 'P.Amplitude..V.-X352.306_2.997', 'P.Amplitude..V.-X369.17_2.767', 'P.Amplitude..V.-X396.332_2.991', 'P.Amplitude..V.-X430.223_2.769', 'P.Amplitude..V.-X440.359_2.985', 'P.Amplitude..V.-X484.385_2.982', 'P.Amplitude..V.-X489.228_2.768', 'P.Amplitude..V.-X599.241_2.765', 'P.Amplitude..V.-X604.362_2.948', 'P.Amplitude..V.-X790.38_2.768', 'P.Amplitude..V.-X795.335_2.768', 'CD3.CD8.IFNg.-X105.07_2.767', 'CD3.CD8.IFNg.-X249.112_2.768', 'CD3.CD8.IFNg.-X258.207_2.775', 'CD3.CD8.IFNg.-X267.123_2.767', 'CD3.CD8.IFNg.-X352.306_2.997', 'CD3.CD8.IFNg.-X369.17_2.767', 'CD3.CD8.IFNg.-X396.332_2.991', 'CD3.CD8.IFNg.-X430.223_2.769', 'CD3.CD8.IFNg.-X440.359_2.985', 'CD3.CD8.IFNg.-X484.385_2.982', 'CD3.CD8.IFNg.-X489.228_2.768', 'CD3.CD8.IFNg.-X599.241_2.765', 'CD3.CD8.IFNg.-X604.362_2.948', 'CD3.CD8.IFNg.-X790.38_2.768', 'CD3.CD8.IFNg.-X795.335_2.768']\n",
      "[0.20469462803268887, 0.2435059539003542, -0.0841027928221265, 0.2060295929981194, -0.10040364405957132, 0.2347313397548769, 0.09692808122502192, 0.2213816901005711, 0.032582527139492466, 0.314731286653969, 0.28434753763671344, 0.1642006907479613, -0.0970074541546221, 0.19156747253928816, 0.22449660835324245, -0.18131256952169075, -0.1910818573545532, -0.011345939933259176, -0.13548387096774192, 0.24307795027247345, -0.16929922135706338, -0.016502945626104392, -0.05850945494994438, 0.1077390025574151, 0.08544982604772385, -0.12258064516129033, -0.04204671857619577, -0.6729699666295884, -0.11012235817575085, -0.023359288097886538, -0.18086763070077863, -0.22764828046557614, -0.2395995550611791, -0.17196885428253617, 0.20548417237444594, -0.20444938820912126, -0.00930166026198611, -0.2146829810901001, 0.080589917032337, 0.024468011863885683, -0.217797552836485, -0.18620689655172412, -0.37619577308120133, -0.24983314794215797, -0.23692992213570632, 0.2, 0.2254186205197821, -0.12302558398220245, 0.13948832035595105, 0.0798867780333085, 0.1568409343715239, 0.3081550028728947, 0.2289210233592881, 0.13231606945380156, 0.2939925733183803, 0.22981090100111232, 0.1621802002224694, 0.019799777530589546, 0.16662958843159065, 0.08698553948832036, 0.03314794215795328, -0.11750307914334833, 0.2921023359288098, 0.06562847608453837, 0.30032302116265175, 0.058064516129032254, 0.3063546815318651, 0.014015572858731925, 0.3895179323229622, 0.14530234737630573, -0.03225806451612903, 0.0028921023359288096, -0.14126807563959956, 0.02736373748609566, 0.10522803114571745, 0.16887306812696828, 0.19957676624616943, 0.2943597748774428, 0.19824229736644106, -0.10211264225632997, 0.18533763603394543, 0.3069889383690323, 0.3842474158831018, 0.19006474164703938, 0.3847552332061678, 0.2220491725832864, 0.2336188689503514, 0.16664812651791733, 0.2093670054116959, 0.14729113451917394, 0.34824210920009535, 0.187333115971409, 0.18713841139762313, 0.3582554605828457, 0.0034183767414174048, 0.327992887514978, 0.163265460531885, 0.24477081157834182, 0.08803978140819135, -0.1490998307357626, 0.2928348982155435, 0.37160659575984617, 0.08989764352513645, 0.37383178495601294, 0.40142413098848057]\n",
      "[0.2778954442608585, 0.1947393373839726, 0.6585901365821218, 0.2747050772213834, 0.5975666370017063, 0.21181885621490812, 0.6103731792358988, 0.23971796384046745, 0.8642836514491691, 0.09027263143092079, 0.1277859076566546, 0.38591154352479795, 0.6100794296762018, 0.31053254872366837, 0.23299952210398756, 0.33762364661788613, 0.3117839333533764, 0.9525495284707406, 0.4753226725916998, 0.19554956855508887, 0.37112474496213166, 0.9310250494349251, 0.7587555295721804, 0.5709249252886535, 0.6534580182941085, 0.5187239738546685, 0.8253954034384129, 4.6074472939184925e-05, 0.5623853600295885, 0.9024840214769162, 0.3388306028207365, 0.22633147767031775, 0.20222102890238203, 0.36351678056146075, 0.27600568264670755, 0.27848411242311555, 0.9610919077536896, 0.25459980726887743, 0.6720452035995115, 0.8978789593329488, 0.24760667595245606, 0.32451994800340633, 0.040470638922952794, 0.18303238334809965, 0.2074464796327854, 0.2893035287254401, 0.23103533098824483, 0.5171958749078978, 0.46224773674605024, 0.6747505122145888, 0.40784532058409895, 0.09757760970202443, 0.2236755678450295, 0.48580008161261734, 0.11481441527368175, 0.22183117032217686, 0.3918641249582424, 0.9172886297292692, 0.37882530745394083, 0.6476258966269068, 0.8619506877791012, 0.5363170317336186, 0.11727604296198565, 0.7304254391781347, 0.10684984335354802, 0.7605367958476298, 0.09965316201184451, 0.9414018983829737, 0.03336434762166542, 0.44360724466409773, 0.8656229259026104, 0.9878984726602261, 0.45649818440480905, 0.8858673112521354, 0.5799843284843305, 0.37234778511695377, 0.2903464370279933, 0.11434070460597798, 0.29365039425693706, 0.5913120858591792, 0.32682407019188486, 0.0989181783517994, 0.03604430601569963, 0.31441511134470634, 0.03577877411126913, 0.2382675483671276, 0.21405506598901897, 0.3787715160271947, 0.26683298533786737, 0.4373254804305282, 0.05931278040601938, 0.321549619063193, 0.32206193592369514, 0.05190230755310559, 0.9856965696639645, 0.07681463488771714, 0.3886603143533598, 0.19235851442027863, 0.6436340180717881, 0.4316548385365847, 0.1163174340518118, 0.04318201313642984, 0.636622897235435, 0.041849764858238915, 0.027900718124480067]\n"
     ]
    }
   ],
   "source": [
    "import seaborn as sns\n",
    "import numpy as np\n",
    "import pandas as pd\n",
    "import matplotlib.pyplot as plt\n",
    "from scipy.stats import kendalltau, pearsonr, spearmanr\n",
    "\n",
    "def spearsonr_pval(x,y):\n",
    "    return spearmanr(x,y)[1]\n",
    "\n",
    "data_a = pd.read_csv(\"LVB-75DPI-metadata-feature-table.csv\")\n",
    "\n",
    "data_restore = pd.read_csv(\"LVB-mass-restored-9.csv\")\n",
    "data_restore_list = data_restore.filename.to_list()\n",
    "data_restore_list.insert(0, \"MouseID\")\n",
    "\n",
    "# this is metadata info, which is extra baylor information.\n",
    "# careful for the range, [a,b] mean a <= X < b. Also python is 0 based index.\n",
    "data_M = data_a.iloc[:, np.r_[0, 1:8]]\n",
    "data_M = data_M.set_index('MouseID')\n",
    "# this is metabolites, which is features.\n",
    "data_F = data_a[data_restore_list]\n",
    "data_F = data_F.set_index('MouseID')\n",
    "\n",
    "# get the two part of column names: metadata colum name and features column name.\n",
    "M_column_list = data_M.head(0)\n",
    "print(M_column_list)\n",
    "F_column_list = data_F.head(0)\n",
    "print(F_column_list)\n",
    "\n",
    "df_col_list = []\n",
    "df_corr_list = []\n",
    "df_pval_list = []\n",
    "\n",
    "for m_col in M_column_list:\n",
    "    for f_col in F_column_list:\n",
    "        col_1 = data_M[m_col]\n",
    "        col_2 = data_F[f_col]\n",
    "        corr_col_1_2 = col_1.corr(col_2, method='spearman')\n",
    "        corr_pval_col_1_2 = col_1.corr(col_2, method=spearsonr_pval)\n",
    "        df_col_list.append(m_col + \"-\" + f_col)\n",
    "        df_corr_list.append(corr_col_1_2)\n",
    "        df_pval_list.append(corr_pval_col_1_2)\n",
    "\n",
    "print(df_col_list)\n",
    "print(df_corr_list)\n",
    "print(df_pval_list)\n",
    "\n",
    "import statsmodels.api\n",
    "\n",
    "df_final = pd.DataFrame(list(zip(df_col_list, df_corr_list, df_pval_list)), columns=['col_name','corr', 'corr_pval'])\n",
    "\n",
    "df_final['corr'].replace('', float(\"NaN\"), inplace=True)\n",
    "df_final.dropna(subset=['corr'], inplace=True)\n",
    "\n",
    "dr_fdr_pval = statsmodels.stats.multitest.fdrcorrection(list(df_final[\"corr_pval\"]), method='indep')\n",
    "df_final['FDR_rejected'] = dr_fdr_pval[0]\n",
    "df_final['FDR_pval'] = dr_fdr_pval[1]\n",
    "\n",
    "df_final.to_csv('LVB-75DPI-group9-corr-pval.csv', index=False)"
   ]
  },
  {
   "cell_type": "code",
   "execution_count": null,
   "id": "d27fc6c8",
   "metadata": {},
   "outputs": [],
   "source": []
  }
 ],
 "metadata": {
  "kernelspec": {
   "display_name": "Python 3",
   "language": "python",
   "name": "python3"
  },
  "language_info": {
   "codemirror_mode": {
    "name": "ipython",
    "version": 3
   },
   "file_extension": ".py",
   "mimetype": "text/x-python",
   "name": "python",
   "nbconvert_exporter": "python",
   "pygments_lexer": "ipython3",
   "version": "3.8.13"
  }
 },
 "nbformat": 4,
 "nbformat_minor": 5
}
