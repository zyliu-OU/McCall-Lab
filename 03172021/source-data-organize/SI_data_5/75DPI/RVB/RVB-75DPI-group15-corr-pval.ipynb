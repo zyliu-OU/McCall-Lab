{
 "cells": [
  {
   "cell_type": "code",
   "execution_count": 1,
   "id": "d4c1e65e",
   "metadata": {
    "scrolled": true
   },
   "outputs": [
    {
     "name": "stdout",
     "output_type": "stream",
     "text": [
      "Empty DataFrame\n",
      "Columns: [Heart.weight..Body.weight.ratio, Liver.weight..Body.weight.ratio, Ejection.Fraction, PR.Interval..s., QTc..s., P.Amplitude..V., CD3.CD8.IFNg.]\n",
      "Index: []\n",
      "Empty DataFrame\n",
      "Columns: [X277.216_3.018, X295.227_3.017, X327.232_3.01, X522.357_2.957, X544.34_2.89, X568.341_2.887, X590.322_2.887, X604.362_2.948]\n",
      "Index: []\n",
      "['Heart.weight..Body.weight.ratio-X277.216_3.018', 'Heart.weight..Body.weight.ratio-X295.227_3.017', 'Heart.weight..Body.weight.ratio-X327.232_3.01', 'Heart.weight..Body.weight.ratio-X522.357_2.957', 'Heart.weight..Body.weight.ratio-X544.34_2.89', 'Heart.weight..Body.weight.ratio-X568.341_2.887', 'Heart.weight..Body.weight.ratio-X590.322_2.887', 'Heart.weight..Body.weight.ratio-X604.362_2.948', 'Liver.weight..Body.weight.ratio-X277.216_3.018', 'Liver.weight..Body.weight.ratio-X295.227_3.017', 'Liver.weight..Body.weight.ratio-X327.232_3.01', 'Liver.weight..Body.weight.ratio-X522.357_2.957', 'Liver.weight..Body.weight.ratio-X544.34_2.89', 'Liver.weight..Body.weight.ratio-X568.341_2.887', 'Liver.weight..Body.weight.ratio-X590.322_2.887', 'Liver.weight..Body.weight.ratio-X604.362_2.948', 'Ejection.Fraction-X277.216_3.018', 'Ejection.Fraction-X295.227_3.017', 'Ejection.Fraction-X327.232_3.01', 'Ejection.Fraction-X522.357_2.957', 'Ejection.Fraction-X544.34_2.89', 'Ejection.Fraction-X568.341_2.887', 'Ejection.Fraction-X590.322_2.887', 'Ejection.Fraction-X604.362_2.948', 'PR.Interval..s.-X277.216_3.018', 'PR.Interval..s.-X295.227_3.017', 'PR.Interval..s.-X327.232_3.01', 'PR.Interval..s.-X522.357_2.957', 'PR.Interval..s.-X544.34_2.89', 'PR.Interval..s.-X568.341_2.887', 'PR.Interval..s.-X590.322_2.887', 'PR.Interval..s.-X604.362_2.948', 'QTc..s.-X277.216_3.018', 'QTc..s.-X295.227_3.017', 'QTc..s.-X327.232_3.01', 'QTc..s.-X522.357_2.957', 'QTc..s.-X544.34_2.89', 'QTc..s.-X568.341_2.887', 'QTc..s.-X590.322_2.887', 'QTc..s.-X604.362_2.948', 'P.Amplitude..V.-X277.216_3.018', 'P.Amplitude..V.-X295.227_3.017', 'P.Amplitude..V.-X327.232_3.01', 'P.Amplitude..V.-X522.357_2.957', 'P.Amplitude..V.-X544.34_2.89', 'P.Amplitude..V.-X568.341_2.887', 'P.Amplitude..V.-X590.322_2.887', 'P.Amplitude..V.-X604.362_2.948', 'CD3.CD8.IFNg.-X277.216_3.018', 'CD3.CD8.IFNg.-X295.227_3.017', 'CD3.CD8.IFNg.-X327.232_3.01', 'CD3.CD8.IFNg.-X522.357_2.957', 'CD3.CD8.IFNg.-X544.34_2.89', 'CD3.CD8.IFNg.-X568.341_2.887', 'CD3.CD8.IFNg.-X590.322_2.887', 'CD3.CD8.IFNg.-X604.362_2.948']\n",
      "[-0.11776782045981544, -0.1940149083092442, -0.11852846843514639, -0.2529758609490948, -0.22872399741043928, -0.06852820155876974, 0.0006682261960186463, -0.12415174178504387, 0.09424854954763047, 0.07808676307007786, 0.4009518020176428, 0.47274749721913245, 0.4006674082313682, 0.5995550611790879, 0.5937642879775349, 0.006006674082313682, -0.2899094338816662, -0.32947719688542826, -0.003448553343041653, 0.20667408231368187, -0.03270300333704116, 0.2667408231368187, 0.20222729688057076, -0.47630700778642937, 0.11305348579941422, 0.045606229143492764, -0.13587300171584113, -0.32947719688542826, -0.24671857619577306, -0.2729699666295884, -0.18129187187311077, -0.16129032258064516, 0.13991768044481961, 0.14482758620689654, 0.1262170523553245, 0.12658509454949946, 0.014460511679644046, 0.09499443826473859, 0.010022277929103176, -0.1421579532814238, -0.18784639042924936, -0.1875625776429964, -0.3857061218233911, -0.5290911146323196, -0.398487042181028, -0.576037382583295, -0.4606305911221868, -0.23228390398492083, 0.04097701398064162, 0.06453048668883557, -0.10543423902166017, -0.08121940566008615, -0.061192702894585456, -0.1317312004130712, -0.2018267675835236, -0.08767245432896971]\n",
      "[0.5353927788066886, 0.3042735124968385, 0.5327414685695742, 0.1774046427607925, 0.2240853294283098, 0.7189825718063052, 0.9972038212714104, 0.5133380678738173, 0.6203243629733857, 0.6816940840224225, 0.028102609255588336, 0.008336015221846836, 0.02822474251231027, 0.00046271291661928205, 0.0005421770752309187, 0.9748690768685239, 0.12018063806746312, 0.0754102386411296, 0.9855703154033696, 0.2731733406798361, 0.8637864591472519, 0.15418993850617566, 0.2838545043066971, 0.0077956124926852, 0.5519638248294869, 0.8108685300024908, 0.4740437706616454, 0.0754102386411296, 0.18873194299723545, 0.14443534969139737, 0.33767973378509386, 0.39450240707300055, 0.4608571912749605, 0.4451139889332255, 0.5063000679306309, 0.5050509404621222, 0.9395449585639918, 0.6175475919174654, 0.9580801513028624, 0.4536377262539488, 0.32020147671075355, 0.3209464935666049, 0.03528580550667905, 0.002645047185576614, 0.02917553002451511, 0.0008649154455070145, 0.010418955197813278, 0.21675969328747827, 0.8297723186539345, 0.7347733149613844, 0.5792379502606173, 0.6696266629367325, 0.7480393632097926, 0.48774734604141345, 0.2848295117752928, 0.6450238032296903]\n"
     ]
    }
   ],
   "source": [
    "import seaborn as sns\n",
    "import numpy as np\n",
    "import pandas as pd\n",
    "import matplotlib.pyplot as plt\n",
    "from scipy.stats import kendalltau, pearsonr, spearmanr\n",
    "\n",
    "def spearsonr_pval(x,y):\n",
    "    return spearmanr(x,y)[1]\n",
    "\n",
    "data_a = pd.read_csv(\"RVB-75DPI-metadata-feature-table.csv\")\n",
    "\n",
    "data_restore = pd.read_csv(\"RVB-mass-restored-15.csv\")\n",
    "data_restore_list = data_restore.filename.to_list()\n",
    "data_restore_list.insert(0, \"MouseID\")\n",
    "\n",
    "# this is metadata info, which is extra baylor information.\n",
    "# careful for the range, [a,b] mean a <= X < b. Also python is 0 based index.\n",
    "data_M = data_a.iloc[:, np.r_[0, 1:8]]\n",
    "data_M = data_M.set_index('MouseID')\n",
    "# this is metabolites, which is features.\n",
    "data_F = data_a[data_restore_list]\n",
    "data_F = data_F.set_index('MouseID')\n",
    "\n",
    "# get the two part of column names: metadata colum name and features column name.\n",
    "M_column_list = data_M.head(0)\n",
    "print(M_column_list)\n",
    "F_column_list = data_F.head(0)\n",
    "print(F_column_list)\n",
    "\n",
    "df_col_list = []\n",
    "df_corr_list = []\n",
    "df_pval_list = []\n",
    "\n",
    "for m_col in M_column_list:\n",
    "    for f_col in F_column_list:\n",
    "        col_1 = data_M[m_col]\n",
    "        col_2 = data_F[f_col]\n",
    "        corr_col_1_2 = col_1.corr(col_2, method='spearman')\n",
    "        corr_pval_col_1_2 = col_1.corr(col_2, method=spearsonr_pval)\n",
    "        df_col_list.append(m_col + \"-\" + f_col)\n",
    "        df_corr_list.append(corr_col_1_2)\n",
    "        df_pval_list.append(corr_pval_col_1_2)\n",
    "\n",
    "print(df_col_list)\n",
    "print(df_corr_list)\n",
    "print(df_pval_list)\n",
    "\n",
    "import statsmodels.api\n",
    "\n",
    "df_final = pd.DataFrame(list(zip(df_col_list, df_corr_list, df_pval_list)), columns=['col_name','corr', 'corr_pval'])\n",
    "\n",
    "df_final['corr'].replace('', float(\"NaN\"), inplace=True)\n",
    "df_final.dropna(subset=['corr'], inplace=True)\n",
    "\n",
    "dr_fdr_pval = statsmodels.stats.multitest.fdrcorrection(list(df_final[\"corr_pval\"]), method='indep')\n",
    "df_final['FDR_rejected'] = dr_fdr_pval[0]\n",
    "df_final['FDR_pval'] = dr_fdr_pval[1]\n",
    "\n",
    "df_final.to_csv('RVB-75DPI-group15-corr-pval.csv', index=False)"
   ]
  },
  {
   "cell_type": "code",
   "execution_count": null,
   "id": "d27fc6c8",
   "metadata": {},
   "outputs": [],
   "source": []
  }
 ],
 "metadata": {
  "kernelspec": {
   "display_name": "Python 3",
   "language": "python",
   "name": "python3"
  },
  "language_info": {
   "codemirror_mode": {
    "name": "ipython",
    "version": 3
   },
   "file_extension": ".py",
   "mimetype": "text/x-python",
   "name": "python",
   "nbconvert_exporter": "python",
   "pygments_lexer": "ipython3",
   "version": "3.8.13"
  }
 },
 "nbformat": 4,
 "nbformat_minor": 5
}
