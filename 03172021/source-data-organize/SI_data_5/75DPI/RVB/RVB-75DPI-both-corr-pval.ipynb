{
 "cells": [
  {
   "cell_type": "code",
   "execution_count": 1,
   "id": "d4c1e65e",
   "metadata": {
    "scrolled": true
   },
   "outputs": [
    {
     "name": "stdout",
     "output_type": "stream",
     "text": [
      "Empty DataFrame\n",
      "Columns: [Heart.weight..Body.weight.ratio, Liver.weight..Body.weight.ratio, Ejection.Fraction, PR.Interval..s., QTc..s., P.Amplitude..V., CD3.CD8.IFNg.]\n",
      "Index: []\n",
      "Empty DataFrame\n",
      "Columns: [X132.102_0.307, X226.181_2.61, X256.227_2.847, X278.186_2.23, X298.2_2.676, X348.288_3.044, X502.294_2.879]\n",
      "Index: []\n",
      "['Heart.weight..Body.weight.ratio-X132.102_0.307', 'Heart.weight..Body.weight.ratio-X226.181_2.61', 'Heart.weight..Body.weight.ratio-X256.227_2.847', 'Heart.weight..Body.weight.ratio-X278.186_2.23', 'Heart.weight..Body.weight.ratio-X298.2_2.676', 'Heart.weight..Body.weight.ratio-X348.288_3.044', 'Heart.weight..Body.weight.ratio-X502.294_2.879', 'Liver.weight..Body.weight.ratio-X132.102_0.307', 'Liver.weight..Body.weight.ratio-X226.181_2.61', 'Liver.weight..Body.weight.ratio-X256.227_2.847', 'Liver.weight..Body.weight.ratio-X278.186_2.23', 'Liver.weight..Body.weight.ratio-X298.2_2.676', 'Liver.weight..Body.weight.ratio-X348.288_3.044', 'Liver.weight..Body.weight.ratio-X502.294_2.879', 'Ejection.Fraction-X132.102_0.307', 'Ejection.Fraction-X226.181_2.61', 'Ejection.Fraction-X256.227_2.847', 'Ejection.Fraction-X278.186_2.23', 'Ejection.Fraction-X298.2_2.676', 'Ejection.Fraction-X348.288_3.044', 'Ejection.Fraction-X502.294_2.879', 'PR.Interval..s.-X132.102_0.307', 'PR.Interval..s.-X226.181_2.61', 'PR.Interval..s.-X256.227_2.847', 'PR.Interval..s.-X278.186_2.23', 'PR.Interval..s.-X298.2_2.676', 'PR.Interval..s.-X348.288_3.044', 'PR.Interval..s.-X502.294_2.879', 'QTc..s.-X132.102_0.307', 'QTc..s.-X226.181_2.61', 'QTc..s.-X256.227_2.847', 'QTc..s.-X278.186_2.23', 'QTc..s.-X298.2_2.676', 'QTc..s.-X348.288_3.044', 'QTc..s.-X502.294_2.879', 'P.Amplitude..V.-X132.102_0.307', 'P.Amplitude..V.-X226.181_2.61', 'P.Amplitude..V.-X256.227_2.847', 'P.Amplitude..V.-X278.186_2.23', 'P.Amplitude..V.-X298.2_2.676', 'P.Amplitude..V.-X348.288_3.044', 'P.Amplitude..V.-X502.294_2.879', 'CD3.CD8.IFNg.-X132.102_0.307', 'CD3.CD8.IFNg.-X226.181_2.61', 'CD3.CD8.IFNg.-X256.227_2.847', 'CD3.CD8.IFNg.-X278.186_2.23', 'CD3.CD8.IFNg.-X298.2_2.676', 'CD3.CD8.IFNg.-X348.288_3.044', 'CD3.CD8.IFNg.-X502.294_2.879']\n",
      "[-0.03604405406662564, -0.14729113451917394, -0.13104906077310186, nan, 0.18400267106851487, 0.07752917618196596, -0.2196017368133303, 0.6151279199110122, 0.40111234705228027, 0.13192436040044492, nan, -0.37708565072302563, 0.012416022664974566, 0.48476084538375974, 0.2671857619577308, -0.00867630700778643, 0.06829810901001113, nan, -0.1768631813125695, 0.22985559907978556, 0.05361512791991101, -0.021579532814238044, -0.31123470522803115, -0.2382647385984427, nan, -0.01935483870967742, -0.0834102035441881, -0.3050055617352614, 0.13948832035595105, 0.05361512791991101, 0.1003337041156841, nan, -0.1870967741935484, 0.025787123996485636, 0.11101223581757509, -0.3851373925267222, -0.15886083088623895, 0.0591834468007557, nan, 0.30948937781898933, 0.21650858235620885, -0.4084992794217573, 0.0, -0.037828216334834644, -0.014241210855467161, nan, 0.13662661664463807, -0.04887906707820054, -0.04272363256640148]\n",
      "[0.8500192623961843, 0.4373254804305282, 0.49002348264269824, nan, 0.3303821218292038, 0.6838501920497388, 0.24361445467549586, 0.0002975311762025727, 0.02803385325905332, 0.48710379873943643, nan, 0.03996102483603281, 0.9480799961597814, 0.006629743930305693, 0.15347789017549382, 0.9637059421012134, 0.7198884259266679, nan, 0.3498106678345595, 0.22173879965716026, 0.7784141090658492, 0.9098826280658151, 0.09410301092035385, 0.2048223018665551, nan, 0.9191412148908162, 0.6612348092870152, 0.10123021856615312, 0.46224773674605024, 0.7784141090658492, 0.5978232057695443, nan, 0.322171559226561, 0.892404297386099, 0.5592119516282001, 0.03557998869250684, 0.4017567996350325, 0.7560595796286105, nan, 0.0960604292512382, 0.25048521465907125, 0.025015328191833996, 1.0, 0.8426848144229361, 0.9404601662313644, nan, 0.4715720615963557, 0.7975656042645086, 0.8226283108913942]\n"
     ]
    },
    {
     "name": "stderr",
     "output_type": "stream",
     "text": [
      "C:\\Users\\zyliu\\anaconda3\\envs\\LAB\\lib\\site-packages\\scipy\\stats\\stats.py:4484: SpearmanRConstantInputWarning: An input array is constant; the correlation coefficient is not defined.\n",
      "  warnings.warn(SpearmanRConstantInputWarning())\n"
     ]
    }
   ],
   "source": [
    "import seaborn as sns\n",
    "import numpy as np\n",
    "import pandas as pd\n",
    "import matplotlib.pyplot as plt\n",
    "from scipy.stats import kendalltau, pearsonr, spearmanr\n",
    "\n",
    "def spearsonr_pval(x,y):\n",
    "    return spearmanr(x,y)[1]\n",
    "\n",
    "data_a = pd.read_csv(\"RVB-75DPI-metadata-feature-table.csv\")\n",
    "\n",
    "data_restore = pd.read_csv(\"RVB-mass-restored-both.csv\")\n",
    "data_restore_list = data_restore.filename.to_list()\n",
    "data_restore_list.insert(0, \"MouseID\")\n",
    "\n",
    "# this is metadata info, which is extra baylor information.\n",
    "# careful for the range, [a,b] mean a <= X < b. Also python is 0 based index.\n",
    "data_M = data_a.iloc[:, np.r_[0, 1:8]]\n",
    "data_M = data_M.set_index('MouseID')\n",
    "# this is metabolites, which is features.\n",
    "data_F = data_a[data_restore_list]\n",
    "data_F = data_F.set_index('MouseID')\n",
    "\n",
    "# get the two part of column names: metadata colum name and features column name.\n",
    "M_column_list = data_M.head(0)\n",
    "print(M_column_list)\n",
    "F_column_list = data_F.head(0)\n",
    "print(F_column_list)\n",
    "\n",
    "df_col_list = []\n",
    "df_corr_list = []\n",
    "df_pval_list = []\n",
    "\n",
    "for m_col in M_column_list:\n",
    "    for f_col in F_column_list:\n",
    "        col_1 = data_M[m_col]\n",
    "        col_2 = data_F[f_col]\n",
    "        corr_col_1_2 = col_1.corr(col_2, method='spearman')\n",
    "        corr_pval_col_1_2 = col_1.corr(col_2, method=spearsonr_pval)\n",
    "        df_col_list.append(m_col + \"-\" + f_col)\n",
    "        df_corr_list.append(corr_col_1_2)\n",
    "        df_pval_list.append(corr_pval_col_1_2)\n",
    "\n",
    "print(df_col_list)\n",
    "print(df_corr_list)\n",
    "print(df_pval_list)\n",
    "\n",
    "import statsmodels.api\n",
    "\n",
    "df_final = pd.DataFrame(list(zip(df_col_list, df_corr_list, df_pval_list)), columns=['col_name','corr', 'corr_pval'])\n",
    "\n",
    "df_final['corr'].replace('', float(\"NaN\"), inplace=True)\n",
    "df_final.dropna(subset=['corr'], inplace=True)\n",
    "\n",
    "dr_fdr_pval = statsmodels.stats.multitest.fdrcorrection(list(df_final[\"corr_pval\"]), method='indep')\n",
    "df_final['FDR_rejected'] = dr_fdr_pval[0]\n",
    "df_final['FDR_pval'] = dr_fdr_pval[1]\n",
    "\n",
    "df_final.to_csv('RVB-75DPI-both-corr-pval.csv', index=False)"
   ]
  },
  {
   "cell_type": "code",
   "execution_count": null,
   "id": "d27fc6c8",
   "metadata": {},
   "outputs": [],
   "source": []
  }
 ],
 "metadata": {
  "kernelspec": {
   "display_name": "Python 3",
   "language": "python",
   "name": "python3"
  },
  "language_info": {
   "codemirror_mode": {
    "name": "ipython",
    "version": 3
   },
   "file_extension": ".py",
   "mimetype": "text/x-python",
   "name": "python",
   "nbconvert_exporter": "python",
   "pygments_lexer": "ipython3",
   "version": "3.8.13"
  }
 },
 "nbformat": 4,
 "nbformat_minor": 5
}
