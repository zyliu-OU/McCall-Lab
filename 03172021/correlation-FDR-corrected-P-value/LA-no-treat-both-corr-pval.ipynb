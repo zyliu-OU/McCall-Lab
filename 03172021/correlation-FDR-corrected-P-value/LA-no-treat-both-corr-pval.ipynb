{
 "cells": [
  {
   "cell_type": "code",
   "execution_count": 1,
   "id": "d4c1e65e",
   "metadata": {
    "scrolled": true
   },
   "outputs": [
    {
     "name": "stdout",
     "output_type": "stream",
     "text": [
      "Empty DataFrame\n",
      "Columns: [Heart.Weight..Body.Weight, Liver.Weight..Body.Weight, Ejection.Fraction, PR.Interval..s., QTc..s., P.Amplitude..V., CD3.CD8.IFNg.]\n",
      "Index: []\n",
      "Empty DataFrame\n",
      "Columns: [X102.092_0.611, X114.092_1.761, X280.263_3.169, X368.389_3.90, X385.165_2.771, X387.192_2.843, X430.223_2.769, X679.068_2.179]\n",
      "Index: []\n",
      "['Heart.Weight..Body.Weight-X102.092_0.611', 'Heart.Weight..Body.Weight-X114.092_1.761', 'Heart.Weight..Body.Weight-X280.263_3.169', 'Heart.Weight..Body.Weight-X368.389_3.90', 'Heart.Weight..Body.Weight-X385.165_2.771', 'Heart.Weight..Body.Weight-X387.192_2.843', 'Heart.Weight..Body.Weight-X430.223_2.769', 'Heart.Weight..Body.Weight-X679.068_2.179', 'Liver.Weight..Body.Weight-X102.092_0.611', 'Liver.Weight..Body.Weight-X114.092_1.761', 'Liver.Weight..Body.Weight-X280.263_3.169', 'Liver.Weight..Body.Weight-X368.389_3.90', 'Liver.Weight..Body.Weight-X385.165_2.771', 'Liver.Weight..Body.Weight-X387.192_2.843', 'Liver.Weight..Body.Weight-X430.223_2.769', 'Liver.Weight..Body.Weight-X679.068_2.179', 'Ejection.Fraction-X102.092_0.611', 'Ejection.Fraction-X114.092_1.761', 'Ejection.Fraction-X280.263_3.169', 'Ejection.Fraction-X368.389_3.90', 'Ejection.Fraction-X385.165_2.771', 'Ejection.Fraction-X387.192_2.843', 'Ejection.Fraction-X430.223_2.769', 'Ejection.Fraction-X679.068_2.179', 'PR.Interval..s.-X102.092_0.611', 'PR.Interval..s.-X114.092_1.761', 'PR.Interval..s.-X280.263_3.169', 'PR.Interval..s.-X368.389_3.90', 'PR.Interval..s.-X385.165_2.771', 'PR.Interval..s.-X387.192_2.843', 'PR.Interval..s.-X430.223_2.769', 'PR.Interval..s.-X679.068_2.179', 'QTc..s.-X102.092_0.611', 'QTc..s.-X114.092_1.761', 'QTc..s.-X280.263_3.169', 'QTc..s.-X368.389_3.90', 'QTc..s.-X385.165_2.771', 'QTc..s.-X387.192_2.843', 'QTc..s.-X430.223_2.769', 'QTc..s.-X679.068_2.179', 'P.Amplitude..V.-X102.092_0.611', 'P.Amplitude..V.-X114.092_1.761', 'P.Amplitude..V.-X280.263_3.169', 'P.Amplitude..V.-X368.389_3.90', 'P.Amplitude..V.-X385.165_2.771', 'P.Amplitude..V.-X387.192_2.843', 'P.Amplitude..V.-X430.223_2.769', 'P.Amplitude..V.-X679.068_2.179', 'CD3.CD8.IFNg.-X102.092_0.611', 'CD3.CD8.IFNg.-X114.092_1.761', 'CD3.CD8.IFNg.-X280.263_3.169', 'CD3.CD8.IFNg.-X368.389_3.90', 'CD3.CD8.IFNg.-X385.165_2.771', 'CD3.CD8.IFNg.-X387.192_2.843', 'CD3.CD8.IFNg.-X430.223_2.769', 'CD3.CD8.IFNg.-X679.068_2.179']\n",
      "[0.014745215083922264, -0.13096695307516046, -0.31864709289107773, 0.33110815238961144, -0.05137977491403645, -0.1934052771572687, -0.016688918971250577, -0.10730743291509505, -0.4231396338731459, -0.4131983187141005, -0.4034717037974492, 0.34160455892392966, 0.5980824627783382, -0.5494119345559104, 0.3398242094311665, 0.5717295685877677, -0.2575083050241127, -0.020469462803268886, -0.05583982202447163, -0.010456062291434927, 0.2793991189599454, -0.17106926826608604, 0.3041156840934371, 0.35313027795325425, -0.1911908686485781, -0.5246995994659548, -0.3063744595663179, 0.10746467971716164, 0.14965486492952082, -0.24830098998301875, 0.018689509516028113, 0.5710535077347478, -0.17381216156290527, -0.45767048898178364, -0.3125695216907675, 0.3121245828698554, 0.2043566697428857, -0.13493117867352464, -0.1982202447163515, 0.622573893299094, 0.1538392182369353, 0.3170541792897626, 0.46607341490545046, -0.3721913236929922, -0.15142494217013824, 0.3843778620299711, -0.03982202447163515, -0.03759040254824851, 0.15174990804444466, 0.5339417002936316, 0.4243908103374162, -0.3616334907175151, -0.2955782959491003, 0.2926049888587662, 0.009791922210197332, -0.21765796826216982]\n",
      "[0.9383569192074283, 0.4902978200638236, 0.08612502827554666, 0.07389001898472163, 0.7874382299057624, 0.3058251153594467, 0.9302496281082295, 0.572477455482481, 0.01981659079673045, 0.023237483242262498, 0.027039123919589445, 0.06466542456203504, 0.00048188036930813324, 0.001663174599339656, 0.0661633129979446, 0.0009650426250279215, 0.16950448559593703, 0.9145010743070505, 0.7694609720013508, 0.956267458829717, 0.134844568339741, 0.3660700656009207, 0.10228067785201178, 0.05559796656656017, 0.3115027483863198, 0.002913164116146688, 0.09963018100781318, 0.5719115558495007, 0.4299228043833674, 0.18582091973710155, 0.9219122075209012, 0.0009816430199096676, 0.3583179486673347, 0.01098947633876122, 0.09262649946157406, 0.09311670346451129, 0.27870688051810544, 0.4771422005021966, 0.29370519292189223, 0.00023890742512233383, 0.41698861234232587, 0.0877943130902508, 0.009434800462591576, 0.042828693351263124, 0.42442468066966055, 0.03597594617402594, 0.8345038040366157, 0.8436617034624707, 0.42341952773385616, 0.0023739185979778647, 0.01941714610136327, 0.049574610733181625, 0.11277915861830158, 0.1166176578720872, 0.9590428426668344, 0.24791733594682494]\n"
     ]
    }
   ],
   "source": [
    "import seaborn as sns\n",
    "import numpy as np\n",
    "import pandas as pd\n",
    "import matplotlib.pyplot as plt\n",
    "from scipy.stats import kendalltau, pearsonr, spearmanr\n",
    "\n",
    "def spearsonr_pval(x,y):\n",
    "    return spearmanr(x,y)[1]\n",
    "\n",
    "data_full = pd.read_csv(\"LA-extra-info-M-F-fix-08092022.csv\")\n",
    "data_a = data_full[data_full[\"Treatmentgroup\"].isin([\"Group1C\",\"Group3E\"])]\n",
    "\n",
    "data_restore = pd.read_csv(\"LA-mass-restored-both.csv\")\n",
    "data_restore_list = data_restore.filename.to_list()\n",
    "data_restore_list.insert(0, \"MouseID\")\n",
    "\n",
    "# this is metadata info, which is extra baylor information.\n",
    "# careful for the range, [a,b] mean a <= X < b. Also python is 0 based index.\n",
    "data_M = data_a.iloc[:, np.r_[0, 2:9]]\n",
    "data_M = data_M.set_index('MouseID')\n",
    "# this is metabolites, which is features.\n",
    "data_F = data_a[data_restore_list]\n",
    "data_F = data_F.set_index('MouseID')\n",
    "\n",
    "# get the two part of column names: metadata colum name and features column name.\n",
    "M_column_list = data_M.head(0)\n",
    "print(M_column_list)\n",
    "F_column_list = data_F.head(0)\n",
    "print(F_column_list)\n",
    "\n",
    "df_col_list = []\n",
    "df_corr_list = []\n",
    "df_pval_list = []\n",
    "\n",
    "for m_col in M_column_list:\n",
    "    for f_col in F_column_list:\n",
    "        col_1 = data_M[m_col]\n",
    "        col_2 = data_F[f_col]\n",
    "        corr_col_1_2 = col_1.corr(col_2, method='spearman')\n",
    "        corr_pval_col_1_2 = col_1.corr(col_2, method=spearsonr_pval)\n",
    "        df_col_list.append(m_col + \"-\" + f_col)\n",
    "        df_corr_list.append(corr_col_1_2)\n",
    "        df_pval_list.append(corr_pval_col_1_2)\n",
    "\n",
    "print(df_col_list)\n",
    "print(df_corr_list)\n",
    "print(df_pval_list)\n",
    "\n",
    "import statsmodels.api\n",
    "dr_fdr_pval = statsmodels.stats.multitest.fdrcorrection(df_pval_list, method='indep')\n",
    "df_final = pd.DataFrame(list(zip(df_col_list, df_corr_list, df_pval_list, dr_fdr_pval[0], dr_fdr_pval[1])), columns=['col_name','corr', 'corr_pval', 'FDR_rejected', 'FDR_pval'])\n",
    "\n",
    "df_final.to_csv('LA-no-treat-both-corr-pval.csv', index=False)"
   ]
  },
  {
   "cell_type": "code",
   "execution_count": null,
   "id": "d27fc6c8",
   "metadata": {},
   "outputs": [],
   "source": []
  }
 ],
 "metadata": {
  "kernelspec": {
   "display_name": "Python 3",
   "language": "python",
   "name": "python3"
  },
  "language_info": {
   "codemirror_mode": {
    "name": "ipython",
    "version": 3
   },
   "file_extension": ".py",
   "mimetype": "text/x-python",
   "name": "python",
   "nbconvert_exporter": "python",
   "pygments_lexer": "ipython3",
   "version": "3.8.13"
  }
 },
 "nbformat": 4,
 "nbformat_minor": 5
}
